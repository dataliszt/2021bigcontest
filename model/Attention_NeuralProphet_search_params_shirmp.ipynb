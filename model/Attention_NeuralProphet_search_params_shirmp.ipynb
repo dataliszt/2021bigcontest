{
 "cells": [
  {
   "cell_type": "code",
   "execution_count": null,
   "metadata": {
    "colab": {
     "base_uri": "https://localhost:8080/"
    },
    "executionInfo": {
     "elapsed": 19592,
     "status": "ok",
     "timestamp": 1631665521641,
     "user": {
      "displayName": "Bosang KIM",
      "photoUrl": "https://lh3.googleusercontent.com/a/default-user=s64",
      "userId": "09337160292545321113"
     },
     "user_tz": -540
    },
    "id": "eeK6z1AfetT6",
    "outputId": "b1067be2-9075-4cc4-87ad-c1e3170d6ccd"
   },
   "outputs": [
    {
     "name": "stdout",
     "output_type": "stream",
     "text": [
      "Mounted at /content/drive\n"
     ]
    }
   ],
   "source": [
    "from google.colab import drive\n",
    "drive.mount('/content/drive')"
   ]
  },
  {
   "cell_type": "markdown",
   "metadata": {
    "id": "varRxoB4ilRA"
   },
   "source": [
    "# 모듈 설치"
   ]
  },
  {
   "cell_type": "code",
   "execution_count": null,
   "metadata": {
    "id": "4M4SUkNvdR0Y"
   },
   "outputs": [],
   "source": [
    "# 모델링 모듈\n",
    "!pip install tensorflow-addons\n",
    "!pip install neuralprophet[live]\n",
    "!pip install prophet"
   ]
  },
  {
   "cell_type": "code",
   "execution_count": null,
   "metadata": {
    "id": "cejPtOZ70pjn"
   },
   "outputs": [],
   "source": [
    "# 폰트설치 \n",
    "!sudo apt-get install -y fonts-nanum\n",
    "!sudo fc-cache -fv\n",
    "!rm ~/.cache/matplotlib -rf"
   ]
  },
  {
   "cell_type": "markdown",
   "metadata": {
    "id": "FCqcucf-in1_"
   },
   "source": [
    "# 모듈 및 라이브러리"
   ]
  },
  {
   "cell_type": "code",
   "execution_count": 68,
   "metadata": {
    "executionInfo": {
     "elapsed": 566,
     "status": "ok",
     "timestamp": 1631685746303,
     "user": {
      "displayName": "Bosang KIM",
      "photoUrl": "https://lh3.googleusercontent.com/a/default-user=s64",
      "userId": "09337160292545321113"
     },
     "user_tz": -540
    },
    "id": "oBFoF6ZpsAmE"
   },
   "outputs": [],
   "source": [
    "# 내장 라이브러리\n",
    "import copy\n",
    "import numpy as np\n",
    "import pandas as pd\n",
    "import matplotlib.pyplot as plt\n",
    "import os\n",
    "import math\n",
    "\n",
    "# 외장 라이브러리\n",
    "from typing import collections, List, Tuple, Dict, DefaultDict, NewType\n",
    "from collections import Counter\n",
    "from datetime import datetime, timedelta\n",
    "from timeit import default_timer as timer\n",
    "\n",
    "# sklearn\n",
    "import sklearn\n",
    "from sklearn.preprocessing import MinMaxScaler, StandardScaler\n",
    "\n",
    "# Facebook Prophet - 시계열 모델\n",
    "from fbprophet import Prophet\n",
    "from fbprophet.plot import add_changepoints_to_plot\n",
    "from prophet import Prophet\n",
    "from prophet.plot import plot_plotly, plot_components_plotly\n",
    "from prophet.plot import plot_yearly\n",
    "# Neural Prophet - Advanced Facebook Prophet\n",
    "from neuralprophet import NeuralProphet\n",
    "# 시계열 모델\n",
    "from statsmodels.tsa.arima_model import ARIMA\n",
    "# Attention 모델\n",
    "import keras\n",
    "from tensorflow_addons.layers import MultiHeadAttention"
   ]
  },
  {
   "cell_type": "code",
   "execution_count": 69,
   "metadata": {
    "executionInfo": {
     "elapsed": 15,
     "status": "ok",
     "timestamp": 1631685746303,
     "user": {
      "displayName": "Bosang KIM",
      "photoUrl": "https://lh3.googleusercontent.com/a/default-user=s64",
      "userId": "09337160292545321113"
     },
     "user_tz": -540
    },
    "id": "pWf0AG2jY3d3"
   },
   "outputs": [],
   "source": [
    "# plot 한글\n",
    "import platform\n",
    "from matplotlib import font_manager, rc\n",
    "plt.rcParams['axes.unicode_minus']= False\n",
    "\n",
    "if platform.system() == 'Darwin': # 맥os 사용자의 경우에\n",
    "    plt.style.use('seaborn-darkgrid') \n",
    "    rc('font', family = 'AppleGothic')\n",
    "    \n",
    "elif platform.system() == 'Windows':# 윈도우 사용자의 경우에\n",
    "    path = 'c:/Windows/Fonts/malgun.ttf'\n",
    "    font_name = font_manager.FontProperties(fname=path).get_name()\n",
    "    plt.style.use('seaborn-darkgrid') # https://python-graph-gallery.com/199-matplotlib-style-sheets/\n",
    "    rc('font', family=font_name)\n",
    "\n",
    "elif platform.system() == 'Linux': # colab 사용자의 경우에\n",
    "  # 나눔고딕 폰트\n",
    "  plt.rc('font', family='NanumBarunGothic') \n"
   ]
  },
  {
   "cell_type": "markdown",
   "metadata": {
    "id": "dEfbZtME229Z"
   },
   "source": [
    "# 데이터 로드"
   ]
  },
  {
   "cell_type": "code",
   "execution_count": 79,
   "metadata": {
    "colab": {
     "base_uri": "https://localhost:8080/"
    },
    "executionInfo": {
     "elapsed": 4089,
     "status": "ok",
     "timestamp": 1631685764066,
     "user": {
      "displayName": "Bosang KIM",
      "photoUrl": "https://lh3.googleusercontent.com/a/default-user=s64",
      "userId": "09337160292545321113"
     },
     "user_tz": -540
    },
    "id": "ksA2pPpprx00",
    "outputId": "6e45dc69-9f30-42ac-ad9d-9b4cf3046dc2"
   },
   "outputs": [
    {
     "name": "stdout",
     "output_type": "stream",
     "text": [
      "수산물 어종을 고르세요 (오징어/흰다리새우/연어)흰다리새우\n"
     ]
    }
   ],
   "source": [
    "## 중량 수온 데이터를 합친 dataframe, 품목 별로 불러오기\n",
    "os.chdir('/content/drive/MyDrive/BIGCONTEST/data/real_use')\n",
    "\n",
    "name = input('수산물 어종을 고르세요 (오징어/흰다리새우/연어)')\n",
    "\n",
    "if name == \"오징어\":\n",
    "  data = pd.read_csv(\"./squid_temp1.csv\")\n",
    "  val_df = pd.read_csv(\"./squid_temp2.csv\")\n",
    "elif name == \"흰다리새우\":\n",
    "  data = pd.read_csv(\"./shrimp_temp1.csv\")\n",
    "  val_df = pd.read_csv(\"./shrimp_temp2.csv\")\n",
    "elif name == \"연어\":\n",
    "  data = pd.read_csv(\"./salmon_temp1.csv\")\n",
    "  val_df = pd.read_csv(\"./salmon_temp2.csv\")\n",
    "else:\n",
    "  None"
   ]
  },
  {
   "cell_type": "code",
   "execution_count": 80,
   "metadata": {
    "executionInfo": {
     "elapsed": 3,
     "status": "ok",
     "timestamp": 1631685764067,
     "user": {
      "displayName": "Bosang KIM",
      "photoUrl": "https://lh3.googleusercontent.com/a/default-user=s64",
      "userId": "09337160292545321113"
     },
     "user_tz": -540
    },
    "id": "ehE03E_Urxk2"
   },
   "outputs": [],
   "source": [
    "# 품목별 dataframe을 생성하고, 일자별 거래의 갯수를 리스트 형태로 저장\n",
    "def datasetting(data, p_name):\n",
    "\n",
    "  just_p = pd.DataFrame(columns=data.columns.tolist())\n",
    "  len_list = []\n",
    "  for i, day_time in enumerate(list(Counter(data['REG_DATE']).keys())):\n",
    "    day_df = data[data['REG_DATE']==day_time]\n",
    "    just_p = pd.concat([just_p, day_df[day_df['P_NAME']==p_name]])\n",
    "    len_list.append(len(day_df[day_df['P_NAME']==p_name]))\n",
    "\n",
    "  return just_p, len_list"
   ]
  },
  {
   "cell_type": "code",
   "execution_count": 81,
   "metadata": {
    "executionInfo": {
     "elapsed": 2,
     "status": "ok",
     "timestamp": 1631685764637,
     "user": {
      "displayName": "Bosang KIM",
      "photoUrl": "https://lh3.googleusercontent.com/a/default-user=s64",
      "userId": "09337160292545321113"
     },
     "user_tz": -540
    },
    "id": "DOc3zLLaWYSB"
   },
   "outputs": [],
   "source": [
    "# import type을 multi-hot encoding 하기 위한 방법\n",
    "def data_encoding(df, type_):\n",
    "  tmp = []\n",
    "  for impo in df[type_]:\n",
    "    types = impo.split(',')\n",
    "    for i in types:\n",
    "      tmp.append(i)\n",
    "  return list(set(tmp))"
   ]
  },
  {
   "cell_type": "code",
   "execution_count": 82,
   "metadata": {
    "executionInfo": {
     "elapsed": 553,
     "status": "ok",
     "timestamp": 1631685766031,
     "user": {
      "displayName": "Bosang KIM",
      "photoUrl": "https://lh3.googleusercontent.com/a/default-user=s64",
      "userId": "09337160292545321113"
     },
     "user_tz": -540
    },
    "id": "ODGczewisHSr"
   },
   "outputs": [],
   "source": [
    "train, t_len = datasetting(data, name)\n",
    "validation, v_len = datasetting(val_df, name)"
   ]
  },
  {
   "cell_type": "code",
   "execution_count": 83,
   "metadata": {
    "executionInfo": {
     "elapsed": 3,
     "status": "ok",
     "timestamp": 1631685766031,
     "user": {
      "displayName": "Bosang KIM",
      "photoUrl": "https://lh3.googleusercontent.com/a/default-user=s64",
      "userId": "09337160292545321113"
     },
     "user_tz": -540
    },
    "id": "ysvOWebqGMS4"
   },
   "outputs": [],
   "source": [
    "## 제조국과 수출국에 대하여 multi-hot encoding을 진행하기위해서 모든 나라를 리스트형태로 저장\n",
    "ctry_1 = set(list(set(train['CTRY_1']))+list(set(train['CTRY_2'])))\n",
    "ctry_2 = set(list(set(validation['CTRY_1']))+list(set(validation['CTRY_2'])))\n",
    "con = list(ctry_1) + list(ctry_2)\n",
    "ctry_list = list(set(con))"
   ]
  },
  {
   "cell_type": "code",
   "execution_count": 84,
   "metadata": {
    "executionInfo": {
     "elapsed": 566,
     "status": "ok",
     "timestamp": 1631685766595,
     "user": {
      "displayName": "Bosang KIM",
      "photoUrl": "https://lh3.googleusercontent.com/a/default-user=s64",
      "userId": "09337160292545321113"
     },
     "user_tz": -540
    },
    "id": "djcA3s8PsOCX"
   },
   "outputs": [],
   "source": [
    "## 명목형 변수는 dummy 처리해서 multi-hot 형태로 할당하고, 수치형 변수는 스케일링 작업 진행\n",
    "\n",
    "def data_frame(trains, ctry_list):\n",
    "\n",
    "  p_type = \"P_IMPORT_TYPE\"\n",
    "  import_type = data_encoding(train, p_type)\n",
    "\n",
    "  con = ctry_list\n",
    "  con.sort()\n",
    "  col_con = [f\"country_{co}\" for co in con]\n",
    "  col_imp = [f\"import_{im}\" for im in import_type]\n",
    "  cols = col_con + col_imp + ['weight', 'temp', 'price']\n",
    "  # print(cols)\n",
    "  x_train = pd.DataFrame(columns=cols)\n",
    "  tmp = []\n",
    "  for i in range(len(cols)-1):\n",
    "    tmp.append([])\n",
    "  len_a = len(col_con)\n",
    "  len_b = len(col_imp)\n",
    "  for c1, c2, p in zip(trains['CTRY_1'], trains['CTRY_2'], trains['P_IMPORT_TYPE']):\n",
    "    i = con.index(c1)\n",
    "    j = con.index(c2)\n",
    "    country = np.eye(len_a)[i] + np.eye(len_a)[j] ## 제조국 + 수출국 정보 결합\n",
    "\n",
    "    p_import = np.zeros(len_b)\n",
    "    for ty in p.split(','):\n",
    "      j = import_type.index(ty)\n",
    "      p_import += np.eye(len(p_import))[j] ## import type 정보 결합\n",
    "\n",
    "    row = np.concatenate([country, p_import])\n",
    "\n",
    "    for i, r in enumerate(row):\n",
    "      tmp[i].append(r)\n",
    "\n",
    "  for i, c in enumerate(cols[:-3]): ## 중량, 수온, 가격 이외의 것들만 고려\n",
    "    x_train[c] = tmp[i]\n",
    "\n",
    "  ## 중량과 수온 데이터 스케일링\n",
    "  w = trains['WEIGHT(KG)'].tolist()\n",
    "  w = np.array(w).reshape(-1,1)\n",
    "  t = trains['temp'].tolist()\n",
    "  t = np.array(t).reshape(-1,1)\n",
    "\n",
    "  scaler = MinMaxScaler()\n",
    "  scaler.fit(w)\n",
    "  t_data = scaler.transform(w)\n",
    "\n",
    "  wscaler = MinMaxScaler()\n",
    "  wscaler.fit(t)\n",
    "  w_data = wscaler.transform(t)\n",
    "\n",
    "  x_train['weight'] =  t_data\n",
    "  x_train['temp'] = w_data\n",
    "  x_train['price'] = trains['P_PRICE'].tolist()\n",
    "\n",
    "  return x_train"
   ]
  },
  {
   "cell_type": "code",
   "execution_count": 85,
   "metadata": {
    "executionInfo": {
     "elapsed": 14,
     "status": "ok",
     "timestamp": 1631685766595,
     "user": {
      "displayName": "Bosang KIM",
      "photoUrl": "https://lh3.googleusercontent.com/a/default-user=s64",
      "userId": "09337160292545321113"
     },
     "user_tz": -540
    },
    "id": "BisLfUSqGVfx"
   },
   "outputs": [],
   "source": [
    "x_train = data_frame(train, ctry_list)"
   ]
  },
  {
   "cell_type": "code",
   "execution_count": 86,
   "metadata": {
    "executionInfo": {
     "elapsed": 14,
     "status": "ok",
     "timestamp": 1631685766595,
     "user": {
      "displayName": "Bosang KIM",
      "photoUrl": "https://lh3.googleusercontent.com/a/default-user=s64",
      "userId": "09337160292545321113"
     },
     "user_tz": -540
    },
    "id": "F15luELOQPFD"
   },
   "outputs": [],
   "source": [
    "x_val = data_frame(validation, ctry_list)"
   ]
  },
  {
   "cell_type": "markdown",
   "metadata": {
    "id": "aavAgTkrr5jy"
   },
   "source": [
    "# 학습, 테스트 데이터 분리 "
   ]
  },
  {
   "cell_type": "code",
   "execution_count": 87,
   "metadata": {
    "executionInfo": {
     "elapsed": 14,
     "status": "ok",
     "timestamp": 1631685766596,
     "user": {
      "displayName": "Bosang KIM",
      "photoUrl": "https://lh3.googleusercontent.com/a/default-user=s64",
      "userId": "09337160292545321113"
     },
     "user_tz": -540
    },
    "id": "vitLnhsQOsgw"
   },
   "outputs": [],
   "source": [
    "X_train = np.array(x_train.iloc[:,:-1])\n",
    "Y_train = np.array(x_train.iloc[:,-1])\n",
    "Y_train = Y_train.reshape(-1)"
   ]
  },
  {
   "cell_type": "code",
   "execution_count": 88,
   "metadata": {
    "executionInfo": {
     "elapsed": 14,
     "status": "ok",
     "timestamp": 1631685766596,
     "user": {
      "displayName": "Bosang KIM",
      "photoUrl": "https://lh3.googleusercontent.com/a/default-user=s64",
      "userId": "09337160292545321113"
     },
     "user_tz": -540
    },
    "id": "VQ_zkjmHQcvh"
   },
   "outputs": [],
   "source": [
    "X_val = np.array(x_val.iloc[:,:-1])\n",
    "Y_val = np.array(x_val.iloc[:,-1])\n",
    "Y_val = Y_val.reshape(-1)"
   ]
  },
  {
   "cell_type": "code",
   "execution_count": 89,
   "metadata": {
    "colab": {
     "base_uri": "https://localhost:8080/"
    },
    "executionInfo": {
     "elapsed": 14,
     "status": "ok",
     "timestamp": 1631685766596,
     "user": {
      "displayName": "Bosang KIM",
      "photoUrl": "https://lh3.googleusercontent.com/a/default-user=s64",
      "userId": "09337160292545321113"
     },
     "user_tz": -540
    },
    "id": "0WrDsy9wrC7p",
    "outputId": "46df69b2-e165-46c0-82a4-262336b25250"
   },
   "outputs": [
    {
     "data": {
      "text/plain": [
       "((1613, 20), (1613,), (287, 20), (287,))"
      ]
     },
     "execution_count": 89,
     "metadata": {},
     "output_type": "execute_result"
    }
   ],
   "source": [
    "X_train.shape, Y_train.shape, X_val.shape, Y_val.shape"
   ]
  },
  {
   "cell_type": "code",
   "execution_count": 90,
   "metadata": {
    "executionInfo": {
     "elapsed": 10,
     "status": "ok",
     "timestamp": 1631685766597,
     "user": {
      "displayName": "Bosang KIM",
      "photoUrl": "https://lh3.googleusercontent.com/a/default-user=s64",
      "userId": "09337160292545321113"
     },
     "user_tz": -540
    },
    "id": "x2cDktFKQULw"
   },
   "outputs": [],
   "source": [
    "num_heads=8; head_size=32; ff_dim=None; dropout=0\n",
    "\n",
    "multi = MultiHeadAttention(num_heads=num_heads, head_size=head_size, dropout=dropout)"
   ]
  },
  {
   "cell_type": "code",
   "execution_count": 91,
   "metadata": {
    "executionInfo": {
     "elapsed": 9,
     "status": "ok",
     "timestamp": 1631685766597,
     "user": {
      "displayName": "Bosang KIM",
      "photoUrl": "https://lh3.googleusercontent.com/a/default-user=s64",
      "userId": "09337160292545321113"
     },
     "user_tz": -540
    },
    "id": "I_B_Hma5UcWu"
   },
   "outputs": [],
   "source": [
    "## Attention을 계산하는 모듈 생성\n",
    "\n",
    "class AttentionBlock(keras.Model):\n",
    "    def __init__(self, name='AttentionBlock', num_heads=2, head_size=128, ff_dim=None, dropout=0.2, **kwargs):\n",
    "        super().__init__(name=name, **kwargs)\n",
    "\n",
    "        if ff_dim is None:\n",
    "            ff_dim = head_size\n",
    "\n",
    "        self.attention = MultiHeadAttention(num_heads=num_heads, head_size=head_size, dropout=dropout)\n",
    "        self.attention_dropout = keras.layers.Dropout(dropout)\n",
    "        self.attention_norm = keras.layers.LayerNormalization(epsilon=1e-6)\n",
    "\n",
    "        self.ff_conv1 = keras.layers.Conv1D(filters=ff_dim, kernel_size=1, activation='relu')\n",
    "        self.flatten = keras.layers.Flatten()\n",
    "        self.dense1 = keras.layers.Dense(64, activation='relu')\n",
    "        self.dense2 = keras.layers.Dense(1)\n",
    "        self.ff_dropout = keras.layers.Dropout(dropout)\n",
    "        self.ff_norm = keras.layers.LayerNormalization(epsilon=1e-6)\n",
    "\n",
    "    def build(self, input_shape):\n",
    "        self.ff_conv2 = keras.layers.Conv1D(filters=input_shape[-1], kernel_size=1) \n",
    "\n",
    "    def call(self, inputs):\n",
    "        x = self.attention([inputs, inputs])\n",
    "        x = self.attention_dropout(x)\n",
    "        x = self.attention_norm(inputs + x)\n",
    "        \n",
    "        return x"
   ]
  },
  {
   "cell_type": "code",
   "execution_count": 92,
   "metadata": {
    "executionInfo": {
     "elapsed": 9,
     "status": "ok",
     "timestamp": 1631685766597,
     "user": {
      "displayName": "Bosang KIM",
      "photoUrl": "https://lh3.googleusercontent.com/a/default-user=s64",
      "userId": "09337160292545321113"
     },
     "user_tz": -540
    },
    "id": "63EXf5S0bGl6"
   },
   "outputs": [],
   "source": [
    "## Attention을 여러번 계산하고 마치막 출력으로 Fully_connected layer를 통해 차원 축소\n",
    "\n",
    "class ModelTrunk(keras.Model):\n",
    "    def __init__(self, name='ModelTrunk', num_heads=2, head_size=128, ff_dim=None, num_layers=10, dropout=0, **kwargs):\n",
    "      super().__init__(name=name, **kwargs)\n",
    "      if ff_dim is None:\n",
    "          ff_dim = head_size\n",
    "      self.dropout = dropout\n",
    "      self.attention_layers = [AttentionBlock(num_heads=num_heads, head_size=head_size, ff_dim=ff_dim, dropout=dropout) for _ in range(num_layers)]\n",
    "      self.dense2 = keras.layers.Dense(1, kernel_initializer='he_normal')\n",
    "\n",
    "    def call(self, inputs):\n",
    "      x = inputs\n",
    "      for attention_layer in self.attention_layers:\n",
    "          x = attention_layer(x)\n",
    "      x = self.dense2(x)\n",
    "      return x"
   ]
  },
  {
   "cell_type": "code",
   "execution_count": 93,
   "metadata": {
    "executionInfo": {
     "elapsed": 1,
     "status": "ok",
     "timestamp": 1631685767051,
     "user": {
      "displayName": "Bosang KIM",
      "photoUrl": "https://lh3.googleusercontent.com/a/default-user=s64",
      "userId": "09337160292545321113"
     },
     "user_tz": -540
    },
    "id": "hAgyOpqqbnvo"
   },
   "outputs": [],
   "source": [
    "# Attention 계산 및 FC layer 차원축소 \n",
    "attention_layers = ModelTrunk()"
   ]
  },
  {
   "cell_type": "code",
   "execution_count": 94,
   "metadata": {
    "executionInfo": {
     "elapsed": 2,
     "status": "ok",
     "timestamp": 1631685767503,
     "user": {
      "displayName": "Bosang KIM",
      "photoUrl": "https://lh3.googleusercontent.com/a/default-user=s64",
      "userId": "09337160292545321113"
     },
     "user_tz": -540
    },
    "id": "hM-swSfzcYeA"
   },
   "outputs": [],
   "source": [
    "# 소프트맥스 함수 \n",
    "def softmax(x):\n",
    "    e_x = np.exp(x - np.max(x))\n",
    "    return e_x / e_x.sum()"
   ]
  },
  {
   "cell_type": "code",
   "execution_count": 95,
   "metadata": {
    "executionInfo": {
     "elapsed": 1,
     "status": "ok",
     "timestamp": 1631685767503,
     "user": {
      "displayName": "Bosang KIM",
      "photoUrl": "https://lh3.googleusercontent.com/a/default-user=s64",
      "userId": "09337160292545321113"
     },
     "user_tz": -540
    },
    "id": "U_9vdGYmeajp"
   },
   "outputs": [],
   "source": [
    "# Attention - FC layer 를 통한 가중치 리스트와 가격 리스트 생성\n",
    "def make_weight(x, y,length):\n",
    "    # 날짜별로 attention score 담을 list\n",
    "    weight_score = []\n",
    "    # 날짜별로 p_price 담을 list\n",
    "    p_price = []\n",
    "    final_weight = []\n",
    "\n",
    "    before = 0\n",
    "    for leng in length:\n",
    "      if leng==0:\n",
    "        weight_score.append([[0]])\n",
    "        p_price.append([[0]])\n",
    "      else:\n",
    "        a = np.array(x[before:before+leng])\n",
    "        b = np.array(y[before:before+leng]).tolist()\n",
    "        arr = attention_layers(a)\n",
    "        weight_score.append(np.array(softmax(arr)).tolist()) ## attention score를 softmax 함수를 이용해서 정규화\n",
    "        p_price.append(b)\n",
    "        before += leng\n",
    "\n",
    "    for w in weight_score:\n",
    "        aa = sum(w, [])\n",
    "        final_weight.append(aa)\n",
    "\n",
    "    return final_weight,p_price"
   ]
  },
  {
   "cell_type": "code",
   "execution_count": 96,
   "metadata": {
    "executionInfo": {
     "elapsed": 7008,
     "status": "ok",
     "timestamp": 1631685775030,
     "user": {
      "displayName": "Bosang KIM",
      "photoUrl": "https://lh3.googleusercontent.com/a/default-user=s64",
      "userId": "09337160292545321113"
     },
     "user_tz": -540
    },
    "id": "57oyiGE3edDQ"
   },
   "outputs": [],
   "source": [
    "train_weight, train_price = make_weight(X_train, Y_train, t_len)"
   ]
  },
  {
   "cell_type": "code",
   "execution_count": 97,
   "metadata": {
    "executionInfo": {
     "elapsed": 1805,
     "status": "ok",
     "timestamp": 1631685776831,
     "user": {
      "displayName": "Bosang KIM",
      "photoUrl": "https://lh3.googleusercontent.com/a/default-user=s64",
      "userId": "09337160292545321113"
     },
     "user_tz": -540
    },
    "id": "XADrr1xb-TNe"
   },
   "outputs": [],
   "source": [
    "val_weight, val_price = make_weight(X_val, Y_val,v_len)"
   ]
  },
  {
   "cell_type": "code",
   "execution_count": 98,
   "metadata": {
    "executionInfo": {
     "elapsed": 20,
     "status": "ok",
     "timestamp": 1631685776831,
     "user": {
      "displayName": "Bosang KIM",
      "photoUrl": "https://lh3.googleusercontent.com/a/default-user=s64",
      "userId": "09337160292545321113"
     },
     "user_tz": -540
    },
    "id": "-SKQiLtk-TLG"
   },
   "outputs": [],
   "source": [
    "# 가중치를 이용한 새로운 가격 변수 생성\n",
    "def make_new_price(weight_list, price_list):\n",
    "    new_price = []\n",
    "    new_price_m = 0\n",
    "    new_price_s = 0\n",
    "\n",
    "    for i in range(len(weight_list)):\n",
    "        if weight_list[i]==[0]:\n",
    "            new_price.append(0)\n",
    "        else:\n",
    "            for j in range(len(weight_list[i])):\n",
    "                new_price_m += (weight_list[i][j] * price_list[i][j])\n",
    "                new_price_s += weight_list[i][j]\n",
    "            new_price_sum = new_price_m / new_price_s\n",
    "            new_price.append(new_price_sum)\n",
    "    return new_price"
   ]
  },
  {
   "cell_type": "code",
   "execution_count": 99,
   "metadata": {
    "executionInfo": {
     "elapsed": 19,
     "status": "ok",
     "timestamp": 1631685776831,
     "user": {
      "displayName": "Bosang KIM",
      "photoUrl": "https://lh3.googleusercontent.com/a/default-user=s64",
      "userId": "09337160292545321113"
     },
     "user_tz": -540
    },
    "id": "C5nns4qW-U8J"
   },
   "outputs": [],
   "source": [
    "# attention score의 가중치를 적용한 가중평균 \n",
    "train_price = make_new_price(train_weight, train_price)"
   ]
  },
  {
   "cell_type": "code",
   "execution_count": 100,
   "metadata": {
    "executionInfo": {
     "elapsed": 19,
     "status": "ok",
     "timestamp": 1631685776832,
     "user": {
      "displayName": "Bosang KIM",
      "photoUrl": "https://lh3.googleusercontent.com/a/default-user=s64",
      "userId": "09337160292545321113"
     },
     "user_tz": -540
    },
    "id": "tpvI4xtj-U6S"
   },
   "outputs": [],
   "source": [
    "val_price = make_new_price(val_weight, val_price)"
   ]
  },
  {
   "cell_type": "code",
   "execution_count": 101,
   "metadata": {
    "executionInfo": {
     "elapsed": 19,
     "status": "ok",
     "timestamp": 1631685776832,
     "user": {
      "displayName": "Bosang KIM",
      "photoUrl": "https://lh3.googleusercontent.com/a/default-user=s64",
      "userId": "09337160292545321113"
     },
     "user_tz": -540
    },
    "id": "ForLHshs41IA"
   },
   "outputs": [],
   "source": [
    "trn_lst = np.array([item for item in train_price if item > 0])"
   ]
  },
  {
   "cell_type": "code",
   "execution_count": 102,
   "metadata": {
    "executionInfo": {
     "elapsed": 20,
     "status": "ok",
     "timestamp": 1631685776833,
     "user": {
      "displayName": "Bosang KIM",
      "photoUrl": "https://lh3.googleusercontent.com/a/default-user=s64",
      "userId": "09337160292545321113"
     },
     "user_tz": -540
    },
    "id": "aSzMju_RY3d-"
   },
   "outputs": [],
   "source": [
    "train['REG_DATE'] = pd.to_datetime(train['REG_DATE'])\n",
    "validation['REG_DATE'] = pd.to_datetime(validation['REG_DATE'])"
   ]
  },
  {
   "cell_type": "code",
   "execution_count": 103,
   "metadata": {
    "executionInfo": {
     "elapsed": 19,
     "status": "ok",
     "timestamp": 1631685776833,
     "user": {
      "displayName": "Bosang KIM",
      "photoUrl": "https://lh3.googleusercontent.com/a/default-user=s64",
      "userId": "09337160292545321113"
     },
     "user_tz": -540
    },
    "id": "_N2j5hIL12l_"
   },
   "outputs": [],
   "source": [
    "# 가중평균한 최종 가격 배열로 만들기 \n",
    "ts_train = np.array(train_price)"
   ]
  },
  {
   "cell_type": "markdown",
   "metadata": {
    "id": "HkZygrrEWvdM"
   },
   "source": [
    "# RMSE 함수 (평가지표)"
   ]
  },
  {
   "cell_type": "code",
   "execution_count": 104,
   "metadata": {
    "executionInfo": {
     "elapsed": 19,
     "status": "ok",
     "timestamp": 1631685776833,
     "user": {
      "displayName": "Bosang KIM",
      "photoUrl": "https://lh3.googleusercontent.com/a/default-user=s64",
      "userId": "09337160292545321113"
     },
     "user_tz": -540
    },
    "id": "MPX_UrRcWzMI"
   },
   "outputs": [],
   "source": [
    "def rmse(y: List, yhat:List)->float:\n",
    "  # y값의 갯수\n",
    "  n = len(y)\n",
    "  mse = 0\n",
    "  for i in range(n):\n",
    "    # 실제값에서 예측값 뺀것의 제곱\n",
    "    mse += (y[i] - yhat[i])**2\n",
    "  rmse = (mse/n)**0.5\n",
    "  return rmse"
   ]
  },
  {
   "cell_type": "markdown",
   "metadata": {
    "id": "1OF41nCTgJVE"
   },
   "source": [
    "- validation y : val_price\n"
   ]
  },
  {
   "cell_type": "markdown",
   "metadata": {
    "id": "ZOu3a8ZPdwcl"
   },
   "source": [
    "# Neural Prophet - normal"
   ]
  },
  {
   "cell_type": "code",
   "execution_count": 105,
   "metadata": {
    "colab": {
     "base_uri": "https://localhost:8080/"
    },
    "executionInfo": {
     "elapsed": 18,
     "status": "ok",
     "timestamp": 1631685776833,
     "user": {
      "displayName": "Bosang KIM",
      "photoUrl": "https://lh3.googleusercontent.com/a/default-user=s64",
      "userId": "09337160292545321113"
     },
     "user_tz": -540
    },
    "id": "XBSTreDhDfoU",
    "outputId": "143b70d4-cf82-4130-ced4-6a3a03fc4374"
   },
   "outputs": [
    {
     "name": "stdout",
     "output_type": "stream",
     "text": [
      "(197, 2)\n"
     ]
    }
   ],
   "source": [
    "## 모델 피팅하기 위해서 dataframe 형태 수정\n",
    "df = pd.DataFrame(columns=['ds', 'y'])\n",
    "df['ds'] = train['REG_DATE'].unique()\n",
    "df['y'] = ts_train\n",
    "print(df.shape)"
   ]
  },
  {
   "cell_type": "code",
   "execution_count": 106,
   "metadata": {
    "executionInfo": {
     "elapsed": 14,
     "status": "ok",
     "timestamp": 1631685776834,
     "user": {
      "displayName": "Bosang KIM",
      "photoUrl": "https://lh3.googleusercontent.com/a/default-user=s64",
      "userId": "09337160292545321113"
     },
     "user_tz": -540
    },
    "id": "1DtShIB12v5x"
   },
   "outputs": [],
   "source": [
    "val_date = list(validation['REG_DATE'].unique())"
   ]
  },
  {
   "cell_type": "code",
   "execution_count": 107,
   "metadata": {
    "executionInfo": {
     "elapsed": 14,
     "status": "ok",
     "timestamp": 1631685776834,
     "user": {
      "displayName": "Bosang KIM",
      "photoUrl": "https://lh3.googleusercontent.com/a/default-user=s64",
      "userId": "09337160292545321113"
     },
     "user_tz": -540
    },
    "id": "rh49BK2XK7I9"
   },
   "outputs": [],
   "source": [
    "# hyperparameter \n",
    "freq = 'W-MON' # 시작일이 월요일이면서, 일주일 간격 \n",
    "epochs = 1000"
   ]
  },
  {
   "cell_type": "code",
   "execution_count": 108,
   "metadata": {
    "colab": {
     "base_uri": "https://localhost:8080/",
     "height": 157,
     "referenced_widgets": [
      "a7229ce79fd145289fe3722e8e94d503",
      "df28fc8297b74400a435475f121bf2bb",
      "6db139d629404e6ba1b21254a7fadee2",
      "693cd6f5eaea4511b6467b4faf3e17ad",
      "6c6dd2fd952b497bb0f723f92546a20c",
      "9c79d4f744f14e0baee4dbd3c8f36ec0",
      "5b9b76c6e00645f38d27391bddd98cc9",
      "bbe4dcd87ba54d84a2662406dac07c03",
      "e73c8f2b90584cbc93173f4c0e8c1a1b",
      "1f5c1205a428442c80a0d0d0bc074e29",
      "ef1b4d2bd31b45fbbee02f6d14afa19e"
     ]
    },
    "executionInfo": {
     "elapsed": 44550,
     "status": "ok",
     "timestamp": 1631685821371,
     "user": {
      "displayName": "Bosang KIM",
      "photoUrl": "https://lh3.googleusercontent.com/a/default-user=s64",
      "userId": "09337160292545321113"
     },
     "user_tz": -540
    },
    "id": "KDrYoA9JvD0Z",
    "outputId": "fe37be0e-6660-4c0a-a4d2-e79b7ed2f0d3"
   },
   "outputs": [
    {
     "name": "stderr",
     "output_type": "stream",
     "text": [
      "WARNING: nprophet - fit: Parts of code may break if using other than daily data.\n",
      "INFO: nprophet.utils - set_auto_seasonalities: Disabling weekly seasonality. Run NeuralProphet with weekly_seasonality=True to override this.\n",
      "INFO: nprophet.utils - set_auto_seasonalities: Disabling daily seasonality. Run NeuralProphet with daily_seasonality=True to override this.\n",
      "INFO: nprophet.config - set_auto_batch_epoch: Auto-set batch_size to 8\n"
     ]
    },
    {
     "data": {
      "application/vnd.jupyter.widget-view+json": {
       "model_id": "a7229ce79fd145289fe3722e8e94d503",
       "version_major": 2,
       "version_minor": 0
      },
      "text/plain": [
       "  0%|          | 0/100 [00:00<?, ?it/s]"
      ]
     },
     "metadata": {},
     "output_type": "display_data"
    },
    {
     "name": "stderr",
     "output_type": "stream",
     "text": [
      "INFO: nprophet - _lr_range_test: learning rate range test found optimal lr: 8.11E-01\n",
      "Epoch[1000/1000]: 100%|██████████| 1000/1000 [00:44<00:00, 22.69it/s, SmoothL1Loss=0.000401, MAE=0.0307, RegLoss=0]\n"
     ]
    }
   ],
   "source": [
    "# 모델 학습\n",
    "m = NeuralProphet()\n",
    "metrics = m.fit(df, freq =freq,\n",
    "                epochs=epochs)"
   ]
  },
  {
   "cell_type": "code",
   "execution_count": 109,
   "metadata": {
    "executionInfo": {
     "elapsed": 5,
     "status": "ok",
     "timestamp": 1631685821371,
     "user": {
      "displayName": "Bosang KIM",
      "photoUrl": "https://lh3.googleusercontent.com/a/default-user=s64",
      "userId": "09337160292545321113"
     },
     "user_tz": -540
    },
    "id": "MOxa-bP_DYxx"
   },
   "outputs": [],
   "source": [
    "# 예측 기간 데이터셋 생성\n",
    "val_date = list(validation['REG_DATE'].unique())\n",
    "future = pd.DataFrame(val_date, columns=['ds'])\n",
    "future['y'] = None"
   ]
  },
  {
   "cell_type": "code",
   "execution_count": 110,
   "metadata": {
    "executionInfo": {
     "elapsed": 3,
     "status": "ok",
     "timestamp": 1631685821372,
     "user": {
      "displayName": "Bosang KIM",
      "photoUrl": "https://lh3.googleusercontent.com/a/default-user=s64",
      "userId": "09337160292545321113"
     },
     "user_tz": -540
    },
    "id": "Y1XDuIW8xWb9"
   },
   "outputs": [],
   "source": [
    "# train 데이터의 마지막일 기준으로, 일주일 간격 * 70 의 테스트데이터 생성\n",
    "future = m.make_future_dataframe(df, periods=70)\n",
    "forecast = m.predict(future)"
   ]
  },
  {
   "cell_type": "code",
   "execution_count": 111,
   "metadata": {
    "colab": {
     "base_uri": "https://localhost:8080/",
     "height": 441
    },
    "executionInfo": {
     "elapsed": 529,
     "status": "ok",
     "timestamp": 1631685821898,
     "user": {
      "displayName": "Bosang KIM",
      "photoUrl": "https://lh3.googleusercontent.com/a/default-user=s64",
      "userId": "09337160292545321113"
     },
     "user_tz": -540
    },
    "id": "ph8LmWIBy4hG",
    "outputId": "ad943a80-5d91-47f2-c55b-8b4a7c317915"
   },
   "outputs": [
    {
     "data": {
      "image/png": "[encoded data removed]",
      "text/plain": [
       "<Figure size 720x432 with 1 Axes>"
      ]
     },
     "metadata": {},
     "output_type": "display_data"
    }
   ],
   "source": [
    "forecasts_plot = m.plot(forecast)"
   ]
  },
  {
   "cell_type": "code",
   "execution_count": 112,
   "metadata": {
    "executionInfo": {
     "elapsed": 536,
     "status": "ok",
     "timestamp": 1631685839194,
     "user": {
      "displayName": "Bosang KIM",
      "photoUrl": "https://lh3.googleusercontent.com/a/default-user=s64",
      "userId": "09337160292545321113"
     },
     "user_tz": -540
    },
    "id": "L13N62Ve56n0"
   },
   "outputs": [],
   "source": [
    "# validation 기간에 맞는 예측 데이터 프레임 구성\n",
    "a = pd.DataFrame(columns=['ds', 'y', 'yhat1', 'residual1', 'trend', 'season_yearly'])\n",
    "for i in val_date:\n",
    "  a = a.append(forecast.iloc[forecast.loc[forecast['ds']==i].index])\n",
    "a.reset_index(drop=True, inplace = True)"
   ]
  },
  {
   "cell_type": "code",
   "execution_count": 113,
   "metadata": {
    "colab": {
     "base_uri": "https://localhost:8080/"
    },
    "executionInfo": {
     "elapsed": 5,
     "status": "ok",
     "timestamp": 1631685840753,
     "user": {
      "displayName": "Bosang KIM",
      "photoUrl": "https://lh3.googleusercontent.com/a/default-user=s64",
      "userId": "09337160292545321113"
     },
     "user_tz": -540
    },
    "id": "X9X8Cr1s6Fos",
    "outputId": "04e89b04-a6c1-4380-9b59-af552d306a8a"
   },
   "outputs": [
    {
     "data": {
      "text/plain": [
       "0.45482956734039054"
      ]
     },
     "execution_count": 113,
     "metadata": {},
     "output_type": "execute_result"
    }
   ],
   "source": [
    "# rmse\n",
    "rmse(val_price, a['yhat1'])"
   ]
  },
  {
   "cell_type": "code",
   "execution_count": 115,
   "metadata": {
    "colab": {
     "base_uri": "https://localhost:8080/",
     "height": 865
    },
    "executionInfo": {
     "elapsed": 1355,
     "status": "ok",
     "timestamp": 1631685870836,
     "user": {
      "displayName": "Bosang KIM",
      "photoUrl": "https://lh3.googleusercontent.com/a/default-user=s64",
      "userId": "09337160292545321113"
     },
     "user_tz": -540
    },
    "id": "ItSSc9LqDhtO",
    "outputId": "3755a7a9-46d2-4e4e-ffe6-57877fa1a467"
   },
   "outputs": [
    {
     "data": {
      "image/png": "[encoded data removed]",
      "text/plain": [
       "<Figure size 720x432 with 1 Axes>"
      ]
     },
     "execution_count": 115,
     "metadata": {},
     "output_type": "execute_result"
    },
    {
     "data": {
      "image/png": "[encoded data removed]",
      "text/plain": [
       "<Figure size 720x432 with 1 Axes>"
      ]
     },
     "metadata": {},
     "output_type": "display_data"
    }
   ],
   "source": [
    "m.plot(forecast)"
   ]
  },
  {
   "cell_type": "markdown",
   "metadata": {
    "id": "ExbZEVo5Favr"
   },
   "source": [
    "# Neural Prophet - Trend"
   ]
  },
  {
   "cell_type": "code",
   "execution_count": null,
   "metadata": {
    "colab": {
     "base_uri": "https://localhost:8080/",
     "height": 121,
     "referenced_widgets": [
      "e91aab3972b7488aa1859f7442932b54",
      "712b29c9a92d439fbabcfda7b98777ae",
      "da20787471be4ded8f61427b9793bef3",
      "7f76c0a10f77499894bf4a58953de075",
      "bcc74ea7e5fa46839574fbb4db65faab",
      "b3da476e8b0649e6b5302784129060d8",
      "047168082f774edea49722aa223953d4",
      "8bef42be6f704e2192d23b45b5a33efc",
      "9e1e8fc09f1449d182cd61dcd7afd081",
      "ee197eb2c8a5491993316c05fb644cc2",
      "db954dafe57e42fc91e0f1752f46182a"
     ]
    },
    "executionInfo": {
     "elapsed": 37406,
     "status": "ok",
     "timestamp": 1631648638664,
     "user": {
      "displayName": "Bosang KIM",
      "photoUrl": "https://lh3.googleusercontent.com/a/default-user=s64",
      "userId": "09337160292545321113"
     },
     "user_tz": -540
    },
    "id": "1hoGVPb-Kw81",
    "outputId": "e3de06f1-fa53-4d90-9148-23eda2e96672"
   },
   "outputs": [
    {
     "name": "stderr",
     "output_type": "stream",
     "text": [
      "WARNING: nprophet - fit: Parts of code may break if using other than daily data.\n",
      "INFO: nprophet.config - set_auto_batch_epoch: Auto-set batch_size to 8\n"
     ]
    },
    {
     "data": {
      "application/vnd.jupyter.widget-view+json": {
       "model_id": "e91aab3972b7488aa1859f7442932b54",
       "version_major": 2,
       "version_minor": 0
      },
      "text/plain": [
       "  0%|          | 0/100 [00:00<?, ?it/s]"
      ]
     },
     "metadata": {},
     "output_type": "display_data"
    },
    {
     "name": "stderr",
     "output_type": "stream",
     "text": [
      "INFO: nprophet - _lr_range_test: learning rate range test found optimal lr: 2.85E+00\n",
      "Epoch[1000/1000]: 100%|██████████| 1000/1000 [00:37<00:00, 26.59it/s, SmoothL1Loss=0.000187, MAE=0.0151, RegLoss=0]\n"
     ]
    }
   ],
   "source": [
    "m = NeuralProphet(\n",
    "    n_changepoints=100,\n",
    "    #trend_smoothness=2,\n",
    "    yearly_seasonality=False,\n",
    "    weekly_seasonality=False,\n",
    "    daily_seasonality=False,\n",
    "    epochs =epochs\n",
    ")\n",
    "metrics = m.fit(df, freq=freq)"
   ]
  },
  {
   "cell_type": "code",
   "execution_count": null,
   "metadata": {
    "id": "axZknVS_LMlb"
   },
   "outputs": [],
   "source": [
    "future = m.make_future_dataframe(df, periods=70, n_historic_predictions=len(df))\n",
    "forecast = m.predict(future)"
   ]
  },
  {
   "cell_type": "code",
   "execution_count": null,
   "metadata": {
    "id": "oPjitmwuMfBF"
   },
   "outputs": [],
   "source": [
    "a = pd.DataFrame(columns=['ds', 'y', 'yhat1', 'residual1', 'trend', 'season_yearly'])\n",
    "for i in val_date:\n",
    "  a = a.append(forecast.iloc[forecast.loc[forecast['ds']==i].index])\n",
    "a.reset_index(drop=True, inplace = True)"
   ]
  },
  {
   "cell_type": "code",
   "execution_count": null,
   "metadata": {
    "colab": {
     "base_uri": "https://localhost:8080/"
    },
    "executionInfo": {
     "elapsed": 13,
     "status": "ok",
     "timestamp": 1631648638665,
     "user": {
      "displayName": "Bosang KIM",
      "photoUrl": "https://lh3.googleusercontent.com/a/default-user=s64",
      "userId": "09337160292545321113"
     },
     "user_tz": -540
    },
    "id": "IlGqcD2lMiF_",
    "outputId": "08f97bfb-911a-41b2-fa82-f27f041d3067"
   },
   "outputs": [
    {
     "data": {
      "text/plain": [
       "0.4773086533393265"
      ]
     },
     "execution_count": 41,
     "metadata": {},
     "output_type": "execute_result"
    }
   ],
   "source": [
    "# rmse\n",
    "rmse(val_price, a['yhat1'])"
   ]
  },
  {
   "cell_type": "markdown",
   "metadata": {
    "id": "8W1CfYTJMjQF"
   },
   "source": [
    "# Nueral Prophet - Seasonality"
   ]
  },
  {
   "cell_type": "code",
   "execution_count": null,
   "metadata": {
    "colab": {
     "base_uri": "https://localhost:8080/",
     "height": 175,
     "referenced_widgets": [
      "69b2c4ae5a594e128174ea12202c26f7",
      "46ca4faeed3c4861843ebaec1f53cc12",
      "35a443c17d964bc0bd1401cc17109079",
      "6a7c06aefb1f40b0a3499064688b832a",
      "3e7e8b4ca56b4e4da36b7f259fb30bff",
      "45ff2ceed3934765af555f93491283dc",
      "171d94b620314cc18ef774a32e2c3ec1",
      "6a8845bae68a4e578dc81fe7643321ff",
      "b360bd14caac4d06ae2521660338f604",
      "0aa57a61180d4e17bb3a885b5c57e9ff",
      "0c55af4793674ae4a60315300da11182"
     ]
    },
    "executionInfo": {
     "elapsed": 9328,
     "status": "ok",
     "timestamp": 1631648647985,
     "user": {
      "displayName": "Bosang KIM",
      "photoUrl": "https://lh3.googleusercontent.com/a/default-user=s64",
      "userId": "09337160292545321113"
     },
     "user_tz": -540
    },
    "id": "bsrdiuVCNXI7",
    "outputId": "dda53b49-acb1-42db-da2d-6ec26a364723"
   },
   "outputs": [
    {
     "name": "stderr",
     "output_type": "stream",
     "text": [
      "INFO: nprophet.config - __post_init__: Note: Fourier-based seasonality regularization is experimental.\n",
      "WARNING: nprophet - fit: Parts of code may break if using other than daily data.\n",
      "INFO: nprophet.utils - set_auto_seasonalities: Disabling daily seasonality. Run NeuralProphet with daily_seasonality=True to override this.\n",
      "INFO: nprophet.config - set_auto_batch_epoch: Auto-set batch_size to 8\n",
      "INFO: nprophet.config - set_auto_batch_epoch: Auto-set epochs to 162\n"
     ]
    },
    {
     "data": {
      "application/vnd.jupyter.widget-view+json": {
       "model_id": "69b2c4ae5a594e128174ea12202c26f7",
       "version_major": 2,
       "version_minor": 0
      },
      "text/plain": [
       "  0%|          | 0/100 [00:00<?, ?it/s]"
      ]
     },
     "metadata": {},
     "output_type": "display_data"
    },
    {
     "name": "stderr",
     "output_type": "stream",
     "text": [
      "INFO: nprophet - _lr_range_test: learning rate range test found optimal lr: 1.52E-01\n",
      "Epoch[162/162]: 100%|██████████| 162/162 [00:08<00:00, 18.13it/s, SmoothL1Loss=0.000258, MAE=0.0186, RegLoss=4.33e-5]\n"
     ]
    }
   ],
   "source": [
    "m = NeuralProphet(\n",
    "    n_changepoints=200,\n",
    "    yearly_seasonality=15,\n",
    "    weekly_seasonality=3,\n",
    "    seasonality_reg=30,\n",
    "    num_hidden_layers=20,\n",
    ")\n",
    "metrics = m.fit(df, freq=freq)"
   ]
  },
  {
   "cell_type": "code",
   "execution_count": null,
   "metadata": {
    "id": "LTkMEpLWN3AN"
   },
   "outputs": [],
   "source": [
    "future = m.make_future_dataframe(df, periods=70, n_historic_predictions=len(df))\n",
    "forecast = m.predict(future)"
   ]
  },
  {
   "cell_type": "code",
   "execution_count": null,
   "metadata": {
    "id": "r5JLW9f5ORQ3"
   },
   "outputs": [],
   "source": [
    "a = pd.DataFrame(columns=['ds', 'y', 'yhat1', 'residual1', 'trend', 'season_yearly'])\n",
    "for i in val_date:\n",
    "  a = a.append(forecast.iloc[forecast.loc[forecast['ds']==i].index])\n",
    "a.reset_index(drop=True, inplace = True)"
   ]
  },
  {
   "cell_type": "code",
   "execution_count": null,
   "metadata": {
    "colab": {
     "base_uri": "https://localhost:8080/"
    },
    "executionInfo": {
     "elapsed": 16,
     "status": "ok",
     "timestamp": 1631648647987,
     "user": {
      "displayName": "Bosang KIM",
      "photoUrl": "https://lh3.googleusercontent.com/a/default-user=s64",
      "userId": "09337160292545321113"
     },
     "user_tz": -540
    },
    "id": "-XGWV1bHOSf9",
    "outputId": "6cb3f201-c8a7-41d7-dfd5-a50ae5ccbf4d"
   },
   "outputs": [
    {
     "data": {
      "text/plain": [
       "0.47643042900295485"
      ]
     },
     "execution_count": 45,
     "metadata": {},
     "output_type": "execute_result"
    }
   ],
   "source": [
    "# rmse\n",
    "rmse(val_price, a['yhat1'])"
   ]
  },
  {
   "cell_type": "markdown",
   "metadata": {
    "id": "bx1VmIzRR8tI"
   },
   "source": [
    "# 최적 하이퍼 파라미터\n"
   ]
  },
  {
   "cell_type": "code",
   "execution_count": null,
   "metadata": {
    "id": "VW8XKfK8UL3p"
   },
   "outputs": [],
   "source": [
    "## neural prophet\n",
    "epochs = 1000\n",
    "# batch_size = 64\n",
    "learning_rate = 0.005\n",
    "\n",
    "\n",
    "# AR net \n",
    "n_forecasts = 52 # 예측 기간의 크기  # future_periods랑 같아야한다. \n",
    "num_hidden_layers = 20 # AR-net compelxity 조절 \n",
    "ar_sparsity = 0.8  # 0-1, 0에 가까울수록 sparse함 \n",
    "\n",
    "# d_hidden = 64 \n",
    "# trend_smoothness = 0.5\n",
    "n_changepoints = 200 # 변화점(changepoint)의 갯수 설정 \n",
    "changepoints_range = 1.0 # 변화점을 전체 데이터셋에서 몇 퍼센트 감지할지\n",
    "trend_reg = 0.03\n",
    "seasonality_reg=30\n",
    "\n",
    "#n_lags = 5  # >error : lambda delay가 없다"
   ]
  },
  {
   "cell_type": "code",
   "execution_count": null,
   "metadata": {
    "colab": {
     "base_uri": "https://localhost:8080/",
     "height": 621
    },
    "executionInfo": {
     "elapsed": 56364,
     "status": "ok",
     "timestamp": 1631648704339,
     "user": {
      "displayName": "Bosang KIM",
      "photoUrl": "https://lh3.googleusercontent.com/a/default-user=s64",
      "userId": "09337160292545321113"
     },
     "user_tz": -540
    },
    "id": "ZT9Z-nFXWnOh",
    "outputId": "8e5a8e49-2c41-4d08-bbf1-ad5b3ba7a915"
   },
   "outputs": [
    {
     "data": {
      "image/png": "[encoded data removed]",
      "text/plain": [
       "<Figure size 864x576 with 2 Axes>"
      ]
     },
     "metadata": {
      "needs_background": "light"
     },
     "output_type": "display_data"
    },
    {
     "name": "stderr",
     "output_type": "stream",
     "text": [
      "\r",
      "Epoch[1000/1000]: 100%|██████████| 1000/1000 [00:56<00:00, 17.84it/s, SmoothL1Loss=0.000319, MAE=0.0191, RegLoss=0.000391, MAE_val=0.0485, SmoothL1Loss_val=0.000287]\n"
     ]
    },
    {
     "data": {
      "text/plain": [
       "<neuralprophet.forecaster.NeuralProphet at 0x7f7d73c597d0>"
      ]
     },
     "execution_count": 47,
     "metadata": {},
     "output_type": "execute_result"
    }
   ],
   "source": [
    "nprophet = NeuralProphet(\n",
    "            yearly_seasonality=False, \n",
    "            weekly_seasonality=True, \n",
    "            daily_seasonality=True,\n",
    "            learning_rate=learning_rate, \n",
    "            changepoints_range=changepoints_range, \n",
    "            n_forecasts=n_forecasts,\n",
    "            ar_sparsity=ar_sparsity, \n",
    "            n_changepoints=n_changepoints, \n",
    "            growth='logistic', \n",
    "            seasonality_mode='multiplicative', \n",
    "            trend_reg=trend_reg,\n",
    "            num_hidden_layers=num_hidden_layers,\n",
    "            seasonality_reg = seasonality_reg\n",
    "        )\n",
    "\n",
    "nprophet.fit(df, plot_live_loss=True, epochs=epochs, freq=freq, validate_each_epoch=True, valid_p=0.1)\n",
    "nprophet.highlight_nth_step_ahead_of_each_forecast(step_number=nprophet.n_forecasts)"
   ]
  },
  {
   "cell_type": "code",
   "execution_count": null,
   "metadata": {
    "colab": {
     "base_uri": "https://localhost:8080/",
     "height": 222
    },
    "executionInfo": {
     "elapsed": 514,
     "status": "ok",
     "timestamp": 1631648704844,
     "user": {
      "displayName": "Bosang KIM",
      "photoUrl": "https://lh3.googleusercontent.com/a/default-user=s64",
      "userId": "09337160292545321113"
     },
     "user_tz": -540
    },
    "id": "a1hG0JP_WstA",
    "outputId": "3888e194-f78e-4008-dcb6-1254d1e27951"
   },
   "outputs": [
    {
     "name": "stderr",
     "output_type": "stream",
     "text": [
      "WARNING: nprophet - make_future_dataframe: Insufficient data for 300 historic forecasts, reduced to 197.\n"
     ]
    },
    {
     "data": {
      "text/html": [
       "<div>\n",
       "<style scoped>\n",
       "    .dataframe tbody tr th:only-of-type {\n",
       "        vertical-align: middle;\n",
       "    }\n",
       "\n",
       "    .dataframe tbody tr th {\n",
       "        vertical-align: top;\n",
       "    }\n",
       "\n",
       "    .dataframe thead th {\n",
       "        text-align: right;\n",
       "    }\n",
       "</style>\n",
       "<table border=\"1\" class=\"dataframe\">\n",
       "  <thead>\n",
       "    <tr style=\"text-align: right;\">\n",
       "      <th></th>\n",
       "      <th>ds</th>\n",
       "      <th>y</th>\n",
       "      <th>yhat1</th>\n",
       "      <th>residual1</th>\n",
       "      <th>trend</th>\n",
       "      <th>season_weekly</th>\n",
       "      <th>season_daily</th>\n",
       "    </tr>\n",
       "  </thead>\n",
       "  <tbody>\n",
       "    <tr>\n",
       "      <th>244</th>\n",
       "      <td>2020-11-30</td>\n",
       "      <td>NaN</td>\n",
       "      <td>10.340155</td>\n",
       "      <td>NaN</td>\n",
       "      <td>10.340155</td>\n",
       "      <td>1.438495e-09</td>\n",
       "      <td>-1.053066e-07</td>\n",
       "    </tr>\n",
       "    <tr>\n",
       "      <th>245</th>\n",
       "      <td>2020-12-07</td>\n",
       "      <td>NaN</td>\n",
       "      <td>10.341570</td>\n",
       "      <td>NaN</td>\n",
       "      <td>10.341570</td>\n",
       "      <td>1.438495e-09</td>\n",
       "      <td>-1.053066e-07</td>\n",
       "    </tr>\n",
       "    <tr>\n",
       "      <th>246</th>\n",
       "      <td>2020-12-14</td>\n",
       "      <td>NaN</td>\n",
       "      <td>10.342986</td>\n",
       "      <td>NaN</td>\n",
       "      <td>10.342986</td>\n",
       "      <td>1.438495e-09</td>\n",
       "      <td>-1.053066e-07</td>\n",
       "    </tr>\n",
       "    <tr>\n",
       "      <th>247</th>\n",
       "      <td>2020-12-21</td>\n",
       "      <td>NaN</td>\n",
       "      <td>10.344402</td>\n",
       "      <td>NaN</td>\n",
       "      <td>10.344402</td>\n",
       "      <td>1.438495e-09</td>\n",
       "      <td>-1.053066e-07</td>\n",
       "    </tr>\n",
       "    <tr>\n",
       "      <th>248</th>\n",
       "      <td>2020-12-28</td>\n",
       "      <td>NaN</td>\n",
       "      <td>10.345818</td>\n",
       "      <td>NaN</td>\n",
       "      <td>10.345818</td>\n",
       "      <td>1.438495e-09</td>\n",
       "      <td>-1.053066e-07</td>\n",
       "    </tr>\n",
       "  </tbody>\n",
       "</table>\n",
       "</div>"
      ],
      "text/plain": [
       "            ds   y      yhat1  ...      trend  season_weekly  season_daily\n",
       "244 2020-11-30 NaN  10.340155  ...  10.340155   1.438495e-09 -1.053066e-07\n",
       "245 2020-12-07 NaN  10.341570  ...  10.341570   1.438495e-09 -1.053066e-07\n",
       "246 2020-12-14 NaN  10.342986  ...  10.342986   1.438495e-09 -1.053066e-07\n",
       "247 2020-12-21 NaN  10.344402  ...  10.344402   1.438495e-09 -1.053066e-07\n",
       "248 2020-12-28 NaN  10.345818  ...  10.345818   1.438495e-09 -1.053066e-07\n",
       "\n",
       "[5 rows x 7 columns]"
      ]
     },
     "execution_count": 48,
     "metadata": {},
     "output_type": "execute_result"
    }
   ],
   "source": [
    "future = nprophet.make_future_dataframe(df, periods=52, n_historic_predictions=300)\n",
    "forecast = nprophet.predict(future)\n",
    "forecast[['ds', 'y', 'yhat1', 'trend']].tail(5)\n",
    "forecast.tail()"
   ]
  },
  {
   "cell_type": "code",
   "execution_count": null,
   "metadata": {
    "id": "r0rrvCLwXQzE"
   },
   "outputs": [],
   "source": [
    "a = pd.DataFrame(columns=['ds', 'y', 'yhat1', 'residual1', 'trend', 'season_yearly'])\n",
    "for i in val_date:\n",
    "  a = a.append(forecast.iloc[forecast.loc[forecast['ds']==i].index])\n",
    "a.reset_index(drop=True, inplace = True)"
   ]
  },
  {
   "cell_type": "code",
   "execution_count": null,
   "metadata": {
    "colab": {
     "base_uri": "https://localhost:8080/"
    },
    "executionInfo": {
     "elapsed": 17,
     "status": "ok",
     "timestamp": 1631648704845,
     "user": {
      "displayName": "Bosang KIM",
      "photoUrl": "https://lh3.googleusercontent.com/a/default-user=s64",
      "userId": "09337160292545321113"
     },
     "user_tz": -540
    },
    "id": "jJDYBprqXhpn",
    "outputId": "54c35f80-af6f-4470-ffef-7041a622be22"
   },
   "outputs": [
    {
     "data": {
      "text/plain": [
       "0.4675106640389403"
      ]
     },
     "execution_count": 50,
     "metadata": {},
     "output_type": "execute_result"
    }
   ],
   "source": [
    "rmse(val_price, a['yhat1'])"
   ]
  },
  {
   "cell_type": "markdown",
   "metadata": {
    "id": "WDjQswhMbawt"
   },
   "source": [
    "# 최적 하이퍼 파라미터 ver.2"
   ]
  },
  {
   "cell_type": "code",
   "execution_count": null,
   "metadata": {
    "id": "tKkuuxdFeBR2"
   },
   "outputs": [],
   "source": [
    "## neural prophet\n",
    "epochs = 1000\n",
    "# batch_size = 64\n",
    "learning_rate = 0.01\n",
    "\n",
    "\n",
    "# AR net \n",
    "n_forecasts = 52 # 예측 기간의 크기  # future_periods랑 같아야한다. \n",
    "num_hidden_layers = 20 # AR-net compelxity 조절 \n",
    "ar_sparsity = 0.8  # 0-1, 0에 가까울수록 sparse함 \n",
    "\n",
    "# d_hidden = 64 \n",
    "# trend_smoothness = 0.5\n",
    "n_changepoints = 200 # 변화점(changepoint)의 갯수 설정 \n",
    "changepoints_range = 1.0 # 변화점을 전체 데이터셋에서 몇 퍼센트 감지할지\n",
    "trend_reg = 0.03\n",
    "seasonality_reg=30\n",
    "\n",
    "#n_lags = 5  # >error : lambda delay가 없다"
   ]
  },
  {
   "cell_type": "code",
   "execution_count": null,
   "metadata": {
    "colab": {
     "base_uri": "https://localhost:8080/",
     "height": 621
    },
    "executionInfo": {
     "elapsed": 56080,
     "status": "ok",
     "timestamp": 1631648760912,
     "user": {
      "displayName": "Bosang KIM",
      "photoUrl": "https://lh3.googleusercontent.com/a/default-user=s64",
      "userId": "09337160292545321113"
     },
     "user_tz": -540
    },
    "id": "MhfymZbxeDDN",
    "outputId": "de6f8e0f-16bf-4ecb-d41e-c31241ccdf3b"
   },
   "outputs": [
    {
     "data": {
      "image/png": "[encoded data removed]",
      "text/plain": [
       "<Figure size 864x576 with 2 Axes>"
      ]
     },
     "metadata": {
      "needs_background": "light"
     },
     "output_type": "display_data"
    },
    {
     "name": "stderr",
     "output_type": "stream",
     "text": [
      "Epoch[1000/1000]: 100%|██████████| 1000/1000 [00:56<00:00, 17.80it/s, SmoothL1Loss=0.0019, MAE=0.0691, RegLoss=0.311, MAE_val=0.0997, SmoothL1Loss_val=0.00117]\n"
     ]
    },
    {
     "data": {
      "text/plain": [
       "<neuralprophet.forecaster.NeuralProphet at 0x7f7d72b13d90>"
      ]
     },
     "execution_count": 52,
     "metadata": {},
     "output_type": "execute_result"
    }
   ],
   "source": [
    "nprophet = NeuralProphet(\n",
    "            yearly_seasonality=False, \n",
    "            weekly_seasonality=True, \n",
    "            daily_seasonality=True,\n",
    "            learning_rate=learning_rate, \n",
    "            changepoints_range=changepoints_range, \n",
    "            n_forecasts=n_forecasts,\n",
    "            ar_sparsity=ar_sparsity, \n",
    "            n_changepoints=n_changepoints, \n",
    "            growth='logistic', \n",
    "            seasonality_mode='multiplicative', \n",
    "            trend_reg=trend_reg,\n",
    "            num_hidden_layers=num_hidden_layers,\n",
    "            seasonality_reg = seasonality_reg\n",
    "        )\n",
    "\n",
    "nprophet.fit(df, plot_live_loss=True, epochs=epochs, freq=freq, validate_each_epoch=True, valid_p=0.1)\n",
    "nprophet.highlight_nth_step_ahead_of_each_forecast(step_number=nprophet.n_forecasts)"
   ]
  },
  {
   "cell_type": "code",
   "execution_count": null,
   "metadata": {
    "colab": {
     "base_uri": "https://localhost:8080/",
     "height": 222
    },
    "executionInfo": {
     "elapsed": 11,
     "status": "ok",
     "timestamp": 1631648760912,
     "user": {
      "displayName": "Bosang KIM",
      "photoUrl": "https://lh3.googleusercontent.com/a/default-user=s64",
      "userId": "09337160292545321113"
     },
     "user_tz": -540
    },
    "id": "FYE2yWjCeFw9",
    "outputId": "a0271224-31b8-42e2-8bd6-39604163a7cb"
   },
   "outputs": [
    {
     "name": "stderr",
     "output_type": "stream",
     "text": [
      "WARNING: nprophet - make_future_dataframe: Insufficient data for 300 historic forecasts, reduced to 197.\n"
     ]
    },
    {
     "data": {
      "text/html": [
       "<div>\n",
       "<style scoped>\n",
       "    .dataframe tbody tr th:only-of-type {\n",
       "        vertical-align: middle;\n",
       "    }\n",
       "\n",
       "    .dataframe tbody tr th {\n",
       "        vertical-align: top;\n",
       "    }\n",
       "\n",
       "    .dataframe thead th {\n",
       "        text-align: right;\n",
       "    }\n",
       "</style>\n",
       "<table border=\"1\" class=\"dataframe\">\n",
       "  <thead>\n",
       "    <tr style=\"text-align: right;\">\n",
       "      <th></th>\n",
       "      <th>ds</th>\n",
       "      <th>y</th>\n",
       "      <th>yhat1</th>\n",
       "      <th>trend</th>\n",
       "    </tr>\n",
       "  </thead>\n",
       "  <tbody>\n",
       "    <tr>\n",
       "      <th>244</th>\n",
       "      <td>2020-11-30</td>\n",
       "      <td>NaN</td>\n",
       "      <td>10.554707</td>\n",
       "      <td>-67.926414</td>\n",
       "    </tr>\n",
       "    <tr>\n",
       "      <th>245</th>\n",
       "      <td>2020-12-07</td>\n",
       "      <td>NaN</td>\n",
       "      <td>10.558991</td>\n",
       "      <td>-68.067780</td>\n",
       "    </tr>\n",
       "    <tr>\n",
       "      <th>246</th>\n",
       "      <td>2020-12-14</td>\n",
       "      <td>NaN</td>\n",
       "      <td>10.563269</td>\n",
       "      <td>-68.209137</td>\n",
       "    </tr>\n",
       "    <tr>\n",
       "      <th>247</th>\n",
       "      <td>2020-12-21</td>\n",
       "      <td>NaN</td>\n",
       "      <td>10.567554</td>\n",
       "      <td>-68.350502</td>\n",
       "    </tr>\n",
       "    <tr>\n",
       "      <th>248</th>\n",
       "      <td>2020-12-28</td>\n",
       "      <td>NaN</td>\n",
       "      <td>10.571839</td>\n",
       "      <td>-68.491867</td>\n",
       "    </tr>\n",
       "  </tbody>\n",
       "</table>\n",
       "</div>"
      ],
      "text/plain": [
       "            ds   y      yhat1      trend\n",
       "244 2020-11-30 NaN  10.554707 -67.926414\n",
       "245 2020-12-07 NaN  10.558991 -68.067780\n",
       "246 2020-12-14 NaN  10.563269 -68.209137\n",
       "247 2020-12-21 NaN  10.567554 -68.350502\n",
       "248 2020-12-28 NaN  10.571839 -68.491867"
      ]
     },
     "execution_count": 53,
     "metadata": {},
     "output_type": "execute_result"
    }
   ],
   "source": [
    "future = nprophet.make_future_dataframe(df, periods=52, n_historic_predictions=300)\n",
    "forecast = nprophet.predict(future)\n",
    "forecast[['ds', 'y', 'yhat1', 'trend']].tail(5)"
   ]
  },
  {
   "cell_type": "code",
   "execution_count": null,
   "metadata": {
    "colab": {
     "base_uri": "https://localhost:8080/"
    },
    "executionInfo": {
     "elapsed": 572,
     "status": "ok",
     "timestamp": 1631648761479,
     "user": {
      "displayName": "Bosang KIM",
      "photoUrl": "https://lh3.googleusercontent.com/a/default-user=s64",
      "userId": "09337160292545321113"
     },
     "user_tz": -540
    },
    "id": "12kli-UzeGFv",
    "outputId": "c7c623b3-4239-43e7-8ad1-9ded032c77d3"
   },
   "outputs": [
    {
     "data": {
      "text/plain": [
       "0.47151938729457143"
      ]
     },
     "execution_count": 54,
     "metadata": {},
     "output_type": "execute_result"
    }
   ],
   "source": [
    "# validation 날짜와 맞는 데이터 추출하기 위한 데이터 프레임\n",
    "a = pd.DataFrame(columns=['ds', 'y', 'yhat1', 'residual1', 'trend', 'season_yearly'])\n",
    "\n",
    "for i in val_date:\n",
    "  a = a.append(forecast.iloc[forecast.loc[forecast['ds']==i].index])\n",
    "a.reset_index(drop=True, inplace = True)\n",
    "rmse(val_price, a['yhat1'])"
   ]
  },
  {
   "cell_type": "markdown",
   "metadata": {
    "id": "EQIqhKwvuI3B"
   },
   "source": [
    "# 최적 하이퍼 파라미터 ver.3"
   ]
  },
  {
   "cell_type": "code",
   "execution_count": null,
   "metadata": {
    "id": "nYOWuU-NeLUI"
   },
   "outputs": [],
   "source": [
    "## neural prophet\n",
    "epochs = 1000\n",
    "# batch_size = 64\n",
    "learning_rate = [0.005, 0.01, 0.015]\n",
    "\n",
    "\n",
    "# AR net \n",
    "n_forecasts = 52 # 예측 기간의 크기  # future_periods랑 같아야한다. \n",
    "num_hidden_layers = [10,20,30] # AR-net compelxity 조절 \n",
    "ar_sparsity = 0.8  # 0-1, 0에 가까울수록 sparse함 \n",
    "\n",
    "# d_hidden = 64 \n",
    "# trend_smoothness = 0.5\n",
    "n_changepoints = [100, 150, 200] # 변화점(changepoint)의 갯수 설정 \n",
    "changepoints_range = 1.0 # 변화점을 전체 데이터셋에서 몇 퍼센트 감지할지\n",
    "trend_reg = 0.03\n",
    "seasonality_reg=30\n",
    "\n",
    "#n_lags = 5  # >error : lambda delay가 없다"
   ]
  },
  {
   "cell_type": "code",
   "execution_count": null,
   "metadata": {
    "colab": {
     "base_uri": "https://localhost:8080/"
    },
    "executionInfo": {
     "elapsed": 1423398,
     "status": "ok",
     "timestamp": 1631650184860,
     "user": {
      "displayName": "Bosang KIM",
      "photoUrl": "https://lh3.googleusercontent.com/a/default-user=s64",
      "userId": "09337160292545321113"
     },
     "user_tz": -540
    },
    "id": "xkC6cpJ1fJ8V",
    "outputId": "710af736-6260-4764-9e1b-758cd27e6a61"
   },
   "outputs": [
    {
     "name": "stderr",
     "output_type": "stream",
     "text": [
      "WARNING: nprophet - __init__: Changing n_forecasts to 1. Without lags, the forecast can be computed for any future time, independent of lagged values\n",
      "ERROR: nprophet.config - __post_init__: Invalid trend growth 'logistic'. Set to 'linear'\n",
      "INFO: nprophet.config - __post_init__: Note: Trend changepoint regularization is experimental.\n",
      "INFO: nprophet.config - __post_init__: Note: Fourier-based seasonality regularization is experimental.\n",
      "WARNING: nprophet - fit: Parts of code may break if using other than daily data.\n",
      "INFO: nprophet.config - set_auto_batch_epoch: Auto-set batch_size to 8\n",
      "Epoch[1000/1000]: 100%|██████████| 1000/1000 [00:52<00:00, 18.98it/s, SmoothL1Loss=0.000362, MAE=0.0224, RegLoss=0.000377, MAE_val=0.0567, SmoothL1Loss_val=0.00039]\n",
      "WARNING: nprophet - make_future_dataframe: Insufficient data for 300 historic forecasts, reduced to 197.\n",
      "WARNING: nprophet - __init__: Changing n_forecasts to 1. Without lags, the forecast can be computed for any future time, independent of lagged values\n",
      "ERROR: nprophet.config - __post_init__: Invalid trend growth 'logistic'. Set to 'linear'\n",
      "INFO: nprophet.config - __post_init__: Note: Trend changepoint regularization is experimental.\n",
      "INFO: nprophet.config - __post_init__: Note: Fourier-based seasonality regularization is experimental.\n",
      "WARNING: nprophet - fit: Parts of code may break if using other than daily data.\n",
      "INFO: nprophet.config - set_auto_batch_epoch: Auto-set batch_size to 8\n"
     ]
    },
    {
     "name": "stdout",
     "output_type": "stream",
     "text": [
      "52.933971294\n"
     ]
    },
    {
     "name": "stderr",
     "output_type": "stream",
     "text": [
      "Epoch[1000/1000]: 100%|██████████| 1000/1000 [00:52<00:00, 18.90it/s, SmoothL1Loss=0.000353, MAE=0.0214, RegLoss=0.000396, MAE_val=0.0516, SmoothL1Loss_val=0.000323]\n",
      "WARNING: nprophet - make_future_dataframe: Insufficient data for 300 historic forecasts, reduced to 197.\n",
      "WARNING: nprophet - __init__: Changing n_forecasts to 1. Without lags, the forecast can be computed for any future time, independent of lagged values\n",
      "ERROR: nprophet.config - __post_init__: Invalid trend growth 'logistic'. Set to 'linear'\n",
      "INFO: nprophet.config - __post_init__: Note: Trend changepoint regularization is experimental.\n",
      "INFO: nprophet.config - __post_init__: Note: Fourier-based seasonality regularization is experimental.\n",
      "WARNING: nprophet - fit: Parts of code may break if using other than daily data.\n",
      "INFO: nprophet.config - set_auto_batch_epoch: Auto-set batch_size to 8\n"
     ]
    },
    {
     "name": "stdout",
     "output_type": "stream",
     "text": [
      "106.07806996299996\n"
     ]
    },
    {
     "name": "stderr",
     "output_type": "stream",
     "text": [
      "Epoch[1000/1000]: 100%|██████████| 1000/1000 [00:52<00:00, 19.06it/s, SmoothL1Loss=0.000324, MAE=0.0196, RegLoss=0.000385, MAE_val=0.0453, SmoothL1Loss_val=0.000251]\n",
      "WARNING: nprophet - make_future_dataframe: Insufficient data for 300 historic forecasts, reduced to 197.\n",
      "WARNING: nprophet - __init__: Changing n_forecasts to 1. Without lags, the forecast can be computed for any future time, independent of lagged values\n",
      "ERROR: nprophet.config - __post_init__: Invalid trend growth 'logistic'. Set to 'linear'\n",
      "INFO: nprophet.config - __post_init__: Note: Trend changepoint regularization is experimental.\n",
      "INFO: nprophet.config - __post_init__: Note: Fourier-based seasonality regularization is experimental.\n",
      "WARNING: nprophet - fit: Parts of code may break if using other than daily data.\n",
      "INFO: nprophet.config - set_auto_batch_epoch: Auto-set batch_size to 8\n"
     ]
    },
    {
     "name": "stdout",
     "output_type": "stream",
     "text": [
      "158.7692674079999\n"
     ]
    },
    {
     "name": "stderr",
     "output_type": "stream",
     "text": [
      "Epoch[1000/1000]: 100%|██████████| 1000/1000 [00:51<00:00, 19.31it/s, SmoothL1Loss=0.00191, MAE=0.0713, RegLoss=0.311, MAE_val=0.113, SmoothL1Loss_val=0.00149]\n",
      "WARNING: nprophet - make_future_dataframe: Insufficient data for 300 historic forecasts, reduced to 197.\n",
      "WARNING: nprophet - __init__: Changing n_forecasts to 1. Without lags, the forecast can be computed for any future time, independent of lagged values\n",
      "ERROR: nprophet.config - __post_init__: Invalid trend growth 'logistic'. Set to 'linear'\n",
      "INFO: nprophet.config - __post_init__: Note: Trend changepoint regularization is experimental.\n",
      "INFO: nprophet.config - __post_init__: Note: Fourier-based seasonality regularization is experimental.\n",
      "WARNING: nprophet - fit: Parts of code may break if using other than daily data.\n",
      "INFO: nprophet.config - set_auto_batch_epoch: Auto-set batch_size to 8\n"
     ]
    },
    {
     "name": "stdout",
     "output_type": "stream",
     "text": [
      "52.025409602999844\n"
     ]
    },
    {
     "name": "stderr",
     "output_type": "stream",
     "text": [
      "Epoch[1000/1000]: 100%|██████████| 1000/1000 [00:52<00:00, 18.96it/s, SmoothL1Loss=0.000386, MAE=0.0235, RegLoss=0.000466, MAE_val=0.0521, SmoothL1Loss_val=0.000328]\n",
      "WARNING: nprophet - make_future_dataframe: Insufficient data for 300 historic forecasts, reduced to 197.\n",
      "WARNING: nprophet - __init__: Changing n_forecasts to 1. Without lags, the forecast can be computed for any future time, independent of lagged values\n",
      "ERROR: nprophet.config - __post_init__: Invalid trend growth 'logistic'. Set to 'linear'\n",
      "INFO: nprophet.config - __post_init__: Note: Trend changepoint regularization is experimental.\n",
      "INFO: nprophet.config - __post_init__: Note: Fourier-based seasonality regularization is experimental.\n",
      "WARNING: nprophet - fit: Parts of code may break if using other than daily data.\n",
      "INFO: nprophet.config - set_auto_batch_epoch: Auto-set batch_size to 8\n"
     ]
    },
    {
     "name": "stdout",
     "output_type": "stream",
     "text": [
      "105.02423975199986\n"
     ]
    },
    {
     "name": "stderr",
     "output_type": "stream",
     "text": [
      "Epoch[1000/1000]: 100%|██████████| 1000/1000 [00:52<00:00, 18.87it/s, SmoothL1Loss=0.00195, MAE=0.0717, RegLoss=0.311, MAE_val=0.101, SmoothL1Loss_val=0.0012]\n",
      "WARNING: nprophet - make_future_dataframe: Insufficient data for 300 historic forecasts, reduced to 197.\n",
      "WARNING: nprophet - __init__: Changing n_forecasts to 1. Without lags, the forecast can be computed for any future time, independent of lagged values\n",
      "ERROR: nprophet.config - __post_init__: Invalid trend growth 'logistic'. Set to 'linear'\n",
      "INFO: nprophet.config - __post_init__: Note: Trend changepoint regularization is experimental.\n",
      "INFO: nprophet.config - __post_init__: Note: Fourier-based seasonality regularization is experimental.\n",
      "WARNING: nprophet - fit: Parts of code may break if using other than daily data.\n",
      "INFO: nprophet.config - set_auto_batch_epoch: Auto-set batch_size to 8\n"
     ]
    },
    {
     "name": "stdout",
     "output_type": "stream",
     "text": [
      "158.22784341800002\n"
     ]
    },
    {
     "name": "stderr",
     "output_type": "stream",
     "text": [
      "Epoch[1000/1000]: 100%|██████████| 1000/1000 [00:52<00:00, 19.19it/s, SmoothL1Loss=0.000383, MAE=0.0229, RegLoss=0.000409, MAE_val=0.0543, SmoothL1Loss_val=0.000358]\n",
      "WARNING: nprophet - make_future_dataframe: Insufficient data for 300 historic forecasts, reduced to 197.\n",
      "WARNING: nprophet - __init__: Changing n_forecasts to 1. Without lags, the forecast can be computed for any future time, independent of lagged values\n",
      "ERROR: nprophet.config - __post_init__: Invalid trend growth 'logistic'. Set to 'linear'\n",
      "INFO: nprophet.config - __post_init__: Note: Trend changepoint regularization is experimental.\n",
      "INFO: nprophet.config - __post_init__: Note: Fourier-based seasonality regularization is experimental.\n",
      "WARNING: nprophet - fit: Parts of code may break if using other than daily data.\n",
      "INFO: nprophet.config - set_auto_batch_epoch: Auto-set batch_size to 8\n"
     ]
    },
    {
     "name": "stdout",
     "output_type": "stream",
     "text": [
      "52.32066238900006\n"
     ]
    },
    {
     "name": "stderr",
     "output_type": "stream",
     "text": [
      "Epoch[1000/1000]: 100%|██████████| 1000/1000 [00:52<00:00, 19.15it/s, SmoothL1Loss=0.000392, MAE=0.0237, RegLoss=0.000494, MAE_val=0.0469, SmoothL1Loss_val=0.000267]\n",
      "WARNING: nprophet - make_future_dataframe: Insufficient data for 300 historic forecasts, reduced to 197.\n",
      "WARNING: nprophet - __init__: Changing n_forecasts to 1. Without lags, the forecast can be computed for any future time, independent of lagged values\n",
      "ERROR: nprophet.config - __post_init__: Invalid trend growth 'logistic'. Set to 'linear'\n",
      "INFO: nprophet.config - __post_init__: Note: Trend changepoint regularization is experimental.\n",
      "INFO: nprophet.config - __post_init__: Note: Fourier-based seasonality regularization is experimental.\n",
      "WARNING: nprophet - fit: Parts of code may break if using other than daily data.\n",
      "INFO: nprophet.config - set_auto_batch_epoch: Auto-set batch_size to 8\n"
     ]
    },
    {
     "name": "stdout",
     "output_type": "stream",
     "text": [
      "104.76735418700014\n"
     ]
    },
    {
     "name": "stderr",
     "output_type": "stream",
     "text": [
      "Epoch[1000/1000]: 100%|██████████| 1000/1000 [00:52<00:00, 19.20it/s, SmoothL1Loss=0.000355, MAE=0.021, RegLoss=0.000442, MAE_val=0.0423, SmoothL1Loss_val=0.00022]\n",
      "WARNING: nprophet - make_future_dataframe: Insufficient data for 300 historic forecasts, reduced to 197.\n",
      "WARNING: nprophet - __init__: Changing n_forecasts to 1. Without lags, the forecast can be computed for any future time, independent of lagged values\n",
      "ERROR: nprophet.config - __post_init__: Invalid trend growth 'logistic'. Set to 'linear'\n",
      "INFO: nprophet.config - __post_init__: Note: Trend changepoint regularization is experimental.\n",
      "INFO: nprophet.config - __post_init__: Note: Fourier-based seasonality regularization is experimental.\n",
      "WARNING: nprophet - fit: Parts of code may break if using other than daily data.\n",
      "INFO: nprophet.config - set_auto_batch_epoch: Auto-set batch_size to 8\n"
     ]
    },
    {
     "name": "stdout",
     "output_type": "stream",
     "text": [
      "157.06882887300003\n"
     ]
    },
    {
     "name": "stderr",
     "output_type": "stream",
     "text": [
      "Epoch[1000/1000]: 100%|██████████| 1000/1000 [00:51<00:00, 19.27it/s, SmoothL1Loss=0.00205, MAE=0.0747, RegLoss=0.311, MAE_val=0.111, SmoothL1Loss_val=0.00144]\n",
      "WARNING: nprophet - make_future_dataframe: Insufficient data for 300 historic forecasts, reduced to 197.\n",
      "WARNING: nprophet - __init__: Changing n_forecasts to 1. Without lags, the forecast can be computed for any future time, independent of lagged values\n",
      "ERROR: nprophet.config - __post_init__: Invalid trend growth 'logistic'. Set to 'linear'\n",
      "INFO: nprophet.config - __post_init__: Note: Trend changepoint regularization is experimental.\n",
      "INFO: nprophet.config - __post_init__: Note: Fourier-based seasonality regularization is experimental.\n",
      "WARNING: nprophet - fit: Parts of code may break if using other than daily data.\n",
      "INFO: nprophet.config - set_auto_batch_epoch: Auto-set batch_size to 8\n"
     ]
    },
    {
     "name": "stdout",
     "output_type": "stream",
     "text": [
      "52.14204595900014\n"
     ]
    },
    {
     "name": "stderr",
     "output_type": "stream",
     "text": [
      "Epoch[1000/1000]: 100%|██████████| 1000/1000 [00:52<00:00, 19.21it/s, SmoothL1Loss=0.00186, MAE=0.0687, RegLoss=0.31, MAE_val=0.101, SmoothL1Loss_val=0.0012]\n",
      "WARNING: nprophet - make_future_dataframe: Insufficient data for 300 historic forecasts, reduced to 197.\n",
      "WARNING: nprophet - __init__: Changing n_forecasts to 1. Without lags, the forecast can be computed for any future time, independent of lagged values\n",
      "ERROR: nprophet.config - __post_init__: Invalid trend growth 'logistic'. Set to 'linear'\n",
      "INFO: nprophet.config - __post_init__: Note: Trend changepoint regularization is experimental.\n",
      "INFO: nprophet.config - __post_init__: Note: Fourier-based seasonality regularization is experimental.\n",
      "WARNING: nprophet - fit: Parts of code may break if using other than daily data.\n",
      "INFO: nprophet.config - set_auto_batch_epoch: Auto-set batch_size to 8\n"
     ]
    },
    {
     "name": "stdout",
     "output_type": "stream",
     "text": [
      "104.42290021600002\n"
     ]
    },
    {
     "name": "stderr",
     "output_type": "stream",
     "text": [
      "Epoch[1000/1000]: 100%|██████████| 1000/1000 [00:52<00:00, 18.97it/s, SmoothL1Loss=0.00192, MAE=0.0702, RegLoss=0.311, MAE_val=0.101, SmoothL1Loss_val=0.00119]\n",
      "WARNING: nprophet - make_future_dataframe: Insufficient data for 300 historic forecasts, reduced to 197.\n",
      "WARNING: nprophet - __init__: Changing n_forecasts to 1. Without lags, the forecast can be computed for any future time, independent of lagged values\n",
      "ERROR: nprophet.config - __post_init__: Invalid trend growth 'logistic'. Set to 'linear'\n",
      "INFO: nprophet.config - __post_init__: Note: Trend changepoint regularization is experimental.\n",
      "INFO: nprophet.config - __post_init__: Note: Fourier-based seasonality regularization is experimental.\n",
      "WARNING: nprophet - fit: Parts of code may break if using other than daily data.\n",
      "INFO: nprophet.config - set_auto_batch_epoch: Auto-set batch_size to 8\n"
     ]
    },
    {
     "name": "stdout",
     "output_type": "stream",
     "text": [
      "157.37273146200005\n"
     ]
    },
    {
     "name": "stderr",
     "output_type": "stream",
     "text": [
      "Epoch[1000/1000]: 100%|██████████| 1000/1000 [00:52<00:00, 18.94it/s, SmoothL1Loss=0.000363, MAE=0.0209, RegLoss=0.000358, MAE_val=0.0382, SmoothL1Loss_val=0.000182]\n",
      "WARNING: nprophet - make_future_dataframe: Insufficient data for 300 historic forecasts, reduced to 197.\n",
      "WARNING: nprophet - __init__: Changing n_forecasts to 1. Without lags, the forecast can be computed for any future time, independent of lagged values\n",
      "ERROR: nprophet.config - __post_init__: Invalid trend growth 'logistic'. Set to 'linear'\n",
      "INFO: nprophet.config - __post_init__: Note: Trend changepoint regularization is experimental.\n",
      "INFO: nprophet.config - __post_init__: Note: Fourier-based seasonality regularization is experimental.\n",
      "WARNING: nprophet - fit: Parts of code may break if using other than daily data.\n",
      "INFO: nprophet.config - set_auto_batch_epoch: Auto-set batch_size to 8\n"
     ]
    },
    {
     "name": "stdout",
     "output_type": "stream",
     "text": [
      "53.035092150999844\n"
     ]
    },
    {
     "name": "stderr",
     "output_type": "stream",
     "text": [
      "Epoch[1000/1000]: 100%|██████████| 1000/1000 [00:52<00:00, 18.95it/s, SmoothL1Loss=0.000364, MAE=0.0211, RegLoss=0.000404, MAE_val=0.0504, SmoothL1Loss_val=0.00031]\n",
      "WARNING: nprophet - make_future_dataframe: Insufficient data for 300 historic forecasts, reduced to 197.\n",
      "WARNING: nprophet - __init__: Changing n_forecasts to 1. Without lags, the forecast can be computed for any future time, independent of lagged values\n",
      "ERROR: nprophet.config - __post_init__: Invalid trend growth 'logistic'. Set to 'linear'\n",
      "INFO: nprophet.config - __post_init__: Note: Trend changepoint regularization is experimental.\n",
      "INFO: nprophet.config - __post_init__: Note: Fourier-based seasonality regularization is experimental.\n",
      "WARNING: nprophet - fit: Parts of code may break if using other than daily data.\n",
      "INFO: nprophet.config - set_auto_batch_epoch: Auto-set batch_size to 8\n"
     ]
    },
    {
     "name": "stdout",
     "output_type": "stream",
     "text": [
      "106.01828134599987\n"
     ]
    },
    {
     "name": "stderr",
     "output_type": "stream",
     "text": [
      "Epoch[1000/1000]: 100%|██████████| 1000/1000 [00:52<00:00, 19.01it/s, SmoothL1Loss=0.000359, MAE=0.0206, RegLoss=0.00039, MAE_val=0.057, SmoothL1Loss_val=0.000394]\n",
      "WARNING: nprophet - make_future_dataframe: Insufficient data for 300 historic forecasts, reduced to 197.\n",
      "WARNING: nprophet - __init__: Changing n_forecasts to 1. Without lags, the forecast can be computed for any future time, independent of lagged values\n",
      "ERROR: nprophet.config - __post_init__: Invalid trend growth 'logistic'. Set to 'linear'\n",
      "INFO: nprophet.config - __post_init__: Note: Trend changepoint regularization is experimental.\n",
      "INFO: nprophet.config - __post_init__: Note: Fourier-based seasonality regularization is experimental.\n",
      "WARNING: nprophet - fit: Parts of code may break if using other than daily data.\n",
      "INFO: nprophet.config - set_auto_batch_epoch: Auto-set batch_size to 8\n"
     ]
    },
    {
     "name": "stdout",
     "output_type": "stream",
     "text": [
      "158.84323250199986\n"
     ]
    },
    {
     "name": "stderr",
     "output_type": "stream",
     "text": [
      "Epoch[1000/1000]: 100%|██████████| 1000/1000 [00:52<00:00, 18.99it/s, SmoothL1Loss=0.00187, MAE=0.0693, RegLoss=0.311, MAE_val=0.0991, SmoothL1Loss_val=0.00116]\n",
      "WARNING: nprophet - make_future_dataframe: Insufficient data for 300 historic forecasts, reduced to 197.\n",
      "WARNING: nprophet - __init__: Changing n_forecasts to 1. Without lags, the forecast can be computed for any future time, independent of lagged values\n",
      "ERROR: nprophet.config - __post_init__: Invalid trend growth 'logistic'. Set to 'linear'\n",
      "INFO: nprophet.config - __post_init__: Note: Trend changepoint regularization is experimental.\n",
      "INFO: nprophet.config - __post_init__: Note: Fourier-based seasonality regularization is experimental.\n",
      "WARNING: nprophet - fit: Parts of code may break if using other than daily data.\n",
      "INFO: nprophet.config - set_auto_batch_epoch: Auto-set batch_size to 8\n"
     ]
    },
    {
     "name": "stdout",
     "output_type": "stream",
     "text": [
      "52.895757468000056\n"
     ]
    },
    {
     "name": "stderr",
     "output_type": "stream",
     "text": [
      "Epoch[1000/1000]: 100%|██████████| 1000/1000 [00:53<00:00, 18.78it/s, SmoothL1Loss=0.00185, MAE=0.0684, RegLoss=0.31, MAE_val=0.0986, SmoothL1Loss_val=0.00115]\n",
      "WARNING: nprophet - make_future_dataframe: Insufficient data for 300 historic forecasts, reduced to 197.\n",
      "WARNING: nprophet - __init__: Changing n_forecasts to 1. Without lags, the forecast can be computed for any future time, independent of lagged values\n",
      "ERROR: nprophet.config - __post_init__: Invalid trend growth 'logistic'. Set to 'linear'\n",
      "INFO: nprophet.config - __post_init__: Note: Trend changepoint regularization is experimental.\n",
      "INFO: nprophet.config - __post_init__: Note: Fourier-based seasonality regularization is experimental.\n",
      "WARNING: nprophet - fit: Parts of code may break if using other than daily data.\n",
      "INFO: nprophet.config - set_auto_batch_epoch: Auto-set batch_size to 8\n"
     ]
    },
    {
     "name": "stdout",
     "output_type": "stream",
     "text": [
      "106.37130369300007\n"
     ]
    },
    {
     "name": "stderr",
     "output_type": "stream",
     "text": [
      "Epoch[1000/1000]: 100%|██████████| 1000/1000 [00:52<00:00, 19.04it/s, SmoothL1Loss=0.00202, MAE=0.0724, RegLoss=0.311, MAE_val=0.101, SmoothL1Loss_val=0.00119]\n",
      "WARNING: nprophet - make_future_dataframe: Insufficient data for 300 historic forecasts, reduced to 197.\n",
      "WARNING: nprophet - __init__: Changing n_forecasts to 1. Without lags, the forecast can be computed for any future time, independent of lagged values\n",
      "ERROR: nprophet.config - __post_init__: Invalid trend growth 'logistic'. Set to 'linear'\n",
      "INFO: nprophet.config - __post_init__: Note: Trend changepoint regularization is experimental.\n",
      "INFO: nprophet.config - __post_init__: Note: Fourier-based seasonality regularization is experimental.\n",
      "WARNING: nprophet - fit: Parts of code may break if using other than daily data.\n",
      "INFO: nprophet.config - set_auto_batch_epoch: Auto-set batch_size to 8\n"
     ]
    },
    {
     "name": "stdout",
     "output_type": "stream",
     "text": [
      "159.12872367399996\n"
     ]
    },
    {
     "name": "stderr",
     "output_type": "stream",
     "text": [
      "Epoch[1000/1000]: 100%|██████████| 1000/1000 [00:52<00:00, 19.00it/s, SmoothL1Loss=0.000368, MAE=0.0208, RegLoss=0.000337, MAE_val=0.0489, SmoothL1Loss_val=0.000291]\n",
      "WARNING: nprophet - make_future_dataframe: Insufficient data for 300 historic forecasts, reduced to 197.\n",
      "WARNING: nprophet - __init__: Changing n_forecasts to 1. Without lags, the forecast can be computed for any future time, independent of lagged values\n",
      "ERROR: nprophet.config - __post_init__: Invalid trend growth 'logistic'. Set to 'linear'\n",
      "INFO: nprophet.config - __post_init__: Note: Trend changepoint regularization is experimental.\n",
      "INFO: nprophet.config - __post_init__: Note: Fourier-based seasonality regularization is experimental.\n",
      "WARNING: nprophet - fit: Parts of code may break if using other than daily data.\n",
      "INFO: nprophet.config - set_auto_batch_epoch: Auto-set batch_size to 8\n"
     ]
    },
    {
     "name": "stdout",
     "output_type": "stream",
     "text": [
      "52.86190606900004\n"
     ]
    },
    {
     "name": "stderr",
     "output_type": "stream",
     "text": [
      "Epoch[1000/1000]: 100%|██████████| 1000/1000 [00:52<00:00, 19.01it/s, SmoothL1Loss=0.000371, MAE=0.0211, RegLoss=0.000367, MAE_val=0.0478, SmoothL1Loss_val=0.000278]\n",
      "WARNING: nprophet - make_future_dataframe: Insufficient data for 300 historic forecasts, reduced to 197.\n",
      "WARNING: nprophet - __init__: Changing n_forecasts to 1. Without lags, the forecast can be computed for any future time, independent of lagged values\n",
      "ERROR: nprophet.config - __post_init__: Invalid trend growth 'logistic'. Set to 'linear'\n",
      "INFO: nprophet.config - __post_init__: Note: Trend changepoint regularization is experimental.\n",
      "INFO: nprophet.config - __post_init__: Note: Fourier-based seasonality regularization is experimental.\n",
      "WARNING: nprophet - fit: Parts of code may break if using other than daily data.\n",
      "INFO: nprophet.config - set_auto_batch_epoch: Auto-set batch_size to 8\n"
     ]
    },
    {
     "name": "stdout",
     "output_type": "stream",
     "text": [
      "105.67323825000017\n"
     ]
    },
    {
     "name": "stderr",
     "output_type": "stream",
     "text": [
      "Epoch[1000/1000]: 100%|██████████| 1000/1000 [00:52<00:00, 18.99it/s, SmoothL1Loss=0.00194, MAE=0.0713, RegLoss=0.311, MAE_val=0.0972, SmoothL1Loss_val=0.00111]\n",
      "WARNING: nprophet - make_future_dataframe: Insufficient data for 300 historic forecasts, reduced to 197.\n",
      "WARNING: nprophet - __init__: Changing n_forecasts to 1. Without lags, the forecast can be computed for any future time, independent of lagged values\n",
      "ERROR: nprophet.config - __post_init__: Invalid trend growth 'logistic'. Set to 'linear'\n",
      "INFO: nprophet.config - __post_init__: Note: Trend changepoint regularization is experimental.\n",
      "INFO: nprophet.config - __post_init__: Note: Fourier-based seasonality regularization is experimental.\n",
      "WARNING: nprophet - fit: Parts of code may break if using other than daily data.\n",
      "INFO: nprophet.config - set_auto_batch_epoch: Auto-set batch_size to 8\n"
     ]
    },
    {
     "name": "stdout",
     "output_type": "stream",
     "text": [
      "158.55150319300014\n"
     ]
    },
    {
     "name": "stderr",
     "output_type": "stream",
     "text": [
      "Epoch[1000/1000]: 100%|██████████| 1000/1000 [00:52<00:00, 19.09it/s, SmoothL1Loss=0.000368, MAE=0.0213, RegLoss=0.000335, MAE_val=0.0512, SmoothL1Loss_val=0.000318]\n",
      "WARNING: nprophet - make_future_dataframe: Insufficient data for 300 historic forecasts, reduced to 197.\n",
      "WARNING: nprophet - __init__: Changing n_forecasts to 1. Without lags, the forecast can be computed for any future time, independent of lagged values\n",
      "ERROR: nprophet.config - __post_init__: Invalid trend growth 'logistic'. Set to 'linear'\n",
      "INFO: nprophet.config - __post_init__: Note: Trend changepoint regularization is experimental.\n",
      "INFO: nprophet.config - __post_init__: Note: Fourier-based seasonality regularization is experimental.\n",
      "WARNING: nprophet - fit: Parts of code may break if using other than daily data.\n",
      "INFO: nprophet.config - set_auto_batch_epoch: Auto-set batch_size to 8\n"
     ]
    },
    {
     "name": "stdout",
     "output_type": "stream",
     "text": [
      "52.59313934299985\n"
     ]
    },
    {
     "name": "stderr",
     "output_type": "stream",
     "text": [
      "Epoch[1000/1000]: 100%|██████████| 1000/1000 [00:52<00:00, 19.12it/s, SmoothL1Loss=0.0019, MAE=0.0698, RegLoss=0.311, MAE_val=0.103, SmoothL1Loss_val=0.00123]\n",
      "WARNING: nprophet - make_future_dataframe: Insufficient data for 300 historic forecasts, reduced to 197.\n",
      "WARNING: nprophet - __init__: Changing n_forecasts to 1. Without lags, the forecast can be computed for any future time, independent of lagged values\n",
      "ERROR: nprophet.config - __post_init__: Invalid trend growth 'logistic'. Set to 'linear'\n",
      "INFO: nprophet.config - __post_init__: Note: Trend changepoint regularization is experimental.\n",
      "INFO: nprophet.config - __post_init__: Note: Fourier-based seasonality regularization is experimental.\n",
      "WARNING: nprophet - fit: Parts of code may break if using other than daily data.\n",
      "INFO: nprophet.config - set_auto_batch_epoch: Auto-set batch_size to 8\n"
     ]
    },
    {
     "name": "stdout",
     "output_type": "stream",
     "text": [
      "105.10876235799992\n"
     ]
    },
    {
     "name": "stderr",
     "output_type": "stream",
     "text": [
      "Epoch[1000/1000]: 100%|██████████| 1000/1000 [00:52<00:00, 19.04it/s, SmoothL1Loss=0.00193, MAE=0.0699, RegLoss=0.311, MAE_val=0.0985, SmoothL1Loss_val=0.00114]\n",
      "WARNING: nprophet - make_future_dataframe: Insufficient data for 300 historic forecasts, reduced to 197.\n",
      "WARNING: nprophet - __init__: Changing n_forecasts to 1. Without lags, the forecast can be computed for any future time, independent of lagged values\n",
      "ERROR: nprophet.config - __post_init__: Invalid trend growth 'logistic'. Set to 'linear'\n",
      "INFO: nprophet.config - __post_init__: Note: Trend changepoint regularization is experimental.\n",
      "INFO: nprophet.config - __post_init__: Note: Fourier-based seasonality regularization is experimental.\n",
      "WARNING: nprophet - fit: Parts of code may break if using other than daily data.\n",
      "INFO: nprophet.config - set_auto_batch_epoch: Auto-set batch_size to 8\n"
     ]
    },
    {
     "name": "stdout",
     "output_type": "stream",
     "text": [
      "157.85193365300006\n"
     ]
    },
    {
     "name": "stderr",
     "output_type": "stream",
     "text": [
      "Epoch[1000/1000]: 100%|██████████| 1000/1000 [00:52<00:00, 19.12it/s, SmoothL1Loss=0.000363, MAE=0.0209, RegLoss=0.000334, MAE_val=0.0426, SmoothL1Loss_val=0.000224]\n",
      "WARNING: nprophet - make_future_dataframe: Insufficient data for 300 historic forecasts, reduced to 197.\n",
      "WARNING: nprophet - __init__: Changing n_forecasts to 1. Without lags, the forecast can be computed for any future time, independent of lagged values\n",
      "ERROR: nprophet.config - __post_init__: Invalid trend growth 'logistic'. Set to 'linear'\n",
      "INFO: nprophet.config - __post_init__: Note: Trend changepoint regularization is experimental.\n",
      "INFO: nprophet.config - __post_init__: Note: Fourier-based seasonality regularization is experimental.\n",
      "WARNING: nprophet - fit: Parts of code may break if using other than daily data.\n",
      "INFO: nprophet.config - set_auto_batch_epoch: Auto-set batch_size to 8\n"
     ]
    },
    {
     "name": "stdout",
     "output_type": "stream",
     "text": [
      "52.51756186700004\n"
     ]
    },
    {
     "name": "stderr",
     "output_type": "stream",
     "text": [
      "Epoch[1000/1000]: 100%|██████████| 1000/1000 [00:52<00:00, 19.13it/s, SmoothL1Loss=0.000359, MAE=0.0206, RegLoss=0.000341, MAE_val=0.044, SmoothL1Loss_val=0.000239]\n",
      "WARNING: nprophet - make_future_dataframe: Insufficient data for 300 historic forecasts, reduced to 197.\n",
      "WARNING: nprophet - __init__: Changing n_forecasts to 1. Without lags, the forecast can be computed for any future time, independent of lagged values\n",
      "ERROR: nprophet.config - __post_init__: Invalid trend growth 'logistic'. Set to 'linear'\n",
      "INFO: nprophet.config - __post_init__: Note: Trend changepoint regularization is experimental.\n",
      "INFO: nprophet.config - __post_init__: Note: Fourier-based seasonality regularization is experimental.\n",
      "WARNING: nprophet - fit: Parts of code may break if using other than daily data.\n",
      "INFO: nprophet.config - set_auto_batch_epoch: Auto-set batch_size to 8\n"
     ]
    },
    {
     "name": "stdout",
     "output_type": "stream",
     "text": [
      "105.01615797100021\n"
     ]
    },
    {
     "name": "stderr",
     "output_type": "stream",
     "text": [
      "Epoch[1000/1000]: 100%|██████████| 1000/1000 [00:52<00:00, 19.02it/s, SmoothL1Loss=0.00036, MAE=0.0207, RegLoss=0.000382, MAE_val=0.059, SmoothL1Loss_val=0.000425]\n",
      "WARNING: nprophet - make_future_dataframe: Insufficient data for 300 historic forecasts, reduced to 197.\n"
     ]
    },
    {
     "name": "stdout",
     "output_type": "stream",
     "text": [
      "157.80897221900022\n"
     ]
    }
   ],
   "source": [
    "# 파라미터별 rmse 저장할 데이터 프레임 생성 \n",
    "result = pd.DataFrame(columns=['learning_rate','num_hidden_layers','n_changepoints','rmse'])\n",
    "# 데이터 프레임 row index 변수 생성\n",
    "count=0\n",
    "# 파라미터 조합 반복문 실행\n",
    "for lr in learning_rate:\n",
    "  for layer in num_hidden_layers:\n",
    "    start = timer()\n",
    "    for changepoint in n_changepoints:\n",
    "\n",
    "      nprophet = NeuralProphet(\n",
    "                                yearly_seasonality=False, \n",
    "                                weekly_seasonality=True, \n",
    "                                daily_seasonality=True,\n",
    "                                learning_rate=lr, \n",
    "                                changepoints_range=changepoints_range, \n",
    "                                n_forecasts=n_forecasts,\n",
    "                                ar_sparsity=ar_sparsity, \n",
    "                                n_changepoints=changepoint, \n",
    "                                growth='logistic', \n",
    "                                seasonality_mode='multiplicative', \n",
    "                                trend_reg=trend_reg,\n",
    "                                num_hidden_layers=layer,\n",
    "                                seasonality_reg = seasonality_reg)\n",
    "      \n",
    "      nprophet.fit(df, plot_live_loss=False, epochs=epochs, freq=freq, validate_each_epoch=True, valid_p=0.1)\n",
    "      #nprophet.highlight_nth_step_ahead_of_each_forecast(step_number=nprophet.n_forecasts)\n",
    "      future = nprophet.make_future_dataframe(df, periods=52, n_historic_predictions=300)\n",
    "      forecast = nprophet.predict(future)\n",
    "      a = pd.DataFrame(columns=['ds', 'y', 'yhat1', 'residual1', 'trend', 'season_yearly'])\n",
    "      for i in val_date:\n",
    "        a = a.append(forecast.iloc[forecast.loc[forecast['ds']==i].index])\n",
    "      a.reset_index(drop=True, inplace = True)\n",
    "      result.loc[count] = lr, layer, changepoint, rmse(val_price, a['yhat1'])\n",
    "      count += 1\n",
    "      end = timer()\n",
    "      print(end-start)"
   ]
  },
  {
   "cell_type": "code",
   "execution_count": null,
   "metadata": {
    "colab": {
     "base_uri": "https://localhost:8080/",
     "height": 886
    },
    "executionInfo": {
     "elapsed": 20,
     "status": "ok",
     "timestamp": 1631650184861,
     "user": {
      "displayName": "Bosang KIM",
      "photoUrl": "https://lh3.googleusercontent.com/a/default-user=s64",
      "userId": "09337160292545321113"
     },
     "user_tz": -540
    },
    "id": "YYlG_pJEirTL",
    "outputId": "e6cb90f1-6146-4727-9d28-6ab9e445a056"
   },
   "outputs": [
    {
     "data": {
      "text/html": [
       "<div>\n",
       "<style scoped>\n",
       "    .dataframe tbody tr th:only-of-type {\n",
       "        vertical-align: middle;\n",
       "    }\n",
       "\n",
       "    .dataframe tbody tr th {\n",
       "        vertical-align: top;\n",
       "    }\n",
       "\n",
       "    .dataframe thead th {\n",
       "        text-align: right;\n",
       "    }\n",
       "</style>\n",
       "<table border=\"1\" class=\"dataframe\">\n",
       "  <thead>\n",
       "    <tr style=\"text-align: right;\">\n",
       "      <th></th>\n",
       "      <th>learning_rate</th>\n",
       "      <th>num_hidden_layers</th>\n",
       "      <th>n_changepoints</th>\n",
       "      <th>rmse</th>\n",
       "    </tr>\n",
       "  </thead>\n",
       "  <tbody>\n",
       "    <tr>\n",
       "      <th>26</th>\n",
       "      <td>0.015</td>\n",
       "      <td>30.0</td>\n",
       "      <td>200.0</td>\n",
       "      <td>0.461858</td>\n",
       "    </tr>\n",
       "    <tr>\n",
       "      <th>14</th>\n",
       "      <td>0.010</td>\n",
       "      <td>20.0</td>\n",
       "      <td>200.0</td>\n",
       "      <td>0.463428</td>\n",
       "    </tr>\n",
       "    <tr>\n",
       "      <th>0</th>\n",
       "      <td>0.005</td>\n",
       "      <td>10.0</td>\n",
       "      <td>100.0</td>\n",
       "      <td>0.463438</td>\n",
       "    </tr>\n",
       "    <tr>\n",
       "      <th>6</th>\n",
       "      <td>0.005</td>\n",
       "      <td>30.0</td>\n",
       "      <td>100.0</td>\n",
       "      <td>0.464123</td>\n",
       "    </tr>\n",
       "    <tr>\n",
       "      <th>1</th>\n",
       "      <td>0.005</td>\n",
       "      <td>10.0</td>\n",
       "      <td>150.0</td>\n",
       "      <td>0.465795</td>\n",
       "    </tr>\n",
       "    <tr>\n",
       "      <th>4</th>\n",
       "      <td>0.005</td>\n",
       "      <td>20.0</td>\n",
       "      <td>150.0</td>\n",
       "      <td>0.466068</td>\n",
       "    </tr>\n",
       "    <tr>\n",
       "      <th>13</th>\n",
       "      <td>0.010</td>\n",
       "      <td>20.0</td>\n",
       "      <td>150.0</td>\n",
       "      <td>0.466122</td>\n",
       "    </tr>\n",
       "    <tr>\n",
       "      <th>21</th>\n",
       "      <td>0.015</td>\n",
       "      <td>20.0</td>\n",
       "      <td>100.0</td>\n",
       "      <td>0.466126</td>\n",
       "    </tr>\n",
       "    <tr>\n",
       "      <th>18</th>\n",
       "      <td>0.015</td>\n",
       "      <td>10.0</td>\n",
       "      <td>100.0</td>\n",
       "      <td>0.467634</td>\n",
       "    </tr>\n",
       "    <tr>\n",
       "      <th>19</th>\n",
       "      <td>0.015</td>\n",
       "      <td>10.0</td>\n",
       "      <td>150.0</td>\n",
       "      <td>0.467869</td>\n",
       "    </tr>\n",
       "    <tr>\n",
       "      <th>7</th>\n",
       "      <td>0.005</td>\n",
       "      <td>30.0</td>\n",
       "      <td>150.0</td>\n",
       "      <td>0.469444</td>\n",
       "    </tr>\n",
       "    <tr>\n",
       "      <th>25</th>\n",
       "      <td>0.015</td>\n",
       "      <td>30.0</td>\n",
       "      <td>150.0</td>\n",
       "      <td>0.469581</td>\n",
       "    </tr>\n",
       "    <tr>\n",
       "      <th>2</th>\n",
       "      <td>0.005</td>\n",
       "      <td>10.0</td>\n",
       "      <td>200.0</td>\n",
       "      <td>0.469659</td>\n",
       "    </tr>\n",
       "    <tr>\n",
       "      <th>20</th>\n",
       "      <td>0.015</td>\n",
       "      <td>10.0</td>\n",
       "      <td>200.0</td>\n",
       "      <td>0.470227</td>\n",
       "    </tr>\n",
       "    <tr>\n",
       "      <th>23</th>\n",
       "      <td>0.015</td>\n",
       "      <td>20.0</td>\n",
       "      <td>200.0</td>\n",
       "      <td>0.471034</td>\n",
       "    </tr>\n",
       "    <tr>\n",
       "      <th>24</th>\n",
       "      <td>0.015</td>\n",
       "      <td>30.0</td>\n",
       "      <td>100.0</td>\n",
       "      <td>0.471044</td>\n",
       "    </tr>\n",
       "    <tr>\n",
       "      <th>16</th>\n",
       "      <td>0.010</td>\n",
       "      <td>30.0</td>\n",
       "      <td>150.0</td>\n",
       "      <td>0.471057</td>\n",
       "    </tr>\n",
       "    <tr>\n",
       "      <th>15</th>\n",
       "      <td>0.010</td>\n",
       "      <td>30.0</td>\n",
       "      <td>100.0</td>\n",
       "      <td>0.471316</td>\n",
       "    </tr>\n",
       "    <tr>\n",
       "      <th>8</th>\n",
       "      <td>0.005</td>\n",
       "      <td>30.0</td>\n",
       "      <td>200.0</td>\n",
       "      <td>0.471686</td>\n",
       "    </tr>\n",
       "    <tr>\n",
       "      <th>11</th>\n",
       "      <td>0.010</td>\n",
       "      <td>10.0</td>\n",
       "      <td>200.0</td>\n",
       "      <td>0.471915</td>\n",
       "    </tr>\n",
       "    <tr>\n",
       "      <th>10</th>\n",
       "      <td>0.010</td>\n",
       "      <td>10.0</td>\n",
       "      <td>150.0</td>\n",
       "      <td>0.472040</td>\n",
       "    </tr>\n",
       "    <tr>\n",
       "      <th>17</th>\n",
       "      <td>0.010</td>\n",
       "      <td>30.0</td>\n",
       "      <td>200.0</td>\n",
       "      <td>0.472209</td>\n",
       "    </tr>\n",
       "    <tr>\n",
       "      <th>5</th>\n",
       "      <td>0.005</td>\n",
       "      <td>20.0</td>\n",
       "      <td>200.0</td>\n",
       "      <td>0.472440</td>\n",
       "    </tr>\n",
       "    <tr>\n",
       "      <th>22</th>\n",
       "      <td>0.015</td>\n",
       "      <td>20.0</td>\n",
       "      <td>150.0</td>\n",
       "      <td>0.472635</td>\n",
       "    </tr>\n",
       "    <tr>\n",
       "      <th>12</th>\n",
       "      <td>0.010</td>\n",
       "      <td>20.0</td>\n",
       "      <td>100.0</td>\n",
       "      <td>0.474398</td>\n",
       "    </tr>\n",
       "    <tr>\n",
       "      <th>9</th>\n",
       "      <td>0.010</td>\n",
       "      <td>10.0</td>\n",
       "      <td>100.0</td>\n",
       "      <td>0.477570</td>\n",
       "    </tr>\n",
       "    <tr>\n",
       "      <th>3</th>\n",
       "      <td>0.005</td>\n",
       "      <td>20.0</td>\n",
       "      <td>100.0</td>\n",
       "      <td>0.478632</td>\n",
       "    </tr>\n",
       "  </tbody>\n",
       "</table>\n",
       "</div>"
      ],
      "text/plain": [
       "    learning_rate  num_hidden_layers  n_changepoints      rmse\n",
       "26          0.015               30.0           200.0  0.461858\n",
       "14          0.010               20.0           200.0  0.463428\n",
       "0           0.005               10.0           100.0  0.463438\n",
       "6           0.005               30.0           100.0  0.464123\n",
       "1           0.005               10.0           150.0  0.465795\n",
       "4           0.005               20.0           150.0  0.466068\n",
       "13          0.010               20.0           150.0  0.466122\n",
       "21          0.015               20.0           100.0  0.466126\n",
       "18          0.015               10.0           100.0  0.467634\n",
       "19          0.015               10.0           150.0  0.467869\n",
       "7           0.005               30.0           150.0  0.469444\n",
       "25          0.015               30.0           150.0  0.469581\n",
       "2           0.005               10.0           200.0  0.469659\n",
       "20          0.015               10.0           200.0  0.470227\n",
       "23          0.015               20.0           200.0  0.471034\n",
       "24          0.015               30.0           100.0  0.471044\n",
       "16          0.010               30.0           150.0  0.471057\n",
       "15          0.010               30.0           100.0  0.471316\n",
       "8           0.005               30.0           200.0  0.471686\n",
       "11          0.010               10.0           200.0  0.471915\n",
       "10          0.010               10.0           150.0  0.472040\n",
       "17          0.010               30.0           200.0  0.472209\n",
       "5           0.005               20.0           200.0  0.472440\n",
       "22          0.015               20.0           150.0  0.472635\n",
       "12          0.010               20.0           100.0  0.474398\n",
       "9           0.010               10.0           100.0  0.477570\n",
       "3           0.005               20.0           100.0  0.478632"
      ]
     },
     "execution_count": 57,
     "metadata": {},
     "output_type": "execute_result"
    }
   ],
   "source": [
    "result.sort_values(by='rmse', ascending=True)"
   ]
  },
  {
   "cell_type": "code",
   "execution_count": null,
   "metadata": {
    "id": "ZD4lBdPWoj30"
   },
   "outputs": [],
   "source": []
  },
  {
   "cell_type": "markdown",
   "metadata": {
    "id": "4KBkSTEv5PBO"
   },
   "source": [
    "# 흰다리 새우 데이터 (수온데이터 제거하고 학습)"
   ]
  },
  {
   "cell_type": "code",
   "execution_count": null,
   "metadata": {
    "id": "WChZcJaV7wlH"
   },
   "outputs": [],
   "source": [
    "train, t_len = datasetting(data, name)\n",
    "validation, v_len = datasetting(val_df, name)"
   ]
  },
  {
   "cell_type": "code",
   "execution_count": null,
   "metadata": {
    "id": "NNc_ji6D-BM5"
   },
   "outputs": [],
   "source": [
    "## 제조국과 수출국에 대하여 multi-hot encoding을 진행하기위해서 모든 나라를 리스트형태로 저장\n",
    "ctry_1 = set(list(set(train['CTRY_1']))+list(set(train['CTRY_2'])))\n",
    "ctry_2 = set(list(set(validation['CTRY_1']))+list(set(validation['CTRY_2'])))\n",
    "con = list(ctry_1) + list(ctry_2)\n",
    "ctry_list = list(set(con))"
   ]
  },
  {
   "cell_type": "code",
   "execution_count": null,
   "metadata": {
    "id": "WVfYFHwH-3yi"
   },
   "outputs": [],
   "source": [
    "## 명목형 변수는 dummy 처리해서 multi-hot 형태로 할당하고, 수치형 변수는 스케일링 작업 진행\n",
    "\n",
    "def data_frame(trains, ctry_list):\n",
    "\n",
    "  p_type = \"P_IMPORT_TYPE\"\n",
    "  import_type = data_encoding(train, p_type)\n",
    "\n",
    "  con = ctry_list\n",
    "  con.sort()\n",
    "  col_con = [f\"country_{co}\" for co in con]\n",
    "  col_imp = [f\"import_{im}\" for im in import_type]\n",
    "  cols = col_con + col_imp + ['weight', 'temp', 'price']\n",
    "  # print(cols)\n",
    "  x_train = pd.DataFrame(columns=cols)\n",
    "  tmp = []\n",
    "  for i in range(len(cols)-1):\n",
    "    tmp.append([])\n",
    "  len_a = len(col_con)\n",
    "  len_b = len(col_imp)\n",
    "  for c1, c2, p in zip(trains['CTRY_1'], trains['CTRY_2'], trains['P_IMPORT_TYPE']):\n",
    "    i = con.index(c1)\n",
    "    j = con.index(c2)\n",
    "    country = np.eye(len_a)[i] + np.eye(len_a)[j] ## 제조국 + 수출국 정보 결합\n",
    "\n",
    "    p_import = np.zeros(len_b)\n",
    "    for ty in p.split(','):\n",
    "      j = import_type.index(ty)\n",
    "      p_import += np.eye(len(p_import))[j] ## import type 정보 결합\n",
    "\n",
    "    row = np.concatenate([country, p_import])\n",
    "\n",
    "    for i, r in enumerate(row):\n",
    "      tmp[i].append(r)\n",
    "\n",
    "  for i, c in enumerate(cols[:-3]): ## 중량, 수온, 가격 이외의 것들만 고려\n",
    "    x_train[c] = tmp[i]\n",
    "\n",
    "  ## 중량과 수온 데이터 스케일링\n",
    "  w = trains['WEIGHT(KG)'].tolist()\n",
    "  w = np.array(w).reshape(-1,1)\n",
    "  t = trains['temp'].tolist()\n",
    "  t = np.array(t).reshape(-1,1)\n",
    "\n",
    "  scaler = MinMaxScaler()\n",
    "  scaler.fit(w)\n",
    "  t_data = scaler.transform(w)\n",
    "\n",
    "  wscaler = MinMaxScaler()\n",
    "  wscaler.fit(t)\n",
    "  w_data = wscaler.transform(t)\n",
    "\n",
    "  x_train['weight'] =  t_data\n",
    "  x_train['temp'] = w_data\n",
    "  x_train['price'] = trains['P_PRICE'].tolist()\n",
    "\n",
    "  return x_train"
   ]
  },
  {
   "cell_type": "code",
   "execution_count": null,
   "metadata": {
    "id": "n80o_LOY-W8L"
   },
   "outputs": [],
   "source": [
    "x_train = data_frame(train, ctry_list)\n",
    "x_val = data_frame(validation, ctry_list)"
   ]
  },
  {
   "cell_type": "code",
   "execution_count": null,
   "metadata": {
    "id": "5m3YSl6r-qUo"
   },
   "outputs": [],
   "source": [
    "# 마지막 컬럼인 수온데이터를 제거하고 데이터 세팅\n",
    "x_train = x_train.drop(['temp'], axis=1)\n",
    "x_val = x_val.drop(['temp'],axis=1)"
   ]
  },
  {
   "cell_type": "code",
   "execution_count": null,
   "metadata": {
    "id": "EB72HppVIwLV"
   },
   "outputs": [],
   "source": [
    "X_train = np.array(x_train.iloc[:,:-1])\n",
    "Y_train = np.array(x_train.iloc[:,-1])\n",
    "Y_train = Y_train.reshape(-1)"
   ]
  },
  {
   "cell_type": "code",
   "execution_count": null,
   "metadata": {
    "id": "FW_LFLkW_TMP"
   },
   "outputs": [],
   "source": [
    "X_val = np.array(x_val.iloc[:,:-1])\n",
    "Y_val = np.array(x_val.iloc[:,-1])\n",
    "Y_val = Y_val.reshape(-1)"
   ]
  },
  {
   "cell_type": "code",
   "execution_count": null,
   "metadata": {
    "colab": {
     "base_uri": "https://localhost:8080/"
    },
    "executionInfo": {
     "elapsed": 5,
     "status": "ok",
     "timestamp": 1631653665452,
     "user": {
      "displayName": "Bosang KIM",
      "photoUrl": "https://lh3.googleusercontent.com/a/default-user=s64",
      "userId": "09337160292545321113"
     },
     "user_tz": -540
    },
    "id": "vmzKxsse_Tew",
    "outputId": "ac7a873b-5286-47f8-a674-258462abd467"
   },
   "outputs": [
    {
     "data": {
      "text/plain": [
       "((1613, 19), (1613,), (287, 19), (287,))"
      ]
     },
     "execution_count": 170,
     "metadata": {},
     "output_type": "execute_result"
    }
   ],
   "source": [
    "X_train.shape, Y_train.shape, X_val.shape, Y_val.shape"
   ]
  },
  {
   "cell_type": "code",
   "execution_count": null,
   "metadata": {
    "id": "Yna9rl-5_Vr2"
   },
   "outputs": [],
   "source": [
    "num_heads=8; head_size=32; ff_dim=None; dropout=0\n",
    "\n",
    "multi = MultiHeadAttention(num_heads=num_heads, head_size=head_size, dropout=dropout)"
   ]
  },
  {
   "cell_type": "code",
   "execution_count": null,
   "metadata": {
    "id": "IW-h8aiJ_bAy"
   },
   "outputs": [],
   "source": [
    "# Attention 계산 및 FC layer 차원축소 \n",
    "attention_layers = ModelTrunk()"
   ]
  },
  {
   "cell_type": "code",
   "execution_count": null,
   "metadata": {
    "id": "21QrHlpJ_olw"
   },
   "outputs": [],
   "source": [
    "train_weight, train_price = make_weight(X_train, Y_train, t_len)\n",
    "val_weight, val_price = make_weight(X_val, Y_val,v_len)"
   ]
  },
  {
   "cell_type": "code",
   "execution_count": null,
   "metadata": {
    "id": "4aFElRcM_ouQ"
   },
   "outputs": [],
   "source": [
    "# attention score의 가중치를 적용한 가중평균 \n",
    "train_price = make_new_price(train_weight, train_price)"
   ]
  },
  {
   "cell_type": "code",
   "execution_count": null,
   "metadata": {
    "id": "70dt1eiv_o3q"
   },
   "outputs": [],
   "source": [
    "val_price = make_new_price(val_weight, val_price)"
   ]
  },
  {
   "cell_type": "code",
   "execution_count": null,
   "metadata": {
    "id": "UkWMM4UUI9eK"
   },
   "outputs": [],
   "source": [
    "trn_lst = np.array([item for item in train_price if item > 0])"
   ]
  },
  {
   "cell_type": "code",
   "execution_count": null,
   "metadata": {
    "id": "i8G1py_dI9uR"
   },
   "outputs": [],
   "source": [
    "train['REG_DATE'] = pd.to_datetime(train['REG_DATE'])\n",
    "validation['REG_DATE'] = pd.to_datetime(validation['REG_DATE'])"
   ]
  },
  {
   "cell_type": "code",
   "execution_count": null,
   "metadata": {
    "id": "PyzP_sM5JAsU"
   },
   "outputs": [],
   "source": [
    "# 가중평균한 최종 가격 배열로 만들기 \n",
    "ts_train = np.array(train_price)"
   ]
  },
  {
   "cell_type": "markdown",
   "metadata": {
    "id": "LX6sU5GRJK_Q"
   },
   "source": [
    "## Neural Prophet - normal"
   ]
  },
  {
   "cell_type": "code",
   "execution_count": null,
   "metadata": {
    "colab": {
     "base_uri": "https://localhost:8080/"
    },
    "executionInfo": {
     "elapsed": 1150,
     "status": "ok",
     "timestamp": 1631653836170,
     "user": {
      "displayName": "Bosang KIM",
      "photoUrl": "https://lh3.googleusercontent.com/a/default-user=s64",
      "userId": "09337160292545321113"
     },
     "user_tz": -540
    },
    "id": "CGPQXP7VJVz-",
    "outputId": "1b65e477-5ea5-47cb-f9ff-aa924763d851"
   },
   "outputs": [
    {
     "name": "stdout",
     "output_type": "stream",
     "text": [
      "(197, 2)\n"
     ]
    }
   ],
   "source": [
    "## 모델 피팅하기 위해서 dataframe 형태 수정\n",
    "df = pd.DataFrame(columns=['ds', 'y'])\n",
    "df['ds'] = train['REG_DATE'].unique()\n",
    "df['y'] = ts_train\n",
    "print(df.shape)"
   ]
  },
  {
   "cell_type": "code",
   "execution_count": null,
   "metadata": {
    "id": "cKU19rl9Jax9"
   },
   "outputs": [],
   "source": [
    "# hyperparameter \n",
    "freq = 'W-MON' # 시작일이 월요일이면서, 일주일 간격 \n",
    "epochs = 1000"
   ]
  },
  {
   "cell_type": "code",
   "execution_count": null,
   "metadata": {
    "colab": {
     "base_uri": "https://localhost:8080/",
     "height": 157,
     "referenced_widgets": [
      "8941e5ed1396443f8977bea95ec5e88c",
      "af28f61b40e2425eb5373190bdfed8e2",
      "70f5b44bad7745359a02dd7c59bee8a6",
      "7132f40528294e7dbe4d9eeb56a2d68e",
      "f6b13f78da3a498faa8b21c3700776f5",
      "8158797a62f542f08790e27d3f1d709a",
      "c5a8a81ff2fd4ad187d8a464ab407bfc",
      "c528b4d245604b4c9c6b52492fd03d1f",
      "ec21beaa3f604356a369853fd05a7618",
      "17d3a96ff1314f91bea57de1b18d1aa3",
      "21ff1d54f56247a99595e0b32fbeb226"
     ]
    },
    "executionInfo": {
     "elapsed": 43129,
     "status": "ok",
     "timestamp": 1631653886193,
     "user": {
      "displayName": "Bosang KIM",
      "photoUrl": "https://lh3.googleusercontent.com/a/default-user=s64",
      "userId": "09337160292545321113"
     },
     "user_tz": -540
    },
    "id": "mnW436iLJbco",
    "outputId": "1e3cc285-7e3f-453e-d879-8554e863041e"
   },
   "outputs": [
    {
     "name": "stderr",
     "output_type": "stream",
     "text": [
      "WARNING: nprophet - fit: Parts of code may break if using other than daily data.\n",
      "INFO: nprophet.utils - set_auto_seasonalities: Disabling weekly seasonality. Run NeuralProphet with weekly_seasonality=True to override this.\n",
      "INFO: nprophet.utils - set_auto_seasonalities: Disabling daily seasonality. Run NeuralProphet with daily_seasonality=True to override this.\n",
      "INFO: nprophet.config - set_auto_batch_epoch: Auto-set batch_size to 8\n"
     ]
    },
    {
     "data": {
      "application/vnd.jupyter.widget-view+json": {
       "model_id": "8941e5ed1396443f8977bea95ec5e88c",
       "version_major": 2,
       "version_minor": 0
      },
      "text/plain": [
       "  0%|          | 0/100 [00:00<?, ?it/s]"
      ]
     },
     "metadata": {},
     "output_type": "display_data"
    },
    {
     "name": "stderr",
     "output_type": "stream",
     "text": [
      "INFO: nprophet - _lr_range_test: learning rate range test found optimal lr: 4.33E-01\n",
      "Epoch[1000/1000]: 100%|██████████| 1000/1000 [00:42<00:00, 23.41it/s, SmoothL1Loss=0.000251, MAE=0.0279, RegLoss=0]\n"
     ]
    }
   ],
   "source": [
    "# 모델 학습\n",
    "m = NeuralProphet()\n",
    "metrics = m.fit(df, freq =freq,\n",
    "                epochs=epochs)"
   ]
  },
  {
   "cell_type": "code",
   "execution_count": null,
   "metadata": {
    "id": "NV4nxTnkJcvQ"
   },
   "outputs": [],
   "source": [
    "# 예측 기간 데이터셋 생성\n",
    "val_date = list(validation['REG_DATE'].unique())\n",
    "future = pd.DataFrame(val_date, columns=['ds'])\n",
    "future['y'] = None"
   ]
  },
  {
   "cell_type": "code",
   "execution_count": null,
   "metadata": {
    "id": "WV-O19B8JfZu"
   },
   "outputs": [],
   "source": [
    "# train 데이터의 마지막일 기준으로, 일주일 간격 * 70 의 테스트데이터 생성\n",
    "future = m.make_future_dataframe(df, periods=70)\n",
    "forecast = m.predict(future)"
   ]
  },
  {
   "cell_type": "code",
   "execution_count": null,
   "metadata": {
    "id": "hdkegYDUJiyO"
   },
   "outputs": [],
   "source": [
    "# validation 기간에 맞는 예측 데이터 프레임 구성\n",
    "a = pd.DataFrame(columns=['ds', 'y', 'yhat1', 'residual1', 'trend', 'season_yearly'])\n",
    "for i in val_date:\n",
    "  a = a.append(forecast.iloc[forecast.loc[forecast['ds']==i].index])\n",
    "a.reset_index(drop=True, inplace = True)"
   ]
  },
  {
   "cell_type": "code",
   "execution_count": null,
   "metadata": {
    "colab": {
     "base_uri": "https://localhost:8080/"
    },
    "executionInfo": {
     "elapsed": 537,
     "status": "ok",
     "timestamp": 1631653898450,
     "user": {
      "displayName": "Bosang KIM",
      "photoUrl": "https://lh3.googleusercontent.com/a/default-user=s64",
      "userId": "09337160292545321113"
     },
     "user_tz": -540
    },
    "id": "zDpnUwqWJmQe",
    "outputId": "c4ce82ed-b39b-4019-c776-7d2b1ec1ca29"
   },
   "outputs": [
    {
     "data": {
      "text/plain": [
       "0.7637432991629397"
      ]
     },
     "execution_count": 185,
     "metadata": {},
     "output_type": "execute_result"
    }
   ],
   "source": [
    "# rmse\n",
    "rmse(val_price, a['yhat1'])"
   ]
  },
  {
   "cell_type": "markdown",
   "metadata": {
    "id": "_SHJ48YQJqSk"
   },
   "source": [
    "## Nueral Prophet - Trend"
   ]
  },
  {
   "cell_type": "code",
   "execution_count": null,
   "metadata": {
    "colab": {
     "base_uri": "https://localhost:8080/",
     "height": 121,
     "referenced_widgets": [
      "9e21c2d2c9c34297bb83ffe58734c5e7",
      "eae2b1a755b24e849547000e4f5ca181",
      "98c98d6eb6ac4a6086a2f8b28a1e8f20",
      "9d14e3a7d783419b9998f755dba66ec4",
      "489c040bcdfe4e95ae63b7f356afff7c",
      "544358a088674d27bf2986accdbb739c",
      "cb56efd73cbb465788c058dc29ba85c7",
      "aec589e2e91d4505972c1801e426a4fd",
      "ea6804cd823d4d4297461b884eab247b",
      "a818e38180dc4ea4a008575f087446db",
      "abebed03b6564e26b60733c381560ce8"
     ]
    },
    "executionInfo": {
     "elapsed": 36995,
     "status": "ok",
     "timestamp": 1631653990924,
     "user": {
      "displayName": "Bosang KIM",
      "photoUrl": "https://lh3.googleusercontent.com/a/default-user=s64",
      "userId": "09337160292545321113"
     },
     "user_tz": -540
    },
    "id": "gDuH2AYhJ2Qs",
    "outputId": "420c9971-bd39-4007-8898-095adf93745f"
   },
   "outputs": [
    {
     "name": "stderr",
     "output_type": "stream",
     "text": [
      "WARNING: nprophet - fit: Parts of code may break if using other than daily data.\n",
      "INFO: nprophet.config - set_auto_batch_epoch: Auto-set batch_size to 8\n"
     ]
    },
    {
     "data": {
      "application/vnd.jupyter.widget-view+json": {
       "model_id": "9e21c2d2c9c34297bb83ffe58734c5e7",
       "version_major": 2,
       "version_minor": 0
      },
      "text/plain": [
       "  0%|          | 0/100 [00:00<?, ?it/s]"
      ]
     },
     "metadata": {},
     "output_type": "display_data"
    },
    {
     "name": "stderr",
     "output_type": "stream",
     "text": [
      "INFO: nprophet - _lr_range_test: learning rate range test found optimal lr: 2.31E-01\n",
      "Epoch[1000/1000]: 100%|██████████| 1000/1000 [00:36<00:00, 27.25it/s, SmoothL1Loss=0.000123, MAE=0.014, RegLoss=0]\n"
     ]
    }
   ],
   "source": [
    "m = NeuralProphet(\n",
    "    n_changepoints=100,\n",
    "    #trend_smoothness=2,\n",
    "    yearly_seasonality=False,\n",
    "    weekly_seasonality=False,\n",
    "    daily_seasonality=False,\n",
    "    epochs =epochs\n",
    ")\n",
    "metrics = m.fit(df, freq=freq)"
   ]
  },
  {
   "cell_type": "code",
   "execution_count": null,
   "metadata": {
    "id": "kkXFMGrVJ39h"
   },
   "outputs": [],
   "source": [
    "future = m.make_future_dataframe(df, periods=70, n_historic_predictions=len(df))\n",
    "forecast = m.predict(future)"
   ]
  },
  {
   "cell_type": "code",
   "execution_count": null,
   "metadata": {
    "id": "rxUwqOAzJ5jL"
   },
   "outputs": [],
   "source": [
    "a = pd.DataFrame(columns=['ds', 'y', 'yhat1', 'residual1', 'trend', 'season_yearly'])\n",
    "for i in val_date:\n",
    "  a = a.append(forecast.iloc[forecast.loc[forecast['ds']==i].index])\n",
    "a.reset_index(drop=True, inplace = True)"
   ]
  },
  {
   "cell_type": "code",
   "execution_count": null,
   "metadata": {
    "colab": {
     "base_uri": "https://localhost:8080/"
    },
    "executionInfo": {
     "elapsed": 947,
     "status": "ok",
     "timestamp": 1631653994031,
     "user": {
      "displayName": "Bosang KIM",
      "photoUrl": "https://lh3.googleusercontent.com/a/default-user=s64",
      "userId": "09337160292545321113"
     },
     "user_tz": -540
    },
    "id": "viTR5xGZJ7p-",
    "outputId": "fea24672-754c-4831-da24-e2385a58ace6"
   },
   "outputs": [
    {
     "data": {
      "text/plain": [
       "0.7819059953841802"
      ]
     },
     "execution_count": 189,
     "metadata": {},
     "output_type": "execute_result"
    }
   ],
   "source": [
    "# rmse\n",
    "rmse(val_price, a['yhat1'])"
   ]
  },
  {
   "cell_type": "markdown",
   "metadata": {
    "id": "aVVyTW2ZJ9A1"
   },
   "source": [
    "## Neural Prophet - Seasonality"
   ]
  },
  {
   "cell_type": "code",
   "execution_count": null,
   "metadata": {
    "colab": {
     "base_uri": "https://localhost:8080/",
     "height": 175,
     "referenced_widgets": [
      "e2d9eeed3fba41d2a2fb9f1953d016b0",
      "3df141b07bf4413481a70c034c7f703a",
      "dd1550a198674e2a9bb6faecd47972dd",
      "68be62aea2c64248a0308f9df0964585",
      "bcb8861218704653b56ee2600f2eb158",
      "5b002056b668481ebfbd49113178b773",
      "736cfd79d84a4a0e9451c87a13994400",
      "8e348ede409140fe90c7ac8219d0fb31",
      "effff702b30d4baab02377fc999e97f7",
      "46a0041a685444a4870076fc8d7f37d6",
      "a1a0c01a913448468023cb3d77033228"
     ]
    },
    "executionInfo": {
     "elapsed": 9318,
     "status": "ok",
     "timestamp": 1631654021604,
     "user": {
      "displayName": "Bosang KIM",
      "photoUrl": "https://lh3.googleusercontent.com/a/default-user=s64",
      "userId": "09337160292545321113"
     },
     "user_tz": -540
    },
    "id": "KBA1S6LqKC7F",
    "outputId": "fc8317ff-8e7b-4868-f091-404df8d73d30"
   },
   "outputs": [
    {
     "name": "stderr",
     "output_type": "stream",
     "text": [
      "INFO: nprophet.config - __post_init__: Note: Fourier-based seasonality regularization is experimental.\n",
      "WARNING: nprophet - fit: Parts of code may break if using other than daily data.\n",
      "INFO: nprophet.utils - set_auto_seasonalities: Disabling daily seasonality. Run NeuralProphet with daily_seasonality=True to override this.\n",
      "INFO: nprophet.config - set_auto_batch_epoch: Auto-set batch_size to 8\n",
      "INFO: nprophet.config - set_auto_batch_epoch: Auto-set epochs to 162\n"
     ]
    },
    {
     "data": {
      "application/vnd.jupyter.widget-view+json": {
       "model_id": "e2d9eeed3fba41d2a2fb9f1953d016b0",
       "version_major": 2,
       "version_minor": 0
      },
      "text/plain": [
       "  0%|          | 0/100 [00:00<?, ?it/s]"
      ]
     },
     "metadata": {},
     "output_type": "display_data"
    },
    {
     "name": "stderr",
     "output_type": "stream",
     "text": [
      "INFO: nprophet - _lr_range_test: learning rate range test found optimal lr: 5.34E-01\n",
      "Epoch[162/162]: 100%|██████████| 162/162 [00:08<00:00, 18.71it/s, SmoothL1Loss=0.000427, MAE=0.0305, RegLoss=0.000173]\n"
     ]
    }
   ],
   "source": [
    "m = NeuralProphet(\n",
    "    n_changepoints=200,\n",
    "    yearly_seasonality=15,\n",
    "    weekly_seasonality=3,\n",
    "    seasonality_reg=30,\n",
    "    num_hidden_layers=20,\n",
    ")\n",
    "metrics = m.fit(df, freq=freq)"
   ]
  },
  {
   "cell_type": "code",
   "execution_count": null,
   "metadata": {
    "id": "LqTRRPySKGNn"
   },
   "outputs": [],
   "source": [
    "future = m.make_future_dataframe(df, periods=70, n_historic_predictions=len(df))\n",
    "forecast = m.predict(future)"
   ]
  },
  {
   "cell_type": "code",
   "execution_count": null,
   "metadata": {
    "id": "6t0TtSGzKHm1"
   },
   "outputs": [],
   "source": [
    "a = pd.DataFrame(columns=['ds', 'y', 'yhat1', 'residual1', 'trend', 'season_yearly'])\n",
    "for i in val_date:\n",
    "  a = a.append(forecast.iloc[forecast.loc[forecast['ds']==i].index])\n",
    "a.reset_index(drop=True, inplace = True)"
   ]
  },
  {
   "cell_type": "code",
   "execution_count": null,
   "metadata": {
    "colab": {
     "base_uri": "https://localhost:8080/"
    },
    "executionInfo": {
     "elapsed": 366,
     "status": "ok",
     "timestamp": 1631654028988,
     "user": {
      "displayName": "Bosang KIM",
      "photoUrl": "https://lh3.googleusercontent.com/a/default-user=s64",
      "userId": "09337160292545321113"
     },
     "user_tz": -540
    },
    "id": "_nBLMqvNKI8g",
    "outputId": "bc4ee2fb-1912-4a61-b1eb-fdf6449487da"
   },
   "outputs": [
    {
     "data": {
      "text/plain": [
       "0.7821292668358715"
      ]
     },
     "execution_count": 193,
     "metadata": {},
     "output_type": "execute_result"
    }
   ],
   "source": [
    "# rmse\n",
    "rmse(val_price, a['yhat1'])"
   ]
  },
  {
   "cell_type": "markdown",
   "metadata": {
    "id": "PjpF5vn_KKM-"
   },
   "source": [
    "## 최적의 하이퍼 파라미터 "
   ]
  },
  {
   "cell_type": "code",
   "execution_count": null,
   "metadata": {
    "id": "aDwBHiM4Kbmg"
   },
   "outputs": [],
   "source": [
    "## neural prophet\n",
    "epochs = 1000\n",
    "# batch_size = 64\n",
    "learning_rate = [0.005, 0.01, 0.015]\n",
    "\n",
    "\n",
    "# AR net \n",
    "n_forecasts = 52 # 예측 기간의 크기  # future_periods랑 같아야한다. \n",
    "num_hidden_layers = [10,20,30] # AR-net compelxity 조절 \n",
    "ar_sparsity = 0.8  # 0-1, 0에 가까울수록 sparse함 \n",
    "\n",
    "# d_hidden = 64 \n",
    "# trend_smoothness = 0.5\n",
    "n_changepoints = [100, 150, 200] # 변화점(changepoint)의 갯수 설정 \n",
    "changepoints_range = 1.0 # 변화점을 전체 데이터셋에서 몇 퍼센트 감지할지\n",
    "trend_reg = 0.03\n",
    "seasonality_reg=30\n",
    "\n",
    "#n_lags = 5  # >error : lambda delay가 없다"
   ]
  },
  {
   "cell_type": "code",
   "execution_count": null,
   "metadata": {
    "colab": {
     "base_uri": "https://localhost:8080/"
    },
    "executionInfo": {
     "elapsed": 1419570,
     "status": "ok",
     "timestamp": 1631655532964,
     "user": {
      "displayName": "Bosang KIM",
      "photoUrl": "https://lh3.googleusercontent.com/a/default-user=s64",
      "userId": "09337160292545321113"
     },
     "user_tz": -540
    },
    "id": "z8MYo5GIKcZT",
    "outputId": "c6c23997-d0ff-4bc9-80a5-0e0c565e2e44"
   },
   "outputs": [
    {
     "name": "stderr",
     "output_type": "stream",
     "text": [
      "WARNING: nprophet - __init__: Changing n_forecasts to 1. Without lags, the forecast can be computed for any future time, independent of lagged values\n",
      "ERROR: nprophet.config - __post_init__: Invalid trend growth 'logistic'. Set to 'linear'\n",
      "INFO: nprophet.config - __post_init__: Note: Trend changepoint regularization is experimental.\n",
      "INFO: nprophet.config - __post_init__: Note: Fourier-based seasonality regularization is experimental.\n",
      "WARNING: nprophet - fit: Parts of code may break if using other than daily data.\n",
      "INFO: nprophet.config - set_auto_batch_epoch: Auto-set batch_size to 8\n",
      "Epoch[1000/1000]: 100%|██████████| 1000/1000 [00:52<00:00, 19.20it/s, SmoothL1Loss=0.0003, MAE=0.0256, RegLoss=0.000527, MAE_val=0.0198, SmoothL1Loss_val=6.35e-5]\n",
      "WARNING: nprophet - make_future_dataframe: Insufficient data for 300 historic forecasts, reduced to 197.\n",
      "WARNING: nprophet - __init__: Changing n_forecasts to 1. Without lags, the forecast can be computed for any future time, independent of lagged values\n",
      "ERROR: nprophet.config - __post_init__: Invalid trend growth 'logistic'. Set to 'linear'\n",
      "INFO: nprophet.config - __post_init__: Note: Trend changepoint regularization is experimental.\n",
      "INFO: nprophet.config - __post_init__: Note: Fourier-based seasonality regularization is experimental.\n",
      "WARNING: nprophet - fit: Parts of code may break if using other than daily data.\n",
      "INFO: nprophet.config - set_auto_batch_epoch: Auto-set batch_size to 8\n"
     ]
    },
    {
     "name": "stdout",
     "output_type": "stream",
     "text": [
      "52.31398769500083\n"
     ]
    },
    {
     "name": "stderr",
     "output_type": "stream",
     "text": [
      "Epoch[1000/1000]: 100%|██████████| 1000/1000 [00:52<00:00, 18.95it/s, SmoothL1Loss=0.00229, MAE=0.0932, RegLoss=0.313, MAE_val=0.0305, SmoothL1Loss_val=8.38e-5]\n",
      "WARNING: nprophet - make_future_dataframe: Insufficient data for 300 historic forecasts, reduced to 197.\n",
      "WARNING: nprophet - __init__: Changing n_forecasts to 1. Without lags, the forecast can be computed for any future time, independent of lagged values\n",
      "ERROR: nprophet.config - __post_init__: Invalid trend growth 'logistic'. Set to 'linear'\n",
      "INFO: nprophet.config - __post_init__: Note: Trend changepoint regularization is experimental.\n",
      "INFO: nprophet.config - __post_init__: Note: Fourier-based seasonality regularization is experimental.\n",
      "WARNING: nprophet - fit: Parts of code may break if using other than daily data.\n",
      "INFO: nprophet.config - set_auto_batch_epoch: Auto-set batch_size to 8\n"
     ]
    },
    {
     "name": "stdout",
     "output_type": "stream",
     "text": [
      "105.31757364600071\n"
     ]
    },
    {
     "name": "stderr",
     "output_type": "stream",
     "text": [
      "Epoch[1000/1000]: 100%|██████████| 1000/1000 [00:52<00:00, 18.99it/s, SmoothL1Loss=0.000302, MAE=0.0255, RegLoss=0.000636, MAE_val=0.0292, SmoothL1Loss_val=0.000111]\n",
      "WARNING: nprophet - make_future_dataframe: Insufficient data for 300 historic forecasts, reduced to 197.\n",
      "WARNING: nprophet - __init__: Changing n_forecasts to 1. Without lags, the forecast can be computed for any future time, independent of lagged values\n",
      "ERROR: nprophet.config - __post_init__: Invalid trend growth 'logistic'. Set to 'linear'\n",
      "INFO: nprophet.config - __post_init__: Note: Trend changepoint regularization is experimental.\n",
      "INFO: nprophet.config - __post_init__: Note: Fourier-based seasonality regularization is experimental.\n",
      "WARNING: nprophet - fit: Parts of code may break if using other than daily data.\n",
      "INFO: nprophet.config - set_auto_batch_epoch: Auto-set batch_size to 8\n"
     ]
    },
    {
     "name": "stdout",
     "output_type": "stream",
     "text": [
      "158.2087564910007\n"
     ]
    },
    {
     "name": "stderr",
     "output_type": "stream",
     "text": [
      "Epoch[1000/1000]: 100%|██████████| 1000/1000 [00:52<00:00, 19.09it/s, SmoothL1Loss=0.000328, MAE=0.0286, RegLoss=0.000556, MAE_val=0.0117, SmoothL1Loss_val=2.58e-5]\n",
      "WARNING: nprophet - make_future_dataframe: Insufficient data for 300 historic forecasts, reduced to 197.\n",
      "WARNING: nprophet - __init__: Changing n_forecasts to 1. Without lags, the forecast can be computed for any future time, independent of lagged values\n",
      "ERROR: nprophet.config - __post_init__: Invalid trend growth 'logistic'. Set to 'linear'\n",
      "INFO: nprophet.config - __post_init__: Note: Trend changepoint regularization is experimental.\n",
      "INFO: nprophet.config - __post_init__: Note: Fourier-based seasonality regularization is experimental.\n",
      "WARNING: nprophet - fit: Parts of code may break if using other than daily data.\n",
      "INFO: nprophet.config - set_auto_batch_epoch: Auto-set batch_size to 8\n"
     ]
    },
    {
     "name": "stdout",
     "output_type": "stream",
     "text": [
      "52.61185041599947\n"
     ]
    },
    {
     "name": "stderr",
     "output_type": "stream",
     "text": [
      "Epoch[1000/1000]: 100%|██████████| 1000/1000 [00:51<00:00, 19.39it/s, SmoothL1Loss=0.00227, MAE=0.093, RegLoss=0.312, MAE_val=0.0392, SmoothL1Loss_val=0.000133]\n",
      "WARNING: nprophet - make_future_dataframe: Insufficient data for 300 historic forecasts, reduced to 197.\n",
      "WARNING: nprophet - __init__: Changing n_forecasts to 1. Without lags, the forecast can be computed for any future time, independent of lagged values\n",
      "ERROR: nprophet.config - __post_init__: Invalid trend growth 'logistic'. Set to 'linear'\n",
      "INFO: nprophet.config - __post_init__: Note: Trend changepoint regularization is experimental.\n",
      "INFO: nprophet.config - __post_init__: Note: Fourier-based seasonality regularization is experimental.\n",
      "WARNING: nprophet - fit: Parts of code may break if using other than daily data.\n",
      "INFO: nprophet.config - set_auto_batch_epoch: Auto-set batch_size to 8\n"
     ]
    },
    {
     "name": "stdout",
     "output_type": "stream",
     "text": [
      "104.41194529099994\n"
     ]
    },
    {
     "name": "stderr",
     "output_type": "stream",
     "text": [
      "Epoch[1000/1000]: 100%|██████████| 1000/1000 [00:52<00:00, 18.95it/s, SmoothL1Loss=0.000273, MAE=0.0238, RegLoss=0.000532, MAE_val=0.0341, SmoothL1Loss_val=0.000147]\n",
      "WARNING: nprophet - make_future_dataframe: Insufficient data for 300 historic forecasts, reduced to 197.\n",
      "WARNING: nprophet - __init__: Changing n_forecasts to 1. Without lags, the forecast can be computed for any future time, independent of lagged values\n",
      "ERROR: nprophet.config - __post_init__: Invalid trend growth 'logistic'. Set to 'linear'\n",
      "INFO: nprophet.config - __post_init__: Note: Trend changepoint regularization is experimental.\n",
      "INFO: nprophet.config - __post_init__: Note: Fourier-based seasonality regularization is experimental.\n",
      "WARNING: nprophet - fit: Parts of code may break if using other than daily data.\n",
      "INFO: nprophet.config - set_auto_batch_epoch: Auto-set batch_size to 8\n"
     ]
    },
    {
     "name": "stdout",
     "output_type": "stream",
     "text": [
      "157.41388768999968\n"
     ]
    },
    {
     "name": "stderr",
     "output_type": "stream",
     "text": [
      "Epoch[1000/1000]: 100%|██████████| 1000/1000 [00:52<00:00, 19.12it/s, SmoothL1Loss=0.0024, MAE=0.099, RegLoss=0.313, MAE_val=0.0142, SmoothL1Loss_val=3.49e-5]\n",
      "WARNING: nprophet - make_future_dataframe: Insufficient data for 300 historic forecasts, reduced to 197.\n",
      "WARNING: nprophet - __init__: Changing n_forecasts to 1. Without lags, the forecast can be computed for any future time, independent of lagged values\n",
      "ERROR: nprophet.config - __post_init__: Invalid trend growth 'logistic'. Set to 'linear'\n",
      "INFO: nprophet.config - __post_init__: Note: Trend changepoint regularization is experimental.\n",
      "INFO: nprophet.config - __post_init__: Note: Fourier-based seasonality regularization is experimental.\n",
      "WARNING: nprophet - fit: Parts of code may break if using other than daily data.\n",
      "INFO: nprophet.config - set_auto_batch_epoch: Auto-set batch_size to 8\n"
     ]
    },
    {
     "name": "stdout",
     "output_type": "stream",
     "text": [
      "52.53237240500039\n"
     ]
    },
    {
     "name": "stderr",
     "output_type": "stream",
     "text": [
      "Epoch[1000/1000]: 100%|██████████| 1000/1000 [00:52<00:00, 19.20it/s, SmoothL1Loss=0.000352, MAE=0.0293, RegLoss=0.000671, MAE_val=0.0533, SmoothL1Loss_val=0.000324]\n",
      "WARNING: nprophet - make_future_dataframe: Insufficient data for 300 historic forecasts, reduced to 197.\n",
      "WARNING: nprophet - __init__: Changing n_forecasts to 1. Without lags, the forecast can be computed for any future time, independent of lagged values\n",
      "ERROR: nprophet.config - __post_init__: Invalid trend growth 'logistic'. Set to 'linear'\n",
      "INFO: nprophet.config - __post_init__: Note: Trend changepoint regularization is experimental.\n",
      "INFO: nprophet.config - __post_init__: Note: Fourier-based seasonality regularization is experimental.\n",
      "WARNING: nprophet - fit: Parts of code may break if using other than daily data.\n",
      "INFO: nprophet.config - set_auto_batch_epoch: Auto-set batch_size to 8\n"
     ]
    },
    {
     "name": "stdout",
     "output_type": "stream",
     "text": [
      "104.84074826699998\n"
     ]
    },
    {
     "name": "stderr",
     "output_type": "stream",
     "text": [
      "Epoch[1000/1000]: 100%|██████████| 1000/1000 [00:51<00:00, 19.37it/s, SmoothL1Loss=0.000274, MAE=0.0234, RegLoss=0.000574, MAE_val=0.0531, SmoothL1Loss_val=0.000316]\n",
      "WARNING: nprophet - make_future_dataframe: Insufficient data for 300 historic forecasts, reduced to 197.\n",
      "WARNING: nprophet - __init__: Changing n_forecasts to 1. Without lags, the forecast can be computed for any future time, independent of lagged values\n",
      "ERROR: nprophet.config - __post_init__: Invalid trend growth 'logistic'. Set to 'linear'\n",
      "INFO: nprophet.config - __post_init__: Note: Trend changepoint regularization is experimental.\n",
      "INFO: nprophet.config - __post_init__: Note: Fourier-based seasonality regularization is experimental.\n",
      "WARNING: nprophet - fit: Parts of code may break if using other than daily data.\n",
      "INFO: nprophet.config - set_auto_batch_epoch: Auto-set batch_size to 8\n"
     ]
    },
    {
     "name": "stdout",
     "output_type": "stream",
     "text": [
      "156.6899208089999\n"
     ]
    },
    {
     "name": "stderr",
     "output_type": "stream",
     "text": [
      "Epoch[1000/1000]: 100%|██████████| 1000/1000 [00:51<00:00, 19.30it/s, SmoothL1Loss=0.000307, MAE=0.0246, RegLoss=0.0005, MAE_val=0.0276, SmoothL1Loss_val=0.000104]\n",
      "WARNING: nprophet - make_future_dataframe: Insufficient data for 300 historic forecasts, reduced to 197.\n",
      "WARNING: nprophet - __init__: Changing n_forecasts to 1. Without lags, the forecast can be computed for any future time, independent of lagged values\n",
      "ERROR: nprophet.config - __post_init__: Invalid trend growth 'logistic'. Set to 'linear'\n",
      "INFO: nprophet.config - __post_init__: Note: Trend changepoint regularization is experimental.\n",
      "INFO: nprophet.config - __post_init__: Note: Fourier-based seasonality regularization is experimental.\n",
      "WARNING: nprophet - fit: Parts of code may break if using other than daily data.\n",
      "INFO: nprophet.config - set_auto_batch_epoch: Auto-set batch_size to 8\n"
     ]
    },
    {
     "name": "stdout",
     "output_type": "stream",
     "text": [
      "52.048157049999645\n"
     ]
    },
    {
     "name": "stderr",
     "output_type": "stream",
     "text": [
      "Epoch[1000/1000]: 100%|██████████| 1000/1000 [00:52<00:00, 19.17it/s, SmoothL1Loss=0.00029, MAE=0.024, RegLoss=0.000479, MAE_val=0.0257, SmoothL1Loss_val=9.1e-5]\n",
      "WARNING: nprophet - make_future_dataframe: Insufficient data for 300 historic forecasts, reduced to 197.\n",
      "WARNING: nprophet - __init__: Changing n_forecasts to 1. Without lags, the forecast can be computed for any future time, independent of lagged values\n",
      "ERROR: nprophet.config - __post_init__: Invalid trend growth 'logistic'. Set to 'linear'\n",
      "INFO: nprophet.config - __post_init__: Note: Trend changepoint regularization is experimental.\n",
      "INFO: nprophet.config - __post_init__: Note: Fourier-based seasonality regularization is experimental.\n",
      "WARNING: nprophet - fit: Parts of code may break if using other than daily data.\n",
      "INFO: nprophet.config - set_auto_batch_epoch: Auto-set batch_size to 8\n"
     ]
    },
    {
     "name": "stdout",
     "output_type": "stream",
     "text": [
      "104.4580100029998\n"
     ]
    },
    {
     "name": "stderr",
     "output_type": "stream",
     "text": [
      "Epoch[1000/1000]: 100%|██████████| 1000/1000 [00:52<00:00, 19.13it/s, SmoothL1Loss=0.00209, MAE=0.0856, RegLoss=0.312, MAE_val=0.0205, SmoothL1Loss_val=3.99e-5]\n",
      "WARNING: nprophet - make_future_dataframe: Insufficient data for 300 historic forecasts, reduced to 197.\n",
      "WARNING: nprophet - __init__: Changing n_forecasts to 1. Without lags, the forecast can be computed for any future time, independent of lagged values\n",
      "ERROR: nprophet.config - __post_init__: Invalid trend growth 'logistic'. Set to 'linear'\n",
      "INFO: nprophet.config - __post_init__: Note: Trend changepoint regularization is experimental.\n",
      "INFO: nprophet.config - __post_init__: Note: Fourier-based seasonality regularization is experimental.\n",
      "WARNING: nprophet - fit: Parts of code may break if using other than daily data.\n",
      "INFO: nprophet.config - set_auto_batch_epoch: Auto-set batch_size to 8\n"
     ]
    },
    {
     "name": "stdout",
     "output_type": "stream",
     "text": [
      "156.96959106099985\n"
     ]
    },
    {
     "name": "stderr",
     "output_type": "stream",
     "text": [
      "Epoch[1000/1000]: 100%|██████████| 1000/1000 [00:51<00:00, 19.34it/s, SmoothL1Loss=0.000314, MAE=0.0258, RegLoss=0.00051, MAE_val=0.0254, SmoothL1Loss_val=9.34e-5]\n",
      "WARNING: nprophet - make_future_dataframe: Insufficient data for 300 historic forecasts, reduced to 197.\n",
      "WARNING: nprophet - __init__: Changing n_forecasts to 1. Without lags, the forecast can be computed for any future time, independent of lagged values\n",
      "ERROR: nprophet.config - __post_init__: Invalid trend growth 'logistic'. Set to 'linear'\n",
      "INFO: nprophet.config - __post_init__: Note: Trend changepoint regularization is experimental.\n",
      "INFO: nprophet.config - __post_init__: Note: Fourier-based seasonality regularization is experimental.\n",
      "WARNING: nprophet - fit: Parts of code may break if using other than daily data.\n",
      "INFO: nprophet.config - set_auto_batch_epoch: Auto-set batch_size to 8\n"
     ]
    },
    {
     "name": "stdout",
     "output_type": "stream",
     "text": [
      "51.942779846999656\n"
     ]
    },
    {
     "name": "stderr",
     "output_type": "stream",
     "text": [
      "Epoch[1000/1000]: 100%|██████████| 1000/1000 [00:52<00:00, 19.22it/s, SmoothL1Loss=0.000307, MAE=0.0245, RegLoss=0.000528, MAE_val=0.023, SmoothL1Loss_val=7.77e-5]\n",
      "WARNING: nprophet - make_future_dataframe: Insufficient data for 300 historic forecasts, reduced to 197.\n",
      "WARNING: nprophet - __init__: Changing n_forecasts to 1. Without lags, the forecast can be computed for any future time, independent of lagged values\n",
      "ERROR: nprophet.config - __post_init__: Invalid trend growth 'logistic'. Set to 'linear'\n",
      "INFO: nprophet.config - __post_init__: Note: Trend changepoint regularization is experimental.\n",
      "INFO: nprophet.config - __post_init__: Note: Fourier-based seasonality regularization is experimental.\n",
      "WARNING: nprophet - fit: Parts of code may break if using other than daily data.\n",
      "INFO: nprophet.config - set_auto_batch_epoch: Auto-set batch_size to 8\n"
     ]
    },
    {
     "name": "stdout",
     "output_type": "stream",
     "text": [
      "104.22925159100032\n"
     ]
    },
    {
     "name": "stderr",
     "output_type": "stream",
     "text": [
      "Epoch[1000/1000]: 100%|██████████| 1000/1000 [00:51<00:00, 19.27it/s, SmoothL1Loss=0.000305, MAE=0.0246, RegLoss=0.000562, MAE_val=0.048, SmoothL1Loss_val=0.000262]\n",
      "WARNING: nprophet - make_future_dataframe: Insufficient data for 300 historic forecasts, reduced to 197.\n",
      "WARNING: nprophet - __init__: Changing n_forecasts to 1. Without lags, the forecast can be computed for any future time, independent of lagged values\n",
      "ERROR: nprophet.config - __post_init__: Invalid trend growth 'logistic'. Set to 'linear'\n",
      "INFO: nprophet.config - __post_init__: Note: Trend changepoint regularization is experimental.\n",
      "INFO: nprophet.config - __post_init__: Note: Fourier-based seasonality regularization is experimental.\n",
      "WARNING: nprophet - fit: Parts of code may break if using other than daily data.\n",
      "INFO: nprophet.config - set_auto_batch_epoch: Auto-set batch_size to 8\n"
     ]
    },
    {
     "name": "stdout",
     "output_type": "stream",
     "text": [
      "156.34098659499978\n"
     ]
    },
    {
     "name": "stderr",
     "output_type": "stream",
     "text": [
      "Epoch[1000/1000]: 100%|██████████| 1000/1000 [00:51<00:00, 19.49it/s, SmoothL1Loss=0.00221, MAE=0.0895, RegLoss=0.312, MAE_val=0.0151, SmoothL1Loss_val=2.33e-5]\n",
      "WARNING: nprophet - make_future_dataframe: Insufficient data for 300 historic forecasts, reduced to 197.\n",
      "WARNING: nprophet - __init__: Changing n_forecasts to 1. Without lags, the forecast can be computed for any future time, independent of lagged values\n",
      "ERROR: nprophet.config - __post_init__: Invalid trend growth 'logistic'. Set to 'linear'\n",
      "INFO: nprophet.config - __post_init__: Note: Trend changepoint regularization is experimental.\n",
      "INFO: nprophet.config - __post_init__: Note: Fourier-based seasonality regularization is experimental.\n",
      "WARNING: nprophet - fit: Parts of code may break if using other than daily data.\n",
      "INFO: nprophet.config - set_auto_batch_epoch: Auto-set batch_size to 8\n"
     ]
    },
    {
     "name": "stdout",
     "output_type": "stream",
     "text": [
      "51.535134149999976\n"
     ]
    },
    {
     "name": "stderr",
     "output_type": "stream",
     "text": [
      "Epoch[1000/1000]: 100%|██████████| 1000/1000 [00:51<00:00, 19.46it/s, SmoothL1Loss=0.00215, MAE=0.0873, RegLoss=0.312, MAE_val=0.0176, SmoothL1Loss_val=2.93e-5]\n",
      "WARNING: nprophet - make_future_dataframe: Insufficient data for 300 historic forecasts, reduced to 197.\n",
      "WARNING: nprophet - __init__: Changing n_forecasts to 1. Without lags, the forecast can be computed for any future time, independent of lagged values\n",
      "ERROR: nprophet.config - __post_init__: Invalid trend growth 'logistic'. Set to 'linear'\n",
      "INFO: nprophet.config - __post_init__: Note: Trend changepoint regularization is experimental.\n",
      "INFO: nprophet.config - __post_init__: Note: Fourier-based seasonality regularization is experimental.\n",
      "WARNING: nprophet - fit: Parts of code may break if using other than daily data.\n",
      "INFO: nprophet.config - set_auto_batch_epoch: Auto-set batch_size to 8\n"
     ]
    },
    {
     "name": "stdout",
     "output_type": "stream",
     "text": [
      "103.16767022800013\n"
     ]
    },
    {
     "name": "stderr",
     "output_type": "stream",
     "text": [
      "Epoch[1000/1000]: 100%|██████████| 1000/1000 [00:52<00:00, 19.09it/s, SmoothL1Loss=0.000304, MAE=0.0241, RegLoss=0.000513, MAE_val=0.0209, SmoothL1Loss_val=6.84e-5]\n",
      "WARNING: nprophet - make_future_dataframe: Insufficient data for 300 historic forecasts, reduced to 197.\n",
      "WARNING: nprophet - __init__: Changing n_forecasts to 1. Without lags, the forecast can be computed for any future time, independent of lagged values\n",
      "ERROR: nprophet.config - __post_init__: Invalid trend growth 'logistic'. Set to 'linear'\n",
      "INFO: nprophet.config - __post_init__: Note: Trend changepoint regularization is experimental.\n",
      "INFO: nprophet.config - __post_init__: Note: Fourier-based seasonality regularization is experimental.\n",
      "WARNING: nprophet - fit: Parts of code may break if using other than daily data.\n",
      "INFO: nprophet.config - set_auto_batch_epoch: Auto-set batch_size to 8\n"
     ]
    },
    {
     "name": "stdout",
     "output_type": "stream",
     "text": [
      "155.76870597300058\n"
     ]
    },
    {
     "name": "stderr",
     "output_type": "stream",
     "text": [
      "Epoch[1000/1000]: 100%|██████████| 1000/1000 [00:51<00:00, 19.26it/s, SmoothL1Loss=0.00226, MAE=0.0887, RegLoss=0.312, MAE_val=0.0165, SmoothL1Loss_val=2.59e-5]\n",
      "WARNING: nprophet - make_future_dataframe: Insufficient data for 300 historic forecasts, reduced to 197.\n",
      "WARNING: nprophet - __init__: Changing n_forecasts to 1. Without lags, the forecast can be computed for any future time, independent of lagged values\n",
      "ERROR: nprophet.config - __post_init__: Invalid trend growth 'logistic'. Set to 'linear'\n",
      "INFO: nprophet.config - __post_init__: Note: Trend changepoint regularization is experimental.\n",
      "INFO: nprophet.config - __post_init__: Note: Fourier-based seasonality regularization is experimental.\n",
      "WARNING: nprophet - fit: Parts of code may break if using other than daily data.\n",
      "INFO: nprophet.config - set_auto_batch_epoch: Auto-set batch_size to 8\n"
     ]
    },
    {
     "name": "stdout",
     "output_type": "stream",
     "text": [
      "52.15405779400044\n"
     ]
    },
    {
     "name": "stderr",
     "output_type": "stream",
     "text": [
      "Epoch[1000/1000]: 100%|██████████| 1000/1000 [00:52<00:00, 19.20it/s, SmoothL1Loss=0.00032, MAE=0.025, RegLoss=0.000451, MAE_val=0.0178, SmoothL1Loss_val=5.3e-5]\n",
      "WARNING: nprophet - make_future_dataframe: Insufficient data for 300 historic forecasts, reduced to 197.\n",
      "WARNING: nprophet - __init__: Changing n_forecasts to 1. Without lags, the forecast can be computed for any future time, independent of lagged values\n",
      "ERROR: nprophet.config - __post_init__: Invalid trend growth 'logistic'. Set to 'linear'\n",
      "INFO: nprophet.config - __post_init__: Note: Trend changepoint regularization is experimental.\n",
      "INFO: nprophet.config - __post_init__: Note: Fourier-based seasonality regularization is experimental.\n",
      "WARNING: nprophet - fit: Parts of code may break if using other than daily data.\n",
      "INFO: nprophet.config - set_auto_batch_epoch: Auto-set batch_size to 8\n"
     ]
    },
    {
     "name": "stdout",
     "output_type": "stream",
     "text": [
      "104.45173610700022\n"
     ]
    },
    {
     "name": "stderr",
     "output_type": "stream",
     "text": [
      "Epoch[1000/1000]: 100%|██████████| 1000/1000 [00:53<00:00, 18.84it/s, SmoothL1Loss=0.000301, MAE=0.0242, RegLoss=0.000488, MAE_val=0.0131, SmoothL1Loss_val=3.3e-5]\n",
      "WARNING: nprophet - make_future_dataframe: Insufficient data for 300 historic forecasts, reduced to 197.\n",
      "WARNING: nprophet - __init__: Changing n_forecasts to 1. Without lags, the forecast can be computed for any future time, independent of lagged values\n",
      "ERROR: nprophet.config - __post_init__: Invalid trend growth 'logistic'. Set to 'linear'\n",
      "INFO: nprophet.config - __post_init__: Note: Trend changepoint regularization is experimental.\n",
      "INFO: nprophet.config - __post_init__: Note: Fourier-based seasonality regularization is experimental.\n",
      "WARNING: nprophet - fit: Parts of code may break if using other than daily data.\n",
      "INFO: nprophet.config - set_auto_batch_epoch: Auto-set batch_size to 8\n"
     ]
    },
    {
     "name": "stdout",
     "output_type": "stream",
     "text": [
      "157.7537819170002\n"
     ]
    },
    {
     "name": "stderr",
     "output_type": "stream",
     "text": [
      "Epoch[1000/1000]: 100%|██████████| 1000/1000 [00:53<00:00, 18.83it/s, SmoothL1Loss=0.000318, MAE=0.0249, RegLoss=0.000473, MAE_val=0.0285, SmoothL1Loss_val=0.00011]\n",
      "WARNING: nprophet - make_future_dataframe: Insufficient data for 300 historic forecasts, reduced to 197.\n",
      "WARNING: nprophet - __init__: Changing n_forecasts to 1. Without lags, the forecast can be computed for any future time, independent of lagged values\n",
      "ERROR: nprophet.config - __post_init__: Invalid trend growth 'logistic'. Set to 'linear'\n",
      "INFO: nprophet.config - __post_init__: Note: Trend changepoint regularization is experimental.\n",
      "INFO: nprophet.config - __post_init__: Note: Fourier-based seasonality regularization is experimental.\n",
      "WARNING: nprophet - fit: Parts of code may break if using other than daily data.\n",
      "INFO: nprophet.config - set_auto_batch_epoch: Auto-set batch_size to 8\n"
     ]
    },
    {
     "name": "stdout",
     "output_type": "stream",
     "text": [
      "53.33806069000002\n"
     ]
    },
    {
     "name": "stderr",
     "output_type": "stream",
     "text": [
      "Epoch[1000/1000]: 100%|██████████| 1000/1000 [00:53<00:00, 18.60it/s, SmoothL1Loss=0.000287, MAE=0.0234, RegLoss=0.000448, MAE_val=0.013, SmoothL1Loss_val=3.2e-5]\n",
      "WARNING: nprophet - make_future_dataframe: Insufficient data for 300 historic forecasts, reduced to 197.\n",
      "WARNING: nprophet - __init__: Changing n_forecasts to 1. Without lags, the forecast can be computed for any future time, independent of lagged values\n",
      "ERROR: nprophet.config - __post_init__: Invalid trend growth 'logistic'. Set to 'linear'\n",
      "INFO: nprophet.config - __post_init__: Note: Trend changepoint regularization is experimental.\n",
      "INFO: nprophet.config - __post_init__: Note: Fourier-based seasonality regularization is experimental.\n",
      "WARNING: nprophet - fit: Parts of code may break if using other than daily data.\n",
      "INFO: nprophet.config - set_auto_batch_epoch: Auto-set batch_size to 8\n"
     ]
    },
    {
     "name": "stdout",
     "output_type": "stream",
     "text": [
      "107.31490037799995\n"
     ]
    },
    {
     "name": "stderr",
     "output_type": "stream",
     "text": [
      "Epoch[1000/1000]: 100%|██████████| 1000/1000 [00:53<00:00, 18.52it/s, SmoothL1Loss=0.000311, MAE=0.0246, RegLoss=0.000488, MAE_val=0.011, SmoothL1Loss_val=1.97e-5]\n",
      "WARNING: nprophet - make_future_dataframe: Insufficient data for 300 historic forecasts, reduced to 197.\n",
      "WARNING: nprophet - __init__: Changing n_forecasts to 1. Without lags, the forecast can be computed for any future time, independent of lagged values\n",
      "ERROR: nprophet.config - __post_init__: Invalid trend growth 'logistic'. Set to 'linear'\n",
      "INFO: nprophet.config - __post_init__: Note: Trend changepoint regularization is experimental.\n",
      "INFO: nprophet.config - __post_init__: Note: Fourier-based seasonality regularization is experimental.\n",
      "WARNING: nprophet - fit: Parts of code may break if using other than daily data.\n",
      "INFO: nprophet.config - set_auto_batch_epoch: Auto-set batch_size to 8\n"
     ]
    },
    {
     "name": "stdout",
     "output_type": "stream",
     "text": [
      "161.53015108599993\n"
     ]
    },
    {
     "name": "stderr",
     "output_type": "stream",
     "text": [
      "Epoch[1000/1000]: 100%|██████████| 1000/1000 [00:52<00:00, 19.06it/s, SmoothL1Loss=0.00228, MAE=0.0899, RegLoss=0.312, MAE_val=0.0185, SmoothL1Loss_val=3.27e-5]\n",
      "WARNING: nprophet - make_future_dataframe: Insufficient data for 300 historic forecasts, reduced to 197.\n",
      "WARNING: nprophet - __init__: Changing n_forecasts to 1. Without lags, the forecast can be computed for any future time, independent of lagged values\n",
      "ERROR: nprophet.config - __post_init__: Invalid trend growth 'logistic'. Set to 'linear'\n",
      "INFO: nprophet.config - __post_init__: Note: Trend changepoint regularization is experimental.\n",
      "INFO: nprophet.config - __post_init__: Note: Fourier-based seasonality regularization is experimental.\n",
      "WARNING: nprophet - fit: Parts of code may break if using other than daily data.\n",
      "INFO: nprophet.config - set_auto_batch_epoch: Auto-set batch_size to 8\n"
     ]
    },
    {
     "name": "stdout",
     "output_type": "stream",
     "text": [
      "52.686289076999856\n"
     ]
    },
    {
     "name": "stderr",
     "output_type": "stream",
     "text": [
      "Epoch[1000/1000]: 100%|██████████| 1000/1000 [00:52<00:00, 18.98it/s, SmoothL1Loss=0.000329, MAE=0.0253, RegLoss=0.000507, MAE_val=0.0258, SmoothL1Loss_val=9.57e-5]\n",
      "WARNING: nprophet - make_future_dataframe: Insufficient data for 300 historic forecasts, reduced to 197.\n",
      "WARNING: nprophet - __init__: Changing n_forecasts to 1. Without lags, the forecast can be computed for any future time, independent of lagged values\n",
      "ERROR: nprophet.config - __post_init__: Invalid trend growth 'logistic'. Set to 'linear'\n",
      "INFO: nprophet.config - __post_init__: Note: Trend changepoint regularization is experimental.\n",
      "INFO: nprophet.config - __post_init__: Note: Fourier-based seasonality regularization is experimental.\n",
      "WARNING: nprophet - fit: Parts of code may break if using other than daily data.\n",
      "INFO: nprophet.config - set_auto_batch_epoch: Auto-set batch_size to 8\n"
     ]
    },
    {
     "name": "stdout",
     "output_type": "stream",
     "text": [
      "105.58343607499955\n"
     ]
    },
    {
     "name": "stderr",
     "output_type": "stream",
     "text": [
      "Epoch[1000/1000]: 100%|██████████| 1000/1000 [00:52<00:00, 18.90it/s, SmoothL1Loss=0.00031, MAE=0.0245, RegLoss=0.000485, MAE_val=0.0194, SmoothL1Loss_val=6.07e-5]\n",
      "WARNING: nprophet - make_future_dataframe: Insufficient data for 300 historic forecasts, reduced to 197.\n"
     ]
    },
    {
     "name": "stdout",
     "output_type": "stream",
     "text": [
      "158.713788303\n"
     ]
    }
   ],
   "source": [
    "# 파라미터별 rmse 저장할 데이터 프레임 생성 \n",
    "result = pd.DataFrame(columns=['learning_rate','num_hidden_layers','n_changepoints','rmse'])\n",
    "# 데이터 프레임 row index 변수 생성\n",
    "count=0\n",
    "# 파라미터 조합 반복문 실행\n",
    "for lr in learning_rate:\n",
    "  for layer in num_hidden_layers:\n",
    "    start = timer()\n",
    "    for changepoint in n_changepoints:\n",
    "\n",
    "      nprophet = NeuralProphet(\n",
    "                                yearly_seasonality=False, \n",
    "                                weekly_seasonality=True, \n",
    "                                daily_seasonality=True,\n",
    "                                learning_rate=lr, \n",
    "                                changepoints_range=changepoints_range, \n",
    "                                n_forecasts=n_forecasts,\n",
    "                                ar_sparsity=ar_sparsity, \n",
    "                                n_changepoints=changepoint, \n",
    "                                growth='logistic', \n",
    "                                seasonality_mode='multiplicative', \n",
    "                                trend_reg=trend_reg,\n",
    "                                num_hidden_layers=layer,\n",
    "                                seasonality_reg = seasonality_reg)\n",
    "      \n",
    "      nprophet.fit(df, plot_live_loss=False, epochs=epochs, freq=freq, validate_each_epoch=True, valid_p=0.1)\n",
    "      #nprophet.highlight_nth_step_ahead_of_each_forecast(step_number=nprophet.n_forecasts)\n",
    "      future = nprophet.make_future_dataframe(df, periods=52, n_historic_predictions=300)\n",
    "      forecast = nprophet.predict(future)\n",
    "      a = pd.DataFrame(columns=['ds', 'y', 'yhat1', 'residual1', 'trend', 'season_yearly'])\n",
    "      for i in val_date:\n",
    "        a = a.append(forecast.iloc[forecast.loc[forecast['ds']==i].index])\n",
    "      a.reset_index(drop=True, inplace = True)\n",
    "      result.loc[count] = lr, layer, changepoint, rmse(val_price, a['yhat1'])\n",
    "      count += 1\n",
    "      end = timer()\n",
    "      print(end-start)"
   ]
  },
  {
   "cell_type": "code",
   "execution_count": null,
   "metadata": {
    "colab": {
     "base_uri": "https://localhost:8080/",
     "height": 886
    },
    "executionInfo": {
     "elapsed": 15,
     "status": "ok",
     "timestamp": 1631655532965,
     "user": {
      "displayName": "Bosang KIM",
      "photoUrl": "https://lh3.googleusercontent.com/a/default-user=s64",
      "userId": "09337160292545321113"
     },
     "user_tz": -540
    },
    "id": "eN3To_PVKev9",
    "outputId": "e7397356-6885-476b-9dc8-966da35805d0"
   },
   "outputs": [
    {
     "data": {
      "text/html": [
       "<div>\n",
       "<style scoped>\n",
       "    .dataframe tbody tr th:only-of-type {\n",
       "        vertical-align: middle;\n",
       "    }\n",
       "\n",
       "    .dataframe tbody tr th {\n",
       "        vertical-align: top;\n",
       "    }\n",
       "\n",
       "    .dataframe thead th {\n",
       "        text-align: right;\n",
       "    }\n",
       "</style>\n",
       "<table border=\"1\" class=\"dataframe\">\n",
       "  <thead>\n",
       "    <tr style=\"text-align: right;\">\n",
       "      <th></th>\n",
       "      <th>learning_rate</th>\n",
       "      <th>num_hidden_layers</th>\n",
       "      <th>n_changepoints</th>\n",
       "      <th>rmse</th>\n",
       "    </tr>\n",
       "  </thead>\n",
       "  <tbody>\n",
       "    <tr>\n",
       "      <th>4</th>\n",
       "      <td>0.005</td>\n",
       "      <td>20.0</td>\n",
       "      <td>150.0</td>\n",
       "      <td>0.759025</td>\n",
       "    </tr>\n",
       "    <tr>\n",
       "      <th>1</th>\n",
       "      <td>0.005</td>\n",
       "      <td>10.0</td>\n",
       "      <td>150.0</td>\n",
       "      <td>0.767384</td>\n",
       "    </tr>\n",
       "    <tr>\n",
       "      <th>11</th>\n",
       "      <td>0.010</td>\n",
       "      <td>10.0</td>\n",
       "      <td>200.0</td>\n",
       "      <td>0.779051</td>\n",
       "    </tr>\n",
       "    <tr>\n",
       "      <th>24</th>\n",
       "      <td>0.015</td>\n",
       "      <td>30.0</td>\n",
       "      <td>100.0</td>\n",
       "      <td>0.781922</td>\n",
       "    </tr>\n",
       "    <tr>\n",
       "      <th>18</th>\n",
       "      <td>0.015</td>\n",
       "      <td>10.0</td>\n",
       "      <td>100.0</td>\n",
       "      <td>0.785956</td>\n",
       "    </tr>\n",
       "    <tr>\n",
       "      <th>16</th>\n",
       "      <td>0.010</td>\n",
       "      <td>30.0</td>\n",
       "      <td>150.0</td>\n",
       "      <td>0.786782</td>\n",
       "    </tr>\n",
       "    <tr>\n",
       "      <th>23</th>\n",
       "      <td>0.015</td>\n",
       "      <td>20.0</td>\n",
       "      <td>200.0</td>\n",
       "      <td>0.789685</td>\n",
       "    </tr>\n",
       "    <tr>\n",
       "      <th>15</th>\n",
       "      <td>0.010</td>\n",
       "      <td>30.0</td>\n",
       "      <td>100.0</td>\n",
       "      <td>0.791970</td>\n",
       "    </tr>\n",
       "    <tr>\n",
       "      <th>3</th>\n",
       "      <td>0.005</td>\n",
       "      <td>20.0</td>\n",
       "      <td>100.0</td>\n",
       "      <td>0.799375</td>\n",
       "    </tr>\n",
       "    <tr>\n",
       "      <th>22</th>\n",
       "      <td>0.015</td>\n",
       "      <td>20.0</td>\n",
       "      <td>150.0</td>\n",
       "      <td>0.800322</td>\n",
       "    </tr>\n",
       "    <tr>\n",
       "      <th>20</th>\n",
       "      <td>0.015</td>\n",
       "      <td>10.0</td>\n",
       "      <td>200.0</td>\n",
       "      <td>0.802610</td>\n",
       "    </tr>\n",
       "    <tr>\n",
       "      <th>6</th>\n",
       "      <td>0.005</td>\n",
       "      <td>30.0</td>\n",
       "      <td>100.0</td>\n",
       "      <td>0.814310</td>\n",
       "    </tr>\n",
       "    <tr>\n",
       "      <th>19</th>\n",
       "      <td>0.015</td>\n",
       "      <td>10.0</td>\n",
       "      <td>150.0</td>\n",
       "      <td>0.815111</td>\n",
       "    </tr>\n",
       "    <tr>\n",
       "      <th>26</th>\n",
       "      <td>0.015</td>\n",
       "      <td>30.0</td>\n",
       "      <td>200.0</td>\n",
       "      <td>0.819455</td>\n",
       "    </tr>\n",
       "    <tr>\n",
       "      <th>0</th>\n",
       "      <td>0.005</td>\n",
       "      <td>10.0</td>\n",
       "      <td>100.0</td>\n",
       "      <td>0.822523</td>\n",
       "    </tr>\n",
       "    <tr>\n",
       "      <th>17</th>\n",
       "      <td>0.010</td>\n",
       "      <td>30.0</td>\n",
       "      <td>200.0</td>\n",
       "      <td>0.824145</td>\n",
       "    </tr>\n",
       "    <tr>\n",
       "      <th>13</th>\n",
       "      <td>0.010</td>\n",
       "      <td>20.0</td>\n",
       "      <td>150.0</td>\n",
       "      <td>0.827156</td>\n",
       "    </tr>\n",
       "    <tr>\n",
       "      <th>10</th>\n",
       "      <td>0.010</td>\n",
       "      <td>10.0</td>\n",
       "      <td>150.0</td>\n",
       "      <td>0.831466</td>\n",
       "    </tr>\n",
       "    <tr>\n",
       "      <th>12</th>\n",
       "      <td>0.010</td>\n",
       "      <td>20.0</td>\n",
       "      <td>100.0</td>\n",
       "      <td>0.837207</td>\n",
       "    </tr>\n",
       "    <tr>\n",
       "      <th>25</th>\n",
       "      <td>0.015</td>\n",
       "      <td>30.0</td>\n",
       "      <td>150.0</td>\n",
       "      <td>0.837793</td>\n",
       "    </tr>\n",
       "    <tr>\n",
       "      <th>2</th>\n",
       "      <td>0.005</td>\n",
       "      <td>10.0</td>\n",
       "      <td>200.0</td>\n",
       "      <td>0.838964</td>\n",
       "    </tr>\n",
       "    <tr>\n",
       "      <th>9</th>\n",
       "      <td>0.010</td>\n",
       "      <td>10.0</td>\n",
       "      <td>100.0</td>\n",
       "      <td>0.839425</td>\n",
       "    </tr>\n",
       "    <tr>\n",
       "      <th>21</th>\n",
       "      <td>0.015</td>\n",
       "      <td>20.0</td>\n",
       "      <td>100.0</td>\n",
       "      <td>0.842396</td>\n",
       "    </tr>\n",
       "    <tr>\n",
       "      <th>5</th>\n",
       "      <td>0.005</td>\n",
       "      <td>20.0</td>\n",
       "      <td>200.0</td>\n",
       "      <td>0.854723</td>\n",
       "    </tr>\n",
       "    <tr>\n",
       "      <th>14</th>\n",
       "      <td>0.010</td>\n",
       "      <td>20.0</td>\n",
       "      <td>200.0</td>\n",
       "      <td>0.887948</td>\n",
       "    </tr>\n",
       "    <tr>\n",
       "      <th>8</th>\n",
       "      <td>0.005</td>\n",
       "      <td>30.0</td>\n",
       "      <td>200.0</td>\n",
       "      <td>0.903112</td>\n",
       "    </tr>\n",
       "    <tr>\n",
       "      <th>7</th>\n",
       "      <td>0.005</td>\n",
       "      <td>30.0</td>\n",
       "      <td>150.0</td>\n",
       "      <td>0.909118</td>\n",
       "    </tr>\n",
       "  </tbody>\n",
       "</table>\n",
       "</div>"
      ],
      "text/plain": [
       "    learning_rate  num_hidden_layers  n_changepoints      rmse\n",
       "4           0.005               20.0           150.0  0.759025\n",
       "1           0.005               10.0           150.0  0.767384\n",
       "11          0.010               10.0           200.0  0.779051\n",
       "24          0.015               30.0           100.0  0.781922\n",
       "18          0.015               10.0           100.0  0.785956\n",
       "16          0.010               30.0           150.0  0.786782\n",
       "23          0.015               20.0           200.0  0.789685\n",
       "15          0.010               30.0           100.0  0.791970\n",
       "3           0.005               20.0           100.0  0.799375\n",
       "22          0.015               20.0           150.0  0.800322\n",
       "20          0.015               10.0           200.0  0.802610\n",
       "6           0.005               30.0           100.0  0.814310\n",
       "19          0.015               10.0           150.0  0.815111\n",
       "26          0.015               30.0           200.0  0.819455\n",
       "0           0.005               10.0           100.0  0.822523\n",
       "17          0.010               30.0           200.0  0.824145\n",
       "13          0.010               20.0           150.0  0.827156\n",
       "10          0.010               10.0           150.0  0.831466\n",
       "12          0.010               20.0           100.0  0.837207\n",
       "25          0.015               30.0           150.0  0.837793\n",
       "2           0.005               10.0           200.0  0.838964\n",
       "9           0.010               10.0           100.0  0.839425\n",
       "21          0.015               20.0           100.0  0.842396\n",
       "5           0.005               20.0           200.0  0.854723\n",
       "14          0.010               20.0           200.0  0.887948\n",
       "8           0.005               30.0           200.0  0.903112\n",
       "7           0.005               30.0           150.0  0.909118"
      ]
     },
     "execution_count": 196,
     "metadata": {},
     "output_type": "execute_result"
    }
   ],
   "source": [
    "result.sort_values(by='rmse', ascending=True)"
   ]
  },
  {
   "cell_type": "markdown",
   "metadata": {
    "id": "8j9-1LeSotCw"
   },
   "source": [
    "- 위의 두 가지 실험을 비교해본 결과 (수온데이터 포함 실험 vs 수온데이터 미포함 실험)\n",
    "\n",
    "- 수온 데이터를 사용하여 모델을 훈련시키는 것이 성능이 월등히 좋음을 알 수 있음 "
   ]
  },
  {
   "cell_type": "markdown",
   "metadata": {
    "id": "Fk5GpugOKiFr"
   },
   "source": [
    "# 최적 하이퍼파라미터 적용(10회 실험)"
   ]
  },
  {
   "cell_type": "code",
   "execution_count": 116,
   "metadata": {
    "executionInfo": {
     "elapsed": 860,
     "status": "ok",
     "timestamp": 1631686019124,
     "user": {
      "displayName": "Bosang KIM",
      "photoUrl": "https://lh3.googleusercontent.com/a/default-user=s64",
      "userId": "09337160292545321113"
     },
     "user_tz": -540
    },
    "id": "rz0rX9dOoknW"
   },
   "outputs": [],
   "source": [
    "## neural prophet\n",
    "epochs = 1000\n",
    "# batch_size = 64\n",
    "learning_rate = 0.01\n",
    "\n",
    "\n",
    "# AR net \n",
    "n_forecasts = 52 # 예측 기간의 크기  # future_periods랑 같아야한다. \n",
    "num_hidden_layers = 20 # AR-net compelxity 조절 \n",
    "ar_sparsity = 0.8  # 0-1, 0에 가까울수록 sparse함 \n",
    "\n",
    "# d_hidden = 64 \n",
    "# trend_smoothness = 0.5\n",
    "n_changepoints = 200 # 변화점(changepoint)의 갯수 설정 \n",
    "changepoints_range = 1.0 # 변화점을 전체 데이터셋에서 몇 퍼센트 감지할지\n",
    "trend_reg = 0.03\n",
    "seasonality_reg=30\n",
    "\n",
    "#n_lags = 5  # >error : lambda delay가 없다"
   ]
  },
  {
   "cell_type": "code",
   "execution_count": 117,
   "metadata": {
    "colab": {
     "base_uri": "https://localhost:8080/"
    },
    "executionInfo": {
     "elapsed": 544322,
     "status": "ok",
     "timestamp": 1631686565144,
     "user": {
      "displayName": "Bosang KIM",
      "photoUrl": "https://lh3.googleusercontent.com/a/default-user=s64",
      "userId": "09337160292545321113"
     },
     "user_tz": -540
    },
    "id": "3drZvHjPpKeS",
    "outputId": "a97f7870-bd18-472e-8e80-433176534005"
   },
   "outputs": [
    {
     "name": "stderr",
     "output_type": "stream",
     "text": [
      "WARNING: nprophet - __init__: Changing n_forecasts to 1. Without lags, the forecast can be computed for any future time, independent of lagged values\n",
      "ERROR: nprophet.config - __post_init__: Invalid trend growth 'logistic'. Set to 'linear'\n",
      "INFO: nprophet.config - __post_init__: Note: Trend changepoint regularization is experimental.\n",
      "INFO: nprophet.config - __post_init__: Note: Fourier-based seasonality regularization is experimental.\n",
      "WARNING: nprophet - fit: Parts of code may break if using other than daily data.\n",
      "INFO: nprophet.config - set_auto_batch_epoch: Auto-set batch_size to 8\n",
      "Epoch[1000/1000]: 100%|██████████| 1000/1000 [00:53<00:00, 18.61it/s, SmoothL1Loss=0.000424, MAE=0.0245, RegLoss=0.000547, MAE_val=0.00977, SmoothL1Loss_val=2.82e-5]\n",
      "WARNING: nprophet - make_future_dataframe: Insufficient data for 300 historic forecasts, reduced to 197.\n",
      "WARNING: nprophet - __init__: Changing n_forecasts to 1. Without lags, the forecast can be computed for any future time, independent of lagged values\n",
      "ERROR: nprophet.config - __post_init__: Invalid trend growth 'logistic'. Set to 'linear'\n",
      "INFO: nprophet.config - __post_init__: Note: Trend changepoint regularization is experimental.\n",
      "INFO: nprophet.config - __post_init__: Note: Fourier-based seasonality regularization is experimental.\n",
      "WARNING: nprophet - fit: Parts of code may break if using other than daily data.\n",
      "INFO: nprophet.config - set_auto_batch_epoch: Auto-set batch_size to 8\n",
      "Epoch[1000/1000]: 100%|██████████| 1000/1000 [00:53<00:00, 18.58it/s, SmoothL1Loss=0.00245, MAE=0.0824, RegLoss=0.313, MAE_val=0.0282, SmoothL1Loss_val=0.000108]\n",
      "WARNING: nprophet - make_future_dataframe: Insufficient data for 300 historic forecasts, reduced to 197.\n",
      "WARNING: nprophet - __init__: Changing n_forecasts to 1. Without lags, the forecast can be computed for any future time, independent of lagged values\n",
      "ERROR: nprophet.config - __post_init__: Invalid trend growth 'logistic'. Set to 'linear'\n",
      "INFO: nprophet.config - __post_init__: Note: Trend changepoint regularization is experimental.\n",
      "INFO: nprophet.config - __post_init__: Note: Fourier-based seasonality regularization is experimental.\n",
      "WARNING: nprophet - fit: Parts of code may break if using other than daily data.\n",
      "INFO: nprophet.config - set_auto_batch_epoch: Auto-set batch_size to 8\n",
      "Epoch[1000/1000]: 100%|██████████| 1000/1000 [00:53<00:00, 18.55it/s, SmoothL1Loss=0.00238, MAE=0.0806, RegLoss=0.313, MAE_val=0.0251, SmoothL1Loss_val=8.66e-5]\n",
      "WARNING: nprophet - make_future_dataframe: Insufficient data for 300 historic forecasts, reduced to 197.\n",
      "WARNING: nprophet - __init__: Changing n_forecasts to 1. Without lags, the forecast can be computed for any future time, independent of lagged values\n",
      "ERROR: nprophet.config - __post_init__: Invalid trend growth 'logistic'. Set to 'linear'\n",
      "INFO: nprophet.config - __post_init__: Note: Trend changepoint regularization is experimental.\n",
      "INFO: nprophet.config - __post_init__: Note: Fourier-based seasonality regularization is experimental.\n",
      "WARNING: nprophet - fit: Parts of code may break if using other than daily data.\n",
      "INFO: nprophet.config - set_auto_batch_epoch: Auto-set batch_size to 8\n",
      "Epoch[1000/1000]: 100%|██████████| 1000/1000 [00:54<00:00, 18.44it/s, SmoothL1Loss=0.000421, MAE=0.0245, RegLoss=0.00055, MAE_val=0.0174, SmoothL1Loss_val=7.45e-5]\n",
      "WARNING: nprophet - make_future_dataframe: Insufficient data for 300 historic forecasts, reduced to 197.\n",
      "WARNING: nprophet - __init__: Changing n_forecasts to 1. Without lags, the forecast can be computed for any future time, independent of lagged values\n",
      "ERROR: nprophet.config - __post_init__: Invalid trend growth 'logistic'. Set to 'linear'\n",
      "INFO: nprophet.config - __post_init__: Note: Trend changepoint regularization is experimental.\n",
      "INFO: nprophet.config - __post_init__: Note: Fourier-based seasonality regularization is experimental.\n",
      "WARNING: nprophet - fit: Parts of code may break if using other than daily data.\n",
      "INFO: nprophet.config - set_auto_batch_epoch: Auto-set batch_size to 8\n",
      "Epoch[1000/1000]: 100%|██████████| 1000/1000 [00:53<00:00, 18.60it/s, SmoothL1Loss=0.00239, MAE=0.0806, RegLoss=0.313, MAE_val=0.0262, SmoothL1Loss_val=9.41e-5]\n",
      "WARNING: nprophet - make_future_dataframe: Insufficient data for 300 historic forecasts, reduced to 197.\n",
      "WARNING: nprophet - __init__: Changing n_forecasts to 1. Without lags, the forecast can be computed for any future time, independent of lagged values\n",
      "ERROR: nprophet.config - __post_init__: Invalid trend growth 'logistic'. Set to 'linear'\n",
      "INFO: nprophet.config - __post_init__: Note: Trend changepoint regularization is experimental.\n",
      "INFO: nprophet.config - __post_init__: Note: Fourier-based seasonality regularization is experimental.\n",
      "WARNING: nprophet - fit: Parts of code may break if using other than daily data.\n",
      "INFO: nprophet.config - set_auto_batch_epoch: Auto-set batch_size to 8\n",
      "Epoch[1000/1000]: 100%|██████████| 1000/1000 [00:53<00:00, 18.53it/s, SmoothL1Loss=0.00234, MAE=0.08, RegLoss=0.313, MAE_val=0.0217, SmoothL1Loss_val=6.5e-5]\n",
      "WARNING: nprophet - make_future_dataframe: Insufficient data for 300 historic forecasts, reduced to 197.\n",
      "WARNING: nprophet - __init__: Changing n_forecasts to 1. Without lags, the forecast can be computed for any future time, independent of lagged values\n",
      "ERROR: nprophet.config - __post_init__: Invalid trend growth 'logistic'. Set to 'linear'\n",
      "INFO: nprophet.config - __post_init__: Note: Trend changepoint regularization is experimental.\n",
      "INFO: nprophet.config - __post_init__: Note: Fourier-based seasonality regularization is experimental.\n",
      "WARNING: nprophet - fit: Parts of code may break if using other than daily data.\n",
      "INFO: nprophet.config - set_auto_batch_epoch: Auto-set batch_size to 8\n",
      "Epoch[1000/1000]: 100%|██████████| 1000/1000 [00:54<00:00, 18.30it/s, SmoothL1Loss=0.000417, MAE=0.0246, RegLoss=0.000549, MAE_val=0.0133, SmoothL1Loss_val=4.92e-5]\n",
      "WARNING: nprophet - make_future_dataframe: Insufficient data for 300 historic forecasts, reduced to 197.\n",
      "WARNING: nprophet - __init__: Changing n_forecasts to 1. Without lags, the forecast can be computed for any future time, independent of lagged values\n",
      "ERROR: nprophet.config - __post_init__: Invalid trend growth 'logistic'. Set to 'linear'\n",
      "INFO: nprophet.config - __post_init__: Note: Trend changepoint regularization is experimental.\n",
      "INFO: nprophet.config - __post_init__: Note: Fourier-based seasonality regularization is experimental.\n",
      "WARNING: nprophet - fit: Parts of code may break if using other than daily data.\n",
      "INFO: nprophet.config - set_auto_batch_epoch: Auto-set batch_size to 8\n",
      "Epoch[1000/1000]: 100%|██████████| 1000/1000 [00:54<00:00, 18.44it/s, SmoothL1Loss=0.000453, MAE=0.0252, RegLoss=0.000606, MAE_val=0.0097, SmoothL1Loss_val=2.69e-5]\n",
      "WARNING: nprophet - make_future_dataframe: Insufficient data for 300 historic forecasts, reduced to 197.\n",
      "WARNING: nprophet - __init__: Changing n_forecasts to 1. Without lags, the forecast can be computed for any future time, independent of lagged values\n",
      "ERROR: nprophet.config - __post_init__: Invalid trend growth 'logistic'. Set to 'linear'\n",
      "INFO: nprophet.config - __post_init__: Note: Trend changepoint regularization is experimental.\n",
      "INFO: nprophet.config - __post_init__: Note: Fourier-based seasonality regularization is experimental.\n",
      "WARNING: nprophet - fit: Parts of code may break if using other than daily data.\n",
      "INFO: nprophet.config - set_auto_batch_epoch: Auto-set batch_size to 8\n",
      "Epoch[1000/1000]: 100%|██████████| 1000/1000 [00:54<00:00, 18.43it/s, SmoothL1Loss=0.000451, MAE=0.0252, RegLoss=0.000568, MAE_val=0.00988, SmoothL1Loss_val=2.83e-5]\n",
      "WARNING: nprophet - make_future_dataframe: Insufficient data for 300 historic forecasts, reduced to 197.\n",
      "WARNING: nprophet - __init__: Changing n_forecasts to 1. Without lags, the forecast can be computed for any future time, independent of lagged values\n",
      "ERROR: nprophet.config - __post_init__: Invalid trend growth 'logistic'. Set to 'linear'\n",
      "INFO: nprophet.config - __post_init__: Note: Trend changepoint regularization is experimental.\n",
      "INFO: nprophet.config - __post_init__: Note: Fourier-based seasonality regularization is experimental.\n",
      "WARNING: nprophet - fit: Parts of code may break if using other than daily data.\n",
      "INFO: nprophet.config - set_auto_batch_epoch: Auto-set batch_size to 8\n",
      "Epoch[1000/1000]: 100%|██████████| 1000/1000 [00:55<00:00, 18.17it/s, SmoothL1Loss=0.000436, MAE=0.0248, RegLoss=0.000565, MAE_val=0.0186, SmoothL1Loss_val=8.13e-5]\n",
      "WARNING: nprophet - make_future_dataframe: Insufficient data for 300 historic forecasts, reduced to 197.\n"
     ]
    }
   ],
   "source": [
    "result = pd.DataFrame(columns=['learning_rate','num_hidden_layers','n_changepoints','rmse'])\n",
    "count = 0\n",
    "for king in range(10):\n",
    "  nprophet = NeuralProphet(\n",
    "                            yearly_seasonality=False, \n",
    "                            weekly_seasonality=True, \n",
    "                            daily_seasonality=True,\n",
    "                            learning_rate=learning_rate, \n",
    "                            changepoints_range=changepoints_range, \n",
    "                            n_forecasts=n_forecasts,\n",
    "                            ar_sparsity=ar_sparsity, \n",
    "                            n_changepoints=n_changepoints, \n",
    "                            growth='logistic', \n",
    "                            seasonality_mode='multiplicative', \n",
    "                            trend_reg=trend_reg,\n",
    "                            num_hidden_layers=num_hidden_layers,\n",
    "                            seasonality_reg = seasonality_reg)\n",
    "\n",
    "  nprophet.fit(df, plot_live_loss=False, epochs=epochs, freq=freq, validate_each_epoch=True, valid_p=0.1)\n",
    "  #nprophet.highlight_nth_step_ahead_of_each_forecast(step_number=nprophet.n_forecasts)\n",
    "  future = nprophet.make_future_dataframe(df, periods=52, n_historic_predictions=300)\n",
    "  forecast = nprophet.predict(future)\n",
    "  a = pd.DataFrame(columns=['ds', 'y', 'yhat1', 'residual1', 'trend', 'season_yearly'])\n",
    "  for i in val_date:\n",
    "    a = a.append(forecast.iloc[forecast.loc[forecast['ds']==i].index])\n",
    "  a.reset_index(drop=True, inplace = True)\n",
    "  result.loc[count] = learning_rate, num_hidden_layers, n_changepoints, rmse(val_price, a['yhat1'])\n",
    "  count += 1"
   ]
  },
  {
   "cell_type": "code",
   "execution_count": 118,
   "metadata": {
    "colab": {
     "base_uri": "https://localhost:8080/",
     "height": 359
    },
    "executionInfo": {
     "elapsed": 384,
     "status": "ok",
     "timestamp": 1631686616153,
     "user": {
      "displayName": "Bosang KIM",
      "photoUrl": "https://lh3.googleusercontent.com/a/default-user=s64",
      "userId": "09337160292545321113"
     },
     "user_tz": -540
    },
    "id": "d97PiVtHpM6m",
    "outputId": "dac66576-27d1-46f6-e020-b72c11334708"
   },
   "outputs": [
    {
     "data": {
      "text/html": [
       "<div>\n",
       "<style scoped>\n",
       "    .dataframe tbody tr th:only-of-type {\n",
       "        vertical-align: middle;\n",
       "    }\n",
       "\n",
       "    .dataframe tbody tr th {\n",
       "        vertical-align: top;\n",
       "    }\n",
       "\n",
       "    .dataframe thead th {\n",
       "        text-align: right;\n",
       "    }\n",
       "</style>\n",
       "<table border=\"1\" class=\"dataframe\">\n",
       "  <thead>\n",
       "    <tr style=\"text-align: right;\">\n",
       "      <th></th>\n",
       "      <th>learning_rate</th>\n",
       "      <th>num_hidden_layers</th>\n",
       "      <th>n_changepoints</th>\n",
       "      <th>rmse</th>\n",
       "    </tr>\n",
       "  </thead>\n",
       "  <tbody>\n",
       "    <tr>\n",
       "      <th>7</th>\n",
       "      <td>0.01</td>\n",
       "      <td>20.0</td>\n",
       "      <td>200.0</td>\n",
       "      <td>0.458002</td>\n",
       "    </tr>\n",
       "    <tr>\n",
       "      <th>0</th>\n",
       "      <td>0.01</td>\n",
       "      <td>20.0</td>\n",
       "      <td>200.0</td>\n",
       "      <td>0.458004</td>\n",
       "    </tr>\n",
       "    <tr>\n",
       "      <th>8</th>\n",
       "      <td>0.01</td>\n",
       "      <td>20.0</td>\n",
       "      <td>200.0</td>\n",
       "      <td>0.458077</td>\n",
       "    </tr>\n",
       "    <tr>\n",
       "      <th>6</th>\n",
       "      <td>0.01</td>\n",
       "      <td>20.0</td>\n",
       "      <td>200.0</td>\n",
       "      <td>0.458414</td>\n",
       "    </tr>\n",
       "    <tr>\n",
       "      <th>3</th>\n",
       "      <td>0.01</td>\n",
       "      <td>20.0</td>\n",
       "      <td>200.0</td>\n",
       "      <td>0.459516</td>\n",
       "    </tr>\n",
       "    <tr>\n",
       "      <th>9</th>\n",
       "      <td>0.01</td>\n",
       "      <td>20.0</td>\n",
       "      <td>200.0</td>\n",
       "      <td>0.459595</td>\n",
       "    </tr>\n",
       "    <tr>\n",
       "      <th>5</th>\n",
       "      <td>0.01</td>\n",
       "      <td>20.0</td>\n",
       "      <td>200.0</td>\n",
       "      <td>0.465559</td>\n",
       "    </tr>\n",
       "    <tr>\n",
       "      <th>2</th>\n",
       "      <td>0.01</td>\n",
       "      <td>20.0</td>\n",
       "      <td>200.0</td>\n",
       "      <td>0.467713</td>\n",
       "    </tr>\n",
       "    <tr>\n",
       "      <th>4</th>\n",
       "      <td>0.01</td>\n",
       "      <td>20.0</td>\n",
       "      <td>200.0</td>\n",
       "      <td>0.468426</td>\n",
       "    </tr>\n",
       "    <tr>\n",
       "      <th>1</th>\n",
       "      <td>0.01</td>\n",
       "      <td>20.0</td>\n",
       "      <td>200.0</td>\n",
       "      <td>0.469150</td>\n",
       "    </tr>\n",
       "  </tbody>\n",
       "</table>\n",
       "</div>"
      ],
      "text/plain": [
       "   learning_rate  num_hidden_layers  n_changepoints      rmse\n",
       "7           0.01               20.0           200.0  0.458002\n",
       "0           0.01               20.0           200.0  0.458004\n",
       "8           0.01               20.0           200.0  0.458077\n",
       "6           0.01               20.0           200.0  0.458414\n",
       "3           0.01               20.0           200.0  0.459516\n",
       "9           0.01               20.0           200.0  0.459595\n",
       "5           0.01               20.0           200.0  0.465559\n",
       "2           0.01               20.0           200.0  0.467713\n",
       "4           0.01               20.0           200.0  0.468426\n",
       "1           0.01               20.0           200.0  0.469150"
      ]
     },
     "execution_count": 118,
     "metadata": {},
     "output_type": "execute_result"
    }
   ],
   "source": [
    "result.sort_values(by='rmse')"
   ]
  },
  {
   "cell_type": "code",
   "execution_count": 119,
   "metadata": {
    "colab": {
     "base_uri": "https://localhost:8080/"
    },
    "executionInfo": {
     "elapsed": 8,
     "status": "ok",
     "timestamp": 1631686617408,
     "user": {
      "displayName": "Bosang KIM",
      "photoUrl": "https://lh3.googleusercontent.com/a/default-user=s64",
      "userId": "09337160292545321113"
     },
     "user_tz": -540
    },
    "id": "zoSQOjrWsS6Q",
    "outputId": "c5564470-3b99-48db-eddb-d0e7870c5456"
   },
   "outputs": [
    {
     "data": {
      "text/plain": [
       "0.4622456817359092"
      ]
     },
     "execution_count": 119,
     "metadata": {},
     "output_type": "execute_result"
    }
   ],
   "source": [
    "np.mean(result['rmse'].values)"
   ]
  },
  {
   "cell_type": "code",
   "execution_count": 120,
   "metadata": {
    "colab": {
     "base_uri": "https://localhost:8080/",
     "height": 865
    },
    "executionInfo": {
     "elapsed": 1287,
     "status": "ok",
     "timestamp": 1631686784760,
     "user": {
      "displayName": "Bosang KIM",
      "photoUrl": "https://lh3.googleusercontent.com/a/default-user=s64",
      "userId": "09337160292545321113"
     },
     "user_tz": -540
    },
    "id": "wUCKNr1GsHvu",
    "outputId": "ec8f1a22-188e-4832-941d-60022dc51c2d"
   },
   "outputs": [
    {
     "data": {
      "image/png": "[encoded data removed]",
      "text/plain": [
       "<Figure size 720x432 with 1 Axes>"
      ]
     },
     "execution_count": 120,
     "metadata": {},
     "output_type": "execute_result"
    },
    {
     "data": {
      "image/png": "[encoded data removed]",
      "text/plain": [
       "<Figure size 720x432 with 1 Axes>"
      ]
     },
     "metadata": {},
     "output_type": "display_data"
    }
   ],
   "source": [
    "nprophet.plot(forecast)"
   ]
  },
  {
   "cell_type": "code",
   "execution_count": null,
   "metadata": {
    "id": "2To-maFOHG2l"
   },
   "outputs": [],
   "source": []
  }
 ],
 "metadata": {
  "colab": {
   "collapsed_sections": [],
   "machine_shape": "hm",
   "name": "attention_neuralprophet(흰다리새우).ipynb",
   "provenance": [],
   "toc_visible": true
  },
  "kernelspec": {
   "display_name": "Python 3",
   "language": "python",
   "name": "python3"
  },
  "language_info": {
   "codemirror_mode": {
    "name": "ipython",
    "version": 3
   },
   "file_extension": ".py",
   "mimetype": "text/x-python",
   "name": "python",
   "nbconvert_exporter": "python",
   "pygments_lexer": "ipython3",
   "version": "3.8.8"
  },
  "widgets": {
   "application/vnd.jupyter.widget-state+json": {
    "047168082f774edea49722aa223953d4": {
     "model_module": "@jupyter-widgets/base",
     "model_module_version": "1.2.0",
     "model_name": "LayoutModel",
     "state": {
      "_model_module": "@jupyter-widgets/base",
      "_model_module_version": "1.2.0",
      "_model_name": "LayoutModel",
      "_view_count": null,
      "_view_module": "@jupyter-widgets/base",
      "_view_module_version": "1.2.0",
      "_view_name": "LayoutView",
      "align_content": null,
      "align_items": null,
      "align_self": null,
      "border": null,
      "bottom": null,
      "display": null,
      "flex": null,
      "flex_flow": null,
      "grid_area": null,
      "grid_auto_columns": null,
      "grid_auto_flow": null,
      "grid_auto_rows": null,
      "grid_column": null,
      "grid_gap": null,
      "grid_row": null,
      "grid_template_areas": null,
      "grid_template_columns": null,
      "grid_template_rows": null,
      "height": null,
      "justify_content": null,
      "justify_items": null,
      "left": null,
      "margin": null,
      "max_height": null,
      "max_width": null,
      "min_height": null,
      "min_width": null,
      "object_fit": null,
      "object_position": null,
      "order": null,
      "overflow": null,
      "overflow_x": null,
      "overflow_y": null,
      "padding": null,
      "right": null,
      "top": null,
      "visibility": null,
      "width": null
     }
    },
    "0aa57a61180d4e17bb3a885b5c57e9ff": {
     "model_module": "@jupyter-widgets/controls",
     "model_module_version": "1.5.0",
     "model_name": "DescriptionStyleModel",
     "state": {
      "_model_module": "@jupyter-widgets/controls",
      "_model_module_version": "1.5.0",
      "_model_name": "DescriptionStyleModel",
      "_view_count": null,
      "_view_module": "@jupyter-widgets/base",
      "_view_module_version": "1.2.0",
      "_view_name": "StyleView",
      "description_width": ""
     }
    },
    "0c55af4793674ae4a60315300da11182": {
     "model_module": "@jupyter-widgets/base",
     "model_module_version": "1.2.0",
     "model_name": "LayoutModel",
     "state": {
      "_model_module": "@jupyter-widgets/base",
      "_model_module_version": "1.2.0",
      "_model_name": "LayoutModel",
      "_view_count": null,
      "_view_module": "@jupyter-widgets/base",
      "_view_module_version": "1.2.0",
      "_view_name": "LayoutView",
      "align_content": null,
      "align_items": null,
      "align_self": null,
      "border": null,
      "bottom": null,
      "display": null,
      "flex": null,
      "flex_flow": null,
      "grid_area": null,
      "grid_auto_columns": null,
      "grid_auto_flow": null,
      "grid_auto_rows": null,
      "grid_column": null,
      "grid_gap": null,
      "grid_row": null,
      "grid_template_areas": null,
      "grid_template_columns": null,
      "grid_template_rows": null,
      "height": null,
      "justify_content": null,
      "justify_items": null,
      "left": null,
      "margin": null,
      "max_height": null,
      "max_width": null,
      "min_height": null,
      "min_width": null,
      "object_fit": null,
      "object_position": null,
      "order": null,
      "overflow": null,
      "overflow_x": null,
      "overflow_y": null,
      "padding": null,
      "right": null,
      "top": null,
      "visibility": null,
      "width": null
     }
    },
    "171d94b620314cc18ef774a32e2c3ec1": {
     "model_module": "@jupyter-widgets/base",
     "model_module_version": "1.2.0",
     "model_name": "LayoutModel",
     "state": {
      "_model_module": "@jupyter-widgets/base",
      "_model_module_version": "1.2.0",
      "_model_name": "LayoutModel",
      "_view_count": null,
      "_view_module": "@jupyter-widgets/base",
      "_view_module_version": "1.2.0",
      "_view_name": "LayoutView",
      "align_content": null,
      "align_items": null,
      "align_self": null,
      "border": null,
      "bottom": null,
      "display": null,
      "flex": null,
      "flex_flow": null,
      "grid_area": null,
      "grid_auto_columns": null,
      "grid_auto_flow": null,
      "grid_auto_rows": null,
      "grid_column": null,
      "grid_gap": null,
      "grid_row": null,
      "grid_template_areas": null,
      "grid_template_columns": null,
      "grid_template_rows": null,
      "height": null,
      "justify_content": null,
      "justify_items": null,
      "left": null,
      "margin": null,
      "max_height": null,
      "max_width": null,
      "min_height": null,
      "min_width": null,
      "object_fit": null,
      "object_position": null,
      "order": null,
      "overflow": null,
      "overflow_x": null,
      "overflow_y": null,
      "padding": null,
      "right": null,
      "top": null,
      "visibility": null,
      "width": null
     }
    },
    "17d3a96ff1314f91bea57de1b18d1aa3": {
     "model_module": "@jupyter-widgets/controls",
     "model_module_version": "1.5.0",
     "model_name": "DescriptionStyleModel",
     "state": {
      "_model_module": "@jupyter-widgets/controls",
      "_model_module_version": "1.5.0",
      "_model_name": "DescriptionStyleModel",
      "_view_count": null,
      "_view_module": "@jupyter-widgets/base",
      "_view_module_version": "1.2.0",
      "_view_name": "StyleView",
      "description_width": ""
     }
    },
    "1f5c1205a428442c80a0d0d0bc074e29": {
     "model_module": "@jupyter-widgets/controls",
     "model_module_version": "1.5.0",
     "model_name": "DescriptionStyleModel",
     "state": {
      "_model_module": "@jupyter-widgets/controls",
      "_model_module_version": "1.5.0",
      "_model_name": "DescriptionStyleModel",
      "_view_count": null,
      "_view_module": "@jupyter-widgets/base",
      "_view_module_version": "1.2.0",
      "_view_name": "StyleView",
      "description_width": ""
     }
    },
    "21ff1d54f56247a99595e0b32fbeb226": {
     "model_module": "@jupyter-widgets/base",
     "model_module_version": "1.2.0",
     "model_name": "LayoutModel",
     "state": {
      "_model_module": "@jupyter-widgets/base",
      "_model_module_version": "1.2.0",
      "_model_name": "LayoutModel",
      "_view_count": null,
      "_view_module": "@jupyter-widgets/base",
      "_view_module_version": "1.2.0",
      "_view_name": "LayoutView",
      "align_content": null,
      "align_items": null,
      "align_self": null,
      "border": null,
      "bottom": null,
      "display": null,
      "flex": null,
      "flex_flow": null,
      "grid_area": null,
      "grid_auto_columns": null,
      "grid_auto_flow": null,
      "grid_auto_rows": null,
      "grid_column": null,
      "grid_gap": null,
      "grid_row": null,
      "grid_template_areas": null,
      "grid_template_columns": null,
      "grid_template_rows": null,
      "height": null,
      "justify_content": null,
      "justify_items": null,
      "left": null,
      "margin": null,
      "max_height": null,
      "max_width": null,
      "min_height": null,
      "min_width": null,
      "object_fit": null,
      "object_position": null,
      "order": null,
      "overflow": null,
      "overflow_x": null,
      "overflow_y": null,
      "padding": null,
      "right": null,
      "top": null,
      "visibility": null,
      "width": null
     }
    },
    "35a443c17d964bc0bd1401cc17109079": {
     "model_module": "@jupyter-widgets/controls",
     "model_module_version": "1.5.0",
     "model_name": "HTMLModel",
     "state": {
      "_dom_classes": [],
      "_model_module": "@jupyter-widgets/controls",
      "_model_module_version": "1.5.0",
      "_model_name": "HTMLModel",
      "_view_count": null,
      "_view_module": "@jupyter-widgets/controls",
      "_view_module_version": "1.5.0",
      "_view_name": "HTMLView",
      "description": "",
      "description_tooltip": null,
      "layout": "IPY_MODEL_171d94b620314cc18ef774a32e2c3ec1",
      "placeholder": "​",
      "style": "IPY_MODEL_45ff2ceed3934765af555f93491283dc",
      "value": " 83%"
     }
    },
    "3df141b07bf4413481a70c034c7f703a": {
     "model_module": "@jupyter-widgets/base",
     "model_module_version": "1.2.0",
     "model_name": "LayoutModel",
     "state": {
      "_model_module": "@jupyter-widgets/base",
      "_model_module_version": "1.2.0",
      "_model_name": "LayoutModel",
      "_view_count": null,
      "_view_module": "@jupyter-widgets/base",
      "_view_module_version": "1.2.0",
      "_view_name": "LayoutView",
      "align_content": null,
      "align_items": null,
      "align_self": null,
      "border": null,
      "bottom": null,
      "display": null,
      "flex": null,
      "flex_flow": null,
      "grid_area": null,
      "grid_auto_columns": null,
      "grid_auto_flow": null,
      "grid_auto_rows": null,
      "grid_column": null,
      "grid_gap": null,
      "grid_row": null,
      "grid_template_areas": null,
      "grid_template_columns": null,
      "grid_template_rows": null,
      "height": null,
      "justify_content": null,
      "justify_items": null,
      "left": null,
      "margin": null,
      "max_height": null,
      "max_width": null,
      "min_height": null,
      "min_width": null,
      "object_fit": null,
      "object_position": null,
      "order": null,
      "overflow": null,
      "overflow_x": null,
      "overflow_y": null,
      "padding": null,
      "right": null,
      "top": null,
      "visibility": null,
      "width": null
     }
    },
    "3e7e8b4ca56b4e4da36b7f259fb30bff": {
     "model_module": "@jupyter-widgets/controls",
     "model_module_version": "1.5.0",
     "model_name": "HTMLModel",
     "state": {
      "_dom_classes": [],
      "_model_module": "@jupyter-widgets/controls",
      "_model_module_version": "1.5.0",
      "_model_name": "HTMLModel",
      "_view_count": null,
      "_view_module": "@jupyter-widgets/controls",
      "_view_module_version": "1.5.0",
      "_view_name": "HTMLView",
      "description": "",
      "description_tooltip": null,
      "layout": "IPY_MODEL_0c55af4793674ae4a60315300da11182",
      "placeholder": "​",
      "style": "IPY_MODEL_0aa57a61180d4e17bb3a885b5c57e9ff",
      "value": " 83/100 [00:00&lt;00:00, 368.05it/s]"
     }
    },
    "45ff2ceed3934765af555f93491283dc": {
     "model_module": "@jupyter-widgets/controls",
     "model_module_version": "1.5.0",
     "model_name": "DescriptionStyleModel",
     "state": {
      "_model_module": "@jupyter-widgets/controls",
      "_model_module_version": "1.5.0",
      "_model_name": "DescriptionStyleModel",
      "_view_count": null,
      "_view_module": "@jupyter-widgets/base",
      "_view_module_version": "1.2.0",
      "_view_name": "StyleView",
      "description_width": ""
     }
    },
    "46a0041a685444a4870076fc8d7f37d6": {
     "model_module": "@jupyter-widgets/controls",
     "model_module_version": "1.5.0",
     "model_name": "DescriptionStyleModel",
     "state": {
      "_model_module": "@jupyter-widgets/controls",
      "_model_module_version": "1.5.0",
      "_model_name": "DescriptionStyleModel",
      "_view_count": null,
      "_view_module": "@jupyter-widgets/base",
      "_view_module_version": "1.2.0",
      "_view_name": "StyleView",
      "description_width": ""
     }
    },
    "46ca4faeed3c4861843ebaec1f53cc12": {
     "model_module": "@jupyter-widgets/base",
     "model_module_version": "1.2.0",
     "model_name": "LayoutModel",
     "state": {
      "_model_module": "@jupyter-widgets/base",
      "_model_module_version": "1.2.0",
      "_model_name": "LayoutModel",
      "_view_count": null,
      "_view_module": "@jupyter-widgets/base",
      "_view_module_version": "1.2.0",
      "_view_name": "LayoutView",
      "align_content": null,
      "align_items": null,
      "align_self": null,
      "border": null,
      "bottom": null,
      "display": null,
      "flex": null,
      "flex_flow": null,
      "grid_area": null,
      "grid_auto_columns": null,
      "grid_auto_flow": null,
      "grid_auto_rows": null,
      "grid_column": null,
      "grid_gap": null,
      "grid_row": null,
      "grid_template_areas": null,
      "grid_template_columns": null,
      "grid_template_rows": null,
      "height": null,
      "justify_content": null,
      "justify_items": null,
      "left": null,
      "margin": null,
      "max_height": null,
      "max_width": null,
      "min_height": null,
      "min_width": null,
      "object_fit": null,
      "object_position": null,
      "order": null,
      "overflow": null,
      "overflow_x": null,
      "overflow_y": null,
      "padding": null,
      "right": null,
      "top": null,
      "visibility": null,
      "width": null
     }
    },
    "489c040bcdfe4e95ae63b7f356afff7c": {
     "model_module": "@jupyter-widgets/controls",
     "model_module_version": "1.5.0",
     "model_name": "HTMLModel",
     "state": {
      "_dom_classes": [],
      "_model_module": "@jupyter-widgets/controls",
      "_model_module_version": "1.5.0",
      "_model_name": "HTMLModel",
      "_view_count": null,
      "_view_module": "@jupyter-widgets/controls",
      "_view_module_version": "1.5.0",
      "_view_name": "HTMLView",
      "description": "",
      "description_tooltip": null,
      "layout": "IPY_MODEL_abebed03b6564e26b60733c381560ce8",
      "placeholder": "​",
      "style": "IPY_MODEL_a818e38180dc4ea4a008575f087446db",
      "value": " 85/100 [00:00&lt;00:00, 529.46it/s]"
     }
    },
    "544358a088674d27bf2986accdbb739c": {
     "model_module": "@jupyter-widgets/controls",
     "model_module_version": "1.5.0",
     "model_name": "DescriptionStyleModel",
     "state": {
      "_model_module": "@jupyter-widgets/controls",
      "_model_module_version": "1.5.0",
      "_model_name": "DescriptionStyleModel",
      "_view_count": null,
      "_view_module": "@jupyter-widgets/base",
      "_view_module_version": "1.2.0",
      "_view_name": "StyleView",
      "description_width": ""
     }
    },
    "5b002056b668481ebfbd49113178b773": {
     "model_module": "@jupyter-widgets/controls",
     "model_module_version": "1.5.0",
     "model_name": "DescriptionStyleModel",
     "state": {
      "_model_module": "@jupyter-widgets/controls",
      "_model_module_version": "1.5.0",
      "_model_name": "DescriptionStyleModel",
      "_view_count": null,
      "_view_module": "@jupyter-widgets/base",
      "_view_module_version": "1.2.0",
      "_view_name": "StyleView",
      "description_width": ""
     }
    },
    "5b9b76c6e00645f38d27391bddd98cc9": {
     "model_module": "@jupyter-widgets/base",
     "model_module_version": "1.2.0",
     "model_name": "LayoutModel",
     "state": {
      "_model_module": "@jupyter-widgets/base",
      "_model_module_version": "1.2.0",
      "_model_name": "LayoutModel",
      "_view_count": null,
      "_view_module": "@jupyter-widgets/base",
      "_view_module_version": "1.2.0",
      "_view_name": "LayoutView",
      "align_content": null,
      "align_items": null,
      "align_self": null,
      "border": null,
      "bottom": null,
      "display": null,
      "flex": null,
      "flex_flow": null,
      "grid_area": null,
      "grid_auto_columns": null,
      "grid_auto_flow": null,
      "grid_auto_rows": null,
      "grid_column": null,
      "grid_gap": null,
      "grid_row": null,
      "grid_template_areas": null,
      "grid_template_columns": null,
      "grid_template_rows": null,
      "height": null,
      "justify_content": null,
      "justify_items": null,
      "left": null,
      "margin": null,
      "max_height": null,
      "max_width": null,
      "min_height": null,
      "min_width": null,
      "object_fit": null,
      "object_position": null,
      "order": null,
      "overflow": null,
      "overflow_x": null,
      "overflow_y": null,
      "padding": null,
      "right": null,
      "top": null,
      "visibility": null,
      "width": null
     }
    },
    "68be62aea2c64248a0308f9df0964585": {
     "model_module": "@jupyter-widgets/controls",
     "model_module_version": "1.5.0",
     "model_name": "FloatProgressModel",
     "state": {
      "_dom_classes": [],
      "_model_module": "@jupyter-widgets/controls",
      "_model_module_version": "1.5.0",
      "_model_name": "FloatProgressModel",
      "_view_count": null,
      "_view_module": "@jupyter-widgets/controls",
      "_view_module_version": "1.5.0",
      "_view_name": "ProgressView",
      "bar_style": "danger",
      "description": "",
      "description_tooltip": null,
      "layout": "IPY_MODEL_effff702b30d4baab02377fc999e97f7",
      "max": 100,
      "min": 0,
      "orientation": "horizontal",
      "style": "IPY_MODEL_8e348ede409140fe90c7ac8219d0fb31",
      "value": 96
     }
    },
    "693cd6f5eaea4511b6467b4faf3e17ad": {
     "model_module": "@jupyter-widgets/controls",
     "model_module_version": "1.5.0",
     "model_name": "FloatProgressModel",
     "state": {
      "_dom_classes": [],
      "_model_module": "@jupyter-widgets/controls",
      "_model_module_version": "1.5.0",
      "_model_name": "FloatProgressModel",
      "_view_count": null,
      "_view_module": "@jupyter-widgets/controls",
      "_view_module_version": "1.5.0",
      "_view_name": "ProgressView",
      "bar_style": "danger",
      "description": "",
      "description_tooltip": null,
      "layout": "IPY_MODEL_e73c8f2b90584cbc93173f4c0e8c1a1b",
      "max": 100,
      "min": 0,
      "orientation": "horizontal",
      "style": "IPY_MODEL_bbe4dcd87ba54d84a2662406dac07c03",
      "value": 95
     }
    },
    "69b2c4ae5a594e128174ea12202c26f7": {
     "model_module": "@jupyter-widgets/controls",
     "model_module_version": "1.5.0",
     "model_name": "HBoxModel",
     "state": {
      "_dom_classes": [],
      "_model_module": "@jupyter-widgets/controls",
      "_model_module_version": "1.5.0",
      "_model_name": "HBoxModel",
      "_view_count": null,
      "_view_module": "@jupyter-widgets/controls",
      "_view_module_version": "1.5.0",
      "_view_name": "HBoxView",
      "box_style": "",
      "children": [
       "IPY_MODEL_35a443c17d964bc0bd1401cc17109079",
       "IPY_MODEL_6a7c06aefb1f40b0a3499064688b832a",
       "IPY_MODEL_3e7e8b4ca56b4e4da36b7f259fb30bff"
      ],
      "layout": "IPY_MODEL_46ca4faeed3c4861843ebaec1f53cc12"
     }
    },
    "6a7c06aefb1f40b0a3499064688b832a": {
     "model_module": "@jupyter-widgets/controls",
     "model_module_version": "1.5.0",
     "model_name": "FloatProgressModel",
     "state": {
      "_dom_classes": [],
      "_model_module": "@jupyter-widgets/controls",
      "_model_module_version": "1.5.0",
      "_model_name": "FloatProgressModel",
      "_view_count": null,
      "_view_module": "@jupyter-widgets/controls",
      "_view_module_version": "1.5.0",
      "_view_name": "ProgressView",
      "bar_style": "danger",
      "description": "",
      "description_tooltip": null,
      "layout": "IPY_MODEL_b360bd14caac4d06ae2521660338f604",
      "max": 100,
      "min": 0,
      "orientation": "horizontal",
      "style": "IPY_MODEL_6a8845bae68a4e578dc81fe7643321ff",
      "value": 83
     }
    },
    "6a8845bae68a4e578dc81fe7643321ff": {
     "model_module": "@jupyter-widgets/controls",
     "model_module_version": "1.5.0",
     "model_name": "ProgressStyleModel",
     "state": {
      "_model_module": "@jupyter-widgets/controls",
      "_model_module_version": "1.5.0",
      "_model_name": "ProgressStyleModel",
      "_view_count": null,
      "_view_module": "@jupyter-widgets/base",
      "_view_module_version": "1.2.0",
      "_view_name": "StyleView",
      "bar_color": null,
      "description_width": ""
     }
    },
    "6c6dd2fd952b497bb0f723f92546a20c": {
     "model_module": "@jupyter-widgets/controls",
     "model_module_version": "1.5.0",
     "model_name": "HTMLModel",
     "state": {
      "_dom_classes": [],
      "_model_module": "@jupyter-widgets/controls",
      "_model_module_version": "1.5.0",
      "_model_name": "HTMLModel",
      "_view_count": null,
      "_view_module": "@jupyter-widgets/controls",
      "_view_module_version": "1.5.0",
      "_view_name": "HTMLView",
      "description": "",
      "description_tooltip": null,
      "layout": "IPY_MODEL_ef1b4d2bd31b45fbbee02f6d14afa19e",
      "placeholder": "​",
      "style": "IPY_MODEL_1f5c1205a428442c80a0d0d0bc074e29",
      "value": " 95/100 [00:00&lt;00:00, 297.11it/s]"
     }
    },
    "6db139d629404e6ba1b21254a7fadee2": {
     "model_module": "@jupyter-widgets/controls",
     "model_module_version": "1.5.0",
     "model_name": "HTMLModel",
     "state": {
      "_dom_classes": [],
      "_model_module": "@jupyter-widgets/controls",
      "_model_module_version": "1.5.0",
      "_model_name": "HTMLModel",
      "_view_count": null,
      "_view_module": "@jupyter-widgets/controls",
      "_view_module_version": "1.5.0",
      "_view_name": "HTMLView",
      "description": "",
      "description_tooltip": null,
      "layout": "IPY_MODEL_5b9b76c6e00645f38d27391bddd98cc9",
      "placeholder": "​",
      "style": "IPY_MODEL_9c79d4f744f14e0baee4dbd3c8f36ec0",
      "value": " 95%"
     }
    },
    "70f5b44bad7745359a02dd7c59bee8a6": {
     "model_module": "@jupyter-widgets/controls",
     "model_module_version": "1.5.0",
     "model_name": "HTMLModel",
     "state": {
      "_dom_classes": [],
      "_model_module": "@jupyter-widgets/controls",
      "_model_module_version": "1.5.0",
      "_model_name": "HTMLModel",
      "_view_count": null,
      "_view_module": "@jupyter-widgets/controls",
      "_view_module_version": "1.5.0",
      "_view_name": "HTMLView",
      "description": "",
      "description_tooltip": null,
      "layout": "IPY_MODEL_c5a8a81ff2fd4ad187d8a464ab407bfc",
      "placeholder": "​",
      "style": "IPY_MODEL_8158797a62f542f08790e27d3f1d709a",
      "value": " 95%"
     }
    },
    "712b29c9a92d439fbabcfda7b98777ae": {
     "model_module": "@jupyter-widgets/base",
     "model_module_version": "1.2.0",
     "model_name": "LayoutModel",
     "state": {
      "_model_module": "@jupyter-widgets/base",
      "_model_module_version": "1.2.0",
      "_model_name": "LayoutModel",
      "_view_count": null,
      "_view_module": "@jupyter-widgets/base",
      "_view_module_version": "1.2.0",
      "_view_name": "LayoutView",
      "align_content": null,
      "align_items": null,
      "align_self": null,
      "border": null,
      "bottom": null,
      "display": null,
      "flex": null,
      "flex_flow": null,
      "grid_area": null,
      "grid_auto_columns": null,
      "grid_auto_flow": null,
      "grid_auto_rows": null,
      "grid_column": null,
      "grid_gap": null,
      "grid_row": null,
      "grid_template_areas": null,
      "grid_template_columns": null,
      "grid_template_rows": null,
      "height": null,
      "justify_content": null,
      "justify_items": null,
      "left": null,
      "margin": null,
      "max_height": null,
      "max_width": null,
      "min_height": null,
      "min_width": null,
      "object_fit": null,
      "object_position": null,
      "order": null,
      "overflow": null,
      "overflow_x": null,
      "overflow_y": null,
      "padding": null,
      "right": null,
      "top": null,
      "visibility": null,
      "width": null
     }
    },
    "7132f40528294e7dbe4d9eeb56a2d68e": {
     "model_module": "@jupyter-widgets/controls",
     "model_module_version": "1.5.0",
     "model_name": "FloatProgressModel",
     "state": {
      "_dom_classes": [],
      "_model_module": "@jupyter-widgets/controls",
      "_model_module_version": "1.5.0",
      "_model_name": "FloatProgressModel",
      "_view_count": null,
      "_view_module": "@jupyter-widgets/controls",
      "_view_module_version": "1.5.0",
      "_view_name": "ProgressView",
      "bar_style": "danger",
      "description": "",
      "description_tooltip": null,
      "layout": "IPY_MODEL_ec21beaa3f604356a369853fd05a7618",
      "max": 100,
      "min": 0,
      "orientation": "horizontal",
      "style": "IPY_MODEL_c528b4d245604b4c9c6b52492fd03d1f",
      "value": 95
     }
    },
    "736cfd79d84a4a0e9451c87a13994400": {
     "model_module": "@jupyter-widgets/base",
     "model_module_version": "1.2.0",
     "model_name": "LayoutModel",
     "state": {
      "_model_module": "@jupyter-widgets/base",
      "_model_module_version": "1.2.0",
      "_model_name": "LayoutModel",
      "_view_count": null,
      "_view_module": "@jupyter-widgets/base",
      "_view_module_version": "1.2.0",
      "_view_name": "LayoutView",
      "align_content": null,
      "align_items": null,
      "align_self": null,
      "border": null,
      "bottom": null,
      "display": null,
      "flex": null,
      "flex_flow": null,
      "grid_area": null,
      "grid_auto_columns": null,
      "grid_auto_flow": null,
      "grid_auto_rows": null,
      "grid_column": null,
      "grid_gap": null,
      "grid_row": null,
      "grid_template_areas": null,
      "grid_template_columns": null,
      "grid_template_rows": null,
      "height": null,
      "justify_content": null,
      "justify_items": null,
      "left": null,
      "margin": null,
      "max_height": null,
      "max_width": null,
      "min_height": null,
      "min_width": null,
      "object_fit": null,
      "object_position": null,
      "order": null,
      "overflow": null,
      "overflow_x": null,
      "overflow_y": null,
      "padding": null,
      "right": null,
      "top": null,
      "visibility": null,
      "width": null
     }
    },
    "7f76c0a10f77499894bf4a58953de075": {
     "model_module": "@jupyter-widgets/controls",
     "model_module_version": "1.5.0",
     "model_name": "FloatProgressModel",
     "state": {
      "_dom_classes": [],
      "_model_module": "@jupyter-widgets/controls",
      "_model_module_version": "1.5.0",
      "_model_name": "FloatProgressModel",
      "_view_count": null,
      "_view_module": "@jupyter-widgets/controls",
      "_view_module_version": "1.5.0",
      "_view_name": "ProgressView",
      "bar_style": "success",
      "description": "",
      "description_tooltip": null,
      "layout": "IPY_MODEL_9e1e8fc09f1449d182cd61dcd7afd081",
      "max": 100,
      "min": 0,
      "orientation": "horizontal",
      "style": "IPY_MODEL_8bef42be6f704e2192d23b45b5a33efc",
      "value": 100
     }
    },
    "8158797a62f542f08790e27d3f1d709a": {
     "model_module": "@jupyter-widgets/controls",
     "model_module_version": "1.5.0",
     "model_name": "DescriptionStyleModel",
     "state": {
      "_model_module": "@jupyter-widgets/controls",
      "_model_module_version": "1.5.0",
      "_model_name": "DescriptionStyleModel",
      "_view_count": null,
      "_view_module": "@jupyter-widgets/base",
      "_view_module_version": "1.2.0",
      "_view_name": "StyleView",
      "description_width": ""
     }
    },
    "8941e5ed1396443f8977bea95ec5e88c": {
     "model_module": "@jupyter-widgets/controls",
     "model_module_version": "1.5.0",
     "model_name": "HBoxModel",
     "state": {
      "_dom_classes": [],
      "_model_module": "@jupyter-widgets/controls",
      "_model_module_version": "1.5.0",
      "_model_name": "HBoxModel",
      "_view_count": null,
      "_view_module": "@jupyter-widgets/controls",
      "_view_module_version": "1.5.0",
      "_view_name": "HBoxView",
      "box_style": "",
      "children": [
       "IPY_MODEL_70f5b44bad7745359a02dd7c59bee8a6",
       "IPY_MODEL_7132f40528294e7dbe4d9eeb56a2d68e",
       "IPY_MODEL_f6b13f78da3a498faa8b21c3700776f5"
      ],
      "layout": "IPY_MODEL_af28f61b40e2425eb5373190bdfed8e2"
     }
    },
    "8bef42be6f704e2192d23b45b5a33efc": {
     "model_module": "@jupyter-widgets/controls",
     "model_module_version": "1.5.0",
     "model_name": "ProgressStyleModel",
     "state": {
      "_model_module": "@jupyter-widgets/controls",
      "_model_module_version": "1.5.0",
      "_model_name": "ProgressStyleModel",
      "_view_count": null,
      "_view_module": "@jupyter-widgets/base",
      "_view_module_version": "1.2.0",
      "_view_name": "StyleView",
      "bar_color": null,
      "description_width": ""
     }
    },
    "8e348ede409140fe90c7ac8219d0fb31": {
     "model_module": "@jupyter-widgets/controls",
     "model_module_version": "1.5.0",
     "model_name": "ProgressStyleModel",
     "state": {
      "_model_module": "@jupyter-widgets/controls",
      "_model_module_version": "1.5.0",
      "_model_name": "ProgressStyleModel",
      "_view_count": null,
      "_view_module": "@jupyter-widgets/base",
      "_view_module_version": "1.2.0",
      "_view_name": "StyleView",
      "bar_color": null,
      "description_width": ""
     }
    },
    "98c98d6eb6ac4a6086a2f8b28a1e8f20": {
     "model_module": "@jupyter-widgets/controls",
     "model_module_version": "1.5.0",
     "model_name": "HTMLModel",
     "state": {
      "_dom_classes": [],
      "_model_module": "@jupyter-widgets/controls",
      "_model_module_version": "1.5.0",
      "_model_name": "HTMLModel",
      "_view_count": null,
      "_view_module": "@jupyter-widgets/controls",
      "_view_module_version": "1.5.0",
      "_view_name": "HTMLView",
      "description": "",
      "description_tooltip": null,
      "layout": "IPY_MODEL_cb56efd73cbb465788c058dc29ba85c7",
      "placeholder": "​",
      "style": "IPY_MODEL_544358a088674d27bf2986accdbb739c",
      "value": " 85%"
     }
    },
    "9c79d4f744f14e0baee4dbd3c8f36ec0": {
     "model_module": "@jupyter-widgets/controls",
     "model_module_version": "1.5.0",
     "model_name": "DescriptionStyleModel",
     "state": {
      "_model_module": "@jupyter-widgets/controls",
      "_model_module_version": "1.5.0",
      "_model_name": "DescriptionStyleModel",
      "_view_count": null,
      "_view_module": "@jupyter-widgets/base",
      "_view_module_version": "1.2.0",
      "_view_name": "StyleView",
      "description_width": ""
     }
    },
    "9d14e3a7d783419b9998f755dba66ec4": {
     "model_module": "@jupyter-widgets/controls",
     "model_module_version": "1.5.0",
     "model_name": "FloatProgressModel",
     "state": {
      "_dom_classes": [],
      "_model_module": "@jupyter-widgets/controls",
      "_model_module_version": "1.5.0",
      "_model_name": "FloatProgressModel",
      "_view_count": null,
      "_view_module": "@jupyter-widgets/controls",
      "_view_module_version": "1.5.0",
      "_view_name": "ProgressView",
      "bar_style": "danger",
      "description": "",
      "description_tooltip": null,
      "layout": "IPY_MODEL_ea6804cd823d4d4297461b884eab247b",
      "max": 100,
      "min": 0,
      "orientation": "horizontal",
      "style": "IPY_MODEL_aec589e2e91d4505972c1801e426a4fd",
      "value": 85
     }
    },
    "9e1e8fc09f1449d182cd61dcd7afd081": {
     "model_module": "@jupyter-widgets/base",
     "model_module_version": "1.2.0",
     "model_name": "LayoutModel",
     "state": {
      "_model_module": "@jupyter-widgets/base",
      "_model_module_version": "1.2.0",
      "_model_name": "LayoutModel",
      "_view_count": null,
      "_view_module": "@jupyter-widgets/base",
      "_view_module_version": "1.2.0",
      "_view_name": "LayoutView",
      "align_content": null,
      "align_items": null,
      "align_self": null,
      "border": null,
      "bottom": null,
      "display": null,
      "flex": null,
      "flex_flow": null,
      "grid_area": null,
      "grid_auto_columns": null,
      "grid_auto_flow": null,
      "grid_auto_rows": null,
      "grid_column": null,
      "grid_gap": null,
      "grid_row": null,
      "grid_template_areas": null,
      "grid_template_columns": null,
      "grid_template_rows": null,
      "height": null,
      "justify_content": null,
      "justify_items": null,
      "left": null,
      "margin": null,
      "max_height": null,
      "max_width": null,
      "min_height": null,
      "min_width": null,
      "object_fit": null,
      "object_position": null,
      "order": null,
      "overflow": null,
      "overflow_x": null,
      "overflow_y": null,
      "padding": null,
      "right": null,
      "top": null,
      "visibility": null,
      "width": null
     }
    },
    "9e21c2d2c9c34297bb83ffe58734c5e7": {
     "model_module": "@jupyter-widgets/controls",
     "model_module_version": "1.5.0",
     "model_name": "HBoxModel",
     "state": {
      "_dom_classes": [],
      "_model_module": "@jupyter-widgets/controls",
      "_model_module_version": "1.5.0",
      "_model_name": "HBoxModel",
      "_view_count": null,
      "_view_module": "@jupyter-widgets/controls",
      "_view_module_version": "1.5.0",
      "_view_name": "HBoxView",
      "box_style": "",
      "children": [
       "IPY_MODEL_98c98d6eb6ac4a6086a2f8b28a1e8f20",
       "IPY_MODEL_9d14e3a7d783419b9998f755dba66ec4",
       "IPY_MODEL_489c040bcdfe4e95ae63b7f356afff7c"
      ],
      "layout": "IPY_MODEL_eae2b1a755b24e849547000e4f5ca181"
     }
    },
    "a1a0c01a913448468023cb3d77033228": {
     "model_module": "@jupyter-widgets/base",
     "model_module_version": "1.2.0",
     "model_name": "LayoutModel",
     "state": {
      "_model_module": "@jupyter-widgets/base",
      "_model_module_version": "1.2.0",
      "_model_name": "LayoutModel",
      "_view_count": null,
      "_view_module": "@jupyter-widgets/base",
      "_view_module_version": "1.2.0",
      "_view_name": "LayoutView",
      "align_content": null,
      "align_items": null,
      "align_self": null,
      "border": null,
      "bottom": null,
      "display": null,
      "flex": null,
      "flex_flow": null,
      "grid_area": null,
      "grid_auto_columns": null,
      "grid_auto_flow": null,
      "grid_auto_rows": null,
      "grid_column": null,
      "grid_gap": null,
      "grid_row": null,
      "grid_template_areas": null,
      "grid_template_columns": null,
      "grid_template_rows": null,
      "height": null,
      "justify_content": null,
      "justify_items": null,
      "left": null,
      "margin": null,
      "max_height": null,
      "max_width": null,
      "min_height": null,
      "min_width": null,
      "object_fit": null,
      "object_position": null,
      "order": null,
      "overflow": null,
      "overflow_x": null,
      "overflow_y": null,
      "padding": null,
      "right": null,
      "top": null,
      "visibility": null,
      "width": null
     }
    },
    "a7229ce79fd145289fe3722e8e94d503": {
     "model_module": "@jupyter-widgets/controls",
     "model_module_version": "1.5.0",
     "model_name": "HBoxModel",
     "state": {
      "_dom_classes": [],
      "_model_module": "@jupyter-widgets/controls",
      "_model_module_version": "1.5.0",
      "_model_name": "HBoxModel",
      "_view_count": null,
      "_view_module": "@jupyter-widgets/controls",
      "_view_module_version": "1.5.0",
      "_view_name": "HBoxView",
      "box_style": "",
      "children": [
       "IPY_MODEL_6db139d629404e6ba1b21254a7fadee2",
       "IPY_MODEL_693cd6f5eaea4511b6467b4faf3e17ad",
       "IPY_MODEL_6c6dd2fd952b497bb0f723f92546a20c"
      ],
      "layout": "IPY_MODEL_df28fc8297b74400a435475f121bf2bb"
     }
    },
    "a818e38180dc4ea4a008575f087446db": {
     "model_module": "@jupyter-widgets/controls",
     "model_module_version": "1.5.0",
     "model_name": "DescriptionStyleModel",
     "state": {
      "_model_module": "@jupyter-widgets/controls",
      "_model_module_version": "1.5.0",
      "_model_name": "DescriptionStyleModel",
      "_view_count": null,
      "_view_module": "@jupyter-widgets/base",
      "_view_module_version": "1.2.0",
      "_view_name": "StyleView",
      "description_width": ""
     }
    },
    "abebed03b6564e26b60733c381560ce8": {
     "model_module": "@jupyter-widgets/base",
     "model_module_version": "1.2.0",
     "model_name": "LayoutModel",
     "state": {
      "_model_module": "@jupyter-widgets/base",
      "_model_module_version": "1.2.0",
      "_model_name": "LayoutModel",
      "_view_count": null,
      "_view_module": "@jupyter-widgets/base",
      "_view_module_version": "1.2.0",
      "_view_name": "LayoutView",
      "align_content": null,
      "align_items": null,
      "align_self": null,
      "border": null,
      "bottom": null,
      "display": null,
      "flex": null,
      "flex_flow": null,
      "grid_area": null,
      "grid_auto_columns": null,
      "grid_auto_flow": null,
      "grid_auto_rows": null,
      "grid_column": null,
      "grid_gap": null,
      "grid_row": null,
      "grid_template_areas": null,
      "grid_template_columns": null,
      "grid_template_rows": null,
      "height": null,
      "justify_content": null,
      "justify_items": null,
      "left": null,
      "margin": null,
      "max_height": null,
      "max_width": null,
      "min_height": null,
      "min_width": null,
      "object_fit": null,
      "object_position": null,
      "order": null,
      "overflow": null,
      "overflow_x": null,
      "overflow_y": null,
      "padding": null,
      "right": null,
      "top": null,
      "visibility": null,
      "width": null
     }
    },
    "aec589e2e91d4505972c1801e426a4fd": {
     "model_module": "@jupyter-widgets/controls",
     "model_module_version": "1.5.0",
     "model_name": "ProgressStyleModel",
     "state": {
      "_model_module": "@jupyter-widgets/controls",
      "_model_module_version": "1.5.0",
      "_model_name": "ProgressStyleModel",
      "_view_count": null,
      "_view_module": "@jupyter-widgets/base",
      "_view_module_version": "1.2.0",
      "_view_name": "StyleView",
      "bar_color": null,
      "description_width": ""
     }
    },
    "af28f61b40e2425eb5373190bdfed8e2": {
     "model_module": "@jupyter-widgets/base",
     "model_module_version": "1.2.0",
     "model_name": "LayoutModel",
     "state": {
      "_model_module": "@jupyter-widgets/base",
      "_model_module_version": "1.2.0",
      "_model_name": "LayoutModel",
      "_view_count": null,
      "_view_module": "@jupyter-widgets/base",
      "_view_module_version": "1.2.0",
      "_view_name": "LayoutView",
      "align_content": null,
      "align_items": null,
      "align_self": null,
      "border": null,
      "bottom": null,
      "display": null,
      "flex": null,
      "flex_flow": null,
      "grid_area": null,
      "grid_auto_columns": null,
      "grid_auto_flow": null,
      "grid_auto_rows": null,
      "grid_column": null,
      "grid_gap": null,
      "grid_row": null,
      "grid_template_areas": null,
      "grid_template_columns": null,
      "grid_template_rows": null,
      "height": null,
      "justify_content": null,
      "justify_items": null,
      "left": null,
      "margin": null,
      "max_height": null,
      "max_width": null,
      "min_height": null,
      "min_width": null,
      "object_fit": null,
      "object_position": null,
      "order": null,
      "overflow": null,
      "overflow_x": null,
      "overflow_y": null,
      "padding": null,
      "right": null,
      "top": null,
      "visibility": null,
      "width": null
     }
    },
    "b360bd14caac4d06ae2521660338f604": {
     "model_module": "@jupyter-widgets/base",
     "model_module_version": "1.2.0",
     "model_name": "LayoutModel",
     "state": {
      "_model_module": "@jupyter-widgets/base",
      "_model_module_version": "1.2.0",
      "_model_name": "LayoutModel",
      "_view_count": null,
      "_view_module": "@jupyter-widgets/base",
      "_view_module_version": "1.2.0",
      "_view_name": "LayoutView",
      "align_content": null,
      "align_items": null,
      "align_self": null,
      "border": null,
      "bottom": null,
      "display": null,
      "flex": null,
      "flex_flow": null,
      "grid_area": null,
      "grid_auto_columns": null,
      "grid_auto_flow": null,
      "grid_auto_rows": null,
      "grid_column": null,
      "grid_gap": null,
      "grid_row": null,
      "grid_template_areas": null,
      "grid_template_columns": null,
      "grid_template_rows": null,
      "height": null,
      "justify_content": null,
      "justify_items": null,
      "left": null,
      "margin": null,
      "max_height": null,
      "max_width": null,
      "min_height": null,
      "min_width": null,
      "object_fit": null,
      "object_position": null,
      "order": null,
      "overflow": null,
      "overflow_x": null,
      "overflow_y": null,
      "padding": null,
      "right": null,
      "top": null,
      "visibility": null,
      "width": null
     }
    },
    "b3da476e8b0649e6b5302784129060d8": {
     "model_module": "@jupyter-widgets/controls",
     "model_module_version": "1.5.0",
     "model_name": "DescriptionStyleModel",
     "state": {
      "_model_module": "@jupyter-widgets/controls",
      "_model_module_version": "1.5.0",
      "_model_name": "DescriptionStyleModel",
      "_view_count": null,
      "_view_module": "@jupyter-widgets/base",
      "_view_module_version": "1.2.0",
      "_view_name": "StyleView",
      "description_width": ""
     }
    },
    "bbe4dcd87ba54d84a2662406dac07c03": {
     "model_module": "@jupyter-widgets/controls",
     "model_module_version": "1.5.0",
     "model_name": "ProgressStyleModel",
     "state": {
      "_model_module": "@jupyter-widgets/controls",
      "_model_module_version": "1.5.0",
      "_model_name": "ProgressStyleModel",
      "_view_count": null,
      "_view_module": "@jupyter-widgets/base",
      "_view_module_version": "1.2.0",
      "_view_name": "StyleView",
      "bar_color": null,
      "description_width": ""
     }
    },
    "bcb8861218704653b56ee2600f2eb158": {
     "model_module": "@jupyter-widgets/controls",
     "model_module_version": "1.5.0",
     "model_name": "HTMLModel",
     "state": {
      "_dom_classes": [],
      "_model_module": "@jupyter-widgets/controls",
      "_model_module_version": "1.5.0",
      "_model_name": "HTMLModel",
      "_view_count": null,
      "_view_module": "@jupyter-widgets/controls",
      "_view_module_version": "1.5.0",
      "_view_name": "HTMLView",
      "description": "",
      "description_tooltip": null,
      "layout": "IPY_MODEL_a1a0c01a913448468023cb3d77033228",
      "placeholder": "​",
      "style": "IPY_MODEL_46a0041a685444a4870076fc8d7f37d6",
      "value": " 96/100 [00:00&lt;00:00, 369.47it/s]"
     }
    },
    "bcc74ea7e5fa46839574fbb4db65faab": {
     "model_module": "@jupyter-widgets/controls",
     "model_module_version": "1.5.0",
     "model_name": "HTMLModel",
     "state": {
      "_dom_classes": [],
      "_model_module": "@jupyter-widgets/controls",
      "_model_module_version": "1.5.0",
      "_model_name": "HTMLModel",
      "_view_count": null,
      "_view_module": "@jupyter-widgets/controls",
      "_view_module_version": "1.5.0",
      "_view_name": "HTMLView",
      "description": "",
      "description_tooltip": null,
      "layout": "IPY_MODEL_db954dafe57e42fc91e0f1752f46182a",
      "placeholder": "​",
      "style": "IPY_MODEL_ee197eb2c8a5491993316c05fb644cc2",
      "value": " 100/100 [00:00&lt;00:00, 506.57it/s]"
     }
    },
    "c528b4d245604b4c9c6b52492fd03d1f": {
     "model_module": "@jupyter-widgets/controls",
     "model_module_version": "1.5.0",
     "model_name": "ProgressStyleModel",
     "state": {
      "_model_module": "@jupyter-widgets/controls",
      "_model_module_version": "1.5.0",
      "_model_name": "ProgressStyleModel",
      "_view_count": null,
      "_view_module": "@jupyter-widgets/base",
      "_view_module_version": "1.2.0",
      "_view_name": "StyleView",
      "bar_color": null,
      "description_width": ""
     }
    },
    "c5a8a81ff2fd4ad187d8a464ab407bfc": {
     "model_module": "@jupyter-widgets/base",
     "model_module_version": "1.2.0",
     "model_name": "LayoutModel",
     "state": {
      "_model_module": "@jupyter-widgets/base",
      "_model_module_version": "1.2.0",
      "_model_name": "LayoutModel",
      "_view_count": null,
      "_view_module": "@jupyter-widgets/base",
      "_view_module_version": "1.2.0",
      "_view_name": "LayoutView",
      "align_content": null,
      "align_items": null,
      "align_self": null,
      "border": null,
      "bottom": null,
      "display": null,
      "flex": null,
      "flex_flow": null,
      "grid_area": null,
      "grid_auto_columns": null,
      "grid_auto_flow": null,
      "grid_auto_rows": null,
      "grid_column": null,
      "grid_gap": null,
      "grid_row": null,
      "grid_template_areas": null,
      "grid_template_columns": null,
      "grid_template_rows": null,
      "height": null,
      "justify_content": null,
      "justify_items": null,
      "left": null,
      "margin": null,
      "max_height": null,
      "max_width": null,
      "min_height": null,
      "min_width": null,
      "object_fit": null,
      "object_position": null,
      "order": null,
      "overflow": null,
      "overflow_x": null,
      "overflow_y": null,
      "padding": null,
      "right": null,
      "top": null,
      "visibility": null,
      "width": null
     }
    },
    "cb56efd73cbb465788c058dc29ba85c7": {
     "model_module": "@jupyter-widgets/base",
     "model_module_version": "1.2.0",
     "model_name": "LayoutModel",
     "state": {
      "_model_module": "@jupyter-widgets/base",
      "_model_module_version": "1.2.0",
      "_model_name": "LayoutModel",
      "_view_count": null,
      "_view_module": "@jupyter-widgets/base",
      "_view_module_version": "1.2.0",
      "_view_name": "LayoutView",
      "align_content": null,
      "align_items": null,
      "align_self": null,
      "border": null,
      "bottom": null,
      "display": null,
      "flex": null,
      "flex_flow": null,
      "grid_area": null,
      "grid_auto_columns": null,
      "grid_auto_flow": null,
      "grid_auto_rows": null,
      "grid_column": null,
      "grid_gap": null,
      "grid_row": null,
      "grid_template_areas": null,
      "grid_template_columns": null,
      "grid_template_rows": null,
      "height": null,
      "justify_content": null,
      "justify_items": null,
      "left": null,
      "margin": null,
      "max_height": null,
      "max_width": null,
      "min_height": null,
      "min_width": null,
      "object_fit": null,
      "object_position": null,
      "order": null,
      "overflow": null,
      "overflow_x": null,
      "overflow_y": null,
      "padding": null,
      "right": null,
      "top": null,
      "visibility": null,
      "width": null
     }
    },
    "da20787471be4ded8f61427b9793bef3": {
     "model_module": "@jupyter-widgets/controls",
     "model_module_version": "1.5.0",
     "model_name": "HTMLModel",
     "state": {
      "_dom_classes": [],
      "_model_module": "@jupyter-widgets/controls",
      "_model_module_version": "1.5.0",
      "_model_name": "HTMLModel",
      "_view_count": null,
      "_view_module": "@jupyter-widgets/controls",
      "_view_module_version": "1.5.0",
      "_view_name": "HTMLView",
      "description": "",
      "description_tooltip": null,
      "layout": "IPY_MODEL_047168082f774edea49722aa223953d4",
      "placeholder": "​",
      "style": "IPY_MODEL_b3da476e8b0649e6b5302784129060d8",
      "value": "100%"
     }
    },
    "db954dafe57e42fc91e0f1752f46182a": {
     "model_module": "@jupyter-widgets/base",
     "model_module_version": "1.2.0",
     "model_name": "LayoutModel",
     "state": {
      "_model_module": "@jupyter-widgets/base",
      "_model_module_version": "1.2.0",
      "_model_name": "LayoutModel",
      "_view_count": null,
      "_view_module": "@jupyter-widgets/base",
      "_view_module_version": "1.2.0",
      "_view_name": "LayoutView",
      "align_content": null,
      "align_items": null,
      "align_self": null,
      "border": null,
      "bottom": null,
      "display": null,
      "flex": null,
      "flex_flow": null,
      "grid_area": null,
      "grid_auto_columns": null,
      "grid_auto_flow": null,
      "grid_auto_rows": null,
      "grid_column": null,
      "grid_gap": null,
      "grid_row": null,
      "grid_template_areas": null,
      "grid_template_columns": null,
      "grid_template_rows": null,
      "height": null,
      "justify_content": null,
      "justify_items": null,
      "left": null,
      "margin": null,
      "max_height": null,
      "max_width": null,
      "min_height": null,
      "min_width": null,
      "object_fit": null,
      "object_position": null,
      "order": null,
      "overflow": null,
      "overflow_x": null,
      "overflow_y": null,
      "padding": null,
      "right": null,
      "top": null,
      "visibility": null,
      "width": null
     }
    },
    "dd1550a198674e2a9bb6faecd47972dd": {
     "model_module": "@jupyter-widgets/controls",
     "model_module_version": "1.5.0",
     "model_name": "HTMLModel",
     "state": {
      "_dom_classes": [],
      "_model_module": "@jupyter-widgets/controls",
      "_model_module_version": "1.5.0",
      "_model_name": "HTMLModel",
      "_view_count": null,
      "_view_module": "@jupyter-widgets/controls",
      "_view_module_version": "1.5.0",
      "_view_name": "HTMLView",
      "description": "",
      "description_tooltip": null,
      "layout": "IPY_MODEL_736cfd79d84a4a0e9451c87a13994400",
      "placeholder": "​",
      "style": "IPY_MODEL_5b002056b668481ebfbd49113178b773",
      "value": " 96%"
     }
    },
    "df28fc8297b74400a435475f121bf2bb": {
     "model_module": "@jupyter-widgets/base",
     "model_module_version": "1.2.0",
     "model_name": "LayoutModel",
     "state": {
      "_model_module": "@jupyter-widgets/base",
      "_model_module_version": "1.2.0",
      "_model_name": "LayoutModel",
      "_view_count": null,
      "_view_module": "@jupyter-widgets/base",
      "_view_module_version": "1.2.0",
      "_view_name": "LayoutView",
      "align_content": null,
      "align_items": null,
      "align_self": null,
      "border": null,
      "bottom": null,
      "display": null,
      "flex": null,
      "flex_flow": null,
      "grid_area": null,
      "grid_auto_columns": null,
      "grid_auto_flow": null,
      "grid_auto_rows": null,
      "grid_column": null,
      "grid_gap": null,
      "grid_row": null,
      "grid_template_areas": null,
      "grid_template_columns": null,
      "grid_template_rows": null,
      "height": null,
      "justify_content": null,
      "justify_items": null,
      "left": null,
      "margin": null,
      "max_height": null,
      "max_width": null,
      "min_height": null,
      "min_width": null,
      "object_fit": null,
      "object_position": null,
      "order": null,
      "overflow": null,
      "overflow_x": null,
      "overflow_y": null,
      "padding": null,
      "right": null,
      "top": null,
      "visibility": null,
      "width": null
     }
    },
    "e2d9eeed3fba41d2a2fb9f1953d016b0": {
     "model_module": "@jupyter-widgets/controls",
     "model_module_version": "1.5.0",
     "model_name": "HBoxModel",
     "state": {
      "_dom_classes": [],
      "_model_module": "@jupyter-widgets/controls",
      "_model_module_version": "1.5.0",
      "_model_name": "HBoxModel",
      "_view_count": null,
      "_view_module": "@jupyter-widgets/controls",
      "_view_module_version": "1.5.0",
      "_view_name": "HBoxView",
      "box_style": "",
      "children": [
       "IPY_MODEL_dd1550a198674e2a9bb6faecd47972dd",
       "IPY_MODEL_68be62aea2c64248a0308f9df0964585",
       "IPY_MODEL_bcb8861218704653b56ee2600f2eb158"
      ],
      "layout": "IPY_MODEL_3df141b07bf4413481a70c034c7f703a"
     }
    },
    "e73c8f2b90584cbc93173f4c0e8c1a1b": {
     "model_module": "@jupyter-widgets/base",
     "model_module_version": "1.2.0",
     "model_name": "LayoutModel",
     "state": {
      "_model_module": "@jupyter-widgets/base",
      "_model_module_version": "1.2.0",
      "_model_name": "LayoutModel",
      "_view_count": null,
      "_view_module": "@jupyter-widgets/base",
      "_view_module_version": "1.2.0",
      "_view_name": "LayoutView",
      "align_content": null,
      "align_items": null,
      "align_self": null,
      "border": null,
      "bottom": null,
      "display": null,
      "flex": null,
      "flex_flow": null,
      "grid_area": null,
      "grid_auto_columns": null,
      "grid_auto_flow": null,
      "grid_auto_rows": null,
      "grid_column": null,
      "grid_gap": null,
      "grid_row": null,
      "grid_template_areas": null,
      "grid_template_columns": null,
      "grid_template_rows": null,
      "height": null,
      "justify_content": null,
      "justify_items": null,
      "left": null,
      "margin": null,
      "max_height": null,
      "max_width": null,
      "min_height": null,
      "min_width": null,
      "object_fit": null,
      "object_position": null,
      "order": null,
      "overflow": null,
      "overflow_x": null,
      "overflow_y": null,
      "padding": null,
      "right": null,
      "top": null,
      "visibility": null,
      "width": null
     }
    },
    "e91aab3972b7488aa1859f7442932b54": {
     "model_module": "@jupyter-widgets/controls",
     "model_module_version": "1.5.0",
     "model_name": "HBoxModel",
     "state": {
      "_dom_classes": [],
      "_model_module": "@jupyter-widgets/controls",
      "_model_module_version": "1.5.0",
      "_model_name": "HBoxModel",
      "_view_count": null,
      "_view_module": "@jupyter-widgets/controls",
      "_view_module_version": "1.5.0",
      "_view_name": "HBoxView",
      "box_style": "",
      "children": [
       "IPY_MODEL_da20787471be4ded8f61427b9793bef3",
       "IPY_MODEL_7f76c0a10f77499894bf4a58953de075",
       "IPY_MODEL_bcc74ea7e5fa46839574fbb4db65faab"
      ],
      "layout": "IPY_MODEL_712b29c9a92d439fbabcfda7b98777ae"
     }
    },
    "ea6804cd823d4d4297461b884eab247b": {
     "model_module": "@jupyter-widgets/base",
     "model_module_version": "1.2.0",
     "model_name": "LayoutModel",
     "state": {
      "_model_module": "@jupyter-widgets/base",
      "_model_module_version": "1.2.0",
      "_model_name": "LayoutModel",
      "_view_count": null,
      "_view_module": "@jupyter-widgets/base",
      "_view_module_version": "1.2.0",
      "_view_name": "LayoutView",
      "align_content": null,
      "align_items": null,
      "align_self": null,
      "border": null,
      "bottom": null,
      "display": null,
      "flex": null,
      "flex_flow": null,
      "grid_area": null,
      "grid_auto_columns": null,
      "grid_auto_flow": null,
      "grid_auto_rows": null,
      "grid_column": null,
      "grid_gap": null,
      "grid_row": null,
      "grid_template_areas": null,
      "grid_template_columns": null,
      "grid_template_rows": null,
      "height": null,
      "justify_content": null,
      "justify_items": null,
      "left": null,
      "margin": null,
      "max_height": null,
      "max_width": null,
      "min_height": null,
      "min_width": null,
      "object_fit": null,
      "object_position": null,
      "order": null,
      "overflow": null,
      "overflow_x": null,
      "overflow_y": null,
      "padding": null,
      "right": null,
      "top": null,
      "visibility": null,
      "width": null
     }
    },
    "eae2b1a755b24e849547000e4f5ca181": {
     "model_module": "@jupyter-widgets/base",
     "model_module_version": "1.2.0",
     "model_name": "LayoutModel",
     "state": {
      "_model_module": "@jupyter-widgets/base",
      "_model_module_version": "1.2.0",
      "_model_name": "LayoutModel",
      "_view_count": null,
      "_view_module": "@jupyter-widgets/base",
      "_view_module_version": "1.2.0",
      "_view_name": "LayoutView",
      "align_content": null,
      "align_items": null,
      "align_self": null,
      "border": null,
      "bottom": null,
      "display": null,
      "flex": null,
      "flex_flow": null,
      "grid_area": null,
      "grid_auto_columns": null,
      "grid_auto_flow": null,
      "grid_auto_rows": null,
      "grid_column": null,
      "grid_gap": null,
      "grid_row": null,
      "grid_template_areas": null,
      "grid_template_columns": null,
      "grid_template_rows": null,
      "height": null,
      "justify_content": null,
      "justify_items": null,
      "left": null,
      "margin": null,
      "max_height": null,
      "max_width": null,
      "min_height": null,
      "min_width": null,
      "object_fit": null,
      "object_position": null,
      "order": null,
      "overflow": null,
      "overflow_x": null,
      "overflow_y": null,
      "padding": null,
      "right": null,
      "top": null,
      "visibility": null,
      "width": null
     }
    },
    "ec21beaa3f604356a369853fd05a7618": {
     "model_module": "@jupyter-widgets/base",
     "model_module_version": "1.2.0",
     "model_name": "LayoutModel",
     "state": {
      "_model_module": "@jupyter-widgets/base",
      "_model_module_version": "1.2.0",
      "_model_name": "LayoutModel",
      "_view_count": null,
      "_view_module": "@jupyter-widgets/base",
      "_view_module_version": "1.2.0",
      "_view_name": "LayoutView",
      "align_content": null,
      "align_items": null,
      "align_self": null,
      "border": null,
      "bottom": null,
      "display": null,
      "flex": null,
      "flex_flow": null,
      "grid_area": null,
      "grid_auto_columns": null,
      "grid_auto_flow": null,
      "grid_auto_rows": null,
      "grid_column": null,
      "grid_gap": null,
      "grid_row": null,
      "grid_template_areas": null,
      "grid_template_columns": null,
      "grid_template_rows": null,
      "height": null,
      "justify_content": null,
      "justify_items": null,
      "left": null,
      "margin": null,
      "max_height": null,
      "max_width": null,
      "min_height": null,
      "min_width": null,
      "object_fit": null,
      "object_position": null,
      "order": null,
      "overflow": null,
      "overflow_x": null,
      "overflow_y": null,
      "padding": null,
      "right": null,
      "top": null,
      "visibility": null,
      "width": null
     }
    },
    "ee197eb2c8a5491993316c05fb644cc2": {
     "model_module": "@jupyter-widgets/controls",
     "model_module_version": "1.5.0",
     "model_name": "DescriptionStyleModel",
     "state": {
      "_model_module": "@jupyter-widgets/controls",
      "_model_module_version": "1.5.0",
      "_model_name": "DescriptionStyleModel",
      "_view_count": null,
      "_view_module": "@jupyter-widgets/base",
      "_view_module_version": "1.2.0",
      "_view_name": "StyleView",
      "description_width": ""
     }
    },
    "ef1b4d2bd31b45fbbee02f6d14afa19e": {
     "model_module": "@jupyter-widgets/base",
     "model_module_version": "1.2.0",
     "model_name": "LayoutModel",
     "state": {
      "_model_module": "@jupyter-widgets/base",
      "_model_module_version": "1.2.0",
      "_model_name": "LayoutModel",
      "_view_count": null,
      "_view_module": "@jupyter-widgets/base",
      "_view_module_version": "1.2.0",
      "_view_name": "LayoutView",
      "align_content": null,
      "align_items": null,
      "align_self": null,
      "border": null,
      "bottom": null,
      "display": null,
      "flex": null,
      "flex_flow": null,
      "grid_area": null,
      "grid_auto_columns": null,
      "grid_auto_flow": null,
      "grid_auto_rows": null,
      "grid_column": null,
      "grid_gap": null,
      "grid_row": null,
      "grid_template_areas": null,
      "grid_template_columns": null,
      "grid_template_rows": null,
      "height": null,
      "justify_content": null,
      "justify_items": null,
      "left": null,
      "margin": null,
      "max_height": null,
      "max_width": null,
      "min_height": null,
      "min_width": null,
      "object_fit": null,
      "object_position": null,
      "order": null,
      "overflow": null,
      "overflow_x": null,
      "overflow_y": null,
      "padding": null,
      "right": null,
      "top": null,
      "visibility": null,
      "width": null
     }
    },
    "effff702b30d4baab02377fc999e97f7": {
     "model_module": "@jupyter-widgets/base",
     "model_module_version": "1.2.0",
     "model_name": "LayoutModel",
     "state": {
      "_model_module": "@jupyter-widgets/base",
      "_model_module_version": "1.2.0",
      "_model_name": "LayoutModel",
      "_view_count": null,
      "_view_module": "@jupyter-widgets/base",
      "_view_module_version": "1.2.0",
      "_view_name": "LayoutView",
      "align_content": null,
      "align_items": null,
      "align_self": null,
      "border": null,
      "bottom": null,
      "display": null,
      "flex": null,
      "flex_flow": null,
      "grid_area": null,
      "grid_auto_columns": null,
      "grid_auto_flow": null,
      "grid_auto_rows": null,
      "grid_column": null,
      "grid_gap": null,
      "grid_row": null,
      "grid_template_areas": null,
      "grid_template_columns": null,
      "grid_template_rows": null,
      "height": null,
      "justify_content": null,
      "justify_items": null,
      "left": null,
      "margin": null,
      "max_height": null,
      "max_width": null,
      "min_height": null,
      "min_width": null,
      "object_fit": null,
      "object_position": null,
      "order": null,
      "overflow": null,
      "overflow_x": null,
      "overflow_y": null,
      "padding": null,
      "right": null,
      "top": null,
      "visibility": null,
      "width": null
     }
    },
    "f6b13f78da3a498faa8b21c3700776f5": {
     "model_module": "@jupyter-widgets/controls",
     "model_module_version": "1.5.0",
     "model_name": "HTMLModel",
     "state": {
      "_dom_classes": [],
      "_model_module": "@jupyter-widgets/controls",
      "_model_module_version": "1.5.0",
      "_model_name": "HTMLModel",
      "_view_count": null,
      "_view_module": "@jupyter-widgets/controls",
      "_view_module_version": "1.5.0",
      "_view_name": "HTMLView",
      "description": "",
      "description_tooltip": null,
      "layout": "IPY_MODEL_21ff1d54f56247a99595e0b32fbeb226",
      "placeholder": "​",
      "style": "IPY_MODEL_17d3a96ff1314f91bea57de1b18d1aa3",
      "value": " 95/100 [00:00&lt;00:00, 417.58it/s]"
     }
    }
   }
  }
 },
 "nbformat": 4,
 "nbformat_minor": 1
}
