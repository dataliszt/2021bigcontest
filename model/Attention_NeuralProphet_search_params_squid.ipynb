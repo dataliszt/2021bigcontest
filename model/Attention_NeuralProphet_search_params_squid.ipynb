{
 "cells": [
  {
   "cell_type": "code",
   "execution_count": 1,
   "metadata": {
    "colab": {
     "base_uri": "https://localhost:8080/"
    },
    "executionInfo": {
     "elapsed": 20612,
     "status": "ok",
     "timestamp": 1631626076104,
     "user": {
      "displayName": "Bosang KIM",
      "photoUrl": "https://lh3.googleusercontent.com/a/default-user=s64",
      "userId": "09337160292545321113"
     },
     "user_tz": -540
    },
    "id": "eeK6z1AfetT6",
    "outputId": "89242721-fa32-455c-b283-05606a32b90b"
   },
   "outputs": [
    {
     "name": "stdout",
     "output_type": "stream",
     "text": [
      "Mounted at /content/drive\n"
     ]
    }
   ],
   "source": [
    "from google.colab import drive\n",
    "drive.mount('/content/drive')"
   ]
  },
  {
   "cell_type": "markdown",
   "metadata": {
    "id": "varRxoB4ilRA"
   },
   "source": [
    "# 모듈 설치"
   ]
  },
  {
   "cell_type": "code",
   "execution_count": null,
   "metadata": {
    "id": "4M4SUkNvdR0Y"
   },
   "outputs": [],
   "source": [
    "# 모델링 모듈\n",
    "!pip install tensorflow-addons\n",
    "!pip install neuralprophet[live]\n",
    "!pip install prophet"
   ]
  },
  {
   "cell_type": "code",
   "execution_count": null,
   "metadata": {
    "id": "cejPtOZ70pjn"
   },
   "outputs": [],
   "source": [
    "# 폰트설치 \n",
    "!sudo apt-get install -y fonts-nanum\n",
    "!sudo fc-cache -fv\n",
    "!rm ~/.cache/matplotlib -rf"
   ]
  },
  {
   "cell_type": "markdown",
   "metadata": {
    "id": "FCqcucf-in1_"
   },
   "source": [
    "# 모듈 및 라이브러리"
   ]
  },
  {
   "cell_type": "code",
   "execution_count": 715,
   "metadata": {
    "executionInfo": {
     "elapsed": 522,
     "status": "ok",
     "timestamp": 1631643573435,
     "user": {
      "displayName": "Bosang KIM",
      "photoUrl": "https://lh3.googleusercontent.com/a/default-user=s64",
      "userId": "09337160292545321113"
     },
     "user_tz": -540
    },
    "id": "oBFoF6ZpsAmE"
   },
   "outputs": [],
   "source": [
    "# 내장 라이브러리\n",
    "import copy\n",
    "import numpy as np\n",
    "import pandas as pd\n",
    "import matplotlib.pyplot as plt\n",
    "import os\n",
    "import math\n",
    "\n",
    "# 외장 라이브러리\n",
    "from typing import collections, List, Tuple, Dict, DefaultDict, NewType\n",
    "from collections import Counter\n",
    "from datetime import datetime, timedelta\n",
    "from timeit import default_timer as timer\n",
    "\n",
    "# sklearn\n",
    "import sklearn\n",
    "from sklearn.preprocessing import MinMaxScaler, StandardScaler\n",
    "\n",
    "# Facebook Prophet - 시계열 모델\n",
    "from fbprophet import Prophet\n",
    "from fbprophet.plot import add_changepoints_to_plot\n",
    "from prophet import Prophet\n",
    "from prophet.plot import plot_plotly, plot_components_plotly\n",
    "from prophet.plot import plot_yearly\n",
    "# Neural Prophet - Advanced Facebook Prophet\n",
    "from neuralprophet import NeuralProphet\n",
    "# 시계열 모델\n",
    "from statsmodels.tsa.arima_model import ARIMA\n",
    "# Attention 모델\n",
    "import keras\n",
    "from tensorflow_addons.layers import MultiHeadAttention"
   ]
  },
  {
   "cell_type": "code",
   "execution_count": 39,
   "metadata": {
    "executionInfo": {
     "elapsed": 1,
     "status": "ok",
     "timestamp": 1631630612608,
     "user": {
      "displayName": "Bosang KIM",
      "photoUrl": "https://lh3.googleusercontent.com/a/default-user=s64",
      "userId": "09337160292545321113"
     },
     "user_tz": -540
    },
    "id": "pWf0AG2jY3d3"
   },
   "outputs": [],
   "source": [
    "# plot 한글\n",
    "import platform\n",
    "from matplotlib import font_manager, rc\n",
    "plt.rcParams['axes.unicode_minus']= False\n",
    "\n",
    "if platform.system() == 'Darwin': # 맥os 사용자의 경우에\n",
    "    plt.style.use('seaborn-darkgrid') \n",
    "    rc('font', family = 'AppleGothic')\n",
    "    \n",
    "elif platform.system() == 'Windows':# 윈도우 사용자의 경우에\n",
    "    path = 'c:/Windows/Fonts/malgun.ttf'\n",
    "    font_name = font_manager.FontProperties(fname=path).get_name()\n",
    "    plt.style.use('seaborn-darkgrid') # https://python-graph-gallery.com/199-matplotlib-style-sheets/\n",
    "    rc('font', family=font_name)\n",
    "\n",
    "elif platform.system() == 'Linux': # colab 사용자의 경우에\n",
    "  # 나눔고딕 폰트\n",
    "  plt.rc('font', family='NanumBarunGothic') \n"
   ]
  },
  {
   "cell_type": "markdown",
   "metadata": {
    "id": "dEfbZtME229Z"
   },
   "source": [
    "# 데이터 로드"
   ]
  },
  {
   "cell_type": "code",
   "execution_count": 572,
   "metadata": {
    "colab": {
     "base_uri": "https://localhost:8080/"
    },
    "executionInfo": {
     "elapsed": 5741,
     "status": "ok",
     "timestamp": 1631641238511,
     "user": {
      "displayName": "Bosang KIM",
      "photoUrl": "https://lh3.googleusercontent.com/a/default-user=s64",
      "userId": "09337160292545321113"
     },
     "user_tz": -540
    },
    "id": "ksA2pPpprx00",
    "outputId": "6c1d4559-343b-465f-eb98-b80e9a4ea61e"
   },
   "outputs": [
    {
     "name": "stdout",
     "output_type": "stream",
     "text": [
      "수산물 어종을 고르세요 (오징어/흰다리새우/연어)오징어\n"
     ]
    }
   ],
   "source": [
    "## 중량 수온 데이터를 합친 dataframe, 품목 별로 불러오기\n",
    "os.chdir('/content/drive/MyDrive/BIGCONTEST/data/real_use')\n",
    "\n",
    "name = input('수산물 어종을 고르세요 (오징어/흰다리새우/연어)')\n",
    "\n",
    "if name == \"오징어\":\n",
    "  data = pd.read_csv(\"./squid_temp1.csv\")\n",
    "  val_df = pd.read_csv(\"./squid_temp2.csv\")\n",
    "elif name == \"흰다리새우\":\n",
    "  data = pd.read_csv(\"./shrimp_temp1.csv\")\n",
    "  val_df = pd.read_csv(\"./shrimp_temp2.csv\")\n",
    "elif name == \"연어\":\n",
    "  data = pd.read_csv(\"./salmon_temp1.csv\")\n",
    "  val_df = pd.read_csv(\"./salmon_temp2.csv\")\n",
    "else:\n",
    "  None"
   ]
  },
  {
   "cell_type": "code",
   "execution_count": 573,
   "metadata": {
    "executionInfo": {
     "elapsed": 8,
     "status": "ok",
     "timestamp": 1631641238512,
     "user": {
      "displayName": "Bosang KIM",
      "photoUrl": "https://lh3.googleusercontent.com/a/default-user=s64",
      "userId": "09337160292545321113"
     },
     "user_tz": -540
    },
    "id": "ehE03E_Urxk2"
   },
   "outputs": [],
   "source": [
    "# 품목별 dataframe을 생성하고, 일자별 거래의 갯수를 리스트 형태로 저장\n",
    "def datasetting(data, p_name):\n",
    "\n",
    "  just_p = pd.DataFrame(columns=data.columns.tolist())\n",
    "  len_list = []\n",
    "  for i, day_time in enumerate(list(Counter(data['REG_DATE']).keys())):\n",
    "    day_df = data[data['REG_DATE']==day_time]\n",
    "    just_p = pd.concat([just_p, day_df[day_df['P_NAME']==p_name]])\n",
    "    len_list.append(len(day_df[day_df['P_NAME']==p_name]))\n",
    "\n",
    "  return just_p, len_list"
   ]
  },
  {
   "cell_type": "code",
   "execution_count": 574,
   "metadata": {
    "executionInfo": {
     "elapsed": 2,
     "status": "ok",
     "timestamp": 1631641239815,
     "user": {
      "displayName": "Bosang KIM",
      "photoUrl": "https://lh3.googleusercontent.com/a/default-user=s64",
      "userId": "09337160292545321113"
     },
     "user_tz": -540
    },
    "id": "DOc3zLLaWYSB"
   },
   "outputs": [],
   "source": [
    "# import type을 multi-hot encoding 하기 위한 방법\n",
    "def data_encoding(df, type_):\n",
    "  tmp = []\n",
    "  for impo in df[type_]:\n",
    "    types = impo.split(',')\n",
    "    for i in types:\n",
    "      tmp.append(i)\n",
    "  return list(set(tmp))"
   ]
  },
  {
   "cell_type": "code",
   "execution_count": 575,
   "metadata": {
    "executionInfo": {
     "elapsed": 810,
     "status": "ok",
     "timestamp": 1631641242157,
     "user": {
      "displayName": "Bosang KIM",
      "photoUrl": "https://lh3.googleusercontent.com/a/default-user=s64",
      "userId": "09337160292545321113"
     },
     "user_tz": -540
    },
    "id": "ODGczewisHSr"
   },
   "outputs": [],
   "source": [
    "train, t_len = datasetting(data, name)\n",
    "validation, v_len = datasetting(val_df, name)"
   ]
  },
  {
   "cell_type": "code",
   "execution_count": 576,
   "metadata": {
    "executionInfo": {
     "elapsed": 2,
     "status": "ok",
     "timestamp": 1631641242158,
     "user": {
      "displayName": "Bosang KIM",
      "photoUrl": "https://lh3.googleusercontent.com/a/default-user=s64",
      "userId": "09337160292545321113"
     },
     "user_tz": -540
    },
    "id": "ysvOWebqGMS4"
   },
   "outputs": [],
   "source": [
    "## 제조국과 수출국에 대하여 multi-hot encoding을 진행하기위해서 모든 나라를 리스트형태로 저장\n",
    "ctry_1 = set(list(set(train['CTRY_1']))+list(set(train['CTRY_2'])))\n",
    "ctry_2 = set(list(set(validation['CTRY_1']))+list(set(validation['CTRY_2'])))\n",
    "con = list(ctry_1) + list(ctry_2)\n",
    "ctry_list = list(set(con))"
   ]
  },
  {
   "cell_type": "code",
   "execution_count": 577,
   "metadata": {
    "executionInfo": {
     "elapsed": 454,
     "status": "ok",
     "timestamp": 1631641243034,
     "user": {
      "displayName": "Bosang KIM",
      "photoUrl": "https://lh3.googleusercontent.com/a/default-user=s64",
      "userId": "09337160292545321113"
     },
     "user_tz": -540
    },
    "id": "djcA3s8PsOCX"
   },
   "outputs": [],
   "source": [
    "## 명목형 변수는 dummy 처리해서 multi-hot 형태로 할당하고, 수치형 변수는 스케일링 작업 진행\n",
    "\n",
    "def data_frame(trains, ctry_list):\n",
    "\n",
    "  p_type = \"P_IMPORT_TYPE\"\n",
    "  import_type = data_encoding(train, p_type)\n",
    "\n",
    "  con = ctry_list\n",
    "  con.sort()\n",
    "  col_con = [f\"country_{co}\" for co in con]\n",
    "  col_imp = [f\"import_{im}\" for im in import_type]\n",
    "  cols = col_con + col_imp + ['weight', 'temp', 'price']\n",
    "  # print(cols)\n",
    "  x_train = pd.DataFrame(columns=cols)\n",
    "  tmp = []\n",
    "  for i in range(len(cols)-1):\n",
    "    tmp.append([])\n",
    "  len_a = len(col_con)\n",
    "  len_b = len(col_imp)\n",
    "  for c1, c2, p in zip(trains['CTRY_1'], trains['CTRY_2'], trains['P_IMPORT_TYPE']):\n",
    "    i = con.index(c1)\n",
    "    j = con.index(c2)\n",
    "    country = np.eye(len_a)[i] + np.eye(len_a)[j] ## 제조국 + 수출국 정보 결합\n",
    "\n",
    "    p_import = np.zeros(len_b)\n",
    "    for ty in p.split(','):\n",
    "      j = import_type.index(ty)\n",
    "      p_import += np.eye(len(p_import))[j] ## import type 정보 결합\n",
    "\n",
    "    row = np.concatenate([country, p_import])\n",
    "\n",
    "    for i, r in enumerate(row):\n",
    "      tmp[i].append(r)\n",
    "\n",
    "  for i, c in enumerate(cols[:-3]): ## 중량, 수온, 가격 이외의 것들만 고려\n",
    "    x_train[c] = tmp[i]\n",
    "\n",
    "  ## 중량과 수온 데이터 스케일링\n",
    "  w = trains['WEIGHT(KG)'].tolist()\n",
    "  w = np.array(w).reshape(-1,1)\n",
    "  t = trains['temp'].tolist()\n",
    "  t = np.array(t).reshape(-1,1)\n",
    "\n",
    "  scaler = MinMaxScaler()\n",
    "  scaler.fit(w)\n",
    "  t_data = scaler.transform(w)\n",
    "\n",
    "  wscaler = MinMaxScaler()\n",
    "  wscaler.fit(t)\n",
    "  w_data = wscaler.transform(t)\n",
    "\n",
    "  x_train['weight'] =  t_data\n",
    "  x_train['temp'] = w_data\n",
    "  x_train['price'] = trains['P_PRICE'].tolist()\n",
    "\n",
    "  return x_train"
   ]
  },
  {
   "cell_type": "code",
   "execution_count": 578,
   "metadata": {
    "executionInfo": {
     "elapsed": 2,
     "status": "ok",
     "timestamp": 1631641243838,
     "user": {
      "displayName": "Bosang KIM",
      "photoUrl": "https://lh3.googleusercontent.com/a/default-user=s64",
      "userId": "09337160292545321113"
     },
     "user_tz": -540
    },
    "id": "BisLfUSqGVfx"
   },
   "outputs": [],
   "source": [
    "x_train = data_frame(train, ctry_list)"
   ]
  },
  {
   "cell_type": "code",
   "execution_count": 579,
   "metadata": {
    "executionInfo": {
     "elapsed": 872,
     "status": "ok",
     "timestamp": 1631641245257,
     "user": {
      "displayName": "Bosang KIM",
      "photoUrl": "https://lh3.googleusercontent.com/a/default-user=s64",
      "userId": "09337160292545321113"
     },
     "user_tz": -540
    },
    "id": "F15luELOQPFD"
   },
   "outputs": [],
   "source": [
    "x_val = data_frame(validation, ctry_list)"
   ]
  },
  {
   "cell_type": "markdown",
   "metadata": {
    "id": "aavAgTkrr5jy"
   },
   "source": [
    "# 학습, 테스트 데이터 분리 "
   ]
  },
  {
   "cell_type": "code",
   "execution_count": 580,
   "metadata": {
    "executionInfo": {
     "elapsed": 4,
     "status": "ok",
     "timestamp": 1631641245761,
     "user": {
      "displayName": "Bosang KIM",
      "photoUrl": "https://lh3.googleusercontent.com/a/default-user=s64",
      "userId": "09337160292545321113"
     },
     "user_tz": -540
    },
    "id": "vitLnhsQOsgw"
   },
   "outputs": [],
   "source": [
    "X_train = np.array(x_train.iloc[:,:-1])\n",
    "Y_train = np.array(x_train.iloc[:,-1])\n",
    "Y_train = Y_train.reshape(-1)"
   ]
  },
  {
   "cell_type": "code",
   "execution_count": 581,
   "metadata": {
    "executionInfo": {
     "elapsed": 2,
     "status": "ok",
     "timestamp": 1631641246302,
     "user": {
      "displayName": "Bosang KIM",
      "photoUrl": "https://lh3.googleusercontent.com/a/default-user=s64",
      "userId": "09337160292545321113"
     },
     "user_tz": -540
    },
    "id": "VQ_zkjmHQcvh"
   },
   "outputs": [],
   "source": [
    "X_val = np.array(x_val.iloc[:,:-1])\n",
    "Y_val = np.array(x_val.iloc[:,-1])\n",
    "Y_val = Y_val.reshape(-1)"
   ]
  },
  {
   "cell_type": "code",
   "execution_count": 582,
   "metadata": {
    "colab": {
     "base_uri": "https://localhost:8080/"
    },
    "executionInfo": {
     "elapsed": 7,
     "status": "ok",
     "timestamp": 1631641247387,
     "user": {
      "displayName": "Bosang KIM",
      "photoUrl": "https://lh3.googleusercontent.com/a/default-user=s64",
      "userId": "09337160292545321113"
     },
     "user_tz": -540
    },
    "id": "0WrDsy9wrC7p",
    "outputId": "03691de2-7f68-4b29-fa72-2ba3ef8b1f8e"
   },
   "outputs": [
    {
     "data": {
      "text/plain": [
       "((1333, 25), (1333,), (388, 25), (388,))"
      ]
     },
     "execution_count": 582,
     "metadata": {},
     "output_type": "execute_result"
    }
   ],
   "source": [
    "X_train.shape, Y_train.shape, X_val.shape, Y_val.shape"
   ]
  },
  {
   "cell_type": "code",
   "execution_count": 583,
   "metadata": {
    "executionInfo": {
     "elapsed": 2,
     "status": "ok",
     "timestamp": 1631641247924,
     "user": {
      "displayName": "Bosang KIM",
      "photoUrl": "https://lh3.googleusercontent.com/a/default-user=s64",
      "userId": "09337160292545321113"
     },
     "user_tz": -540
    },
    "id": "x2cDktFKQULw"
   },
   "outputs": [],
   "source": [
    "num_heads=8; head_size=32; ff_dim=None; dropout=0\n",
    "\n",
    "multi = MultiHeadAttention(num_heads=num_heads, head_size=head_size, dropout=dropout)"
   ]
  },
  {
   "cell_type": "code",
   "execution_count": 584,
   "metadata": {
    "executionInfo": {
     "elapsed": 2,
     "status": "ok",
     "timestamp": 1631641248738,
     "user": {
      "displayName": "Bosang KIM",
      "photoUrl": "https://lh3.googleusercontent.com/a/default-user=s64",
      "userId": "09337160292545321113"
     },
     "user_tz": -540
    },
    "id": "I_B_Hma5UcWu"
   },
   "outputs": [],
   "source": [
    "## Attention을 계산하는 모듈 생성\n",
    "\n",
    "class AttentionBlock(keras.Model):\n",
    "    def __init__(self, name='AttentionBlock', num_heads=2, head_size=128, ff_dim=None, dropout=0.2, **kwargs):\n",
    "        super().__init__(name=name, **kwargs)\n",
    "\n",
    "        if ff_dim is None:\n",
    "            ff_dim = head_size\n",
    "\n",
    "        self.attention = MultiHeadAttention(num_heads=num_heads, head_size=head_size, dropout=dropout)\n",
    "        self.attention_dropout = keras.layers.Dropout(dropout)\n",
    "        self.attention_norm = keras.layers.LayerNormalization(epsilon=1e-6)\n",
    "\n",
    "        self.ff_conv1 = keras.layers.Conv1D(filters=ff_dim, kernel_size=1, activation='relu')\n",
    "        self.flatten = keras.layers.Flatten()\n",
    "        self.dense1 = keras.layers.Dense(64, activation='relu')\n",
    "        self.dense2 = keras.layers.Dense(1)\n",
    "        self.ff_dropout = keras.layers.Dropout(dropout)\n",
    "        self.ff_norm = keras.layers.LayerNormalization(epsilon=1e-6)\n",
    "\n",
    "    def build(self, input_shape):\n",
    "        self.ff_conv2 = keras.layers.Conv1D(filters=input_shape[-1], kernel_size=1) \n",
    "\n",
    "    def call(self, inputs):\n",
    "        x = self.attention([inputs, inputs])\n",
    "        x = self.attention_dropout(x)\n",
    "        x = self.attention_norm(inputs + x)\n",
    "        \n",
    "        return x"
   ]
  },
  {
   "cell_type": "code",
   "execution_count": 585,
   "metadata": {
    "executionInfo": {
     "elapsed": 1,
     "status": "ok",
     "timestamp": 1631641249390,
     "user": {
      "displayName": "Bosang KIM",
      "photoUrl": "https://lh3.googleusercontent.com/a/default-user=s64",
      "userId": "09337160292545321113"
     },
     "user_tz": -540
    },
    "id": "63EXf5S0bGl6"
   },
   "outputs": [],
   "source": [
    "## Attention을 여러번 계산하고 마치막 출력으로 Fully_connected layer를 통해 차원 축소\n",
    "\n",
    "class ModelTrunk(keras.Model):\n",
    "    def __init__(self, name='ModelTrunk', num_heads=2, head_size=128, ff_dim=None, num_layers=10, dropout=0, **kwargs):\n",
    "      super().__init__(name=name, **kwargs)\n",
    "      if ff_dim is None:\n",
    "          ff_dim = head_size\n",
    "      self.dropout = dropout\n",
    "      self.attention_layers = [AttentionBlock(num_heads=num_heads, head_size=head_size, ff_dim=ff_dim, dropout=dropout) for _ in range(num_layers)]\n",
    "      self.dense2 = keras.layers.Dense(1, kernel_initializer='he_normal')\n",
    "\n",
    "    def call(self, inputs):\n",
    "      x = inputs\n",
    "      for attention_layer in self.attention_layers:\n",
    "          x = attention_layer(x)\n",
    "      x = self.dense2(x)\n",
    "      return x"
   ]
  },
  {
   "cell_type": "code",
   "execution_count": 586,
   "metadata": {
    "executionInfo": {
     "elapsed": 467,
     "status": "ok",
     "timestamp": 1631641250379,
     "user": {
      "displayName": "Bosang KIM",
      "photoUrl": "https://lh3.googleusercontent.com/a/default-user=s64",
      "userId": "09337160292545321113"
     },
     "user_tz": -540
    },
    "id": "hAgyOpqqbnvo"
   },
   "outputs": [],
   "source": [
    "# Attention 계산 및 FC layer 차원축소 \n",
    "attention_layers = ModelTrunk()"
   ]
  },
  {
   "cell_type": "code",
   "execution_count": 587,
   "metadata": {
    "executionInfo": {
     "elapsed": 2,
     "status": "ok",
     "timestamp": 1631641251471,
     "user": {
      "displayName": "Bosang KIM",
      "photoUrl": "https://lh3.googleusercontent.com/a/default-user=s64",
      "userId": "09337160292545321113"
     },
     "user_tz": -540
    },
    "id": "hM-swSfzcYeA"
   },
   "outputs": [],
   "source": [
    "# 소프트맥스 함수 \n",
    "def softmax(x):\n",
    "    e_x = np.exp(x - np.max(x))\n",
    "    return e_x / e_x.sum()"
   ]
  },
  {
   "cell_type": "code",
   "execution_count": 588,
   "metadata": {
    "executionInfo": {
     "elapsed": 3,
     "status": "ok",
     "timestamp": 1631641252748,
     "user": {
      "displayName": "Bosang KIM",
      "photoUrl": "https://lh3.googleusercontent.com/a/default-user=s64",
      "userId": "09337160292545321113"
     },
     "user_tz": -540
    },
    "id": "U_9vdGYmeajp"
   },
   "outputs": [],
   "source": [
    "# Attention - FC layer 를 통한 가중치 리스트와 가격 리스트 생성\n",
    "def make_weight(x, y,length):\n",
    "    # 날짜별로 attention score 담을 list\n",
    "    weight_score = []\n",
    "    # 날짜별로 p_price 담을 list\n",
    "    p_price = []\n",
    "    final_weight = []\n",
    "\n",
    "    before = 0\n",
    "    for leng in length:\n",
    "      if leng==0:\n",
    "        weight_score.append([[0]])\n",
    "        p_price.append([[0]])\n",
    "      else:\n",
    "        a = np.array(x[before:before+leng])\n",
    "        b = np.array(y[before:before+leng]).tolist()\n",
    "        arr = attention_layers(a)\n",
    "        weight_score.append(np.array(softmax(arr)).tolist()) ## attention score를 softmax 함수를 이용해서 정규화\n",
    "        p_price.append(b)\n",
    "        before += leng\n",
    "\n",
    "    for w in weight_score:\n",
    "        aa = sum(w, [])\n",
    "        final_weight.append(aa)\n",
    "\n",
    "    return final_weight,p_price"
   ]
  },
  {
   "cell_type": "code",
   "execution_count": 589,
   "metadata": {
    "executionInfo": {
     "elapsed": 6349,
     "status": "ok",
     "timestamp": 1631641260221,
     "user": {
      "displayName": "Bosang KIM",
      "photoUrl": "https://lh3.googleusercontent.com/a/default-user=s64",
      "userId": "09337160292545321113"
     },
     "user_tz": -540
    },
    "id": "57oyiGE3edDQ"
   },
   "outputs": [],
   "source": [
    "train_weight, train_price = make_weight(X_train, Y_train, t_len)"
   ]
  },
  {
   "cell_type": "code",
   "execution_count": 590,
   "metadata": {
    "executionInfo": {
     "elapsed": 2608,
     "status": "ok",
     "timestamp": 1631641262824,
     "user": {
      "displayName": "Bosang KIM",
      "photoUrl": "https://lh3.googleusercontent.com/a/default-user=s64",
      "userId": "09337160292545321113"
     },
     "user_tz": -540
    },
    "id": "XADrr1xb-TNe"
   },
   "outputs": [],
   "source": [
    "val_weight, val_price = make_weight(X_val, Y_val,v_len)"
   ]
  },
  {
   "cell_type": "code",
   "execution_count": 591,
   "metadata": {
    "executionInfo": {
     "elapsed": 16,
     "status": "ok",
     "timestamp": 1631641262825,
     "user": {
      "displayName": "Bosang KIM",
      "photoUrl": "https://lh3.googleusercontent.com/a/default-user=s64",
      "userId": "09337160292545321113"
     },
     "user_tz": -540
    },
    "id": "-SKQiLtk-TLG"
   },
   "outputs": [],
   "source": [
    "# 가중치를 이용한 새로운 가격 변수 생성\n",
    "def make_new_price(weight_list, price_list):\n",
    "    new_price = []\n",
    "    new_price_m = 0\n",
    "    new_price_s = 0\n",
    "\n",
    "    for i in range(len(weight_list)):\n",
    "        if weight_list[i]==[0]:\n",
    "            new_price.append(0)\n",
    "        else:\n",
    "            for j in range(len(weight_list[i])):\n",
    "                new_price_m += (weight_list[i][j] * price_list[i][j])\n",
    "                new_price_s += weight_list[i][j]\n",
    "            new_price_sum = new_price_m / new_price_s\n",
    "            new_price.append(new_price_sum)\n",
    "    return new_price"
   ]
  },
  {
   "cell_type": "code",
   "execution_count": 592,
   "metadata": {
    "executionInfo": {
     "elapsed": 16,
     "status": "ok",
     "timestamp": 1631641262825,
     "user": {
      "displayName": "Bosang KIM",
      "photoUrl": "https://lh3.googleusercontent.com/a/default-user=s64",
      "userId": "09337160292545321113"
     },
     "user_tz": -540
    },
    "id": "C5nns4qW-U8J"
   },
   "outputs": [],
   "source": [
    "# attention score의 가중치를 적용한 가중평균 \n",
    "train_price = make_new_price(train_weight, train_price)"
   ]
  },
  {
   "cell_type": "code",
   "execution_count": 593,
   "metadata": {
    "executionInfo": {
     "elapsed": 16,
     "status": "ok",
     "timestamp": 1631641262826,
     "user": {
      "displayName": "Bosang KIM",
      "photoUrl": "https://lh3.googleusercontent.com/a/default-user=s64",
      "userId": "09337160292545321113"
     },
     "user_tz": -540
    },
    "id": "tpvI4xtj-U6S"
   },
   "outputs": [],
   "source": [
    "val_price = make_new_price(val_weight, val_price)"
   ]
  },
  {
   "cell_type": "code",
   "execution_count": 594,
   "metadata": {
    "executionInfo": {
     "elapsed": 15,
     "status": "ok",
     "timestamp": 1631641262826,
     "user": {
      "displayName": "Bosang KIM",
      "photoUrl": "https://lh3.googleusercontent.com/a/default-user=s64",
      "userId": "09337160292545321113"
     },
     "user_tz": -540
    },
    "id": "ForLHshs41IA"
   },
   "outputs": [],
   "source": [
    "trn_lst = np.array([item for item in train_price if item > 0])"
   ]
  },
  {
   "cell_type": "code",
   "execution_count": 595,
   "metadata": {
    "executionInfo": {
     "elapsed": 15,
     "status": "ok",
     "timestamp": 1631641262826,
     "user": {
      "displayName": "Bosang KIM",
      "photoUrl": "https://lh3.googleusercontent.com/a/default-user=s64",
      "userId": "09337160292545321113"
     },
     "user_tz": -540
    },
    "id": "aSzMju_RY3d-"
   },
   "outputs": [],
   "source": [
    "train['REG_DATE'] = pd.to_datetime(train['REG_DATE'])\n",
    "validation['REG_DATE'] = pd.to_datetime(validation['REG_DATE'])"
   ]
  },
  {
   "cell_type": "code",
   "execution_count": 599,
   "metadata": {
    "executionInfo": {
     "elapsed": 3,
     "status": "ok",
     "timestamp": 1631641264741,
     "user": {
      "displayName": "Bosang KIM",
      "photoUrl": "https://lh3.googleusercontent.com/a/default-user=s64",
      "userId": "09337160292545321113"
     },
     "user_tz": -540
    },
    "id": "_N2j5hIL12l_"
   },
   "outputs": [],
   "source": [
    "# 가중평균한 최종 가격 배열로 만들기 \n",
    "ts_train = np.array(train_price)"
   ]
  },
  {
   "cell_type": "markdown",
   "metadata": {
    "id": "HkZygrrEWvdM"
   },
   "source": [
    "# RMSE 함수 (평가지표)"
   ]
  },
  {
   "cell_type": "code",
   "execution_count": 604,
   "metadata": {
    "executionInfo": {
     "elapsed": 422,
     "status": "ok",
     "timestamp": 1631641280449,
     "user": {
      "displayName": "Bosang KIM",
      "photoUrl": "https://lh3.googleusercontent.com/a/default-user=s64",
      "userId": "09337160292545321113"
     },
     "user_tz": -540
    },
    "id": "MPX_UrRcWzMI"
   },
   "outputs": [],
   "source": [
    "def rmse(y: List, yhat:List)->float:\n",
    "  # y값의 갯수\n",
    "  n = len(y)\n",
    "  mse = 0\n",
    "  for i in range(n):\n",
    "    # 실제값에서 예측값 뺀것의 제곱\n",
    "    mse += (y[i] - yhat[i])**2\n",
    "  rmse = (mse/n)**0.5\n",
    "  return rmse"
   ]
  },
  {
   "cell_type": "markdown",
   "metadata": {
    "id": "1OF41nCTgJVE"
   },
   "source": [
    "- validation y : val_price\n"
   ]
  },
  {
   "cell_type": "markdown",
   "metadata": {
    "id": "ZOu3a8ZPdwcl"
   },
   "source": [
    "# Neural Prophet - normal"
   ]
  },
  {
   "cell_type": "code",
   "execution_count": 605,
   "metadata": {
    "colab": {
     "base_uri": "https://localhost:8080/"
    },
    "executionInfo": {
     "elapsed": 370,
     "status": "ok",
     "timestamp": 1631641283100,
     "user": {
      "displayName": "Bosang KIM",
      "photoUrl": "https://lh3.googleusercontent.com/a/default-user=s64",
      "userId": "09337160292545321113"
     },
     "user_tz": -540
    },
    "id": "XBSTreDhDfoU",
    "outputId": "83e3e96b-3202-4fb4-d915-b020dfaaa092"
   },
   "outputs": [
    {
     "name": "stdout",
     "output_type": "stream",
     "text": [
      "(195, 2)\n"
     ]
    }
   ],
   "source": [
    "## 모델 피팅하기 위해서 dataframe 형태 수정\n",
    "df = pd.DataFrame(columns=['ds', 'y'])\n",
    "df['ds'] = train['REG_DATE'].unique()\n",
    "df['y'] = ts_train\n",
    "print(df.shape)"
   ]
  },
  {
   "cell_type": "code",
   "execution_count": 606,
   "metadata": {
    "executionInfo": {
     "elapsed": 1,
     "status": "ok",
     "timestamp": 1631641285064,
     "user": {
      "displayName": "Bosang KIM",
      "photoUrl": "https://lh3.googleusercontent.com/a/default-user=s64",
      "userId": "09337160292545321113"
     },
     "user_tz": -540
    },
    "id": "rh49BK2XK7I9"
   },
   "outputs": [],
   "source": [
    "# hyperparameter \n",
    "freq = 'W-MON' # 시작일이 월요일이면서, 일주일 간격 \n",
    "epochs = 1000"
   ]
  },
  {
   "cell_type": "code",
   "execution_count": 607,
   "metadata": {
    "colab": {
     "base_uri": "https://localhost:8080/",
     "height": 157,
     "referenced_widgets": [
      "9c21954cf1924ba9ab2386544482d9d4",
      "72fa1e1313b241fa8f5f4225a2ef8263",
      "f3b5814c77b74605bf7a431cff7cfeff",
      "7c0022a5b64a4192876bcabdf88087e4",
      "c11ccc8d2ea14ff5b7a8d7a0dc40a9a4",
      "57a66f8b94354dcca6bee6d466e13a46",
      "78c47e260add4bd3a20525a881518bfb",
      "767a46b7261e405c95826d8cb8e0e54b",
      "d981ac7b46cd479ca7a184311014b92b",
      "3deedcbdad264952884d7bb7f1e51c3e",
      "7a75ea4bdea646188c3852b60ceffc1a"
     ]
    },
    "executionInfo": {
     "elapsed": 40413,
     "status": "ok",
     "timestamp": 1631641329899,
     "user": {
      "displayName": "Bosang KIM",
      "photoUrl": "https://lh3.googleusercontent.com/a/default-user=s64",
      "userId": "09337160292545321113"
     },
     "user_tz": -540
    },
    "id": "KDrYoA9JvD0Z",
    "outputId": "190e86c0-23c0-4764-fcc9-9d483a87d439"
   },
   "outputs": [
    {
     "name": "stderr",
     "output_type": "stream",
     "text": [
      "WARNING: nprophet - fit: Parts of code may break if using other than daily data.\n",
      "INFO: nprophet.utils - set_auto_seasonalities: Disabling weekly seasonality. Run NeuralProphet with weekly_seasonality=True to override this.\n",
      "INFO: nprophet.utils - set_auto_seasonalities: Disabling daily seasonality. Run NeuralProphet with daily_seasonality=True to override this.\n",
      "INFO: nprophet.config - set_auto_batch_epoch: Auto-set batch_size to 8\n"
     ]
    },
    {
     "data": {
      "application/vnd.jupyter.widget-view+json": {
       "model_id": "9c21954cf1924ba9ab2386544482d9d4",
       "version_major": 2,
       "version_minor": 0
      },
      "text/plain": [
       "  0%|          | 0/100 [00:00<?, ?it/s]"
      ]
     },
     "metadata": {},
     "output_type": "display_data"
    },
    {
     "name": "stderr",
     "output_type": "stream",
     "text": [
      "INFO: nprophet - _lr_range_test: learning rate range test found optimal lr: 2.31E-01\n",
      "Epoch[1000/1000]: 100%|██████████| 1000/1000 [00:40<00:00, 24.98it/s, SmoothL1Loss=0.00216, MAE=0.0508, RegLoss=0]\n"
     ]
    }
   ],
   "source": [
    "# 모델 학습\n",
    "m = NeuralProphet()\n",
    "metrics = m.fit(df, freq =freq,\n",
    "                epochs=epochs)"
   ]
  },
  {
   "cell_type": "code",
   "execution_count": 608,
   "metadata": {
    "executionInfo": {
     "elapsed": 571,
     "status": "ok",
     "timestamp": 1631641338172,
     "user": {
      "displayName": "Bosang KIM",
      "photoUrl": "https://lh3.googleusercontent.com/a/default-user=s64",
      "userId": "09337160292545321113"
     },
     "user_tz": -540
    },
    "id": "MOxa-bP_DYxx"
   },
   "outputs": [],
   "source": [
    "# 예측 기간 데이터셋 생성\n",
    "val_date = list(validation['REG_DATE'].unique())\n",
    "future = pd.DataFrame(val_date, columns=['ds'])\n",
    "future['y'] = None"
   ]
  },
  {
   "cell_type": "code",
   "execution_count": 609,
   "metadata": {
    "executionInfo": {
     "elapsed": 2,
     "status": "ok",
     "timestamp": 1631641339698,
     "user": {
      "displayName": "Bosang KIM",
      "photoUrl": "https://lh3.googleusercontent.com/a/default-user=s64",
      "userId": "09337160292545321113"
     },
     "user_tz": -540
    },
    "id": "Y1XDuIW8xWb9"
   },
   "outputs": [],
   "source": [
    "# train 데이터의 마지막일 기준으로, 일주일 간격 * 70 의 테스트데이터 생성\n",
    "future = m.make_future_dataframe(df, periods=70)\n",
    "forecast = m.predict(future)"
   ]
  },
  {
   "cell_type": "code",
   "execution_count": 610,
   "metadata": {
    "colab": {
     "base_uri": "https://localhost:8080/",
     "height": 441
    },
    "executionInfo": {
     "elapsed": 4,
     "status": "ok",
     "timestamp": 1631641341332,
     "user": {
      "displayName": "Bosang KIM",
      "photoUrl": "https://lh3.googleusercontent.com/a/default-user=s64",
      "userId": "09337160292545321113"
     },
     "user_tz": -540
    },
    "id": "ph8LmWIBy4hG",
    "outputId": "5038b4fc-df19-46d8-e55a-9432342acc27"
   },
   "outputs": [
    {
     "data": {
      "image/png": "[encoded data removed]",
      "text/plain": [
       "<Figure size 720x432 with 1 Axes>"
      ]
     },
     "metadata": {},
     "output_type": "display_data"
    }
   ],
   "source": [
    "forecasts_plot = m.plot(forecast)"
   ]
  },
  {
   "cell_type": "code",
   "execution_count": 611,
   "metadata": {
    "executionInfo": {
     "elapsed": 528,
     "status": "ok",
     "timestamp": 1631641343257,
     "user": {
      "displayName": "Bosang KIM",
      "photoUrl": "https://lh3.googleusercontent.com/a/default-user=s64",
      "userId": "09337160292545321113"
     },
     "user_tz": -540
    },
    "id": "L13N62Ve56n0"
   },
   "outputs": [],
   "source": [
    "# validation 기간에 맞는 예측 데이터 프레임 구성\n",
    "a = pd.DataFrame(columns=['ds', 'y', 'yhat1', 'residual1', 'trend', 'season_yearly'])\n",
    "for i in val_date:\n",
    "  a = a.append(forecast.iloc[forecast.loc[forecast['ds']==i].index])\n",
    "a.reset_index(drop=True, inplace = True)"
   ]
  },
  {
   "cell_type": "code",
   "execution_count": 612,
   "metadata": {
    "colab": {
     "base_uri": "https://localhost:8080/"
    },
    "executionInfo": {
     "elapsed": 5,
     "status": "ok",
     "timestamp": 1631641345097,
     "user": {
      "displayName": "Bosang KIM",
      "photoUrl": "https://lh3.googleusercontent.com/a/default-user=s64",
      "userId": "09337160292545321113"
     },
     "user_tz": -540
    },
    "id": "X9X8Cr1s6Fos",
    "outputId": "a11253ee-ba3b-4a27-a3c8-40d0337ea9e1"
   },
   "outputs": [
    {
     "data": {
      "text/plain": [
       "0.21945749430163583"
      ]
     },
     "execution_count": 612,
     "metadata": {},
     "output_type": "execute_result"
    }
   ],
   "source": [
    "# rmse\n",
    "rmse(val_price, a['yhat1'])"
   ]
  },
  {
   "cell_type": "markdown",
   "metadata": {
    "id": "ExbZEVo5Favr"
   },
   "source": [
    "# Neural Prophet - Trend"
   ]
  },
  {
   "cell_type": "code",
   "execution_count": 614,
   "metadata": {
    "colab": {
     "base_uri": "https://localhost:8080/",
     "height": 121,
     "referenced_widgets": [
      "45505e684ccf4239b9ccba0b172d71f5",
      "422d7193fefd4bf482b8e0b7d9ef9957",
      "4e4e63c1da38457c8eae0505238106ff",
      "09c8174673bb4389825e1187dbee1203",
      "a02e81708a4f4cfea682a1f8f928f159",
      "7b6f652b197b4b04a8ec7b9ecc88df2b",
      "a20dfb501e764fffb8d8da5a7a0c0905",
      "0627d82fbdea4ad0b2a31bbd3270d64d",
      "56d92308a5394cd68e1b96c81b827fc0",
      "bf8d0264aa2b49c4885f19880bfe19ee",
      "2b0583706e544da3b3ad883ac221c398"
     ]
    },
    "executionInfo": {
     "elapsed": 36129,
     "status": "ok",
     "timestamp": 1631641455961,
     "user": {
      "displayName": "Bosang KIM",
      "photoUrl": "https://lh3.googleusercontent.com/a/default-user=s64",
      "userId": "09337160292545321113"
     },
     "user_tz": -540
    },
    "id": "1hoGVPb-Kw81",
    "outputId": "b310969b-f2d3-4cef-a3b6-0177de9cdc7d"
   },
   "outputs": [
    {
     "name": "stderr",
     "output_type": "stream",
     "text": [
      "WARNING: nprophet - fit: Parts of code may break if using other than daily data.\n",
      "INFO: nprophet.config - set_auto_batch_epoch: Auto-set batch_size to 8\n"
     ]
    },
    {
     "data": {
      "application/vnd.jupyter.widget-view+json": {
       "model_id": "45505e684ccf4239b9ccba0b172d71f5",
       "version_major": 2,
       "version_minor": 0
      },
      "text/plain": [
       "  0%|          | 0/100 [00:00<?, ?it/s]"
      ]
     },
     "metadata": {},
     "output_type": "display_data"
    },
    {
     "name": "stderr",
     "output_type": "stream",
     "text": [
      "INFO: nprophet - _lr_range_test: learning rate range test found optimal lr: 1.23E+00\n",
      "Epoch[1000/1000]: 100%|██████████| 1000/1000 [00:35<00:00, 28.07it/s, SmoothL1Loss=0.000633, MAE=0.0168, RegLoss=0]\n"
     ]
    }
   ],
   "source": [
    "m = NeuralProphet(\n",
    "    n_changepoints=100,\n",
    "    #trend_smoothness=2,\n",
    "    yearly_seasonality=False,\n",
    "    weekly_seasonality=False,\n",
    "    daily_seasonality=False,\n",
    "    epochs =epochs\n",
    ")\n",
    "metrics = m.fit(df, freq=freq)"
   ]
  },
  {
   "cell_type": "code",
   "execution_count": 615,
   "metadata": {
    "executionInfo": {
     "elapsed": 536,
     "status": "ok",
     "timestamp": 1631641461915,
     "user": {
      "displayName": "Bosang KIM",
      "photoUrl": "https://lh3.googleusercontent.com/a/default-user=s64",
      "userId": "09337160292545321113"
     },
     "user_tz": -540
    },
    "id": "axZknVS_LMlb"
   },
   "outputs": [],
   "source": [
    "future = m.make_future_dataframe(df, periods=70, n_historic_predictions=len(df))\n",
    "forecast = m.predict(future)"
   ]
  },
  {
   "cell_type": "code",
   "execution_count": 616,
   "metadata": {
    "executionInfo": {
     "elapsed": 679,
     "status": "ok",
     "timestamp": 1631641463672,
     "user": {
      "displayName": "Bosang KIM",
      "photoUrl": "https://lh3.googleusercontent.com/a/default-user=s64",
      "userId": "09337160292545321113"
     },
     "user_tz": -540
    },
    "id": "oPjitmwuMfBF"
   },
   "outputs": [],
   "source": [
    "a = pd.DataFrame(columns=['ds', 'y', 'yhat1', 'residual1', 'trend', 'season_yearly'])\n",
    "for i in val_date:\n",
    "  a = a.append(forecast.iloc[forecast.loc[forecast['ds']==i].index])\n",
    "a.reset_index(drop=True, inplace = True)"
   ]
  },
  {
   "cell_type": "code",
   "execution_count": 617,
   "metadata": {
    "colab": {
     "base_uri": "https://localhost:8080/"
    },
    "executionInfo": {
     "elapsed": 502,
     "status": "ok",
     "timestamp": 1631641465776,
     "user": {
      "displayName": "Bosang KIM",
      "photoUrl": "https://lh3.googleusercontent.com/a/default-user=s64",
      "userId": "09337160292545321113"
     },
     "user_tz": -540
    },
    "id": "IlGqcD2lMiF_",
    "outputId": "8213e3ba-97a8-4c11-b184-a86c6032812a"
   },
   "outputs": [
    {
     "data": {
      "text/plain": [
       "0.14983437083772141"
      ]
     },
     "execution_count": 617,
     "metadata": {},
     "output_type": "execute_result"
    }
   ],
   "source": [
    "# rmse\n",
    "rmse(val_price, a['yhat1'])"
   ]
  },
  {
   "cell_type": "markdown",
   "metadata": {
    "id": "8W1CfYTJMjQF"
   },
   "source": [
    "# Nueral Prophet - Seasonality"
   ]
  },
  {
   "cell_type": "code",
   "execution_count": 668,
   "metadata": {
    "colab": {
     "base_uri": "https://localhost:8080/",
     "height": 175,
     "referenced_widgets": [
      "1604a6fba2b145718c82b85a32b0fc6a",
      "b98ae9a63bd64ca2bbe9ea1def557b12",
      "e8b6a95c30f1427882379721d84c6b28",
      "b0d99306dc2e4ad88b0c0872e207b6b2",
      "ceca6194f0a04bd28b9bd59249ab8291",
      "f466372cc4674394be583c67e46c30db",
      "e31c84266483445284dc490b0b90c351",
      "2894b1dd04654efeb16fd3315a22912b",
      "774b7ec939e1412c84441adfb43d13c4",
      "7c463fa369874b19acad67ef2569d35d",
      "05910c851dff499bbfb4b3410cfc00fc"
     ]
    },
    "executionInfo": {
     "elapsed": 6442,
     "status": "ok",
     "timestamp": 1631642184967,
     "user": {
      "displayName": "Bosang KIM",
      "photoUrl": "https://lh3.googleusercontent.com/a/default-user=s64",
      "userId": "09337160292545321113"
     },
     "user_tz": -540
    },
    "id": "bsrdiuVCNXI7",
    "outputId": "0e3ea043-67d8-4441-f1e5-5ee89a9ec086"
   },
   "outputs": [
    {
     "name": "stderr",
     "output_type": "stream",
     "text": [
      "INFO: nprophet.config - __post_init__: Note: Fourier-based seasonality regularization is experimental.\n",
      "WARNING: nprophet - fit: Parts of code may break if using other than daily data.\n",
      "INFO: nprophet.utils - set_auto_seasonalities: Disabling daily seasonality. Run NeuralProphet with daily_seasonality=True to override this.\n",
      "INFO: nprophet.config - set_auto_batch_epoch: Auto-set batch_size to 8\n",
      "INFO: nprophet.config - set_auto_batch_epoch: Auto-set epochs to 164\n"
     ]
    },
    {
     "data": {
      "application/vnd.jupyter.widget-view+json": {
       "model_id": "1604a6fba2b145718c82b85a32b0fc6a",
       "version_major": 2,
       "version_minor": 0
      },
      "text/plain": [
       "  0%|          | 0/100 [00:00<?, ?it/s]"
      ]
     },
     "metadata": {},
     "output_type": "display_data"
    },
    {
     "name": "stderr",
     "output_type": "stream",
     "text": [
      "INFO: nprophet - _lr_range_test: learning rate range test found optimal lr: 1.87E+00\n",
      "Epoch[164/164]: 100%|██████████| 164/164 [00:05<00:00, 27.35it/s, SmoothL1Loss=0.00168, MAE=0.0319, RegLoss=0]\n"
     ]
    }
   ],
   "source": [
    "m = NeuralProphet(\n",
    "    n_changepoints=200,\n",
    "    yearly_seasonality=15,\n",
    "    weekly_seasonality=3,\n",
    "    seasonality_reg=30,\n",
    "    num_hidden_layers=20,\n",
    ")\n",
    "metrics = m.fit(df, freq=freq)"
   ]
  },
  {
   "cell_type": "code",
   "execution_count": 669,
   "metadata": {
    "executionInfo": {
     "elapsed": 14,
     "status": "ok",
     "timestamp": 1631642184967,
     "user": {
      "displayName": "Bosang KIM",
      "photoUrl": "https://lh3.googleusercontent.com/a/default-user=s64",
      "userId": "09337160292545321113"
     },
     "user_tz": -540
    },
    "id": "LTkMEpLWN3AN"
   },
   "outputs": [],
   "source": [
    "future = m.make_future_dataframe(df, periods=70, n_historic_predictions=len(df))\n",
    "forecast = m.predict(future)"
   ]
  },
  {
   "cell_type": "code",
   "execution_count": 670,
   "metadata": {
    "executionInfo": {
     "elapsed": 14,
     "status": "ok",
     "timestamp": 1631642184968,
     "user": {
      "displayName": "Bosang KIM",
      "photoUrl": "https://lh3.googleusercontent.com/a/default-user=s64",
      "userId": "09337160292545321113"
     },
     "user_tz": -540
    },
    "id": "r5JLW9f5ORQ3"
   },
   "outputs": [],
   "source": [
    "a = pd.DataFrame(columns=['ds', 'y', 'yhat1', 'residual1', 'trend', 'season_yearly'])\n",
    "for i in val_date:\n",
    "  a = a.append(forecast.iloc[forecast.loc[forecast['ds']==i].index])\n",
    "a.reset_index(drop=True, inplace = True)"
   ]
  },
  {
   "cell_type": "code",
   "execution_count": 671,
   "metadata": {
    "colab": {
     "base_uri": "https://localhost:8080/"
    },
    "executionInfo": {
     "elapsed": 14,
     "status": "ok",
     "timestamp": 1631642184968,
     "user": {
      "displayName": "Bosang KIM",
      "photoUrl": "https://lh3.googleusercontent.com/a/default-user=s64",
      "userId": "09337160292545321113"
     },
     "user_tz": -540
    },
    "id": "-XGWV1bHOSf9",
    "outputId": "8a3a97a3-11aa-4cf7-851a-0e0325ffdd5f"
   },
   "outputs": [
    {
     "data": {
      "text/plain": [
       "0.1538531509472624"
      ]
     },
     "execution_count": 671,
     "metadata": {},
     "output_type": "execute_result"
    }
   ],
   "source": [
    "# rmse\n",
    "rmse(val_price, a['yhat1'])"
   ]
  },
  {
   "cell_type": "markdown",
   "metadata": {
    "id": "bx1VmIzRR8tI"
   },
   "source": [
    "# 최적 하이퍼 파라미터\n"
   ]
  },
  {
   "cell_type": "code",
   "execution_count": 682,
   "metadata": {
    "executionInfo": {
     "elapsed": 408,
     "status": "ok",
     "timestamp": 1631642381534,
     "user": {
      "displayName": "Bosang KIM",
      "photoUrl": "https://lh3.googleusercontent.com/a/default-user=s64",
      "userId": "09337160292545321113"
     },
     "user_tz": -540
    },
    "id": "VW8XKfK8UL3p"
   },
   "outputs": [],
   "source": [
    "## neural prophet\n",
    "epochs = 1000\n",
    "# batch_size = 64\n",
    "learning_rate = 0.005\n",
    "\n",
    "\n",
    "# AR net \n",
    "n_forecasts = 52 # 예측 기간의 크기  # future_periods랑 같아야한다. \n",
    "num_hidden_layers = 20 # AR-net compelxity 조절 \n",
    "ar_sparsity = 0.8  # 0-1, 0에 가까울수록 sparse함 \n",
    "\n",
    "# d_hidden = 64 \n",
    "# trend_smoothness = 0.5\n",
    "n_changepoints = 200 # 변화점(changepoint)의 갯수 설정 \n",
    "changepoints_range = 1.0 # 변화점을 전체 데이터셋에서 몇 퍼센트 감지할지\n",
    "trend_reg = 0.03\n",
    "seasonality_reg=30\n",
    "\n",
    "#n_lags = 5  # >error : lambda delay가 없다"
   ]
  },
  {
   "cell_type": "code",
   "execution_count": 683,
   "metadata": {
    "colab": {
     "base_uri": "https://localhost:8080/",
     "height": 621
    },
    "executionInfo": {
     "elapsed": 52272,
     "status": "ok",
     "timestamp": 1631642434379,
     "user": {
      "displayName": "Bosang KIM",
      "photoUrl": "https://lh3.googleusercontent.com/a/default-user=s64",
      "userId": "09337160292545321113"
     },
     "user_tz": -540
    },
    "id": "ZT9Z-nFXWnOh",
    "outputId": "9efdd1bb-0739-40df-b2c4-685ef7d81a45"
   },
   "outputs": [
    {
     "data": {
      "image/png": "[encoded data removed]",
      "text/plain": [
       "<Figure size 864x576 with 2 Axes>"
      ]
     },
     "metadata": {
      "needs_background": "light"
     },
     "output_type": "display_data"
    },
    {
     "name": "stderr",
     "output_type": "stream",
     "text": [
      "Epoch[1000/1000]: 100%|██████████| 1000/1000 [00:51<00:00, 19.29it/s, SmoothL1Loss=0.00207, MAE=0.0416, RegLoss=0.00156, MAE_val=0.00966, SmoothL1Loss_val=3.58e-5]\n"
     ]
    },
    {
     "data": {
      "text/plain": [
       "<neuralprophet.forecaster.NeuralProphet at 0x7f653b0a8510>"
      ]
     },
     "execution_count": 683,
     "metadata": {},
     "output_type": "execute_result"
    }
   ],
   "source": [
    "nprophet = NeuralProphet(\n",
    "            yearly_seasonality=False, \n",
    "            weekly_seasonality=True, \n",
    "            daily_seasonality=True,\n",
    "            learning_rate=learning_rate, \n",
    "            changepoints_range=changepoints_range, \n",
    "            n_forecasts=n_forecasts,\n",
    "            ar_sparsity=ar_sparsity, \n",
    "            n_changepoints=n_changepoints, \n",
    "            growth='logistic', \n",
    "            seasonality_mode='multiplicative', \n",
    "            trend_reg=trend_reg,\n",
    "            num_hidden_layers=num_hidden_layers,\n",
    "            seasonality_reg = seasonality_reg\n",
    "        )\n",
    "\n",
    "nprophet.fit(df, plot_live_loss=True, epochs=epochs, freq=freq, validate_each_epoch=True, valid_p=0.1)\n",
    "nprophet.highlight_nth_step_ahead_of_each_forecast(step_number=nprophet.n_forecasts)"
   ]
  },
  {
   "cell_type": "code",
   "execution_count": 684,
   "metadata": {
    "colab": {
     "base_uri": "https://localhost:8080/",
     "height": 222
    },
    "executionInfo": {
     "elapsed": 21,
     "status": "ok",
     "timestamp": 1631642434380,
     "user": {
      "displayName": "Bosang KIM",
      "photoUrl": "https://lh3.googleusercontent.com/a/default-user=s64",
      "userId": "09337160292545321113"
     },
     "user_tz": -540
    },
    "id": "a1hG0JP_WstA",
    "outputId": "594d4102-3977-4b76-c0d9-e7df21af10f1"
   },
   "outputs": [
    {
     "name": "stderr",
     "output_type": "stream",
     "text": [
      "WARNING: nprophet - make_future_dataframe: Insufficient data for 300 historic forecasts, reduced to 195.\n"
     ]
    },
    {
     "data": {
      "text/html": [
       "<div>\n",
       "<style scoped>\n",
       "    .dataframe tbody tr th:only-of-type {\n",
       "        vertical-align: middle;\n",
       "    }\n",
       "\n",
       "    .dataframe tbody tr th {\n",
       "        vertical-align: top;\n",
       "    }\n",
       "\n",
       "    .dataframe thead th {\n",
       "        text-align: right;\n",
       "    }\n",
       "</style>\n",
       "<table border=\"1\" class=\"dataframe\">\n",
       "  <thead>\n",
       "    <tr style=\"text-align: right;\">\n",
       "      <th></th>\n",
       "      <th>ds</th>\n",
       "      <th>y</th>\n",
       "      <th>yhat1</th>\n",
       "      <th>residual1</th>\n",
       "      <th>trend</th>\n",
       "      <th>season_weekly</th>\n",
       "      <th>season_daily</th>\n",
       "    </tr>\n",
       "  </thead>\n",
       "  <tbody>\n",
       "    <tr>\n",
       "      <th>242</th>\n",
       "      <td>2020-11-30</td>\n",
       "      <td>NaN</td>\n",
       "      <td>2.916267</td>\n",
       "      <td>NaN</td>\n",
       "      <td>2.916268</td>\n",
       "      <td>-4.756471e-08</td>\n",
       "      <td>-1.187782e-07</td>\n",
       "    </tr>\n",
       "    <tr>\n",
       "      <th>243</th>\n",
       "      <td>2020-12-07</td>\n",
       "      <td>NaN</td>\n",
       "      <td>2.915223</td>\n",
       "      <td>NaN</td>\n",
       "      <td>2.915224</td>\n",
       "      <td>-4.756471e-08</td>\n",
       "      <td>-1.187782e-07</td>\n",
       "    </tr>\n",
       "    <tr>\n",
       "      <th>244</th>\n",
       "      <td>2020-12-14</td>\n",
       "      <td>NaN</td>\n",
       "      <td>2.914179</td>\n",
       "      <td>NaN</td>\n",
       "      <td>2.914179</td>\n",
       "      <td>-4.756471e-08</td>\n",
       "      <td>-1.187782e-07</td>\n",
       "    </tr>\n",
       "    <tr>\n",
       "      <th>245</th>\n",
       "      <td>2020-12-21</td>\n",
       "      <td>NaN</td>\n",
       "      <td>2.913135</td>\n",
       "      <td>NaN</td>\n",
       "      <td>2.913135</td>\n",
       "      <td>-4.756471e-08</td>\n",
       "      <td>-1.187782e-07</td>\n",
       "    </tr>\n",
       "    <tr>\n",
       "      <th>246</th>\n",
       "      <td>2020-12-28</td>\n",
       "      <td>NaN</td>\n",
       "      <td>2.912091</td>\n",
       "      <td>NaN</td>\n",
       "      <td>2.912091</td>\n",
       "      <td>-4.756471e-08</td>\n",
       "      <td>-1.187782e-07</td>\n",
       "    </tr>\n",
       "  </tbody>\n",
       "</table>\n",
       "</div>"
      ],
      "text/plain": [
       "            ds   y     yhat1  residual1     trend  season_weekly  season_daily\n",
       "242 2020-11-30 NaN  2.916267        NaN  2.916268  -4.756471e-08 -1.187782e-07\n",
       "243 2020-12-07 NaN  2.915223        NaN  2.915224  -4.756471e-08 -1.187782e-07\n",
       "244 2020-12-14 NaN  2.914179        NaN  2.914179  -4.756471e-08 -1.187782e-07\n",
       "245 2020-12-21 NaN  2.913135        NaN  2.913135  -4.756471e-08 -1.187782e-07\n",
       "246 2020-12-28 NaN  2.912091        NaN  2.912091  -4.756471e-08 -1.187782e-07"
      ]
     },
     "execution_count": 684,
     "metadata": {},
     "output_type": "execute_result"
    }
   ],
   "source": [
    "future = nprophet.make_future_dataframe(df, periods=52, n_historic_predictions=300)\n",
    "forecast = nprophet.predict(future)\n",
    "forecast[['ds', 'y', 'yhat1', 'trend']].tail(5)\n",
    "forecast.tail()"
   ]
  },
  {
   "cell_type": "code",
   "execution_count": 685,
   "metadata": {
    "executionInfo": {
     "elapsed": 16,
     "status": "ok",
     "timestamp": 1631642434381,
     "user": {
      "displayName": "Bosang KIM",
      "photoUrl": "https://lh3.googleusercontent.com/a/default-user=s64",
      "userId": "09337160292545321113"
     },
     "user_tz": -540
    },
    "id": "r0rrvCLwXQzE"
   },
   "outputs": [],
   "source": [
    "a = pd.DataFrame(columns=['ds', 'y', 'yhat1', 'residual1', 'trend', 'season_yearly'])\n",
    "for i in val_date:\n",
    "  a = a.append(forecast.iloc[forecast.loc[forecast['ds']==i].index])\n",
    "a.reset_index(drop=True, inplace = True)"
   ]
  },
  {
   "cell_type": "code",
   "execution_count": 686,
   "metadata": {
    "colab": {
     "base_uri": "https://localhost:8080/"
    },
    "executionInfo": {
     "elapsed": 16,
     "status": "ok",
     "timestamp": 1631642434381,
     "user": {
      "displayName": "Bosang KIM",
      "photoUrl": "https://lh3.googleusercontent.com/a/default-user=s64",
      "userId": "09337160292545321113"
     },
     "user_tz": -540
    },
    "id": "jJDYBprqXhpn",
    "outputId": "7014f534-46b4-43f5-9633-4ca545d61591"
   },
   "outputs": [
    {
     "data": {
      "text/plain": [
       "0.12872867160440898"
      ]
     },
     "execution_count": 686,
     "metadata": {},
     "output_type": "execute_result"
    }
   ],
   "source": [
    "rmse(val_price, a['yhat1'])"
   ]
  },
  {
   "cell_type": "markdown",
   "metadata": {
    "id": "WDjQswhMbawt"
   },
   "source": [
    "# 최적 하이퍼 파라미터 ver.2"
   ]
  },
  {
   "cell_type": "code",
   "execution_count": 693,
   "metadata": {
    "executionInfo": {
     "elapsed": 528,
     "status": "ok",
     "timestamp": 1631642576675,
     "user": {
      "displayName": "Bosang KIM",
      "photoUrl": "https://lh3.googleusercontent.com/a/default-user=s64",
      "userId": "09337160292545321113"
     },
     "user_tz": -540
    },
    "id": "tKkuuxdFeBR2"
   },
   "outputs": [],
   "source": [
    "## neural prophet\n",
    "epochs = 1000\n",
    "# batch_size = 64\n",
    "learning_rate = 0.01\n",
    "\n",
    "\n",
    "# AR net \n",
    "n_forecasts = 52 # 예측 기간의 크기  # future_periods랑 같아야한다. \n",
    "num_hidden_layers = 20 # AR-net compelxity 조절 \n",
    "ar_sparsity = 0.8  # 0-1, 0에 가까울수록 sparse함 \n",
    "\n",
    "# d_hidden = 64 \n",
    "# trend_smoothness = 0.5\n",
    "n_changepoints = 200 # 변화점(changepoint)의 갯수 설정 \n",
    "changepoints_range = 1.0 # 변화점을 전체 데이터셋에서 몇 퍼센트 감지할지\n",
    "trend_reg = 0.03\n",
    "seasonality_reg=30\n",
    "\n",
    "#n_lags = 5  # >error : lambda delay가 없다"
   ]
  },
  {
   "cell_type": "code",
   "execution_count": 694,
   "metadata": {
    "colab": {
     "base_uri": "https://localhost:8080/",
     "height": 621
    },
    "executionInfo": {
     "elapsed": 51282,
     "status": "ok",
     "timestamp": 1631642628671,
     "user": {
      "displayName": "Bosang KIM",
      "photoUrl": "https://lh3.googleusercontent.com/a/default-user=s64",
      "userId": "09337160292545321113"
     },
     "user_tz": -540
    },
    "id": "MhfymZbxeDDN",
    "outputId": "3d220b20-b1ae-4cbe-9e29-3f9eb33a3e38"
   },
   "outputs": [
    {
     "data": {
      "image/png": "[encoded data removed]",
      "text/plain": [
       "<Figure size 864x576 with 2 Axes>"
      ]
     },
     "metadata": {
      "needs_background": "light"
     },
     "output_type": "display_data"
    },
    {
     "name": "stderr",
     "output_type": "stream",
     "text": [
      "\r",
      "Epoch[1000/1000]: 100%|██████████| 1000/1000 [00:51<00:00, 19.47it/s, SmoothL1Loss=0.00186, MAE=0.0344, RegLoss=0.00151, MAE_val=0.00883, SmoothL1Loss_val=2.86e-5]\n"
     ]
    },
    {
     "data": {
      "text/plain": [
       "<neuralprophet.forecaster.NeuralProphet at 0x7f653b29b810>"
      ]
     },
     "execution_count": 694,
     "metadata": {},
     "output_type": "execute_result"
    }
   ],
   "source": [
    "nprophet = NeuralProphet(\n",
    "            yearly_seasonality=False, \n",
    "            weekly_seasonality=True, \n",
    "            daily_seasonality=True,\n",
    "            learning_rate=learning_rate, \n",
    "            changepoints_range=changepoints_range, \n",
    "            n_forecasts=n_forecasts,\n",
    "            ar_sparsity=ar_sparsity, \n",
    "            n_changepoints=n_changepoints, \n",
    "            growth='logistic', \n",
    "            seasonality_mode='multiplicative', \n",
    "            trend_reg=trend_reg,\n",
    "            num_hidden_layers=num_hidden_layers,\n",
    "            seasonality_reg = seasonality_reg\n",
    "        )\n",
    "\n",
    "nprophet.fit(df, plot_live_loss=True, epochs=epochs, freq=freq, validate_each_epoch=True, valid_p=0.1)\n",
    "nprophet.highlight_nth_step_ahead_of_each_forecast(step_number=nprophet.n_forecasts)"
   ]
  },
  {
   "cell_type": "code",
   "execution_count": 695,
   "metadata": {
    "colab": {
     "base_uri": "https://localhost:8080/",
     "height": 222
    },
    "executionInfo": {
     "elapsed": 13,
     "status": "ok",
     "timestamp": 1631642628672,
     "user": {
      "displayName": "Bosang KIM",
      "photoUrl": "https://lh3.googleusercontent.com/a/default-user=s64",
      "userId": "09337160292545321113"
     },
     "user_tz": -540
    },
    "id": "FYE2yWjCeFw9",
    "outputId": "0111290d-98b1-43d3-8358-94f19ccaa00d"
   },
   "outputs": [
    {
     "name": "stderr",
     "output_type": "stream",
     "text": [
      "WARNING: nprophet - make_future_dataframe: Insufficient data for 300 historic forecasts, reduced to 195.\n"
     ]
    },
    {
     "data": {
      "text/html": [
       "<div>\n",
       "<style scoped>\n",
       "    .dataframe tbody tr th:only-of-type {\n",
       "        vertical-align: middle;\n",
       "    }\n",
       "\n",
       "    .dataframe tbody tr th {\n",
       "        vertical-align: top;\n",
       "    }\n",
       "\n",
       "    .dataframe thead th {\n",
       "        text-align: right;\n",
       "    }\n",
       "</style>\n",
       "<table border=\"1\" class=\"dataframe\">\n",
       "  <thead>\n",
       "    <tr style=\"text-align: right;\">\n",
       "      <th></th>\n",
       "      <th>ds</th>\n",
       "      <th>y</th>\n",
       "      <th>yhat1</th>\n",
       "      <th>trend</th>\n",
       "    </tr>\n",
       "  </thead>\n",
       "  <tbody>\n",
       "    <tr>\n",
       "      <th>242</th>\n",
       "      <td>2020-11-30</td>\n",
       "      <td>NaN</td>\n",
       "      <td>2.874910</td>\n",
       "      <td>2.874911</td>\n",
       "    </tr>\n",
       "    <tr>\n",
       "      <th>243</th>\n",
       "      <td>2020-12-07</td>\n",
       "      <td>NaN</td>\n",
       "      <td>2.873126</td>\n",
       "      <td>2.873126</td>\n",
       "    </tr>\n",
       "    <tr>\n",
       "      <th>244</th>\n",
       "      <td>2020-12-14</td>\n",
       "      <td>NaN</td>\n",
       "      <td>2.871342</td>\n",
       "      <td>2.871342</td>\n",
       "    </tr>\n",
       "    <tr>\n",
       "      <th>245</th>\n",
       "      <td>2020-12-21</td>\n",
       "      <td>NaN</td>\n",
       "      <td>2.869558</td>\n",
       "      <td>2.869558</td>\n",
       "    </tr>\n",
       "    <tr>\n",
       "      <th>246</th>\n",
       "      <td>2020-12-28</td>\n",
       "      <td>NaN</td>\n",
       "      <td>2.867774</td>\n",
       "      <td>2.867774</td>\n",
       "    </tr>\n",
       "  </tbody>\n",
       "</table>\n",
       "</div>"
      ],
      "text/plain": [
       "            ds   y     yhat1     trend\n",
       "242 2020-11-30 NaN  2.874910  2.874911\n",
       "243 2020-12-07 NaN  2.873126  2.873126\n",
       "244 2020-12-14 NaN  2.871342  2.871342\n",
       "245 2020-12-21 NaN  2.869558  2.869558\n",
       "246 2020-12-28 NaN  2.867774  2.867774"
      ]
     },
     "execution_count": 695,
     "metadata": {},
     "output_type": "execute_result"
    }
   ],
   "source": [
    "future = nprophet.make_future_dataframe(df, periods=52, n_historic_predictions=300)\n",
    "forecast = nprophet.predict(future)\n",
    "forecast[['ds', 'y', 'yhat1', 'trend']].tail(5)"
   ]
  },
  {
   "cell_type": "code",
   "execution_count": 696,
   "metadata": {
    "colab": {
     "base_uri": "https://localhost:8080/"
    },
    "executionInfo": {
     "elapsed": 7,
     "status": "ok",
     "timestamp": 1631642628672,
     "user": {
      "displayName": "Bosang KIM",
      "photoUrl": "https://lh3.googleusercontent.com/a/default-user=s64",
      "userId": "09337160292545321113"
     },
     "user_tz": -540
    },
    "id": "12kli-UzeGFv",
    "outputId": "9026c6d4-d8b3-4993-917b-c893914ed727"
   },
   "outputs": [
    {
     "data": {
      "text/plain": [
       "0.12246338637921825"
      ]
     },
     "execution_count": 696,
     "metadata": {},
     "output_type": "execute_result"
    }
   ],
   "source": [
    "# validation 날짜와 맞는 데이터 추출하기 위한 데이터 프레임\n",
    "a = pd.DataFrame(columns=['ds', 'y', 'yhat1', 'residual1', 'trend', 'season_yearly'])\n",
    "\n",
    "for i in val_date:\n",
    "  a = a.append(forecast.iloc[forecast.loc[forecast['ds']==i].index])\n",
    "a.reset_index(drop=True, inplace = True)\n",
    "rmse(val_price, a['yhat1'])"
   ]
  },
  {
   "cell_type": "markdown",
   "metadata": {
    "id": "EQIqhKwvuI3B"
   },
   "source": [
    "# 최적 하이퍼 파라미터 ver.3"
   ]
  },
  {
   "cell_type": "code",
   "execution_count": 717,
   "metadata": {
    "executionInfo": {
     "elapsed": 370,
     "status": "ok",
     "timestamp": 1631643691827,
     "user": {
      "displayName": "Bosang KIM",
      "photoUrl": "https://lh3.googleusercontent.com/a/default-user=s64",
      "userId": "09337160292545321113"
     },
     "user_tz": -540
    },
    "id": "nYOWuU-NeLUI"
   },
   "outputs": [],
   "source": [
    "## neural prophet\n",
    "epochs = 1000\n",
    "# batch_size = 64\n",
    "learning_rate = [0.005, 0.01, 0.015]\n",
    "\n",
    "\n",
    "# AR net \n",
    "n_forecasts = 52 # 예측 기간의 크기  # future_periods랑 같아야한다. \n",
    "num_hidden_layers = [10,20,30] # AR-net compelxity 조절 \n",
    "ar_sparsity = 0.8  # 0-1, 0에 가까울수록 sparse함 \n",
    "\n",
    "# d_hidden = 64 \n",
    "# trend_smoothness = 0.5\n",
    "n_changepoints = [100, 150, 200] # 변화점(changepoint)의 갯수 설정 \n",
    "changepoints_range = 1.0 # 변화점을 전체 데이터셋에서 몇 퍼센트 감지할지\n",
    "trend_reg = 0.03\n",
    "seasonality_reg=30\n",
    "\n",
    "#n_lags = 5  # >error : lambda delay가 없다"
   ]
  },
  {
   "cell_type": "code",
   "execution_count": 723,
   "metadata": {
    "colab": {
     "base_uri": "https://localhost:8080/"
    },
    "executionInfo": {
     "elapsed": 1288282,
     "status": "ok",
     "timestamp": 1631645208037,
     "user": {
      "displayName": "Bosang KIM",
      "photoUrl": "https://lh3.googleusercontent.com/a/default-user=s64",
      "userId": "09337160292545321113"
     },
     "user_tz": -540
    },
    "id": "xkC6cpJ1fJ8V",
    "outputId": "079036df-b739-4369-9489-88a03be0dff4"
   },
   "outputs": [
    {
     "name": "stderr",
     "output_type": "stream",
     "text": [
      "WARNING: nprophet - __init__: Changing n_forecasts to 1. Without lags, the forecast can be computed for any future time, independent of lagged values\n",
      "ERROR: nprophet.config - __post_init__: Invalid trend growth 'logistic'. Set to 'linear'\n",
      "INFO: nprophet.config - __post_init__: Note: Trend changepoint regularization is experimental.\n",
      "INFO: nprophet.config - __post_init__: Note: Fourier-based seasonality regularization is experimental.\n",
      "WARNING: nprophet - fit: Parts of code may break if using other than daily data.\n",
      "INFO: nprophet.config - set_auto_batch_epoch: Auto-set batch_size to 8\n",
      "Epoch[1000/1000]: 100%|██████████| 1000/1000 [00:46<00:00, 21.62it/s, SmoothL1Loss=0.00223, MAE=0.0437, RegLoss=0.00132, MAE_val=0.0414, SmoothL1Loss_val=0.000725]\n",
      "WARNING: nprophet - make_future_dataframe: Insufficient data for 300 historic forecasts, reduced to 195.\n",
      "WARNING: nprophet - __init__: Changing n_forecasts to 1. Without lags, the forecast can be computed for any future time, independent of lagged values\n",
      "ERROR: nprophet.config - __post_init__: Invalid trend growth 'logistic'. Set to 'linear'\n",
      "INFO: nprophet.config - __post_init__: Note: Trend changepoint regularization is experimental.\n",
      "INFO: nprophet.config - __post_init__: Note: Fourier-based seasonality regularization is experimental.\n",
      "WARNING: nprophet - fit: Parts of code may break if using other than daily data.\n",
      "INFO: nprophet.config - set_auto_batch_epoch: Auto-set batch_size to 8\n"
     ]
    },
    {
     "name": "stdout",
     "output_type": "stream",
     "text": [
      "46.49236288099928\n"
     ]
    },
    {
     "name": "stderr",
     "output_type": "stream",
     "text": [
      "Epoch[1000/1000]: 100%|██████████| 1000/1000 [00:47<00:00, 21.15it/s, SmoothL1Loss=0.00203, MAE=0.0391, RegLoss=0.00135, MAE_val=0.0278, SmoothL1Loss_val=0.000293]\n",
      "WARNING: nprophet - make_future_dataframe: Insufficient data for 300 historic forecasts, reduced to 195.\n",
      "WARNING: nprophet - __init__: Changing n_forecasts to 1. Without lags, the forecast can be computed for any future time, independent of lagged values\n",
      "ERROR: nprophet.config - __post_init__: Invalid trend growth 'logistic'. Set to 'linear'\n",
      "INFO: nprophet.config - __post_init__: Note: Trend changepoint regularization is experimental.\n",
      "INFO: nprophet.config - __post_init__: Note: Fourier-based seasonality regularization is experimental.\n",
      "WARNING: nprophet - fit: Parts of code may break if using other than daily data.\n",
      "INFO: nprophet.config - set_auto_batch_epoch: Auto-set batch_size to 8\n"
     ]
    },
    {
     "name": "stdout",
     "output_type": "stream",
     "text": [
      "93.99934310900062\n"
     ]
    },
    {
     "name": "stderr",
     "output_type": "stream",
     "text": [
      "Epoch[1000/1000]: 100%|██████████| 1000/1000 [00:48<00:00, 20.76it/s, SmoothL1Loss=0.00209, MAE=0.04, RegLoss=0.00152, MAE_val=0.00984, SmoothL1Loss_val=5.63e-5]\n",
      "WARNING: nprophet - make_future_dataframe: Insufficient data for 300 historic forecasts, reduced to 195.\n",
      "WARNING: nprophet - __init__: Changing n_forecasts to 1. Without lags, the forecast can be computed for any future time, independent of lagged values\n",
      "ERROR: nprophet.config - __post_init__: Invalid trend growth 'logistic'. Set to 'linear'\n",
      "INFO: nprophet.config - __post_init__: Note: Trend changepoint regularization is experimental.\n",
      "INFO: nprophet.config - __post_init__: Note: Fourier-based seasonality regularization is experimental.\n",
      "WARNING: nprophet - fit: Parts of code may break if using other than daily data.\n",
      "INFO: nprophet.config - set_auto_batch_epoch: Auto-set batch_size to 8\n"
     ]
    },
    {
     "name": "stdout",
     "output_type": "stream",
     "text": [
      "142.377741641998\n"
     ]
    },
    {
     "name": "stderr",
     "output_type": "stream",
     "text": [
      "Epoch[1000/1000]: 100%|██████████| 1000/1000 [00:46<00:00, 21.33it/s, SmoothL1Loss=0.00819, MAE=0.0795, RegLoss=0.31, MAE_val=0.0849, SmoothL1Loss_val=0.00262]\n",
      "WARNING: nprophet - make_future_dataframe: Insufficient data for 300 historic forecasts, reduced to 195.\n",
      "WARNING: nprophet - __init__: Changing n_forecasts to 1. Without lags, the forecast can be computed for any future time, independent of lagged values\n",
      "ERROR: nprophet.config - __post_init__: Invalid trend growth 'logistic'. Set to 'linear'\n",
      "INFO: nprophet.config - __post_init__: Note: Trend changepoint regularization is experimental.\n",
      "INFO: nprophet.config - __post_init__: Note: Fourier-based seasonality regularization is experimental.\n",
      "WARNING: nprophet - fit: Parts of code may break if using other than daily data.\n",
      "INFO: nprophet.config - set_auto_batch_epoch: Auto-set batch_size to 8\n"
     ]
    },
    {
     "name": "stdout",
     "output_type": "stream",
     "text": [
      "47.112336415000755\n"
     ]
    },
    {
     "name": "stderr",
     "output_type": "stream",
     "text": [
      "Epoch[1000/1000]: 100%|██████████| 1000/1000 [00:47<00:00, 21.12it/s, SmoothL1Loss=0.00199, MAE=0.0398, RegLoss=0.00148, MAE_val=0.00725, SmoothL1Loss_val=2.56e-5]\n",
      "WARNING: nprophet - make_future_dataframe: Insufficient data for 300 historic forecasts, reduced to 195.\n",
      "WARNING: nprophet - __init__: Changing n_forecasts to 1. Without lags, the forecast can be computed for any future time, independent of lagged values\n",
      "ERROR: nprophet.config - __post_init__: Invalid trend growth 'logistic'. Set to 'linear'\n",
      "INFO: nprophet.config - __post_init__: Note: Trend changepoint regularization is experimental.\n",
      "INFO: nprophet.config - __post_init__: Note: Fourier-based seasonality regularization is experimental.\n",
      "WARNING: nprophet - fit: Parts of code may break if using other than daily data.\n",
      "INFO: nprophet.config - set_auto_batch_epoch: Auto-set batch_size to 8\n"
     ]
    },
    {
     "name": "stdout",
     "output_type": "stream",
     "text": [
      "94.68228524699953\n"
     ]
    },
    {
     "name": "stderr",
     "output_type": "stream",
     "text": [
      "Epoch[1000/1000]: 100%|██████████| 1000/1000 [00:47<00:00, 21.26it/s, SmoothL1Loss=0.00207, MAE=0.0385, RegLoss=0.0015, MAE_val=0.0269, SmoothL1Loss_val=0.000334]\n",
      "WARNING: nprophet - make_future_dataframe: Insufficient data for 300 historic forecasts, reduced to 195.\n",
      "WARNING: nprophet - __init__: Changing n_forecasts to 1. Without lags, the forecast can be computed for any future time, independent of lagged values\n",
      "ERROR: nprophet.config - __post_init__: Invalid trend growth 'logistic'. Set to 'linear'\n",
      "INFO: nprophet.config - __post_init__: Note: Trend changepoint regularization is experimental.\n",
      "INFO: nprophet.config - __post_init__: Note: Fourier-based seasonality regularization is experimental.\n",
      "WARNING: nprophet - fit: Parts of code may break if using other than daily data.\n",
      "INFO: nprophet.config - set_auto_batch_epoch: Auto-set batch_size to 8\n"
     ]
    },
    {
     "name": "stdout",
     "output_type": "stream",
     "text": [
      "141.93205381900043\n"
     ]
    },
    {
     "name": "stderr",
     "output_type": "stream",
     "text": [
      "Epoch[1000/1000]: 100%|██████████| 1000/1000 [00:47<00:00, 20.99it/s, SmoothL1Loss=0.00226, MAE=0.044, RegLoss=0.00129, MAE_val=0.0364, SmoothL1Loss_val=0.000587]\n",
      "WARNING: nprophet - make_future_dataframe: Insufficient data for 300 historic forecasts, reduced to 195.\n",
      "WARNING: nprophet - __init__: Changing n_forecasts to 1. Without lags, the forecast can be computed for any future time, independent of lagged values\n",
      "ERROR: nprophet.config - __post_init__: Invalid trend growth 'logistic'. Set to 'linear'\n",
      "INFO: nprophet.config - __post_init__: Note: Trend changepoint regularization is experimental.\n",
      "INFO: nprophet.config - __post_init__: Note: Fourier-based seasonality regularization is experimental.\n",
      "WARNING: nprophet - fit: Parts of code may break if using other than daily data.\n",
      "INFO: nprophet.config - set_auto_batch_epoch: Auto-set batch_size to 8\n"
     ]
    },
    {
     "name": "stdout",
     "output_type": "stream",
     "text": [
      "47.87762120900152\n"
     ]
    },
    {
     "name": "stderr",
     "output_type": "stream",
     "text": [
      "Epoch[1000/1000]: 100%|██████████| 1000/1000 [00:47<00:00, 20.99it/s, SmoothL1Loss=0.00199, MAE=0.0386, RegLoss=0.00139, MAE_val=0.00904, SmoothL1Loss_val=4.82e-5]\n",
      "WARNING: nprophet - make_future_dataframe: Insufficient data for 300 historic forecasts, reduced to 195.\n",
      "WARNING: nprophet - __init__: Changing n_forecasts to 1. Without lags, the forecast can be computed for any future time, independent of lagged values\n",
      "ERROR: nprophet.config - __post_init__: Invalid trend growth 'logistic'. Set to 'linear'\n",
      "INFO: nprophet.config - __post_init__: Note: Trend changepoint regularization is experimental.\n",
      "INFO: nprophet.config - __post_init__: Note: Fourier-based seasonality regularization is experimental.\n",
      "WARNING: nprophet - fit: Parts of code may break if using other than daily data.\n",
      "INFO: nprophet.config - set_auto_batch_epoch: Auto-set batch_size to 8\n"
     ]
    },
    {
     "name": "stdout",
     "output_type": "stream",
     "text": [
      "95.75239858200075\n"
     ]
    },
    {
     "name": "stderr",
     "output_type": "stream",
     "text": [
      "Epoch[1000/1000]: 100%|██████████| 1000/1000 [00:47<00:00, 21.19it/s, SmoothL1Loss=0.00758, MAE=0.076, RegLoss=0.31, MAE_val=0.0539, SmoothL1Loss_val=0.00108]\n",
      "WARNING: nprophet - make_future_dataframe: Insufficient data for 300 historic forecasts, reduced to 195.\n",
      "WARNING: nprophet - __init__: Changing n_forecasts to 1. Without lags, the forecast can be computed for any future time, independent of lagged values\n",
      "ERROR: nprophet.config - __post_init__: Invalid trend growth 'logistic'. Set to 'linear'\n",
      "INFO: nprophet.config - __post_init__: Note: Trend changepoint regularization is experimental.\n",
      "INFO: nprophet.config - __post_init__: Note: Fourier-based seasonality regularization is experimental.\n",
      "WARNING: nprophet - fit: Parts of code may break if using other than daily data.\n",
      "INFO: nprophet.config - set_auto_batch_epoch: Auto-set batch_size to 8\n"
     ]
    },
    {
     "name": "stdout",
     "output_type": "stream",
     "text": [
      "143.16965463000088\n"
     ]
    },
    {
     "name": "stderr",
     "output_type": "stream",
     "text": [
      "Epoch[1000/1000]: 100%|██████████| 1000/1000 [00:47<00:00, 20.88it/s, SmoothL1Loss=0.00206, MAE=0.0369, RegLoss=0.00119, MAE_val=0.0154, SmoothL1Loss_val=0.00012]\n",
      "WARNING: nprophet - make_future_dataframe: Insufficient data for 300 historic forecasts, reduced to 195.\n",
      "WARNING: nprophet - __init__: Changing n_forecasts to 1. Without lags, the forecast can be computed for any future time, independent of lagged values\n",
      "ERROR: nprophet.config - __post_init__: Invalid trend growth 'logistic'. Set to 'linear'\n",
      "INFO: nprophet.config - __post_init__: Note: Trend changepoint regularization is experimental.\n",
      "INFO: nprophet.config - __post_init__: Note: Fourier-based seasonality regularization is experimental.\n",
      "WARNING: nprophet - fit: Parts of code may break if using other than daily data.\n",
      "INFO: nprophet.config - set_auto_batch_epoch: Auto-set batch_size to 8\n"
     ]
    },
    {
     "name": "stdout",
     "output_type": "stream",
     "text": [
      "48.108060066999315\n"
     ]
    },
    {
     "name": "stderr",
     "output_type": "stream",
     "text": [
      "Epoch[1000/1000]: 100%|██████████| 1000/1000 [00:47<00:00, 21.09it/s, SmoothL1Loss=0.00733, MAE=0.0759, RegLoss=0.31, MAE_val=0.0636, SmoothL1Loss_val=0.00149]\n",
      "WARNING: nprophet - make_future_dataframe: Insufficient data for 300 historic forecasts, reduced to 195.\n",
      "WARNING: nprophet - __init__: Changing n_forecasts to 1. Without lags, the forecast can be computed for any future time, independent of lagged values\n",
      "ERROR: nprophet.config - __post_init__: Invalid trend growth 'logistic'. Set to 'linear'\n",
      "INFO: nprophet.config - __post_init__: Note: Trend changepoint regularization is experimental.\n",
      "INFO: nprophet.config - __post_init__: Note: Fourier-based seasonality regularization is experimental.\n",
      "WARNING: nprophet - fit: Parts of code may break if using other than daily data.\n",
      "INFO: nprophet.config - set_auto_batch_epoch: Auto-set batch_size to 8\n"
     ]
    },
    {
     "name": "stdout",
     "output_type": "stream",
     "text": [
      "95.74814110199804\n"
     ]
    },
    {
     "name": "stderr",
     "output_type": "stream",
     "text": [
      "Epoch[1000/1000]: 100%|██████████| 1000/1000 [00:47<00:00, 21.00it/s, SmoothL1Loss=0.00735, MAE=0.0755, RegLoss=0.31, MAE_val=0.0576, SmoothL1Loss_val=0.00122]\n",
      "WARNING: nprophet - make_future_dataframe: Insufficient data for 300 historic forecasts, reduced to 195.\n",
      "WARNING: nprophet - __init__: Changing n_forecasts to 1. Without lags, the forecast can be computed for any future time, independent of lagged values\n",
      "ERROR: nprophet.config - __post_init__: Invalid trend growth 'logistic'. Set to 'linear'\n",
      "INFO: nprophet.config - __post_init__: Note: Trend changepoint regularization is experimental.\n",
      "INFO: nprophet.config - __post_init__: Note: Fourier-based seasonality regularization is experimental.\n",
      "WARNING: nprophet - fit: Parts of code may break if using other than daily data.\n",
      "INFO: nprophet.config - set_auto_batch_epoch: Auto-set batch_size to 8\n"
     ]
    },
    {
     "name": "stdout",
     "output_type": "stream",
     "text": [
      "143.5828924289999\n"
     ]
    },
    {
     "name": "stderr",
     "output_type": "stream",
     "text": [
      "Epoch[1000/1000]: 100%|██████████| 1000/1000 [00:47<00:00, 21.18it/s, SmoothL1Loss=0.00198, MAE=0.0362, RegLoss=0.00122, MAE_val=0.0194, SmoothL1Loss_val=0.00018]\n",
      "WARNING: nprophet - make_future_dataframe: Insufficient data for 300 historic forecasts, reduced to 195.\n",
      "WARNING: nprophet - __init__: Changing n_forecasts to 1. Without lags, the forecast can be computed for any future time, independent of lagged values\n",
      "ERROR: nprophet.config - __post_init__: Invalid trend growth 'logistic'. Set to 'linear'\n",
      "INFO: nprophet.config - __post_init__: Note: Trend changepoint regularization is experimental.\n",
      "INFO: nprophet.config - __post_init__: Note: Fourier-based seasonality regularization is experimental.\n",
      "WARNING: nprophet - fit: Parts of code may break if using other than daily data.\n",
      "INFO: nprophet.config - set_auto_batch_epoch: Auto-set batch_size to 8\n"
     ]
    },
    {
     "name": "stdout",
     "output_type": "stream",
     "text": [
      "47.44711206200009\n"
     ]
    },
    {
     "name": "stderr",
     "output_type": "stream",
     "text": [
      "Epoch[1000/1000]: 100%|██████████| 1000/1000 [00:47<00:00, 21.17it/s, SmoothL1Loss=0.00727, MAE=0.0763, RegLoss=0.31, MAE_val=0.0642, SmoothL1Loss_val=0.00151]\n",
      "WARNING: nprophet - make_future_dataframe: Insufficient data for 300 historic forecasts, reduced to 195.\n",
      "WARNING: nprophet - __init__: Changing n_forecasts to 1. Without lags, the forecast can be computed for any future time, independent of lagged values\n",
      "ERROR: nprophet.config - __post_init__: Invalid trend growth 'logistic'. Set to 'linear'\n",
      "INFO: nprophet.config - __post_init__: Note: Trend changepoint regularization is experimental.\n",
      "INFO: nprophet.config - __post_init__: Note: Fourier-based seasonality regularization is experimental.\n",
      "WARNING: nprophet - fit: Parts of code may break if using other than daily data.\n",
      "INFO: nprophet.config - set_auto_batch_epoch: Auto-set batch_size to 8\n"
     ]
    },
    {
     "name": "stdout",
     "output_type": "stream",
     "text": [
      "94.89108615699661\n"
     ]
    },
    {
     "name": "stderr",
     "output_type": "stream",
     "text": [
      "Epoch[1000/1000]: 100%|██████████| 1000/1000 [00:47<00:00, 21.13it/s, SmoothL1Loss=0.00734, MAE=0.0756, RegLoss=0.31, MAE_val=0.0614, SmoothL1Loss_val=0.00139]\n",
      "WARNING: nprophet - make_future_dataframe: Insufficient data for 300 historic forecasts, reduced to 195.\n",
      "WARNING: nprophet - __init__: Changing n_forecasts to 1. Without lags, the forecast can be computed for any future time, independent of lagged values\n",
      "ERROR: nprophet.config - __post_init__: Invalid trend growth 'logistic'. Set to 'linear'\n",
      "INFO: nprophet.config - __post_init__: Note: Trend changepoint regularization is experimental.\n",
      "INFO: nprophet.config - __post_init__: Note: Fourier-based seasonality regularization is experimental.\n",
      "WARNING: nprophet - fit: Parts of code may break if using other than daily data.\n",
      "INFO: nprophet.config - set_auto_batch_epoch: Auto-set batch_size to 8\n"
     ]
    },
    {
     "name": "stdout",
     "output_type": "stream",
     "text": [
      "142.43456125899684\n"
     ]
    },
    {
     "name": "stderr",
     "output_type": "stream",
     "text": [
      "Epoch[1000/1000]: 100%|██████████| 1000/1000 [00:47<00:00, 21.22it/s, SmoothL1Loss=0.00196, MAE=0.0361, RegLoss=0.00123, MAE_val=0.0155, SmoothL1Loss_val=0.000122]\n",
      "WARNING: nprophet - make_future_dataframe: Insufficient data for 300 historic forecasts, reduced to 195.\n",
      "WARNING: nprophet - __init__: Changing n_forecasts to 1. Without lags, the forecast can be computed for any future time, independent of lagged values\n",
      "ERROR: nprophet.config - __post_init__: Invalid trend growth 'logistic'. Set to 'linear'\n",
      "INFO: nprophet.config - __post_init__: Note: Trend changepoint regularization is experimental.\n",
      "INFO: nprophet.config - __post_init__: Note: Fourier-based seasonality regularization is experimental.\n",
      "WARNING: nprophet - fit: Parts of code may break if using other than daily data.\n",
      "INFO: nprophet.config - set_auto_batch_epoch: Auto-set batch_size to 8\n"
     ]
    },
    {
     "name": "stdout",
     "output_type": "stream",
     "text": [
      "47.35853544699785\n"
     ]
    },
    {
     "name": "stderr",
     "output_type": "stream",
     "text": [
      "Epoch[1000/1000]: 100%|██████████| 1000/1000 [00:47<00:00, 21.02it/s, SmoothL1Loss=0.00192, MAE=0.035, RegLoss=0.00137, MAE_val=0.0198, SmoothL1Loss_val=0.000186]\n",
      "WARNING: nprophet - make_future_dataframe: Insufficient data for 300 historic forecasts, reduced to 195.\n",
      "WARNING: nprophet - __init__: Changing n_forecasts to 1. Without lags, the forecast can be computed for any future time, independent of lagged values\n",
      "ERROR: nprophet.config - __post_init__: Invalid trend growth 'logistic'. Set to 'linear'\n",
      "INFO: nprophet.config - __post_init__: Note: Trend changepoint regularization is experimental.\n",
      "INFO: nprophet.config - __post_init__: Note: Fourier-based seasonality regularization is experimental.\n",
      "WARNING: nprophet - fit: Parts of code may break if using other than daily data.\n",
      "INFO: nprophet.config - set_auto_batch_epoch: Auto-set batch_size to 8\n"
     ]
    },
    {
     "name": "stdout",
     "output_type": "stream",
     "text": [
      "95.16769340799874\n"
     ]
    },
    {
     "name": "stderr",
     "output_type": "stream",
     "text": [
      "Epoch[1000/1000]: 100%|██████████| 1000/1000 [00:47<00:00, 20.96it/s, SmoothL1Loss=0.00185, MAE=0.0341, RegLoss=0.00143, MAE_val=0.01, SmoothL1Loss_val=5.36e-5]\n",
      "WARNING: nprophet - make_future_dataframe: Insufficient data for 300 historic forecasts, reduced to 195.\n",
      "WARNING: nprophet - __init__: Changing n_forecasts to 1. Without lags, the forecast can be computed for any future time, independent of lagged values\n",
      "ERROR: nprophet.config - __post_init__: Invalid trend growth 'logistic'. Set to 'linear'\n",
      "INFO: nprophet.config - __post_init__: Note: Trend changepoint regularization is experimental.\n",
      "INFO: nprophet.config - __post_init__: Note: Fourier-based seasonality regularization is experimental.\n",
      "WARNING: nprophet - fit: Parts of code may break if using other than daily data.\n",
      "INFO: nprophet.config - set_auto_batch_epoch: Auto-set batch_size to 8\n"
     ]
    },
    {
     "name": "stdout",
     "output_type": "stream",
     "text": [
      "143.11140835399783\n"
     ]
    },
    {
     "name": "stderr",
     "output_type": "stream",
     "text": [
      "Epoch[1000/1000]: 100%|██████████| 1000/1000 [00:47<00:00, 21.07it/s, SmoothL1Loss=0.00201, MAE=0.0357, RegLoss=0.00116, MAE_val=0.0197, SmoothL1Loss_val=0.000183]\n",
      "WARNING: nprophet - make_future_dataframe: Insufficient data for 300 historic forecasts, reduced to 195.\n",
      "WARNING: nprophet - __init__: Changing n_forecasts to 1. Without lags, the forecast can be computed for any future time, independent of lagged values\n",
      "ERROR: nprophet.config - __post_init__: Invalid trend growth 'logistic'. Set to 'linear'\n",
      "INFO: nprophet.config - __post_init__: Note: Trend changepoint regularization is experimental.\n",
      "INFO: nprophet.config - __post_init__: Note: Fourier-based seasonality regularization is experimental.\n",
      "WARNING: nprophet - fit: Parts of code may break if using other than daily data.\n",
      "INFO: nprophet.config - set_auto_batch_epoch: Auto-set batch_size to 8\n"
     ]
    },
    {
     "name": "stdout",
     "output_type": "stream",
     "text": [
      "47.689290584003174\n"
     ]
    },
    {
     "name": "stderr",
     "output_type": "stream",
     "text": [
      "Epoch[1000/1000]: 100%|██████████| 1000/1000 [00:47<00:00, 20.92it/s, SmoothL1Loss=0.00198, MAE=0.0347, RegLoss=0.00122, MAE_val=0.0107, SmoothL1Loss_val=6.21e-5]\n",
      "WARNING: nprophet - make_future_dataframe: Insufficient data for 300 historic forecasts, reduced to 195.\n",
      "WARNING: nprophet - __init__: Changing n_forecasts to 1. Without lags, the forecast can be computed for any future time, independent of lagged values\n",
      "ERROR: nprophet.config - __post_init__: Invalid trend growth 'logistic'. Set to 'linear'\n",
      "INFO: nprophet.config - __post_init__: Note: Trend changepoint regularization is experimental.\n",
      "INFO: nprophet.config - __post_init__: Note: Fourier-based seasonality regularization is experimental.\n",
      "WARNING: nprophet - fit: Parts of code may break if using other than daily data.\n",
      "INFO: nprophet.config - set_auto_batch_epoch: Auto-set batch_size to 8\n"
     ]
    },
    {
     "name": "stdout",
     "output_type": "stream",
     "text": [
      "95.72520346200326\n"
     ]
    },
    {
     "name": "stderr",
     "output_type": "stream",
     "text": [
      "Epoch[1000/1000]: 100%|██████████| 1000/1000 [00:48<00:00, 20.76it/s, SmoothL1Loss=0.00194, MAE=0.0345, RegLoss=0.0013, MAE_val=0.0108, SmoothL1Loss_val=6.07e-5]\n",
      "WARNING: nprophet - make_future_dataframe: Insufficient data for 300 historic forecasts, reduced to 195.\n",
      "WARNING: nprophet - __init__: Changing n_forecasts to 1. Without lags, the forecast can be computed for any future time, independent of lagged values\n",
      "ERROR: nprophet.config - __post_init__: Invalid trend growth 'logistic'. Set to 'linear'\n",
      "INFO: nprophet.config - __post_init__: Note: Trend changepoint regularization is experimental.\n",
      "INFO: nprophet.config - __post_init__: Note: Fourier-based seasonality regularization is experimental.\n",
      "WARNING: nprophet - fit: Parts of code may break if using other than daily data.\n",
      "INFO: nprophet.config - set_auto_batch_epoch: Auto-set batch_size to 8\n"
     ]
    },
    {
     "name": "stdout",
     "output_type": "stream",
     "text": [
      "144.1299491130012\n"
     ]
    },
    {
     "name": "stderr",
     "output_type": "stream",
     "text": [
      "Epoch[1000/1000]: 100%|██████████| 1000/1000 [00:47<00:00, 21.05it/s, SmoothL1Loss=0.00199, MAE=0.0355, RegLoss=0.00118, MAE_val=0.0178, SmoothL1Loss_val=0.00015]\n",
      "WARNING: nprophet - make_future_dataframe: Insufficient data for 300 historic forecasts, reduced to 195.\n",
      "WARNING: nprophet - __init__: Changing n_forecasts to 1. Without lags, the forecast can be computed for any future time, independent of lagged values\n",
      "ERROR: nprophet.config - __post_init__: Invalid trend growth 'logistic'. Set to 'linear'\n",
      "INFO: nprophet.config - __post_init__: Note: Trend changepoint regularization is experimental.\n",
      "INFO: nprophet.config - __post_init__: Note: Fourier-based seasonality regularization is experimental.\n",
      "WARNING: nprophet - fit: Parts of code may break if using other than daily data.\n",
      "INFO: nprophet.config - set_auto_batch_epoch: Auto-set batch_size to 8\n"
     ]
    },
    {
     "name": "stdout",
     "output_type": "stream",
     "text": [
      "47.73828986599983\n"
     ]
    },
    {
     "name": "stderr",
     "output_type": "stream",
     "text": [
      "Epoch[1000/1000]: 100%|██████████| 1000/1000 [00:47<00:00, 20.88it/s, SmoothL1Loss=0.00194, MAE=0.0343, RegLoss=0.00127, MAE_val=0.0134, SmoothL1Loss_val=8.9e-5]\n",
      "WARNING: nprophet - make_future_dataframe: Insufficient data for 300 historic forecasts, reduced to 195.\n",
      "WARNING: nprophet - __init__: Changing n_forecasts to 1. Without lags, the forecast can be computed for any future time, independent of lagged values\n",
      "ERROR: nprophet.config - __post_init__: Invalid trend growth 'logistic'. Set to 'linear'\n",
      "INFO: nprophet.config - __post_init__: Note: Trend changepoint regularization is experimental.\n",
      "INFO: nprophet.config - __post_init__: Note: Fourier-based seasonality regularization is experimental.\n",
      "WARNING: nprophet - fit: Parts of code may break if using other than daily data.\n",
      "INFO: nprophet.config - set_auto_batch_epoch: Auto-set batch_size to 8\n"
     ]
    },
    {
     "name": "stdout",
     "output_type": "stream",
     "text": [
      "95.84942463300104\n"
     ]
    },
    {
     "name": "stderr",
     "output_type": "stream",
     "text": [
      "Epoch[1000/1000]: 100%|██████████| 1000/1000 [00:47<00:00, 21.00it/s, SmoothL1Loss=0.00192, MAE=0.034, RegLoss=0.00132, MAE_val=0.0132, SmoothL1Loss_val=8.87e-5]\n",
      "WARNING: nprophet - make_future_dataframe: Insufficient data for 300 historic forecasts, reduced to 195.\n",
      "WARNING: nprophet - __init__: Changing n_forecasts to 1. Without lags, the forecast can be computed for any future time, independent of lagged values\n",
      "ERROR: nprophet.config - __post_init__: Invalid trend growth 'logistic'. Set to 'linear'\n",
      "INFO: nprophet.config - __post_init__: Note: Trend changepoint regularization is experimental.\n",
      "INFO: nprophet.config - __post_init__: Note: Fourier-based seasonality regularization is experimental.\n",
      "WARNING: nprophet - fit: Parts of code may break if using other than daily data.\n",
      "INFO: nprophet.config - set_auto_batch_epoch: Auto-set batch_size to 8\n"
     ]
    },
    {
     "name": "stdout",
     "output_type": "stream",
     "text": [
      "143.69413221799914\n"
     ]
    },
    {
     "name": "stderr",
     "output_type": "stream",
     "text": [
      "Epoch[1000/1000]: 100%|██████████| 1000/1000 [00:47<00:00, 21.00it/s, SmoothL1Loss=0.00198, MAE=0.0351, RegLoss=0.0012, MAE_val=0.0142, SmoothL1Loss_val=9.86e-5]\n",
      "WARNING: nprophet - make_future_dataframe: Insufficient data for 300 historic forecasts, reduced to 195.\n",
      "WARNING: nprophet - __init__: Changing n_forecasts to 1. Without lags, the forecast can be computed for any future time, independent of lagged values\n",
      "ERROR: nprophet.config - __post_init__: Invalid trend growth 'logistic'. Set to 'linear'\n",
      "INFO: nprophet.config - __post_init__: Note: Trend changepoint regularization is experimental.\n",
      "INFO: nprophet.config - __post_init__: Note: Fourier-based seasonality regularization is experimental.\n",
      "WARNING: nprophet - fit: Parts of code may break if using other than daily data.\n",
      "INFO: nprophet.config - set_auto_batch_epoch: Auto-set batch_size to 8\n"
     ]
    },
    {
     "name": "stdout",
     "output_type": "stream",
     "text": [
      "47.8384127979989\n"
     ]
    },
    {
     "name": "stderr",
     "output_type": "stream",
     "text": [
      "Epoch[1000/1000]: 100%|██████████| 1000/1000 [00:47<00:00, 21.05it/s, SmoothL1Loss=0.00742, MAE=0.0759, RegLoss=0.31, MAE_val=0.0653, SmoothL1Loss_val=0.00157]\n",
      "WARNING: nprophet - make_future_dataframe: Insufficient data for 300 historic forecasts, reduced to 195.\n",
      "WARNING: nprophet - __init__: Changing n_forecasts to 1. Without lags, the forecast can be computed for any future time, independent of lagged values\n",
      "ERROR: nprophet.config - __post_init__: Invalid trend growth 'logistic'. Set to 'linear'\n",
      "INFO: nprophet.config - __post_init__: Note: Trend changepoint regularization is experimental.\n",
      "INFO: nprophet.config - __post_init__: Note: Fourier-based seasonality regularization is experimental.\n",
      "WARNING: nprophet - fit: Parts of code may break if using other than daily data.\n",
      "INFO: nprophet.config - set_auto_batch_epoch: Auto-set batch_size to 8\n"
     ]
    },
    {
     "name": "stdout",
     "output_type": "stream",
     "text": [
      "95.57499012599874\n"
     ]
    },
    {
     "name": "stderr",
     "output_type": "stream",
     "text": [
      "Epoch[1000/1000]: 100%|██████████| 1000/1000 [00:47<00:00, 20.87it/s, SmoothL1Loss=0.00735, MAE=0.0759, RegLoss=0.31, MAE_val=0.0681, SmoothL1Loss_val=0.0017]\n",
      "WARNING: nprophet - make_future_dataframe: Insufficient data for 300 historic forecasts, reduced to 195.\n"
     ]
    },
    {
     "name": "stdout",
     "output_type": "stream",
     "text": [
      "143.7174429049992\n"
     ]
    }
   ],
   "source": [
    "# 파라미터별 rmse 저장할 데이터 프레임 생성 \n",
    "result = pd.DataFrame(columns=['learning_rate','num_hidden_layers','n_changepoints','rmse'])\n",
    "# 데이터 프레임 row index 변수 생성\n",
    "count=0\n",
    "# 파라미터 조합 반복문 실행\n",
    "for lr in learning_rate:\n",
    "  for layer in num_hidden_layers:\n",
    "    start = timer()\n",
    "    for changepoint in n_changepoints:\n",
    "\n",
    "      nprophet = NeuralProphet(\n",
    "                                yearly_seasonality=False, \n",
    "                                weekly_seasonality=True, \n",
    "                                daily_seasonality=True,\n",
    "                                learning_rate=lr, \n",
    "                                changepoints_range=changepoints_range, \n",
    "                                n_forecasts=n_forecasts,\n",
    "                                ar_sparsity=ar_sparsity, \n",
    "                                n_changepoints=changepoint, \n",
    "                                growth='logistic', \n",
    "                                seasonality_mode='multiplicative', \n",
    "                                trend_reg=trend_reg,\n",
    "                                num_hidden_layers=layer,\n",
    "                                seasonality_reg = seasonality_reg)\n",
    "      \n",
    "      nprophet.fit(df, plot_live_loss=False, epochs=epochs, freq=freq, validate_each_epoch=True, valid_p=0.1)\n",
    "      #nprophet.highlight_nth_step_ahead_of_each_forecast(step_number=nprophet.n_forecasts)\n",
    "      future = nprophet.make_future_dataframe(df, periods=52, n_historic_predictions=300)\n",
    "      forecast = nprophet.predict(future)\n",
    "      a = pd.DataFrame(columns=['ds', 'y', 'yhat1', 'residual1', 'trend', 'season_yearly'])\n",
    "      for i in val_date:\n",
    "        a = a.append(forecast.iloc[forecast.loc[forecast['ds']==i].index])\n",
    "      a.reset_index(drop=True, inplace = True)\n",
    "      result.loc[count] = lr, layer, changepoint, rmse(val_price, a['yhat1'])\n",
    "      count += 1\n",
    "      end = timer()\n",
    "      print(end-start)"
   ]
  },
  {
   "cell_type": "code",
   "execution_count": 726,
   "metadata": {
    "colab": {
     "base_uri": "https://localhost:8080/",
     "height": 886
    },
    "executionInfo": {
     "elapsed": 367,
     "status": "ok",
     "timestamp": 1631645289058,
     "user": {
      "displayName": "Bosang KIM",
      "photoUrl": "https://lh3.googleusercontent.com/a/default-user=s64",
      "userId": "09337160292545321113"
     },
     "user_tz": -540
    },
    "id": "YYlG_pJEirTL",
    "outputId": "64d583d7-901f-476c-fea2-f661b3347cf8"
   },
   "outputs": [
    {
     "data": {
      "text/html": [
       "<div>\n",
       "<style scoped>\n",
       "    .dataframe tbody tr th:only-of-type {\n",
       "        vertical-align: middle;\n",
       "    }\n",
       "\n",
       "    .dataframe tbody tr th {\n",
       "        vertical-align: top;\n",
       "    }\n",
       "\n",
       "    .dataframe thead th {\n",
       "        text-align: right;\n",
       "    }\n",
       "</style>\n",
       "<table border=\"1\" class=\"dataframe\">\n",
       "  <thead>\n",
       "    <tr style=\"text-align: right;\">\n",
       "      <th></th>\n",
       "      <th>learning_rate</th>\n",
       "      <th>num_hidden_layers</th>\n",
       "      <th>n_changepoints</th>\n",
       "      <th>rmse</th>\n",
       "    </tr>\n",
       "  </thead>\n",
       "  <tbody>\n",
       "    <tr>\n",
       "      <th>1</th>\n",
       "      <td>0.005</td>\n",
       "      <td>10.0</td>\n",
       "      <td>150.0</td>\n",
       "      <td>0.140541</td>\n",
       "    </tr>\n",
       "    <tr>\n",
       "      <th>17</th>\n",
       "      <td>0.010</td>\n",
       "      <td>30.0</td>\n",
       "      <td>200.0</td>\n",
       "      <td>0.148338</td>\n",
       "    </tr>\n",
       "    <tr>\n",
       "      <th>4</th>\n",
       "      <td>0.005</td>\n",
       "      <td>20.0</td>\n",
       "      <td>150.0</td>\n",
       "      <td>0.148824</td>\n",
       "    </tr>\n",
       "    <tr>\n",
       "      <th>20</th>\n",
       "      <td>0.015</td>\n",
       "      <td>10.0</td>\n",
       "      <td>200.0</td>\n",
       "      <td>0.149788</td>\n",
       "    </tr>\n",
       "    <tr>\n",
       "      <th>19</th>\n",
       "      <td>0.015</td>\n",
       "      <td>10.0</td>\n",
       "      <td>150.0</td>\n",
       "      <td>0.151639</td>\n",
       "    </tr>\n",
       "    <tr>\n",
       "      <th>7</th>\n",
       "      <td>0.005</td>\n",
       "      <td>30.0</td>\n",
       "      <td>150.0</td>\n",
       "      <td>0.153409</td>\n",
       "    </tr>\n",
       "    <tr>\n",
       "      <th>2</th>\n",
       "      <td>0.005</td>\n",
       "      <td>10.0</td>\n",
       "      <td>200.0</td>\n",
       "      <td>0.156755</td>\n",
       "    </tr>\n",
       "    <tr>\n",
       "      <th>22</th>\n",
       "      <td>0.015</td>\n",
       "      <td>20.0</td>\n",
       "      <td>150.0</td>\n",
       "      <td>0.156841</td>\n",
       "    </tr>\n",
       "    <tr>\n",
       "      <th>23</th>\n",
       "      <td>0.015</td>\n",
       "      <td>20.0</td>\n",
       "      <td>200.0</td>\n",
       "      <td>0.157972</td>\n",
       "    </tr>\n",
       "    <tr>\n",
       "      <th>24</th>\n",
       "      <td>0.015</td>\n",
       "      <td>30.0</td>\n",
       "      <td>100.0</td>\n",
       "      <td>0.158983</td>\n",
       "    </tr>\n",
       "    <tr>\n",
       "      <th>9</th>\n",
       "      <td>0.010</td>\n",
       "      <td>10.0</td>\n",
       "      <td>100.0</td>\n",
       "      <td>0.166362</td>\n",
       "    </tr>\n",
       "    <tr>\n",
       "      <th>15</th>\n",
       "      <td>0.010</td>\n",
       "      <td>30.0</td>\n",
       "      <td>100.0</td>\n",
       "      <td>0.166897</td>\n",
       "    </tr>\n",
       "    <tr>\n",
       "      <th>21</th>\n",
       "      <td>0.015</td>\n",
       "      <td>20.0</td>\n",
       "      <td>100.0</td>\n",
       "      <td>0.169341</td>\n",
       "    </tr>\n",
       "    <tr>\n",
       "      <th>18</th>\n",
       "      <td>0.015</td>\n",
       "      <td>10.0</td>\n",
       "      <td>100.0</td>\n",
       "      <td>0.176310</td>\n",
       "    </tr>\n",
       "    <tr>\n",
       "      <th>12</th>\n",
       "      <td>0.010</td>\n",
       "      <td>20.0</td>\n",
       "      <td>100.0</td>\n",
       "      <td>0.176820</td>\n",
       "    </tr>\n",
       "    <tr>\n",
       "      <th>16</th>\n",
       "      <td>0.010</td>\n",
       "      <td>30.0</td>\n",
       "      <td>150.0</td>\n",
       "      <td>0.176886</td>\n",
       "    </tr>\n",
       "    <tr>\n",
       "      <th>5</th>\n",
       "      <td>0.005</td>\n",
       "      <td>20.0</td>\n",
       "      <td>200.0</td>\n",
       "      <td>0.202481</td>\n",
       "    </tr>\n",
       "    <tr>\n",
       "      <th>8</th>\n",
       "      <td>0.005</td>\n",
       "      <td>30.0</td>\n",
       "      <td>200.0</td>\n",
       "      <td>0.219540</td>\n",
       "    </tr>\n",
       "    <tr>\n",
       "      <th>11</th>\n",
       "      <td>0.010</td>\n",
       "      <td>10.0</td>\n",
       "      <td>200.0</td>\n",
       "      <td>0.225750</td>\n",
       "    </tr>\n",
       "    <tr>\n",
       "      <th>6</th>\n",
       "      <td>0.005</td>\n",
       "      <td>30.0</td>\n",
       "      <td>100.0</td>\n",
       "      <td>0.232407</td>\n",
       "    </tr>\n",
       "    <tr>\n",
       "      <th>14</th>\n",
       "      <td>0.010</td>\n",
       "      <td>20.0</td>\n",
       "      <td>200.0</td>\n",
       "      <td>0.235996</td>\n",
       "    </tr>\n",
       "    <tr>\n",
       "      <th>13</th>\n",
       "      <td>0.010</td>\n",
       "      <td>20.0</td>\n",
       "      <td>150.0</td>\n",
       "      <td>0.237909</td>\n",
       "    </tr>\n",
       "    <tr>\n",
       "      <th>0</th>\n",
       "      <td>0.005</td>\n",
       "      <td>10.0</td>\n",
       "      <td>100.0</td>\n",
       "      <td>0.239002</td>\n",
       "    </tr>\n",
       "    <tr>\n",
       "      <th>10</th>\n",
       "      <td>0.010</td>\n",
       "      <td>10.0</td>\n",
       "      <td>150.0</td>\n",
       "      <td>0.240156</td>\n",
       "    </tr>\n",
       "    <tr>\n",
       "      <th>25</th>\n",
       "      <td>0.015</td>\n",
       "      <td>30.0</td>\n",
       "      <td>150.0</td>\n",
       "      <td>0.243269</td>\n",
       "    </tr>\n",
       "    <tr>\n",
       "      <th>26</th>\n",
       "      <td>0.015</td>\n",
       "      <td>30.0</td>\n",
       "      <td>200.0</td>\n",
       "      <td>0.248101</td>\n",
       "    </tr>\n",
       "    <tr>\n",
       "      <th>3</th>\n",
       "      <td>0.005</td>\n",
       "      <td>20.0</td>\n",
       "      <td>100.0</td>\n",
       "      <td>0.280911</td>\n",
       "    </tr>\n",
       "  </tbody>\n",
       "</table>\n",
       "</div>"
      ],
      "text/plain": [
       "    learning_rate  num_hidden_layers  n_changepoints      rmse\n",
       "1           0.005               10.0           150.0  0.140541\n",
       "17          0.010               30.0           200.0  0.148338\n",
       "4           0.005               20.0           150.0  0.148824\n",
       "20          0.015               10.0           200.0  0.149788\n",
       "19          0.015               10.0           150.0  0.151639\n",
       "7           0.005               30.0           150.0  0.153409\n",
       "2           0.005               10.0           200.0  0.156755\n",
       "22          0.015               20.0           150.0  0.156841\n",
       "23          0.015               20.0           200.0  0.157972\n",
       "24          0.015               30.0           100.0  0.158983\n",
       "9           0.010               10.0           100.0  0.166362\n",
       "15          0.010               30.0           100.0  0.166897\n",
       "21          0.015               20.0           100.0  0.169341\n",
       "18          0.015               10.0           100.0  0.176310\n",
       "12          0.010               20.0           100.0  0.176820\n",
       "16          0.010               30.0           150.0  0.176886\n",
       "5           0.005               20.0           200.0  0.202481\n",
       "8           0.005               30.0           200.0  0.219540\n",
       "11          0.010               10.0           200.0  0.225750\n",
       "6           0.005               30.0           100.0  0.232407\n",
       "14          0.010               20.0           200.0  0.235996\n",
       "13          0.010               20.0           150.0  0.237909\n",
       "0           0.005               10.0           100.0  0.239002\n",
       "10          0.010               10.0           150.0  0.240156\n",
       "25          0.015               30.0           150.0  0.243269\n",
       "26          0.015               30.0           200.0  0.248101\n",
       "3           0.005               20.0           100.0  0.280911"
      ]
     },
     "execution_count": 726,
     "metadata": {},
     "output_type": "execute_result"
    }
   ],
   "source": [
    "result.sort_values(by='rmse', ascending=True)"
   ]
  },
  {
   "cell_type": "code",
   "execution_count": null,
   "metadata": {
    "id": "ZD4lBdPWoj30"
   },
   "outputs": [],
   "source": []
  }
 ],
 "metadata": {
  "colab": {
   "collapsed_sections": [],
   "machine_shape": "hm",
   "name": "attention_neuralprophet(오징어).ipynb",
   "provenance": []
  },
  "kernelspec": {
   "display_name": "Python 3",
   "language": "python",
   "name": "python3"
  },
  "language_info": {
   "codemirror_mode": {
    "name": "ipython",
    "version": 3
   },
   "file_extension": ".py",
   "mimetype": "text/x-python",
   "name": "python",
   "nbconvert_exporter": "python",
   "pygments_lexer": "ipython3",
   "version": "3.8.8"
  },
  "widgets": {
   "application/vnd.jupyter.widget-state+json": {
    "05910c851dff499bbfb4b3410cfc00fc": {
     "model_module": "@jupyter-widgets/base",
     "model_module_version": "1.2.0",
     "model_name": "LayoutModel",
     "state": {
      "_model_module": "@jupyter-widgets/base",
      "_model_module_version": "1.2.0",
      "_model_name": "LayoutModel",
      "_view_count": null,
      "_view_module": "@jupyter-widgets/base",
      "_view_module_version": "1.2.0",
      "_view_name": "LayoutView",
      "align_content": null,
      "align_items": null,
      "align_self": null,
      "border": null,
      "bottom": null,
      "display": null,
      "flex": null,
      "flex_flow": null,
      "grid_area": null,
      "grid_auto_columns": null,
      "grid_auto_flow": null,
      "grid_auto_rows": null,
      "grid_column": null,
      "grid_gap": null,
      "grid_row": null,
      "grid_template_areas": null,
      "grid_template_columns": null,
      "grid_template_rows": null,
      "height": null,
      "justify_content": null,
      "justify_items": null,
      "left": null,
      "margin": null,
      "max_height": null,
      "max_width": null,
      "min_height": null,
      "min_width": null,
      "object_fit": null,
      "object_position": null,
      "order": null,
      "overflow": null,
      "overflow_x": null,
      "overflow_y": null,
      "padding": null,
      "right": null,
      "top": null,
      "visibility": null,
      "width": null
     }
    },
    "0627d82fbdea4ad0b2a31bbd3270d64d": {
     "model_module": "@jupyter-widgets/controls",
     "model_module_version": "1.5.0",
     "model_name": "ProgressStyleModel",
     "state": {
      "_model_module": "@jupyter-widgets/controls",
      "_model_module_version": "1.5.0",
      "_model_name": "ProgressStyleModel",
      "_view_count": null,
      "_view_module": "@jupyter-widgets/base",
      "_view_module_version": "1.2.0",
      "_view_name": "StyleView",
      "bar_color": null,
      "description_width": ""
     }
    },
    "09c8174673bb4389825e1187dbee1203": {
     "model_module": "@jupyter-widgets/controls",
     "model_module_version": "1.5.0",
     "model_name": "FloatProgressModel",
     "state": {
      "_dom_classes": [],
      "_model_module": "@jupyter-widgets/controls",
      "_model_module_version": "1.5.0",
      "_model_name": "FloatProgressModel",
      "_view_count": null,
      "_view_module": "@jupyter-widgets/controls",
      "_view_module_version": "1.5.0",
      "_view_name": "ProgressView",
      "bar_style": "danger",
      "description": "",
      "description_tooltip": null,
      "layout": "IPY_MODEL_56d92308a5394cd68e1b96c81b827fc0",
      "max": 100,
      "min": 0,
      "orientation": "horizontal",
      "style": "IPY_MODEL_0627d82fbdea4ad0b2a31bbd3270d64d",
      "value": 91
     }
    },
    "1604a6fba2b145718c82b85a32b0fc6a": {
     "model_module": "@jupyter-widgets/controls",
     "model_module_version": "1.5.0",
     "model_name": "HBoxModel",
     "state": {
      "_dom_classes": [],
      "_model_module": "@jupyter-widgets/controls",
      "_model_module_version": "1.5.0",
      "_model_name": "HBoxModel",
      "_view_count": null,
      "_view_module": "@jupyter-widgets/controls",
      "_view_module_version": "1.5.0",
      "_view_name": "HBoxView",
      "box_style": "",
      "children": [
       "IPY_MODEL_e8b6a95c30f1427882379721d84c6b28",
       "IPY_MODEL_b0d99306dc2e4ad88b0c0872e207b6b2",
       "IPY_MODEL_ceca6194f0a04bd28b9bd59249ab8291"
      ],
      "layout": "IPY_MODEL_b98ae9a63bd64ca2bbe9ea1def557b12"
     }
    },
    "2894b1dd04654efeb16fd3315a22912b": {
     "model_module": "@jupyter-widgets/controls",
     "model_module_version": "1.5.0",
     "model_name": "ProgressStyleModel",
     "state": {
      "_model_module": "@jupyter-widgets/controls",
      "_model_module_version": "1.5.0",
      "_model_name": "ProgressStyleModel",
      "_view_count": null,
      "_view_module": "@jupyter-widgets/base",
      "_view_module_version": "1.2.0",
      "_view_name": "StyleView",
      "bar_color": null,
      "description_width": ""
     }
    },
    "2b0583706e544da3b3ad883ac221c398": {
     "model_module": "@jupyter-widgets/base",
     "model_module_version": "1.2.0",
     "model_name": "LayoutModel",
     "state": {
      "_model_module": "@jupyter-widgets/base",
      "_model_module_version": "1.2.0",
      "_model_name": "LayoutModel",
      "_view_count": null,
      "_view_module": "@jupyter-widgets/base",
      "_view_module_version": "1.2.0",
      "_view_name": "LayoutView",
      "align_content": null,
      "align_items": null,
      "align_self": null,
      "border": null,
      "bottom": null,
      "display": null,
      "flex": null,
      "flex_flow": null,
      "grid_area": null,
      "grid_auto_columns": null,
      "grid_auto_flow": null,
      "grid_auto_rows": null,
      "grid_column": null,
      "grid_gap": null,
      "grid_row": null,
      "grid_template_areas": null,
      "grid_template_columns": null,
      "grid_template_rows": null,
      "height": null,
      "justify_content": null,
      "justify_items": null,
      "left": null,
      "margin": null,
      "max_height": null,
      "max_width": null,
      "min_height": null,
      "min_width": null,
      "object_fit": null,
      "object_position": null,
      "order": null,
      "overflow": null,
      "overflow_x": null,
      "overflow_y": null,
      "padding": null,
      "right": null,
      "top": null,
      "visibility": null,
      "width": null
     }
    },
    "3deedcbdad264952884d7bb7f1e51c3e": {
     "model_module": "@jupyter-widgets/controls",
     "model_module_version": "1.5.0",
     "model_name": "DescriptionStyleModel",
     "state": {
      "_model_module": "@jupyter-widgets/controls",
      "_model_module_version": "1.5.0",
      "_model_name": "DescriptionStyleModel",
      "_view_count": null,
      "_view_module": "@jupyter-widgets/base",
      "_view_module_version": "1.2.0",
      "_view_name": "StyleView",
      "description_width": ""
     }
    },
    "422d7193fefd4bf482b8e0b7d9ef9957": {
     "model_module": "@jupyter-widgets/base",
     "model_module_version": "1.2.0",
     "model_name": "LayoutModel",
     "state": {
      "_model_module": "@jupyter-widgets/base",
      "_model_module_version": "1.2.0",
      "_model_name": "LayoutModel",
      "_view_count": null,
      "_view_module": "@jupyter-widgets/base",
      "_view_module_version": "1.2.0",
      "_view_name": "LayoutView",
      "align_content": null,
      "align_items": null,
      "align_self": null,
      "border": null,
      "bottom": null,
      "display": null,
      "flex": null,
      "flex_flow": null,
      "grid_area": null,
      "grid_auto_columns": null,
      "grid_auto_flow": null,
      "grid_auto_rows": null,
      "grid_column": null,
      "grid_gap": null,
      "grid_row": null,
      "grid_template_areas": null,
      "grid_template_columns": null,
      "grid_template_rows": null,
      "height": null,
      "justify_content": null,
      "justify_items": null,
      "left": null,
      "margin": null,
      "max_height": null,
      "max_width": null,
      "min_height": null,
      "min_width": null,
      "object_fit": null,
      "object_position": null,
      "order": null,
      "overflow": null,
      "overflow_x": null,
      "overflow_y": null,
      "padding": null,
      "right": null,
      "top": null,
      "visibility": null,
      "width": null
     }
    },
    "45505e684ccf4239b9ccba0b172d71f5": {
     "model_module": "@jupyter-widgets/controls",
     "model_module_version": "1.5.0",
     "model_name": "HBoxModel",
     "state": {
      "_dom_classes": [],
      "_model_module": "@jupyter-widgets/controls",
      "_model_module_version": "1.5.0",
      "_model_name": "HBoxModel",
      "_view_count": null,
      "_view_module": "@jupyter-widgets/controls",
      "_view_module_version": "1.5.0",
      "_view_name": "HBoxView",
      "box_style": "",
      "children": [
       "IPY_MODEL_4e4e63c1da38457c8eae0505238106ff",
       "IPY_MODEL_09c8174673bb4389825e1187dbee1203",
       "IPY_MODEL_a02e81708a4f4cfea682a1f8f928f159"
      ],
      "layout": "IPY_MODEL_422d7193fefd4bf482b8e0b7d9ef9957"
     }
    },
    "4e4e63c1da38457c8eae0505238106ff": {
     "model_module": "@jupyter-widgets/controls",
     "model_module_version": "1.5.0",
     "model_name": "HTMLModel",
     "state": {
      "_dom_classes": [],
      "_model_module": "@jupyter-widgets/controls",
      "_model_module_version": "1.5.0",
      "_model_name": "HTMLModel",
      "_view_count": null,
      "_view_module": "@jupyter-widgets/controls",
      "_view_module_version": "1.5.0",
      "_view_name": "HTMLView",
      "description": "",
      "description_tooltip": null,
      "layout": "IPY_MODEL_a20dfb501e764fffb8d8da5a7a0c0905",
      "placeholder": "​",
      "style": "IPY_MODEL_7b6f652b197b4b04a8ec7b9ecc88df2b",
      "value": " 91%"
     }
    },
    "56d92308a5394cd68e1b96c81b827fc0": {
     "model_module": "@jupyter-widgets/base",
     "model_module_version": "1.2.0",
     "model_name": "LayoutModel",
     "state": {
      "_model_module": "@jupyter-widgets/base",
      "_model_module_version": "1.2.0",
      "_model_name": "LayoutModel",
      "_view_count": null,
      "_view_module": "@jupyter-widgets/base",
      "_view_module_version": "1.2.0",
      "_view_name": "LayoutView",
      "align_content": null,
      "align_items": null,
      "align_self": null,
      "border": null,
      "bottom": null,
      "display": null,
      "flex": null,
      "flex_flow": null,
      "grid_area": null,
      "grid_auto_columns": null,
      "grid_auto_flow": null,
      "grid_auto_rows": null,
      "grid_column": null,
      "grid_gap": null,
      "grid_row": null,
      "grid_template_areas": null,
      "grid_template_columns": null,
      "grid_template_rows": null,
      "height": null,
      "justify_content": null,
      "justify_items": null,
      "left": null,
      "margin": null,
      "max_height": null,
      "max_width": null,
      "min_height": null,
      "min_width": null,
      "object_fit": null,
      "object_position": null,
      "order": null,
      "overflow": null,
      "overflow_x": null,
      "overflow_y": null,
      "padding": null,
      "right": null,
      "top": null,
      "visibility": null,
      "width": null
     }
    },
    "57a66f8b94354dcca6bee6d466e13a46": {
     "model_module": "@jupyter-widgets/controls",
     "model_module_version": "1.5.0",
     "model_name": "DescriptionStyleModel",
     "state": {
      "_model_module": "@jupyter-widgets/controls",
      "_model_module_version": "1.5.0",
      "_model_name": "DescriptionStyleModel",
      "_view_count": null,
      "_view_module": "@jupyter-widgets/base",
      "_view_module_version": "1.2.0",
      "_view_name": "StyleView",
      "description_width": ""
     }
    },
    "72fa1e1313b241fa8f5f4225a2ef8263": {
     "model_module": "@jupyter-widgets/base",
     "model_module_version": "1.2.0",
     "model_name": "LayoutModel",
     "state": {
      "_model_module": "@jupyter-widgets/base",
      "_model_module_version": "1.2.0",
      "_model_name": "LayoutModel",
      "_view_count": null,
      "_view_module": "@jupyter-widgets/base",
      "_view_module_version": "1.2.0",
      "_view_name": "LayoutView",
      "align_content": null,
      "align_items": null,
      "align_self": null,
      "border": null,
      "bottom": null,
      "display": null,
      "flex": null,
      "flex_flow": null,
      "grid_area": null,
      "grid_auto_columns": null,
      "grid_auto_flow": null,
      "grid_auto_rows": null,
      "grid_column": null,
      "grid_gap": null,
      "grid_row": null,
      "grid_template_areas": null,
      "grid_template_columns": null,
      "grid_template_rows": null,
      "height": null,
      "justify_content": null,
      "justify_items": null,
      "left": null,
      "margin": null,
      "max_height": null,
      "max_width": null,
      "min_height": null,
      "min_width": null,
      "object_fit": null,
      "object_position": null,
      "order": null,
      "overflow": null,
      "overflow_x": null,
      "overflow_y": null,
      "padding": null,
      "right": null,
      "top": null,
      "visibility": null,
      "width": null
     }
    },
    "767a46b7261e405c95826d8cb8e0e54b": {
     "model_module": "@jupyter-widgets/controls",
     "model_module_version": "1.5.0",
     "model_name": "ProgressStyleModel",
     "state": {
      "_model_module": "@jupyter-widgets/controls",
      "_model_module_version": "1.5.0",
      "_model_name": "ProgressStyleModel",
      "_view_count": null,
      "_view_module": "@jupyter-widgets/base",
      "_view_module_version": "1.2.0",
      "_view_name": "StyleView",
      "bar_color": null,
      "description_width": ""
     }
    },
    "774b7ec939e1412c84441adfb43d13c4": {
     "model_module": "@jupyter-widgets/base",
     "model_module_version": "1.2.0",
     "model_name": "LayoutModel",
     "state": {
      "_model_module": "@jupyter-widgets/base",
      "_model_module_version": "1.2.0",
      "_model_name": "LayoutModel",
      "_view_count": null,
      "_view_module": "@jupyter-widgets/base",
      "_view_module_version": "1.2.0",
      "_view_name": "LayoutView",
      "align_content": null,
      "align_items": null,
      "align_self": null,
      "border": null,
      "bottom": null,
      "display": null,
      "flex": null,
      "flex_flow": null,
      "grid_area": null,
      "grid_auto_columns": null,
      "grid_auto_flow": null,
      "grid_auto_rows": null,
      "grid_column": null,
      "grid_gap": null,
      "grid_row": null,
      "grid_template_areas": null,
      "grid_template_columns": null,
      "grid_template_rows": null,
      "height": null,
      "justify_content": null,
      "justify_items": null,
      "left": null,
      "margin": null,
      "max_height": null,
      "max_width": null,
      "min_height": null,
      "min_width": null,
      "object_fit": null,
      "object_position": null,
      "order": null,
      "overflow": null,
      "overflow_x": null,
      "overflow_y": null,
      "padding": null,
      "right": null,
      "top": null,
      "visibility": null,
      "width": null
     }
    },
    "78c47e260add4bd3a20525a881518bfb": {
     "model_module": "@jupyter-widgets/base",
     "model_module_version": "1.2.0",
     "model_name": "LayoutModel",
     "state": {
      "_model_module": "@jupyter-widgets/base",
      "_model_module_version": "1.2.0",
      "_model_name": "LayoutModel",
      "_view_count": null,
      "_view_module": "@jupyter-widgets/base",
      "_view_module_version": "1.2.0",
      "_view_name": "LayoutView",
      "align_content": null,
      "align_items": null,
      "align_self": null,
      "border": null,
      "bottom": null,
      "display": null,
      "flex": null,
      "flex_flow": null,
      "grid_area": null,
      "grid_auto_columns": null,
      "grid_auto_flow": null,
      "grid_auto_rows": null,
      "grid_column": null,
      "grid_gap": null,
      "grid_row": null,
      "grid_template_areas": null,
      "grid_template_columns": null,
      "grid_template_rows": null,
      "height": null,
      "justify_content": null,
      "justify_items": null,
      "left": null,
      "margin": null,
      "max_height": null,
      "max_width": null,
      "min_height": null,
      "min_width": null,
      "object_fit": null,
      "object_position": null,
      "order": null,
      "overflow": null,
      "overflow_x": null,
      "overflow_y": null,
      "padding": null,
      "right": null,
      "top": null,
      "visibility": null,
      "width": null
     }
    },
    "7a75ea4bdea646188c3852b60ceffc1a": {
     "model_module": "@jupyter-widgets/base",
     "model_module_version": "1.2.0",
     "model_name": "LayoutModel",
     "state": {
      "_model_module": "@jupyter-widgets/base",
      "_model_module_version": "1.2.0",
      "_model_name": "LayoutModel",
      "_view_count": null,
      "_view_module": "@jupyter-widgets/base",
      "_view_module_version": "1.2.0",
      "_view_name": "LayoutView",
      "align_content": null,
      "align_items": null,
      "align_self": null,
      "border": null,
      "bottom": null,
      "display": null,
      "flex": null,
      "flex_flow": null,
      "grid_area": null,
      "grid_auto_columns": null,
      "grid_auto_flow": null,
      "grid_auto_rows": null,
      "grid_column": null,
      "grid_gap": null,
      "grid_row": null,
      "grid_template_areas": null,
      "grid_template_columns": null,
      "grid_template_rows": null,
      "height": null,
      "justify_content": null,
      "justify_items": null,
      "left": null,
      "margin": null,
      "max_height": null,
      "max_width": null,
      "min_height": null,
      "min_width": null,
      "object_fit": null,
      "object_position": null,
      "order": null,
      "overflow": null,
      "overflow_x": null,
      "overflow_y": null,
      "padding": null,
      "right": null,
      "top": null,
      "visibility": null,
      "width": null
     }
    },
    "7b6f652b197b4b04a8ec7b9ecc88df2b": {
     "model_module": "@jupyter-widgets/controls",
     "model_module_version": "1.5.0",
     "model_name": "DescriptionStyleModel",
     "state": {
      "_model_module": "@jupyter-widgets/controls",
      "_model_module_version": "1.5.0",
      "_model_name": "DescriptionStyleModel",
      "_view_count": null,
      "_view_module": "@jupyter-widgets/base",
      "_view_module_version": "1.2.0",
      "_view_name": "StyleView",
      "description_width": ""
     }
    },
    "7c0022a5b64a4192876bcabdf88087e4": {
     "model_module": "@jupyter-widgets/controls",
     "model_module_version": "1.5.0",
     "model_name": "FloatProgressModel",
     "state": {
      "_dom_classes": [],
      "_model_module": "@jupyter-widgets/controls",
      "_model_module_version": "1.5.0",
      "_model_name": "FloatProgressModel",
      "_view_count": null,
      "_view_module": "@jupyter-widgets/controls",
      "_view_module_version": "1.5.0",
      "_view_name": "ProgressView",
      "bar_style": "danger",
      "description": "",
      "description_tooltip": null,
      "layout": "IPY_MODEL_d981ac7b46cd479ca7a184311014b92b",
      "max": 100,
      "min": 0,
      "orientation": "horizontal",
      "style": "IPY_MODEL_767a46b7261e405c95826d8cb8e0e54b",
      "value": 87
     }
    },
    "7c463fa369874b19acad67ef2569d35d": {
     "model_module": "@jupyter-widgets/controls",
     "model_module_version": "1.5.0",
     "model_name": "DescriptionStyleModel",
     "state": {
      "_model_module": "@jupyter-widgets/controls",
      "_model_module_version": "1.5.0",
      "_model_name": "DescriptionStyleModel",
      "_view_count": null,
      "_view_module": "@jupyter-widgets/base",
      "_view_module_version": "1.2.0",
      "_view_name": "StyleView",
      "description_width": ""
     }
    },
    "9c21954cf1924ba9ab2386544482d9d4": {
     "model_module": "@jupyter-widgets/controls",
     "model_module_version": "1.5.0",
     "model_name": "HBoxModel",
     "state": {
      "_dom_classes": [],
      "_model_module": "@jupyter-widgets/controls",
      "_model_module_version": "1.5.0",
      "_model_name": "HBoxModel",
      "_view_count": null,
      "_view_module": "@jupyter-widgets/controls",
      "_view_module_version": "1.5.0",
      "_view_name": "HBoxView",
      "box_style": "",
      "children": [
       "IPY_MODEL_f3b5814c77b74605bf7a431cff7cfeff",
       "IPY_MODEL_7c0022a5b64a4192876bcabdf88087e4",
       "IPY_MODEL_c11ccc8d2ea14ff5b7a8d7a0dc40a9a4"
      ],
      "layout": "IPY_MODEL_72fa1e1313b241fa8f5f4225a2ef8263"
     }
    },
    "a02e81708a4f4cfea682a1f8f928f159": {
     "model_module": "@jupyter-widgets/controls",
     "model_module_version": "1.5.0",
     "model_name": "HTMLModel",
     "state": {
      "_dom_classes": [],
      "_model_module": "@jupyter-widgets/controls",
      "_model_module_version": "1.5.0",
      "_model_name": "HTMLModel",
      "_view_count": null,
      "_view_module": "@jupyter-widgets/controls",
      "_view_module_version": "1.5.0",
      "_view_name": "HTMLView",
      "description": "",
      "description_tooltip": null,
      "layout": "IPY_MODEL_2b0583706e544da3b3ad883ac221c398",
      "placeholder": "​",
      "style": "IPY_MODEL_bf8d0264aa2b49c4885f19880bfe19ee",
      "value": " 91/100 [00:00&lt;00:00, 559.51it/s]"
     }
    },
    "a20dfb501e764fffb8d8da5a7a0c0905": {
     "model_module": "@jupyter-widgets/base",
     "model_module_version": "1.2.0",
     "model_name": "LayoutModel",
     "state": {
      "_model_module": "@jupyter-widgets/base",
      "_model_module_version": "1.2.0",
      "_model_name": "LayoutModel",
      "_view_count": null,
      "_view_module": "@jupyter-widgets/base",
      "_view_module_version": "1.2.0",
      "_view_name": "LayoutView",
      "align_content": null,
      "align_items": null,
      "align_self": null,
      "border": null,
      "bottom": null,
      "display": null,
      "flex": null,
      "flex_flow": null,
      "grid_area": null,
      "grid_auto_columns": null,
      "grid_auto_flow": null,
      "grid_auto_rows": null,
      "grid_column": null,
      "grid_gap": null,
      "grid_row": null,
      "grid_template_areas": null,
      "grid_template_columns": null,
      "grid_template_rows": null,
      "height": null,
      "justify_content": null,
      "justify_items": null,
      "left": null,
      "margin": null,
      "max_height": null,
      "max_width": null,
      "min_height": null,
      "min_width": null,
      "object_fit": null,
      "object_position": null,
      "order": null,
      "overflow": null,
      "overflow_x": null,
      "overflow_y": null,
      "padding": null,
      "right": null,
      "top": null,
      "visibility": null,
      "width": null
     }
    },
    "b0d99306dc2e4ad88b0c0872e207b6b2": {
     "model_module": "@jupyter-widgets/controls",
     "model_module_version": "1.5.0",
     "model_name": "FloatProgressModel",
     "state": {
      "_dom_classes": [],
      "_model_module": "@jupyter-widgets/controls",
      "_model_module_version": "1.5.0",
      "_model_name": "FloatProgressModel",
      "_view_count": null,
      "_view_module": "@jupyter-widgets/controls",
      "_view_module_version": "1.5.0",
      "_view_name": "ProgressView",
      "bar_style": "danger",
      "description": "",
      "description_tooltip": null,
      "layout": "IPY_MODEL_774b7ec939e1412c84441adfb43d13c4",
      "max": 100,
      "min": 0,
      "orientation": "horizontal",
      "style": "IPY_MODEL_2894b1dd04654efeb16fd3315a22912b",
      "value": 98
     }
    },
    "b98ae9a63bd64ca2bbe9ea1def557b12": {
     "model_module": "@jupyter-widgets/base",
     "model_module_version": "1.2.0",
     "model_name": "LayoutModel",
     "state": {
      "_model_module": "@jupyter-widgets/base",
      "_model_module_version": "1.2.0",
      "_model_name": "LayoutModel",
      "_view_count": null,
      "_view_module": "@jupyter-widgets/base",
      "_view_module_version": "1.2.0",
      "_view_name": "LayoutView",
      "align_content": null,
      "align_items": null,
      "align_self": null,
      "border": null,
      "bottom": null,
      "display": null,
      "flex": null,
      "flex_flow": null,
      "grid_area": null,
      "grid_auto_columns": null,
      "grid_auto_flow": null,
      "grid_auto_rows": null,
      "grid_column": null,
      "grid_gap": null,
      "grid_row": null,
      "grid_template_areas": null,
      "grid_template_columns": null,
      "grid_template_rows": null,
      "height": null,
      "justify_content": null,
      "justify_items": null,
      "left": null,
      "margin": null,
      "max_height": null,
      "max_width": null,
      "min_height": null,
      "min_width": null,
      "object_fit": null,
      "object_position": null,
      "order": null,
      "overflow": null,
      "overflow_x": null,
      "overflow_y": null,
      "padding": null,
      "right": null,
      "top": null,
      "visibility": null,
      "width": null
     }
    },
    "bf8d0264aa2b49c4885f19880bfe19ee": {
     "model_module": "@jupyter-widgets/controls",
     "model_module_version": "1.5.0",
     "model_name": "DescriptionStyleModel",
     "state": {
      "_model_module": "@jupyter-widgets/controls",
      "_model_module_version": "1.5.0",
      "_model_name": "DescriptionStyleModel",
      "_view_count": null,
      "_view_module": "@jupyter-widgets/base",
      "_view_module_version": "1.2.0",
      "_view_name": "StyleView",
      "description_width": ""
     }
    },
    "c11ccc8d2ea14ff5b7a8d7a0dc40a9a4": {
     "model_module": "@jupyter-widgets/controls",
     "model_module_version": "1.5.0",
     "model_name": "HTMLModel",
     "state": {
      "_dom_classes": [],
      "_model_module": "@jupyter-widgets/controls",
      "_model_module_version": "1.5.0",
      "_model_name": "HTMLModel",
      "_view_count": null,
      "_view_module": "@jupyter-widgets/controls",
      "_view_module_version": "1.5.0",
      "_view_name": "HTMLView",
      "description": "",
      "description_tooltip": null,
      "layout": "IPY_MODEL_7a75ea4bdea646188c3852b60ceffc1a",
      "placeholder": "​",
      "style": "IPY_MODEL_3deedcbdad264952884d7bb7f1e51c3e",
      "value": " 87/100 [00:00&lt;00:00, 396.48it/s]"
     }
    },
    "ceca6194f0a04bd28b9bd59249ab8291": {
     "model_module": "@jupyter-widgets/controls",
     "model_module_version": "1.5.0",
     "model_name": "HTMLModel",
     "state": {
      "_dom_classes": [],
      "_model_module": "@jupyter-widgets/controls",
      "_model_module_version": "1.5.0",
      "_model_name": "HTMLModel",
      "_view_count": null,
      "_view_module": "@jupyter-widgets/controls",
      "_view_module_version": "1.5.0",
      "_view_name": "HTMLView",
      "description": "",
      "description_tooltip": null,
      "layout": "IPY_MODEL_05910c851dff499bbfb4b3410cfc00fc",
      "placeholder": "​",
      "style": "IPY_MODEL_7c463fa369874b19acad67ef2569d35d",
      "value": " 98/100 [00:00&lt;00:00, 506.32it/s]"
     }
    },
    "d981ac7b46cd479ca7a184311014b92b": {
     "model_module": "@jupyter-widgets/base",
     "model_module_version": "1.2.0",
     "model_name": "LayoutModel",
     "state": {
      "_model_module": "@jupyter-widgets/base",
      "_model_module_version": "1.2.0",
      "_model_name": "LayoutModel",
      "_view_count": null,
      "_view_module": "@jupyter-widgets/base",
      "_view_module_version": "1.2.0",
      "_view_name": "LayoutView",
      "align_content": null,
      "align_items": null,
      "align_self": null,
      "border": null,
      "bottom": null,
      "display": null,
      "flex": null,
      "flex_flow": null,
      "grid_area": null,
      "grid_auto_columns": null,
      "grid_auto_flow": null,
      "grid_auto_rows": null,
      "grid_column": null,
      "grid_gap": null,
      "grid_row": null,
      "grid_template_areas": null,
      "grid_template_columns": null,
      "grid_template_rows": null,
      "height": null,
      "justify_content": null,
      "justify_items": null,
      "left": null,
      "margin": null,
      "max_height": null,
      "max_width": null,
      "min_height": null,
      "min_width": null,
      "object_fit": null,
      "object_position": null,
      "order": null,
      "overflow": null,
      "overflow_x": null,
      "overflow_y": null,
      "padding": null,
      "right": null,
      "top": null,
      "visibility": null,
      "width": null
     }
    },
    "e31c84266483445284dc490b0b90c351": {
     "model_module": "@jupyter-widgets/base",
     "model_module_version": "1.2.0",
     "model_name": "LayoutModel",
     "state": {
      "_model_module": "@jupyter-widgets/base",
      "_model_module_version": "1.2.0",
      "_model_name": "LayoutModel",
      "_view_count": null,
      "_view_module": "@jupyter-widgets/base",
      "_view_module_version": "1.2.0",
      "_view_name": "LayoutView",
      "align_content": null,
      "align_items": null,
      "align_self": null,
      "border": null,
      "bottom": null,
      "display": null,
      "flex": null,
      "flex_flow": null,
      "grid_area": null,
      "grid_auto_columns": null,
      "grid_auto_flow": null,
      "grid_auto_rows": null,
      "grid_column": null,
      "grid_gap": null,
      "grid_row": null,
      "grid_template_areas": null,
      "grid_template_columns": null,
      "grid_template_rows": null,
      "height": null,
      "justify_content": null,
      "justify_items": null,
      "left": null,
      "margin": null,
      "max_height": null,
      "max_width": null,
      "min_height": null,
      "min_width": null,
      "object_fit": null,
      "object_position": null,
      "order": null,
      "overflow": null,
      "overflow_x": null,
      "overflow_y": null,
      "padding": null,
      "right": null,
      "top": null,
      "visibility": null,
      "width": null
     }
    },
    "e8b6a95c30f1427882379721d84c6b28": {
     "model_module": "@jupyter-widgets/controls",
     "model_module_version": "1.5.0",
     "model_name": "HTMLModel",
     "state": {
      "_dom_classes": [],
      "_model_module": "@jupyter-widgets/controls",
      "_model_module_version": "1.5.0",
      "_model_name": "HTMLModel",
      "_view_count": null,
      "_view_module": "@jupyter-widgets/controls",
      "_view_module_version": "1.5.0",
      "_view_name": "HTMLView",
      "description": "",
      "description_tooltip": null,
      "layout": "IPY_MODEL_e31c84266483445284dc490b0b90c351",
      "placeholder": "​",
      "style": "IPY_MODEL_f466372cc4674394be583c67e46c30db",
      "value": " 98%"
     }
    },
    "f3b5814c77b74605bf7a431cff7cfeff": {
     "model_module": "@jupyter-widgets/controls",
     "model_module_version": "1.5.0",
     "model_name": "HTMLModel",
     "state": {
      "_dom_classes": [],
      "_model_module": "@jupyter-widgets/controls",
      "_model_module_version": "1.5.0",
      "_model_name": "HTMLModel",
      "_view_count": null,
      "_view_module": "@jupyter-widgets/controls",
      "_view_module_version": "1.5.0",
      "_view_name": "HTMLView",
      "description": "",
      "description_tooltip": null,
      "layout": "IPY_MODEL_78c47e260add4bd3a20525a881518bfb",
      "placeholder": "​",
      "style": "IPY_MODEL_57a66f8b94354dcca6bee6d466e13a46",
      "value": " 87%"
     }
    },
    "f466372cc4674394be583c67e46c30db": {
     "model_module": "@jupyter-widgets/controls",
     "model_module_version": "1.5.0",
     "model_name": "DescriptionStyleModel",
     "state": {
      "_model_module": "@jupyter-widgets/controls",
      "_model_module_version": "1.5.0",
      "_model_name": "DescriptionStyleModel",
      "_view_count": null,
      "_view_module": "@jupyter-widgets/base",
      "_view_module_version": "1.2.0",
      "_view_name": "StyleView",
      "description_width": ""
     }
    }
   }
  }
 },
 "nbformat": 4,
 "nbformat_minor": 1
}
