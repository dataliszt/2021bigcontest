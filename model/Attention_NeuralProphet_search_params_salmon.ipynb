{
 "cells": [
  {
   "cell_type": "code",
   "execution_count": null,
   "metadata": {
    "colab": {
     "base_uri": "https://localhost:8080/"
    },
    "executionInfo": {
     "elapsed": 21073,
     "status": "ok",
     "timestamp": 1631665505260,
     "user": {
      "displayName": "Bosang KIM",
      "photoUrl": "https://lh3.googleusercontent.com/a/default-user=s64",
      "userId": "09337160292545321113"
     },
     "user_tz": -540
    },
    "id": "eeK6z1AfetT6",
    "outputId": "cdbe107e-9a83-4b7f-f2de-b8f90023a328"
   },
   "outputs": [
    {
     "name": "stdout",
     "output_type": "stream",
     "text": [
      "Mounted at /content/drive\n"
     ]
    }
   ],
   "source": [
    "from google.colab import drive\n",
    "drive.mount('/content/drive')"
   ]
  },
  {
   "cell_type": "markdown",
   "metadata": {
    "id": "varRxoB4ilRA"
   },
   "source": [
    "# 모듈 설치"
   ]
  },
  {
   "cell_type": "code",
   "execution_count": null,
   "metadata": {
    "id": "4M4SUkNvdR0Y"
   },
   "outputs": [],
   "source": [
    "# 모델링 모듈\n",
    "!pip install tensorflow-addons\n",
    "!pip install neuralprophet[live]\n",
    "!pip install prophet"
   ]
  },
  {
   "cell_type": "code",
   "execution_count": null,
   "metadata": {
    "id": "cejPtOZ70pjn"
   },
   "outputs": [],
   "source": [
    "# 폰트설치 \n",
    "!sudo apt-get install -y fonts-nanum\n",
    "!sudo fc-cache -fv\n",
    "!rm ~/.cache/matplotlib -rf"
   ]
  },
  {
   "cell_type": "markdown",
   "metadata": {
    "id": "FCqcucf-in1_"
   },
   "source": [
    "# 모듈 및 라이브러리"
   ]
  },
  {
   "cell_type": "code",
   "execution_count": 267,
   "metadata": {
    "executionInfo": {
     "elapsed": 464,
     "status": "ok",
     "timestamp": 1631685344028,
     "user": {
      "displayName": "Bosang KIM",
      "photoUrl": "https://lh3.googleusercontent.com/a/default-user=s64",
      "userId": "09337160292545321113"
     },
     "user_tz": -540
    },
    "id": "oBFoF6ZpsAmE"
   },
   "outputs": [],
   "source": [
    "# 내장 라이브러리\n",
    "import copy\n",
    "import numpy as np\n",
    "import pandas as pd\n",
    "import matplotlib.pyplot as plt\n",
    "import os\n",
    "import math\n",
    "\n",
    "# 외장 라이브러리\n",
    "from typing import collections, List, Tuple, Dict, DefaultDict, NewType\n",
    "from collections import Counter\n",
    "from datetime import datetime, timedelta\n",
    "from timeit import default_timer as timer\n",
    "\n",
    "# sklearn\n",
    "import sklearn\n",
    "from sklearn.preprocessing import MinMaxScaler, StandardScaler\n",
    "\n",
    "# Facebook Prophet - 시계열 모델\n",
    "from fbprophet import Prophet\n",
    "from fbprophet.plot import add_changepoints_to_plot\n",
    "from prophet import Prophet\n",
    "from prophet.plot import plot_plotly, plot_components_plotly\n",
    "from prophet.plot import plot_yearly\n",
    "# Neural Prophet - Advanced Facebook Prophet\n",
    "from neuralprophet import NeuralProphet\n",
    "# 시계열 모델\n",
    "from statsmodels.tsa.arima_model import ARIMA\n",
    "# Attention 모델\n",
    "import keras\n",
    "from tensorflow_addons.layers import MultiHeadAttention"
   ]
  },
  {
   "cell_type": "code",
   "execution_count": 268,
   "metadata": {
    "executionInfo": {
     "elapsed": 2,
     "status": "ok",
     "timestamp": 1631685346858,
     "user": {
      "displayName": "Bosang KIM",
      "photoUrl": "https://lh3.googleusercontent.com/a/default-user=s64",
      "userId": "09337160292545321113"
     },
     "user_tz": -540
    },
    "id": "pWf0AG2jY3d3"
   },
   "outputs": [],
   "source": [
    "# plot 한글\n",
    "import platform\n",
    "from matplotlib import font_manager, rc\n",
    "plt.rcParams['axes.unicode_minus']= False\n",
    "\n",
    "if platform.system() == 'Darwin': # 맥os 사용자의 경우에\n",
    "    plt.style.use('seaborn-darkgrid') \n",
    "    rc('font', family = 'AppleGothic')\n",
    "    \n",
    "elif platform.system() == 'Windows':# 윈도우 사용자의 경우에\n",
    "    path = 'c:/Windows/Fonts/malgun.ttf'\n",
    "    font_name = font_manager.FontProperties(fname=path).get_name()\n",
    "    plt.style.use('seaborn-darkgrid') # https://python-graph-gallery.com/199-matplotlib-style-sheets/\n",
    "    rc('font', family=font_name)\n",
    "\n",
    "elif platform.system() == 'Linux': # colab 사용자의 경우에\n",
    "  # 나눔고딕 폰트\n",
    "  plt.rc('font', family='NanumBarunGothic') \n"
   ]
  },
  {
   "cell_type": "markdown",
   "metadata": {
    "id": "dEfbZtME229Z"
   },
   "source": [
    "# 데이터 로드"
   ]
  },
  {
   "cell_type": "code",
   "execution_count": 269,
   "metadata": {
    "colab": {
     "base_uri": "https://localhost:8080/"
    },
    "executionInfo": {
     "elapsed": 6347,
     "status": "ok",
     "timestamp": 1631685355931,
     "user": {
      "displayName": "Bosang KIM",
      "photoUrl": "https://lh3.googleusercontent.com/a/default-user=s64",
      "userId": "09337160292545321113"
     },
     "user_tz": -540
    },
    "id": "ksA2pPpprx00",
    "outputId": "afbb6f62-bc78-418b-cab2-7448dcdf0e14"
   },
   "outputs": [
    {
     "name": "stdout",
     "output_type": "stream",
     "text": [
      "수산물 어종을 고르세요 (오징어/흰다리새우/연어)연어\n"
     ]
    }
   ],
   "source": [
    "## 중량 수온 데이터를 합친 dataframe, 품목 별로 불러오기\n",
    "os.chdir('/content/drive/MyDrive/BIGCONTEST/data/real_use')\n",
    "\n",
    "name = input('수산물 어종을 고르세요 (오징어/흰다리새우/연어)')\n",
    "\n",
    "if name == \"오징어\":\n",
    "  data = pd.read_csv(\"./squid_temp1.csv\")\n",
    "  val_df = pd.read_csv(\"./squid_temp2.csv\")\n",
    "elif name == \"흰다리새우\":\n",
    "  data = pd.read_csv(\"./shrimp_temp1.csv\")\n",
    "  val_df = pd.read_csv(\"./shrimp_temp2.csv\")\n",
    "elif name == \"연어\":\n",
    "  data = pd.read_csv(\"./salmon_temp1.csv\")\n",
    "  val_df = pd.read_csv(\"./salmon_temp2.csv\")\n",
    "else:\n",
    "  None"
   ]
  },
  {
   "cell_type": "code",
   "execution_count": 270,
   "metadata": {
    "executionInfo": {
     "elapsed": 525,
     "status": "ok",
     "timestamp": 1631685358351,
     "user": {
      "displayName": "Bosang KIM",
      "photoUrl": "https://lh3.googleusercontent.com/a/default-user=s64",
      "userId": "09337160292545321113"
     },
     "user_tz": -540
    },
    "id": "ehE03E_Urxk2"
   },
   "outputs": [],
   "source": [
    "# 품목별 dataframe을 생성하고, 일자별 거래의 갯수를 리스트 형태로 저장\n",
    "def datasetting(data, p_name):\n",
    "\n",
    "  just_p = pd.DataFrame(columns=data.columns.tolist())\n",
    "  len_list = []\n",
    "  for i, day_time in enumerate(list(Counter(data['REG_DATE']).keys())):\n",
    "    day_df = data[data['REG_DATE']==day_time]\n",
    "    just_p = pd.concat([just_p, day_df[day_df['P_NAME']==p_name]])\n",
    "    len_list.append(len(day_df[day_df['P_NAME']==p_name]))\n",
    "\n",
    "  return just_p, len_list"
   ]
  },
  {
   "cell_type": "code",
   "execution_count": 271,
   "metadata": {
    "executionInfo": {
     "elapsed": 6,
     "status": "ok",
     "timestamp": 1631685358938,
     "user": {
      "displayName": "Bosang KIM",
      "photoUrl": "https://lh3.googleusercontent.com/a/default-user=s64",
      "userId": "09337160292545321113"
     },
     "user_tz": -540
    },
    "id": "DOc3zLLaWYSB"
   },
   "outputs": [],
   "source": [
    "# import type을 multi-hot encoding 하기 위한 방법\n",
    "def data_encoding(df, type_):\n",
    "  tmp = []\n",
    "  for impo in df[type_]:\n",
    "    types = impo.split(',')\n",
    "    for i in types:\n",
    "      tmp.append(i)\n",
    "  return list(set(tmp))"
   ]
  },
  {
   "cell_type": "code",
   "execution_count": 272,
   "metadata": {
    "executionInfo": {
     "elapsed": 1110,
     "status": "ok",
     "timestamp": 1631685360043,
     "user": {
      "displayName": "Bosang KIM",
      "photoUrl": "https://lh3.googleusercontent.com/a/default-user=s64",
      "userId": "09337160292545321113"
     },
     "user_tz": -540
    },
    "id": "ODGczewisHSr"
   },
   "outputs": [],
   "source": [
    "train, t_len = datasetting(data, name)\n",
    "validation, v_len = datasetting(val_df, name)"
   ]
  },
  {
   "cell_type": "code",
   "execution_count": 273,
   "metadata": {
    "executionInfo": {
     "elapsed": 8,
     "status": "ok",
     "timestamp": 1631685360044,
     "user": {
      "displayName": "Bosang KIM",
      "photoUrl": "https://lh3.googleusercontent.com/a/default-user=s64",
      "userId": "09337160292545321113"
     },
     "user_tz": -540
    },
    "id": "ysvOWebqGMS4"
   },
   "outputs": [],
   "source": [
    "## 제조국과 수출국에 대하여 multi-hot encoding을 진행하기위해서 모든 나라를 리스트형태로 저장\n",
    "ctry_1 = set(list(set(train['CTRY_1']))+list(set(train['CTRY_2'])))\n",
    "ctry_2 = set(list(set(validation['CTRY_1']))+list(set(validation['CTRY_2'])))\n",
    "con = list(ctry_1) + list(ctry_2)\n",
    "ctry_list = list(set(con))"
   ]
  },
  {
   "cell_type": "code",
   "execution_count": 274,
   "metadata": {
    "executionInfo": {
     "elapsed": 6,
     "status": "ok",
     "timestamp": 1631685360044,
     "user": {
      "displayName": "Bosang KIM",
      "photoUrl": "https://lh3.googleusercontent.com/a/default-user=s64",
      "userId": "09337160292545321113"
     },
     "user_tz": -540
    },
    "id": "djcA3s8PsOCX"
   },
   "outputs": [],
   "source": [
    "## 명목형 변수는 dummy 처리해서 multi-hot 형태로 할당하고, 수치형 변수는 스케일링 작업 진행\n",
    "\n",
    "def data_frame(trains, ctry_list):\n",
    "\n",
    "  p_type = \"P_IMPORT_TYPE\"\n",
    "  import_type = data_encoding(train, p_type)\n",
    "\n",
    "  con = ctry_list\n",
    "  con.sort()\n",
    "  col_con = [f\"country_{co}\" for co in con]\n",
    "  col_imp = [f\"import_{im}\" for im in import_type]\n",
    "  cols = col_con + col_imp + ['weight', 'temp', 'price']\n",
    "  # print(cols)\n",
    "  x_train = pd.DataFrame(columns=cols)\n",
    "  tmp = []\n",
    "  for i in range(len(cols)-1):\n",
    "    tmp.append([])\n",
    "  len_a = len(col_con)\n",
    "  len_b = len(col_imp)\n",
    "  for c1, c2, p in zip(trains['CTRY_1'], trains['CTRY_2'], trains['P_IMPORT_TYPE']):\n",
    "    i = con.index(c1)\n",
    "    j = con.index(c2)\n",
    "    country = np.eye(len_a)[i] + np.eye(len_a)[j] ## 제조국 + 수출국 정보 결합\n",
    "\n",
    "    p_import = np.zeros(len_b)\n",
    "    for ty in p.split(','):\n",
    "      j = import_type.index(ty)\n",
    "      p_import += np.eye(len(p_import))[j] ## import type 정보 결합\n",
    "\n",
    "    row = np.concatenate([country, p_import])\n",
    "\n",
    "    for i, r in enumerate(row):\n",
    "      tmp[i].append(r)\n",
    "\n",
    "  for i, c in enumerate(cols[:-3]): ## 중량, 수온, 가격 이외의 것들만 고려\n",
    "    x_train[c] = tmp[i]\n",
    "\n",
    "  ## 중량과 수온 데이터 스케일링\n",
    "  w = trains['WEIGHT(KG)'].tolist()\n",
    "  w = np.array(w).reshape(-1,1)\n",
    "  t = trains['temp'].tolist()\n",
    "  t = np.array(t).reshape(-1,1)\n",
    "\n",
    "  scaler = MinMaxScaler()\n",
    "  scaler.fit(w)\n",
    "  t_data = scaler.transform(w)\n",
    "\n",
    "  wscaler = MinMaxScaler()\n",
    "  wscaler.fit(t)\n",
    "  w_data = wscaler.transform(t)\n",
    "\n",
    "  x_train['weight'] =  t_data\n",
    "  x_train['temp'] = w_data\n",
    "  x_train['price'] = trains['P_PRICE'].tolist()\n",
    "\n",
    "  return x_train"
   ]
  },
  {
   "cell_type": "code",
   "execution_count": 275,
   "metadata": {
    "executionInfo": {
     "elapsed": 6,
     "status": "ok",
     "timestamp": 1631685360044,
     "user": {
      "displayName": "Bosang KIM",
      "photoUrl": "https://lh3.googleusercontent.com/a/default-user=s64",
      "userId": "09337160292545321113"
     },
     "user_tz": -540
    },
    "id": "BisLfUSqGVfx"
   },
   "outputs": [],
   "source": [
    "x_train = data_frame(train, ctry_list)"
   ]
  },
  {
   "cell_type": "code",
   "execution_count": 276,
   "metadata": {
    "executionInfo": {
     "elapsed": 6,
     "status": "ok",
     "timestamp": 1631685360045,
     "user": {
      "displayName": "Bosang KIM",
      "photoUrl": "https://lh3.googleusercontent.com/a/default-user=s64",
      "userId": "09337160292545321113"
     },
     "user_tz": -540
    },
    "id": "F15luELOQPFD"
   },
   "outputs": [],
   "source": [
    "x_val = data_frame(validation, ctry_list)"
   ]
  },
  {
   "cell_type": "markdown",
   "metadata": {
    "id": "aavAgTkrr5jy"
   },
   "source": [
    "# 학습, 테스트 데이터 분리 "
   ]
  },
  {
   "cell_type": "code",
   "execution_count": 277,
   "metadata": {
    "executionInfo": {
     "elapsed": 7,
     "status": "ok",
     "timestamp": 1631685360604,
     "user": {
      "displayName": "Bosang KIM",
      "photoUrl": "https://lh3.googleusercontent.com/a/default-user=s64",
      "userId": "09337160292545321113"
     },
     "user_tz": -540
    },
    "id": "vitLnhsQOsgw"
   },
   "outputs": [],
   "source": [
    "X_train = np.array(x_train.iloc[:,:-1])\n",
    "Y_train = np.array(x_train.iloc[:,-1])\n",
    "Y_train = Y_train.reshape(-1)"
   ]
  },
  {
   "cell_type": "code",
   "execution_count": 278,
   "metadata": {
    "executionInfo": {
     "elapsed": 8,
     "status": "ok",
     "timestamp": 1631685360605,
     "user": {
      "displayName": "Bosang KIM",
      "photoUrl": "https://lh3.googleusercontent.com/a/default-user=s64",
      "userId": "09337160292545321113"
     },
     "user_tz": -540
    },
    "id": "VQ_zkjmHQcvh"
   },
   "outputs": [],
   "source": [
    "X_val = np.array(x_val.iloc[:,:-1])\n",
    "Y_val = np.array(x_val.iloc[:,-1])\n",
    "Y_val = Y_val.reshape(-1)"
   ]
  },
  {
   "cell_type": "code",
   "execution_count": 279,
   "metadata": {
    "colab": {
     "base_uri": "https://localhost:8080/"
    },
    "executionInfo": {
     "elapsed": 7,
     "status": "ok",
     "timestamp": 1631685360605,
     "user": {
      "displayName": "Bosang KIM",
      "photoUrl": "https://lh3.googleusercontent.com/a/default-user=s64",
      "userId": "09337160292545321113"
     },
     "user_tz": -540
    },
    "id": "0WrDsy9wrC7p",
    "outputId": "c7a597a6-3787-49e7-8a01-edc134d6ca5d"
   },
   "outputs": [
    {
     "data": {
      "text/plain": [
       "((511, 14), (511,), (153, 14), (153,))"
      ]
     },
     "execution_count": 279,
     "metadata": {},
     "output_type": "execute_result"
    }
   ],
   "source": [
    "X_train.shape, Y_train.shape, X_val.shape, Y_val.shape"
   ]
  },
  {
   "cell_type": "code",
   "execution_count": 280,
   "metadata": {
    "executionInfo": {
     "elapsed": 3,
     "status": "ok",
     "timestamp": 1631685361220,
     "user": {
      "displayName": "Bosang KIM",
      "photoUrl": "https://lh3.googleusercontent.com/a/default-user=s64",
      "userId": "09337160292545321113"
     },
     "user_tz": -540
    },
    "id": "x2cDktFKQULw"
   },
   "outputs": [],
   "source": [
    "num_heads=8; head_size=32; ff_dim=None; dropout=0\n",
    "\n",
    "multi = MultiHeadAttention(num_heads=num_heads, head_size=head_size, dropout=dropout)"
   ]
  },
  {
   "cell_type": "code",
   "execution_count": 281,
   "metadata": {
    "executionInfo": {
     "elapsed": 4,
     "status": "ok",
     "timestamp": 1631685361221,
     "user": {
      "displayName": "Bosang KIM",
      "photoUrl": "https://lh3.googleusercontent.com/a/default-user=s64",
      "userId": "09337160292545321113"
     },
     "user_tz": -540
    },
    "id": "I_B_Hma5UcWu"
   },
   "outputs": [],
   "source": [
    "## Attention을 계산하는 모듈 생성\n",
    "\n",
    "class AttentionBlock(keras.Model):\n",
    "    def __init__(self, name='AttentionBlock', num_heads=2, head_size=128, ff_dim=None, dropout=0.2, **kwargs):\n",
    "        super().__init__(name=name, **kwargs)\n",
    "\n",
    "        if ff_dim is None:\n",
    "            ff_dim = head_size\n",
    "\n",
    "        self.attention = MultiHeadAttention(num_heads=num_heads, head_size=head_size, dropout=dropout)\n",
    "        self.attention_dropout = keras.layers.Dropout(dropout)\n",
    "        self.attention_norm = keras.layers.LayerNormalization(epsilon=1e-6)\n",
    "\n",
    "        self.ff_conv1 = keras.layers.Conv1D(filters=ff_dim, kernel_size=1, activation='relu')\n",
    "        self.flatten = keras.layers.Flatten()\n",
    "        self.dense1 = keras.layers.Dense(64, activation='relu')\n",
    "        self.dense2 = keras.layers.Dense(1)\n",
    "        self.ff_dropout = keras.layers.Dropout(dropout)\n",
    "        self.ff_norm = keras.layers.LayerNormalization(epsilon=1e-6)\n",
    "\n",
    "    def build(self, input_shape):\n",
    "        self.ff_conv2 = keras.layers.Conv1D(filters=input_shape[-1], kernel_size=1) \n",
    "\n",
    "    def call(self, inputs):\n",
    "        x = self.attention([inputs, inputs])\n",
    "        x = self.attention_dropout(x)\n",
    "        x = self.attention_norm(inputs + x)\n",
    "        \n",
    "        return x"
   ]
  },
  {
   "cell_type": "code",
   "execution_count": 282,
   "metadata": {
    "executionInfo": {
     "elapsed": 3,
     "status": "ok",
     "timestamp": 1631685361221,
     "user": {
      "displayName": "Bosang KIM",
      "photoUrl": "https://lh3.googleusercontent.com/a/default-user=s64",
      "userId": "09337160292545321113"
     },
     "user_tz": -540
    },
    "id": "63EXf5S0bGl6"
   },
   "outputs": [],
   "source": [
    "## Attention을 여러번 계산하고 마치막 출력으로 Fully_connected layer를 통해 차원 축소\n",
    "\n",
    "class ModelTrunk(keras.Model):\n",
    "    def __init__(self, name='ModelTrunk', num_heads=2, head_size=128, ff_dim=None, num_layers=10, dropout=0, **kwargs):\n",
    "      super().__init__(name=name, **kwargs)\n",
    "      if ff_dim is None:\n",
    "          ff_dim = head_size\n",
    "      self.dropout = dropout\n",
    "      self.attention_layers = [AttentionBlock(num_heads=num_heads, head_size=head_size, ff_dim=ff_dim, dropout=dropout) for _ in range(num_layers)]\n",
    "      self.dense2 = keras.layers.Dense(1, kernel_initializer='he_normal')\n",
    "\n",
    "    def call(self, inputs):\n",
    "      x = inputs\n",
    "      for attention_layer in self.attention_layers:\n",
    "          x = attention_layer(x)\n",
    "      x = self.dense2(x)\n",
    "      return x"
   ]
  },
  {
   "cell_type": "code",
   "execution_count": 283,
   "metadata": {
    "executionInfo": {
     "elapsed": 4,
     "status": "ok",
     "timestamp": 1631685362236,
     "user": {
      "displayName": "Bosang KIM",
      "photoUrl": "https://lh3.googleusercontent.com/a/default-user=s64",
      "userId": "09337160292545321113"
     },
     "user_tz": -540
    },
    "id": "hAgyOpqqbnvo"
   },
   "outputs": [],
   "source": [
    "# Attention 계산 및 FC layer 차원축소 \n",
    "attention_layers = ModelTrunk()"
   ]
  },
  {
   "cell_type": "code",
   "execution_count": 284,
   "metadata": {
    "executionInfo": {
     "elapsed": 3,
     "status": "ok",
     "timestamp": 1631685362236,
     "user": {
      "displayName": "Bosang KIM",
      "photoUrl": "https://lh3.googleusercontent.com/a/default-user=s64",
      "userId": "09337160292545321113"
     },
     "user_tz": -540
    },
    "id": "hM-swSfzcYeA"
   },
   "outputs": [],
   "source": [
    "# 소프트맥스 함수 \n",
    "def softmax(x):\n",
    "    e_x = np.exp(x - np.max(x))\n",
    "    return e_x / e_x.sum()"
   ]
  },
  {
   "cell_type": "code",
   "execution_count": 285,
   "metadata": {
    "executionInfo": {
     "elapsed": 3,
     "status": "ok",
     "timestamp": 1631685362236,
     "user": {
      "displayName": "Bosang KIM",
      "photoUrl": "https://lh3.googleusercontent.com/a/default-user=s64",
      "userId": "09337160292545321113"
     },
     "user_tz": -540
    },
    "id": "U_9vdGYmeajp"
   },
   "outputs": [],
   "source": [
    "# Attention - FC layer 를 통한 가중치 리스트와 가격 리스트 생성\n",
    "def make_weight(x, y,length):\n",
    "    # 날짜별로 attention score 담을 list\n",
    "    weight_score = []\n",
    "    # 날짜별로 p_price 담을 list\n",
    "    p_price = []\n",
    "    final_weight = []\n",
    "\n",
    "    before = 0\n",
    "    for leng in length:\n",
    "      if leng==0:\n",
    "        weight_score.append([[0]])\n",
    "        p_price.append([[0]])\n",
    "      else:\n",
    "        a = np.array(x[before:before+leng])\n",
    "        b = np.array(y[before:before+leng]).tolist()\n",
    "        arr = attention_layers(a)\n",
    "        weight_score.append(np.array(softmax(arr)).tolist()) ## attention score를 softmax 함수를 이용해서 정규화\n",
    "        p_price.append(b)\n",
    "        before += leng\n",
    "\n",
    "    for w in weight_score:\n",
    "        aa = sum(w, [])\n",
    "        final_weight.append(aa)\n",
    "\n",
    "    return final_weight,p_price"
   ]
  },
  {
   "cell_type": "code",
   "execution_count": 286,
   "metadata": {
    "executionInfo": {
     "elapsed": 7114,
     "status": "ok",
     "timestamp": 1631685369348,
     "user": {
      "displayName": "Bosang KIM",
      "photoUrl": "https://lh3.googleusercontent.com/a/default-user=s64",
      "userId": "09337160292545321113"
     },
     "user_tz": -540
    },
    "id": "57oyiGE3edDQ"
   },
   "outputs": [],
   "source": [
    "train_weight, train_price = make_weight(X_train, Y_train, t_len)"
   ]
  },
  {
   "cell_type": "code",
   "execution_count": 287,
   "metadata": {
    "executionInfo": {
     "elapsed": 2081,
     "status": "ok",
     "timestamp": 1631685371427,
     "user": {
      "displayName": "Bosang KIM",
      "photoUrl": "https://lh3.googleusercontent.com/a/default-user=s64",
      "userId": "09337160292545321113"
     },
     "user_tz": -540
    },
    "id": "XADrr1xb-TNe"
   },
   "outputs": [],
   "source": [
    "val_weight, val_price = make_weight(X_val, Y_val,v_len)"
   ]
  },
  {
   "cell_type": "code",
   "execution_count": 288,
   "metadata": {
    "executionInfo": {
     "elapsed": 12,
     "status": "ok",
     "timestamp": 1631685371428,
     "user": {
      "displayName": "Bosang KIM",
      "photoUrl": "https://lh3.googleusercontent.com/a/default-user=s64",
      "userId": "09337160292545321113"
     },
     "user_tz": -540
    },
    "id": "-SKQiLtk-TLG"
   },
   "outputs": [],
   "source": [
    "# 가중치를 이용한 새로운 가격 변수 생성\n",
    "def make_new_price(weight_list, price_list):\n",
    "    new_price = []\n",
    "    new_price_m = 0\n",
    "    new_price_s = 0\n",
    "\n",
    "    for i in range(len(weight_list)):\n",
    "        if weight_list[i]==[0]:\n",
    "            new_price.append(0)\n",
    "        else:\n",
    "            for j in range(len(weight_list[i])):\n",
    "                new_price_m += (weight_list[i][j] * price_list[i][j])\n",
    "                new_price_s += weight_list[i][j]\n",
    "            new_price_sum = new_price_m / new_price_s\n",
    "            new_price.append(new_price_sum)\n",
    "    return new_price"
   ]
  },
  {
   "cell_type": "code",
   "execution_count": 289,
   "metadata": {
    "executionInfo": {
     "elapsed": 11,
     "status": "ok",
     "timestamp": 1631685371428,
     "user": {
      "displayName": "Bosang KIM",
      "photoUrl": "https://lh3.googleusercontent.com/a/default-user=s64",
      "userId": "09337160292545321113"
     },
     "user_tz": -540
    },
    "id": "C5nns4qW-U8J"
   },
   "outputs": [],
   "source": [
    "# attention score의 가중치를 적용한 가중평균 \n",
    "train_price = make_new_price(train_weight, train_price)"
   ]
  },
  {
   "cell_type": "code",
   "execution_count": 290,
   "metadata": {
    "executionInfo": {
     "elapsed": 10,
     "status": "ok",
     "timestamp": 1631685371428,
     "user": {
      "displayName": "Bosang KIM",
      "photoUrl": "https://lh3.googleusercontent.com/a/default-user=s64",
      "userId": "09337160292545321113"
     },
     "user_tz": -540
    },
    "id": "tpvI4xtj-U6S"
   },
   "outputs": [],
   "source": [
    "val_price = make_new_price(val_weight, val_price)"
   ]
  },
  {
   "cell_type": "code",
   "execution_count": 291,
   "metadata": {
    "executionInfo": {
     "elapsed": 9,
     "status": "ok",
     "timestamp": 1631685371428,
     "user": {
      "displayName": "Bosang KIM",
      "photoUrl": "https://lh3.googleusercontent.com/a/default-user=s64",
      "userId": "09337160292545321113"
     },
     "user_tz": -540
    },
    "id": "ForLHshs41IA"
   },
   "outputs": [],
   "source": [
    "trn_lst = np.array([item for item in train_price if item > 0])"
   ]
  },
  {
   "cell_type": "code",
   "execution_count": 292,
   "metadata": {
    "executionInfo": {
     "elapsed": 9,
     "status": "ok",
     "timestamp": 1631685371429,
     "user": {
      "displayName": "Bosang KIM",
      "photoUrl": "https://lh3.googleusercontent.com/a/default-user=s64",
      "userId": "09337160292545321113"
     },
     "user_tz": -540
    },
    "id": "aSzMju_RY3d-"
   },
   "outputs": [],
   "source": [
    "train['REG_DATE'] = pd.to_datetime(train['REG_DATE'])\n",
    "validation['REG_DATE'] = pd.to_datetime(validation['REG_DATE'])"
   ]
  },
  {
   "cell_type": "code",
   "execution_count": 293,
   "metadata": {
    "executionInfo": {
     "elapsed": 9,
     "status": "ok",
     "timestamp": 1631685371429,
     "user": {
      "displayName": "Bosang KIM",
      "photoUrl": "https://lh3.googleusercontent.com/a/default-user=s64",
      "userId": "09337160292545321113"
     },
     "user_tz": -540
    },
    "id": "_N2j5hIL12l_"
   },
   "outputs": [],
   "source": [
    "# 가중평균한 최종 가격 배열로 만들기 \n",
    "ts_train = np.array(train_price)"
   ]
  },
  {
   "cell_type": "markdown",
   "metadata": {
    "id": "HkZygrrEWvdM"
   },
   "source": [
    "# RMSE 함수 (평가지표)"
   ]
  },
  {
   "cell_type": "code",
   "execution_count": 294,
   "metadata": {
    "executionInfo": {
     "elapsed": 9,
     "status": "ok",
     "timestamp": 1631685371429,
     "user": {
      "displayName": "Bosang KIM",
      "photoUrl": "https://lh3.googleusercontent.com/a/default-user=s64",
      "userId": "09337160292545321113"
     },
     "user_tz": -540
    },
    "id": "MPX_UrRcWzMI"
   },
   "outputs": [],
   "source": [
    "def rmse(y: List, yhat:List)->float:\n",
    "  # y값의 갯수\n",
    "  n = len(y)\n",
    "  mse = 0\n",
    "  for i in range(n):\n",
    "    # 실제값에서 예측값 뺀것의 제곱\n",
    "    mse += (y[i] - yhat[i])**2\n",
    "  rmse = (mse/n)**0.5\n",
    "  return rmse"
   ]
  },
  {
   "cell_type": "markdown",
   "metadata": {
    "id": "1OF41nCTgJVE"
   },
   "source": [
    "- validation y : val_price\n"
   ]
  },
  {
   "cell_type": "markdown",
   "metadata": {
    "id": "ZOu3a8ZPdwcl"
   },
   "source": [
    "# Neural Prophet - normal"
   ]
  },
  {
   "cell_type": "code",
   "execution_count": 295,
   "metadata": {
    "colab": {
     "base_uri": "https://localhost:8080/"
    },
    "executionInfo": {
     "elapsed": 8,
     "status": "ok",
     "timestamp": 1631685371429,
     "user": {
      "displayName": "Bosang KIM",
      "photoUrl": "https://lh3.googleusercontent.com/a/default-user=s64",
      "userId": "09337160292545321113"
     },
     "user_tz": -540
    },
    "id": "XBSTreDhDfoU",
    "outputId": "4f8ce238-4bab-4bb6-ae3f-8f7efc7ee1bf"
   },
   "outputs": [
    {
     "name": "stdout",
     "output_type": "stream",
     "text": [
      "(197, 2)\n"
     ]
    }
   ],
   "source": [
    "## 모델 피팅하기 위해서 dataframe 형태 수정\n",
    "df = pd.DataFrame(columns=['ds', 'y'])\n",
    "df['ds'] = train['REG_DATE'].unique()\n",
    "df['y'] = ts_train\n",
    "print(df.shape)"
   ]
  },
  {
   "cell_type": "code",
   "execution_count": 296,
   "metadata": {
    "executionInfo": {
     "elapsed": 5,
     "status": "ok",
     "timestamp": 1631685371429,
     "user": {
      "displayName": "Bosang KIM",
      "photoUrl": "https://lh3.googleusercontent.com/a/default-user=s64",
      "userId": "09337160292545321113"
     },
     "user_tz": -540
    },
    "id": "enpJ2Rgd2r-y"
   },
   "outputs": [],
   "source": [
    "val_date = list(validation['REG_DATE'].unique())"
   ]
  },
  {
   "cell_type": "code",
   "execution_count": 297,
   "metadata": {
    "executionInfo": {
     "elapsed": 2,
     "status": "ok",
     "timestamp": 1631685372641,
     "user": {
      "displayName": "Bosang KIM",
      "photoUrl": "https://lh3.googleusercontent.com/a/default-user=s64",
      "userId": "09337160292545321113"
     },
     "user_tz": -540
    },
    "id": "rh49BK2XK7I9"
   },
   "outputs": [],
   "source": [
    "# hyperparameter \n",
    "freq = 'W-MON' # 시작일이 월요일이면서, 일주일 간격 \n",
    "epochs = 1000"
   ]
  },
  {
   "cell_type": "code",
   "execution_count": 298,
   "metadata": {
    "colab": {
     "base_uri": "https://localhost:8080/",
     "height": 247,
     "referenced_widgets": [
      "f85bd035041f419cb86cd943618db201",
      "fb0207402c17464b9f27f68792c32cd8",
      "3dd5b1ccaefb43b8bd0e864b86a292cb",
      "683fe21c716c4a3e83620b7f3853c6d4",
      "5da54d609e1e499fbcc57faf5e362847",
      "813c532b0ebd47a98e7b518aa01ead78",
      "e0d7fa109d854f8096eb612ba50150fa",
      "906c195eb11a432f9e500fcb65db3cdc",
      "d280d86c0b8e4019aab74539e0298b22",
      "506eb16ed99342b4b2a0b469e307859b",
      "e9cc35d117764328ac030fe3e0f4ee35"
     ]
    },
    "executionInfo": {
     "elapsed": 47891,
     "status": "ok",
     "timestamp": 1631685421007,
     "user": {
      "displayName": "Bosang KIM",
      "photoUrl": "https://lh3.googleusercontent.com/a/default-user=s64",
      "userId": "09337160292545321113"
     },
     "user_tz": -540
    },
    "id": "KDrYoA9JvD0Z",
    "outputId": "4bbcf771-d730-42dc-c25a-dd76a10db66f"
   },
   "outputs": [
    {
     "name": "stderr",
     "output_type": "stream",
     "text": [
      "WARNING: nprophet - fit: Parts of code may break if using other than daily data.\n",
      "WARNING:nprophet:Parts of code may break if using other than daily data.\n",
      "INFO: nprophet.utils - set_auto_seasonalities: Disabling weekly seasonality. Run NeuralProphet with weekly_seasonality=True to override this.\n",
      "INFO:nprophet.utils:Disabling weekly seasonality. Run NeuralProphet with weekly_seasonality=True to override this.\n",
      "INFO: nprophet.utils - set_auto_seasonalities: Disabling daily seasonality. Run NeuralProphet with daily_seasonality=True to override this.\n",
      "INFO:nprophet.utils:Disabling daily seasonality. Run NeuralProphet with daily_seasonality=True to override this.\n",
      "INFO: nprophet.config - set_auto_batch_epoch: Auto-set batch_size to 8\n",
      "INFO:nprophet.config:Auto-set batch_size to 8\n"
     ]
    },
    {
     "data": {
      "application/vnd.jupyter.widget-view+json": {
       "model_id": "f85bd035041f419cb86cd943618db201",
       "version_major": 2,
       "version_minor": 0
      },
      "text/plain": [
       "  0%|          | 0/100 [00:00<?, ?it/s]"
      ]
     },
     "metadata": {},
     "output_type": "display_data"
    },
    {
     "name": "stderr",
     "output_type": "stream",
     "text": [
      "INFO: nprophet - _lr_range_test: learning rate range test found optimal lr: 2.85E-01\n",
      "INFO:nprophet:learning rate range test found optimal lr: 2.85E-01\n",
      "Epoch[1000/1000]: 100%|██████████| 1000/1000 [00:47<00:00, 20.94it/s, SmoothL1Loss=0.000236, MAE=0.0357, RegLoss=0]\n"
     ]
    }
   ],
   "source": [
    "# 모델 학습\n",
    "m = NeuralProphet()\n",
    "metrics = m.fit(df, freq =freq,\n",
    "                epochs=epochs)"
   ]
  },
  {
   "cell_type": "code",
   "execution_count": 299,
   "metadata": {
    "executionInfo": {
     "elapsed": 3,
     "status": "ok",
     "timestamp": 1631685421007,
     "user": {
      "displayName": "Bosang KIM",
      "photoUrl": "https://lh3.googleusercontent.com/a/default-user=s64",
      "userId": "09337160292545321113"
     },
     "user_tz": -540
    },
    "id": "Y1XDuIW8xWb9"
   },
   "outputs": [],
   "source": [
    "# train 데이터의 마지막일 기준으로, 일주일 간격 * 70 의 테스트데이터 생성\n",
    "future = m.make_future_dataframe(df, periods=52)\n",
    "forecast = m.predict(future)"
   ]
  },
  {
   "cell_type": "code",
   "execution_count": 300,
   "metadata": {
    "colab": {
     "base_uri": "https://localhost:8080/",
     "height": 441
    },
    "executionInfo": {
     "elapsed": 943,
     "status": "ok",
     "timestamp": 1631685421948,
     "user": {
      "displayName": "Bosang KIM",
      "photoUrl": "https://lh3.googleusercontent.com/a/default-user=s64",
      "userId": "09337160292545321113"
     },
     "user_tz": -540
    },
    "id": "ph8LmWIBy4hG",
    "outputId": "2fe951e4-5630-4dff-ac98-1a04ce9eeef4"
   },
   "outputs": [
    {
     "data": {
      "image/png": "[encoded data removed]",
      "text/plain": [
       "<Figure size 720x432 with 1 Axes>"
      ]
     },
     "metadata": {},
     "output_type": "display_data"
    }
   ],
   "source": [
    "forecasts_plot = m.plot(forecast)"
   ]
  },
  {
   "cell_type": "code",
   "execution_count": 301,
   "metadata": {
    "executionInfo": {
     "elapsed": 9,
     "status": "ok",
     "timestamp": 1631685423338,
     "user": {
      "displayName": "Bosang KIM",
      "photoUrl": "https://lh3.googleusercontent.com/a/default-user=s64",
      "userId": "09337160292545321113"
     },
     "user_tz": -540
    },
    "id": "L13N62Ve56n0"
   },
   "outputs": [],
   "source": [
    "# validation 기간에 맞는 예측 데이터 프레임 구성\n",
    "a = pd.DataFrame(columns=['ds', 'y', 'yhat1', 'residual1', 'trend', 'season_yearly'])\n",
    "for i in val_date:\n",
    "  a = a.append(forecast.iloc[forecast.loc[forecast['ds']==i].index])\n",
    "a.reset_index(drop=True, inplace = True)"
   ]
  },
  {
   "cell_type": "code",
   "execution_count": 302,
   "metadata": {
    "colab": {
     "base_uri": "https://localhost:8080/"
    },
    "executionInfo": {
     "elapsed": 9,
     "status": "ok",
     "timestamp": 1631685423338,
     "user": {
      "displayName": "Bosang KIM",
      "photoUrl": "https://lh3.googleusercontent.com/a/default-user=s64",
      "userId": "09337160292545321113"
     },
     "user_tz": -540
    },
    "id": "X9X8Cr1s6Fos",
    "outputId": "e16c19df-a88c-42a2-d68c-8ab6c59f317c"
   },
   "outputs": [
    {
     "data": {
      "text/plain": [
       "0.8242267569375189"
      ]
     },
     "execution_count": 302,
     "metadata": {},
     "output_type": "execute_result"
    }
   ],
   "source": [
    "# rmse\n",
    "rmse(val_price, a['yhat1'])"
   ]
  },
  {
   "cell_type": "markdown",
   "metadata": {
    "id": "ExbZEVo5Favr"
   },
   "source": [
    "# Neural Prophet - Trend"
   ]
  },
  {
   "cell_type": "code",
   "execution_count": 303,
   "metadata": {
    "colab": {
     "base_uri": "https://localhost:8080/",
     "height": 175,
     "referenced_widgets": [
      "09115fbc21514236ba75a3e7b69fc077",
      "8cb65e3a46b54e81af9cbe3b7ba915f4",
      "2ad9a54355684759b07316864083494b",
      "47ce8d0553104719888b1cc09cb178be",
      "39a886c773114d909828d9133ce0abdb",
      "76894f13bf024e869e750eb104d81cd8",
      "f107fd04291c4b86b6fd9352936c8082",
      "e25379e19b92476b803cf631af3cfc6f",
      "7b97cd35a70042bda2aefc83d2574d47",
      "6dee2b0fbc49428ba7d5ad372695429a",
      "b030a4ee78814a278189235a19407d01"
     ]
    },
    "executionInfo": {
     "elapsed": 43017,
     "status": "ok",
     "timestamp": 1631685466349,
     "user": {
      "displayName": "Bosang KIM",
      "photoUrl": "https://lh3.googleusercontent.com/a/default-user=s64",
      "userId": "09337160292545321113"
     },
     "user_tz": -540
    },
    "id": "1hoGVPb-Kw81",
    "outputId": "2af607c3-f9b8-4d14-be82-8cd951ac4ca6"
   },
   "outputs": [
    {
     "name": "stderr",
     "output_type": "stream",
     "text": [
      "WARNING: nprophet - fit: Parts of code may break if using other than daily data.\n",
      "WARNING:nprophet:Parts of code may break if using other than daily data.\n",
      "INFO: nprophet.config - set_auto_batch_epoch: Auto-set batch_size to 8\n",
      "INFO:nprophet.config:Auto-set batch_size to 8\n"
     ]
    },
    {
     "data": {
      "application/vnd.jupyter.widget-view+json": {
       "model_id": "09115fbc21514236ba75a3e7b69fc077",
       "version_major": 2,
       "version_minor": 0
      },
      "text/plain": [
       "  0%|          | 0/100 [00:00<?, ?it/s]"
      ]
     },
     "metadata": {},
     "output_type": "display_data"
    },
    {
     "name": "stderr",
     "output_type": "stream",
     "text": [
      "INFO: nprophet - _lr_range_test: learning rate range test found optimal lr: 2.85E+00\n",
      "INFO:nprophet:learning rate range test found optimal lr: 2.85E+00\n",
      "Epoch[1000/1000]: 100%|██████████| 1000/1000 [00:42<00:00, 23.67it/s, SmoothL1Loss=8.49e-5, MAE=0.0179, RegLoss=0]\n"
     ]
    }
   ],
   "source": [
    "m = NeuralProphet(\n",
    "    n_changepoints=100,\n",
    "    #trend_smoothness=2,\n",
    "    yearly_seasonality=False,\n",
    "    weekly_seasonality=False,\n",
    "    daily_seasonality=False,\n",
    "    epochs =epochs\n",
    ")\n",
    "metrics = m.fit(df, freq=freq)"
   ]
  },
  {
   "cell_type": "code",
   "execution_count": 304,
   "metadata": {
    "colab": {
     "base_uri": "https://localhost:8080/",
     "height": 441
    },
    "executionInfo": {
     "elapsed": 15,
     "status": "ok",
     "timestamp": 1631685466350,
     "user": {
      "displayName": "Bosang KIM",
      "photoUrl": "https://lh3.googleusercontent.com/a/default-user=s64",
      "userId": "09337160292545321113"
     },
     "user_tz": -540
    },
    "id": "axZknVS_LMlb",
    "outputId": "a015bd9a-7126-4dfd-e911-c4f4ea16aeb1"
   },
   "outputs": [
    {
     "data": {
      "image/png": "[encoded data removed]",
      "text/plain": [
       "<Figure size 720x432 with 1 Axes>"
      ]
     },
     "metadata": {},
     "output_type": "display_data"
    }
   ],
   "source": [
    "future = m.make_future_dataframe(df, periods=70, n_historic_predictions=len(df))\n",
    "forecast = m.predict(future)\n",
    "forecasts_plot = m.plot(forecast)"
   ]
  },
  {
   "cell_type": "code",
   "execution_count": 305,
   "metadata": {
    "executionInfo": {
     "elapsed": 647,
     "status": "ok",
     "timestamp": 1631685466985,
     "user": {
      "displayName": "Bosang KIM",
      "photoUrl": "https://lh3.googleusercontent.com/a/default-user=s64",
      "userId": "09337160292545321113"
     },
     "user_tz": -540
    },
    "id": "oPjitmwuMfBF"
   },
   "outputs": [],
   "source": [
    "a = pd.DataFrame(columns=['ds', 'y', 'yhat1', 'residual1', 'trend', 'season_yearly'])\n",
    "for i in val_date:\n",
    "  a = a.append(forecast.iloc[forecast.loc[forecast['ds']==i].index])\n",
    "a.reset_index(drop=True, inplace = True)"
   ]
  },
  {
   "cell_type": "code",
   "execution_count": 306,
   "metadata": {
    "colab": {
     "base_uri": "https://localhost:8080/"
    },
    "executionInfo": {
     "elapsed": 13,
     "status": "ok",
     "timestamp": 1631685466987,
     "user": {
      "displayName": "Bosang KIM",
      "photoUrl": "https://lh3.googleusercontent.com/a/default-user=s64",
      "userId": "09337160292545321113"
     },
     "user_tz": -540
    },
    "id": "IlGqcD2lMiF_",
    "outputId": "fafb3b24-0331-4cc2-cfce-19a259d02cc5"
   },
   "outputs": [
    {
     "data": {
      "text/plain": [
       "0.8009833725576777"
      ]
     },
     "execution_count": 306,
     "metadata": {},
     "output_type": "execute_result"
    }
   ],
   "source": [
    "# rmse\n",
    "rmse(val_price, a['yhat1'])"
   ]
  },
  {
   "cell_type": "markdown",
   "metadata": {
    "id": "8W1CfYTJMjQF"
   },
   "source": [
    "# Nueral Prophet - Seasonality"
   ]
  },
  {
   "cell_type": "code",
   "execution_count": 307,
   "metadata": {
    "colab": {
     "base_uri": "https://localhost:8080/",
     "height": 283,
     "referenced_widgets": [
      "4307f43eed294773960a763df7ea9b2d",
      "68be30f8350c4c119fdd07c1b9f231dd",
      "655d42fc30e0465692ac37ef4cecbcfd",
      "24350986099f47308944911779264fdf",
      "9117aab9491341bbb4ca02e8ab7c7ee0",
      "1ad6a98388b649a787c6c7ff6b0996ec",
      "c88d1d57a57a47f3a9ba34107080480d",
      "82c77d289ee1447fb2d461b305d53c94",
      "f17f06206cda4005a5b27a2f60a25dbe",
      "ac5ae14d182e419aa7a0a80eb99b8cdf",
      "7090b9e1bb0c49aeae42d78e1df6c955"
     ]
    },
    "executionInfo": {
     "elapsed": 9276,
     "status": "ok",
     "timestamp": 1631685476254,
     "user": {
      "displayName": "Bosang KIM",
      "photoUrl": "https://lh3.googleusercontent.com/a/default-user=s64",
      "userId": "09337160292545321113"
     },
     "user_tz": -540
    },
    "id": "bsrdiuVCNXI7",
    "outputId": "8a36d068-8638-4cd4-a97c-054599d78e7f"
   },
   "outputs": [
    {
     "name": "stderr",
     "output_type": "stream",
     "text": [
      "INFO: nprophet.config - __post_init__: Note: Fourier-based seasonality regularization is experimental.\n",
      "INFO:nprophet.config:Note: Fourier-based seasonality regularization is experimental.\n",
      "WARNING: nprophet - fit: Parts of code may break if using other than daily data.\n",
      "WARNING:nprophet:Parts of code may break if using other than daily data.\n",
      "INFO: nprophet.utils - set_auto_seasonalities: Disabling daily seasonality. Run NeuralProphet with daily_seasonality=True to override this.\n",
      "INFO:nprophet.utils:Disabling daily seasonality. Run NeuralProphet with daily_seasonality=True to override this.\n",
      "INFO: nprophet.config - set_auto_batch_epoch: Auto-set batch_size to 8\n",
      "INFO:nprophet.config:Auto-set batch_size to 8\n",
      "INFO: nprophet.config - set_auto_batch_epoch: Auto-set epochs to 162\n",
      "INFO:nprophet.config:Auto-set epochs to 162\n"
     ]
    },
    {
     "data": {
      "application/vnd.jupyter.widget-view+json": {
       "model_id": "4307f43eed294773960a763df7ea9b2d",
       "version_major": 2,
       "version_minor": 0
      },
      "text/plain": [
       "  0%|          | 0/100 [00:00<?, ?it/s]"
      ]
     },
     "metadata": {},
     "output_type": "display_data"
    },
    {
     "name": "stderr",
     "output_type": "stream",
     "text": [
      "INFO: nprophet - _lr_range_test: learning rate range test found optimal lr: 1.52E-01\n",
      "INFO:nprophet:learning rate range test found optimal lr: 1.52E-01\n",
      "Epoch[162/162]: 100%|██████████| 162/162 [00:09<00:00, 16.86it/s, SmoothL1Loss=0.00019, MAE=0.0263, RegLoss=4.53e-5]\n"
     ]
    }
   ],
   "source": [
    "m = NeuralProphet(\n",
    "    n_changepoints=200,\n",
    "    yearly_seasonality=15,\n",
    "    weekly_seasonality=3,\n",
    "    seasonality_reg=30,\n",
    "    num_hidden_layers=20,\n",
    ")\n",
    "metrics = m.fit(df, freq=freq)"
   ]
  },
  {
   "cell_type": "code",
   "execution_count": 308,
   "metadata": {
    "executionInfo": {
     "elapsed": 12,
     "status": "ok",
     "timestamp": 1631685476255,
     "user": {
      "displayName": "Bosang KIM",
      "photoUrl": "https://lh3.googleusercontent.com/a/default-user=s64",
      "userId": "09337160292545321113"
     },
     "user_tz": -540
    },
    "id": "LTkMEpLWN3AN"
   },
   "outputs": [],
   "source": [
    "future = m.make_future_dataframe(df, periods=70, n_historic_predictions=len(df))\n",
    "forecast = m.predict(future)"
   ]
  },
  {
   "cell_type": "code",
   "execution_count": 309,
   "metadata": {
    "colab": {
     "base_uri": "https://localhost:8080/",
     "height": 441
    },
    "executionInfo": {
     "elapsed": 804,
     "status": "ok",
     "timestamp": 1631685478118,
     "user": {
      "displayName": "Bosang KIM",
      "photoUrl": "https://lh3.googleusercontent.com/a/default-user=s64",
      "userId": "09337160292545321113"
     },
     "user_tz": -540
    },
    "id": "ss5jsrTGB2l5",
    "outputId": "04d3b72e-4e23-43d7-a0e2-d33c9ba97c23"
   },
   "outputs": [
    {
     "data": {
      "image/png": "[encoded data removed]",
      "text/plain": [
       "<Figure size 720x432 with 1 Axes>"
      ]
     },
     "metadata": {},
     "output_type": "display_data"
    }
   ],
   "source": [
    "forecasts_plot = m.plot(forecast)"
   ]
  },
  {
   "cell_type": "code",
   "execution_count": 310,
   "metadata": {
    "executionInfo": {
     "elapsed": 16,
     "status": "ok",
     "timestamp": 1631685478118,
     "user": {
      "displayName": "Bosang KIM",
      "photoUrl": "https://lh3.googleusercontent.com/a/default-user=s64",
      "userId": "09337160292545321113"
     },
     "user_tz": -540
    },
    "id": "r5JLW9f5ORQ3"
   },
   "outputs": [],
   "source": [
    "a = pd.DataFrame(columns=['ds', 'y', 'yhat1', 'residual1', 'trend', 'season_yearly'])\n",
    "for i in val_date:\n",
    "  a = a.append(forecast.iloc[forecast.loc[forecast['ds']==i].index])\n",
    "a.reset_index(drop=True, inplace = True)"
   ]
  },
  {
   "cell_type": "code",
   "execution_count": 311,
   "metadata": {
    "colab": {
     "base_uri": "https://localhost:8080/"
    },
    "executionInfo": {
     "elapsed": 16,
     "status": "ok",
     "timestamp": 1631685478119,
     "user": {
      "displayName": "Bosang KIM",
      "photoUrl": "https://lh3.googleusercontent.com/a/default-user=s64",
      "userId": "09337160292545321113"
     },
     "user_tz": -540
    },
    "id": "-XGWV1bHOSf9",
    "outputId": "0697fb8e-a191-4cb0-e9a4-a84f91724d43"
   },
   "outputs": [
    {
     "data": {
      "text/plain": [
       "0.8026160004094812"
      ]
     },
     "execution_count": 311,
     "metadata": {},
     "output_type": "execute_result"
    }
   ],
   "source": [
    "# rmse\n",
    "rmse(val_price, a['yhat1'])"
   ]
  },
  {
   "cell_type": "markdown",
   "metadata": {
    "id": "bx1VmIzRR8tI"
   },
   "source": [
    "# 최적 하이퍼 파라미터\n"
   ]
  },
  {
   "cell_type": "code",
   "execution_count": 312,
   "metadata": {
    "executionInfo": {
     "elapsed": 11,
     "status": "ok",
     "timestamp": 1631685478119,
     "user": {
      "displayName": "Bosang KIM",
      "photoUrl": "https://lh3.googleusercontent.com/a/default-user=s64",
      "userId": "09337160292545321113"
     },
     "user_tz": -540
    },
    "id": "VW8XKfK8UL3p"
   },
   "outputs": [],
   "source": [
    "## neural prophet\n",
    "epochs = 1000\n",
    "# batch_size = 64\n",
    "learning_rate = 0.005\n",
    "\n",
    "\n",
    "# AR net \n",
    "n_forecasts = 52 # 예측 기간의 크기  # future_periods랑 같아야한다. \n",
    "num_hidden_layers = 20 # AR-net compelxity 조절 \n",
    "ar_sparsity = 0.8  # 0-1, 0에 가까울수록 sparse함 \n",
    "\n",
    "# d_hidden = 64 \n",
    "# trend_smoothness = 0.5\n",
    "n_changepoints = 200 # 변화점(changepoint)의 갯수 설정 \n",
    "changepoints_range = 1.0 # 변화점을 전체 데이터셋에서 몇 퍼센트 감지할지\n",
    "trend_reg = 0.03\n",
    "seasonality_reg=30\n",
    "\n",
    "#n_lags = 5  # >error : lambda delay가 없다"
   ]
  },
  {
   "cell_type": "code",
   "execution_count": 313,
   "metadata": {
    "colab": {
     "base_uri": "https://localhost:8080/",
     "height": 621
    },
    "executionInfo": {
     "elapsed": 62303,
     "status": "ok",
     "timestamp": 1631685540412,
     "user": {
      "displayName": "Bosang KIM",
      "photoUrl": "https://lh3.googleusercontent.com/a/default-user=s64",
      "userId": "09337160292545321113"
     },
     "user_tz": -540
    },
    "id": "ZT9Z-nFXWnOh",
    "outputId": "7ec537cf-083b-44b0-89a2-936cbd16f6e1"
   },
   "outputs": [
    {
     "data": {
      "image/png": "[encoded data removed]",
      "text/plain": [
       "<Figure size 864x576 with 2 Axes>"
      ]
     },
     "metadata": {
      "needs_background": "light"
     },
     "output_type": "display_data"
    },
    {
     "name": "stderr",
     "output_type": "stream",
     "text": [
      "\r",
      "Epoch[1000/1000]: 100%|██████████| 1000/1000 [01:01<00:00, 16.16it/s, SmoothL1Loss=0.000189, MAE=0.0267, RegLoss=0.000856, MAE_val=0.0155, SmoothL1Loss_val=6.44e-5]\n"
     ]
    },
    {
     "data": {
      "text/plain": [
       "<neuralprophet.forecaster.NeuralProphet at 0x7fcd54727610>"
      ]
     },
     "execution_count": 313,
     "metadata": {},
     "output_type": "execute_result"
    }
   ],
   "source": [
    "nprophet = NeuralProphet(\n",
    "            yearly_seasonality=False, \n",
    "            weekly_seasonality=True, \n",
    "            daily_seasonality=True,\n",
    "            learning_rate=learning_rate, \n",
    "            changepoints_range=changepoints_range, \n",
    "            n_forecasts=n_forecasts,\n",
    "            ar_sparsity=ar_sparsity, \n",
    "            n_changepoints=n_changepoints, \n",
    "            growth='logistic', \n",
    "            seasonality_mode='multiplicative', \n",
    "            trend_reg=trend_reg,\n",
    "            num_hidden_layers=num_hidden_layers,\n",
    "            seasonality_reg = seasonality_reg\n",
    "        )\n",
    "\n",
    "nprophet.fit(df, plot_live_loss=True, epochs=epochs, freq=freq, validate_each_epoch=True, valid_p=0.1)\n",
    "nprophet.highlight_nth_step_ahead_of_each_forecast(step_number=nprophet.n_forecasts)"
   ]
  },
  {
   "cell_type": "code",
   "execution_count": 314,
   "metadata": {
    "colab": {
     "base_uri": "https://localhost:8080/",
     "height": 240
    },
    "executionInfo": {
     "elapsed": 17,
     "status": "ok",
     "timestamp": 1631685540413,
     "user": {
      "displayName": "Bosang KIM",
      "photoUrl": "https://lh3.googleusercontent.com/a/default-user=s64",
      "userId": "09337160292545321113"
     },
     "user_tz": -540
    },
    "id": "a1hG0JP_WstA",
    "outputId": "939f5c73-3e70-40a7-94b2-3b12549ec319"
   },
   "outputs": [
    {
     "name": "stderr",
     "output_type": "stream",
     "text": [
      "WARNING: nprophet - make_future_dataframe: Insufficient data for 300 historic forecasts, reduced to 197.\n",
      "WARNING:nprophet:Insufficient data for 300 historic forecasts, reduced to 197.\n"
     ]
    },
    {
     "data": {
      "text/html": [
       "<div>\n",
       "<style scoped>\n",
       "    .dataframe tbody tr th:only-of-type {\n",
       "        vertical-align: middle;\n",
       "    }\n",
       "\n",
       "    .dataframe tbody tr th {\n",
       "        vertical-align: top;\n",
       "    }\n",
       "\n",
       "    .dataframe thead th {\n",
       "        text-align: right;\n",
       "    }\n",
       "</style>\n",
       "<table border=\"1\" class=\"dataframe\">\n",
       "  <thead>\n",
       "    <tr style=\"text-align: right;\">\n",
       "      <th></th>\n",
       "      <th>ds</th>\n",
       "      <th>y</th>\n",
       "      <th>yhat1</th>\n",
       "      <th>residual1</th>\n",
       "      <th>trend</th>\n",
       "      <th>season_weekly</th>\n",
       "      <th>season_daily</th>\n",
       "    </tr>\n",
       "  </thead>\n",
       "  <tbody>\n",
       "    <tr>\n",
       "      <th>244</th>\n",
       "      <td>2020-11-30</td>\n",
       "      <td>NaN</td>\n",
       "      <td>9.756210</td>\n",
       "      <td>NaN</td>\n",
       "      <td>9.756209</td>\n",
       "      <td>-1.664207e-08</td>\n",
       "      <td>8.122704e-08</td>\n",
       "    </tr>\n",
       "    <tr>\n",
       "      <th>245</th>\n",
       "      <td>2020-12-07</td>\n",
       "      <td>NaN</td>\n",
       "      <td>9.748356</td>\n",
       "      <td>NaN</td>\n",
       "      <td>9.748356</td>\n",
       "      <td>-1.664207e-08</td>\n",
       "      <td>8.122704e-08</td>\n",
       "    </tr>\n",
       "    <tr>\n",
       "      <th>246</th>\n",
       "      <td>2020-12-14</td>\n",
       "      <td>NaN</td>\n",
       "      <td>9.740503</td>\n",
       "      <td>NaN</td>\n",
       "      <td>9.740502</td>\n",
       "      <td>-1.664207e-08</td>\n",
       "      <td>8.122704e-08</td>\n",
       "    </tr>\n",
       "    <tr>\n",
       "      <th>247</th>\n",
       "      <td>2020-12-21</td>\n",
       "      <td>NaN</td>\n",
       "      <td>9.732649</td>\n",
       "      <td>NaN</td>\n",
       "      <td>9.732649</td>\n",
       "      <td>-1.664207e-08</td>\n",
       "      <td>8.122704e-08</td>\n",
       "    </tr>\n",
       "    <tr>\n",
       "      <th>248</th>\n",
       "      <td>2020-12-28</td>\n",
       "      <td>NaN</td>\n",
       "      <td>9.724796</td>\n",
       "      <td>NaN</td>\n",
       "      <td>9.724795</td>\n",
       "      <td>-1.664207e-08</td>\n",
       "      <td>8.122704e-08</td>\n",
       "    </tr>\n",
       "  </tbody>\n",
       "</table>\n",
       "</div>"
      ],
      "text/plain": [
       "            ds   y     yhat1  residual1     trend  season_weekly  season_daily\n",
       "244 2020-11-30 NaN  9.756210        NaN  9.756209  -1.664207e-08  8.122704e-08\n",
       "245 2020-12-07 NaN  9.748356        NaN  9.748356  -1.664207e-08  8.122704e-08\n",
       "246 2020-12-14 NaN  9.740503        NaN  9.740502  -1.664207e-08  8.122704e-08\n",
       "247 2020-12-21 NaN  9.732649        NaN  9.732649  -1.664207e-08  8.122704e-08\n",
       "248 2020-12-28 NaN  9.724796        NaN  9.724795  -1.664207e-08  8.122704e-08"
      ]
     },
     "execution_count": 314,
     "metadata": {},
     "output_type": "execute_result"
    }
   ],
   "source": [
    "future = nprophet.make_future_dataframe(df, periods=52, n_historic_predictions=300)\n",
    "forecast = nprophet.predict(future)\n",
    "forecast[['ds', 'y', 'yhat1', 'trend']].tail(5)\n",
    "forecast.tail()"
   ]
  },
  {
   "cell_type": "code",
   "execution_count": 315,
   "metadata": {
    "executionInfo": {
     "elapsed": 13,
     "status": "ok",
     "timestamp": 1631685540413,
     "user": {
      "displayName": "Bosang KIM",
      "photoUrl": "https://lh3.googleusercontent.com/a/default-user=s64",
      "userId": "09337160292545321113"
     },
     "user_tz": -540
    },
    "id": "r0rrvCLwXQzE"
   },
   "outputs": [],
   "source": [
    "a = pd.DataFrame(columns=['ds', 'y', 'yhat1', 'residual1', 'trend', 'season_yearly'])\n",
    "for i in val_date:\n",
    "  a = a.append(forecast.iloc[forecast.loc[forecast['ds']==i].index])\n",
    "a.reset_index(drop=True, inplace = True)"
   ]
  },
  {
   "cell_type": "code",
   "execution_count": 316,
   "metadata": {
    "colab": {
     "base_uri": "https://localhost:8080/"
    },
    "executionInfo": {
     "elapsed": 13,
     "status": "ok",
     "timestamp": 1631685540413,
     "user": {
      "displayName": "Bosang KIM",
      "photoUrl": "https://lh3.googleusercontent.com/a/default-user=s64",
      "userId": "09337160292545321113"
     },
     "user_tz": -540
    },
    "id": "jJDYBprqXhpn",
    "outputId": "54cb0fd1-6c1c-4532-eaf6-c0e9ec86ead5"
   },
   "outputs": [
    {
     "data": {
      "text/plain": [
       "0.7787814615854044"
      ]
     },
     "execution_count": 316,
     "metadata": {},
     "output_type": "execute_result"
    }
   ],
   "source": [
    "rmse(val_price, a['yhat1'])"
   ]
  },
  {
   "cell_type": "code",
   "execution_count": 317,
   "metadata": {
    "colab": {
     "base_uri": "https://localhost:8080/",
     "height": 865
    },
    "executionInfo": {
     "elapsed": 728,
     "status": "ok",
     "timestamp": 1631685541131,
     "user": {
      "displayName": "Bosang KIM",
      "photoUrl": "https://lh3.googleusercontent.com/a/default-user=s64",
      "userId": "09337160292545321113"
     },
     "user_tz": -540
    },
    "id": "uuK3CPpaB791",
    "outputId": "183bc9f2-40de-4bd5-8e8d-831fd9412aed"
   },
   "outputs": [
    {
     "data": {
      "image/png": "[encoded data removed]",
      "text/plain": [
       "<Figure size 720x432 with 1 Axes>"
      ]
     },
     "execution_count": 317,
     "metadata": {},
     "output_type": "execute_result"
    },
    {
     "data": {
      "image/png": "[encoded data removed]",
      "text/plain": [
       "<Figure size 720x432 with 1 Axes>"
      ]
     },
     "metadata": {},
     "output_type": "display_data"
    }
   ],
   "source": [
    "nprophet.plot(a)"
   ]
  },
  {
   "cell_type": "markdown",
   "metadata": {
    "id": "WDjQswhMbawt"
   },
   "source": [
    "# 최적 하이퍼 파라미터 ver.2"
   ]
  },
  {
   "cell_type": "code",
   "execution_count": null,
   "metadata": {
    "id": "tKkuuxdFeBR2"
   },
   "outputs": [],
   "source": [
    "## neural prophet\n",
    "epochs = 1000\n",
    "# batch_size = 64\n",
    "learning_rate = 0.01\n",
    "\n",
    "\n",
    "# AR net \n",
    "n_forecasts = 52 # 예측 기간의 크기  # future_periods랑 같아야한다. \n",
    "num_hidden_layers = 20 # AR-net compelxity 조절 \n",
    "ar_sparsity = 0.8  # 0-1, 0에 가까울수록 sparse함 \n",
    "\n",
    "# d_hidden = 64 \n",
    "# trend_smoothness = 0.5\n",
    "n_changepoints = 200 # 변화점(changepoint)의 갯수 설정 \n",
    "changepoints_range = 1.0 # 변화점을 전체 데이터셋에서 몇 퍼센트 감지할지\n",
    "trend_reg = 0.03\n",
    "seasonality_reg=30\n",
    "\n",
    "#n_lags = 5  # >error : lambda delay가 없다"
   ]
  },
  {
   "cell_type": "code",
   "execution_count": null,
   "metadata": {
    "colab": {
     "base_uri": "https://localhost:8080/",
     "height": 621
    },
    "executionInfo": {
     "elapsed": 46677,
     "status": "ok",
     "timestamp": 1631648009192,
     "user": {
      "displayName": "Bosang KIM",
      "photoUrl": "https://lh3.googleusercontent.com/a/default-user=s64",
      "userId": "09337160292545321113"
     },
     "user_tz": -540
    },
    "id": "MhfymZbxeDDN",
    "outputId": "76a8001f-86db-41cd-927b-caa4870db65a"
   },
   "outputs": [
    {
     "data": {
      "image/png": "[encoded data removed]",
      "text/plain": [
       "<Figure size 864x576 with 2 Axes>"
      ]
     },
     "metadata": {
      "needs_background": "light"
     },
     "output_type": "display_data"
    },
    {
     "name": "stderr",
     "output_type": "stream",
     "text": [
      "Epoch[1000/1000]: 100%|██████████| 1000/1000 [00:46<00:00, 21.53it/s, SmoothL1Loss=0.000176, MAE=0.0225, RegLoss=0.00111, MAE_val=0.0517, SmoothL1Loss_val=0.00044]\n"
     ]
    },
    {
     "data": {
      "text/plain": [
       "<neuralprophet.forecaster.NeuralProphet at 0x7f2426b86f50>"
      ]
     },
     "execution_count": 52,
     "metadata": {},
     "output_type": "execute_result"
    }
   ],
   "source": [
    "nprophet = NeuralProphet(\n",
    "            yearly_seasonality=False, \n",
    "            weekly_seasonality=True, \n",
    "            daily_seasonality=True,\n",
    "            learning_rate=learning_rate, \n",
    "            changepoints_range=changepoints_range, \n",
    "            n_forecasts=n_forecasts,\n",
    "            ar_sparsity=ar_sparsity, \n",
    "            n_changepoints=n_changepoints, \n",
    "            growth='logistic', \n",
    "            seasonality_mode='multiplicative', \n",
    "            trend_reg=trend_reg,\n",
    "            num_hidden_layers=num_hidden_layers,\n",
    "            seasonality_reg = seasonality_reg\n",
    "        )\n",
    "\n",
    "nprophet.fit(df, plot_live_loss=True, epochs=epochs, freq=freq, validate_each_epoch=True, valid_p=0.1)\n",
    "nprophet.highlight_nth_step_ahead_of_each_forecast(step_number=nprophet.n_forecasts)"
   ]
  },
  {
   "cell_type": "code",
   "execution_count": null,
   "metadata": {
    "colab": {
     "base_uri": "https://localhost:8080/",
     "height": 222
    },
    "executionInfo": {
     "elapsed": 396,
     "status": "ok",
     "timestamp": 1631648011640,
     "user": {
      "displayName": "Bosang KIM",
      "photoUrl": "https://lh3.googleusercontent.com/a/default-user=s64",
      "userId": "09337160292545321113"
     },
     "user_tz": -540
    },
    "id": "FYE2yWjCeFw9",
    "outputId": "bc55194e-6bff-4b3a-d25a-51b83bb753d1"
   },
   "outputs": [
    {
     "name": "stderr",
     "output_type": "stream",
     "text": [
      "WARNING: nprophet - make_future_dataframe: Insufficient data for 300 historic forecasts, reduced to 197.\n"
     ]
    },
    {
     "data": {
      "text/html": [
       "<div>\n",
       "<style scoped>\n",
       "    .dataframe tbody tr th:only-of-type {\n",
       "        vertical-align: middle;\n",
       "    }\n",
       "\n",
       "    .dataframe tbody tr th {\n",
       "        vertical-align: top;\n",
       "    }\n",
       "\n",
       "    .dataframe thead th {\n",
       "        text-align: right;\n",
       "    }\n",
       "</style>\n",
       "<table border=\"1\" class=\"dataframe\">\n",
       "  <thead>\n",
       "    <tr style=\"text-align: right;\">\n",
       "      <th></th>\n",
       "      <th>ds</th>\n",
       "      <th>y</th>\n",
       "      <th>yhat1</th>\n",
       "      <th>trend</th>\n",
       "    </tr>\n",
       "  </thead>\n",
       "  <tbody>\n",
       "    <tr>\n",
       "      <th>244</th>\n",
       "      <td>2020-11-30</td>\n",
       "      <td>NaN</td>\n",
       "      <td>10.038338</td>\n",
       "      <td>10.038338</td>\n",
       "    </tr>\n",
       "    <tr>\n",
       "      <th>245</th>\n",
       "      <td>2020-12-07</td>\n",
       "      <td>NaN</td>\n",
       "      <td>10.036136</td>\n",
       "      <td>10.036136</td>\n",
       "    </tr>\n",
       "    <tr>\n",
       "      <th>246</th>\n",
       "      <td>2020-12-14</td>\n",
       "      <td>NaN</td>\n",
       "      <td>10.033934</td>\n",
       "      <td>10.033934</td>\n",
       "    </tr>\n",
       "    <tr>\n",
       "      <th>247</th>\n",
       "      <td>2020-12-21</td>\n",
       "      <td>NaN</td>\n",
       "      <td>10.031733</td>\n",
       "      <td>10.031732</td>\n",
       "    </tr>\n",
       "    <tr>\n",
       "      <th>248</th>\n",
       "      <td>2020-12-28</td>\n",
       "      <td>NaN</td>\n",
       "      <td>10.029530</td>\n",
       "      <td>10.029530</td>\n",
       "    </tr>\n",
       "  </tbody>\n",
       "</table>\n",
       "</div>"
      ],
      "text/plain": [
       "            ds   y      yhat1      trend\n",
       "244 2020-11-30 NaN  10.038338  10.038338\n",
       "245 2020-12-07 NaN  10.036136  10.036136\n",
       "246 2020-12-14 NaN  10.033934  10.033934\n",
       "247 2020-12-21 NaN  10.031733  10.031732\n",
       "248 2020-12-28 NaN  10.029530  10.029530"
      ]
     },
     "execution_count": 53,
     "metadata": {},
     "output_type": "execute_result"
    }
   ],
   "source": [
    "future = nprophet.make_future_dataframe(df, periods=52, n_historic_predictions=300)\n",
    "forecast = nprophet.predict(future)\n",
    "forecast[['ds', 'y', 'yhat1', 'trend']].tail(5)"
   ]
  },
  {
   "cell_type": "code",
   "execution_count": null,
   "metadata": {
    "colab": {
     "base_uri": "https://localhost:8080/"
    },
    "executionInfo": {
     "elapsed": 379,
     "status": "ok",
     "timestamp": 1631648013921,
     "user": {
      "displayName": "Bosang KIM",
      "photoUrl": "https://lh3.googleusercontent.com/a/default-user=s64",
      "userId": "09337160292545321113"
     },
     "user_tz": -540
    },
    "id": "12kli-UzeGFv",
    "outputId": "15871492-64dd-4b59-ad9a-c01131f76643"
   },
   "outputs": [
    {
     "data": {
      "text/plain": [
       "0.827206083943835"
      ]
     },
     "execution_count": 54,
     "metadata": {},
     "output_type": "execute_result"
    }
   ],
   "source": [
    "# validation 날짜와 맞는 데이터 추출하기 위한 데이터 프레임\n",
    "a = pd.DataFrame(columns=['ds', 'y', 'yhat1', 'residual1', 'trend', 'season_yearly'])\n",
    "\n",
    "for i in val_date:\n",
    "  a = a.append(forecast.iloc[forecast.loc[forecast['ds']==i].index])\n",
    "a.reset_index(drop=True, inplace = True)\n",
    "rmse(val_price, a['yhat1'])"
   ]
  },
  {
   "cell_type": "markdown",
   "metadata": {
    "id": "EQIqhKwvuI3B"
   },
   "source": [
    "# 최적 하이퍼 파라미터 ver.3"
   ]
  },
  {
   "cell_type": "code",
   "execution_count": null,
   "metadata": {
    "id": "nYOWuU-NeLUI"
   },
   "outputs": [],
   "source": [
    "## neural prophet\n",
    "epochs = 1000\n",
    "# batch_size = 64\n",
    "learning_rate = [0.005, 0.01, 0.015]\n",
    "\n",
    "\n",
    "# AR net \n",
    "n_forecasts = 52 # 예측 기간의 크기  # future_periods랑 같아야한다. \n",
    "num_hidden_layers = [10,20,30] # AR-net compelxity 조절 \n",
    "ar_sparsity = 0.8  # 0-1, 0에 가까울수록 sparse함 \n",
    "\n",
    "# d_hidden = 64 \n",
    "# trend_smoothness = 0.5\n",
    "n_changepoints = [100, 150, 200] # 변화점(changepoint)의 갯수 설정 \n",
    "changepoints_range = 1.0 # 변화점을 전체 데이터셋에서 몇 퍼센트 감지할지\n",
    "trend_reg = 0.03\n",
    "seasonality_reg=30\n",
    "\n",
    "#n_lags = 5  # >error : lambda delay가 없다"
   ]
  },
  {
   "cell_type": "code",
   "execution_count": null,
   "metadata": {
    "colab": {
     "base_uri": "https://localhost:8080/"
    },
    "executionInfo": {
     "elapsed": 1181560,
     "status": "ok",
     "timestamp": 1631649202161,
     "user": {
      "displayName": "Bosang KIM",
      "photoUrl": "https://lh3.googleusercontent.com/a/default-user=s64",
      "userId": "09337160292545321113"
     },
     "user_tz": -540
    },
    "id": "xkC6cpJ1fJ8V",
    "outputId": "0e943cc3-18b0-4bb8-ad63-033d96dbab38"
   },
   "outputs": [
    {
     "name": "stderr",
     "output_type": "stream",
     "text": [
      "WARNING: nprophet - __init__: Changing n_forecasts to 1. Without lags, the forecast can be computed for any future time, independent of lagged values\n",
      "ERROR: nprophet.config - __post_init__: Invalid trend growth 'logistic'. Set to 'linear'\n",
      "INFO: nprophet.config - __post_init__: Note: Trend changepoint regularization is experimental.\n",
      "INFO: nprophet.config - __post_init__: Note: Fourier-based seasonality regularization is experimental.\n",
      "WARNING: nprophet - fit: Parts of code may break if using other than daily data.\n",
      "INFO: nprophet.config - set_auto_batch_epoch: Auto-set batch_size to 8\n",
      "Epoch[1000/1000]: 100%|██████████| 1000/1000 [00:42<00:00, 23.51it/s, SmoothL1Loss=0.000299, MAE=0.0325, RegLoss=0.00121, MAE_val=0.0407, SmoothL1Loss_val=0.000287]\n",
      "WARNING: nprophet - make_future_dataframe: Insufficient data for 300 historic forecasts, reduced to 197.\n",
      "WARNING: nprophet - __init__: Changing n_forecasts to 1. Without lags, the forecast can be computed for any future time, independent of lagged values\n",
      "ERROR: nprophet.config - __post_init__: Invalid trend growth 'logistic'. Set to 'linear'\n",
      "INFO: nprophet.config - __post_init__: Note: Trend changepoint regularization is experimental.\n",
      "INFO: nprophet.config - __post_init__: Note: Fourier-based seasonality regularization is experimental.\n",
      "WARNING: nprophet - fit: Parts of code may break if using other than daily data.\n",
      "INFO: nprophet.config - set_auto_batch_epoch: Auto-set batch_size to 8\n"
     ]
    },
    {
     "name": "stdout",
     "output_type": "stream",
     "text": [
      "42.73682764799992\n"
     ]
    },
    {
     "name": "stderr",
     "output_type": "stream",
     "text": [
      "Epoch[1000/1000]: 100%|██████████| 1000/1000 [00:47<00:00, 21.25it/s, SmoothL1Loss=0.000329, MAE=0.0352, RegLoss=0.00137, MAE_val=0.0528, SmoothL1Loss_val=0.000436]\n",
      "WARNING: nprophet - make_future_dataframe: Insufficient data for 300 historic forecasts, reduced to 197.\n",
      "WARNING: nprophet - __init__: Changing n_forecasts to 1. Without lags, the forecast can be computed for any future time, independent of lagged values\n",
      "ERROR: nprophet.config - __post_init__: Invalid trend growth 'logistic'. Set to 'linear'\n",
      "INFO: nprophet.config - __post_init__: Note: Trend changepoint regularization is experimental.\n",
      "INFO: nprophet.config - __post_init__: Note: Fourier-based seasonality regularization is experimental.\n",
      "WARNING: nprophet - fit: Parts of code may break if using other than daily data.\n",
      "INFO: nprophet.config - set_auto_batch_epoch: Auto-set batch_size to 8\n"
     ]
    },
    {
     "name": "stdout",
     "output_type": "stream",
     "text": [
      "89.99916476599992\n"
     ]
    },
    {
     "name": "stderr",
     "output_type": "stream",
     "text": [
      "Epoch[1000/1000]: 100%|██████████| 1000/1000 [00:42<00:00, 23.28it/s, SmoothL1Loss=0.000183, MAE=0.0246, RegLoss=0.00116, MAE_val=0.0401, SmoothL1Loss_val=0.000279]\n",
      "WARNING: nprophet - make_future_dataframe: Insufficient data for 300 historic forecasts, reduced to 197.\n",
      "WARNING: nprophet - __init__: Changing n_forecasts to 1. Without lags, the forecast can be computed for any future time, independent of lagged values\n",
      "ERROR: nprophet.config - __post_init__: Invalid trend growth 'logistic'. Set to 'linear'\n",
      "INFO: nprophet.config - __post_init__: Note: Trend changepoint regularization is experimental.\n",
      "INFO: nprophet.config - __post_init__: Note: Fourier-based seasonality regularization is experimental.\n",
      "WARNING: nprophet - fit: Parts of code may break if using other than daily data.\n",
      "INFO: nprophet.config - set_auto_batch_epoch: Auto-set batch_size to 8\n"
     ]
    },
    {
     "name": "stdout",
     "output_type": "stream",
     "text": [
      "133.15878236100002\n"
     ]
    },
    {
     "name": "stderr",
     "output_type": "stream",
     "text": [
      "Epoch[1000/1000]: 100%|██████████| 1000/1000 [00:42<00:00, 23.26it/s, SmoothL1Loss=0.000242, MAE=0.0283, RegLoss=0.00116, MAE_val=0.0258, SmoothL1Loss_val=0.000128]\n",
      "WARNING: nprophet - make_future_dataframe: Insufficient data for 300 historic forecasts, reduced to 197.\n",
      "WARNING: nprophet - __init__: Changing n_forecasts to 1. Without lags, the forecast can be computed for any future time, independent of lagged values\n",
      "ERROR: nprophet.config - __post_init__: Invalid trend growth 'logistic'. Set to 'linear'\n",
      "INFO: nprophet.config - __post_init__: Note: Trend changepoint regularization is experimental.\n",
      "INFO: nprophet.config - __post_init__: Note: Fourier-based seasonality regularization is experimental.\n",
      "WARNING: nprophet - fit: Parts of code may break if using other than daily data.\n",
      "INFO: nprophet.config - set_auto_batch_epoch: Auto-set batch_size to 8\n"
     ]
    },
    {
     "name": "stdout",
     "output_type": "stream",
     "text": [
      "43.19222015499986\n"
     ]
    },
    {
     "name": "stderr",
     "output_type": "stream",
     "text": [
      "Epoch[1000/1000]: 100%|██████████| 1000/1000 [00:43<00:00, 23.01it/s, SmoothL1Loss=0.00386, MAE=0.115, RegLoss=0.317, MAE_val=0.0426, SmoothL1Loss_val=0.000326]\n",
      "WARNING: nprophet - make_future_dataframe: Insufficient data for 300 historic forecasts, reduced to 197.\n",
      "WARNING: nprophet - __init__: Changing n_forecasts to 1. Without lags, the forecast can be computed for any future time, independent of lagged values\n",
      "ERROR: nprophet.config - __post_init__: Invalid trend growth 'logistic'. Set to 'linear'\n",
      "INFO: nprophet.config - __post_init__: Note: Trend changepoint regularization is experimental.\n",
      "INFO: nprophet.config - __post_init__: Note: Fourier-based seasonality regularization is experimental.\n",
      "WARNING: nprophet - fit: Parts of code may break if using other than daily data.\n",
      "INFO: nprophet.config - set_auto_batch_epoch: Auto-set batch_size to 8\n"
     ]
    },
    {
     "name": "stdout",
     "output_type": "stream",
     "text": [
      "86.85742786499986\n"
     ]
    },
    {
     "name": "stderr",
     "output_type": "stream",
     "text": [
      "Epoch[1000/1000]: 100%|██████████| 1000/1000 [00:43<00:00, 23.03it/s, SmoothL1Loss=0.00021, MAE=0.0266, RegLoss=0.00114, MAE_val=0.0288, SmoothL1Loss_val=0.000154]\n",
      "WARNING: nprophet - make_future_dataframe: Insufficient data for 300 historic forecasts, reduced to 197.\n",
      "WARNING: nprophet - __init__: Changing n_forecasts to 1. Without lags, the forecast can be computed for any future time, independent of lagged values\n",
      "ERROR: nprophet.config - __post_init__: Invalid trend growth 'logistic'. Set to 'linear'\n",
      "INFO: nprophet.config - __post_init__: Note: Trend changepoint regularization is experimental.\n",
      "INFO: nprophet.config - __post_init__: Note: Fourier-based seasonality regularization is experimental.\n",
      "WARNING: nprophet - fit: Parts of code may break if using other than daily data.\n",
      "INFO: nprophet.config - set_auto_batch_epoch: Auto-set batch_size to 8\n"
     ]
    },
    {
     "name": "stdout",
     "output_type": "stream",
     "text": [
      "130.4900436979999\n"
     ]
    },
    {
     "name": "stderr",
     "output_type": "stream",
     "text": [
      "Epoch[1000/1000]: 100%|██████████| 1000/1000 [00:43<00:00, 23.17it/s, SmoothL1Loss=0.000238, MAE=0.0281, RegLoss=0.00114, MAE_val=0.0471, SmoothL1Loss_val=0.000378]\n",
      "WARNING: nprophet - make_future_dataframe: Insufficient data for 300 historic forecasts, reduced to 197.\n",
      "WARNING: nprophet - __init__: Changing n_forecasts to 1. Without lags, the forecast can be computed for any future time, independent of lagged values\n",
      "ERROR: nprophet.config - __post_init__: Invalid trend growth 'logistic'. Set to 'linear'\n",
      "INFO: nprophet.config - __post_init__: Note: Trend changepoint regularization is experimental.\n",
      "INFO: nprophet.config - __post_init__: Note: Fourier-based seasonality regularization is experimental.\n",
      "WARNING: nprophet - fit: Parts of code may break if using other than daily data.\n",
      "INFO: nprophet.config - set_auto_batch_epoch: Auto-set batch_size to 8\n"
     ]
    },
    {
     "name": "stdout",
     "output_type": "stream",
     "text": [
      "43.352488617999825\n"
     ]
    },
    {
     "name": "stderr",
     "output_type": "stream",
     "text": [
      "Epoch[1000/1000]: 100%|██████████| 1000/1000 [00:43<00:00, 22.98it/s, SmoothL1Loss=0.000213, MAE=0.0266, RegLoss=0.00115, MAE_val=0.0517, SmoothL1Loss_val=0.000431]\n",
      "WARNING: nprophet - make_future_dataframe: Insufficient data for 300 historic forecasts, reduced to 197.\n",
      "WARNING: nprophet - __init__: Changing n_forecasts to 1. Without lags, the forecast can be computed for any future time, independent of lagged values\n",
      "ERROR: nprophet.config - __post_init__: Invalid trend growth 'logistic'. Set to 'linear'\n",
      "INFO: nprophet.config - __post_init__: Note: Trend changepoint regularization is experimental.\n",
      "INFO: nprophet.config - __post_init__: Note: Fourier-based seasonality regularization is experimental.\n",
      "WARNING: nprophet - fit: Parts of code may break if using other than daily data.\n",
      "INFO: nprophet.config - set_auto_batch_epoch: Auto-set batch_size to 8\n"
     ]
    },
    {
     "name": "stdout",
     "output_type": "stream",
     "text": [
      "87.081424964\n"
     ]
    },
    {
     "name": "stderr",
     "output_type": "stream",
     "text": [
      "Epoch[1000/1000]: 100%|██████████| 1000/1000 [00:43<00:00, 23.15it/s, SmoothL1Loss=0.0002, MAE=0.0261, RegLoss=0.00119, MAE_val=0.0325, SmoothL1Loss_val=0.000192]\n",
      "WARNING: nprophet - make_future_dataframe: Insufficient data for 300 historic forecasts, reduced to 197.\n",
      "WARNING: nprophet - __init__: Changing n_forecasts to 1. Without lags, the forecast can be computed for any future time, independent of lagged values\n",
      "ERROR: nprophet.config - __post_init__: Invalid trend growth 'logistic'. Set to 'linear'\n",
      "INFO: nprophet.config - __post_init__: Note: Trend changepoint regularization is experimental.\n",
      "INFO: nprophet.config - __post_init__: Note: Fourier-based seasonality regularization is experimental.\n",
      "WARNING: nprophet - fit: Parts of code may break if using other than daily data.\n",
      "INFO: nprophet.config - set_auto_batch_epoch: Auto-set batch_size to 8\n"
     ]
    },
    {
     "name": "stdout",
     "output_type": "stream",
     "text": [
      "130.47755979\n"
     ]
    },
    {
     "name": "stderr",
     "output_type": "stream",
     "text": [
      "Epoch[1000/1000]: 100%|██████████| 1000/1000 [00:43<00:00, 23.05it/s, SmoothL1Loss=0.000193, MAE=0.0236, RegLoss=0.00103, MAE_val=0.0283, SmoothL1Loss_val=0.000149]\n",
      "WARNING: nprophet - make_future_dataframe: Insufficient data for 300 historic forecasts, reduced to 197.\n",
      "WARNING: nprophet - __init__: Changing n_forecasts to 1. Without lags, the forecast can be computed for any future time, independent of lagged values\n",
      "ERROR: nprophet.config - __post_init__: Invalid trend growth 'logistic'. Set to 'linear'\n",
      "INFO: nprophet.config - __post_init__: Note: Trend changepoint regularization is experimental.\n",
      "INFO: nprophet.config - __post_init__: Note: Fourier-based seasonality regularization is experimental.\n",
      "WARNING: nprophet - fit: Parts of code may break if using other than daily data.\n",
      "INFO: nprophet.config - set_auto_batch_epoch: Auto-set batch_size to 8\n"
     ]
    },
    {
     "name": "stdout",
     "output_type": "stream",
     "text": [
      "43.57884062099993\n"
     ]
    },
    {
     "name": "stderr",
     "output_type": "stream",
     "text": [
      "Epoch[1000/1000]: 100%|██████████| 1000/1000 [00:43<00:00, 23.02it/s, SmoothL1Loss=0.000192, MAE=0.0238, RegLoss=0.00109, MAE_val=0.0279, SmoothL1Loss_val=0.000147]\n",
      "WARNING: nprophet - make_future_dataframe: Insufficient data for 300 historic forecasts, reduced to 197.\n",
      "WARNING: nprophet - __init__: Changing n_forecasts to 1. Without lags, the forecast can be computed for any future time, independent of lagged values\n",
      "ERROR: nprophet.config - __post_init__: Invalid trend growth 'logistic'. Set to 'linear'\n",
      "INFO: nprophet.config - __post_init__: Note: Trend changepoint regularization is experimental.\n",
      "INFO: nprophet.config - __post_init__: Note: Fourier-based seasonality regularization is experimental.\n",
      "WARNING: nprophet - fit: Parts of code may break if using other than daily data.\n",
      "INFO: nprophet.config - set_auto_batch_epoch: Auto-set batch_size to 8\n"
     ]
    },
    {
     "name": "stdout",
     "output_type": "stream",
     "text": [
      "87.231497752\n"
     ]
    },
    {
     "name": "stderr",
     "output_type": "stream",
     "text": [
      "Epoch[1000/1000]: 100%|██████████| 1000/1000 [00:43<00:00, 22.89it/s, SmoothL1Loss=0.000177, MAE=0.0229, RegLoss=0.00106, MAE_val=0.0406, SmoothL1Loss_val=0.000287]\n",
      "WARNING: nprophet - make_future_dataframe: Insufficient data for 300 historic forecasts, reduced to 197.\n",
      "WARNING: nprophet - __init__: Changing n_forecasts to 1. Without lags, the forecast can be computed for any future time, independent of lagged values\n",
      "ERROR: nprophet.config - __post_init__: Invalid trend growth 'logistic'. Set to 'linear'\n",
      "INFO: nprophet.config - __post_init__: Note: Trend changepoint regularization is experimental.\n",
      "INFO: nprophet.config - __post_init__: Note: Fourier-based seasonality regularization is experimental.\n",
      "WARNING: nprophet - fit: Parts of code may break if using other than daily data.\n",
      "INFO: nprophet.config - set_auto_batch_epoch: Auto-set batch_size to 8\n"
     ]
    },
    {
     "name": "stdout",
     "output_type": "stream",
     "text": [
      "131.111195404\n"
     ]
    },
    {
     "name": "stderr",
     "output_type": "stream",
     "text": [
      "Epoch[1000/1000]: 100%|██████████| 1000/1000 [00:44<00:00, 22.62it/s, SmoothL1Loss=0.000208, MAE=0.0248, RegLoss=0.00106, MAE_val=0.0386, SmoothL1Loss_val=0.00025]\n",
      "WARNING: nprophet - make_future_dataframe: Insufficient data for 300 historic forecasts, reduced to 197.\n",
      "WARNING: nprophet - __init__: Changing n_forecasts to 1. Without lags, the forecast can be computed for any future time, independent of lagged values\n",
      "ERROR: nprophet.config - __post_init__: Invalid trend growth 'logistic'. Set to 'linear'\n",
      "INFO: nprophet.config - __post_init__: Note: Trend changepoint regularization is experimental.\n",
      "INFO: nprophet.config - __post_init__: Note: Fourier-based seasonality regularization is experimental.\n",
      "WARNING: nprophet - fit: Parts of code may break if using other than daily data.\n",
      "INFO: nprophet.config - set_auto_batch_epoch: Auto-set batch_size to 8\n"
     ]
    },
    {
     "name": "stdout",
     "output_type": "stream",
     "text": [
      "44.408947319999925\n"
     ]
    },
    {
     "name": "stderr",
     "output_type": "stream",
     "text": [
      "Epoch[1000/1000]: 100%|██████████| 1000/1000 [00:43<00:00, 22.92it/s, SmoothL1Loss=0.00375, MAE=0.11, RegLoss=0.317, MAE_val=0.052, SmoothL1Loss_val=0.000465]\n",
      "WARNING: nprophet - make_future_dataframe: Insufficient data for 300 historic forecasts, reduced to 197.\n",
      "WARNING: nprophet - __init__: Changing n_forecasts to 1. Without lags, the forecast can be computed for any future time, independent of lagged values\n",
      "ERROR: nprophet.config - __post_init__: Invalid trend growth 'logistic'. Set to 'linear'\n",
      "INFO: nprophet.config - __post_init__: Note: Trend changepoint regularization is experimental.\n",
      "INFO: nprophet.config - __post_init__: Note: Fourier-based seasonality regularization is experimental.\n",
      "WARNING: nprophet - fit: Parts of code may break if using other than daily data.\n",
      "INFO: nprophet.config - set_auto_batch_epoch: Auto-set batch_size to 8\n"
     ]
    },
    {
     "name": "stdout",
     "output_type": "stream",
     "text": [
      "88.23461069700011\n"
     ]
    },
    {
     "name": "stderr",
     "output_type": "stream",
     "text": [
      "Epoch[1000/1000]: 100%|██████████| 1000/1000 [00:43<00:00, 23.07it/s, SmoothL1Loss=0.00333, MAE=0.103, RegLoss=0.316, MAE_val=0.0525, SmoothL1Loss_val=0.00046]\n",
      "WARNING: nprophet - make_future_dataframe: Insufficient data for 300 historic forecasts, reduced to 197.\n",
      "WARNING: nprophet - __init__: Changing n_forecasts to 1. Without lags, the forecast can be computed for any future time, independent of lagged values\n",
      "ERROR: nprophet.config - __post_init__: Invalid trend growth 'logistic'. Set to 'linear'\n",
      "INFO: nprophet.config - __post_init__: Note: Trend changepoint regularization is experimental.\n",
      "INFO: nprophet.config - __post_init__: Note: Fourier-based seasonality regularization is experimental.\n",
      "WARNING: nprophet - fit: Parts of code may break if using other than daily data.\n",
      "INFO: nprophet.config - set_auto_batch_epoch: Auto-set batch_size to 8\n"
     ]
    },
    {
     "name": "stdout",
     "output_type": "stream",
     "text": [
      "131.77529928599984\n"
     ]
    },
    {
     "name": "stderr",
     "output_type": "stream",
     "text": [
      "Epoch[1000/1000]: 100%|██████████| 1000/1000 [00:43<00:00, 22.85it/s, SmoothL1Loss=0.00019, MAE=0.0235, RegLoss=0.00105, MAE_val=0.0404, SmoothL1Loss_val=0.000279]\n",
      "WARNING: nprophet - make_future_dataframe: Insufficient data for 300 historic forecasts, reduced to 197.\n",
      "WARNING: nprophet - __init__: Changing n_forecasts to 1. Without lags, the forecast can be computed for any future time, independent of lagged values\n",
      "ERROR: nprophet.config - __post_init__: Invalid trend growth 'logistic'. Set to 'linear'\n",
      "INFO: nprophet.config - __post_init__: Note: Trend changepoint regularization is experimental.\n",
      "INFO: nprophet.config - __post_init__: Note: Fourier-based seasonality regularization is experimental.\n",
      "WARNING: nprophet - fit: Parts of code may break if using other than daily data.\n",
      "INFO: nprophet.config - set_auto_batch_epoch: Auto-set batch_size to 8\n"
     ]
    },
    {
     "name": "stdout",
     "output_type": "stream",
     "text": [
      "43.95945885500032\n"
     ]
    },
    {
     "name": "stderr",
     "output_type": "stream",
     "text": [
      "Epoch[1000/1000]: 100%|██████████| 1000/1000 [00:42<00:00, 23.28it/s, SmoothL1Loss=0.00019, MAE=0.0237, RegLoss=0.00107, MAE_val=0.0429, SmoothL1Loss_val=0.000314]\n",
      "WARNING: nprophet - make_future_dataframe: Insufficient data for 300 historic forecasts, reduced to 197.\n",
      "WARNING: nprophet - __init__: Changing n_forecasts to 1. Without lags, the forecast can be computed for any future time, independent of lagged values\n",
      "ERROR: nprophet.config - __post_init__: Invalid trend growth 'logistic'. Set to 'linear'\n",
      "INFO: nprophet.config - __post_init__: Note: Trend changepoint regularization is experimental.\n",
      "INFO: nprophet.config - __post_init__: Note: Fourier-based seasonality regularization is experimental.\n",
      "WARNING: nprophet - fit: Parts of code may break if using other than daily data.\n",
      "INFO: nprophet.config - set_auto_batch_epoch: Auto-set batch_size to 8\n"
     ]
    },
    {
     "name": "stdout",
     "output_type": "stream",
     "text": [
      "87.1097074180002\n"
     ]
    },
    {
     "name": "stderr",
     "output_type": "stream",
     "text": [
      "Epoch[1000/1000]: 100%|██████████| 1000/1000 [00:43<00:00, 23.10it/s, SmoothL1Loss=0.000179, MAE=0.0226, RegLoss=0.00109, MAE_val=0.0535, SmoothL1Loss_val=0.000469]\n",
      "WARNING: nprophet - make_future_dataframe: Insufficient data for 300 historic forecasts, reduced to 197.\n",
      "WARNING: nprophet - __init__: Changing n_forecasts to 1. Without lags, the forecast can be computed for any future time, independent of lagged values\n",
      "ERROR: nprophet.config - __post_init__: Invalid trend growth 'logistic'. Set to 'linear'\n",
      "INFO: nprophet.config - __post_init__: Note: Trend changepoint regularization is experimental.\n",
      "INFO: nprophet.config - __post_init__: Note: Fourier-based seasonality regularization is experimental.\n",
      "WARNING: nprophet - fit: Parts of code may break if using other than daily data.\n",
      "INFO: nprophet.config - set_auto_batch_epoch: Auto-set batch_size to 8\n"
     ]
    },
    {
     "name": "stdout",
     "output_type": "stream",
     "text": [
      "130.57944685100028\n"
     ]
    },
    {
     "name": "stderr",
     "output_type": "stream",
     "text": [
      "Epoch[1000/1000]: 100%|██████████| 1000/1000 [00:43<00:00, 23.05it/s, SmoothL1Loss=0.00415, MAE=0.116, RegLoss=0.316, MAE_val=0.0518, SmoothL1Loss_val=0.000445]\n",
      "WARNING: nprophet - make_future_dataframe: Insufficient data for 300 historic forecasts, reduced to 197.\n",
      "WARNING: nprophet - __init__: Changing n_forecasts to 1. Without lags, the forecast can be computed for any future time, independent of lagged values\n",
      "ERROR: nprophet.config - __post_init__: Invalid trend growth 'logistic'. Set to 'linear'\n",
      "INFO: nprophet.config - __post_init__: Note: Trend changepoint regularization is experimental.\n",
      "INFO: nprophet.config - __post_init__: Note: Fourier-based seasonality regularization is experimental.\n",
      "WARNING: nprophet - fit: Parts of code may break if using other than daily data.\n",
      "INFO: nprophet.config - set_auto_batch_epoch: Auto-set batch_size to 8\n"
     ]
    },
    {
     "name": "stdout",
     "output_type": "stream",
     "text": [
      "43.572180165999725\n"
     ]
    },
    {
     "name": "stderr",
     "output_type": "stream",
     "text": [
      "Epoch[1000/1000]: 100%|██████████| 1000/1000 [00:43<00:00, 23.06it/s, SmoothL1Loss=0.00018, MAE=0.0224, RegLoss=0.00105, MAE_val=0.0497, SmoothL1Loss_val=0.000404]\n",
      "WARNING: nprophet - make_future_dataframe: Insufficient data for 300 historic forecasts, reduced to 197.\n",
      "WARNING: nprophet - __init__: Changing n_forecasts to 1. Without lags, the forecast can be computed for any future time, independent of lagged values\n",
      "ERROR: nprophet.config - __post_init__: Invalid trend growth 'logistic'. Set to 'linear'\n",
      "INFO: nprophet.config - __post_init__: Note: Trend changepoint regularization is experimental.\n",
      "INFO: nprophet.config - __post_init__: Note: Fourier-based seasonality regularization is experimental.\n",
      "WARNING: nprophet - fit: Parts of code may break if using other than daily data.\n",
      "INFO: nprophet.config - set_auto_batch_epoch: Auto-set batch_size to 8\n"
     ]
    },
    {
     "name": "stdout",
     "output_type": "stream",
     "text": [
      "87.13201452199974\n"
     ]
    },
    {
     "name": "stderr",
     "output_type": "stream",
     "text": [
      "Epoch[1000/1000]: 100%|██████████| 1000/1000 [00:43<00:00, 22.95it/s, SmoothL1Loss=0.000176, MAE=0.022, RegLoss=0.00106, MAE_val=0.0293, SmoothL1Loss_val=0.000161]\n",
      "WARNING: nprophet - make_future_dataframe: Insufficient data for 300 historic forecasts, reduced to 197.\n",
      "WARNING: nprophet - __init__: Changing n_forecasts to 1. Without lags, the forecast can be computed for any future time, independent of lagged values\n",
      "ERROR: nprophet.config - __post_init__: Invalid trend growth 'logistic'. Set to 'linear'\n",
      "INFO: nprophet.config - __post_init__: Note: Trend changepoint regularization is experimental.\n",
      "INFO: nprophet.config - __post_init__: Note: Fourier-based seasonality regularization is experimental.\n",
      "WARNING: nprophet - fit: Parts of code may break if using other than daily data.\n",
      "INFO: nprophet.config - set_auto_batch_epoch: Auto-set batch_size to 8\n"
     ]
    },
    {
     "name": "stdout",
     "output_type": "stream",
     "text": [
      "130.89718467500006\n"
     ]
    },
    {
     "name": "stderr",
     "output_type": "stream",
     "text": [
      "Epoch[1000/1000]: 100%|██████████| 1000/1000 [00:43<00:00, 23.19it/s, SmoothL1Loss=0.00407, MAE=0.115, RegLoss=0.316, MAE_val=0.0489, SmoothL1Loss_val=0.000405]\n",
      "WARNING: nprophet - make_future_dataframe: Insufficient data for 300 historic forecasts, reduced to 197.\n",
      "WARNING: nprophet - __init__: Changing n_forecasts to 1. Without lags, the forecast can be computed for any future time, independent of lagged values\n",
      "ERROR: nprophet.config - __post_init__: Invalid trend growth 'logistic'. Set to 'linear'\n",
      "INFO: nprophet.config - __post_init__: Note: Trend changepoint regularization is experimental.\n",
      "INFO: nprophet.config - __post_init__: Note: Fourier-based seasonality regularization is experimental.\n",
      "WARNING: nprophet - fit: Parts of code may break if using other than daily data.\n",
      "INFO: nprophet.config - set_auto_batch_epoch: Auto-set batch_size to 8\n"
     ]
    },
    {
     "name": "stdout",
     "output_type": "stream",
     "text": [
      "43.31005516699997\n"
     ]
    },
    {
     "name": "stderr",
     "output_type": "stream",
     "text": [
      "Epoch[1000/1000]: 100%|██████████| 1000/1000 [00:43<00:00, 23.15it/s, SmoothL1Loss=0.000185, MAE=0.0225, RegLoss=0.00102, MAE_val=0.0498, SmoothL1Loss_val=0.000409]\n",
      "WARNING: nprophet - make_future_dataframe: Insufficient data for 300 historic forecasts, reduced to 197.\n",
      "WARNING: nprophet - __init__: Changing n_forecasts to 1. Without lags, the forecast can be computed for any future time, independent of lagged values\n",
      "ERROR: nprophet.config - __post_init__: Invalid trend growth 'logistic'. Set to 'linear'\n",
      "INFO: nprophet.config - __post_init__: Note: Trend changepoint regularization is experimental.\n",
      "INFO: nprophet.config - __post_init__: Note: Fourier-based seasonality regularization is experimental.\n",
      "WARNING: nprophet - fit: Parts of code may break if using other than daily data.\n",
      "INFO: nprophet.config - set_auto_batch_epoch: Auto-set batch_size to 8\n"
     ]
    },
    {
     "name": "stdout",
     "output_type": "stream",
     "text": [
      "86.70790640800033\n"
     ]
    },
    {
     "name": "stderr",
     "output_type": "stream",
     "text": [
      "Epoch[1000/1000]: 100%|██████████| 1000/1000 [00:43<00:00, 23.09it/s, SmoothL1Loss=0.000187, MAE=0.0228, RegLoss=0.00106, MAE_val=0.0507, SmoothL1Loss_val=0.000427]\n",
      "WARNING: nprophet - make_future_dataframe: Insufficient data for 300 historic forecasts, reduced to 197.\n",
      "WARNING: nprophet - __init__: Changing n_forecasts to 1. Without lags, the forecast can be computed for any future time, independent of lagged values\n",
      "ERROR: nprophet.config - __post_init__: Invalid trend growth 'logistic'. Set to 'linear'\n",
      "INFO: nprophet.config - __post_init__: Note: Trend changepoint regularization is experimental.\n",
      "INFO: nprophet.config - __post_init__: Note: Fourier-based seasonality regularization is experimental.\n",
      "WARNING: nprophet - fit: Parts of code may break if using other than daily data.\n",
      "INFO: nprophet.config - set_auto_batch_epoch: Auto-set batch_size to 8\n"
     ]
    },
    {
     "name": "stdout",
     "output_type": "stream",
     "text": [
      "130.2292283669999\n"
     ]
    },
    {
     "name": "stderr",
     "output_type": "stream",
     "text": [
      "Epoch[1000/1000]: 100%|██████████| 1000/1000 [00:43<00:00, 23.04it/s, SmoothL1Loss=0.000198, MAE=0.0238, RegLoss=0.00101, MAE_val=0.0373, SmoothL1Loss_val=0.000241]\n",
      "WARNING: nprophet - make_future_dataframe: Insufficient data for 300 historic forecasts, reduced to 197.\n",
      "WARNING: nprophet - __init__: Changing n_forecasts to 1. Without lags, the forecast can be computed for any future time, independent of lagged values\n",
      "ERROR: nprophet.config - __post_init__: Invalid trend growth 'logistic'. Set to 'linear'\n",
      "INFO: nprophet.config - __post_init__: Note: Trend changepoint regularization is experimental.\n",
      "INFO: nprophet.config - __post_init__: Note: Fourier-based seasonality regularization is experimental.\n",
      "WARNING: nprophet - fit: Parts of code may break if using other than daily data.\n",
      "INFO: nprophet.config - set_auto_batch_epoch: Auto-set batch_size to 8\n"
     ]
    },
    {
     "name": "stdout",
     "output_type": "stream",
     "text": [
      "43.622257011999864\n"
     ]
    },
    {
     "name": "stderr",
     "output_type": "stream",
     "text": [
      "Epoch[1000/1000]: 100%|██████████| 1000/1000 [00:43<00:00, 22.76it/s, SmoothL1Loss=0.000194, MAE=0.0232, RegLoss=0.00103, MAE_val=0.05, SmoothL1Loss_val=0.000415]\n",
      "WARNING: nprophet - make_future_dataframe: Insufficient data for 300 historic forecasts, reduced to 197.\n",
      "WARNING: nprophet - __init__: Changing n_forecasts to 1. Without lags, the forecast can be computed for any future time, independent of lagged values\n",
      "ERROR: nprophet.config - __post_init__: Invalid trend growth 'logistic'. Set to 'linear'\n",
      "INFO: nprophet.config - __post_init__: Note: Trend changepoint regularization is experimental.\n",
      "INFO: nprophet.config - __post_init__: Note: Fourier-based seasonality regularization is experimental.\n",
      "WARNING: nprophet - fit: Parts of code may break if using other than daily data.\n",
      "INFO: nprophet.config - set_auto_batch_epoch: Auto-set batch_size to 8\n"
     ]
    },
    {
     "name": "stdout",
     "output_type": "stream",
     "text": [
      "87.76394840800003\n"
     ]
    },
    {
     "name": "stderr",
     "output_type": "stream",
     "text": [
      "Epoch[1000/1000]: 100%|██████████| 1000/1000 [00:44<00:00, 22.32it/s, SmoothL1Loss=0.00338, MAE=0.104, RegLoss=0.316, MAE_val=0.0486, SmoothL1Loss_val=0.000402]\n",
      "WARNING: nprophet - make_future_dataframe: Insufficient data for 300 historic forecasts, reduced to 197.\n"
     ]
    },
    {
     "name": "stdout",
     "output_type": "stream",
     "text": [
      "132.7754235880002\n"
     ]
    }
   ],
   "source": [
    "# 파라미터별 rmse 저장할 데이터 프레임 생성 \n",
    "result = pd.DataFrame(columns=['learning_rate','num_hidden_layers','n_changepoints','rmse'])\n",
    "# 데이터 프레임 row index 변수 생성\n",
    "count=0\n",
    "# 파라미터 조합 반복문 실행\n",
    "for lr in learning_rate:\n",
    "  for layer in num_hidden_layers:\n",
    "    start = timer()\n",
    "    for changepoint in n_changepoints:\n",
    "\n",
    "      nprophet = NeuralProphet(\n",
    "                                yearly_seasonality=False, \n",
    "                                weekly_seasonality=True, \n",
    "                                daily_seasonality=True,\n",
    "                                learning_rate=lr, \n",
    "                                changepoints_range=changepoints_range, \n",
    "                                n_forecasts=n_forecasts,\n",
    "                                ar_sparsity=ar_sparsity, \n",
    "                                n_changepoints=changepoint, \n",
    "                                growth='logistic', \n",
    "                                seasonality_mode='multiplicative', \n",
    "                                trend_reg=trend_reg,\n",
    "                                num_hidden_layers=layer,\n",
    "                                seasonality_reg = seasonality_reg)\n",
    "      \n",
    "      nprophet.fit(df, plot_live_loss=False, epochs=epochs, freq=freq, validate_each_epoch=True, valid_p=0.1)\n",
    "      #nprophet.highlight_nth_step_ahead_of_each_forecast(step_number=nprophet.n_forecasts)\n",
    "      future = nprophet.make_future_dataframe(df, periods=52, n_historic_predictions=300)\n",
    "      forecast = nprophet.predict(future)\n",
    "      a = pd.DataFrame(columns=['ds', 'y', 'yhat1', 'residual1', 'trend', 'season_yearly'])\n",
    "      for i in val_date:\n",
    "        a = a.append(forecast.iloc[forecast.loc[forecast['ds']==i].index])\n",
    "      a.reset_index(drop=True, inplace = True)\n",
    "      result.loc[count] = lr, layer, changepoint, rmse(val_price, a['yhat1'])\n",
    "      count += 1\n",
    "      end = timer()\n",
    "      print(end-start)"
   ]
  },
  {
   "cell_type": "code",
   "execution_count": null,
   "metadata": {
    "colab": {
     "base_uri": "https://localhost:8080/",
     "height": 886
    },
    "executionInfo": {
     "elapsed": 12,
     "status": "ok",
     "timestamp": 1631649202161,
     "user": {
      "displayName": "Bosang KIM",
      "photoUrl": "https://lh3.googleusercontent.com/a/default-user=s64",
      "userId": "09337160292545321113"
     },
     "user_tz": -540
    },
    "id": "YYlG_pJEirTL",
    "outputId": "1d2c659f-8326-4567-99d4-402924cde4ec"
   },
   "outputs": [
    {
     "data": {
      "text/html": [
       "<div>\n",
       "<style scoped>\n",
       "    .dataframe tbody tr th:only-of-type {\n",
       "        vertical-align: middle;\n",
       "    }\n",
       "\n",
       "    .dataframe tbody tr th {\n",
       "        vertical-align: top;\n",
       "    }\n",
       "\n",
       "    .dataframe thead th {\n",
       "        text-align: right;\n",
       "    }\n",
       "</style>\n",
       "<table border=\"1\" class=\"dataframe\">\n",
       "  <thead>\n",
       "    <tr style=\"text-align: right;\">\n",
       "      <th></th>\n",
       "      <th>learning_rate</th>\n",
       "      <th>num_hidden_layers</th>\n",
       "      <th>n_changepoints</th>\n",
       "      <th>rmse</th>\n",
       "    </tr>\n",
       "  </thead>\n",
       "  <tbody>\n",
       "    <tr>\n",
       "      <th>0</th>\n",
       "      <td>0.005</td>\n",
       "      <td>10.0</td>\n",
       "      <td>100.0</td>\n",
       "      <td>0.788047</td>\n",
       "    </tr>\n",
       "    <tr>\n",
       "      <th>1</th>\n",
       "      <td>0.005</td>\n",
       "      <td>10.0</td>\n",
       "      <td>150.0</td>\n",
       "      <td>0.792749</td>\n",
       "    </tr>\n",
       "    <tr>\n",
       "      <th>9</th>\n",
       "      <td>0.010</td>\n",
       "      <td>10.0</td>\n",
       "      <td>100.0</td>\n",
       "      <td>0.799216</td>\n",
       "    </tr>\n",
       "    <tr>\n",
       "      <th>10</th>\n",
       "      <td>0.010</td>\n",
       "      <td>10.0</td>\n",
       "      <td>150.0</td>\n",
       "      <td>0.799579</td>\n",
       "    </tr>\n",
       "    <tr>\n",
       "      <th>5</th>\n",
       "      <td>0.005</td>\n",
       "      <td>20.0</td>\n",
       "      <td>200.0</td>\n",
       "      <td>0.799591</td>\n",
       "    </tr>\n",
       "    <tr>\n",
       "      <th>3</th>\n",
       "      <td>0.005</td>\n",
       "      <td>20.0</td>\n",
       "      <td>100.0</td>\n",
       "      <td>0.801100</td>\n",
       "    </tr>\n",
       "    <tr>\n",
       "      <th>20</th>\n",
       "      <td>0.015</td>\n",
       "      <td>10.0</td>\n",
       "      <td>200.0</td>\n",
       "      <td>0.803057</td>\n",
       "    </tr>\n",
       "    <tr>\n",
       "      <th>8</th>\n",
       "      <td>0.005</td>\n",
       "      <td>30.0</td>\n",
       "      <td>200.0</td>\n",
       "      <td>0.806197</td>\n",
       "    </tr>\n",
       "    <tr>\n",
       "      <th>12</th>\n",
       "      <td>0.010</td>\n",
       "      <td>20.0</td>\n",
       "      <td>100.0</td>\n",
       "      <td>0.806443</td>\n",
       "    </tr>\n",
       "    <tr>\n",
       "      <th>24</th>\n",
       "      <td>0.015</td>\n",
       "      <td>30.0</td>\n",
       "      <td>100.0</td>\n",
       "      <td>0.809232</td>\n",
       "    </tr>\n",
       "    <tr>\n",
       "      <th>15</th>\n",
       "      <td>0.010</td>\n",
       "      <td>30.0</td>\n",
       "      <td>100.0</td>\n",
       "      <td>0.812419</td>\n",
       "    </tr>\n",
       "    <tr>\n",
       "      <th>2</th>\n",
       "      <td>0.005</td>\n",
       "      <td>10.0</td>\n",
       "      <td>200.0</td>\n",
       "      <td>0.814396</td>\n",
       "    </tr>\n",
       "    <tr>\n",
       "      <th>11</th>\n",
       "      <td>0.010</td>\n",
       "      <td>10.0</td>\n",
       "      <td>200.0</td>\n",
       "      <td>0.816049</td>\n",
       "    </tr>\n",
       "    <tr>\n",
       "      <th>16</th>\n",
       "      <td>0.010</td>\n",
       "      <td>30.0</td>\n",
       "      <td>150.0</td>\n",
       "      <td>0.817311</td>\n",
       "    </tr>\n",
       "    <tr>\n",
       "      <th>19</th>\n",
       "      <td>0.015</td>\n",
       "      <td>10.0</td>\n",
       "      <td>150.0</td>\n",
       "      <td>0.822100</td>\n",
       "    </tr>\n",
       "    <tr>\n",
       "      <th>7</th>\n",
       "      <td>0.005</td>\n",
       "      <td>30.0</td>\n",
       "      <td>150.0</td>\n",
       "      <td>0.822667</td>\n",
       "    </tr>\n",
       "    <tr>\n",
       "      <th>22</th>\n",
       "      <td>0.015</td>\n",
       "      <td>20.0</td>\n",
       "      <td>150.0</td>\n",
       "      <td>0.824062</td>\n",
       "    </tr>\n",
       "    <tr>\n",
       "      <th>6</th>\n",
       "      <td>0.005</td>\n",
       "      <td>30.0</td>\n",
       "      <td>100.0</td>\n",
       "      <td>0.825085</td>\n",
       "    </tr>\n",
       "    <tr>\n",
       "      <th>25</th>\n",
       "      <td>0.015</td>\n",
       "      <td>30.0</td>\n",
       "      <td>150.0</td>\n",
       "      <td>0.825777</td>\n",
       "    </tr>\n",
       "    <tr>\n",
       "      <th>23</th>\n",
       "      <td>0.015</td>\n",
       "      <td>20.0</td>\n",
       "      <td>200.0</td>\n",
       "      <td>0.826976</td>\n",
       "    </tr>\n",
       "    <tr>\n",
       "      <th>21</th>\n",
       "      <td>0.015</td>\n",
       "      <td>20.0</td>\n",
       "      <td>100.0</td>\n",
       "      <td>0.827885</td>\n",
       "    </tr>\n",
       "    <tr>\n",
       "      <th>26</th>\n",
       "      <td>0.015</td>\n",
       "      <td>30.0</td>\n",
       "      <td>200.0</td>\n",
       "      <td>0.827972</td>\n",
       "    </tr>\n",
       "    <tr>\n",
       "      <th>18</th>\n",
       "      <td>0.015</td>\n",
       "      <td>10.0</td>\n",
       "      <td>100.0</td>\n",
       "      <td>0.829187</td>\n",
       "    </tr>\n",
       "    <tr>\n",
       "      <th>17</th>\n",
       "      <td>0.010</td>\n",
       "      <td>30.0</td>\n",
       "      <td>200.0</td>\n",
       "      <td>0.829394</td>\n",
       "    </tr>\n",
       "    <tr>\n",
       "      <th>4</th>\n",
       "      <td>0.005</td>\n",
       "      <td>20.0</td>\n",
       "      <td>150.0</td>\n",
       "      <td>0.831189</td>\n",
       "    </tr>\n",
       "    <tr>\n",
       "      <th>14</th>\n",
       "      <td>0.010</td>\n",
       "      <td>20.0</td>\n",
       "      <td>200.0</td>\n",
       "      <td>0.831344</td>\n",
       "    </tr>\n",
       "    <tr>\n",
       "      <th>13</th>\n",
       "      <td>0.010</td>\n",
       "      <td>20.0</td>\n",
       "      <td>150.0</td>\n",
       "      <td>0.836613</td>\n",
       "    </tr>\n",
       "  </tbody>\n",
       "</table>\n",
       "</div>"
      ],
      "text/plain": [
       "    learning_rate  num_hidden_layers  n_changepoints      rmse\n",
       "0           0.005               10.0           100.0  0.788047\n",
       "1           0.005               10.0           150.0  0.792749\n",
       "9           0.010               10.0           100.0  0.799216\n",
       "10          0.010               10.0           150.0  0.799579\n",
       "5           0.005               20.0           200.0  0.799591\n",
       "3           0.005               20.0           100.0  0.801100\n",
       "20          0.015               10.0           200.0  0.803057\n",
       "8           0.005               30.0           200.0  0.806197\n",
       "12          0.010               20.0           100.0  0.806443\n",
       "24          0.015               30.0           100.0  0.809232\n",
       "15          0.010               30.0           100.0  0.812419\n",
       "2           0.005               10.0           200.0  0.814396\n",
       "11          0.010               10.0           200.0  0.816049\n",
       "16          0.010               30.0           150.0  0.817311\n",
       "19          0.015               10.0           150.0  0.822100\n",
       "7           0.005               30.0           150.0  0.822667\n",
       "22          0.015               20.0           150.0  0.824062\n",
       "6           0.005               30.0           100.0  0.825085\n",
       "25          0.015               30.0           150.0  0.825777\n",
       "23          0.015               20.0           200.0  0.826976\n",
       "21          0.015               20.0           100.0  0.827885\n",
       "26          0.015               30.0           200.0  0.827972\n",
       "18          0.015               10.0           100.0  0.829187\n",
       "17          0.010               30.0           200.0  0.829394\n",
       "4           0.005               20.0           150.0  0.831189\n",
       "14          0.010               20.0           200.0  0.831344\n",
       "13          0.010               20.0           150.0  0.836613"
      ]
     },
     "execution_count": 57,
     "metadata": {},
     "output_type": "execute_result"
    }
   ],
   "source": [
    "result.sort_values(by='rmse', ascending=True)"
   ]
  },
  {
   "cell_type": "markdown",
   "metadata": {
    "id": "ZD4lBdPWoj30"
   },
   "source": [
    "## 최적 하이퍼파라미터 적용(10회 실험)\n",
    "\n"
   ]
  },
  {
   "cell_type": "code",
   "execution_count": 318,
   "metadata": {
    "executionInfo": {
     "elapsed": 438,
     "status": "ok",
     "timestamp": 1631685647527,
     "user": {
      "displayName": "Bosang KIM",
      "photoUrl": "https://lh3.googleusercontent.com/a/default-user=s64",
      "userId": "09337160292545321113"
     },
     "user_tz": -540
    },
    "id": "qaqr8OY9oJRT"
   },
   "outputs": [],
   "source": [
    "## neural prophet\n",
    "epochs = 1000\n",
    "#batch_size = 64\n",
    "learning_rate = 0.0005\n",
    "\n",
    "\n",
    "# AR net \n",
    "n_forecasts = 52 # 예측 기간의 크기  # future_periods랑 같아야한다. \n",
    "num_hidden_layers = 10 # AR-net compelxity 조절 \n",
    "ar_sparsity = 0.8  # 0-1, 0에 가까울수록 sparse함 \n",
    "\n",
    "# d_hidden = 64 \n",
    "# trend_smoothness = 0.5\n",
    "n_changepoints = 100 # 변화점(changepoint)의 갯수 설정 \n",
    "changepoints_range = 1.0 # 변화점을 전체 데이터셋에서 몇 퍼센트 감지할지\n",
    "trend_reg = 0.03\n",
    "seasonality_reg=10\n",
    "\n",
    "#n_lags = 5  # >error : lambda delay가 없다"
   ]
  },
  {
   "cell_type": "code",
   "execution_count": 319,
   "metadata": {
    "colab": {
     "base_uri": "https://localhost:8080/"
    },
    "executionInfo": {
     "elapsed": 429525,
     "status": "ok",
     "timestamp": 1631686078541,
     "user": {
      "displayName": "Bosang KIM",
      "photoUrl": "https://lh3.googleusercontent.com/a/default-user=s64",
      "userId": "09337160292545321113"
     },
     "user_tz": -540
    },
    "id": "kVH5Hcn4oStz",
    "outputId": "77bbeb08-0c6e-472f-d6d1-478ee27b6b12"
   },
   "outputs": [
    {
     "name": "stderr",
     "output_type": "stream",
     "text": [
      "WARNING: nprophet - __init__: Changing n_forecasts to 1. Without lags, the forecast can be computed for any future time, independent of lagged values\n",
      "WARNING:nprophet:Changing n_forecasts to 1. Without lags, the forecast can be computed for any future time, independent of lagged values\n",
      "ERROR: nprophet.config - __post_init__: Invalid trend growth 'logistic'. Set to 'linear'\n",
      "ERROR:nprophet.config:Invalid trend growth 'logistic'. Set to 'linear'\n",
      "INFO: nprophet.config - __post_init__: Note: Trend changepoint regularization is experimental.\n",
      "INFO:nprophet.config:Note: Trend changepoint regularization is experimental.\n",
      "INFO: nprophet.config - __post_init__: Note: Fourier-based seasonality regularization is experimental.\n",
      "INFO:nprophet.config:Note: Fourier-based seasonality regularization is experimental.\n",
      "WARNING: nprophet - fit: Parts of code may break if using other than daily data.\n",
      "WARNING:nprophet:Parts of code may break if using other than daily data.\n",
      "INFO: nprophet.config - set_auto_batch_epoch: Auto-set batch_size to 8\n",
      "INFO:nprophet.config:Auto-set batch_size to 8\n",
      "Epoch[1000/1000]: 100%|██████████| 1000/1000 [00:42<00:00, 23.47it/s, SmoothL1Loss=0.000793, MAE=0.0627, RegLoss=0.000743, MAE_val=0.0676, SmoothL1Loss_val=0.000645]\n",
      "WARNING: nprophet - make_future_dataframe: Insufficient data for 300 historic forecasts, reduced to 197.\n",
      "WARNING:nprophet:Insufficient data for 300 historic forecasts, reduced to 197.\n",
      "WARNING: nprophet - __init__: Changing n_forecasts to 1. Without lags, the forecast can be computed for any future time, independent of lagged values\n",
      "WARNING:nprophet:Changing n_forecasts to 1. Without lags, the forecast can be computed for any future time, independent of lagged values\n",
      "ERROR: nprophet.config - __post_init__: Invalid trend growth 'logistic'. Set to 'linear'\n",
      "ERROR:nprophet.config:Invalid trend growth 'logistic'. Set to 'linear'\n",
      "INFO: nprophet.config - __post_init__: Note: Trend changepoint regularization is experimental.\n",
      "INFO:nprophet.config:Note: Trend changepoint regularization is experimental.\n",
      "INFO: nprophet.config - __post_init__: Note: Fourier-based seasonality regularization is experimental.\n",
      "INFO:nprophet.config:Note: Fourier-based seasonality regularization is experimental.\n",
      "WARNING: nprophet - fit: Parts of code may break if using other than daily data.\n",
      "WARNING:nprophet:Parts of code may break if using other than daily data.\n",
      "INFO: nprophet.config - set_auto_batch_epoch: Auto-set batch_size to 8\n",
      "INFO:nprophet.config:Auto-set batch_size to 8\n",
      "Epoch[1000/1000]: 100%|██████████| 1000/1000 [00:42<00:00, 23.74it/s, SmoothL1Loss=0.00275, MAE=0.124, RegLoss=0.000846, MAE_val=0.133, SmoothL1Loss_val=0.00274]\n",
      "WARNING: nprophet - make_future_dataframe: Insufficient data for 300 historic forecasts, reduced to 197.\n",
      "WARNING:nprophet:Insufficient data for 300 historic forecasts, reduced to 197.\n",
      "WARNING: nprophet - __init__: Changing n_forecasts to 1. Without lags, the forecast can be computed for any future time, independent of lagged values\n",
      "WARNING:nprophet:Changing n_forecasts to 1. Without lags, the forecast can be computed for any future time, independent of lagged values\n",
      "ERROR: nprophet.config - __post_init__: Invalid trend growth 'logistic'. Set to 'linear'\n",
      "ERROR:nprophet.config:Invalid trend growth 'logistic'. Set to 'linear'\n",
      "INFO: nprophet.config - __post_init__: Note: Trend changepoint regularization is experimental.\n",
      "INFO:nprophet.config:Note: Trend changepoint regularization is experimental.\n",
      "INFO: nprophet.config - __post_init__: Note: Fourier-based seasonality regularization is experimental.\n",
      "INFO:nprophet.config:Note: Fourier-based seasonality regularization is experimental.\n",
      "WARNING: nprophet - fit: Parts of code may break if using other than daily data.\n",
      "WARNING:nprophet:Parts of code may break if using other than daily data.\n",
      "INFO: nprophet.config - set_auto_batch_epoch: Auto-set batch_size to 8\n",
      "INFO:nprophet.config:Auto-set batch_size to 8\n",
      "Epoch[1000/1000]: 100%|██████████| 1000/1000 [00:42<00:00, 23.56it/s, SmoothL1Loss=0.00101, MAE=0.079, RegLoss=0.000563, MAE_val=0.387, SmoothL1Loss_val=0.0189]\n",
      "WARNING: nprophet - make_future_dataframe: Insufficient data for 300 historic forecasts, reduced to 197.\n",
      "WARNING:nprophet:Insufficient data for 300 historic forecasts, reduced to 197.\n",
      "WARNING: nprophet - __init__: Changing n_forecasts to 1. Without lags, the forecast can be computed for any future time, independent of lagged values\n",
      "WARNING:nprophet:Changing n_forecasts to 1. Without lags, the forecast can be computed for any future time, independent of lagged values\n",
      "ERROR: nprophet.config - __post_init__: Invalid trend growth 'logistic'. Set to 'linear'\n",
      "ERROR:nprophet.config:Invalid trend growth 'logistic'. Set to 'linear'\n",
      "INFO: nprophet.config - __post_init__: Note: Trend changepoint regularization is experimental.\n",
      "INFO:nprophet.config:Note: Trend changepoint regularization is experimental.\n",
      "INFO: nprophet.config - __post_init__: Note: Fourier-based seasonality regularization is experimental.\n",
      "INFO:nprophet.config:Note: Fourier-based seasonality regularization is experimental.\n",
      "WARNING: nprophet - fit: Parts of code may break if using other than daily data.\n",
      "WARNING:nprophet:Parts of code may break if using other than daily data.\n",
      "INFO: nprophet.config - set_auto_batch_epoch: Auto-set batch_size to 8\n",
      "INFO:nprophet.config:Auto-set batch_size to 8\n",
      "Epoch[1000/1000]: 100%|██████████| 1000/1000 [00:42<00:00, 23.58it/s, SmoothL1Loss=0.00126, MAE=0.0814, RegLoss=0.000591, MAE_val=0.109, SmoothL1Loss_val=0.00146]\n",
      "WARNING: nprophet - make_future_dataframe: Insufficient data for 300 historic forecasts, reduced to 197.\n",
      "WARNING:nprophet:Insufficient data for 300 historic forecasts, reduced to 197.\n",
      "WARNING: nprophet - __init__: Changing n_forecasts to 1. Without lags, the forecast can be computed for any future time, independent of lagged values\n",
      "WARNING:nprophet:Changing n_forecasts to 1. Without lags, the forecast can be computed for any future time, independent of lagged values\n",
      "ERROR: nprophet.config - __post_init__: Invalid trend growth 'logistic'. Set to 'linear'\n",
      "ERROR:nprophet.config:Invalid trend growth 'logistic'. Set to 'linear'\n",
      "INFO: nprophet.config - __post_init__: Note: Trend changepoint regularization is experimental.\n",
      "INFO:nprophet.config:Note: Trend changepoint regularization is experimental.\n",
      "INFO: nprophet.config - __post_init__: Note: Fourier-based seasonality regularization is experimental.\n",
      "INFO:nprophet.config:Note: Fourier-based seasonality regularization is experimental.\n",
      "WARNING: nprophet - fit: Parts of code may break if using other than daily data.\n",
      "WARNING:nprophet:Parts of code may break if using other than daily data.\n",
      "INFO: nprophet.config - set_auto_batch_epoch: Auto-set batch_size to 8\n",
      "INFO:nprophet.config:Auto-set batch_size to 8\n",
      "Epoch[1000/1000]: 100%|██████████| 1000/1000 [00:42<00:00, 23.44it/s, SmoothL1Loss=0.00172, MAE=0.0956, RegLoss=0.000635, MAE_val=0.15, SmoothL1Loss_val=0.00276]\n",
      "WARNING: nprophet - make_future_dataframe: Insufficient data for 300 historic forecasts, reduced to 197.\n",
      "WARNING:nprophet:Insufficient data for 300 historic forecasts, reduced to 197.\n",
      "WARNING: nprophet - __init__: Changing n_forecasts to 1. Without lags, the forecast can be computed for any future time, independent of lagged values\n",
      "WARNING:nprophet:Changing n_forecasts to 1. Without lags, the forecast can be computed for any future time, independent of lagged values\n",
      "ERROR: nprophet.config - __post_init__: Invalid trend growth 'logistic'. Set to 'linear'\n",
      "ERROR:nprophet.config:Invalid trend growth 'logistic'. Set to 'linear'\n",
      "INFO: nprophet.config - __post_init__: Note: Trend changepoint regularization is experimental.\n",
      "INFO:nprophet.config:Note: Trend changepoint regularization is experimental.\n",
      "INFO: nprophet.config - __post_init__: Note: Fourier-based seasonality regularization is experimental.\n",
      "INFO:nprophet.config:Note: Fourier-based seasonality regularization is experimental.\n",
      "WARNING: nprophet - fit: Parts of code may break if using other than daily data.\n",
      "WARNING:nprophet:Parts of code may break if using other than daily data.\n",
      "INFO: nprophet.config - set_auto_batch_epoch: Auto-set batch_size to 8\n",
      "INFO:nprophet.config:Auto-set batch_size to 8\n",
      "Epoch[1000/1000]: 100%|██████████| 1000/1000 [00:43<00:00, 23.13it/s, SmoothL1Loss=0.00158, MAE=0.1, RegLoss=0.000605, MAE_val=0.124, SmoothL1Loss_val=0.00179]\n",
      "WARNING: nprophet - make_future_dataframe: Insufficient data for 300 historic forecasts, reduced to 197.\n",
      "WARNING:nprophet:Insufficient data for 300 historic forecasts, reduced to 197.\n",
      "WARNING: nprophet - __init__: Changing n_forecasts to 1. Without lags, the forecast can be computed for any future time, independent of lagged values\n",
      "WARNING:nprophet:Changing n_forecasts to 1. Without lags, the forecast can be computed for any future time, independent of lagged values\n",
      "ERROR: nprophet.config - __post_init__: Invalid trend growth 'logistic'. Set to 'linear'\n",
      "ERROR:nprophet.config:Invalid trend growth 'logistic'. Set to 'linear'\n",
      "INFO: nprophet.config - __post_init__: Note: Trend changepoint regularization is experimental.\n",
      "INFO:nprophet.config:Note: Trend changepoint regularization is experimental.\n",
      "INFO: nprophet.config - __post_init__: Note: Fourier-based seasonality regularization is experimental.\n",
      "INFO:nprophet.config:Note: Fourier-based seasonality regularization is experimental.\n",
      "WARNING: nprophet - fit: Parts of code may break if using other than daily data.\n",
      "WARNING:nprophet:Parts of code may break if using other than daily data.\n",
      "INFO: nprophet.config - set_auto_batch_epoch: Auto-set batch_size to 8\n",
      "INFO:nprophet.config:Auto-set batch_size to 8\n",
      "Epoch[1000/1000]: 100%|██████████| 1000/1000 [00:42<00:00, 23.32it/s, SmoothL1Loss=0.0014, MAE=0.0899, RegLoss=0.000611, MAE_val=0.305, SmoothL1Loss_val=0.012]\n",
      "WARNING: nprophet - make_future_dataframe: Insufficient data for 300 historic forecasts, reduced to 197.\n",
      "WARNING:nprophet:Insufficient data for 300 historic forecasts, reduced to 197.\n",
      "WARNING: nprophet - __init__: Changing n_forecasts to 1. Without lags, the forecast can be computed for any future time, independent of lagged values\n",
      "WARNING:nprophet:Changing n_forecasts to 1. Without lags, the forecast can be computed for any future time, independent of lagged values\n",
      "ERROR: nprophet.config - __post_init__: Invalid trend growth 'logistic'. Set to 'linear'\n",
      "ERROR:nprophet.config:Invalid trend growth 'logistic'. Set to 'linear'\n",
      "INFO: nprophet.config - __post_init__: Note: Trend changepoint regularization is experimental.\n",
      "INFO:nprophet.config:Note: Trend changepoint regularization is experimental.\n",
      "INFO: nprophet.config - __post_init__: Note: Fourier-based seasonality regularization is experimental.\n",
      "INFO:nprophet.config:Note: Fourier-based seasonality regularization is experimental.\n",
      "WARNING: nprophet - fit: Parts of code may break if using other than daily data.\n",
      "WARNING:nprophet:Parts of code may break if using other than daily data.\n",
      "INFO: nprophet.config - set_auto_batch_epoch: Auto-set batch_size to 8\n",
      "INFO:nprophet.config:Auto-set batch_size to 8\n",
      "Epoch[1000/1000]: 100%|██████████| 1000/1000 [00:42<00:00, 23.37it/s, SmoothL1Loss=0.00313, MAE=0.135, RegLoss=0.000803, MAE_val=0.46, SmoothL1Loss_val=0.0274]\n",
      "WARNING: nprophet - make_future_dataframe: Insufficient data for 300 historic forecasts, reduced to 197.\n",
      "WARNING:nprophet:Insufficient data for 300 historic forecasts, reduced to 197.\n",
      "WARNING: nprophet - __init__: Changing n_forecasts to 1. Without lags, the forecast can be computed for any future time, independent of lagged values\n",
      "WARNING:nprophet:Changing n_forecasts to 1. Without lags, the forecast can be computed for any future time, independent of lagged values\n",
      "ERROR: nprophet.config - __post_init__: Invalid trend growth 'logistic'. Set to 'linear'\n",
      "ERROR:nprophet.config:Invalid trend growth 'logistic'. Set to 'linear'\n",
      "INFO: nprophet.config - __post_init__: Note: Trend changepoint regularization is experimental.\n",
      "INFO:nprophet.config:Note: Trend changepoint regularization is experimental.\n",
      "INFO: nprophet.config - __post_init__: Note: Fourier-based seasonality regularization is experimental.\n",
      "INFO:nprophet.config:Note: Fourier-based seasonality regularization is experimental.\n",
      "WARNING: nprophet - fit: Parts of code may break if using other than daily data.\n",
      "WARNING:nprophet:Parts of code may break if using other than daily data.\n",
      "INFO: nprophet.config - set_auto_batch_epoch: Auto-set batch_size to 8\n",
      "INFO:nprophet.config:Auto-set batch_size to 8\n",
      "Epoch[1000/1000]: 100%|██████████| 1000/1000 [00:42<00:00, 23.27it/s, SmoothL1Loss=0.000622, MAE=0.0551, RegLoss=0.00077, MAE_val=0.0273, SmoothL1Loss_val=0.000121]\n",
      "WARNING: nprophet - make_future_dataframe: Insufficient data for 300 historic forecasts, reduced to 197.\n",
      "WARNING:nprophet:Insufficient data for 300 historic forecasts, reduced to 197.\n",
      "WARNING: nprophet - __init__: Changing n_forecasts to 1. Without lags, the forecast can be computed for any future time, independent of lagged values\n",
      "WARNING:nprophet:Changing n_forecasts to 1. Without lags, the forecast can be computed for any future time, independent of lagged values\n",
      "ERROR: nprophet.config - __post_init__: Invalid trend growth 'logistic'. Set to 'linear'\n",
      "ERROR:nprophet.config:Invalid trend growth 'logistic'. Set to 'linear'\n",
      "INFO: nprophet.config - __post_init__: Note: Trend changepoint regularization is experimental.\n",
      "INFO:nprophet.config:Note: Trend changepoint regularization is experimental.\n",
      "INFO: nprophet.config - __post_init__: Note: Fourier-based seasonality regularization is experimental.\n",
      "INFO:nprophet.config:Note: Fourier-based seasonality regularization is experimental.\n",
      "WARNING: nprophet - fit: Parts of code may break if using other than daily data.\n",
      "WARNING:nprophet:Parts of code may break if using other than daily data.\n",
      "INFO: nprophet.config - set_auto_batch_epoch: Auto-set batch_size to 8\n",
      "INFO:nprophet.config:Auto-set batch_size to 8\n",
      "Epoch[1000/1000]: 100%|██████████| 1000/1000 [00:43<00:00, 23.05it/s, SmoothL1Loss=0.00137, MAE=0.0809, RegLoss=0.000728, MAE_val=0.183, SmoothL1Loss_val=0.00437]\n",
      "WARNING: nprophet - make_future_dataframe: Insufficient data for 300 historic forecasts, reduced to 197.\n",
      "WARNING:nprophet:Insufficient data for 300 historic forecasts, reduced to 197.\n"
     ]
    }
   ],
   "source": [
    "result = pd.DataFrame(columns=['learning_rate','num_hidden_layers','n_changepoints','rmse'])\n",
    "count = 0\n",
    "for king in range(10):\n",
    "  nprophet = NeuralProphet(\n",
    "                            yearly_seasonality=False, \n",
    "                            weekly_seasonality=False, \n",
    "                            daily_seasonality=False,\n",
    "                            learning_rate=learning_rate, \n",
    "                            changepoints_range=changepoints_range, \n",
    "                            n_forecasts=n_forecasts,\n",
    "                            ar_sparsity=ar_sparsity, \n",
    "                            n_changepoints=n_changepoints, \n",
    "                            growth='logistic', \n",
    "                            seasonality_mode='multiplicative', \n",
    "                            trend_reg=trend_reg,\n",
    "                            num_hidden_layers=num_hidden_layers,\n",
    "                            seasonality_reg = seasonality_reg)\n",
    "\n",
    "  nprophet.fit(df, plot_live_loss=False, epochs=epochs, freq=freq, validate_each_epoch=True, valid_p=0.1)\n",
    "  #nprophet.highlight_nth_step_ahead_of_each_forecast(step_number=nprophet.n_forecasts)\n",
    "  future = nprophet.make_future_dataframe(df, periods=52, n_historic_predictions=300)\n",
    "  forecast = nprophet.predict(future)\n",
    "  a = pd.DataFrame(columns=['ds', 'y', 'yhat1', 'residual1', 'trend', 'season_yearly'])\n",
    "  for i in val_date:\n",
    "    a = a.append(forecast.iloc[forecast.loc[forecast['ds']==i].index])\n",
    "  a.reset_index(drop=True, inplace = True)\n",
    "  result.loc[count] = learning_rate, num_hidden_layers, n_changepoints, rmse(val_price, a['yhat1'])\n",
    "  count += 1"
   ]
  },
  {
   "cell_type": "code",
   "execution_count": 320,
   "metadata": {
    "colab": {
     "base_uri": "https://localhost:8080/",
     "height": 359
    },
    "executionInfo": {
     "elapsed": 435,
     "status": "ok",
     "timestamp": 1631686459802,
     "user": {
      "displayName": "Bosang KIM",
      "photoUrl": "https://lh3.googleusercontent.com/a/default-user=s64",
      "userId": "09337160292545321113"
     },
     "user_tz": -540
    },
    "id": "mmpdBxObobkM",
    "outputId": "ea6f256d-e6c2-4ed0-8994-788e9f22f7cc"
   },
   "outputs": [
    {
     "data": {
      "text/html": [
       "<div>\n",
       "<style scoped>\n",
       "    .dataframe tbody tr th:only-of-type {\n",
       "        vertical-align: middle;\n",
       "    }\n",
       "\n",
       "    .dataframe tbody tr th {\n",
       "        vertical-align: top;\n",
       "    }\n",
       "\n",
       "    .dataframe thead th {\n",
       "        text-align: right;\n",
       "    }\n",
       "</style>\n",
       "<table border=\"1\" class=\"dataframe\">\n",
       "  <thead>\n",
       "    <tr style=\"text-align: right;\">\n",
       "      <th></th>\n",
       "      <th>learning_rate</th>\n",
       "      <th>num_hidden_layers</th>\n",
       "      <th>n_changepoints</th>\n",
       "      <th>rmse</th>\n",
       "    </tr>\n",
       "  </thead>\n",
       "  <tbody>\n",
       "    <tr>\n",
       "      <th>8</th>\n",
       "      <td>0.0005</td>\n",
       "      <td>10.0</td>\n",
       "      <td>100.0</td>\n",
       "      <td>0.782478</td>\n",
       "    </tr>\n",
       "    <tr>\n",
       "      <th>5</th>\n",
       "      <td>0.0005</td>\n",
       "      <td>10.0</td>\n",
       "      <td>100.0</td>\n",
       "      <td>0.789659</td>\n",
       "    </tr>\n",
       "    <tr>\n",
       "      <th>0</th>\n",
       "      <td>0.0005</td>\n",
       "      <td>10.0</td>\n",
       "      <td>100.0</td>\n",
       "      <td>0.810391</td>\n",
       "    </tr>\n",
       "    <tr>\n",
       "      <th>3</th>\n",
       "      <td>0.0005</td>\n",
       "      <td>10.0</td>\n",
       "      <td>100.0</td>\n",
       "      <td>0.827097</td>\n",
       "    </tr>\n",
       "    <tr>\n",
       "      <th>4</th>\n",
       "      <td>0.0005</td>\n",
       "      <td>10.0</td>\n",
       "      <td>100.0</td>\n",
       "      <td>0.872640</td>\n",
       "    </tr>\n",
       "    <tr>\n",
       "      <th>9</th>\n",
       "      <td>0.0005</td>\n",
       "      <td>10.0</td>\n",
       "      <td>100.0</td>\n",
       "      <td>1.037965</td>\n",
       "    </tr>\n",
       "    <tr>\n",
       "      <th>1</th>\n",
       "      <td>0.0005</td>\n",
       "      <td>10.0</td>\n",
       "      <td>100.0</td>\n",
       "      <td>1.070898</td>\n",
       "    </tr>\n",
       "    <tr>\n",
       "      <th>6</th>\n",
       "      <td>0.0005</td>\n",
       "      <td>10.0</td>\n",
       "      <td>100.0</td>\n",
       "      <td>1.284483</td>\n",
       "    </tr>\n",
       "    <tr>\n",
       "      <th>2</th>\n",
       "      <td>0.0005</td>\n",
       "      <td>10.0</td>\n",
       "      <td>100.0</td>\n",
       "      <td>1.424351</td>\n",
       "    </tr>\n",
       "    <tr>\n",
       "      <th>7</th>\n",
       "      <td>0.0005</td>\n",
       "      <td>10.0</td>\n",
       "      <td>100.0</td>\n",
       "      <td>1.754915</td>\n",
       "    </tr>\n",
       "  </tbody>\n",
       "</table>\n",
       "</div>"
      ],
      "text/plain": [
       "   learning_rate  num_hidden_layers  n_changepoints      rmse\n",
       "8         0.0005               10.0           100.0  0.782478\n",
       "5         0.0005               10.0           100.0  0.789659\n",
       "0         0.0005               10.0           100.0  0.810391\n",
       "3         0.0005               10.0           100.0  0.827097\n",
       "4         0.0005               10.0           100.0  0.872640\n",
       "9         0.0005               10.0           100.0  1.037965\n",
       "1         0.0005               10.0           100.0  1.070898\n",
       "6         0.0005               10.0           100.0  1.284483\n",
       "2         0.0005               10.0           100.0  1.424351\n",
       "7         0.0005               10.0           100.0  1.754915"
      ]
     },
     "execution_count": 320,
     "metadata": {},
     "output_type": "execute_result"
    }
   ],
   "source": [
    "result.sort_values(by='rmse')"
   ]
  },
  {
   "cell_type": "code",
   "execution_count": 321,
   "metadata": {
    "colab": {
     "base_uri": "https://localhost:8080/"
    },
    "executionInfo": {
     "elapsed": 527,
     "status": "ok",
     "timestamp": 1631686462288,
     "user": {
      "displayName": "Bosang KIM",
      "photoUrl": "https://lh3.googleusercontent.com/a/default-user=s64",
      "userId": "09337160292545321113"
     },
     "user_tz": -540
    },
    "id": "H9wQyYzLqeQz",
    "outputId": "85bc9a91-df8c-4838-d490-10d306246e68"
   },
   "outputs": [
    {
     "data": {
      "text/plain": [
       "1.065487805882788"
      ]
     },
     "execution_count": 321,
     "metadata": {},
     "output_type": "execute_result"
    }
   ],
   "source": [
    "np.mean(result['rmse'].values)"
   ]
  },
  {
   "cell_type": "markdown",
   "metadata": {
    "id": "sixyRIQHsQ5P"
   },
   "source": [
    "## Facebook Prophet 실험"
   ]
  },
  {
   "cell_type": "code",
   "execution_count": null,
   "metadata": {
    "id": "OWo88r9AJcVX"
   },
   "outputs": [],
   "source": [
    "# hyperparameter \n",
    "freq = 'W-MON' # 시작일이 월요일이면서, 일주일 간격 "
   ]
  },
  {
   "cell_type": "code",
   "execution_count": null,
   "metadata": {
    "colab": {
     "base_uri": "https://localhost:8080/"
    },
    "executionInfo": {
     "elapsed": 16,
     "status": "ok",
     "timestamp": 1631671649786,
     "user": {
      "displayName": "Bosang KIM",
      "photoUrl": "https://lh3.googleusercontent.com/a/default-user=s64",
      "userId": "09337160292545321113"
     },
     "user_tz": -540
    },
    "id": "vczEDA43Jk8x",
    "outputId": "a42954c8-c78a-4da6-f067-177acf3c3b7a"
   },
   "outputs": [
    {
     "name": "stdout",
     "output_type": "stream",
     "text": [
      "(197, 2)\n"
     ]
    }
   ],
   "source": [
    "## 모델 피팅하기 위해서 dataframe 형태 수정\n",
    "df = pd.DataFrame(columns=['ds', 'y'])\n",
    "df['ds'] = train['REG_DATE'].unique()\n",
    "df['y'] = ts_train\n",
    "print(df.shape)"
   ]
  },
  {
   "cell_type": "code",
   "execution_count": null,
   "metadata": {
    "id": "ykbw1RcWJlKI"
   },
   "outputs": [],
   "source": [
    "# Facebook Prophet 모델 개체 생성 \n",
    "m = Prophet(changepoint_prior_scale=0.03)\n",
    "#m.add_seasonality(name='weekly',period=7, fourier_order=20)\n",
    "#m.add_seasonality(name='monthly', period=30.5, fourier_order=12)\n",
    "#m.add_seasonality(name='quarterly', period=365.25/4,fourier_order=5, prior_scale=15)"
   ]
  },
  {
   "cell_type": "code",
   "execution_count": null,
   "metadata": {
    "colab": {
     "base_uri": "https://localhost:8080/"
    },
    "executionInfo": {
     "elapsed": 498,
     "status": "ok",
     "timestamp": 1631672490303,
     "user": {
      "displayName": "Bosang KIM",
      "photoUrl": "https://lh3.googleusercontent.com/a/default-user=s64",
      "userId": "09337160292545321113"
     },
     "user_tz": -540
    },
    "id": "NFPyu06QJmY8",
    "outputId": "fe59bf5a-1dfc-488d-b239-1d738c99f78c"
   },
   "outputs": [
    {
     "name": "stderr",
     "output_type": "stream",
     "text": [
      "INFO:prophet:Disabling weekly seasonality. Run prophet with weekly_seasonality=True to override this.\n",
      "INFO:prophet:Disabling daily seasonality. Run prophet with daily_seasonality=True to override this.\n"
     ]
    },
    {
     "data": {
      "text/plain": [
       "<prophet.forecaster.Prophet at 0x7fcd5451bbd0>"
      ]
     },
     "execution_count": 258,
     "metadata": {},
     "output_type": "execute_result"
    }
   ],
   "source": [
    "m.fit(df)"
   ]
  },
  {
   "cell_type": "code",
   "execution_count": null,
   "metadata": {
    "id": "UlHruPINJomF"
   },
   "outputs": [],
   "source": [
    "future = m.make_future_dataframe(periods=52, freq=freq)\n",
    "forecast = m.predict(future)  "
   ]
  },
  {
   "cell_type": "code",
   "execution_count": null,
   "metadata": {
    "id": "OpN40jobJp6L"
   },
   "outputs": [],
   "source": [
    "pred_date = forecast.loc[forecast['ds'] > '2020-01-01', ('ds')].unique()"
   ]
  },
  {
   "cell_type": "code",
   "execution_count": null,
   "metadata": {
    "id": "a5_KuUWcJrC_"
   },
   "outputs": [],
   "source": [
    "a = pd.DataFrame(columns=['ds','yhat'])\n",
    "for i in pred_date:\n",
    "  a = a.append(forecast.iloc[forecast.loc[forecast['ds']==i,('ds','yhat')].index])\n",
    "a.reset_index(drop=True, inplace = True)"
   ]
  },
  {
   "cell_type": "code",
   "execution_count": null,
   "metadata": {
    "colab": {
     "base_uri": "https://localhost:8080/"
    },
    "executionInfo": {
     "elapsed": 14,
     "status": "ok",
     "timestamp": 1631672492435,
     "user": {
      "displayName": "Bosang KIM",
      "photoUrl": "https://lh3.googleusercontent.com/a/default-user=s64",
      "userId": "09337160292545321113"
     },
     "user_tz": -540
    },
    "id": "5L1aSsFNJ1XH",
    "outputId": "7360151e-e30e-4b7e-cb3f-ac58bf601f70"
   },
   "outputs": [
    {
     "data": {
      "text/plain": [
       "0.9591933756854065"
      ]
     },
     "execution_count": 262,
     "metadata": {},
     "output_type": "execute_result"
    }
   ],
   "source": [
    "rmse(val_price, a['yhat'])"
   ]
  },
  {
   "cell_type": "code",
   "execution_count": 322,
   "metadata": {
    "colab": {
     "base_uri": "https://localhost:8080/",
     "height": 865
    },
    "executionInfo": {
     "elapsed": 1593,
     "status": "ok",
     "timestamp": 1631686732600,
     "user": {
      "displayName": "Bosang KIM",
      "photoUrl": "https://lh3.googleusercontent.com/a/default-user=s64",
      "userId": "09337160292545321113"
     },
     "user_tz": -540
    },
    "id": "JUPKZrJ5LBY4",
    "outputId": "878387c5-6489-4e0c-8cdc-619d8dd27fad"
   },
   "outputs": [
    {
     "data": {
      "image/png": "[encoded data removed]",
      "text/plain": [
       "<Figure size 720x432 with 1 Axes>"
      ]
     },
     "execution_count": 322,
     "metadata": {},
     "output_type": "execute_result"
    },
    {
     "data": {
      "image/png": "[encoded data removed]",
      "text/plain": [
       "<Figure size 720x432 with 1 Axes>"
      ]
     },
     "metadata": {},
     "output_type": "display_data"
    }
   ],
   "source": [
    "nprophet.plot(forecast)"
   ]
  },
  {
   "cell_type": "code",
   "execution_count": null,
   "metadata": {
    "id": "BYXMixlvG6JZ"
   },
   "outputs": [],
   "source": []
  }
 ],
 "metadata": {
  "colab": {
   "collapsed_sections": [],
   "machine_shape": "hm",
   "name": "attention_neuralprophet(연어).ipynb",
   "provenance": [],
   "toc_visible": true
  },
  "kernelspec": {
   "display_name": "Python 3",
   "language": "python",
   "name": "python3"
  },
  "language_info": {
   "codemirror_mode": {
    "name": "ipython",
    "version": 3
   },
   "file_extension": ".py",
   "mimetype": "text/x-python",
   "name": "python",
   "nbconvert_exporter": "python",
   "pygments_lexer": "ipython3",
   "version": "3.8.8"
  },
  "widgets": {
   "application/vnd.jupyter.widget-state+json": {
    "09115fbc21514236ba75a3e7b69fc077": {
     "model_module": "@jupyter-widgets/controls",
     "model_module_version": "1.5.0",
     "model_name": "HBoxModel",
     "state": {
      "_dom_classes": [],
      "_model_module": "@jupyter-widgets/controls",
      "_model_module_version": "1.5.0",
      "_model_name": "HBoxModel",
      "_view_count": null,
      "_view_module": "@jupyter-widgets/controls",
      "_view_module_version": "1.5.0",
      "_view_name": "HBoxView",
      "box_style": "",
      "children": [
       "IPY_MODEL_2ad9a54355684759b07316864083494b",
       "IPY_MODEL_47ce8d0553104719888b1cc09cb178be",
       "IPY_MODEL_39a886c773114d909828d9133ce0abdb"
      ],
      "layout": "IPY_MODEL_8cb65e3a46b54e81af9cbe3b7ba915f4"
     }
    },
    "1ad6a98388b649a787c6c7ff6b0996ec": {
     "model_module": "@jupyter-widgets/controls",
     "model_module_version": "1.5.0",
     "model_name": "DescriptionStyleModel",
     "state": {
      "_model_module": "@jupyter-widgets/controls",
      "_model_module_version": "1.5.0",
      "_model_name": "DescriptionStyleModel",
      "_view_count": null,
      "_view_module": "@jupyter-widgets/base",
      "_view_module_version": "1.2.0",
      "_view_name": "StyleView",
      "description_width": ""
     }
    },
    "24350986099f47308944911779264fdf": {
     "model_module": "@jupyter-widgets/controls",
     "model_module_version": "1.5.0",
     "model_name": "FloatProgressModel",
     "state": {
      "_dom_classes": [],
      "_model_module": "@jupyter-widgets/controls",
      "_model_module_version": "1.5.0",
      "_model_name": "FloatProgressModel",
      "_view_count": null,
      "_view_module": "@jupyter-widgets/controls",
      "_view_module_version": "1.5.0",
      "_view_name": "ProgressView",
      "bar_style": "danger",
      "description": "",
      "description_tooltip": null,
      "layout": "IPY_MODEL_f17f06206cda4005a5b27a2f60a25dbe",
      "max": 100,
      "min": 0,
      "orientation": "horizontal",
      "style": "IPY_MODEL_82c77d289ee1447fb2d461b305d53c94",
      "value": 89
     }
    },
    "2ad9a54355684759b07316864083494b": {
     "model_module": "@jupyter-widgets/controls",
     "model_module_version": "1.5.0",
     "model_name": "HTMLModel",
     "state": {
      "_dom_classes": [],
      "_model_module": "@jupyter-widgets/controls",
      "_model_module_version": "1.5.0",
      "_model_name": "HTMLModel",
      "_view_count": null,
      "_view_module": "@jupyter-widgets/controls",
      "_view_module_version": "1.5.0",
      "_view_name": "HTMLView",
      "description": "",
      "description_tooltip": null,
      "layout": "IPY_MODEL_f107fd04291c4b86b6fd9352936c8082",
      "placeholder": "​",
      "style": "IPY_MODEL_76894f13bf024e869e750eb104d81cd8",
      "value": "100%"
     }
    },
    "39a886c773114d909828d9133ce0abdb": {
     "model_module": "@jupyter-widgets/controls",
     "model_module_version": "1.5.0",
     "model_name": "HTMLModel",
     "state": {
      "_dom_classes": [],
      "_model_module": "@jupyter-widgets/controls",
      "_model_module_version": "1.5.0",
      "_model_name": "HTMLModel",
      "_view_count": null,
      "_view_module": "@jupyter-widgets/controls",
      "_view_module_version": "1.5.0",
      "_view_name": "HTMLView",
      "description": "",
      "description_tooltip": null,
      "layout": "IPY_MODEL_b030a4ee78814a278189235a19407d01",
      "placeholder": "​",
      "style": "IPY_MODEL_6dee2b0fbc49428ba7d5ad372695429a",
      "value": " 100/100 [00:00&lt;00:00, 446.40it/s]"
     }
    },
    "3dd5b1ccaefb43b8bd0e864b86a292cb": {
     "model_module": "@jupyter-widgets/controls",
     "model_module_version": "1.5.0",
     "model_name": "HTMLModel",
     "state": {
      "_dom_classes": [],
      "_model_module": "@jupyter-widgets/controls",
      "_model_module_version": "1.5.0",
      "_model_name": "HTMLModel",
      "_view_count": null,
      "_view_module": "@jupyter-widgets/controls",
      "_view_module_version": "1.5.0",
      "_view_name": "HTMLView",
      "description": "",
      "description_tooltip": null,
      "layout": "IPY_MODEL_e0d7fa109d854f8096eb612ba50150fa",
      "placeholder": "​",
      "style": "IPY_MODEL_813c532b0ebd47a98e7b518aa01ead78",
      "value": " 87%"
     }
    },
    "4307f43eed294773960a763df7ea9b2d": {
     "model_module": "@jupyter-widgets/controls",
     "model_module_version": "1.5.0",
     "model_name": "HBoxModel",
     "state": {
      "_dom_classes": [],
      "_model_module": "@jupyter-widgets/controls",
      "_model_module_version": "1.5.0",
      "_model_name": "HBoxModel",
      "_view_count": null,
      "_view_module": "@jupyter-widgets/controls",
      "_view_module_version": "1.5.0",
      "_view_name": "HBoxView",
      "box_style": "",
      "children": [
       "IPY_MODEL_655d42fc30e0465692ac37ef4cecbcfd",
       "IPY_MODEL_24350986099f47308944911779264fdf",
       "IPY_MODEL_9117aab9491341bbb4ca02e8ab7c7ee0"
      ],
      "layout": "IPY_MODEL_68be30f8350c4c119fdd07c1b9f231dd"
     }
    },
    "47ce8d0553104719888b1cc09cb178be": {
     "model_module": "@jupyter-widgets/controls",
     "model_module_version": "1.5.0",
     "model_name": "FloatProgressModel",
     "state": {
      "_dom_classes": [],
      "_model_module": "@jupyter-widgets/controls",
      "_model_module_version": "1.5.0",
      "_model_name": "FloatProgressModel",
      "_view_count": null,
      "_view_module": "@jupyter-widgets/controls",
      "_view_module_version": "1.5.0",
      "_view_name": "ProgressView",
      "bar_style": "success",
      "description": "",
      "description_tooltip": null,
      "layout": "IPY_MODEL_7b97cd35a70042bda2aefc83d2574d47",
      "max": 100,
      "min": 0,
      "orientation": "horizontal",
      "style": "IPY_MODEL_e25379e19b92476b803cf631af3cfc6f",
      "value": 100
     }
    },
    "506eb16ed99342b4b2a0b469e307859b": {
     "model_module": "@jupyter-widgets/controls",
     "model_module_version": "1.5.0",
     "model_name": "DescriptionStyleModel",
     "state": {
      "_model_module": "@jupyter-widgets/controls",
      "_model_module_version": "1.5.0",
      "_model_name": "DescriptionStyleModel",
      "_view_count": null,
      "_view_module": "@jupyter-widgets/base",
      "_view_module_version": "1.2.0",
      "_view_name": "StyleView",
      "description_width": ""
     }
    },
    "5da54d609e1e499fbcc57faf5e362847": {
     "model_module": "@jupyter-widgets/controls",
     "model_module_version": "1.5.0",
     "model_name": "HTMLModel",
     "state": {
      "_dom_classes": [],
      "_model_module": "@jupyter-widgets/controls",
      "_model_module_version": "1.5.0",
      "_model_name": "HTMLModel",
      "_view_count": null,
      "_view_module": "@jupyter-widgets/controls",
      "_view_module_version": "1.5.0",
      "_view_name": "HTMLView",
      "description": "",
      "description_tooltip": null,
      "layout": "IPY_MODEL_e9cc35d117764328ac030fe3e0f4ee35",
      "placeholder": "​",
      "style": "IPY_MODEL_506eb16ed99342b4b2a0b469e307859b",
      "value": " 87/100 [00:00&lt;00:00, 397.56it/s]"
     }
    },
    "655d42fc30e0465692ac37ef4cecbcfd": {
     "model_module": "@jupyter-widgets/controls",
     "model_module_version": "1.5.0",
     "model_name": "HTMLModel",
     "state": {
      "_dom_classes": [],
      "_model_module": "@jupyter-widgets/controls",
      "_model_module_version": "1.5.0",
      "_model_name": "HTMLModel",
      "_view_count": null,
      "_view_module": "@jupyter-widgets/controls",
      "_view_module_version": "1.5.0",
      "_view_name": "HTMLView",
      "description": "",
      "description_tooltip": null,
      "layout": "IPY_MODEL_c88d1d57a57a47f3a9ba34107080480d",
      "placeholder": "​",
      "style": "IPY_MODEL_1ad6a98388b649a787c6c7ff6b0996ec",
      "value": " 89%"
     }
    },
    "683fe21c716c4a3e83620b7f3853c6d4": {
     "model_module": "@jupyter-widgets/controls",
     "model_module_version": "1.5.0",
     "model_name": "FloatProgressModel",
     "state": {
      "_dom_classes": [],
      "_model_module": "@jupyter-widgets/controls",
      "_model_module_version": "1.5.0",
      "_model_name": "FloatProgressModel",
      "_view_count": null,
      "_view_module": "@jupyter-widgets/controls",
      "_view_module_version": "1.5.0",
      "_view_name": "ProgressView",
      "bar_style": "danger",
      "description": "",
      "description_tooltip": null,
      "layout": "IPY_MODEL_d280d86c0b8e4019aab74539e0298b22",
      "max": 100,
      "min": 0,
      "orientation": "horizontal",
      "style": "IPY_MODEL_906c195eb11a432f9e500fcb65db3cdc",
      "value": 87
     }
    },
    "68be30f8350c4c119fdd07c1b9f231dd": {
     "model_module": "@jupyter-widgets/base",
     "model_module_version": "1.2.0",
     "model_name": "LayoutModel",
     "state": {
      "_model_module": "@jupyter-widgets/base",
      "_model_module_version": "1.2.0",
      "_model_name": "LayoutModel",
      "_view_count": null,
      "_view_module": "@jupyter-widgets/base",
      "_view_module_version": "1.2.0",
      "_view_name": "LayoutView",
      "align_content": null,
      "align_items": null,
      "align_self": null,
      "border": null,
      "bottom": null,
      "display": null,
      "flex": null,
      "flex_flow": null,
      "grid_area": null,
      "grid_auto_columns": null,
      "grid_auto_flow": null,
      "grid_auto_rows": null,
      "grid_column": null,
      "grid_gap": null,
      "grid_row": null,
      "grid_template_areas": null,
      "grid_template_columns": null,
      "grid_template_rows": null,
      "height": null,
      "justify_content": null,
      "justify_items": null,
      "left": null,
      "margin": null,
      "max_height": null,
      "max_width": null,
      "min_height": null,
      "min_width": null,
      "object_fit": null,
      "object_position": null,
      "order": null,
      "overflow": null,
      "overflow_x": null,
      "overflow_y": null,
      "padding": null,
      "right": null,
      "top": null,
      "visibility": null,
      "width": null
     }
    },
    "6dee2b0fbc49428ba7d5ad372695429a": {
     "model_module": "@jupyter-widgets/controls",
     "model_module_version": "1.5.0",
     "model_name": "DescriptionStyleModel",
     "state": {
      "_model_module": "@jupyter-widgets/controls",
      "_model_module_version": "1.5.0",
      "_model_name": "DescriptionStyleModel",
      "_view_count": null,
      "_view_module": "@jupyter-widgets/base",
      "_view_module_version": "1.2.0",
      "_view_name": "StyleView",
      "description_width": ""
     }
    },
    "7090b9e1bb0c49aeae42d78e1df6c955": {
     "model_module": "@jupyter-widgets/base",
     "model_module_version": "1.2.0",
     "model_name": "LayoutModel",
     "state": {
      "_model_module": "@jupyter-widgets/base",
      "_model_module_version": "1.2.0",
      "_model_name": "LayoutModel",
      "_view_count": null,
      "_view_module": "@jupyter-widgets/base",
      "_view_module_version": "1.2.0",
      "_view_name": "LayoutView",
      "align_content": null,
      "align_items": null,
      "align_self": null,
      "border": null,
      "bottom": null,
      "display": null,
      "flex": null,
      "flex_flow": null,
      "grid_area": null,
      "grid_auto_columns": null,
      "grid_auto_flow": null,
      "grid_auto_rows": null,
      "grid_column": null,
      "grid_gap": null,
      "grid_row": null,
      "grid_template_areas": null,
      "grid_template_columns": null,
      "grid_template_rows": null,
      "height": null,
      "justify_content": null,
      "justify_items": null,
      "left": null,
      "margin": null,
      "max_height": null,
      "max_width": null,
      "min_height": null,
      "min_width": null,
      "object_fit": null,
      "object_position": null,
      "order": null,
      "overflow": null,
      "overflow_x": null,
      "overflow_y": null,
      "padding": null,
      "right": null,
      "top": null,
      "visibility": null,
      "width": null
     }
    },
    "76894f13bf024e869e750eb104d81cd8": {
     "model_module": "@jupyter-widgets/controls",
     "model_module_version": "1.5.0",
     "model_name": "DescriptionStyleModel",
     "state": {
      "_model_module": "@jupyter-widgets/controls",
      "_model_module_version": "1.5.0",
      "_model_name": "DescriptionStyleModel",
      "_view_count": null,
      "_view_module": "@jupyter-widgets/base",
      "_view_module_version": "1.2.0",
      "_view_name": "StyleView",
      "description_width": ""
     }
    },
    "7b97cd35a70042bda2aefc83d2574d47": {
     "model_module": "@jupyter-widgets/base",
     "model_module_version": "1.2.0",
     "model_name": "LayoutModel",
     "state": {
      "_model_module": "@jupyter-widgets/base",
      "_model_module_version": "1.2.0",
      "_model_name": "LayoutModel",
      "_view_count": null,
      "_view_module": "@jupyter-widgets/base",
      "_view_module_version": "1.2.0",
      "_view_name": "LayoutView",
      "align_content": null,
      "align_items": null,
      "align_self": null,
      "border": null,
      "bottom": null,
      "display": null,
      "flex": null,
      "flex_flow": null,
      "grid_area": null,
      "grid_auto_columns": null,
      "grid_auto_flow": null,
      "grid_auto_rows": null,
      "grid_column": null,
      "grid_gap": null,
      "grid_row": null,
      "grid_template_areas": null,
      "grid_template_columns": null,
      "grid_template_rows": null,
      "height": null,
      "justify_content": null,
      "justify_items": null,
      "left": null,
      "margin": null,
      "max_height": null,
      "max_width": null,
      "min_height": null,
      "min_width": null,
      "object_fit": null,
      "object_position": null,
      "order": null,
      "overflow": null,
      "overflow_x": null,
      "overflow_y": null,
      "padding": null,
      "right": null,
      "top": null,
      "visibility": null,
      "width": null
     }
    },
    "813c532b0ebd47a98e7b518aa01ead78": {
     "model_module": "@jupyter-widgets/controls",
     "model_module_version": "1.5.0",
     "model_name": "DescriptionStyleModel",
     "state": {
      "_model_module": "@jupyter-widgets/controls",
      "_model_module_version": "1.5.0",
      "_model_name": "DescriptionStyleModel",
      "_view_count": null,
      "_view_module": "@jupyter-widgets/base",
      "_view_module_version": "1.2.0",
      "_view_name": "StyleView",
      "description_width": ""
     }
    },
    "82c77d289ee1447fb2d461b305d53c94": {
     "model_module": "@jupyter-widgets/controls",
     "model_module_version": "1.5.0",
     "model_name": "ProgressStyleModel",
     "state": {
      "_model_module": "@jupyter-widgets/controls",
      "_model_module_version": "1.5.0",
      "_model_name": "ProgressStyleModel",
      "_view_count": null,
      "_view_module": "@jupyter-widgets/base",
      "_view_module_version": "1.2.0",
      "_view_name": "StyleView",
      "bar_color": null,
      "description_width": ""
     }
    },
    "8cb65e3a46b54e81af9cbe3b7ba915f4": {
     "model_module": "@jupyter-widgets/base",
     "model_module_version": "1.2.0",
     "model_name": "LayoutModel",
     "state": {
      "_model_module": "@jupyter-widgets/base",
      "_model_module_version": "1.2.0",
      "_model_name": "LayoutModel",
      "_view_count": null,
      "_view_module": "@jupyter-widgets/base",
      "_view_module_version": "1.2.0",
      "_view_name": "LayoutView",
      "align_content": null,
      "align_items": null,
      "align_self": null,
      "border": null,
      "bottom": null,
      "display": null,
      "flex": null,
      "flex_flow": null,
      "grid_area": null,
      "grid_auto_columns": null,
      "grid_auto_flow": null,
      "grid_auto_rows": null,
      "grid_column": null,
      "grid_gap": null,
      "grid_row": null,
      "grid_template_areas": null,
      "grid_template_columns": null,
      "grid_template_rows": null,
      "height": null,
      "justify_content": null,
      "justify_items": null,
      "left": null,
      "margin": null,
      "max_height": null,
      "max_width": null,
      "min_height": null,
      "min_width": null,
      "object_fit": null,
      "object_position": null,
      "order": null,
      "overflow": null,
      "overflow_x": null,
      "overflow_y": null,
      "padding": null,
      "right": null,
      "top": null,
      "visibility": null,
      "width": null
     }
    },
    "906c195eb11a432f9e500fcb65db3cdc": {
     "model_module": "@jupyter-widgets/controls",
     "model_module_version": "1.5.0",
     "model_name": "ProgressStyleModel",
     "state": {
      "_model_module": "@jupyter-widgets/controls",
      "_model_module_version": "1.5.0",
      "_model_name": "ProgressStyleModel",
      "_view_count": null,
      "_view_module": "@jupyter-widgets/base",
      "_view_module_version": "1.2.0",
      "_view_name": "StyleView",
      "bar_color": null,
      "description_width": ""
     }
    },
    "9117aab9491341bbb4ca02e8ab7c7ee0": {
     "model_module": "@jupyter-widgets/controls",
     "model_module_version": "1.5.0",
     "model_name": "HTMLModel",
     "state": {
      "_dom_classes": [],
      "_model_module": "@jupyter-widgets/controls",
      "_model_module_version": "1.5.0",
      "_model_name": "HTMLModel",
      "_view_count": null,
      "_view_module": "@jupyter-widgets/controls",
      "_view_module_version": "1.5.0",
      "_view_name": "HTMLView",
      "description": "",
      "description_tooltip": null,
      "layout": "IPY_MODEL_7090b9e1bb0c49aeae42d78e1df6c955",
      "placeholder": "​",
      "style": "IPY_MODEL_ac5ae14d182e419aa7a0a80eb99b8cdf",
      "value": " 89/100 [00:00&lt;00:00, 454.90it/s]"
     }
    },
    "ac5ae14d182e419aa7a0a80eb99b8cdf": {
     "model_module": "@jupyter-widgets/controls",
     "model_module_version": "1.5.0",
     "model_name": "DescriptionStyleModel",
     "state": {
      "_model_module": "@jupyter-widgets/controls",
      "_model_module_version": "1.5.0",
      "_model_name": "DescriptionStyleModel",
      "_view_count": null,
      "_view_module": "@jupyter-widgets/base",
      "_view_module_version": "1.2.0",
      "_view_name": "StyleView",
      "description_width": ""
     }
    },
    "b030a4ee78814a278189235a19407d01": {
     "model_module": "@jupyter-widgets/base",
     "model_module_version": "1.2.0",
     "model_name": "LayoutModel",
     "state": {
      "_model_module": "@jupyter-widgets/base",
      "_model_module_version": "1.2.0",
      "_model_name": "LayoutModel",
      "_view_count": null,
      "_view_module": "@jupyter-widgets/base",
      "_view_module_version": "1.2.0",
      "_view_name": "LayoutView",
      "align_content": null,
      "align_items": null,
      "align_self": null,
      "border": null,
      "bottom": null,
      "display": null,
      "flex": null,
      "flex_flow": null,
      "grid_area": null,
      "grid_auto_columns": null,
      "grid_auto_flow": null,
      "grid_auto_rows": null,
      "grid_column": null,
      "grid_gap": null,
      "grid_row": null,
      "grid_template_areas": null,
      "grid_template_columns": null,
      "grid_template_rows": null,
      "height": null,
      "justify_content": null,
      "justify_items": null,
      "left": null,
      "margin": null,
      "max_height": null,
      "max_width": null,
      "min_height": null,
      "min_width": null,
      "object_fit": null,
      "object_position": null,
      "order": null,
      "overflow": null,
      "overflow_x": null,
      "overflow_y": null,
      "padding": null,
      "right": null,
      "top": null,
      "visibility": null,
      "width": null
     }
    },
    "c88d1d57a57a47f3a9ba34107080480d": {
     "model_module": "@jupyter-widgets/base",
     "model_module_version": "1.2.0",
     "model_name": "LayoutModel",
     "state": {
      "_model_module": "@jupyter-widgets/base",
      "_model_module_version": "1.2.0",
      "_model_name": "LayoutModel",
      "_view_count": null,
      "_view_module": "@jupyter-widgets/base",
      "_view_module_version": "1.2.0",
      "_view_name": "LayoutView",
      "align_content": null,
      "align_items": null,
      "align_self": null,
      "border": null,
      "bottom": null,
      "display": null,
      "flex": null,
      "flex_flow": null,
      "grid_area": null,
      "grid_auto_columns": null,
      "grid_auto_flow": null,
      "grid_auto_rows": null,
      "grid_column": null,
      "grid_gap": null,
      "grid_row": null,
      "grid_template_areas": null,
      "grid_template_columns": null,
      "grid_template_rows": null,
      "height": null,
      "justify_content": null,
      "justify_items": null,
      "left": null,
      "margin": null,
      "max_height": null,
      "max_width": null,
      "min_height": null,
      "min_width": null,
      "object_fit": null,
      "object_position": null,
      "order": null,
      "overflow": null,
      "overflow_x": null,
      "overflow_y": null,
      "padding": null,
      "right": null,
      "top": null,
      "visibility": null,
      "width": null
     }
    },
    "d280d86c0b8e4019aab74539e0298b22": {
     "model_module": "@jupyter-widgets/base",
     "model_module_version": "1.2.0",
     "model_name": "LayoutModel",
     "state": {
      "_model_module": "@jupyter-widgets/base",
      "_model_module_version": "1.2.0",
      "_model_name": "LayoutModel",
      "_view_count": null,
      "_view_module": "@jupyter-widgets/base",
      "_view_module_version": "1.2.0",
      "_view_name": "LayoutView",
      "align_content": null,
      "align_items": null,
      "align_self": null,
      "border": null,
      "bottom": null,
      "display": null,
      "flex": null,
      "flex_flow": null,
      "grid_area": null,
      "grid_auto_columns": null,
      "grid_auto_flow": null,
      "grid_auto_rows": null,
      "grid_column": null,
      "grid_gap": null,
      "grid_row": null,
      "grid_template_areas": null,
      "grid_template_columns": null,
      "grid_template_rows": null,
      "height": null,
      "justify_content": null,
      "justify_items": null,
      "left": null,
      "margin": null,
      "max_height": null,
      "max_width": null,
      "min_height": null,
      "min_width": null,
      "object_fit": null,
      "object_position": null,
      "order": null,
      "overflow": null,
      "overflow_x": null,
      "overflow_y": null,
      "padding": null,
      "right": null,
      "top": null,
      "visibility": null,
      "width": null
     }
    },
    "e0d7fa109d854f8096eb612ba50150fa": {
     "model_module": "@jupyter-widgets/base",
     "model_module_version": "1.2.0",
     "model_name": "LayoutModel",
     "state": {
      "_model_module": "@jupyter-widgets/base",
      "_model_module_version": "1.2.0",
      "_model_name": "LayoutModel",
      "_view_count": null,
      "_view_module": "@jupyter-widgets/base",
      "_view_module_version": "1.2.0",
      "_view_name": "LayoutView",
      "align_content": null,
      "align_items": null,
      "align_self": null,
      "border": null,
      "bottom": null,
      "display": null,
      "flex": null,
      "flex_flow": null,
      "grid_area": null,
      "grid_auto_columns": null,
      "grid_auto_flow": null,
      "grid_auto_rows": null,
      "grid_column": null,
      "grid_gap": null,
      "grid_row": null,
      "grid_template_areas": null,
      "grid_template_columns": null,
      "grid_template_rows": null,
      "height": null,
      "justify_content": null,
      "justify_items": null,
      "left": null,
      "margin": null,
      "max_height": null,
      "max_width": null,
      "min_height": null,
      "min_width": null,
      "object_fit": null,
      "object_position": null,
      "order": null,
      "overflow": null,
      "overflow_x": null,
      "overflow_y": null,
      "padding": null,
      "right": null,
      "top": null,
      "visibility": null,
      "width": null
     }
    },
    "e25379e19b92476b803cf631af3cfc6f": {
     "model_module": "@jupyter-widgets/controls",
     "model_module_version": "1.5.0",
     "model_name": "ProgressStyleModel",
     "state": {
      "_model_module": "@jupyter-widgets/controls",
      "_model_module_version": "1.5.0",
      "_model_name": "ProgressStyleModel",
      "_view_count": null,
      "_view_module": "@jupyter-widgets/base",
      "_view_module_version": "1.2.0",
      "_view_name": "StyleView",
      "bar_color": null,
      "description_width": ""
     }
    },
    "e9cc35d117764328ac030fe3e0f4ee35": {
     "model_module": "@jupyter-widgets/base",
     "model_module_version": "1.2.0",
     "model_name": "LayoutModel",
     "state": {
      "_model_module": "@jupyter-widgets/base",
      "_model_module_version": "1.2.0",
      "_model_name": "LayoutModel",
      "_view_count": null,
      "_view_module": "@jupyter-widgets/base",
      "_view_module_version": "1.2.0",
      "_view_name": "LayoutView",
      "align_content": null,
      "align_items": null,
      "align_self": null,
      "border": null,
      "bottom": null,
      "display": null,
      "flex": null,
      "flex_flow": null,
      "grid_area": null,
      "grid_auto_columns": null,
      "grid_auto_flow": null,
      "grid_auto_rows": null,
      "grid_column": null,
      "grid_gap": null,
      "grid_row": null,
      "grid_template_areas": null,
      "grid_template_columns": null,
      "grid_template_rows": null,
      "height": null,
      "justify_content": null,
      "justify_items": null,
      "left": null,
      "margin": null,
      "max_height": null,
      "max_width": null,
      "min_height": null,
      "min_width": null,
      "object_fit": null,
      "object_position": null,
      "order": null,
      "overflow": null,
      "overflow_x": null,
      "overflow_y": null,
      "padding": null,
      "right": null,
      "top": null,
      "visibility": null,
      "width": null
     }
    },
    "f107fd04291c4b86b6fd9352936c8082": {
     "model_module": "@jupyter-widgets/base",
     "model_module_version": "1.2.0",
     "model_name": "LayoutModel",
     "state": {
      "_model_module": "@jupyter-widgets/base",
      "_model_module_version": "1.2.0",
      "_model_name": "LayoutModel",
      "_view_count": null,
      "_view_module": "@jupyter-widgets/base",
      "_view_module_version": "1.2.0",
      "_view_name": "LayoutView",
      "align_content": null,
      "align_items": null,
      "align_self": null,
      "border": null,
      "bottom": null,
      "display": null,
      "flex": null,
      "flex_flow": null,
      "grid_area": null,
      "grid_auto_columns": null,
      "grid_auto_flow": null,
      "grid_auto_rows": null,
      "grid_column": null,
      "grid_gap": null,
      "grid_row": null,
      "grid_template_areas": null,
      "grid_template_columns": null,
      "grid_template_rows": null,
      "height": null,
      "justify_content": null,
      "justify_items": null,
      "left": null,
      "margin": null,
      "max_height": null,
      "max_width": null,
      "min_height": null,
      "min_width": null,
      "object_fit": null,
      "object_position": null,
      "order": null,
      "overflow": null,
      "overflow_x": null,
      "overflow_y": null,
      "padding": null,
      "right": null,
      "top": null,
      "visibility": null,
      "width": null
     }
    },
    "f17f06206cda4005a5b27a2f60a25dbe": {
     "model_module": "@jupyter-widgets/base",
     "model_module_version": "1.2.0",
     "model_name": "LayoutModel",
     "state": {
      "_model_module": "@jupyter-widgets/base",
      "_model_module_version": "1.2.0",
      "_model_name": "LayoutModel",
      "_view_count": null,
      "_view_module": "@jupyter-widgets/base",
      "_view_module_version": "1.2.0",
      "_view_name": "LayoutView",
      "align_content": null,
      "align_items": null,
      "align_self": null,
      "border": null,
      "bottom": null,
      "display": null,
      "flex": null,
      "flex_flow": null,
      "grid_area": null,
      "grid_auto_columns": null,
      "grid_auto_flow": null,
      "grid_auto_rows": null,
      "grid_column": null,
      "grid_gap": null,
      "grid_row": null,
      "grid_template_areas": null,
      "grid_template_columns": null,
      "grid_template_rows": null,
      "height": null,
      "justify_content": null,
      "justify_items": null,
      "left": null,
      "margin": null,
      "max_height": null,
      "max_width": null,
      "min_height": null,
      "min_width": null,
      "object_fit": null,
      "object_position": null,
      "order": null,
      "overflow": null,
      "overflow_x": null,
      "overflow_y": null,
      "padding": null,
      "right": null,
      "top": null,
      "visibility": null,
      "width": null
     }
    },
    "f85bd035041f419cb86cd943618db201": {
     "model_module": "@jupyter-widgets/controls",
     "model_module_version": "1.5.0",
     "model_name": "HBoxModel",
     "state": {
      "_dom_classes": [],
      "_model_module": "@jupyter-widgets/controls",
      "_model_module_version": "1.5.0",
      "_model_name": "HBoxModel",
      "_view_count": null,
      "_view_module": "@jupyter-widgets/controls",
      "_view_module_version": "1.5.0",
      "_view_name": "HBoxView",
      "box_style": "",
      "children": [
       "IPY_MODEL_3dd5b1ccaefb43b8bd0e864b86a292cb",
       "IPY_MODEL_683fe21c716c4a3e83620b7f3853c6d4",
       "IPY_MODEL_5da54d609e1e499fbcc57faf5e362847"
      ],
      "layout": "IPY_MODEL_fb0207402c17464b9f27f68792c32cd8"
     }
    },
    "fb0207402c17464b9f27f68792c32cd8": {
     "model_module": "@jupyter-widgets/base",
     "model_module_version": "1.2.0",
     "model_name": "LayoutModel",
     "state": {
      "_model_module": "@jupyter-widgets/base",
      "_model_module_version": "1.2.0",
      "_model_name": "LayoutModel",
      "_view_count": null,
      "_view_module": "@jupyter-widgets/base",
      "_view_module_version": "1.2.0",
      "_view_name": "LayoutView",
      "align_content": null,
      "align_items": null,
      "align_self": null,
      "border": null,
      "bottom": null,
      "display": null,
      "flex": null,
      "flex_flow": null,
      "grid_area": null,
      "grid_auto_columns": null,
      "grid_auto_flow": null,
      "grid_auto_rows": null,
      "grid_column": null,
      "grid_gap": null,
      "grid_row": null,
      "grid_template_areas": null,
      "grid_template_columns": null,
      "grid_template_rows": null,
      "height": null,
      "justify_content": null,
      "justify_items": null,
      "left": null,
      "margin": null,
      "max_height": null,
      "max_width": null,
      "min_height": null,
      "min_width": null,
      "object_fit": null,
      "object_position": null,
      "order": null,
      "overflow": null,
      "overflow_x": null,
      "overflow_y": null,
      "padding": null,
      "right": null,
      "top": null,
      "visibility": null,
      "width": null
     }
    }
   }
  }
 },
 "nbformat": 4,
 "nbformat_minor": 1
}
