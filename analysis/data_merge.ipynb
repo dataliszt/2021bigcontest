{
 "cells": [
  {
   "cell_type": "code",
   "execution_count": 186,
   "metadata": {
    "colab": {
     "base_uri": "https://localhost:8080/"
    },
    "executionInfo": {
     "elapsed": 447,
     "status": "ok",
     "timestamp": 1631642885013,
     "user": {
      "displayName": "정영상",
      "photoUrl": "https://lh3.googleusercontent.com/a/default-user=s64",
      "userId": "06163646126690949139"
     },
     "user_tz": -540
    },
    "id": "vFZ1R23SzwGx",
    "outputId": "847cb418-6c40-412c-d501-29620712723c"
   },
   "outputs": [
    {
     "name": "stdout",
     "output_type": "stream",
     "text": [
      "/content/drive/MyDrive/Colab Notebooks/bigcontest\n"
     ]
    }
   ],
   "source": [
    "%cd /content/drive/MyDrive/Colab\\ Notebooks/bigcontest/"
   ]
  },
  {
   "cell_type": "code",
   "execution_count": 187,
   "metadata": {
    "executionInfo": {
     "elapsed": 4,
     "status": "ok",
     "timestamp": 1631642885014,
     "user": {
      "displayName": "정영상",
      "photoUrl": "https://lh3.googleusercontent.com/a/default-user=s64",
      "userId": "06163646126690949139"
     },
     "user_tz": -540
    },
    "id": "pHYbfmXy4hYj"
   },
   "outputs": [],
   "source": [
    "import os\n",
    "import numpy as np\n",
    "import pandas as pd\n",
    "import matplotlib.pyplot as plt\n",
    "import seaborn as sns\n",
    "import re\n",
    "from typing import collections, Dict, List, Tuple\n",
    "from statsmodels.tsa.arima_model import ARIMA\n",
    "import statsmodels.api as sm\n",
    "import warnings\n",
    "warnings.filterwarnings(action='ignore') "
   ]
  },
  {
   "cell_type": "markdown",
   "metadata": {
    "id": "5iQqclQfD0yv"
   },
   "source": [
    "# train / validation data + weight data"
   ]
  },
  {
   "cell_type": "markdown",
   "metadata": {
    "id": "-ZN9lCRJ-leK"
   },
   "source": [
    "## 데이터 로드"
   ]
  },
  {
   "cell_type": "code",
   "execution_count": 202,
   "metadata": {
    "executionInfo": {
     "elapsed": 5570,
     "status": "ok",
     "timestamp": 1631643114853,
     "user": {
      "displayName": "정영상",
      "photoUrl": "https://lh3.googleusercontent.com/a/default-user=s64",
      "userId": "06163646126690949139"
     },
     "user_tz": -540
    },
    "id": "mFbYbcYN95MU"
   },
   "outputs": [],
   "source": [
    "train = pd.read_excel('./train.xlsx')\n",
    "validation = pd.read_excel('./validation.xlsx')"
   ]
  },
  {
   "cell_type": "code",
   "execution_count": 220,
   "metadata": {
    "executionInfo": {
     "elapsed": 392,
     "status": "ok",
     "timestamp": 1631643274543,
     "user": {
      "displayName": "정영상",
      "photoUrl": "https://lh3.googleusercontent.com/a/default-user=s64",
      "userId": "06163646126690949139"
     },
     "user_tz": -540
    },
    "id": "DYzhWU3n95FZ"
   },
   "outputs": [],
   "source": [
    "# 중량데이터 로드 \n",
    "sq_qty = pd.read_csv('./weight_data/squid_qty.csv')\n",
    "sal_qty = pd.read_csv('./weight_data/salmon_qty.csv')\n",
    "shr_qty = pd.read_csv('./weight_data/shrimp_qty.csv')\n",
    "\n",
    "sq_val_qty = pd.read_csv('./weight_data/squid_val_qty.csv')\n",
    "sal_val_qty = pd.read_csv('./weight_data/salmon_val_qty.csv')\n",
    "shr_val_qty = pd.read_csv('./weight_data/shrimp_val_qty.csv')\n",
    "\n",
    "del sq_qty['Unnamed: 0']\n",
    "del sal_qty['Unnamed: 0']\n",
    "del shr_qty['Unnamed: 0']\n",
    "\n",
    "del sq_val_qty['Unnamed: 0']\n",
    "del sal_val_qty['Unnamed: 0']\n",
    "del shr_val_qty['Unnamed: 0']"
   ]
  },
  {
   "cell_type": "markdown",
   "metadata": {
    "id": "8CJN1CflBA3X"
   },
   "source": [
    "## 날짜변수 전처리"
   ]
  },
  {
   "cell_type": "code",
   "execution_count": 221,
   "metadata": {
    "executionInfo": {
     "elapsed": 2470,
     "status": "ok",
     "timestamp": 1631643280367,
     "user": {
      "displayName": "정영상",
      "photoUrl": "https://lh3.googleusercontent.com/a/default-user=s64",
      "userId": "06163646126690949139"
     },
     "user_tz": -540
    },
    "id": "WOAy1_jG94-1"
   },
   "outputs": [],
   "source": [
    "# 월 / 년도별 변수 생성 \n",
    "train['date_m'] = train['REG_DATE'].apply(lambda x : str(x.to_period(freq='M')))\n",
    "train['date_y'] = train['REG_DATE'].apply(lambda x : str(x.to_period(freq='A')))\n",
    "\n",
    "validation['date_m'] = validation['REG_DATE'].apply(lambda x : str(x.to_period(freq='M')))\n",
    "validation['date_y'] = validation['REG_DATE'].apply(lambda x : str(x.to_period(freq='A')))"
   ]
  },
  {
   "cell_type": "code",
   "execution_count": 222,
   "metadata": {
    "executionInfo": {
     "elapsed": 613,
     "status": "ok",
     "timestamp": 1631643280977,
     "user": {
      "displayName": "정영상",
      "photoUrl": "https://lh3.googleusercontent.com/a/default-user=s64",
      "userId": "06163646126690949139"
     },
     "user_tz": -540
    },
    "id": "3Fvcl_scBHHb"
   },
   "outputs": [],
   "source": [
    "# str타입의 날짜 컬럼 생성\n",
    "train['date'] = train['REG_DATE'].apply(lambda x : x.strftime('%Y-%m-%d'))\n",
    "validation['date'] = validation['REG_DATE'].apply(lambda x : x.strftime('%Y-%m-%d'))"
   ]
  },
  {
   "cell_type": "markdown",
   "metadata": {
    "id": "6OoybPexBMdS"
   },
   "source": [
    "## 상세어종에 맞게 train데이터 분류"
   ]
  },
  {
   "cell_type": "code",
   "execution_count": 223,
   "metadata": {
    "colab": {
     "base_uri": "https://localhost:8080/"
    },
    "executionInfo": {
     "elapsed": 9,
     "status": "ok",
     "timestamp": 1631643280978,
     "user": {
      "displayName": "정영상",
      "photoUrl": "https://lh3.googleusercontent.com/a/default-user=s64",
      "userId": "06163646126690949139"
     },
     "user_tz": -540
    },
    "id": "wKs_GoX3BJ4h",
    "outputId": "07779241-820b-4840-e506-18df14554ec2"
   },
   "outputs": [
    {
     "name": "stdout",
     "output_type": "stream",
     "text": [
      "오징어 데이터:  (2150, 13)\n",
      "연어 데이터:  (1489, 13)\n",
      "새우 데이터:  (2601, 13)\n"
     ]
    }
   ],
   "source": [
    "sq = train[train['P_NAME'] == '오징어']\n",
    "sal = train[train['P_NAME'] == '연어']\n",
    "shr = train[train['P_NAME'] == '흰다리새우']\n",
    "\n",
    "print('오징어 데이터: ',sq.shape)\n",
    "print('연어 데이터: ',sal.shape)\n",
    "print('새우 데이터: ',shr.shape)"
   ]
  },
  {
   "cell_type": "code",
   "execution_count": 224,
   "metadata": {
    "colab": {
     "base_uri": "https://localhost:8080/"
    },
    "executionInfo": {
     "elapsed": 5,
     "status": "ok",
     "timestamp": 1631643280978,
     "user": {
      "displayName": "정영상",
      "photoUrl": "https://lh3.googleusercontent.com/a/default-user=s64",
      "userId": "06163646126690949139"
     },
     "user_tz": -540
    },
    "id": "HfavxOepBJ20",
    "outputId": "b7a604de-91e4-484c-f8cd-cf740f26135a"
   },
   "outputs": [
    {
     "name": "stdout",
     "output_type": "stream",
     "text": [
      "오징어 데이터:  (621, 13)\n",
      "연어 데이터:  (406, 13)\n",
      "새우 데이터:  (532, 13)\n"
     ]
    }
   ],
   "source": [
    "sq_val = validation[validation['P_NAME'] == '오징어']\n",
    "sal_val = validation[validation['P_NAME'] == '연어']\n",
    "shr_val = validation[validation['P_NAME'] == '흰다리새우']\n",
    "\n",
    "print('오징어 데이터: ',sq_val.shape)\n",
    "print('연어 데이터: ',sal_val.shape)\n",
    "print('새우 데이터: ',shr_val.shape)"
   ]
  },
  {
   "cell_type": "markdown",
   "metadata": {
    "id": "i09oqvVcBSOh"
   },
   "source": [
    "## 중량데이터 전처리 "
   ]
  },
  {
   "cell_type": "markdown",
   "metadata": {
    "id": "hlZI-LlTBUPs"
   },
   "source": [
    "- train 데이터는 수치형 컬럼을 재외한채로 중복된 데이터가 존재하지 않음 \n",
    "- 하지만 외부 데이터(중량)은 수치형 컬럼을 제회하더라도 중복된 데이터가 존재함. \n",
    "\n",
    "- 이는 train 데이터와 외부데이터를 merge할떄 적은쪽의 데이터가 중복된 데이터의 첫번째 컬럼과 merge되는 현상이 발생 \n",
    "\n",
    "- 따라서 외부데이터에서 'date', 'date_m', 'date_y', 'CTRY_1', 'CTRY_2', 'P_NAME', 'P_IMPORT_TYPE' 이 같다면 \n",
    "  하나로 합치는 작업이 필요함"
   ]
  },
  {
   "cell_type": "markdown",
   "metadata": {
    "id": "OxWl34XDBWm6"
   },
   "source": [
    "### P_NAME컬럼 생성"
   ]
  },
  {
   "cell_type": "code",
   "execution_count": 225,
   "metadata": {
    "executionInfo": {
     "elapsed": 2,
     "status": "ok",
     "timestamp": 1631643284202,
     "user": {
      "displayName": "정영상",
      "photoUrl": "https://lh3.googleusercontent.com/a/default-user=s64",
      "userId": "06163646126690949139"
     },
     "user_tz": -540
    },
    "id": "-A_fcO5uBJ1G"
   },
   "outputs": [],
   "source": [
    "# P_NAME column 생성\n",
    "sq_qty['P_NAME'] = sq_qty['대표품목별'].apply(lambda x : re.sub(r'[^가-힣,]', ' ', x).split()[0])\n",
    "sal_qty['P_NAME'] = sal_qty['대표품목별'].apply(lambda x : re.sub(r'[^가-힣,]', ' ', x).split()[0])\n",
    "shr_qty['P_NAME'] = shr_qty['대표품목별'].apply(lambda x : re.sub(r'[^가-힣,]', ' ', x).split()[0])\n",
    "\n",
    "# validation data에도 적용\n",
    "sq_val_qty['P_NAME'] = sq_val_qty['대표품목별'].apply(lambda x : re.sub(r'[^가-힣,]', ' ', x).split()[0])\n",
    "sal_val_qty['P_NAME'] = sal_val_qty['대표품목별'].apply(lambda x : re.sub(r'[^가-힣,]', ' ', x).split()[0])\n",
    "shr_val_qty['P_NAME'] = shr_val_qty['대표품목별'].apply(lambda x : re.sub(r'[^가-힣,]', ' ', x).split()[0])"
   ]
  },
  {
   "cell_type": "markdown",
   "metadata": {
    "id": "cVMX4y-rBd4F"
   },
   "source": [
    "### P_IMPORT_TYPE 컬럼 생성"
   ]
  },
  {
   "cell_type": "code",
   "execution_count": 226,
   "metadata": {
    "executionInfo": {
     "elapsed": 3,
     "status": "ok",
     "timestamp": 1631643285345,
     "user": {
      "displayName": "정영상",
      "photoUrl": "https://lh3.googleusercontent.com/a/default-user=s64",
      "userId": "06163646126690949139"
     },
     "user_tz": -540
    },
    "id": "HltDbrNeBJz7"
   },
   "outputs": [],
   "source": [
    "# P_IMPORT_TYPE 생성 \n",
    "sq_qty['P_IMPORT_TYPE'] = sq_qty['대표품목별'].apply(lambda x : re.sub(r'[^가-힣,]', ' ', x).split()[1])\n",
    "sal_qty['P_IMPORT_TYPE'] = sal_qty['대표품목별'].apply(lambda x : re.sub(r'[^가-힣,]', ' ', x).split()[1])\n",
    "shr_qty['P_IMPORT_TYPE'] = shr_qty['대표품목별'].apply(lambda x : re.sub(r'[^가-힣,]', ' ', x).split()[1])\n",
    "\n",
    "# validation data에도 생성\n",
    "sq_val_qty['P_IMPORT_TYPE'] = sq_val_qty['대표품목별'].apply(lambda x : re.sub(r'[^가-힣,]', ' ', x).split()[1])\n",
    "sal_val_qty['P_IMPORT_TYPE'] = sal_val_qty['대표품목별'].apply(lambda x : re.sub(r'[^가-힣,]', ' ', x).split()[1])\n",
    "shr_val_qty['P_IMPORT_TYPE'] = shr_val_qty['대표품목별'].apply(lambda x : re.sub(r'[^가-힣,]', ' ', x).split()[1])"
   ]
  },
  {
   "cell_type": "markdown",
   "metadata": {
    "id": "ijpNmGDsBrwU"
   },
   "source": [
    "### 변수명 변경"
   ]
  },
  {
   "cell_type": "code",
   "execution_count": 227,
   "metadata": {
    "executionInfo": {
     "elapsed": 3,
     "status": "ok",
     "timestamp": 1631643286589,
     "user": {
      "displayName": "정영상",
      "photoUrl": "https://lh3.googleusercontent.com/a/default-user=s64",
      "userId": "06163646126690949139"
     },
     "user_tz": -540
    },
    "id": "QbusO9xnBJxZ"
   },
   "outputs": [],
   "source": [
    "# 기존 train 데이터와 합치기 위해서 컬럼이름 변경\n",
    "sq_qty.rename(columns={'Date':'date', '제조국(원산지)별':'CTRY_1','수출국별':'CTRY_2' ,'총계_중량(KG)':'WEIGHT(KG)', \\\n",
    "                      '총계_금액($)':'TOTAL_PRICE'}, inplace = True)\n",
    "\n",
    "sq_val_qty.rename(columns={'Date':'date', '제조국(원산지)별':'CTRY_1','수출국별':'CTRY_2' ,'총계_중량(KG)':'WEIGHT(KG)', \\\n",
    "                      '총계_금액($)':'TOTAL_PRICE'}, inplace = True)\n",
    "\n",
    "sal_qty.rename(columns={'Date':'date', '제조국(원산지)별':'CTRY_1','수출국별':'CTRY_2' ,'총계_중량(KG)':'WEIGHT(KG)', \\\n",
    "                      '총계_금액($)':'TOTAL_PRICE'}, inplace = True)\n",
    "\n",
    "sal_val_qty.rename(columns={'Date':'date', '제조국(원산지)별':'CTRY_1','수출국별':'CTRY_2' ,'총계_중량(KG)':'WEIGHT(KG)', \\\n",
    "                      '총계_금액($)':'TOTAL_PRICE'}, inplace = True)\n",
    "\n",
    "shr_qty.rename(columns={'Date':'date', '제조국(원산지)별':'CTRY_1','수출국별':'CTRY_2' ,'총계_중량(KG)':'WEIGHT(KG)', \\\n",
    "                      '총계_금액($)':'TOTAL_PRICE'}, inplace = True)\n",
    "shr_val_qty.rename(columns={'Date':'date', '제조국(원산지)별':'CTRY_1','수출국별':'CTRY_2' ,'총계_중량(KG)':'WEIGHT(KG)', \\\n",
    "                      '총계_금액($)':'TOTAL_PRICE'}, inplace = True)"
   ]
  },
  {
   "cell_type": "code",
   "execution_count": 228,
   "metadata": {
    "colab": {
     "base_uri": "https://localhost:8080/",
     "height": 419
    },
    "executionInfo": {
     "elapsed": 444,
     "status": "ok",
     "timestamp": 1631643288477,
     "user": {
      "displayName": "정영상",
      "photoUrl": "https://lh3.googleusercontent.com/a/default-user=s64",
      "userId": "06163646126690949139"
     },
     "user_tz": -540
    },
    "id": "cj7nMFGcgCtZ",
    "outputId": "38fcfb82-7635-4185-9b9d-d706a6661bcb"
   },
   "outputs": [
    {
     "data": {
      "text/html": [
       "<div>\n",
       "<style scoped>\n",
       "    .dataframe tbody tr th:only-of-type {\n",
       "        vertical-align: middle;\n",
       "    }\n",
       "\n",
       "    .dataframe tbody tr th {\n",
       "        vertical-align: top;\n",
       "    }\n",
       "\n",
       "    .dataframe thead th {\n",
       "        text-align: right;\n",
       "    }\n",
       "</style>\n",
       "<table border=\"1\" class=\"dataframe\">\n",
       "  <thead>\n",
       "    <tr style=\"text-align: right;\">\n",
       "      <th></th>\n",
       "      <th>date</th>\n",
       "      <th>제품구분별</th>\n",
       "      <th>CTRY_1</th>\n",
       "      <th>CTRY_2</th>\n",
       "      <th>수입용도별</th>\n",
       "      <th>대표품목별</th>\n",
       "      <th>WEIGHT(KG)</th>\n",
       "      <th>TOTAL_PRICE</th>\n",
       "      <th>적합_중량(kg)</th>\n",
       "      <th>적합_금액($)</th>\n",
       "      <th>부적합_중량(kg)</th>\n",
       "      <th>부적합_금액($)</th>\n",
       "      <th>P_NAME</th>\n",
       "      <th>P_IMPORT_TYPE</th>\n",
       "    </tr>\n",
       "  </thead>\n",
       "  <tbody>\n",
       "    <tr>\n",
       "      <th>0</th>\n",
       "      <td>2015-12-28</td>\n",
       "      <td>수산물</td>\n",
       "      <td>중국</td>\n",
       "      <td>중국</td>\n",
       "      <td>판매용</td>\n",
       "      <td>오징어(냉동,동체,자숙)</td>\n",
       "      <td>15,500.000</td>\n",
       "      <td>-</td>\n",
       "      <td>15,500.000</td>\n",
       "      <td>-</td>\n",
       "      <td>.000</td>\n",
       "      <td>.000</td>\n",
       "      <td>오징어</td>\n",
       "      <td>냉동,동체,자숙</td>\n",
       "    </tr>\n",
       "    <tr>\n",
       "      <th>1</th>\n",
       "      <td>2015-12-28</td>\n",
       "      <td>수산물</td>\n",
       "      <td>페루</td>\n",
       "      <td>페루</td>\n",
       "      <td>판매용</td>\n",
       "      <td>오징어(냉동,다리)</td>\n",
       "      <td>22,400.000</td>\n",
       "      <td>-</td>\n",
       "      <td>22,400.000</td>\n",
       "      <td>-</td>\n",
       "      <td>.000</td>\n",
       "      <td>.000</td>\n",
       "      <td>오징어</td>\n",
       "      <td>냉동,다리</td>\n",
       "    </tr>\n",
       "    <tr>\n",
       "      <th>2</th>\n",
       "      <td>2015-12-28</td>\n",
       "      <td>수산물</td>\n",
       "      <td>페루</td>\n",
       "      <td>페루</td>\n",
       "      <td>자사제품제조용</td>\n",
       "      <td>오징어(냉동,다리)</td>\n",
       "      <td>23,800.000</td>\n",
       "      <td>-</td>\n",
       "      <td>23,800.000</td>\n",
       "      <td>-</td>\n",
       "      <td>.000</td>\n",
       "      <td>.000</td>\n",
       "      <td>오징어</td>\n",
       "      <td>냉동,다리</td>\n",
       "    </tr>\n",
       "    <tr>\n",
       "      <th>3</th>\n",
       "      <td>2015-12-28</td>\n",
       "      <td>수산물</td>\n",
       "      <td>페루</td>\n",
       "      <td>페루</td>\n",
       "      <td>자사제품제조용</td>\n",
       "      <td>오징어(냉동,동체,자숙)</td>\n",
       "      <td>22,560.000</td>\n",
       "      <td>-</td>\n",
       "      <td>22,560.000</td>\n",
       "      <td>-</td>\n",
       "      <td>.000</td>\n",
       "      <td>.000</td>\n",
       "      <td>오징어</td>\n",
       "      <td>냉동,동체,자숙</td>\n",
       "    </tr>\n",
       "    <tr>\n",
       "      <th>4</th>\n",
       "      <td>2015-12-28</td>\n",
       "      <td>수산물</td>\n",
       "      <td>칠레</td>\n",
       "      <td>칠레</td>\n",
       "      <td>판매용</td>\n",
       "      <td>오징어(냉동,동체)</td>\n",
       "      <td>48,000.000</td>\n",
       "      <td>48,000.000</td>\n",
       "      <td>48,000.000</td>\n",
       "      <td>48,000.000</td>\n",
       "      <td>.000</td>\n",
       "      <td>.000</td>\n",
       "      <td>오징어</td>\n",
       "      <td>냉동,동체</td>\n",
       "    </tr>\n",
       "    <tr>\n",
       "      <th>...</th>\n",
       "      <td>...</td>\n",
       "      <td>...</td>\n",
       "      <td>...</td>\n",
       "      <td>...</td>\n",
       "      <td>...</td>\n",
       "      <td>...</td>\n",
       "      <td>...</td>\n",
       "      <td>...</td>\n",
       "      <td>...</td>\n",
       "      <td>...</td>\n",
       "      <td>...</td>\n",
       "      <td>...</td>\n",
       "      <td>...</td>\n",
       "      <td>...</td>\n",
       "    </tr>\n",
       "    <tr>\n",
       "      <th>8071</th>\n",
       "      <td>2019-12-30</td>\n",
       "      <td>수산물</td>\n",
       "      <td>대만</td>\n",
       "      <td>대만</td>\n",
       "      <td>판매용</td>\n",
       "      <td>오징어(냉동)</td>\n",
       "      <td>24,309.000</td>\n",
       "      <td>-</td>\n",
       "      <td>24,309.000</td>\n",
       "      <td>-</td>\n",
       "      <td>.000</td>\n",
       "      <td>.000</td>\n",
       "      <td>오징어</td>\n",
       "      <td>냉동</td>\n",
       "    </tr>\n",
       "    <tr>\n",
       "      <th>8072</th>\n",
       "      <td>2019-12-30</td>\n",
       "      <td>수산물</td>\n",
       "      <td>페루</td>\n",
       "      <td>페루</td>\n",
       "      <td>판매용</td>\n",
       "      <td>오징어(냉동,다리)</td>\n",
       "      <td>9,240.000</td>\n",
       "      <td>21,976.000</td>\n",
       "      <td>9,240.000</td>\n",
       "      <td>21,976.000</td>\n",
       "      <td>.000</td>\n",
       "      <td>.000</td>\n",
       "      <td>오징어</td>\n",
       "      <td>냉동,다리</td>\n",
       "    </tr>\n",
       "    <tr>\n",
       "      <th>8073</th>\n",
       "      <td>2019-12-30</td>\n",
       "      <td>수산물</td>\n",
       "      <td>중국</td>\n",
       "      <td>중국</td>\n",
       "      <td>판매용</td>\n",
       "      <td>오징어(냉동,동체)</td>\n",
       "      <td>37,000.000</td>\n",
       "      <td>147,700.000</td>\n",
       "      <td>37,000.000</td>\n",
       "      <td>147,700.000</td>\n",
       "      <td>.000</td>\n",
       "      <td>.000</td>\n",
       "      <td>오징어</td>\n",
       "      <td>냉동,동체</td>\n",
       "    </tr>\n",
       "    <tr>\n",
       "      <th>8074</th>\n",
       "      <td>2019-12-30</td>\n",
       "      <td>수산물</td>\n",
       "      <td>페루</td>\n",
       "      <td>페루</td>\n",
       "      <td>판매용</td>\n",
       "      <td>오징어(냉동,동체)</td>\n",
       "      <td>62,350.000</td>\n",
       "      <td>140,950.000</td>\n",
       "      <td>62,350.000</td>\n",
       "      <td>140,950.000</td>\n",
       "      <td>.000</td>\n",
       "      <td>.000</td>\n",
       "      <td>오징어</td>\n",
       "      <td>냉동,동체</td>\n",
       "    </tr>\n",
       "    <tr>\n",
       "      <th>8075</th>\n",
       "      <td>2019-12-30</td>\n",
       "      <td>수산물</td>\n",
       "      <td>중국</td>\n",
       "      <td>중국</td>\n",
       "      <td>판매용</td>\n",
       "      <td>오징어(냉동)</td>\n",
       "      <td>293,980.000</td>\n",
       "      <td>1,214,603.320</td>\n",
       "      <td>293,980.000</td>\n",
       "      <td>1,214,603.320</td>\n",
       "      <td>.000</td>\n",
       "      <td>.000</td>\n",
       "      <td>오징어</td>\n",
       "      <td>냉동</td>\n",
       "    </tr>\n",
       "  </tbody>\n",
       "</table>\n",
       "<p>8076 rows × 14 columns</p>\n",
       "</div>"
      ],
      "text/plain": [
       "            date 제품구분별 CTRY_1 CTRY_2  ... 부적합_중량(kg) 부적합_금액($) P_NAME P_IMPORT_TYPE\n",
       "0     2015-12-28   수산물     중국     중국  ...       .000      .000    오징어      냉동,동체,자숙\n",
       "1     2015-12-28   수산물     페루     페루  ...       .000      .000    오징어         냉동,다리\n",
       "2     2015-12-28   수산물     페루     페루  ...       .000      .000    오징어         냉동,다리\n",
       "3     2015-12-28   수산물     페루     페루  ...       .000      .000    오징어      냉동,동체,자숙\n",
       "4     2015-12-28   수산물     칠레     칠레  ...       .000      .000    오징어         냉동,동체\n",
       "...          ...   ...    ...    ...  ...        ...       ...    ...           ...\n",
       "8071  2019-12-30   수산물     대만     대만  ...       .000      .000    오징어            냉동\n",
       "8072  2019-12-30   수산물     페루     페루  ...       .000      .000    오징어         냉동,다리\n",
       "8073  2019-12-30   수산물     중국     중국  ...       .000      .000    오징어         냉동,동체\n",
       "8074  2019-12-30   수산물     페루     페루  ...       .000      .000    오징어         냉동,동체\n",
       "8075  2019-12-30   수산물     중국     중국  ...       .000      .000    오징어            냉동\n",
       "\n",
       "[8076 rows x 14 columns]"
      ]
     },
     "execution_count": 228,
     "metadata": {},
     "output_type": "execute_result"
    }
   ],
   "source": [
    "sq_qty"
   ]
  },
  {
   "cell_type": "code",
   "execution_count": 229,
   "metadata": {
    "executionInfo": {
     "elapsed": 278,
     "status": "ok",
     "timestamp": 1631643290424,
     "user": {
      "displayName": "정영상",
      "photoUrl": "https://lh3.googleusercontent.com/a/default-user=s64",
      "userId": "06163646126690949139"
     },
     "user_tz": -540
    },
    "id": "wLj0AQ6OClTK"
   },
   "outputs": [],
   "source": [
    "# str타입의 수치형 데이터 전처리\n",
    "\n",
    "sq_qty['WEIGHT(KG)'] = sq_qty['WEIGHT(KG)'].apply(lambda x: float(x.replace(',','')))\n",
    "sq_qty['TOTAL_PRICE'] = sq_qty['TOTAL_PRICE'].apply(lambda x: x.replace('-', '0'))\n",
    "sq_qty['TOTAL_PRICE'] = sq_qty['TOTAL_PRICE'].apply(lambda x: x.replace(',', ''))\n",
    "sq_qty['TOTAL_PRICE'] = sq_qty['TOTAL_PRICE'].apply(lambda x: float(x))\n",
    "\n",
    "sal_qty['WEIGHT(KG)'] = sal_qty['WEIGHT(KG)'].apply(lambda x: float(x.replace(',','')))\n",
    "sal_qty['TOTAL_PRICE'] = sal_qty['TOTAL_PRICE'].apply(lambda x: x.replace('-', '0'))\n",
    "sal_qty['TOTAL_PRICE'] = sal_qty['TOTAL_PRICE'].apply(lambda x: x.replace(',', ''))\n",
    "sal_qty['TOTAL_PRICE'] = sal_qty['TOTAL_PRICE'].apply(lambda x: float(x))\n",
    "\n",
    "shr_qty['WEIGHT(KG)'] = shr_qty['WEIGHT(KG)'].apply(lambda x: float(x.replace(',','')))\n",
    "shr_qty['TOTAL_PRICE'] = shr_qty['TOTAL_PRICE'].apply(lambda x: x.replace('-', '0'))\n",
    "shr_qty['TOTAL_PRICE'] = shr_qty['TOTAL_PRICE'].apply(lambda x: x.replace(',', ''))\n",
    "shr_qty['TOTAL_PRICE'] = shr_qty['TOTAL_PRICE'].apply(lambda x: float(x))\n",
    "\n",
    "# validation data에도 적용\n",
    "sq_val_qty['WEIGHT(KG)'] = sq_val_qty['WEIGHT(KG)'].apply(lambda x: float(x.replace(',','')))\n",
    "sq_val_qty['TOTAL_PRICE'] = sq_val_qty['TOTAL_PRICE'].apply(lambda x: x.replace('-', '0'))\n",
    "sq_val_qty['TOTAL_PRICE'] = sq_val_qty['TOTAL_PRICE'].apply(lambda x: x.replace(',', ''))\n",
    "sq_val_qty['TOTAL_PRICE'] = sq_val_qty['TOTAL_PRICE'].apply(lambda x: float(x))\n",
    "\n",
    "sal_val_qty['WEIGHT(KG)'] = sal_val_qty['WEIGHT(KG)'].apply(lambda x: float(x.replace(',','')))\n",
    "sal_val_qty['TOTAL_PRICE'] = sal_val_qty['TOTAL_PRICE'].apply(lambda x: x.replace('-', '0'))\n",
    "sal_val_qty['TOTAL_PRICE'] = sal_val_qty['TOTAL_PRICE'].apply(lambda x: x.replace(',', ''))\n",
    "sal_val_qty['TOTAL_PRICE'] = sal_val_qty['TOTAL_PRICE'].apply(lambda x: float(x))\n",
    "\n",
    "shr_val_qty['WEIGHT(KG)'] = shr_val_qty['WEIGHT(KG)'].apply(lambda x: float(x.replace(',','')))\n",
    "shr_val_qty['TOTAL_PRICE'] = shr_val_qty['TOTAL_PRICE'].apply(lambda x: x.replace('-', '0'))\n",
    "shr_val_qty['TOTAL_PRICE'] = shr_val_qty['TOTAL_PRICE'].apply(lambda x: x.replace(',', ''))\n",
    "shr_val_qty['TOTAL_PRICE'] = shr_val_qty['TOTAL_PRICE'].apply(lambda x: float(x))"
   ]
  },
  {
   "cell_type": "code",
   "execution_count": 230,
   "metadata": {
    "executionInfo": {
     "elapsed": 272,
     "status": "ok",
     "timestamp": 1631643294710,
     "user": {
      "displayName": "정영상",
      "photoUrl": "https://lh3.googleusercontent.com/a/default-user=s64",
      "userId": "06163646126690949139"
     },
     "user_tz": -540
    },
    "id": "yNL0qguzBJuA"
   },
   "outputs": [],
   "source": [
    "# groupby로 같은날의 같은 수입형태의 데이터는 하나로 합침\n",
    "sq_qty = sq_qty.groupby(['date', 'CTRY_1', 'CTRY_2', 'P_NAME', 'P_IMPORT_TYPE'])\\\n",
    "                    [['WEIGHT(KG)', 'TOTAL_PRICE']].sum()\n",
    "sq_qty.reset_index(inplace=True)\n",
    "\n",
    "\n",
    "sal_qty = sal_qty.groupby(['date', 'CTRY_1', 'CTRY_2', 'P_NAME', 'P_IMPORT_TYPE'])\\\n",
    "                    [['WEIGHT(KG)', 'TOTAL_PRICE']].sum()\n",
    "sal_qty.reset_index(inplace=True)\n",
    "\n",
    "\n",
    "shr_qty = shr_qty.groupby(['date', 'CTRY_1', 'CTRY_2', 'P_NAME', 'P_IMPORT_TYPE'])\\\n",
    "                    [['WEIGHT(KG)', 'TOTAL_PRICE']].sum()\n",
    "shr_qty.reset_index(inplace=True)\n",
    "\n",
    "\n",
    "# validation data에도 적용\n",
    "sq_val_qty = sq_val_qty.groupby(['date', 'CTRY_1', 'CTRY_2', 'P_NAME', 'P_IMPORT_TYPE'])\\\n",
    "                    [['WEIGHT(KG)', 'TOTAL_PRICE']].sum()\n",
    "sq_val_qty.reset_index(inplace=True)\n",
    "\n",
    "\n",
    "sal_val_qty = sal_val_qty.groupby(['date', 'CTRY_1', 'CTRY_2', 'P_NAME', 'P_IMPORT_TYPE'])\\\n",
    "                    [['WEIGHT(KG)', 'TOTAL_PRICE']].sum()\n",
    "sal_val_qty.reset_index(inplace=True)\n",
    "\n",
    "\n",
    "shr_val_qty = shr_val_qty.groupby(['date', 'CTRY_1', 'CTRY_2', 'P_NAME', 'P_IMPORT_TYPE'])\\\n",
    "                    [['WEIGHT(KG)', 'TOTAL_PRICE']].sum()\n",
    "shr_val_qty.reset_index(inplace=True)"
   ]
  },
  {
   "cell_type": "markdown",
   "metadata": {
    "id": "Y846eFASDZy5"
   },
   "source": [
    "## 데이터 병합"
   ]
  },
  {
   "cell_type": "code",
   "execution_count": 231,
   "metadata": {
    "executionInfo": {
     "elapsed": 277,
     "status": "ok",
     "timestamp": 1631643297514,
     "user": {
      "displayName": "정영상",
      "photoUrl": "https://lh3.googleusercontent.com/a/default-user=s64",
      "userId": "06163646126690949139"
     },
     "user_tz": -540
    },
    "id": "_sOtfPy0BJpz"
   },
   "outputs": [],
   "source": [
    "# 기존 train데이터와 중량데이터 merge\n",
    "df_sq = pd.merge(sq, sq_qty, how='inner', on=['date','CTRY_1', 'CTRY_2','P_IMPORT_TYPE','P_NAME'])\n",
    "df_sal = pd.merge(sal, sal_qty, how='inner', on=['date','CTRY_1', 'CTRY_2','P_IMPORT_TYPE','P_NAME'])\n",
    "df_shr = pd.merge(shr, shr_qty, how='inner', on=['date','CTRY_1', 'CTRY_2','P_IMPORT_TYPE','P_NAME'])\n",
    "\n",
    "# 기존 validation데이터와 중량데이터 merge\n",
    "df_sq_val = pd.merge(sq_val, sq_val_qty, how='inner', on=['date','CTRY_1', 'CTRY_2','P_IMPORT_TYPE','P_NAME'])\n",
    "df_sal_val = pd.merge(sal_val, sal_val_qty, how='inner', on=['date','CTRY_1', 'CTRY_2','P_IMPORT_TYPE','P_NAME'])\n",
    "df_shr_val = pd.merge(shr_val, shr_val_qty, how='inner', on=['date','CTRY_1', 'CTRY_2','P_IMPORT_TYPE','P_NAME'])\n"
   ]
  },
  {
   "cell_type": "code",
   "execution_count": 231,
   "metadata": {
    "executionInfo": {
     "elapsed": 2,
     "status": "ok",
     "timestamp": 1631643297915,
     "user": {
      "displayName": "정영상",
      "photoUrl": "https://lh3.googleusercontent.com/a/default-user=s64",
      "userId": "06163646126690949139"
     },
     "user_tz": -540
    },
    "id": "Zs-0MBs194TX"
   },
   "outputs": [],
   "source": []
  },
  {
   "cell_type": "markdown",
   "metadata": {
    "id": "vkZjaPalEbyM"
   },
   "source": [
    "# train / validation data + temperature data"
   ]
  },
  {
   "cell_type": "code",
   "execution_count": 232,
   "metadata": {
    "executionInfo": {
     "elapsed": 2,
     "status": "ok",
     "timestamp": 1631643298677,
     "user": {
      "displayName": "정영상",
      "photoUrl": "https://lh3.googleusercontent.com/a/default-user=s64",
      "userId": "06163646126690949139"
     },
     "user_tz": -540
    },
    "id": "xjl0dgaC50PB"
   },
   "outputs": [],
   "source": [
    "## 날짜별 온도를 dictionary 형태로 변환\n",
    "def change(contury):\n",
    "    tmp = []\n",
    "    for t in contury['time']:\n",
    "        tmp.append(t[:10])\n",
    "    contury['date'] = tmp\n",
    "    contury = contury.drop(['time'],axis=1)\n",
    "    \n",
    "    dict_ = {k:v for k, v in zip(tmp, list(contury[\"thetao\"]))}\n",
    "    \n",
    "    return dict_"
   ]
  },
  {
   "cell_type": "markdown",
   "metadata": {
    "id": "37if_8huGJv_"
   },
   "source": [
    "## 오징어 온도 데이터 병합(2015~2019)"
   ]
  },
  {
   "cell_type": "code",
   "execution_count": 233,
   "metadata": {
    "colab": {
     "base_uri": "https://localhost:8080/"
    },
    "executionInfo": {
     "elapsed": 3,
     "status": "ok",
     "timestamp": 1631643299701,
     "user": {
      "displayName": "정영상",
      "photoUrl": "https://lh3.googleusercontent.com/a/default-user=s64",
      "userId": "06163646126690949139"
     },
     "user_tz": -540
    },
    "id": "v2J8Mh6_4bBc",
    "outputId": "9eec5d11-7467-410b-cebb-9750f3b5d908"
   },
   "outputs": [
    {
     "name": "stdout",
     "output_type": "stream",
     "text": [
      "file_list: ['korea-china_temp.csv', 'peru_temp.csv', 'chile_temp.csv', 'argentina_temp.csv', 'equador_temp.csv', 'newzeal_temp.csv', 'taiwan_temp.csv', 'banuatoo_temp.csv', 'russia_temp.csv']\n"
     ]
    }
   ],
   "source": [
    "path = './squid_temp/2015_2019/'\n",
    "file_list = os.listdir(path)\n",
    "print (\"file_list: {}\".format(file_list))"
   ]
  },
  {
   "cell_type": "code",
   "execution_count": 234,
   "metadata": {
    "executionInfo": {
     "elapsed": 2,
     "status": "ok",
     "timestamp": 1631643300679,
     "user": {
      "displayName": "정영상",
      "photoUrl": "https://lh3.googleusercontent.com/a/default-user=s64",
      "userId": "06163646126690949139"
     },
     "user_tz": -540
    },
    "id": "Pkedn-M34jER"
   },
   "outputs": [],
   "source": [
    "korea_china = pd.read_csv(path+file_list[0], skiprows=[0,1,2,3,4,5,6])\n",
    "peru = pd.read_csv(path+file_list[1], skiprows=[0,1,2,3,4,5,6])\n",
    "chile = pd.read_csv(path+file_list[2], skiprows=[0,1,2,3,4,5,6])\n",
    "argentina = pd.read_csv(path+file_list[3], skiprows=[0,1,2,3,4,5,6])\n",
    "equador = pd.read_csv(path+file_list[4], skiprows=[0,1,2,3,4,5,6])\n",
    "newzeal = pd.read_csv(path+file_list[5], skiprows=[0,1,2,3,4,5,6])\n",
    "taiwan = pd.read_csv(path+file_list[6], skiprows=[0,1,2,3,4,5,6])\n",
    "banuatoo = pd.read_csv(path+file_list[7], skiprows=[0,1,2,3,4,5,6])\n",
    "russia = pd.read_csv(path+file_list[8], skiprows=[0,1,2,3,4,5,6])"
   ]
  },
  {
   "cell_type": "code",
   "execution_count": 235,
   "metadata": {
    "executionInfo": {
     "elapsed": 569,
     "status": "ok",
     "timestamp": 1631643306848,
     "user": {
      "displayName": "정영상",
      "photoUrl": "https://lh3.googleusercontent.com/a/default-user=s64",
      "userId": "06163646126690949139"
     },
     "user_tz": -540
    },
    "id": "V5VDg8H98jdc"
   },
   "outputs": [],
   "source": [
    "korea_china = change(korea_china)\n",
    "peru = change(peru)\n",
    "chile = change(chile)\n",
    "argentina = change(argentina)\n",
    "equador = change(equador)\n",
    "newzeal = change(newzeal)\n",
    "taiwan = change(taiwan)\n",
    "banuatoo = change(banuatoo)\n",
    "russia = change(russia)"
   ]
  },
  {
   "cell_type": "code",
   "execution_count": 236,
   "metadata": {
    "colab": {
     "base_uri": "https://localhost:8080/"
    },
    "executionInfo": {
     "elapsed": 5,
     "status": "ok",
     "timestamp": 1631643307391,
     "user": {
      "displayName": "정영상",
      "photoUrl": "https://lh3.googleusercontent.com/a/default-user=s64",
      "userId": "06163646126690949139"
     },
     "user_tz": -540
    },
    "id": "8xU2j8UXExP5",
    "outputId": "16c44844-da18-49af-9a7c-eaa824119cb8"
   },
   "outputs": [
    {
     "data": {
      "text/plain": [
       "array(['중국', '페루', '칠레', '대만', '대한민국', '뉴질랜드', '아르헨티나', '바누아투', '에콰도르',\n",
       "       '러시아'], dtype=object)"
      ]
     },
     "execution_count": 236,
     "metadata": {},
     "output_type": "execute_result"
    }
   ],
   "source": [
    "df_sq['CTRY_1'].unique()"
   ]
  },
  {
   "cell_type": "code",
   "execution_count": 237,
   "metadata": {
    "executionInfo": {
     "elapsed": 2,
     "status": "ok",
     "timestamp": 1631643307391,
     "user": {
      "displayName": "정영상",
      "photoUrl": "https://lh3.googleusercontent.com/a/default-user=s64",
      "userId": "06163646126690949139"
     },
     "user_tz": -540
    },
    "id": "1HCxcVBm9TkE"
   },
   "outputs": [],
   "source": [
    "temp = []\n",
    "for day, crt in zip(df_sq['date'], df_sq['CTRY_1']):\n",
    "  if crt == \"중국\":\n",
    "    temp.append(korea_china[day])\n",
    "  elif crt == \"페루\":\n",
    "    temp.append(peru[day])\n",
    "  elif crt == \"칠레\":\n",
    "    temp.append(chile[day])\n",
    "  elif crt == \"대만\":\n",
    "    temp.append(taiwan[day])\n",
    "  elif crt == \"대한민국\":\n",
    "    temp.append(korea_china[day])\n",
    "  elif crt == \"뉴질랜드\":\n",
    "    temp.append(newzeal[day])\n",
    "  elif crt == \"아르헨티나\":\n",
    "    temp.append(argentina[day])\n",
    "  elif crt == \"바누아투\":\n",
    "    temp.append(banuatoo[day])\n",
    "  elif crt == \"에콰도르\":\n",
    "    temp.append(equador[day])\n",
    "  else:\n",
    "    temp.append(russia[day])\n",
    "        "
   ]
  },
  {
   "cell_type": "code",
   "execution_count": 238,
   "metadata": {
    "executionInfo": {
     "elapsed": 9,
     "status": "ok",
     "timestamp": 1631643307804,
     "user": {
      "displayName": "정영상",
      "photoUrl": "https://lh3.googleusercontent.com/a/default-user=s64",
      "userId": "06163646126690949139"
     },
     "user_tz": -540
    },
    "id": "shGF7OoqFJSB"
   },
   "outputs": [],
   "source": [
    "df_sq['temp']=temp"
   ]
  },
  {
   "cell_type": "code",
   "execution_count": 239,
   "metadata": {
    "colab": {
     "base_uri": "https://localhost:8080/",
     "height": 419
    },
    "executionInfo": {
     "elapsed": 9,
     "status": "ok",
     "timestamp": 1631643307805,
     "user": {
      "displayName": "정영상",
      "photoUrl": "https://lh3.googleusercontent.com/a/default-user=s64",
      "userId": "06163646126690949139"
     },
     "user_tz": -540
    },
    "id": "-G-zM_OXP8eo",
    "outputId": "de8a147a-7def-4151-aa18-d663c398402e"
   },
   "outputs": [
    {
     "data": {
      "text/html": [
       "<div>\n",
       "<style scoped>\n",
       "    .dataframe tbody tr th:only-of-type {\n",
       "        vertical-align: middle;\n",
       "    }\n",
       "\n",
       "    .dataframe tbody tr th {\n",
       "        vertical-align: top;\n",
       "    }\n",
       "\n",
       "    .dataframe thead th {\n",
       "        text-align: right;\n",
       "    }\n",
       "</style>\n",
       "<table border=\"1\" class=\"dataframe\">\n",
       "  <thead>\n",
       "    <tr style=\"text-align: right;\">\n",
       "      <th></th>\n",
       "      <th>REG_DATE</th>\n",
       "      <th>P_TYPE</th>\n",
       "      <th>CTRY_1</th>\n",
       "      <th>CTRY_2</th>\n",
       "      <th>P_PURPOSE</th>\n",
       "      <th>CATEGORY_1</th>\n",
       "      <th>CATEGORY_2</th>\n",
       "      <th>P_NAME</th>\n",
       "      <th>P_IMPORT_TYPE</th>\n",
       "      <th>P_PRICE</th>\n",
       "      <th>date_m</th>\n",
       "      <th>date_y</th>\n",
       "      <th>date</th>\n",
       "      <th>WEIGHT(KG)</th>\n",
       "      <th>TOTAL_PRICE</th>\n",
       "      <th>temp</th>\n",
       "    </tr>\n",
       "  </thead>\n",
       "  <tbody>\n",
       "    <tr>\n",
       "      <th>0</th>\n",
       "      <td>2015-12-28</td>\n",
       "      <td>수산물</td>\n",
       "      <td>중국</td>\n",
       "      <td>중국</td>\n",
       "      <td>판매용</td>\n",
       "      <td>연체류 해물모듬</td>\n",
       "      <td>오징어</td>\n",
       "      <td>오징어</td>\n",
       "      <td>냉동,동체</td>\n",
       "      <td>0.793729</td>\n",
       "      <td>2015-12</td>\n",
       "      <td>2015</td>\n",
       "      <td>2015-12-28</td>\n",
       "      <td>33475.0</td>\n",
       "      <td>29328.00</td>\n",
       "      <td>4.435041</td>\n",
       "    </tr>\n",
       "    <tr>\n",
       "      <th>1</th>\n",
       "      <td>2015-12-28</td>\n",
       "      <td>수산물</td>\n",
       "      <td>페루</td>\n",
       "      <td>페루</td>\n",
       "      <td>판매용</td>\n",
       "      <td>연체류 해물모듬</td>\n",
       "      <td>오징어</td>\n",
       "      <td>오징어</td>\n",
       "      <td>냉동,다리</td>\n",
       "      <td>1.233434</td>\n",
       "      <td>2015-12</td>\n",
       "      <td>2015</td>\n",
       "      <td>2015-12-28</td>\n",
       "      <td>46200.0</td>\n",
       "      <td>0.00</td>\n",
       "      <td>14.602099</td>\n",
       "    </tr>\n",
       "    <tr>\n",
       "      <th>2</th>\n",
       "      <td>2015-12-28</td>\n",
       "      <td>수산물</td>\n",
       "      <td>페루</td>\n",
       "      <td>페루</td>\n",
       "      <td>판매용</td>\n",
       "      <td>연체류 해물모듬</td>\n",
       "      <td>오징어</td>\n",
       "      <td>오징어</td>\n",
       "      <td>냉동,동체,자숙</td>\n",
       "      <td>5.481140</td>\n",
       "      <td>2015-12</td>\n",
       "      <td>2015</td>\n",
       "      <td>2015-12-28</td>\n",
       "      <td>66560.0</td>\n",
       "      <td>189200.00</td>\n",
       "      <td>14.602099</td>\n",
       "    </tr>\n",
       "    <tr>\n",
       "      <th>3</th>\n",
       "      <td>2015-12-28</td>\n",
       "      <td>수산물</td>\n",
       "      <td>칠레</td>\n",
       "      <td>칠레</td>\n",
       "      <td>판매용</td>\n",
       "      <td>연체류 해물모듬</td>\n",
       "      <td>오징어</td>\n",
       "      <td>오징어</td>\n",
       "      <td>냉동,지느러미</td>\n",
       "      <td>0.762758</td>\n",
       "      <td>2015-12</td>\n",
       "      <td>2015</td>\n",
       "      <td>2015-12-28</td>\n",
       "      <td>48000.0</td>\n",
       "      <td>40080.00</td>\n",
       "      <td>14.845271</td>\n",
       "    </tr>\n",
       "    <tr>\n",
       "      <th>4</th>\n",
       "      <td>2015-12-28</td>\n",
       "      <td>수산물</td>\n",
       "      <td>칠레</td>\n",
       "      <td>칠레</td>\n",
       "      <td>판매용</td>\n",
       "      <td>연체류 해물모듬</td>\n",
       "      <td>오징어</td>\n",
       "      <td>오징어</td>\n",
       "      <td>냉동,동체</td>\n",
       "      <td>0.962386</td>\n",
       "      <td>2015-12</td>\n",
       "      <td>2015</td>\n",
       "      <td>2015-12-28</td>\n",
       "      <td>48000.0</td>\n",
       "      <td>48000.00</td>\n",
       "      <td>14.845271</td>\n",
       "    </tr>\n",
       "    <tr>\n",
       "      <th>...</th>\n",
       "      <td>...</td>\n",
       "      <td>...</td>\n",
       "      <td>...</td>\n",
       "      <td>...</td>\n",
       "      <td>...</td>\n",
       "      <td>...</td>\n",
       "      <td>...</td>\n",
       "      <td>...</td>\n",
       "      <td>...</td>\n",
       "      <td>...</td>\n",
       "      <td>...</td>\n",
       "      <td>...</td>\n",
       "      <td>...</td>\n",
       "      <td>...</td>\n",
       "      <td>...</td>\n",
       "      <td>...</td>\n",
       "    </tr>\n",
       "    <tr>\n",
       "      <th>1328</th>\n",
       "      <td>2019-12-30</td>\n",
       "      <td>수산물</td>\n",
       "      <td>페루</td>\n",
       "      <td>페루</td>\n",
       "      <td>판매용</td>\n",
       "      <td>연체류 해물모듬</td>\n",
       "      <td>오징어</td>\n",
       "      <td>오징어</td>\n",
       "      <td>냉동,다리</td>\n",
       "      <td>2.425554</td>\n",
       "      <td>2019-12</td>\n",
       "      <td>2019</td>\n",
       "      <td>2019-12-30</td>\n",
       "      <td>9240.0</td>\n",
       "      <td>21976.00</td>\n",
       "      <td>14.967589</td>\n",
       "    </tr>\n",
       "    <tr>\n",
       "      <th>1329</th>\n",
       "      <td>2019-12-30</td>\n",
       "      <td>수산물</td>\n",
       "      <td>중국</td>\n",
       "      <td>중국</td>\n",
       "      <td>판매용</td>\n",
       "      <td>연체류 해물모듬</td>\n",
       "      <td>오징어</td>\n",
       "      <td>오징어</td>\n",
       "      <td>냉동,동체</td>\n",
       "      <td>3.906298</td>\n",
       "      <td>2019-12</td>\n",
       "      <td>2019</td>\n",
       "      <td>2019-12-30</td>\n",
       "      <td>37000.0</td>\n",
       "      <td>147700.00</td>\n",
       "      <td>8.451765</td>\n",
       "    </tr>\n",
       "    <tr>\n",
       "      <th>1330</th>\n",
       "      <td>2019-12-30</td>\n",
       "      <td>수산물</td>\n",
       "      <td>페루</td>\n",
       "      <td>페루</td>\n",
       "      <td>판매용</td>\n",
       "      <td>연체류 해물모듬</td>\n",
       "      <td>오징어</td>\n",
       "      <td>오징어</td>\n",
       "      <td>냉동,지느러미</td>\n",
       "      <td>1.760060</td>\n",
       "      <td>2019-12</td>\n",
       "      <td>2019</td>\n",
       "      <td>2019-12-30</td>\n",
       "      <td>4410.0</td>\n",
       "      <td>0.00</td>\n",
       "      <td>14.967589</td>\n",
       "    </tr>\n",
       "    <tr>\n",
       "      <th>1331</th>\n",
       "      <td>2019-12-30</td>\n",
       "      <td>수산물</td>\n",
       "      <td>페루</td>\n",
       "      <td>페루</td>\n",
       "      <td>판매용</td>\n",
       "      <td>연체류 해물모듬</td>\n",
       "      <td>오징어</td>\n",
       "      <td>오징어</td>\n",
       "      <td>냉동,동체</td>\n",
       "      <td>2.281843</td>\n",
       "      <td>2019-12</td>\n",
       "      <td>2019</td>\n",
       "      <td>2019-12-30</td>\n",
       "      <td>62350.0</td>\n",
       "      <td>140950.00</td>\n",
       "      <td>14.967589</td>\n",
       "    </tr>\n",
       "    <tr>\n",
       "      <th>1332</th>\n",
       "      <td>2019-12-30</td>\n",
       "      <td>수산물</td>\n",
       "      <td>중국</td>\n",
       "      <td>중국</td>\n",
       "      <td>판매용</td>\n",
       "      <td>연체류 해물모듬</td>\n",
       "      <td>오징어</td>\n",
       "      <td>오징어</td>\n",
       "      <td>냉동</td>\n",
       "      <td>4.108244</td>\n",
       "      <td>2019-12</td>\n",
       "      <td>2019</td>\n",
       "      <td>2019-12-30</td>\n",
       "      <td>293980.0</td>\n",
       "      <td>1214603.32</td>\n",
       "      <td>8.451765</td>\n",
       "    </tr>\n",
       "  </tbody>\n",
       "</table>\n",
       "<p>1333 rows × 16 columns</p>\n",
       "</div>"
      ],
      "text/plain": [
       "       REG_DATE P_TYPE CTRY_1  ... WEIGHT(KG) TOTAL_PRICE       temp\n",
       "0    2015-12-28    수산물     중국  ...    33475.0    29328.00   4.435041\n",
       "1    2015-12-28    수산물     페루  ...    46200.0        0.00  14.602099\n",
       "2    2015-12-28    수산물     페루  ...    66560.0   189200.00  14.602099\n",
       "3    2015-12-28    수산물     칠레  ...    48000.0    40080.00  14.845271\n",
       "4    2015-12-28    수산물     칠레  ...    48000.0    48000.00  14.845271\n",
       "...         ...    ...    ...  ...        ...         ...        ...\n",
       "1328 2019-12-30    수산물     페루  ...     9240.0    21976.00  14.967589\n",
       "1329 2019-12-30    수산물     중국  ...    37000.0   147700.00   8.451765\n",
       "1330 2019-12-30    수산물     페루  ...     4410.0        0.00  14.967589\n",
       "1331 2019-12-30    수산물     페루  ...    62350.0   140950.00  14.967589\n",
       "1332 2019-12-30    수산물     중국  ...   293980.0  1214603.32   8.451765\n",
       "\n",
       "[1333 rows x 16 columns]"
      ]
     },
     "execution_count": 239,
     "metadata": {},
     "output_type": "execute_result"
    }
   ],
   "source": [
    "df_sq"
   ]
  },
  {
   "cell_type": "markdown",
   "metadata": {
    "id": "H1Ro9BUjJGqz"
   },
   "source": [
    "## 오징어 온도 데이터 병합(2020)"
   ]
  },
  {
   "cell_type": "code",
   "execution_count": 240,
   "metadata": {
    "colab": {
     "base_uri": "https://localhost:8080/"
    },
    "executionInfo": {
     "elapsed": 8,
     "status": "ok",
     "timestamp": 1631643307805,
     "user": {
      "displayName": "정영상",
      "photoUrl": "https://lh3.googleusercontent.com/a/default-user=s64",
      "userId": "06163646126690949139"
     },
     "user_tz": -540
    },
    "id": "0hTuAK9IGBE1",
    "outputId": "3211b704-60b8-4c85-a3e8-4553ab9abc58"
   },
   "outputs": [
    {
     "name": "stdout",
     "output_type": "stream",
     "text": [
      "file_list: ['2020taiwan_temp.csv', '2020newzeal_temp.csv', '2020equador_temp.csv', '2020argentina_temp.csv', '2020chile_temp.csv', '2020peru_temp.csv', '2020korea-china_temp.csv', '2020uruguy_temp.csv', '2020indonesia_temp.csv', '2020russia_temp.csv', '2020cananda_temp.csv', '2020usa_temp.csv']\n"
     ]
    }
   ],
   "source": [
    "path = './squid_temp/2020/'\n",
    "file_list = os.listdir(path)\n",
    "print (\"file_list: {}\".format(file_list))"
   ]
  },
  {
   "cell_type": "code",
   "execution_count": 241,
   "metadata": {
    "executionInfo": {
     "elapsed": 6,
     "status": "ok",
     "timestamp": 1631643307806,
     "user": {
      "displayName": "정영상",
      "photoUrl": "https://lh3.googleusercontent.com/a/default-user=s64",
      "userId": "06163646126690949139"
     },
     "user_tz": -540
    },
    "id": "EpCMZCmkJK0v"
   },
   "outputs": [],
   "source": [
    "taiwan = pd.read_csv(path+file_list[0], skiprows=[0,1,2,3,4,5,6])\n",
    "newzeal = pd.read_csv(path+file_list[1], skiprows=[0,1,2,3,4,5,6])\n",
    "equador = pd.read_csv(path+file_list[2], skiprows=[0,1,2,3,4,5,6])\n",
    "argentina = pd.read_csv(path+file_list[3], skiprows=[0,1,2,3,4,5,6])\n",
    "chile = pd.read_csv(path+file_list[4], skiprows=[0,1,2,3,4,5,6])\n",
    "peru = pd.read_csv(path+file_list[5], skiprows=[0,1,2,3,4,5,6])\n",
    "korea_china = pd.read_csv(path+file_list[6], skiprows=[0,1,2,3,4,5,6])\n",
    "uruguy = pd.read_csv(path+file_list[7], skiprows=[0,1,2,3,4,5,6])\n",
    "indonesia = pd.read_csv(path+file_list[8], skiprows=[0,1,2,3,4,5,6])\n",
    "russia = pd.read_csv(path+file_list[9], skiprows=[0,1,2,3,4,5,6])\n",
    "cananda = pd.read_csv(path+file_list[10], skiprows=[0,1,2,3,4,5,6])\n",
    "usa = pd.read_csv(path+file_list[11], skiprows=[0,1,2,3,4,5,6])"
   ]
  },
  {
   "cell_type": "code",
   "execution_count": 242,
   "metadata": {
    "executionInfo": {
     "elapsed": 12,
     "status": "ok",
     "timestamp": 1631643308225,
     "user": {
      "displayName": "정영상",
      "photoUrl": "https://lh3.googleusercontent.com/a/default-user=s64",
      "userId": "06163646126690949139"
     },
     "user_tz": -540
    },
    "id": "8nBDaeW6JgJ8"
   },
   "outputs": [],
   "source": [
    "taiwan = change(taiwan)\n",
    "newzeal = change(newzeal)\n",
    "equador = change(equador)\n",
    "argentina = change(argentina)\n",
    "chile = change(chile)\n",
    "peru = change(peru)\n",
    "korea_china = change(korea_china)\n",
    "uruguy = change(uruguy)\n",
    "indonesia = change(indonesia)\n",
    "russia = change(russia)\n",
    "cananda = change(cananda)\n",
    "usa = change(usa)"
   ]
  },
  {
   "cell_type": "code",
   "execution_count": 243,
   "metadata": {
    "colab": {
     "base_uri": "https://localhost:8080/"
    },
    "executionInfo": {
     "elapsed": 13,
     "status": "ok",
     "timestamp": 1631643308226,
     "user": {
      "displayName": "정영상",
      "photoUrl": "https://lh3.googleusercontent.com/a/default-user=s64",
      "userId": "06163646126690949139"
     },
     "user_tz": -540
    },
    "id": "FLqC2w8RJydN",
    "outputId": "0fc59413-0791-4c2c-8f22-1f7cbad998c0"
   },
   "outputs": [
    {
     "data": {
      "text/plain": [
       "array(['페루', '칠레', '중국', '대만', '러시아', '인도네시아', '미국', '아르헨티나', '대한민국',\n",
       "       '뉴질랜드', '캐나다', '우루과이'], dtype=object)"
      ]
     },
     "execution_count": 243,
     "metadata": {},
     "output_type": "execute_result"
    }
   ],
   "source": [
    "df_sq_val['CTRY_1'].unique()"
   ]
  },
  {
   "cell_type": "code",
   "execution_count": 244,
   "metadata": {
    "executionInfo": {
     "elapsed": 5,
     "status": "ok",
     "timestamp": 1631643308226,
     "user": {
      "displayName": "정영상",
      "photoUrl": "https://lh3.googleusercontent.com/a/default-user=s64",
      "userId": "06163646126690949139"
     },
     "user_tz": -540
    },
    "id": "2gsBO0NQJ2-S"
   },
   "outputs": [],
   "source": [
    "temp = []\n",
    "for day, crt in zip(df_sq_val['date'], df_sq_val['CTRY_1']):\n",
    "  if crt == \"페루\":\n",
    "    temp.append(peru[day])\n",
    "  elif crt == \"칠레\":\n",
    "    temp.append(chile[day])\n",
    "  elif crt == \"중국\":\n",
    "    temp.append(korea_china[day])\n",
    "  elif crt == \"대만\":\n",
    "    temp.append(taiwan[day])\n",
    "  elif crt == \"러시아\":\n",
    "    temp.append(russia[day])\n",
    "  elif crt == \"인도네시아\":\n",
    "    temp.append(indonesia[day])\n",
    "  elif crt == \"미국\":\n",
    "    temp.append(usa[day])\n",
    "  elif crt == \"아르헨티나\":\n",
    "    temp.append(argentina[day])\n",
    "  elif crt == \"대한민국\":\n",
    "    temp.append(korea_china[day])\n",
    "  elif crt == \"뉴질랜드\":\n",
    "    temp.append(newzeal[day])\n",
    "  elif crt == \"캐나다\":\n",
    "    temp.append(cananda[day])\n",
    "  else:\n",
    "    temp.append(uruguy[day])"
   ]
  },
  {
   "cell_type": "code",
   "execution_count": 245,
   "metadata": {
    "executionInfo": {
     "elapsed": 4,
     "status": "ok",
     "timestamp": 1631643308226,
     "user": {
      "displayName": "정영상",
      "photoUrl": "https://lh3.googleusercontent.com/a/default-user=s64",
      "userId": "06163646126690949139"
     },
     "user_tz": -540
    },
    "id": "RIv1YbUAKior"
   },
   "outputs": [],
   "source": [
    "df_sq_val['temp']=temp"
   ]
  },
  {
   "cell_type": "markdown",
   "metadata": {
    "id": "dKErKwTxKtL3"
   },
   "source": [
    "## 연어 온도 데이터 병합(2015_2019)"
   ]
  },
  {
   "cell_type": "code",
   "execution_count": 246,
   "metadata": {
    "colab": {
     "base_uri": "https://localhost:8080/"
    },
    "executionInfo": {
     "elapsed": 9,
     "status": "ok",
     "timestamp": 1631643308695,
     "user": {
      "displayName": "정영상",
      "photoUrl": "https://lh3.googleusercontent.com/a/default-user=s64",
      "userId": "06163646126690949139"
     },
     "user_tz": -540
    },
    "id": "lWBRMcqgKqoU",
    "outputId": "00f0de67-0879-4da4-cc83-110c63ea620e"
   },
   "outputs": [
    {
     "name": "stdout",
     "output_type": "stream",
     "text": [
      "file_list: ['uk_temp.csv', 'norway_temp.csv', 'usa_temp.csv', 'aus_temp.csv', 'canada_temp.csv', 'chile_temp.csv', 'ireland_temp.csv', 'island_temp.csv', 'russia_temp.csv']\n"
     ]
    }
   ],
   "source": [
    "path = './salmon_temp/2015_2019/'\n",
    "file_list = os.listdir(path)\n",
    "print (\"file_list: {}\".format(file_list))"
   ]
  },
  {
   "cell_type": "code",
   "execution_count": 247,
   "metadata": {
    "executionInfo": {
     "elapsed": 3,
     "status": "ok",
     "timestamp": 1631643308696,
     "user": {
      "displayName": "정영상",
      "photoUrl": "https://lh3.googleusercontent.com/a/default-user=s64",
      "userId": "06163646126690949139"
     },
     "user_tz": -540
    },
    "id": "AELjR9VfK0ao"
   },
   "outputs": [],
   "source": [
    "uk = pd.read_csv(path+file_list[0], skiprows=[0,1,2,3,4,5,6])\n",
    "norway = pd.read_csv(path+file_list[1], skiprows=[0,1,2,3,4,5,6])\n",
    "usa = pd.read_csv(path+file_list[2], skiprows=[0,1,2,3,4,5,6])\n",
    "aus = pd.read_csv(path+file_list[3], skiprows=[0,1,2,3,4,5,6])\n",
    "canada = pd.read_csv(path+file_list[4], skiprows=[0,1,2,3,4,5,6])\n",
    "chile = pd.read_csv(path+file_list[5], skiprows=[0,1,2,3,4,5,6])\n",
    "ireland = pd.read_csv(path+file_list[6], skiprows=[0,1,2,3,4,5,6])\n",
    "island = pd.read_csv(path+file_list[7], skiprows=[0,1,2,3,4,5,6])\n",
    "russia = pd.read_csv(path+file_list[8], skiprows=[0,1,2,3,4,5,6])"
   ]
  },
  {
   "cell_type": "code",
   "execution_count": 248,
   "metadata": {
    "executionInfo": {
     "elapsed": 8,
     "status": "ok",
     "timestamp": 1631643309112,
     "user": {
      "displayName": "정영상",
      "photoUrl": "https://lh3.googleusercontent.com/a/default-user=s64",
      "userId": "06163646126690949139"
     },
     "user_tz": -540
    },
    "id": "4c3Q1O0OMRvN"
   },
   "outputs": [],
   "source": [
    "uk = change(uk)\n",
    "norway = change(norway)\n",
    "usa = change(usa)\n",
    "aus = change(aus)\n",
    "canada = change(canada)\n",
    "chile = change(chile)\n",
    "ireland = change(ireland)\n",
    "island = change(island)\n",
    "russia = change(russia)"
   ]
  },
  {
   "cell_type": "code",
   "execution_count": 249,
   "metadata": {
    "colab": {
     "base_uri": "https://localhost:8080/"
    },
    "executionInfo": {
     "elapsed": 7,
     "status": "ok",
     "timestamp": 1631643309112,
     "user": {
      "displayName": "정영상",
      "photoUrl": "https://lh3.googleusercontent.com/a/default-user=s64",
      "userId": "06163646126690949139"
     },
     "user_tz": -540
    },
    "id": "xMVsrJGJMlYz",
    "outputId": "3253d6d1-f73d-4ab1-eb26-df22a7375cc1"
   },
   "outputs": [
    {
     "data": {
      "text/plain": [
       "array(['노르웨이', '캐나다', '영국', '칠레', '아일랜드', '미국', '러시아', '호주', '아이슬란드'],\n",
       "      dtype=object)"
      ]
     },
     "execution_count": 249,
     "metadata": {},
     "output_type": "execute_result"
    }
   ],
   "source": [
    "df_sal['CTRY_1'].unique()"
   ]
  },
  {
   "cell_type": "code",
   "execution_count": 250,
   "metadata": {
    "executionInfo": {
     "elapsed": 4,
     "status": "ok",
     "timestamp": 1631643309113,
     "user": {
      "displayName": "정영상",
      "photoUrl": "https://lh3.googleusercontent.com/a/default-user=s64",
      "userId": "06163646126690949139"
     },
     "user_tz": -540
    },
    "id": "6g8qc118Muih"
   },
   "outputs": [],
   "source": [
    "temp = []\n",
    "for day, crt in zip(df_sal['date'], df_sal['CTRY_1']):\n",
    "  if crt == \"노르웨이\":\n",
    "    temp.append(norway[day])\n",
    "  elif crt == \"캐나다\":\n",
    "    temp.append(canada[day])\n",
    "  elif crt == \"영국\":\n",
    "    temp.append(uk[day])\n",
    "  elif crt == \"칠레\":\n",
    "    temp.append(chile[day])\n",
    "  elif crt == \"아일랜드\":\n",
    "    temp.append(ireland[day])\n",
    "  elif crt == \"미국\":\n",
    "    temp.append(usa[day])\n",
    "  elif crt == \"러시아\":\n",
    "    temp.append(russia[day])\n",
    "  elif crt == \"호주\":\n",
    "    temp.append(aus[day])\n",
    "  else:\n",
    "    temp.append(island[day])"
   ]
  },
  {
   "cell_type": "code",
   "execution_count": 251,
   "metadata": {
    "executionInfo": {
     "elapsed": 5,
     "status": "ok",
     "timestamp": 1631643309735,
     "user": {
      "displayName": "정영상",
      "photoUrl": "https://lh3.googleusercontent.com/a/default-user=s64",
      "userId": "06163646126690949139"
     },
     "user_tz": -540
    },
    "id": "vhWu9hN8NA2x"
   },
   "outputs": [],
   "source": [
    "df_sal['temp']=temp"
   ]
  },
  {
   "cell_type": "markdown",
   "metadata": {
    "id": "asNrA5l3NEo1"
   },
   "source": [
    "## 연어 온도 데이터 병합(2020)"
   ]
  },
  {
   "cell_type": "code",
   "execution_count": 252,
   "metadata": {
    "colab": {
     "base_uri": "https://localhost:8080/"
    },
    "executionInfo": {
     "elapsed": 5,
     "status": "ok",
     "timestamp": 1631643309736,
     "user": {
      "displayName": "정영상",
      "photoUrl": "https://lh3.googleusercontent.com/a/default-user=s64",
      "userId": "06163646126690949139"
     },
     "user_tz": -540
    },
    "id": "PDgHcBLONDWy",
    "outputId": "1c1ce228-040a-4764-8b14-209e857e231e"
   },
   "outputs": [
    {
     "name": "stdout",
     "output_type": "stream",
     "text": [
      "file_list: ['2020canada_temp.csv', '2020aus_temp.csv', '2020russia_temp.csv', '2020island_temp.csv', '2020chile_temp.csv', '2020usa_temp.csv', '2020norway_temp.csv', '2020uk_temp.csv']\n"
     ]
    }
   ],
   "source": [
    "path = './salmon_temp/2020/'\n",
    "file_list = os.listdir(path)\n",
    "print (\"file_list: {}\".format(file_list))"
   ]
  },
  {
   "cell_type": "code",
   "execution_count": 253,
   "metadata": {
    "executionInfo": {
     "elapsed": 7,
     "status": "ok",
     "timestamp": 1631643310168,
     "user": {
      "displayName": "정영상",
      "photoUrl": "https://lh3.googleusercontent.com/a/default-user=s64",
      "userId": "06163646126690949139"
     },
     "user_tz": -540
    },
    "id": "jzR9lWG9NMB8"
   },
   "outputs": [],
   "source": [
    "canada = pd.read_csv(path+file_list[0], skiprows=[0,1,2,3,4,5,6])\n",
    "aus = pd.read_csv(path+file_list[1], skiprows=[0,1,2,3,4,5,6])\n",
    "russia = pd.read_csv(path+file_list[2], skiprows=[0,1,2,3,4,5,6])\n",
    "island = pd.read_csv(path+file_list[3], skiprows=[0,1,2,3,4,5,6])\n",
    "chile = pd.read_csv(path+file_list[4], skiprows=[0,1,2,3,4,5,6])\n",
    "usa = pd.read_csv(path+file_list[5], skiprows=[0,1,2,3,4,5,6])\n",
    "norway = pd.read_csv(path+file_list[6], skiprows=[0,1,2,3,4,5,6])\n",
    "uk = pd.read_csv(path+file_list[7], skiprows=[0,1,2,3,4,5,6])"
   ]
  },
  {
   "cell_type": "code",
   "execution_count": 254,
   "metadata": {
    "executionInfo": {
     "elapsed": 7,
     "status": "ok",
     "timestamp": 1631643310169,
     "user": {
      "displayName": "정영상",
      "photoUrl": "https://lh3.googleusercontent.com/a/default-user=s64",
      "userId": "06163646126690949139"
     },
     "user_tz": -540
    },
    "id": "W9BSYSf1NikY"
   },
   "outputs": [],
   "source": [
    "canada = change(canada)\n",
    "aus = change(aus)\n",
    "russia = change(russia)\n",
    "island = change(island)\n",
    "chile = change(chile)\n",
    "usa = change(usa)\n",
    "norway = change(norway)\n",
    "uk = change(uk)"
   ]
  },
  {
   "cell_type": "code",
   "execution_count": 255,
   "metadata": {
    "colab": {
     "base_uri": "https://localhost:8080/"
    },
    "executionInfo": {
     "elapsed": 7,
     "status": "ok",
     "timestamp": 1631643310169,
     "user": {
      "displayName": "정영상",
      "photoUrl": "https://lh3.googleusercontent.com/a/default-user=s64",
      "userId": "06163646126690949139"
     },
     "user_tz": -540
    },
    "id": "EeqgI4ONNmTM",
    "outputId": "6ae54335-f93a-4bd9-f92c-8f7e683f33b4"
   },
   "outputs": [
    {
     "data": {
      "text/plain": [
       "array(['노르웨이', '영국', '아이슬란드', '캐나다', '칠레', '호주', '미국'], dtype=object)"
      ]
     },
     "execution_count": 255,
     "metadata": {},
     "output_type": "execute_result"
    }
   ],
   "source": [
    "df_sal_val['CTRY_1'].unique()"
   ]
  },
  {
   "cell_type": "code",
   "execution_count": 256,
   "metadata": {
    "executionInfo": {
     "elapsed": 4,
     "status": "ok",
     "timestamp": 1631643310170,
     "user": {
      "displayName": "정영상",
      "photoUrl": "https://lh3.googleusercontent.com/a/default-user=s64",
      "userId": "06163646126690949139"
     },
     "user_tz": -540
    },
    "id": "7KnEzgYfNz0m"
   },
   "outputs": [],
   "source": [
    "temp = []\n",
    "for day, crt in zip(df_sal_val['date'], df_sal_val['CTRY_1']):\n",
    "  if crt == \"노르웨이\":\n",
    "    temp.append(norway[day])\n",
    "  elif crt == \"영국\":\n",
    "    temp.append(uk[day])\n",
    "  elif crt == \"아이슬란드\":\n",
    "    temp.append(island[day])\n",
    "  elif crt == \"캐나다\":\n",
    "    temp.append(canada[day])\n",
    "  elif crt == \"칠레\":\n",
    "    temp.append(chile[day])\n",
    "  elif crt == \"호주\":\n",
    "    temp.append(aus[day])\n",
    "  else:\n",
    "    temp.append(usa[day])\n"
   ]
  },
  {
   "cell_type": "code",
   "execution_count": 257,
   "metadata": {
    "executionInfo": {
     "elapsed": 4,
     "status": "ok",
     "timestamp": 1631643310170,
     "user": {
      "displayName": "정영상",
      "photoUrl": "https://lh3.googleusercontent.com/a/default-user=s64",
      "userId": "06163646126690949139"
     },
     "user_tz": -540
    },
    "id": "Ub7Upr6qO6HU"
   },
   "outputs": [],
   "source": [
    "df_sal_val['temp']=temp"
   ]
  },
  {
   "cell_type": "markdown",
   "metadata": {
    "id": "l4vaki0lQcdd"
   },
   "source": [
    "## 흰다리새우 온도 데이터 병합(2015~2019)"
   ]
  },
  {
   "cell_type": "code",
   "execution_count": 258,
   "metadata": {
    "colab": {
     "base_uri": "https://localhost:8080/"
    },
    "executionInfo": {
     "elapsed": 5,
     "status": "ok",
     "timestamp": 1631643310581,
     "user": {
      "displayName": "정영상",
      "photoUrl": "https://lh3.googleusercontent.com/a/default-user=s64",
      "userId": "06163646126690949139"
     },
     "user_tz": -540
    },
    "id": "-csBvbc0Qbqb",
    "outputId": "c6d9a8cf-fb15-47cd-e9e7-b9fb811110fc"
   },
   "outputs": [
    {
     "name": "stdout",
     "output_type": "stream",
     "text": [
      "file_list: ['china_temp.csv', 'saudi_temp.csv', 'india_temp.csv', 'indonesia_temp.csv', 'equador_temp.csv', 'philipines_temp.csv', 'thai_temp.csv', 'vietnam_temp.csv', 'malay_temp.csv', 'panama_temp.csv', 'peru_temp.csv', 'columbia_temp.csv']\n"
     ]
    }
   ],
   "source": [
    "path = './shrimp_temp/2015_2019/'\n",
    "file_list = os.listdir(path)\n",
    "print (\"file_list: {}\".format(file_list))"
   ]
  },
  {
   "cell_type": "code",
   "execution_count": 259,
   "metadata": {
    "executionInfo": {
     "elapsed": 3,
     "status": "ok",
     "timestamp": 1631643310582,
     "user": {
      "displayName": "정영상",
      "photoUrl": "https://lh3.googleusercontent.com/a/default-user=s64",
      "userId": "06163646126690949139"
     },
     "user_tz": -540
    },
    "id": "3k6OAmwuQ2mO"
   },
   "outputs": [],
   "source": [
    "china = pd.read_csv(path+file_list[0], skiprows=[0,1,2,3,4,5,6])\n",
    "saudi = pd.read_csv(path+file_list[1], skiprows=[0,1,2,3,4,5,6])\n",
    "india = pd.read_csv(path+file_list[2], skiprows=[0,1,2,3,4,5,6])\n",
    "indonesia = pd.read_csv(path+file_list[3], skiprows=[0,1,2,3,4,5,6])\n",
    "equador = pd.read_csv(path+file_list[4], skiprows=[0,1,2,3,4,5,6])\n",
    "philipines = pd.read_csv(path+file_list[5], skiprows=[0,1,2,3,4,5,6])\n",
    "thai = pd.read_csv(path+file_list[6], skiprows=[0,1,2,3,4,5,6])\n",
    "vietnam = pd.read_csv(path+file_list[7], skiprows=[0,1,2,3,4,5,6])\n",
    "malay = pd.read_csv(path+file_list[8], skiprows=[0,1,2,3,4,5,6])\n",
    "panama = pd.read_csv(path+file_list[8], skiprows=[0,1,2,3,4,5,6])\n",
    "peru = pd.read_csv(path+file_list[8], skiprows=[0,1,2,3,4,5,6])\n",
    "columbia = pd.read_csv(path+file_list[9], skiprows=[0,1,2,3,4,5,6])"
   ]
  },
  {
   "cell_type": "code",
   "execution_count": 260,
   "metadata": {
    "executionInfo": {
     "elapsed": 11,
     "status": "ok",
     "timestamp": 1631643311020,
     "user": {
      "displayName": "정영상",
      "photoUrl": "https://lh3.googleusercontent.com/a/default-user=s64",
      "userId": "06163646126690949139"
     },
     "user_tz": -540
    },
    "id": "mcHFJWInRDEh"
   },
   "outputs": [],
   "source": [
    "china = change(china)\n",
    "saudi = change(saudi)\n",
    "india = change(india)\n",
    "indonesia = change(indonesia)\n",
    "equador = change(equador)\n",
    "philipines = change(philipines)\n",
    "thai = change(thai)\n",
    "vietnam = change(vietnam)\n",
    "malay = change(malay)\n",
    "panama = change(panama)\n",
    "peru = change(peru)\n",
    "columbia = change(columbia)"
   ]
  },
  {
   "cell_type": "code",
   "execution_count": 261,
   "metadata": {
    "colab": {
     "base_uri": "https://localhost:8080/"
    },
    "executionInfo": {
     "elapsed": 10,
     "status": "ok",
     "timestamp": 1631643311020,
     "user": {
      "displayName": "정영상",
      "photoUrl": "https://lh3.googleusercontent.com/a/default-user=s64",
      "userId": "06163646126690949139"
     },
     "user_tz": -540
    },
    "id": "EHyaRySXROK7",
    "outputId": "43017399-f542-4356-fe10-d90e3d39b1c9"
   },
   "outputs": [
    {
     "data": {
      "text/plain": [
       "array(['사우디아라비아', '에콰도르', '말레이시아', '베트남', '태국', '중국', '인도', '인도네시아',\n",
       "       '파나마', '페루', '필리핀', '콜롬비아'], dtype=object)"
      ]
     },
     "execution_count": 261,
     "metadata": {},
     "output_type": "execute_result"
    }
   ],
   "source": [
    "df_shr['CTRY_1'].unique()"
   ]
  },
  {
   "cell_type": "code",
   "execution_count": 262,
   "metadata": {
    "executionInfo": {
     "elapsed": 3,
     "status": "ok",
     "timestamp": 1631643311021,
     "user": {
      "displayName": "정영상",
      "photoUrl": "https://lh3.googleusercontent.com/a/default-user=s64",
      "userId": "06163646126690949139"
     },
     "user_tz": -540
    },
    "id": "icA-brFZRQsp"
   },
   "outputs": [],
   "source": [
    "temp = []\n",
    "for day, crt in zip(df_shr['date'], df_shr['CTRY_1']):\n",
    "  if crt == \"사우디아라비아\":\n",
    "    temp.append(saudi[day])\n",
    "  elif crt == \"에콰도르\":\n",
    "    temp.append(equador[day])\n",
    "  elif crt == \"말레이시아\":\n",
    "    temp.append(malay[day])\n",
    "  elif crt == \"베트남\":\n",
    "    temp.append(vietnam[day])\n",
    "  elif crt == \"태국\":\n",
    "    temp.append(thai[day])\n",
    "  elif crt == \"중국\":\n",
    "    temp.append(china[day])\n",
    "  elif crt == \"인도\":\n",
    "    temp.append(india[day])\n",
    "  elif crt == \"인도네시아\":\n",
    "    temp.append(indonesia[day])\n",
    "  elif crt == \"파나마\":\n",
    "    temp.append(panama[day])\n",
    "  elif crt == \"페루\":\n",
    "    temp.append(peru[day])\n",
    "  elif crt == \"필리핀\":\n",
    "    temp.append(philipines[day])\n",
    "  else:\n",
    "    temp.append(columbia[day])"
   ]
  },
  {
   "cell_type": "code",
   "execution_count": 263,
   "metadata": {
    "executionInfo": {
     "elapsed": 9,
     "status": "ok",
     "timestamp": 1631643311464,
     "user": {
      "displayName": "정영상",
      "photoUrl": "https://lh3.googleusercontent.com/a/default-user=s64",
      "userId": "06163646126690949139"
     },
     "user_tz": -540
    },
    "id": "6p7xiNWZSu5K"
   },
   "outputs": [],
   "source": [
    "df_shr['temp']=temp"
   ]
  },
  {
   "cell_type": "markdown",
   "metadata": {
    "id": "7v_rnTj4TaZf"
   },
   "source": [
    "## 흰다리새우 온도 데이터 병합(2020)"
   ]
  },
  {
   "cell_type": "code",
   "execution_count": 264,
   "metadata": {
    "colab": {
     "base_uri": "https://localhost:8080/"
    },
    "executionInfo": {
     "elapsed": 8,
     "status": "ok",
     "timestamp": 1631643311464,
     "user": {
      "displayName": "정영상",
      "photoUrl": "https://lh3.googleusercontent.com/a/default-user=s64",
      "userId": "06163646126690949139"
     },
     "user_tz": -540
    },
    "id": "RP2zAImoSzFh",
    "outputId": "78a1dddd-fef1-45cc-b233-7cc77f6b86ee"
   },
   "outputs": [
    {
     "name": "stdout",
     "output_type": "stream",
     "text": [
      "file_list: ['2020thai_temp.csv', '2020china_temp.csv', '2020columbia_temp.csv', '2020vietnam_temp.csv', '2020peru_temp.csv', '2020indonesia_temp.csv', '2020india_temp.csv', '2020malay_temp.csv', '2020equador_temp.csv']\n"
     ]
    }
   ],
   "source": [
    "path = './shrimp_temp/2020/'\n",
    "file_list = os.listdir(path)\n",
    "print (\"file_list: {}\".format(file_list))"
   ]
  },
  {
   "cell_type": "code",
   "execution_count": 265,
   "metadata": {
    "executionInfo": {
     "elapsed": 6,
     "status": "ok",
     "timestamp": 1631643311884,
     "user": {
      "displayName": "정영상",
      "photoUrl": "https://lh3.googleusercontent.com/a/default-user=s64",
      "userId": "06163646126690949139"
     },
     "user_tz": -540
    },
    "id": "1u9XMXNiTvVd"
   },
   "outputs": [],
   "source": [
    "thai = pd.read_csv(path+file_list[0], skiprows=[0,1,2,3,4,5,6])\n",
    "china = pd.read_csv(path+file_list[1], skiprows=[0,1,2,3,4,5,6])\n",
    "columbia = pd.read_csv(path+file_list[2], skiprows=[0,1,2,3,4,5,6])\n",
    "vietnam = pd.read_csv(path+file_list[3], skiprows=[0,1,2,3,4,5,6])\n",
    "peru = pd.read_csv(path+file_list[4], skiprows=[0,1,2,3,4,5,6])\n",
    "indonesia = pd.read_csv(path+file_list[5], skiprows=[0,1,2,3,4,5,6])\n",
    "india = pd.read_csv(path+file_list[6], skiprows=[0,1,2,3,4,5,6])\n",
    "malay = pd.read_csv(path+file_list[7], skiprows=[0,1,2,3,4,5,6])\n",
    "equador = pd.read_csv(path+file_list[8], skiprows=[0,1,2,3,4,5,6])"
   ]
  },
  {
   "cell_type": "code",
   "execution_count": 266,
   "metadata": {
    "executionInfo": {
     "elapsed": 5,
     "status": "ok",
     "timestamp": 1631643311884,
     "user": {
      "displayName": "정영상",
      "photoUrl": "https://lh3.googleusercontent.com/a/default-user=s64",
      "userId": "06163646126690949139"
     },
     "user_tz": -540
    },
    "id": "i7D1YfYKVPSi"
   },
   "outputs": [],
   "source": [
    "thai = change(thai)\n",
    "china = change(china)\n",
    "columbia = change(columbia)\n",
    "vietnam = change(vietnam)\n",
    "peru = change(peru)\n",
    "indonesia = change(indonesia)\n",
    "india = change(india)\n",
    "malay = change(malay)\n",
    "equador = change(equador)"
   ]
  },
  {
   "cell_type": "code",
   "execution_count": 267,
   "metadata": {
    "colab": {
     "base_uri": "https://localhost:8080/"
    },
    "executionInfo": {
     "elapsed": 5,
     "status": "ok",
     "timestamp": 1631643311884,
     "user": {
      "displayName": "정영상",
      "photoUrl": "https://lh3.googleusercontent.com/a/default-user=s64",
      "userId": "06163646126690949139"
     },
     "user_tz": -540
    },
    "id": "KQTALD5gT-Ga",
    "outputId": "a0e26301-803a-4db7-aca3-4b7558e9cf11"
   },
   "outputs": [
    {
     "data": {
      "text/plain": [
       "array(['태국', '베트남', '인도', '말레이시아', '에콰도르', '중국', '페루', '인도네시아', '콜롬비아'],\n",
       "      dtype=object)"
      ]
     },
     "execution_count": 267,
     "metadata": {},
     "output_type": "execute_result"
    }
   ],
   "source": [
    "df_shr_val['CTRY_1'].unique()"
   ]
  },
  {
   "cell_type": "code",
   "execution_count": 268,
   "metadata": {
    "executionInfo": {
     "elapsed": 3,
     "status": "ok",
     "timestamp": 1631643312209,
     "user": {
      "displayName": "정영상",
      "photoUrl": "https://lh3.googleusercontent.com/a/default-user=s64",
      "userId": "06163646126690949139"
     },
     "user_tz": -540
    },
    "id": "HfdBZnL-UAJq"
   },
   "outputs": [],
   "source": [
    "temp = []\n",
    "for day, crt in zip(df_shr_val['date'], df_shr_val['CTRY_1']):\n",
    "  if crt == \"태국\":\n",
    "    temp.append(thai[day])\n",
    "  elif crt == \"베트남\":\n",
    "    temp.append(vietnam[day])\n",
    "  elif crt == \"인도\":\n",
    "    temp.append(india[day])\n",
    "  elif crt == \"말레이시아\":\n",
    "    temp.append(malay[day])\n",
    "  elif crt == \"에콰도르\":\n",
    "    temp.append(equador[day])\n",
    "  elif crt == \"중국\":\n",
    "    temp.append(china[day])\n",
    "  elif crt == \"페루\":\n",
    "    temp.append(peru[day])\n",
    "  elif crt == \"인도네시아\":\n",
    "    temp.append(indonesia[day])\n",
    "  else:\n",
    "    temp.append(columbia[day])"
   ]
  },
  {
   "cell_type": "code",
   "execution_count": 269,
   "metadata": {
    "executionInfo": {
     "elapsed": 3,
     "status": "ok",
     "timestamp": 1631643312209,
     "user": {
      "displayName": "정영상",
      "photoUrl": "https://lh3.googleusercontent.com/a/default-user=s64",
      "userId": "06163646126690949139"
     },
     "user_tz": -540
    },
    "id": "FAr8pPhhU1VU"
   },
   "outputs": [],
   "source": [
    "df_shr_val['temp']=temp"
   ]
  },
  {
   "cell_type": "markdown",
   "metadata": {
    "id": "w8mOlZnaVnU4"
   },
   "source": [
    "# 최종 병합 데이터 저장"
   ]
  },
  {
   "cell_type": "code",
   "execution_count": 270,
   "metadata": {
    "executionInfo": {
     "elapsed": 320,
     "status": "ok",
     "timestamp": 1631643312798,
     "user": {
      "displayName": "정영상",
      "photoUrl": "https://lh3.googleusercontent.com/a/default-user=s64",
      "userId": "06163646126690949139"
     },
     "user_tz": -540
    },
    "id": "dxB0wBj3VmAK"
   },
   "outputs": [],
   "source": [
    "path = './merged_data/'\n",
    "df_sq.to_csv(path+'squid_train.csv', encoding='utf-8')\n",
    "df_sal.to_csv(path+'salmon_train.csv', encoding='utf-8')\n",
    "df_shr.to_csv(path+'shrimp_train.csv', encoding='utf-8')\n",
    "df_sq_val.to_csv(path+'squid_val.csv', encoding='utf-8')\n",
    "df_sal_val.to_csv(path+'salmon_val.csv', encoding='utf-8')\n",
    "df_shr_val.to_csv(path+'shrimp_val.csv', encoding='utf-8')"
   ]
  },
  {
   "cell_type": "code",
   "execution_count": null,
   "metadata": {
    "id": "6fPM6PHBW85b"
   },
   "outputs": [],
   "source": []
  }
 ],
 "metadata": {
  "colab": {
   "authorship_tag": "ABX9TyO/v2pjoV+SulnwpsX1LNdV",
   "collapsed_sections": [
    "5iQqclQfD0yv",
    "-ZN9lCRJ-leK",
    "H1Ro9BUjJGqz",
    "dKErKwTxKtL3",
    "asNrA5l3NEo1",
    "l4vaki0lQcdd"
   ],
   "mount_file_id": "1s0LmXAUygW1yeVQpKBkd0inpQYd5eNQw",
   "name": "data_merge.ipynb",
   "provenance": []
  },
  "kernelspec": {
   "display_name": "Python 3",
   "language": "python",
   "name": "python3"
  },
  "language_info": {
   "codemirror_mode": {
    "name": "ipython",
    "version": 3
   },
   "file_extension": ".py",
   "mimetype": "text/x-python",
   "name": "python",
   "nbconvert_exporter": "python",
   "pygments_lexer": "ipython3",
   "version": "3.8.8"
  }
 },
 "nbformat": 4,
 "nbformat_minor": 1
}
