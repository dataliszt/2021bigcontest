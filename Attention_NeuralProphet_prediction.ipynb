{
 "cells": [
  {
   "cell_type": "code",
   "execution_count": 1,
   "metadata": {
    "colab": {
     "base_uri": "https://localhost:8080/"
    },
    "executionInfo": {
     "elapsed": 31575,
     "status": "ok",
     "timestamp": 1631660133997,
     "user": {
      "displayName": "Bosang KIM",
      "photoUrl": "https://lh3.googleusercontent.com/a/default-user=s64",
      "userId": "09337160292545321113"
     },
     "user_tz": -540
    },
    "id": "eeK6z1AfetT6",
    "outputId": "4753a611-69b9-42c0-be49-11b431753f4a"
   },
   "outputs": [
    {
     "name": "stdout",
     "output_type": "stream",
     "text": [
      "Mounted at /content/drive\n"
     ]
    }
   ],
   "source": [
    "from google.colab import drive\n",
    "drive.mount('/content/drive')"
   ]
  },
  {
   "cell_type": "markdown",
   "metadata": {
    "id": "varRxoB4ilRA"
   },
   "source": [
    "# 모듈 설치"
   ]
  },
  {
   "cell_type": "code",
   "execution_count": null,
   "metadata": {
    "id": "4M4SUkNvdR0Y"
   },
   "outputs": [],
   "source": [
    "# 모델링 모듈\n",
    "!pip install tensorflow-addons\n",
    "!pip install neuralprophet[live]\n",
    "!pip install prophet"
   ]
  },
  {
   "cell_type": "code",
   "execution_count": null,
   "metadata": {
    "id": "cejPtOZ70pjn"
   },
   "outputs": [],
   "source": [
    "# 폰트설치 \n",
    "!sudo apt-get install -y fonts-nanum\n",
    "!sudo fc-cache -fv\n",
    "!rm ~/.cache/matplotlib -rf"
   ]
  },
  {
   "cell_type": "markdown",
   "metadata": {
    "id": "FCqcucf-in1_"
   },
   "source": [
    "# 모듈 및 라이브러리"
   ]
  },
  {
   "cell_type": "code",
   "execution_count": 164,
   "metadata": {
    "executionInfo": {
     "elapsed": 538,
     "status": "ok",
     "timestamp": 1631669619965,
     "user": {
      "displayName": "Bosang KIM",
      "photoUrl": "https://lh3.googleusercontent.com/a/default-user=s64",
      "userId": "09337160292545321113"
     },
     "user_tz": -540
    },
    "id": "oBFoF6ZpsAmE"
   },
   "outputs": [],
   "source": [
    "# 내장 라이브러리\n",
    "import copy\n",
    "import numpy as np\n",
    "import pandas as pd\n",
    "import matplotlib.pyplot as plt\n",
    "import os\n",
    "import math\n",
    "\n",
    "# 외장 라이브러리\n",
    "from typing import collections, List, Tuple, Dict, DefaultDict, NewType\n",
    "from collections import Counter\n",
    "from datetime import datetime, timedelta\n",
    "from timeit import default_timer as timer\n",
    "\n",
    "# sklearn\n",
    "import sklearn\n",
    "from sklearn.preprocessing import MinMaxScaler, StandardScaler\n",
    "\n",
    "# Facebook Prophet - 시계열 모델\n",
    "from fbprophet import Prophet\n",
    "from fbprophet.plot import add_changepoints_to_plot\n",
    "from prophet import Prophet\n",
    "from prophet.plot import plot_plotly, plot_components_plotly\n",
    "from prophet.plot import plot_yearly\n",
    "# Neural Prophet - Advanced Facebook Prophet\n",
    "from neuralprophet import NeuralProphet\n",
    "# 시계열 모델\n",
    "from statsmodels.tsa.arima_model import ARIMA\n",
    "# Attention 모델\n",
    "import keras\n",
    "from tensorflow_addons.layers import MultiHeadAttention"
   ]
  },
  {
   "cell_type": "code",
   "execution_count": 2,
   "metadata": {
    "executionInfo": {
     "elapsed": 376,
     "status": "ok",
     "timestamp": 1631660439934,
     "user": {
      "displayName": "Bosang KIM",
      "photoUrl": "https://lh3.googleusercontent.com/a/default-user=s64",
      "userId": "09337160292545321113"
     },
     "user_tz": -540
    },
    "id": "pWf0AG2jY3d3"
   },
   "outputs": [],
   "source": [
    "# plot 한글\n",
    "import platform\n",
    "from matplotlib import font_manager, rc\n",
    "plt.rcParams['axes.unicode_minus']= False\n",
    "\n",
    "if platform.system() == 'Darwin': # 맥os 사용자의 경우에\n",
    "    plt.style.use('seaborn-darkgrid') \n",
    "    rc('font', family = 'AppleGothic')\n",
    "    \n",
    "elif platform.system() == 'Windows':# 윈도우 사용자의 경우에\n",
    "    path = 'c:/Windows/Fonts/malgun.ttf'\n",
    "    font_name = font_manager.FontProperties(fname=path).get_name()\n",
    "    plt.style.use('seaborn-darkgrid') # https://python-graph-gallery.com/199-matplotlib-style-sheets/\n",
    "    rc('font', family=font_name)\n",
    "\n",
    "elif platform.system() == 'Linux': # colab 사용자의 경우에\n",
    "  # 나눔고딕 폰트\n",
    "  plt.rc('font', family='NanumBarunGothic') \n"
   ]
  },
  {
   "cell_type": "markdown",
   "metadata": {
    "id": "NEglqgnMiulK"
   },
   "source": [
    "# 오징어 test데이터 예측"
   ]
  },
  {
   "cell_type": "markdown",
   "metadata": {
    "id": "dEfbZtME229Z"
   },
   "source": [
    "##오징어 데이터 로드"
   ]
  },
  {
   "cell_type": "code",
   "execution_count": 4,
   "metadata": {
    "colab": {
     "base_uri": "https://localhost:8080/"
    },
    "executionInfo": {
     "elapsed": 4538,
     "status": "ok",
     "timestamp": 1631660498762,
     "user": {
      "displayName": "Bosang KIM",
      "photoUrl": "https://lh3.googleusercontent.com/a/default-user=s64",
      "userId": "09337160292545321113"
     },
     "user_tz": -540
    },
    "id": "ksA2pPpprx00",
    "outputId": "d45a5910-3aa9-4819-cda4-5bb94a226a8f"
   },
   "outputs": [
    {
     "name": "stdout",
     "output_type": "stream",
     "text": [
      "수산물 어종을 고르세요 (오징어/흰다리새우/연어)오징어\n"
     ]
    }
   ],
   "source": [
    "## 중량 수온 데이터를 합친 dataframe, 품목 별로 불러오기\n",
    "os.chdir('/content/drive/MyDrive/BIGCONTEST/data/real_use')\n",
    "\n",
    "name = input('수산물 어종을 고르세요 (오징어/흰다리새우/연어)')\n",
    "\n",
    "if name == \"오징어\":\n",
    "  data = pd.read_csv(\"./squid_temp1.csv\")\n",
    "  val_df = pd.read_csv(\"./squid_temp2.csv\")\n",
    "elif name == \"흰다리새우\":\n",
    "  data = pd.read_csv(\"./shrimp_temp1.csv\")\n",
    "  val_df = pd.read_csv(\"./shrimp_temp2.csv\")\n",
    "elif name == \"연어\":\n",
    "  data = pd.read_csv(\"./salmon_temp1.csv\")\n",
    "  val_df = pd.read_csv(\"./salmon_temp2.csv\")\n",
    "else:\n",
    "  None"
   ]
  },
  {
   "cell_type": "code",
   "execution_count": 12,
   "metadata": {
    "executionInfo": {
     "elapsed": 535,
     "status": "ok",
     "timestamp": 1631660658281,
     "user": {
      "displayName": "Bosang KIM",
      "photoUrl": "https://lh3.googleusercontent.com/a/default-user=s64",
      "userId": "09337160292545321113"
     },
     "user_tz": -540
    },
    "id": "-Bn0-8rhi9kT"
   },
   "outputs": [],
   "source": [
    "# train data + validation data 병합 \n",
    "data = pd.concat([data, val_df])"
   ]
  },
  {
   "cell_type": "code",
   "execution_count": 13,
   "metadata": {
    "executionInfo": {
     "elapsed": 519,
     "status": "ok",
     "timestamp": 1631660661044,
     "user": {
      "displayName": "Bosang KIM",
      "photoUrl": "https://lh3.googleusercontent.com/a/default-user=s64",
      "userId": "09337160292545321113"
     },
     "user_tz": -540
    },
    "id": "ehE03E_Urxk2"
   },
   "outputs": [],
   "source": [
    "# 품목별 dataframe을 생성하고, 일자별 거래의 갯수를 리스트 형태로 저장\n",
    "def datasetting(data, p_name):\n",
    "\n",
    "  just_p = pd.DataFrame(columns=data.columns.tolist())\n",
    "  len_list = []\n",
    "  for i, day_time in enumerate(list(Counter(data['REG_DATE']).keys())):\n",
    "    day_df = data[data['REG_DATE']==day_time]\n",
    "    just_p = pd.concat([just_p, day_df[day_df['P_NAME']==p_name]])\n",
    "    len_list.append(len(day_df[day_df['P_NAME']==p_name]))\n",
    "\n",
    "  return just_p, len_list"
   ]
  },
  {
   "cell_type": "code",
   "execution_count": 14,
   "metadata": {
    "executionInfo": {
     "elapsed": 1,
     "status": "ok",
     "timestamp": 1631660662436,
     "user": {
      "displayName": "Bosang KIM",
      "photoUrl": "https://lh3.googleusercontent.com/a/default-user=s64",
      "userId": "09337160292545321113"
     },
     "user_tz": -540
    },
    "id": "DOc3zLLaWYSB"
   },
   "outputs": [],
   "source": [
    "# import type을 multi-hot encoding 하기 위한 방법\n",
    "def data_encoding(df, type_):\n",
    "  tmp = []\n",
    "  for impo in df[type_]:\n",
    "    types = impo.split(',')\n",
    "    for i in types:\n",
    "      tmp.append(i)\n",
    "  return list(set(tmp))"
   ]
  },
  {
   "cell_type": "code",
   "execution_count": 15,
   "metadata": {
    "executionInfo": {
     "elapsed": 902,
     "status": "ok",
     "timestamp": 1631660671200,
     "user": {
      "displayName": "Bosang KIM",
      "photoUrl": "https://lh3.googleusercontent.com/a/default-user=s64",
      "userId": "09337160292545321113"
     },
     "user_tz": -540
    },
    "id": "ODGczewisHSr"
   },
   "outputs": [],
   "source": [
    "train, t_len = datasetting(data, name)\n",
    "#validation, v_len = datasetting(val_df, name)"
   ]
  },
  {
   "cell_type": "code",
   "execution_count": 16,
   "metadata": {
    "executionInfo": {
     "elapsed": 768,
     "status": "ok",
     "timestamp": 1631660693001,
     "user": {
      "displayName": "Bosang KIM",
      "photoUrl": "https://lh3.googleusercontent.com/a/default-user=s64",
      "userId": "09337160292545321113"
     },
     "user_tz": -540
    },
    "id": "ysvOWebqGMS4"
   },
   "outputs": [],
   "source": [
    "## 제조국과 수출국에 대하여 multi-hot encoding을 진행하기위해서 모든 나라를 리스트형태로 저장\n",
    "ctry_1 = set(list(set(train['CTRY_1']))+list(set(train['CTRY_2'])))\n",
    "#ctry_2 = set(list(set(validation['CTRY_1']))+list(set(validation['CTRY_2'])))\n",
    "con = list(ctry_1)\n",
    "ctry_list = list(set(con))"
   ]
  },
  {
   "cell_type": "code",
   "execution_count": 17,
   "metadata": {
    "executionInfo": {
     "elapsed": 368,
     "status": "ok",
     "timestamp": 1631660696118,
     "user": {
      "displayName": "Bosang KIM",
      "photoUrl": "https://lh3.googleusercontent.com/a/default-user=s64",
      "userId": "09337160292545321113"
     },
     "user_tz": -540
    },
    "id": "djcA3s8PsOCX"
   },
   "outputs": [],
   "source": [
    "## 명목형 변수는 dummy 처리해서 multi-hot 형태로 할당하고, 수치형 변수는 스케일링 작업 진행\n",
    "\n",
    "def data_frame(trains, ctry_list):\n",
    "\n",
    "  p_type = \"P_IMPORT_TYPE\"\n",
    "  import_type = data_encoding(train, p_type)\n",
    "\n",
    "  con = ctry_list\n",
    "  con.sort()\n",
    "  col_con = [f\"country_{co}\" for co in con]\n",
    "  col_imp = [f\"import_{im}\" for im in import_type]\n",
    "  cols = col_con + col_imp + ['weight', 'temp', 'price']\n",
    "  # print(cols)\n",
    "  x_train = pd.DataFrame(columns=cols)\n",
    "  tmp = []\n",
    "  for i in range(len(cols)-1):\n",
    "    tmp.append([])\n",
    "  len_a = len(col_con)\n",
    "  len_b = len(col_imp)\n",
    "  for c1, c2, p in zip(trains['CTRY_1'], trains['CTRY_2'], trains['P_IMPORT_TYPE']):\n",
    "    i = con.index(c1)\n",
    "    j = con.index(c2)\n",
    "    country = np.eye(len_a)[i] + np.eye(len_a)[j] ## 제조국 + 수출국 정보 결합\n",
    "\n",
    "    p_import = np.zeros(len_b)\n",
    "    for ty in p.split(','):\n",
    "      j = import_type.index(ty)\n",
    "      p_import += np.eye(len(p_import))[j] ## import type 정보 결합\n",
    "\n",
    "    row = np.concatenate([country, p_import])\n",
    "\n",
    "    for i, r in enumerate(row):\n",
    "      tmp[i].append(r)\n",
    "\n",
    "  for i, c in enumerate(cols[:-3]): ## 중량, 수온, 가격 이외의 것들만 고려\n",
    "    x_train[c] = tmp[i]\n",
    "\n",
    "  ## 중량과 수온 데이터 스케일링\n",
    "  w = trains['WEIGHT(KG)'].tolist()\n",
    "  w = np.array(w).reshape(-1,1)\n",
    "  t = trains['temp'].tolist()\n",
    "  t = np.array(t).reshape(-1,1)\n",
    "\n",
    "  scaler = MinMaxScaler()\n",
    "  scaler.fit(w)\n",
    "  t_data = scaler.transform(w)\n",
    "\n",
    "  wscaler = MinMaxScaler()\n",
    "  wscaler.fit(t)\n",
    "  w_data = wscaler.transform(t)\n",
    "\n",
    "  x_train['weight'] =  t_data\n",
    "  x_train['temp'] = w_data\n",
    "  x_train['price'] = trains['P_PRICE'].tolist()\n",
    "\n",
    "  return x_train"
   ]
  },
  {
   "cell_type": "code",
   "execution_count": 18,
   "metadata": {
    "executionInfo": {
     "elapsed": 357,
     "status": "ok",
     "timestamp": 1631660701416,
     "user": {
      "displayName": "Bosang KIM",
      "photoUrl": "https://lh3.googleusercontent.com/a/default-user=s64",
      "userId": "09337160292545321113"
     },
     "user_tz": -540
    },
    "id": "BisLfUSqGVfx"
   },
   "outputs": [],
   "source": [
    "x_train = data_frame(train, ctry_list)"
   ]
  },
  {
   "cell_type": "code",
   "execution_count": null,
   "metadata": {
    "id": "F15luELOQPFD"
   },
   "outputs": [],
   "source": [
    "#x_val = data_frame(validation, ctry_list)"
   ]
  },
  {
   "cell_type": "markdown",
   "metadata": {
    "id": "aavAgTkrr5jy"
   },
   "source": [
    "## 데이터 분리"
   ]
  },
  {
   "cell_type": "code",
   "execution_count": 19,
   "metadata": {
    "executionInfo": {
     "elapsed": 518,
     "status": "ok",
     "timestamp": 1631660751068,
     "user": {
      "displayName": "Bosang KIM",
      "photoUrl": "https://lh3.googleusercontent.com/a/default-user=s64",
      "userId": "09337160292545321113"
     },
     "user_tz": -540
    },
    "id": "vitLnhsQOsgw"
   },
   "outputs": [],
   "source": [
    "X_train = np.array(x_train.iloc[:,:-1])\n",
    "Y_train = np.array(x_train.iloc[:,-1])\n",
    "Y_train = Y_train.reshape(-1)"
   ]
  },
  {
   "cell_type": "code",
   "execution_count": 20,
   "metadata": {
    "colab": {
     "base_uri": "https://localhost:8080/"
    },
    "executionInfo": {
     "elapsed": 384,
     "status": "ok",
     "timestamp": 1631660763567,
     "user": {
      "displayName": "Bosang KIM",
      "photoUrl": "https://lh3.googleusercontent.com/a/default-user=s64",
      "userId": "09337160292545321113"
     },
     "user_tz": -540
    },
    "id": "0WrDsy9wrC7p",
    "outputId": "ad82b329-7674-4408-ee2c-722b73e52d27"
   },
   "outputs": [
    {
     "data": {
      "text/plain": [
       "((2109, 25), (2109,))"
      ]
     },
     "execution_count": 20,
     "metadata": {},
     "output_type": "execute_result"
    }
   ],
   "source": [
    "X_train.shape, Y_train.shape"
   ]
  },
  {
   "cell_type": "code",
   "execution_count": 21,
   "metadata": {
    "executionInfo": {
     "elapsed": 371,
     "status": "ok",
     "timestamp": 1631660767483,
     "user": {
      "displayName": "Bosang KIM",
      "photoUrl": "https://lh3.googleusercontent.com/a/default-user=s64",
      "userId": "09337160292545321113"
     },
     "user_tz": -540
    },
    "id": "x2cDktFKQULw"
   },
   "outputs": [],
   "source": [
    "num_heads=8; head_size=32; ff_dim=None; dropout=0\n",
    "multi = MultiHeadAttention(num_heads=num_heads, head_size=head_size, dropout=dropout)"
   ]
  },
  {
   "cell_type": "code",
   "execution_count": 22,
   "metadata": {
    "executionInfo": {
     "elapsed": 367,
     "status": "ok",
     "timestamp": 1631660769891,
     "user": {
      "displayName": "Bosang KIM",
      "photoUrl": "https://lh3.googleusercontent.com/a/default-user=s64",
      "userId": "09337160292545321113"
     },
     "user_tz": -540
    },
    "id": "I_B_Hma5UcWu"
   },
   "outputs": [],
   "source": [
    "## Attention을 계산하는 모듈 생성\n",
    "\n",
    "class AttentionBlock(keras.Model):\n",
    "    def __init__(self, name='AttentionBlock', num_heads=2, head_size=128, ff_dim=None, dropout=0.2, **kwargs):\n",
    "        super().__init__(name=name, **kwargs)\n",
    "\n",
    "        if ff_dim is None:\n",
    "            ff_dim = head_size\n",
    "\n",
    "        self.attention = MultiHeadAttention(num_heads=num_heads, head_size=head_size, dropout=dropout)\n",
    "        self.attention_dropout = keras.layers.Dropout(dropout)\n",
    "        self.attention_norm = keras.layers.LayerNormalization(epsilon=1e-6)\n",
    "\n",
    "        self.ff_conv1 = keras.layers.Conv1D(filters=ff_dim, kernel_size=1, activation='relu')\n",
    "        self.flatten = keras.layers.Flatten()\n",
    "        self.dense1 = keras.layers.Dense(64, activation='relu')\n",
    "        self.dense2 = keras.layers.Dense(1)\n",
    "        self.ff_dropout = keras.layers.Dropout(dropout)\n",
    "        self.ff_norm = keras.layers.LayerNormalization(epsilon=1e-6)\n",
    "\n",
    "    def build(self, input_shape):\n",
    "        self.ff_conv2 = keras.layers.Conv1D(filters=input_shape[-1], kernel_size=1) \n",
    "\n",
    "    def call(self, inputs):\n",
    "        x = self.attention([inputs, inputs])\n",
    "        x = self.attention_dropout(x)\n",
    "        x = self.attention_norm(inputs + x)\n",
    "        \n",
    "        return x"
   ]
  },
  {
   "cell_type": "code",
   "execution_count": 23,
   "metadata": {
    "executionInfo": {
     "elapsed": 539,
     "status": "ok",
     "timestamp": 1631660773846,
     "user": {
      "displayName": "Bosang KIM",
      "photoUrl": "https://lh3.googleusercontent.com/a/default-user=s64",
      "userId": "09337160292545321113"
     },
     "user_tz": -540
    },
    "id": "63EXf5S0bGl6"
   },
   "outputs": [],
   "source": [
    "## Attention을 여러번 계산하고 마치막 출력으로 Fully_connected layer를 통해 차원 축소\n",
    "\n",
    "class ModelTrunk(keras.Model):\n",
    "    def __init__(self, name='ModelTrunk', num_heads=2, head_size=128, ff_dim=None, num_layers=10, dropout=0, **kwargs):\n",
    "      super().__init__(name=name, **kwargs)\n",
    "      if ff_dim is None:\n",
    "          ff_dim = head_size\n",
    "      self.dropout = dropout\n",
    "      self.attention_layers = [AttentionBlock(num_heads=num_heads, head_size=head_size, ff_dim=ff_dim, dropout=dropout) for _ in range(num_layers)]\n",
    "      self.dense2 = keras.layers.Dense(1, kernel_initializer='he_normal')\n",
    "\n",
    "    def call(self, inputs):\n",
    "      x = inputs\n",
    "      for attention_layer in self.attention_layers:\n",
    "          x = attention_layer(x)\n",
    "      x = self.dense2(x)\n",
    "      return x"
   ]
  },
  {
   "cell_type": "code",
   "execution_count": 24,
   "metadata": {
    "executionInfo": {
     "elapsed": 619,
     "status": "ok",
     "timestamp": 1631660776780,
     "user": {
      "displayName": "Bosang KIM",
      "photoUrl": "https://lh3.googleusercontent.com/a/default-user=s64",
      "userId": "09337160292545321113"
     },
     "user_tz": -540
    },
    "id": "hAgyOpqqbnvo"
   },
   "outputs": [],
   "source": [
    "# Attention 계산 및 FC layer 차원축소 \n",
    "attention_layers = ModelTrunk()"
   ]
  },
  {
   "cell_type": "code",
   "execution_count": 26,
   "metadata": {
    "executionInfo": {
     "elapsed": 502,
     "status": "ok",
     "timestamp": 1631660782443,
     "user": {
      "displayName": "Bosang KIM",
      "photoUrl": "https://lh3.googleusercontent.com/a/default-user=s64",
      "userId": "09337160292545321113"
     },
     "user_tz": -540
    },
    "id": "hM-swSfzcYeA"
   },
   "outputs": [],
   "source": [
    "# 소프트맥스 함수 \n",
    "def softmax(x):\n",
    "    e_x = np.exp(x - np.max(x))\n",
    "    return e_x / e_x.sum()"
   ]
  },
  {
   "cell_type": "code",
   "execution_count": 27,
   "metadata": {
    "executionInfo": {
     "elapsed": 2,
     "status": "ok",
     "timestamp": 1631660784057,
     "user": {
      "displayName": "Bosang KIM",
      "photoUrl": "https://lh3.googleusercontent.com/a/default-user=s64",
      "userId": "09337160292545321113"
     },
     "user_tz": -540
    },
    "id": "U_9vdGYmeajp"
   },
   "outputs": [],
   "source": [
    "# Attention - FC layer 를 통한 가중치 리스트와 가격 리스트 생성\n",
    "def make_weight(x, y,length):\n",
    "    # 날짜별로 attention score 담을 list\n",
    "    weight_score = []\n",
    "    # 날짜별로 p_price 담을 list\n",
    "    p_price = []\n",
    "    final_weight = []\n",
    "\n",
    "    before = 0\n",
    "    for leng in length:\n",
    "      if leng==0:\n",
    "        weight_score.append([[0]])\n",
    "        p_price.append([[0]])\n",
    "      else:\n",
    "        a = np.array(x[before:before+leng])\n",
    "        b = np.array(y[before:before+leng]).tolist()\n",
    "        arr = attention_layers(a)\n",
    "        weight_score.append(np.array(softmax(arr)).tolist()) ## attention score를 softmax 함수를 이용해서 정규화\n",
    "        p_price.append(b)\n",
    "        before += leng\n",
    "\n",
    "    for w in weight_score:\n",
    "        aa = sum(w, [])\n",
    "        final_weight.append(aa)\n",
    "\n",
    "    return final_weight,p_price"
   ]
  },
  {
   "cell_type": "code",
   "execution_count": 28,
   "metadata": {
    "executionInfo": {
     "elapsed": 9340,
     "status": "ok",
     "timestamp": 1631660796130,
     "user": {
      "displayName": "Bosang KIM",
      "photoUrl": "https://lh3.googleusercontent.com/a/default-user=s64",
      "userId": "09337160292545321113"
     },
     "user_tz": -540
    },
    "id": "57oyiGE3edDQ"
   },
   "outputs": [],
   "source": [
    "train_weight, train_price = make_weight(X_train, Y_train, t_len)"
   ]
  },
  {
   "cell_type": "code",
   "execution_count": 29,
   "metadata": {
    "executionInfo": {
     "elapsed": 544,
     "status": "ok",
     "timestamp": 1631660799084,
     "user": {
      "displayName": "Bosang KIM",
      "photoUrl": "https://lh3.googleusercontent.com/a/default-user=s64",
      "userId": "09337160292545321113"
     },
     "user_tz": -540
    },
    "id": "-SKQiLtk-TLG"
   },
   "outputs": [],
   "source": [
    "# 가중치를 이용한 새로운 가격 변수 생성\n",
    "def make_new_price(weight_list, price_list):\n",
    "    new_price = []\n",
    "    new_price_m = 0\n",
    "    new_price_s = 0\n",
    "\n",
    "    for i in range(len(weight_list)):\n",
    "        if weight_list[i]==[0]:\n",
    "            new_price.append(0)\n",
    "        else:\n",
    "            for j in range(len(weight_list[i])):\n",
    "                new_price_m += (weight_list[i][j] * price_list[i][j])\n",
    "                new_price_s += weight_list[i][j]\n",
    "            new_price_sum = new_price_m / new_price_s\n",
    "            new_price.append(new_price_sum)\n",
    "    return new_price"
   ]
  },
  {
   "cell_type": "code",
   "execution_count": 30,
   "metadata": {
    "executionInfo": {
     "elapsed": 664,
     "status": "ok",
     "timestamp": 1631660801700,
     "user": {
      "displayName": "Bosang KIM",
      "photoUrl": "https://lh3.googleusercontent.com/a/default-user=s64",
      "userId": "09337160292545321113"
     },
     "user_tz": -540
    },
    "id": "C5nns4qW-U8J"
   },
   "outputs": [],
   "source": [
    "# attention score의 가중치를 적용한 가중평균 \n",
    "train_price = make_new_price(train_weight, train_price)"
   ]
  },
  {
   "cell_type": "code",
   "execution_count": 31,
   "metadata": {
    "executionInfo": {
     "elapsed": 526,
     "status": "ok",
     "timestamp": 1631660807038,
     "user": {
      "displayName": "Bosang KIM",
      "photoUrl": "https://lh3.googleusercontent.com/a/default-user=s64",
      "userId": "09337160292545321113"
     },
     "user_tz": -540
    },
    "id": "ForLHshs41IA"
   },
   "outputs": [],
   "source": [
    "trn_lst = np.array([item for item in train_price if item > 0])"
   ]
  },
  {
   "cell_type": "code",
   "execution_count": 32,
   "metadata": {
    "executionInfo": {
     "elapsed": 526,
     "status": "ok",
     "timestamp": 1631660811870,
     "user": {
      "displayName": "Bosang KIM",
      "photoUrl": "https://lh3.googleusercontent.com/a/default-user=s64",
      "userId": "09337160292545321113"
     },
     "user_tz": -540
    },
    "id": "aSzMju_RY3d-"
   },
   "outputs": [],
   "source": [
    "train['REG_DATE'] = pd.to_datetime(train['REG_DATE'])"
   ]
  },
  {
   "cell_type": "code",
   "execution_count": 33,
   "metadata": {
    "executionInfo": {
     "elapsed": 2,
     "status": "ok",
     "timestamp": 1631660813033,
     "user": {
      "displayName": "Bosang KIM",
      "photoUrl": "https://lh3.googleusercontent.com/a/default-user=s64",
      "userId": "09337160292545321113"
     },
     "user_tz": -540
    },
    "id": "_N2j5hIL12l_"
   },
   "outputs": [],
   "source": [
    "# 가중평균한 최종 가격 배열로 만들기 \n",
    "ts_train = np.array(train_price)"
   ]
  },
  {
   "cell_type": "markdown",
   "metadata": {
    "id": "HkZygrrEWvdM"
   },
   "source": [
    "## RMSE 함수 (평가지표)"
   ]
  },
  {
   "cell_type": "code",
   "execution_count": 34,
   "metadata": {
    "executionInfo": {
     "elapsed": 377,
     "status": "ok",
     "timestamp": 1631660816068,
     "user": {
      "displayName": "Bosang KIM",
      "photoUrl": "https://lh3.googleusercontent.com/a/default-user=s64",
      "userId": "09337160292545321113"
     },
     "user_tz": -540
    },
    "id": "MPX_UrRcWzMI"
   },
   "outputs": [],
   "source": [
    "def rmse(y: List, yhat:List)->float:\n",
    "  # y값의 갯수\n",
    "  n = len(y)\n",
    "  mse = 0\n",
    "  for i in range(n):\n",
    "    # 실제값에서 예측값 뺀것의 제곱\n",
    "    mse += (y[i] - yhat[i])**2\n",
    "  rmse = (mse/n)**0.5\n",
    "  return rmse"
   ]
  },
  {
   "cell_type": "markdown",
   "metadata": {
    "id": "1OF41nCTgJVE"
   },
   "source": [
    "- validation y : val_price\n"
   ]
  },
  {
   "cell_type": "markdown",
   "metadata": {
    "id": "aDkjPR5UkKLu"
   },
   "source": [
    "## Neural Prophet"
   ]
  },
  {
   "cell_type": "markdown",
   "metadata": {
    "id": "pPzM_G3VklJD"
   },
   "source": [
    "### 하이퍼파라미터 - 각각의 Neural Prophet으로부터 최적으로 뽑아낸것"
   ]
  },
  {
   "cell_type": "code",
   "execution_count": 37,
   "metadata": {
    "executionInfo": {
     "elapsed": 399,
     "status": "ok",
     "timestamp": 1631660918149,
     "user": {
      "displayName": "Bosang KIM",
      "photoUrl": "https://lh3.googleusercontent.com/a/default-user=s64",
      "userId": "09337160292545321113"
     },
     "user_tz": -540
    },
    "id": "tIp77v6QkZr-"
   },
   "outputs": [],
   "source": [
    "# hyperparameter \n",
    "freq = 'W-MON' # 시작일이 월요일이면서, 일주일 간격 \n"
   ]
  },
  {
   "cell_type": "code",
   "execution_count": 35,
   "metadata": {
    "colab": {
     "base_uri": "https://localhost:8080/"
    },
    "executionInfo": {
     "elapsed": 478,
     "status": "ok",
     "timestamp": 1631660888102,
     "user": {
      "displayName": "Bosang KIM",
      "photoUrl": "https://lh3.googleusercontent.com/a/default-user=s64",
      "userId": "09337160292545321113"
     },
     "user_tz": -540
    },
    "id": "XqTbMQG0kKzZ",
    "outputId": "aa718df1-165d-49c4-86da-8cc003d835c4"
   },
   "outputs": [
    {
     "name": "stdout",
     "output_type": "stream",
     "text": [
      "(244, 2)\n"
     ]
    }
   ],
   "source": [
    "## 모델 피팅하기 위해서 dataframe 형태 수정\n",
    "df = pd.DataFrame(columns=['ds', 'y'])\n",
    "df['ds'] = train['REG_DATE'].unique()\n",
    "df['y'] = ts_train\n",
    "print(df.shape)"
   ]
  },
  {
   "cell_type": "code",
   "execution_count": 70,
   "metadata": {
    "executionInfo": {
     "elapsed": 417,
     "status": "ok",
     "timestamp": 1631666731224,
     "user": {
      "displayName": "Bosang KIM",
      "photoUrl": "https://lh3.googleusercontent.com/a/default-user=s64",
      "userId": "09337160292545321113"
     },
     "user_tz": -540
    },
    "id": "r6lScXj3xkiW"
   },
   "outputs": [],
   "source": [
    "## neural prophet\n",
    "epochs = 1000\n",
    "# batch_size = 64\n",
    "learning_rate = 0.005\n",
    "\n",
    "\n",
    "# AR net \n",
    "n_forecasts = 52 # 예측 기간의 크기  # future_periods랑 같아야한다. \n",
    "num_hidden_layers = 20 # AR-net compelxity 조절 \n",
    "ar_sparsity = 0.8  # 0-1, 0에 가까울수록 sparse함 \n",
    "\n",
    "# d_hidden = 64 \n",
    "# trend_smoothness = 0.5\n",
    "n_changepoints = 150 # 변화점(changepoint)의 갯수 설정 \n",
    "changepoints_range = 1.0 # 변화점을 전체 데이터셋에서 몇 퍼센트 감지할지\n",
    "trend_reg = 0.03\n",
    "seasonality_reg=30\n",
    "\n",
    "#n_lags = 5  # >error : lambda delay가 없다"
   ]
  },
  {
   "cell_type": "code",
   "execution_count": 71,
   "metadata": {
    "colab": {
     "base_uri": "https://localhost:8080/",
     "height": 1000
    },
    "executionInfo": {
     "elapsed": 69503,
     "status": "ok",
     "timestamp": 1631666802739,
     "user": {
      "displayName": "Bosang KIM",
      "photoUrl": "https://lh3.googleusercontent.com/a/default-user=s64",
      "userId": "09337160292545321113"
     },
     "user_tz": -540
    },
    "id": "zc2rmgl4kXUu",
    "outputId": "d1dcd836-33ae-488e-9972-b77df7dffe31"
   },
   "outputs": [
    {
     "data": {
      "image/png": "[encoded data removed]",
      "text/plain": [
       "<Figure size 864x576 with 2 Axes>"
      ]
     },
     "metadata": {
      "needs_background": "light"
     },
     "output_type": "display_data"
    },
    {
     "name": "stderr",
     "output_type": "stream",
     "text": [
      "\r",
      "Epoch[1000/1000]: 100%|██████████| 1000/1000 [01:09<00:00, 14.35it/s, SmoothL1Loss=0.00306, MAE=0.0598, RegLoss=0.309, MAE_val=0.0146, SmoothL1Loss_val=3.95e-5]\n"
     ]
    },
    {
     "data": {
      "text/html": [
       "<div>\n",
       "<style scoped>\n",
       "    .dataframe tbody tr th:only-of-type {\n",
       "        vertical-align: middle;\n",
       "    }\n",
       "\n",
       "    .dataframe tbody tr th {\n",
       "        vertical-align: top;\n",
       "    }\n",
       "\n",
       "    .dataframe thead th {\n",
       "        text-align: right;\n",
       "    }\n",
       "</style>\n",
       "<table border=\"1\" class=\"dataframe\">\n",
       "  <thead>\n",
       "    <tr style=\"text-align: right;\">\n",
       "      <th></th>\n",
       "      <th>SmoothL1Loss</th>\n",
       "      <th>MAE</th>\n",
       "      <th>RegLoss</th>\n",
       "      <th>SmoothL1Loss_val</th>\n",
       "      <th>MAE_val</th>\n",
       "    </tr>\n",
       "  </thead>\n",
       "  <tbody>\n",
       "    <tr>\n",
       "      <th>0</th>\n",
       "      <td>0.869894</td>\n",
       "      <td>2.246217</td>\n",
       "      <td>2.091118</td>\n",
       "      <td>1.457551</td>\n",
       "      <td>3.251513</td>\n",
       "    </tr>\n",
       "    <tr>\n",
       "      <th>1</th>\n",
       "      <td>0.710327</td>\n",
       "      <td>1.976678</td>\n",
       "      <td>2.070492</td>\n",
       "      <td>1.037671</td>\n",
       "      <td>2.554086</td>\n",
       "    </tr>\n",
       "    <tr>\n",
       "      <th>2</th>\n",
       "      <td>0.573245</td>\n",
       "      <td>1.743559</td>\n",
       "      <td>2.049420</td>\n",
       "      <td>0.665896</td>\n",
       "      <td>1.936565</td>\n",
       "    </tr>\n",
       "    <tr>\n",
       "      <th>3</th>\n",
       "      <td>0.454461</td>\n",
       "      <td>1.539740</td>\n",
       "      <td>2.028137</td>\n",
       "      <td>0.351566</td>\n",
       "      <td>1.392178</td>\n",
       "    </tr>\n",
       "    <tr>\n",
       "      <th>4</th>\n",
       "      <td>0.350489</td>\n",
       "      <td>1.356304</td>\n",
       "      <td>2.006585</td>\n",
       "      <td>0.155877</td>\n",
       "      <td>0.925207</td>\n",
       "    </tr>\n",
       "    <tr>\n",
       "      <th>...</th>\n",
       "      <td>...</td>\n",
       "      <td>...</td>\n",
       "      <td>...</td>\n",
       "      <td>...</td>\n",
       "      <td>...</td>\n",
       "    </tr>\n",
       "    <tr>\n",
       "      <th>995</th>\n",
       "      <td>0.003057</td>\n",
       "      <td>0.059761</td>\n",
       "      <td>0.309479</td>\n",
       "      <td>0.000040</td>\n",
       "      <td>0.014714</td>\n",
       "    </tr>\n",
       "    <tr>\n",
       "      <th>996</th>\n",
       "      <td>0.003057</td>\n",
       "      <td>0.059768</td>\n",
       "      <td>0.309478</td>\n",
       "      <td>0.000039</td>\n",
       "      <td>0.014580</td>\n",
       "    </tr>\n",
       "    <tr>\n",
       "      <th>997</th>\n",
       "      <td>0.003057</td>\n",
       "      <td>0.059759</td>\n",
       "      <td>0.309478</td>\n",
       "      <td>0.000039</td>\n",
       "      <td>0.014425</td>\n",
       "    </tr>\n",
       "    <tr>\n",
       "      <th>998</th>\n",
       "      <td>0.003058</td>\n",
       "      <td>0.059771</td>\n",
       "      <td>0.309477</td>\n",
       "      <td>0.000039</td>\n",
       "      <td>0.014435</td>\n",
       "    </tr>\n",
       "    <tr>\n",
       "      <th>999</th>\n",
       "      <td>0.003057</td>\n",
       "      <td>0.059762</td>\n",
       "      <td>0.309478</td>\n",
       "      <td>0.000040</td>\n",
       "      <td>0.014593</td>\n",
       "    </tr>\n",
       "  </tbody>\n",
       "</table>\n",
       "<p>1000 rows × 5 columns</p>\n",
       "</div>"
      ],
      "text/plain": [
       "     SmoothL1Loss       MAE   RegLoss  SmoothL1Loss_val   MAE_val\n",
       "0        0.869894  2.246217  2.091118          1.457551  3.251513\n",
       "1        0.710327  1.976678  2.070492          1.037671  2.554086\n",
       "2        0.573245  1.743559  2.049420          0.665896  1.936565\n",
       "3        0.454461  1.539740  2.028137          0.351566  1.392178\n",
       "4        0.350489  1.356304  2.006585          0.155877  0.925207\n",
       "..            ...       ...       ...               ...       ...\n",
       "995      0.003057  0.059761  0.309479          0.000040  0.014714\n",
       "996      0.003057  0.059768  0.309478          0.000039  0.014580\n",
       "997      0.003057  0.059759  0.309478          0.000039  0.014425\n",
       "998      0.003058  0.059771  0.309477          0.000039  0.014435\n",
       "999      0.003057  0.059762  0.309478          0.000040  0.014593\n",
       "\n",
       "[1000 rows x 5 columns]"
      ]
     },
     "execution_count": 71,
     "metadata": {},
     "output_type": "execute_result"
    }
   ],
   "source": [
    "nprophet = NeuralProphet(\n",
    "            yearly_seasonality=False, \n",
    "            weekly_seasonality=True, \n",
    "            daily_seasonality=True,\n",
    "            learning_rate=learning_rate, \n",
    "            changepoints_range=changepoints_range, \n",
    "            n_forecasts=n_forecasts,\n",
    "            ar_sparsity=ar_sparsity, \n",
    "            n_changepoints=n_changepoints, \n",
    "            growth='logistic', \n",
    "            seasonality_mode='multiplicative', \n",
    "            trend_reg=trend_reg,\n",
    "            num_hidden_layers=num_hidden_layers,\n",
    "            seasonality_reg = seasonality_reg\n",
    "        )\n",
    "\n",
    "nprophet.fit(df, plot_live_loss=True, epochs=epochs, freq=freq, validate_each_epoch=True, valid_p=0.1)"
   ]
  },
  {
   "cell_type": "code",
   "execution_count": 72,
   "metadata": {
    "colab": {
     "base_uri": "https://localhost:8080/",
     "height": 437
    },
    "executionInfo": {
     "elapsed": 593,
     "status": "ok",
     "timestamp": 1631666803314,
     "user": {
      "displayName": "Bosang KIM",
      "photoUrl": "https://lh3.googleusercontent.com/a/default-user=s64",
      "userId": "09337160292545321113"
     },
     "user_tz": -540
    },
    "id": "W7mW3KLLr107",
    "outputId": "cb7a8fea-3bf6-4942-d84f-6adb1aa5fd7b"
   },
   "outputs": [
    {
     "name": "stderr",
     "output_type": "stream",
     "text": [
      "WARNING: nprophet - make_future_dataframe: Insufficient data for 300 historic forecasts, reduced to 244.\n"
     ]
    },
    {
     "data": {
      "text/html": [
       "<div>\n",
       "<style scoped>\n",
       "    .dataframe tbody tr th:only-of-type {\n",
       "        vertical-align: middle;\n",
       "    }\n",
       "\n",
       "    .dataframe tbody tr th {\n",
       "        vertical-align: top;\n",
       "    }\n",
       "\n",
       "    .dataframe thead th {\n",
       "        text-align: right;\n",
       "    }\n",
       "</style>\n",
       "<table border=\"1\" class=\"dataframe\">\n",
       "  <thead>\n",
       "    <tr style=\"text-align: right;\">\n",
       "      <th></th>\n",
       "      <th>ds</th>\n",
       "      <th>y</th>\n",
       "      <th>yhat1</th>\n",
       "      <th>residual1</th>\n",
       "      <th>trend</th>\n",
       "      <th>season_weekly</th>\n",
       "      <th>season_daily</th>\n",
       "    </tr>\n",
       "  </thead>\n",
       "  <tbody>\n",
       "    <tr>\n",
       "      <th>0</th>\n",
       "      <td>2015-12-28</td>\n",
       "      <td>1.363793</td>\n",
       "      <td>1.730981</td>\n",
       "      <td>0.367188</td>\n",
       "      <td>-20.866655</td>\n",
       "      <td>-0.000027</td>\n",
       "      <td>-1.024142</td>\n",
       "    </tr>\n",
       "    <tr>\n",
       "      <th>1</th>\n",
       "      <td>2016-01-04</td>\n",
       "      <td>1.517730</td>\n",
       "      <td>1.731694</td>\n",
       "      <td>0.213964</td>\n",
       "      <td>-20.896168</td>\n",
       "      <td>-0.000027</td>\n",
       "      <td>-1.024142</td>\n",
       "    </tr>\n",
       "    <tr>\n",
       "      <th>2</th>\n",
       "      <td>2016-01-11</td>\n",
       "      <td>1.436071</td>\n",
       "      <td>1.732525</td>\n",
       "      <td>0.296454</td>\n",
       "      <td>-20.930609</td>\n",
       "      <td>-0.000027</td>\n",
       "      <td>-1.024142</td>\n",
       "    </tr>\n",
       "    <tr>\n",
       "      <th>3</th>\n",
       "      <td>2016-01-18</td>\n",
       "      <td>2.100804</td>\n",
       "      <td>1.733512</td>\n",
       "      <td>-0.367291</td>\n",
       "      <td>-20.971394</td>\n",
       "      <td>-0.000027</td>\n",
       "      <td>-1.024142</td>\n",
       "    </tr>\n",
       "    <tr>\n",
       "      <th>4</th>\n",
       "      <td>2016-01-25</td>\n",
       "      <td>2.160545</td>\n",
       "      <td>1.734740</td>\n",
       "      <td>-0.425805</td>\n",
       "      <td>-21.022175</td>\n",
       "      <td>-0.000027</td>\n",
       "      <td>-1.024142</td>\n",
       "    </tr>\n",
       "    <tr>\n",
       "      <th>...</th>\n",
       "      <td>...</td>\n",
       "      <td>...</td>\n",
       "      <td>...</td>\n",
       "      <td>...</td>\n",
       "      <td>...</td>\n",
       "      <td>...</td>\n",
       "      <td>...</td>\n",
       "    </tr>\n",
       "    <tr>\n",
       "      <th>265</th>\n",
       "      <td>2021-05-31</td>\n",
       "      <td>NaN</td>\n",
       "      <td>2.742615</td>\n",
       "      <td>NaN</td>\n",
       "      <td>-62.722206</td>\n",
       "      <td>-0.000027</td>\n",
       "      <td>-1.024142</td>\n",
       "    </tr>\n",
       "    <tr>\n",
       "      <th>266</th>\n",
       "      <td>2021-06-07</td>\n",
       "      <td>NaN</td>\n",
       "      <td>2.743192</td>\n",
       "      <td>NaN</td>\n",
       "      <td>-62.745987</td>\n",
       "      <td>-0.000027</td>\n",
       "      <td>-1.024142</td>\n",
       "    </tr>\n",
       "    <tr>\n",
       "      <th>267</th>\n",
       "      <td>2021-06-14</td>\n",
       "      <td>NaN</td>\n",
       "      <td>2.743762</td>\n",
       "      <td>NaN</td>\n",
       "      <td>-62.769760</td>\n",
       "      <td>-0.000027</td>\n",
       "      <td>-1.024142</td>\n",
       "    </tr>\n",
       "    <tr>\n",
       "      <th>268</th>\n",
       "      <td>2021-06-21</td>\n",
       "      <td>NaN</td>\n",
       "      <td>2.744339</td>\n",
       "      <td>NaN</td>\n",
       "      <td>-62.793533</td>\n",
       "      <td>-0.000027</td>\n",
       "      <td>-1.024142</td>\n",
       "    </tr>\n",
       "    <tr>\n",
       "      <th>269</th>\n",
       "      <td>2021-06-28</td>\n",
       "      <td>NaN</td>\n",
       "      <td>2.744915</td>\n",
       "      <td>NaN</td>\n",
       "      <td>-62.817314</td>\n",
       "      <td>-0.000027</td>\n",
       "      <td>-1.024142</td>\n",
       "    </tr>\n",
       "  </tbody>\n",
       "</table>\n",
       "<p>270 rows × 7 columns</p>\n",
       "</div>"
      ],
      "text/plain": [
       "            ds         y     yhat1  ...      trend  season_weekly  season_daily\n",
       "0   2015-12-28  1.363793  1.730981  ... -20.866655      -0.000027     -1.024142\n",
       "1   2016-01-04  1.517730  1.731694  ... -20.896168      -0.000027     -1.024142\n",
       "2   2016-01-11  1.436071  1.732525  ... -20.930609      -0.000027     -1.024142\n",
       "3   2016-01-18  2.100804  1.733512  ... -20.971394      -0.000027     -1.024142\n",
       "4   2016-01-25  2.160545  1.734740  ... -21.022175      -0.000027     -1.024142\n",
       "..         ...       ...       ...  ...        ...            ...           ...\n",
       "265 2021-05-31       NaN  2.742615  ... -62.722206      -0.000027     -1.024142\n",
       "266 2021-06-07       NaN  2.743192  ... -62.745987      -0.000027     -1.024142\n",
       "267 2021-06-14       NaN  2.743762  ... -62.769760      -0.000027     -1.024142\n",
       "268 2021-06-21       NaN  2.744339  ... -62.793533      -0.000027     -1.024142\n",
       "269 2021-06-28       NaN  2.744915  ... -62.817314      -0.000027     -1.024142\n",
       "\n",
       "[270 rows x 7 columns]"
      ]
     },
     "execution_count": 72,
     "metadata": {},
     "output_type": "execute_result"
    }
   ],
   "source": [
    "future = nprophet.make_future_dataframe(df, periods=26, n_historic_predictions=300)\n",
    "forecast = nprophet.predict(future)\n",
    "forecast"
   ]
  },
  {
   "cell_type": "code",
   "execution_count": 73,
   "metadata": {
    "executionInfo": {
     "elapsed": 11,
     "status": "ok",
     "timestamp": 1631666803315,
     "user": {
      "displayName": "Bosang KIM",
      "photoUrl": "https://lh3.googleusercontent.com/a/default-user=s64",
      "userId": "09337160292545321113"
     },
     "user_tz": -540
    },
    "id": "G9IRIm2F3rRf"
   },
   "outputs": [],
   "source": [
    "pred_date = forecast.loc[forecast['ds'] > '2021-01-01', ('ds')].unique()"
   ]
  },
  {
   "cell_type": "code",
   "execution_count": 74,
   "metadata": {
    "executionInfo": {
     "elapsed": 11,
     "status": "ok",
     "timestamp": 1631666803315,
     "user": {
      "displayName": "Bosang KIM",
      "photoUrl": "https://lh3.googleusercontent.com/a/default-user=s64",
      "userId": "09337160292545321113"
     },
     "user_tz": -540
    },
    "id": "ILJ6bInk3FI7"
   },
   "outputs": [],
   "source": [
    "a = pd.DataFrame(columns=['ds', 'y', 'yhat1', 'residual1', 'trend', 'season_yearly'])\n",
    "for i in pred_date:\n",
    "  a = a.append(forecast.iloc[forecast.loc[forecast['ds']==i].index])\n",
    "a.reset_index(drop=True, inplace = True)"
   ]
  },
  {
   "cell_type": "code",
   "execution_count": 79,
   "metadata": {
    "colab": {
     "base_uri": "https://localhost:8080/"
    },
    "executionInfo": {
     "elapsed": 374,
     "status": "ok",
     "timestamp": 1631666959486,
     "user": {
      "displayName": "Bosang KIM",
      "photoUrl": "https://lh3.googleusercontent.com/a/default-user=s64",
      "userId": "09337160292545321113"
     },
     "user_tz": -540
    },
    "id": "AQOdThE94Jap",
    "outputId": "d717a845-8d53-4e0b-f587-e1e99b61b134"
   },
   "outputs": [
    {
     "data": {
      "text/plain": [
       "[2.7305450439453125,\n",
       " 2.73112154006958,\n",
       " 2.7316980361938477,\n",
       " 2.7322747707366943,\n",
       " 2.7328450679779053,\n",
       " 2.733421564102173,\n",
       " 2.7339982986450195,\n",
       " 2.7345685958862305,\n",
       " 2.735145092010498,\n",
       " 2.7357215881347656,\n",
       " 2.7362918853759766,\n",
       " 2.736868381500244,\n",
       " 2.737445116043091,\n",
       " 2.7380154132843018,\n",
       " 2.7385921478271484,\n",
       " 2.739168643951416,\n",
       " 2.7397451400756836,\n",
       " 2.7403154373168945,\n",
       " 2.740891933441162,\n",
       " 2.741468667984009,\n",
       " 2.7420389652252197,\n",
       " 2.7426154613494873,\n",
       " 2.743192195892334,\n",
       " 2.743762493133545,\n",
       " 2.7443389892578125,\n",
       " 2.74491548538208]"
      ]
     },
     "execution_count": 79,
     "metadata": {},
     "output_type": "execute_result"
    }
   ],
   "source": [
    "# 오징어 최적 가격 예측 \n",
    "predict_score = a['yhat1']\n",
    "predict_score.values.tolist()"
   ]
  },
  {
   "cell_type": "markdown",
   "metadata": {
    "id": "rvcMn4HF4Jpj"
   },
   "source": [
    "# 흰다리새우 test 데이터 예측 "
   ]
  },
  {
   "cell_type": "markdown",
   "metadata": {
    "id": "ZD4lBdPWoj30"
   },
   "source": [
    "## 흰다리새우 데이터 로드 "
   ]
  },
  {
   "cell_type": "code",
   "execution_count": 106,
   "metadata": {
    "colab": {
     "base_uri": "https://localhost:8080/"
    },
    "executionInfo": {
     "elapsed": 4222,
     "status": "ok",
     "timestamp": 1631668408245,
     "user": {
      "displayName": "Bosang KIM",
      "photoUrl": "https://lh3.googleusercontent.com/a/default-user=s64",
      "userId": "09337160292545321113"
     },
     "user_tz": -540
    },
    "id": "Ay0Gyo8m9KrN",
    "outputId": "8e8bb370-0ee5-42f8-b4d4-870c970e255a"
   },
   "outputs": [
    {
     "name": "stdout",
     "output_type": "stream",
     "text": [
      "수산물 어종을 고르세요 (오징어/흰다리새우/연어)흰다리새우\n"
     ]
    }
   ],
   "source": [
    "## 중량 수온 데이터를 합친 dataframe, 품목 별로 불러오기\n",
    "os.chdir('/content/drive/MyDrive/BIGCONTEST/data/real_use')\n",
    "\n",
    "name = input('수산물 어종을 고르세요 (오징어/흰다리새우/연어)')\n",
    "\n",
    "if name == \"오징어\":\n",
    "  data = pd.read_csv(\"./squid_temp1.csv\")\n",
    "  val_df = pd.read_csv(\"./squid_temp2.csv\")\n",
    "elif name == \"흰다리새우\":\n",
    "  data = pd.read_csv(\"./shrimp_temp1.csv\")\n",
    "  val_df = pd.read_csv(\"./shrimp_temp2.csv\")\n",
    "elif name == \"연어\":\n",
    "  data = pd.read_csv(\"./salmon_temp1.csv\")\n",
    "  val_df = pd.read_csv(\"./salmon_temp2.csv\")\n",
    "else:\n",
    "  None"
   ]
  },
  {
   "cell_type": "code",
   "execution_count": 108,
   "metadata": {
    "executionInfo": {
     "elapsed": 514,
     "status": "ok",
     "timestamp": 1631668411295,
     "user": {
      "displayName": "Bosang KIM",
      "photoUrl": "https://lh3.googleusercontent.com/a/default-user=s64",
      "userId": "09337160292545321113"
     },
     "user_tz": -540
    },
    "id": "uAXd0ic99Lvm"
   },
   "outputs": [],
   "source": [
    "# train data + validation data 병합 \n",
    "data = pd.concat([data, val_df])"
   ]
  },
  {
   "cell_type": "code",
   "execution_count": 109,
   "metadata": {
    "executionInfo": {
     "elapsed": 2,
     "status": "ok",
     "timestamp": 1631668411948,
     "user": {
      "displayName": "Bosang KIM",
      "photoUrl": "https://lh3.googleusercontent.com/a/default-user=s64",
      "userId": "09337160292545321113"
     },
     "user_tz": -540
    },
    "id": "gyqG6f2o9k_X"
   },
   "outputs": [],
   "source": [
    "# 품목별 dataframe을 생성하고, 일자별 거래의 갯수를 리스트 형태로 저장\n",
    "def datasetting(data, p_name):\n",
    "\n",
    "  just_p = pd.DataFrame(columns=data.columns.tolist())\n",
    "  len_list = []\n",
    "  for i, day_time in enumerate(list(Counter(data['REG_DATE']).keys())):\n",
    "    day_df = data[data['REG_DATE']==day_time]\n",
    "    just_p = pd.concat([just_p, day_df[day_df['P_NAME']==p_name]])\n",
    "    len_list.append(len(day_df[day_df['P_NAME']==p_name]))\n",
    "\n",
    "  return just_p, len_list"
   ]
  },
  {
   "cell_type": "code",
   "execution_count": 110,
   "metadata": {
    "executionInfo": {
     "elapsed": 1,
     "status": "ok",
     "timestamp": 1631668412793,
     "user": {
      "displayName": "Bosang KIM",
      "photoUrl": "https://lh3.googleusercontent.com/a/default-user=s64",
      "userId": "09337160292545321113"
     },
     "user_tz": -540
    },
    "id": "o6H4FaVL9m2l"
   },
   "outputs": [],
   "source": [
    "# import type을 multi-hot encoding 하기 위한 방법\n",
    "def data_encoding(df, type_):\n",
    "  tmp = []\n",
    "  for impo in df[type_]:\n",
    "    types = impo.split(',')\n",
    "    for i in types:\n",
    "      tmp.append(i)\n",
    "  return list(set(tmp))"
   ]
  },
  {
   "cell_type": "code",
   "execution_count": 111,
   "metadata": {
    "executionInfo": {
     "elapsed": 1506,
     "status": "ok",
     "timestamp": 1631668415795,
     "user": {
      "displayName": "Bosang KIM",
      "photoUrl": "https://lh3.googleusercontent.com/a/default-user=s64",
      "userId": "09337160292545321113"
     },
     "user_tz": -540
    },
    "id": "C8QAbAal9qpd"
   },
   "outputs": [],
   "source": [
    "train, t_len = datasetting(data, name)\n",
    "#validation, v_len = datasetting(val_df, name)"
   ]
  },
  {
   "cell_type": "code",
   "execution_count": 112,
   "metadata": {
    "executionInfo": {
     "elapsed": 2,
     "status": "ok",
     "timestamp": 1631668415795,
     "user": {
      "displayName": "Bosang KIM",
      "photoUrl": "https://lh3.googleusercontent.com/a/default-user=s64",
      "userId": "09337160292545321113"
     },
     "user_tz": -540
    },
    "id": "I-6Mq8-Z9urn"
   },
   "outputs": [],
   "source": [
    "## 제조국과 수출국에 대하여 multi-hot encoding을 진행하기위해서 모든 나라를 리스트형태로 저장\n",
    "ctry_1 = set(list(set(train['CTRY_1']))+list(set(train['CTRY_2'])))\n",
    "#ctry_2 = set(list(set(validation['CTRY_1']))+list(set(validation['CTRY_2'])))\n",
    "con = list(ctry_1)\n",
    "ctry_list = list(set(con))"
   ]
  },
  {
   "cell_type": "code",
   "execution_count": 113,
   "metadata": {
    "executionInfo": {
     "elapsed": 2,
     "status": "ok",
     "timestamp": 1631668416534,
     "user": {
      "displayName": "Bosang KIM",
      "photoUrl": "https://lh3.googleusercontent.com/a/default-user=s64",
      "userId": "09337160292545321113"
     },
     "user_tz": -540
    },
    "id": "EbOhyxZV9zup"
   },
   "outputs": [],
   "source": [
    "## 명목형 변수는 dummy 처리해서 multi-hot 형태로 할당하고, 수치형 변수는 스케일링 작업 진행\n",
    "\n",
    "def data_frame(trains, ctry_list):\n",
    "\n",
    "  p_type = \"P_IMPORT_TYPE\"\n",
    "  import_type = data_encoding(train, p_type)\n",
    "\n",
    "  con = ctry_list\n",
    "  con.sort()\n",
    "  col_con = [f\"country_{co}\" for co in con]\n",
    "  col_imp = [f\"import_{im}\" for im in import_type]\n",
    "  cols = col_con + col_imp + ['weight', 'temp', 'price']\n",
    "  # print(cols)\n",
    "  x_train = pd.DataFrame(columns=cols)\n",
    "  tmp = []\n",
    "  for i in range(len(cols)-1):\n",
    "    tmp.append([])\n",
    "  len_a = len(col_con)\n",
    "  len_b = len(col_imp)\n",
    "  for c1, c2, p in zip(trains['CTRY_1'], trains['CTRY_2'], trains['P_IMPORT_TYPE']):\n",
    "    i = con.index(c1)\n",
    "    j = con.index(c2)\n",
    "    country = np.eye(len_a)[i] + np.eye(len_a)[j] ## 제조국 + 수출국 정보 결합\n",
    "\n",
    "    p_import = np.zeros(len_b)\n",
    "    for ty in p.split(','):\n",
    "      j = import_type.index(ty)\n",
    "      p_import += np.eye(len(p_import))[j] ## import type 정보 결합\n",
    "\n",
    "    row = np.concatenate([country, p_import])\n",
    "\n",
    "    for i, r in enumerate(row):\n",
    "      tmp[i].append(r)\n",
    "\n",
    "  for i, c in enumerate(cols[:-3]): ## 중량, 수온, 가격 이외의 것들만 고려\n",
    "    x_train[c] = tmp[i]\n",
    "\n",
    "  ## 중량과 수온 데이터 스케일링\n",
    "  w = trains['WEIGHT(KG)'].tolist()\n",
    "  w = np.array(w).reshape(-1,1)\n",
    "  t = trains['temp'].tolist()\n",
    "  t = np.array(t).reshape(-1,1)\n",
    "\n",
    "  scaler = MinMaxScaler()\n",
    "  scaler.fit(w)\n",
    "  t_data = scaler.transform(w)\n",
    "\n",
    "  wscaler = MinMaxScaler()\n",
    "  wscaler.fit(t)\n",
    "  w_data = wscaler.transform(t)\n",
    "\n",
    "  x_train['weight'] =  t_data\n",
    "  x_train['temp'] = w_data\n",
    "  x_train['price'] = trains['P_PRICE'].tolist()\n",
    "\n",
    "  return x_train"
   ]
  },
  {
   "cell_type": "code",
   "execution_count": 114,
   "metadata": {
    "executionInfo": {
     "elapsed": 2,
     "status": "ok",
     "timestamp": 1631668417728,
     "user": {
      "displayName": "Bosang KIM",
      "photoUrl": "https://lh3.googleusercontent.com/a/default-user=s64",
      "userId": "09337160292545321113"
     },
     "user_tz": -540
    },
    "id": "TVoQCznS92GO"
   },
   "outputs": [],
   "source": [
    "x_train = data_frame(train, ctry_list)"
   ]
  },
  {
   "cell_type": "markdown",
   "metadata": {
    "id": "vq1OkRaQ95jS"
   },
   "source": [
    "## 데이터 분리 "
   ]
  },
  {
   "cell_type": "code",
   "execution_count": 115,
   "metadata": {
    "executionInfo": {
     "elapsed": 2,
     "status": "ok",
     "timestamp": 1631668419167,
     "user": {
      "displayName": "Bosang KIM",
      "photoUrl": "https://lh3.googleusercontent.com/a/default-user=s64",
      "userId": "09337160292545321113"
     },
     "user_tz": -540
    },
    "id": "bp1FCxNe9_-Z"
   },
   "outputs": [],
   "source": [
    "X_train = np.array(x_train.iloc[:,:-1])\n",
    "Y_train = np.array(x_train.iloc[:,-1])\n",
    "Y_train = Y_train.reshape(-1)"
   ]
  },
  {
   "cell_type": "code",
   "execution_count": 116,
   "metadata": {
    "colab": {
     "base_uri": "https://localhost:8080/"
    },
    "executionInfo": {
     "elapsed": 8,
     "status": "ok",
     "timestamp": 1631668419767,
     "user": {
      "displayName": "Bosang KIM",
      "photoUrl": "https://lh3.googleusercontent.com/a/default-user=s64",
      "userId": "09337160292545321113"
     },
     "user_tz": -540
    },
    "id": "9mVR3wgG-ARO",
    "outputId": "8e4f829e-9e3d-40d9-9277-ea8de66b032d"
   },
   "outputs": [
    {
     "data": {
      "text/plain": [
       "((2187, 20), (2187,))"
      ]
     },
     "execution_count": 116,
     "metadata": {},
     "output_type": "execute_result"
    }
   ],
   "source": [
    "X_train.shape, Y_train.shape"
   ]
  },
  {
   "cell_type": "code",
   "execution_count": 117,
   "metadata": {
    "executionInfo": {
     "elapsed": 3,
     "status": "ok",
     "timestamp": 1631668419768,
     "user": {
      "displayName": "Bosang KIM",
      "photoUrl": "https://lh3.googleusercontent.com/a/default-user=s64",
      "userId": "09337160292545321113"
     },
     "user_tz": -540
    },
    "id": "dvH_Og9g-B7j"
   },
   "outputs": [],
   "source": [
    "num_heads=8; head_size=32; ff_dim=None; dropout=0\n",
    "multi = MultiHeadAttention(num_heads=num_heads, head_size=head_size, dropout=dropout)"
   ]
  },
  {
   "cell_type": "code",
   "execution_count": 118,
   "metadata": {
    "executionInfo": {
     "elapsed": 2,
     "status": "ok",
     "timestamp": 1631668420708,
     "user": {
      "displayName": "Bosang KIM",
      "photoUrl": "https://lh3.googleusercontent.com/a/default-user=s64",
      "userId": "09337160292545321113"
     },
     "user_tz": -540
    },
    "id": "gJK-BEdB-DYW"
   },
   "outputs": [],
   "source": [
    "## Attention을 계산하는 모듈 생성\n",
    "\n",
    "class AttentionBlock(keras.Model):\n",
    "    def __init__(self, name='AttentionBlock', num_heads=2, head_size=128, ff_dim=None, dropout=0.2, **kwargs):\n",
    "        super().__init__(name=name, **kwargs)\n",
    "\n",
    "        if ff_dim is None:\n",
    "            ff_dim = head_size\n",
    "\n",
    "        self.attention = MultiHeadAttention(num_heads=num_heads, head_size=head_size, dropout=dropout)\n",
    "        self.attention_dropout = keras.layers.Dropout(dropout)\n",
    "        self.attention_norm = keras.layers.LayerNormalization(epsilon=1e-6)\n",
    "\n",
    "        self.ff_conv1 = keras.layers.Conv1D(filters=ff_dim, kernel_size=1, activation='relu')\n",
    "        self.flatten = keras.layers.Flatten()\n",
    "        self.dense1 = keras.layers.Dense(64, activation='relu')\n",
    "        self.dense2 = keras.layers.Dense(1)\n",
    "        self.ff_dropout = keras.layers.Dropout(dropout)\n",
    "        self.ff_norm = keras.layers.LayerNormalization(epsilon=1e-6)\n",
    "\n",
    "    def build(self, input_shape):\n",
    "        self.ff_conv2 = keras.layers.Conv1D(filters=input_shape[-1], kernel_size=1) \n",
    "\n",
    "    def call(self, inputs):\n",
    "        x = self.attention([inputs, inputs])\n",
    "        x = self.attention_dropout(x)\n",
    "        x = self.attention_norm(inputs + x)\n",
    "        \n",
    "        return x"
   ]
  },
  {
   "cell_type": "code",
   "execution_count": 119,
   "metadata": {
    "executionInfo": {
     "elapsed": 1,
     "status": "ok",
     "timestamp": 1631668421275,
     "user": {
      "displayName": "Bosang KIM",
      "photoUrl": "https://lh3.googleusercontent.com/a/default-user=s64",
      "userId": "09337160292545321113"
     },
     "user_tz": -540
    },
    "id": "dOrsySZz-FFZ"
   },
   "outputs": [],
   "source": [
    "## Attention을 여러번 계산하고 마치막 출력으로 Fully_connected layer를 통해 차원 축소\n",
    "\n",
    "class ModelTrunk(keras.Model):\n",
    "    def __init__(self, name='ModelTrunk', num_heads=2, head_size=128, ff_dim=None, num_layers=10, dropout=0, **kwargs):\n",
    "      super().__init__(name=name, **kwargs)\n",
    "      if ff_dim is None:\n",
    "          ff_dim = head_size\n",
    "      self.dropout = dropout\n",
    "      self.attention_layers = [AttentionBlock(num_heads=num_heads, head_size=head_size, ff_dim=ff_dim, dropout=dropout) for _ in range(num_layers)]\n",
    "      self.dense2 = keras.layers.Dense(1, kernel_initializer='he_normal')\n",
    "\n",
    "    def call(self, inputs):\n",
    "      x = inputs\n",
    "      for attention_layer in self.attention_layers:\n",
    "          x = attention_layer(x)\n",
    "      x = self.dense2(x)\n",
    "      return x"
   ]
  },
  {
   "cell_type": "code",
   "execution_count": 120,
   "metadata": {
    "executionInfo": {
     "elapsed": 3,
     "status": "ok",
     "timestamp": 1631668423255,
     "user": {
      "displayName": "Bosang KIM",
      "photoUrl": "https://lh3.googleusercontent.com/a/default-user=s64",
      "userId": "09337160292545321113"
     },
     "user_tz": -540
    },
    "id": "46lpV9gX-HU-"
   },
   "outputs": [],
   "source": [
    "# Attention 계산 및 FC layer 차원축소 \n",
    "attention_layers = ModelTrunk()"
   ]
  },
  {
   "cell_type": "code",
   "execution_count": 121,
   "metadata": {
    "executionInfo": {
     "elapsed": 3,
     "status": "ok",
     "timestamp": 1631668423961,
     "user": {
      "displayName": "Bosang KIM",
      "photoUrl": "https://lh3.googleusercontent.com/a/default-user=s64",
      "userId": "09337160292545321113"
     },
     "user_tz": -540
    },
    "id": "kQWknD-x-Mz7"
   },
   "outputs": [],
   "source": [
    "# 소프트맥스 함수 \n",
    "def softmax(x):\n",
    "    e_x = np.exp(x - np.max(x))\n",
    "    return e_x / e_x.sum()"
   ]
  },
  {
   "cell_type": "code",
   "execution_count": 122,
   "metadata": {
    "executionInfo": {
     "elapsed": 3,
     "status": "ok",
     "timestamp": 1631668423962,
     "user": {
      "displayName": "Bosang KIM",
      "photoUrl": "https://lh3.googleusercontent.com/a/default-user=s64",
      "userId": "09337160292545321113"
     },
     "user_tz": -540
    },
    "id": "GS21zlwd-PjQ"
   },
   "outputs": [],
   "source": [
    "# Attention - FC layer 를 통한 가중치 리스트와 가격 리스트 생성\n",
    "def make_weight(x, y,length):\n",
    "    # 날짜별로 attention score 담을 list\n",
    "    weight_score = []\n",
    "    # 날짜별로 p_price 담을 list\n",
    "    p_price = []\n",
    "    final_weight = []\n",
    "\n",
    "    before = 0\n",
    "    for leng in length:\n",
    "      if leng==0:\n",
    "        weight_score.append([[0]])\n",
    "        p_price.append([[0]])\n",
    "      else:\n",
    "        a = np.array(x[before:before+leng])\n",
    "        b = np.array(y[before:before+leng]).tolist()\n",
    "        arr = attention_layers(a)\n",
    "        weight_score.append(np.array(softmax(arr)).tolist()) ## attention score를 softmax 함수를 이용해서 정규화\n",
    "        p_price.append(b)\n",
    "        before += leng\n",
    "\n",
    "    for w in weight_score:\n",
    "        aa = sum(w, [])\n",
    "        final_weight.append(aa)\n",
    "\n",
    "    return final_weight,p_price"
   ]
  },
  {
   "cell_type": "code",
   "execution_count": 123,
   "metadata": {
    "executionInfo": {
     "elapsed": 9744,
     "status": "ok",
     "timestamp": 1631668434461,
     "user": {
      "displayName": "Bosang KIM",
      "photoUrl": "https://lh3.googleusercontent.com/a/default-user=s64",
      "userId": "09337160292545321113"
     },
     "user_tz": -540
    },
    "id": "EL0Gz9c3-U0g"
   },
   "outputs": [],
   "source": [
    "train_weight, train_price = make_weight(X_train, Y_train, t_len)"
   ]
  },
  {
   "cell_type": "code",
   "execution_count": 124,
   "metadata": {
    "executionInfo": {
     "elapsed": 5,
     "status": "ok",
     "timestamp": 1631668434463,
     "user": {
      "displayName": "Bosang KIM",
      "photoUrl": "https://lh3.googleusercontent.com/a/default-user=s64",
      "userId": "09337160292545321113"
     },
     "user_tz": -540
    },
    "id": "h75E35ca-Z8X"
   },
   "outputs": [],
   "source": [
    "# 가중치를 이용한 새로운 가격 변수 생성\n",
    "def make_new_price(weight_list, price_list):\n",
    "    new_price = []\n",
    "    new_price_m = 0\n",
    "    new_price_s = 0\n",
    "\n",
    "    for i in range(len(weight_list)):\n",
    "        if weight_list[i]==[0]:\n",
    "            new_price.append(0)\n",
    "        else:\n",
    "            for j in range(len(weight_list[i])):\n",
    "                new_price_m += (weight_list[i][j] * price_list[i][j])\n",
    "                new_price_s += weight_list[i][j]\n",
    "            new_price_sum = new_price_m / new_price_s\n",
    "            new_price.append(new_price_sum)\n",
    "    return new_price"
   ]
  },
  {
   "cell_type": "code",
   "execution_count": 125,
   "metadata": {
    "executionInfo": {
     "elapsed": 5,
     "status": "ok",
     "timestamp": 1631668434464,
     "user": {
      "displayName": "Bosang KIM",
      "photoUrl": "https://lh3.googleusercontent.com/a/default-user=s64",
      "userId": "09337160292545321113"
     },
     "user_tz": -540
    },
    "id": "kzfRoY5e-cz9"
   },
   "outputs": [],
   "source": [
    "# attention score의 가중치를 적용한 가중평균 \n",
    "train_price = make_new_price(train_weight, train_price)"
   ]
  },
  {
   "cell_type": "code",
   "execution_count": 126,
   "metadata": {
    "executionInfo": {
     "elapsed": 5,
     "status": "ok",
     "timestamp": 1631668434464,
     "user": {
      "displayName": "Bosang KIM",
      "photoUrl": "https://lh3.googleusercontent.com/a/default-user=s64",
      "userId": "09337160292545321113"
     },
     "user_tz": -540
    },
    "id": "1X0zMQz2-hYH"
   },
   "outputs": [],
   "source": [
    "trn_lst = np.array([item for item in train_price if item > 0])"
   ]
  },
  {
   "cell_type": "code",
   "execution_count": 127,
   "metadata": {
    "executionInfo": {
     "elapsed": 4,
     "status": "ok",
     "timestamp": 1631668434464,
     "user": {
      "displayName": "Bosang KIM",
      "photoUrl": "https://lh3.googleusercontent.com/a/default-user=s64",
      "userId": "09337160292545321113"
     },
     "user_tz": -540
    },
    "id": "enKIPIXB-kFf"
   },
   "outputs": [],
   "source": [
    "train['REG_DATE'] = pd.to_datetime(train['REG_DATE'])"
   ]
  },
  {
   "cell_type": "code",
   "execution_count": 128,
   "metadata": {
    "executionInfo": {
     "elapsed": 5,
     "status": "ok",
     "timestamp": 1631668434465,
     "user": {
      "displayName": "Bosang KIM",
      "photoUrl": "https://lh3.googleusercontent.com/a/default-user=s64",
      "userId": "09337160292545321113"
     },
     "user_tz": -540
    },
    "id": "N0H00hCk-pAD"
   },
   "outputs": [],
   "source": [
    "# 가중평균한 최종 가격 배열로 만들기 \n",
    "ts_train = np.array(train_price)"
   ]
  },
  {
   "cell_type": "markdown",
   "metadata": {
    "id": "GtHJJVz5-rDC"
   },
   "source": [
    "## RMSE 함수(평가지표)"
   ]
  },
  {
   "cell_type": "code",
   "execution_count": 129,
   "metadata": {
    "executionInfo": {
     "elapsed": 5,
     "status": "ok",
     "timestamp": 1631668434465,
     "user": {
      "displayName": "Bosang KIM",
      "photoUrl": "https://lh3.googleusercontent.com/a/default-user=s64",
      "userId": "09337160292545321113"
     },
     "user_tz": -540
    },
    "id": "7AFMU_AL-uZM"
   },
   "outputs": [],
   "source": [
    "def rmse(y: List, yhat:List)->float:\n",
    "  # y값의 갯수\n",
    "  n = len(y)\n",
    "  mse = 0\n",
    "  for i in range(n):\n",
    "    # 실제값에서 예측값 뺀것의 제곱\n",
    "    mse += (y[i] - yhat[i])**2\n",
    "  rmse = (mse/n)**0.5\n",
    "  return rmse"
   ]
  },
  {
   "cell_type": "markdown",
   "metadata": {
    "id": "zpRfeu9Y-wBk"
   },
   "source": [
    "## Neural Prophet"
   ]
  },
  {
   "cell_type": "markdown",
   "metadata": {
    "id": "x9EIPEG8-1pi"
   },
   "source": [
    "### 하이퍼파라미터 - 각각의 Neural Prophet으로부터 최적으로 뽑아낸 것 "
   ]
  },
  {
   "cell_type": "code",
   "execution_count": 130,
   "metadata": {
    "executionInfo": {
     "elapsed": 2,
     "status": "ok",
     "timestamp": 1631668435831,
     "user": {
      "displayName": "Bosang KIM",
      "photoUrl": "https://lh3.googleusercontent.com/a/default-user=s64",
      "userId": "09337160292545321113"
     },
     "user_tz": -540
    },
    "id": "gmw5glR_-zcS"
   },
   "outputs": [],
   "source": [
    "# hyperparameter \n",
    "freq = 'W-MON' # 시작일이 월요일이면서, 일주일 간격 \n"
   ]
  },
  {
   "cell_type": "code",
   "execution_count": 131,
   "metadata": {
    "colab": {
     "base_uri": "https://localhost:8080/"
    },
    "executionInfo": {
     "elapsed": 7,
     "status": "ok",
     "timestamp": 1631668436627,
     "user": {
      "displayName": "Bosang KIM",
      "photoUrl": "https://lh3.googleusercontent.com/a/default-user=s64",
      "userId": "09337160292545321113"
     },
     "user_tz": -540
    },
    "id": "o0iRiF53-9QA",
    "outputId": "06908051-e4a0-4f6a-8fd6-36f23078c0b7"
   },
   "outputs": [
    {
     "name": "stdout",
     "output_type": "stream",
     "text": [
      "(247, 2)\n"
     ]
    }
   ],
   "source": [
    "## 모델 피팅하기 위해서 dataframe 형태 수정\n",
    "df = pd.DataFrame(columns=['ds', 'y'])\n",
    "df['ds'] = train['REG_DATE'].unique()\n",
    "df['y'] = ts_train\n",
    "print(df.shape)"
   ]
  },
  {
   "cell_type": "code",
   "execution_count": 132,
   "metadata": {
    "executionInfo": {
     "elapsed": 389,
     "status": "ok",
     "timestamp": 1631668474497,
     "user": {
      "displayName": "Bosang KIM",
      "photoUrl": "https://lh3.googleusercontent.com/a/default-user=s64",
      "userId": "09337160292545321113"
     },
     "user_tz": -540
    },
    "id": "tk3Ht0vT-9aG"
   },
   "outputs": [],
   "source": [
    "## neural prophet\n",
    "epochs = 1000\n",
    "# batch_size = 64\n",
    "learning_rate = 0.005\n",
    "\n",
    "\n",
    "# AR net \n",
    "n_forecasts = 52 # 예측 기간의 크기  # future_periods랑 같아야한다. \n",
    "num_hidden_layers = 30 # AR-net compelxity 조절 \n",
    "ar_sparsity = 0.8  # 0-1, 0에 가까울수록 sparse함 \n",
    "\n",
    "# d_hidden = 64 \n",
    "# trend_smoothness = 0.5\n",
    "n_changepoints = 200 # 변화점(changepoint)의 갯수 설정 \n",
    "changepoints_range = 1.0 # 변화점을 전체 데이터셋에서 몇 퍼센트 감지할지\n",
    "trend_reg = 0.03\n",
    "seasonality_reg=30\n",
    "\n",
    "#n_lags = 5  # >error : lambda delay가 없다"
   ]
  },
  {
   "cell_type": "code",
   "execution_count": 133,
   "metadata": {
    "colab": {
     "base_uri": "https://localhost:8080/",
     "height": 1000
    },
    "executionInfo": {
     "elapsed": 73145,
     "status": "ok",
     "timestamp": 1631668554220,
     "user": {
      "displayName": "Bosang KIM",
      "photoUrl": "https://lh3.googleusercontent.com/a/default-user=s64",
      "userId": "09337160292545321113"
     },
     "user_tz": -540
    },
    "id": "VFZLKVFP-_Zp",
    "outputId": "757c74e7-c080-462d-9b63-f00e8e8b0729"
   },
   "outputs": [
    {
     "data": {
      "image/png": "[encoded data removed]",
      "text/plain": [
       "<Figure size 864x576 with 2 Axes>"
      ]
     },
     "metadata": {
      "needs_background": "light"
     },
     "output_type": "display_data"
    },
    {
     "name": "stderr",
     "output_type": "stream",
     "text": [
      "\r",
      "Epoch[1000/1000]: 100%|██████████| 1000/1000 [01:12<00:00, 13.77it/s, SmoothL1Loss=0.000475, MAE=0.0267, RegLoss=0.000552, MAE_val=0.0677, SmoothL1Loss_val=0.000458]\n"
     ]
    },
    {
     "data": {
      "text/html": [
       "<div>\n",
       "<style scoped>\n",
       "    .dataframe tbody tr th:only-of-type {\n",
       "        vertical-align: middle;\n",
       "    }\n",
       "\n",
       "    .dataframe tbody tr th {\n",
       "        vertical-align: top;\n",
       "    }\n",
       "\n",
       "    .dataframe thead th {\n",
       "        text-align: right;\n",
       "    }\n",
       "</style>\n",
       "<table border=\"1\" class=\"dataframe\">\n",
       "  <thead>\n",
       "    <tr style=\"text-align: right;\">\n",
       "      <th></th>\n",
       "      <th>SmoothL1Loss</th>\n",
       "      <th>MAE</th>\n",
       "      <th>RegLoss</th>\n",
       "      <th>SmoothL1Loss_val</th>\n",
       "      <th>MAE_val</th>\n",
       "    </tr>\n",
       "  </thead>\n",
       "  <tbody>\n",
       "    <tr>\n",
       "      <th>0</th>\n",
       "      <td>0.467280</td>\n",
       "      <td>2.273967</td>\n",
       "      <td>2.149281</td>\n",
       "      <td>0.337425</td>\n",
       "      <td>1.948494</td>\n",
       "    </tr>\n",
       "    <tr>\n",
       "      <th>1</th>\n",
       "      <td>0.397314</td>\n",
       "      <td>2.095715</td>\n",
       "      <td>2.132426</td>\n",
       "      <td>0.205064</td>\n",
       "      <td>1.518214</td>\n",
       "    </tr>\n",
       "    <tr>\n",
       "      <th>2</th>\n",
       "      <td>0.347255</td>\n",
       "      <td>1.952371</td>\n",
       "      <td>2.106719</td>\n",
       "      <td>0.103766</td>\n",
       "      <td>1.077750</td>\n",
       "    </tr>\n",
       "    <tr>\n",
       "      <th>3</th>\n",
       "      <td>0.305849</td>\n",
       "      <td>1.814288</td>\n",
       "      <td>2.076055</td>\n",
       "      <td>0.028307</td>\n",
       "      <td>0.553763</td>\n",
       "    </tr>\n",
       "    <tr>\n",
       "      <th>4</th>\n",
       "      <td>0.266341</td>\n",
       "      <td>1.659235</td>\n",
       "      <td>2.044504</td>\n",
       "      <td>0.001984</td>\n",
       "      <td>0.129314</td>\n",
       "    </tr>\n",
       "    <tr>\n",
       "      <th>...</th>\n",
       "      <td>...</td>\n",
       "      <td>...</td>\n",
       "      <td>...</td>\n",
       "      <td>...</td>\n",
       "      <td>...</td>\n",
       "    </tr>\n",
       "    <tr>\n",
       "      <th>995</th>\n",
       "      <td>0.000475</td>\n",
       "      <td>0.026734</td>\n",
       "      <td>0.000552</td>\n",
       "      <td>0.000459</td>\n",
       "      <td>0.067723</td>\n",
       "    </tr>\n",
       "    <tr>\n",
       "      <th>996</th>\n",
       "      <td>0.000475</td>\n",
       "      <td>0.026737</td>\n",
       "      <td>0.000552</td>\n",
       "      <td>0.000456</td>\n",
       "      <td>0.067494</td>\n",
       "    </tr>\n",
       "    <tr>\n",
       "      <th>997</th>\n",
       "      <td>0.000475</td>\n",
       "      <td>0.026735</td>\n",
       "      <td>0.000552</td>\n",
       "      <td>0.000458</td>\n",
       "      <td>0.067645</td>\n",
       "    </tr>\n",
       "    <tr>\n",
       "      <th>998</th>\n",
       "      <td>0.000475</td>\n",
       "      <td>0.026735</td>\n",
       "      <td>0.000552</td>\n",
       "      <td>0.000459</td>\n",
       "      <td>0.067707</td>\n",
       "    </tr>\n",
       "    <tr>\n",
       "      <th>999</th>\n",
       "      <td>0.000475</td>\n",
       "      <td>0.026733</td>\n",
       "      <td>0.000552</td>\n",
       "      <td>0.000458</td>\n",
       "      <td>0.067666</td>\n",
       "    </tr>\n",
       "  </tbody>\n",
       "</table>\n",
       "<p>1000 rows × 5 columns</p>\n",
       "</div>"
      ],
      "text/plain": [
       "     SmoothL1Loss       MAE   RegLoss  SmoothL1Loss_val   MAE_val\n",
       "0        0.467280  2.273967  2.149281          0.337425  1.948494\n",
       "1        0.397314  2.095715  2.132426          0.205064  1.518214\n",
       "2        0.347255  1.952371  2.106719          0.103766  1.077750\n",
       "3        0.305849  1.814288  2.076055          0.028307  0.553763\n",
       "4        0.266341  1.659235  2.044504          0.001984  0.129314\n",
       "..            ...       ...       ...               ...       ...\n",
       "995      0.000475  0.026734  0.000552          0.000459  0.067723\n",
       "996      0.000475  0.026737  0.000552          0.000456  0.067494\n",
       "997      0.000475  0.026735  0.000552          0.000458  0.067645\n",
       "998      0.000475  0.026735  0.000552          0.000459  0.067707\n",
       "999      0.000475  0.026733  0.000552          0.000458  0.067666\n",
       "\n",
       "[1000 rows x 5 columns]"
      ]
     },
     "execution_count": 133,
     "metadata": {},
     "output_type": "execute_result"
    }
   ],
   "source": [
    "nprophet = NeuralProphet(\n",
    "            yearly_seasonality=False, \n",
    "            weekly_seasonality=True, \n",
    "            daily_seasonality=True,\n",
    "            learning_rate=learning_rate, \n",
    "            changepoints_range=changepoints_range, \n",
    "            n_forecasts=n_forecasts,\n",
    "            ar_sparsity=ar_sparsity, \n",
    "            n_changepoints=n_changepoints, \n",
    "            growth='logistic', \n",
    "            seasonality_mode='multiplicative', \n",
    "            trend_reg=trend_reg,\n",
    "            num_hidden_layers=num_hidden_layers,\n",
    "            seasonality_reg = seasonality_reg\n",
    "        )\n",
    "\n",
    "nprophet.fit(df, plot_live_loss=True, epochs=epochs, freq=freq, validate_each_epoch=True, valid_p=0.1)"
   ]
  },
  {
   "cell_type": "code",
   "execution_count": 134,
   "metadata": {
    "colab": {
     "base_uri": "https://localhost:8080/",
     "height": 437
    },
    "executionInfo": {
     "elapsed": 14,
     "status": "ok",
     "timestamp": 1631668554222,
     "user": {
      "displayName": "Bosang KIM",
      "photoUrl": "https://lh3.googleusercontent.com/a/default-user=s64",
      "userId": "09337160292545321113"
     },
     "user_tz": -540
    },
    "id": "dwL3O35a_DGG",
    "outputId": "8fd46e24-67e1-4821-c632-d65944c6c13c"
   },
   "outputs": [
    {
     "name": "stderr",
     "output_type": "stream",
     "text": [
      "WARNING: nprophet - make_future_dataframe: Insufficient data for 300 historic forecasts, reduced to 247.\n"
     ]
    },
    {
     "data": {
      "text/html": [
       "<div>\n",
       "<style scoped>\n",
       "    .dataframe tbody tr th:only-of-type {\n",
       "        vertical-align: middle;\n",
       "    }\n",
       "\n",
       "    .dataframe tbody tr th {\n",
       "        vertical-align: top;\n",
       "    }\n",
       "\n",
       "    .dataframe thead th {\n",
       "        text-align: right;\n",
       "    }\n",
       "</style>\n",
       "<table border=\"1\" class=\"dataframe\">\n",
       "  <thead>\n",
       "    <tr style=\"text-align: right;\">\n",
       "      <th></th>\n",
       "      <th>ds</th>\n",
       "      <th>y</th>\n",
       "      <th>yhat1</th>\n",
       "      <th>residual1</th>\n",
       "      <th>trend</th>\n",
       "      <th>season_weekly</th>\n",
       "      <th>season_daily</th>\n",
       "    </tr>\n",
       "  </thead>\n",
       "  <tbody>\n",
       "    <tr>\n",
       "      <th>0</th>\n",
       "      <td>2015-12-28</td>\n",
       "      <td>7.964061</td>\n",
       "      <td>8.554035</td>\n",
       "      <td>0.589974</td>\n",
       "      <td>8.554035</td>\n",
       "      <td>-6.368085e-08</td>\n",
       "      <td>-4.740166e-08</td>\n",
       "    </tr>\n",
       "    <tr>\n",
       "      <th>1</th>\n",
       "      <td>2016-01-04</td>\n",
       "      <td>7.894062</td>\n",
       "      <td>8.564285</td>\n",
       "      <td>0.670224</td>\n",
       "      <td>8.564285</td>\n",
       "      <td>-6.368085e-08</td>\n",
       "      <td>-4.740166e-08</td>\n",
       "    </tr>\n",
       "    <tr>\n",
       "      <th>2</th>\n",
       "      <td>2016-01-11</td>\n",
       "      <td>8.536941</td>\n",
       "      <td>8.577854</td>\n",
       "      <td>0.040913</td>\n",
       "      <td>8.577854</td>\n",
       "      <td>-6.368085e-08</td>\n",
       "      <td>-4.740166e-08</td>\n",
       "    </tr>\n",
       "    <tr>\n",
       "      <th>3</th>\n",
       "      <td>2016-01-18</td>\n",
       "      <td>8.760966</td>\n",
       "      <td>8.594734</td>\n",
       "      <td>-0.166232</td>\n",
       "      <td>8.594734</td>\n",
       "      <td>-6.368085e-08</td>\n",
       "      <td>-4.740166e-08</td>\n",
       "    </tr>\n",
       "    <tr>\n",
       "      <th>4</th>\n",
       "      <td>2016-01-25</td>\n",
       "      <td>8.704752</td>\n",
       "      <td>8.614997</td>\n",
       "      <td>-0.089755</td>\n",
       "      <td>8.614997</td>\n",
       "      <td>-6.368085e-08</td>\n",
       "      <td>-4.740166e-08</td>\n",
       "    </tr>\n",
       "    <tr>\n",
       "      <th>...</th>\n",
       "      <td>...</td>\n",
       "      <td>...</td>\n",
       "      <td>...</td>\n",
       "      <td>...</td>\n",
       "      <td>...</td>\n",
       "      <td>...</td>\n",
       "      <td>...</td>\n",
       "    </tr>\n",
       "    <tr>\n",
       "      <th>268</th>\n",
       "      <td>2021-05-31</td>\n",
       "      <td>NaN</td>\n",
       "      <td>9.803288</td>\n",
       "      <td>NaN</td>\n",
       "      <td>9.803289</td>\n",
       "      <td>-6.368085e-08</td>\n",
       "      <td>-4.740166e-08</td>\n",
       "    </tr>\n",
       "    <tr>\n",
       "      <th>269</th>\n",
       "      <td>2021-06-07</td>\n",
       "      <td>NaN</td>\n",
       "      <td>9.807058</td>\n",
       "      <td>NaN</td>\n",
       "      <td>9.807059</td>\n",
       "      <td>-6.368085e-08</td>\n",
       "      <td>-4.740166e-08</td>\n",
       "    </tr>\n",
       "    <tr>\n",
       "      <th>270</th>\n",
       "      <td>2021-06-14</td>\n",
       "      <td>NaN</td>\n",
       "      <td>9.810829</td>\n",
       "      <td>NaN</td>\n",
       "      <td>9.810829</td>\n",
       "      <td>-6.368085e-08</td>\n",
       "      <td>-4.740166e-08</td>\n",
       "    </tr>\n",
       "    <tr>\n",
       "      <th>271</th>\n",
       "      <td>2021-06-21</td>\n",
       "      <td>NaN</td>\n",
       "      <td>9.814598</td>\n",
       "      <td>NaN</td>\n",
       "      <td>9.814599</td>\n",
       "      <td>-6.368085e-08</td>\n",
       "      <td>-4.740166e-08</td>\n",
       "    </tr>\n",
       "    <tr>\n",
       "      <th>272</th>\n",
       "      <td>2021-06-28</td>\n",
       "      <td>NaN</td>\n",
       "      <td>9.818369</td>\n",
       "      <td>NaN</td>\n",
       "      <td>9.818369</td>\n",
       "      <td>-6.368085e-08</td>\n",
       "      <td>-4.740166e-08</td>\n",
       "    </tr>\n",
       "  </tbody>\n",
       "</table>\n",
       "<p>273 rows × 7 columns</p>\n",
       "</div>"
      ],
      "text/plain": [
       "            ds         y     yhat1  ...     trend  season_weekly  season_daily\n",
       "0   2015-12-28  7.964061  8.554035  ...  8.554035  -6.368085e-08 -4.740166e-08\n",
       "1   2016-01-04  7.894062  8.564285  ...  8.564285  -6.368085e-08 -4.740166e-08\n",
       "2   2016-01-11  8.536941  8.577854  ...  8.577854  -6.368085e-08 -4.740166e-08\n",
       "3   2016-01-18  8.760966  8.594734  ...  8.594734  -6.368085e-08 -4.740166e-08\n",
       "4   2016-01-25  8.704752  8.614997  ...  8.614997  -6.368085e-08 -4.740166e-08\n",
       "..         ...       ...       ...  ...       ...            ...           ...\n",
       "268 2021-05-31       NaN  9.803288  ...  9.803289  -6.368085e-08 -4.740166e-08\n",
       "269 2021-06-07       NaN  9.807058  ...  9.807059  -6.368085e-08 -4.740166e-08\n",
       "270 2021-06-14       NaN  9.810829  ...  9.810829  -6.368085e-08 -4.740166e-08\n",
       "271 2021-06-21       NaN  9.814598  ...  9.814599  -6.368085e-08 -4.740166e-08\n",
       "272 2021-06-28       NaN  9.818369  ...  9.818369  -6.368085e-08 -4.740166e-08\n",
       "\n",
       "[273 rows x 7 columns]"
      ]
     },
     "execution_count": 134,
     "metadata": {},
     "output_type": "execute_result"
    }
   ],
   "source": [
    "future = nprophet.make_future_dataframe(df, periods=26, n_historic_predictions=300)\n",
    "forecast = nprophet.predict(future)\n",
    "forecast"
   ]
  },
  {
   "cell_type": "code",
   "execution_count": 135,
   "metadata": {
    "executionInfo": {
     "elapsed": 13,
     "status": "ok",
     "timestamp": 1631668554222,
     "user": {
      "displayName": "Bosang KIM",
      "photoUrl": "https://lh3.googleusercontent.com/a/default-user=s64",
      "userId": "09337160292545321113"
     },
     "user_tz": -540
    },
    "id": "qiXa4Xld_DM1"
   },
   "outputs": [],
   "source": [
    "pred_date = forecast.loc[forecast['ds'] > '2021-01-01', ('ds')].unique()"
   ]
  },
  {
   "cell_type": "code",
   "execution_count": 136,
   "metadata": {
    "executionInfo": {
     "elapsed": 392,
     "status": "ok",
     "timestamp": 1631668554601,
     "user": {
      "displayName": "Bosang KIM",
      "photoUrl": "https://lh3.googleusercontent.com/a/default-user=s64",
      "userId": "09337160292545321113"
     },
     "user_tz": -540
    },
    "id": "BX2feaNk_DT3"
   },
   "outputs": [],
   "source": [
    "a = pd.DataFrame(columns=['ds', 'y', 'yhat1', 'residual1', 'trend', 'season_yearly'])\n",
    "for i in pred_date:\n",
    "  a = a.append(forecast.iloc[forecast.loc[forecast['ds']==i].index])\n",
    "a.reset_index(drop=True, inplace = True)"
   ]
  },
  {
   "cell_type": "code",
   "execution_count": 137,
   "metadata": {
    "colab": {
     "base_uri": "https://localhost:8080/"
    },
    "executionInfo": {
     "elapsed": 2,
     "status": "ok",
     "timestamp": 1631668554602,
     "user": {
      "displayName": "Bosang KIM",
      "photoUrl": "https://lh3.googleusercontent.com/a/default-user=s64",
      "userId": "09337160292545321113"
     },
     "user_tz": -540
    },
    "id": "-DuqkCX5_Joq",
    "outputId": "8d629f2a-b8e5-4f3b-d246-c973fb8ffab3"
   },
   "outputs": [
    {
     "data": {
      "text/plain": [
       "[9.72412109375,\n",
       " 9.727890968322754,\n",
       " 9.731660842895508,\n",
       " 9.735430717468262,\n",
       " 9.739200592041016,\n",
       " 9.74297046661377,\n",
       " 9.746740341186523,\n",
       " 9.750510215759277,\n",
       " 9.754280090332031,\n",
       " 9.758049964904785,\n",
       " 9.761819839477539,\n",
       " 9.765589714050293,\n",
       " 9.769359588623047,\n",
       " 9.7731294631958,\n",
       " 9.776899337768555,\n",
       " 9.780669212341309,\n",
       " 9.784439086914062,\n",
       " 9.788208961486816,\n",
       " 9.79197883605957,\n",
       " 9.795748710632324,\n",
       " 9.799518585205078,\n",
       " 9.803288459777832,\n",
       " 9.807058334350586,\n",
       " 9.810829162597656,\n",
       " 9.814598083496094,\n",
       " 9.818368911743164]"
      ]
     },
     "execution_count": 137,
     "metadata": {},
     "output_type": "execute_result"
    }
   ],
   "source": [
    "# 흰다리새우 최적 가격 예측 \n",
    "predict_score = a['yhat1']\n",
    "predict_score.values.tolist()"
   ]
  },
  {
   "cell_type": "code",
   "execution_count": 138,
   "metadata": {
    "colab": {
     "base_uri": "https://localhost:8080/",
     "height": 855
    },
    "executionInfo": {
     "elapsed": 392,
     "status": "ok",
     "timestamp": 1631668611305,
     "user": {
      "displayName": "Bosang KIM",
      "photoUrl": "https://lh3.googleusercontent.com/a/default-user=s64",
      "userId": "09337160292545321113"
     },
     "user_tz": -540
    },
    "id": "X6nZV49jBTYB",
    "outputId": "40071a1d-2b3a-4c23-b754-2e114014d812"
   },
   "outputs": [
    {
     "data": {
      "text/html": [
       "<div>\n",
       "<style scoped>\n",
       "    .dataframe tbody tr th:only-of-type {\n",
       "        vertical-align: middle;\n",
       "    }\n",
       "\n",
       "    .dataframe tbody tr th {\n",
       "        vertical-align: top;\n",
       "    }\n",
       "\n",
       "    .dataframe thead th {\n",
       "        text-align: right;\n",
       "    }\n",
       "</style>\n",
       "<table border=\"1\" class=\"dataframe\">\n",
       "  <thead>\n",
       "    <tr style=\"text-align: right;\">\n",
       "      <th></th>\n",
       "      <th>ds</th>\n",
       "      <th>yhat1</th>\n",
       "    </tr>\n",
       "  </thead>\n",
       "  <tbody>\n",
       "    <tr>\n",
       "      <th>0</th>\n",
       "      <td>2021-01-04</td>\n",
       "      <td>9.724121</td>\n",
       "    </tr>\n",
       "    <tr>\n",
       "      <th>1</th>\n",
       "      <td>2021-01-11</td>\n",
       "      <td>9.727891</td>\n",
       "    </tr>\n",
       "    <tr>\n",
       "      <th>2</th>\n",
       "      <td>2021-01-18</td>\n",
       "      <td>9.731661</td>\n",
       "    </tr>\n",
       "    <tr>\n",
       "      <th>3</th>\n",
       "      <td>2021-01-25</td>\n",
       "      <td>9.735431</td>\n",
       "    </tr>\n",
       "    <tr>\n",
       "      <th>4</th>\n",
       "      <td>2021-02-01</td>\n",
       "      <td>9.739201</td>\n",
       "    </tr>\n",
       "    <tr>\n",
       "      <th>5</th>\n",
       "      <td>2021-02-08</td>\n",
       "      <td>9.742970</td>\n",
       "    </tr>\n",
       "    <tr>\n",
       "      <th>6</th>\n",
       "      <td>2021-02-15</td>\n",
       "      <td>9.746740</td>\n",
       "    </tr>\n",
       "    <tr>\n",
       "      <th>7</th>\n",
       "      <td>2021-02-22</td>\n",
       "      <td>9.750510</td>\n",
       "    </tr>\n",
       "    <tr>\n",
       "      <th>8</th>\n",
       "      <td>2021-03-01</td>\n",
       "      <td>9.754280</td>\n",
       "    </tr>\n",
       "    <tr>\n",
       "      <th>9</th>\n",
       "      <td>2021-03-08</td>\n",
       "      <td>9.758050</td>\n",
       "    </tr>\n",
       "    <tr>\n",
       "      <th>10</th>\n",
       "      <td>2021-03-15</td>\n",
       "      <td>9.761820</td>\n",
       "    </tr>\n",
       "    <tr>\n",
       "      <th>11</th>\n",
       "      <td>2021-03-22</td>\n",
       "      <td>9.765590</td>\n",
       "    </tr>\n",
       "    <tr>\n",
       "      <th>12</th>\n",
       "      <td>2021-03-29</td>\n",
       "      <td>9.769360</td>\n",
       "    </tr>\n",
       "    <tr>\n",
       "      <th>13</th>\n",
       "      <td>2021-04-05</td>\n",
       "      <td>9.773129</td>\n",
       "    </tr>\n",
       "    <tr>\n",
       "      <th>14</th>\n",
       "      <td>2021-04-12</td>\n",
       "      <td>9.776899</td>\n",
       "    </tr>\n",
       "    <tr>\n",
       "      <th>15</th>\n",
       "      <td>2021-04-19</td>\n",
       "      <td>9.780669</td>\n",
       "    </tr>\n",
       "    <tr>\n",
       "      <th>16</th>\n",
       "      <td>2021-04-26</td>\n",
       "      <td>9.784439</td>\n",
       "    </tr>\n",
       "    <tr>\n",
       "      <th>17</th>\n",
       "      <td>2021-05-03</td>\n",
       "      <td>9.788209</td>\n",
       "    </tr>\n",
       "    <tr>\n",
       "      <th>18</th>\n",
       "      <td>2021-05-10</td>\n",
       "      <td>9.791979</td>\n",
       "    </tr>\n",
       "    <tr>\n",
       "      <th>19</th>\n",
       "      <td>2021-05-17</td>\n",
       "      <td>9.795749</td>\n",
       "    </tr>\n",
       "    <tr>\n",
       "      <th>20</th>\n",
       "      <td>2021-05-24</td>\n",
       "      <td>9.799519</td>\n",
       "    </tr>\n",
       "    <tr>\n",
       "      <th>21</th>\n",
       "      <td>2021-05-31</td>\n",
       "      <td>9.803288</td>\n",
       "    </tr>\n",
       "    <tr>\n",
       "      <th>22</th>\n",
       "      <td>2021-06-07</td>\n",
       "      <td>9.807058</td>\n",
       "    </tr>\n",
       "    <tr>\n",
       "      <th>23</th>\n",
       "      <td>2021-06-14</td>\n",
       "      <td>9.810829</td>\n",
       "    </tr>\n",
       "    <tr>\n",
       "      <th>24</th>\n",
       "      <td>2021-06-21</td>\n",
       "      <td>9.814598</td>\n",
       "    </tr>\n",
       "    <tr>\n",
       "      <th>25</th>\n",
       "      <td>2021-06-28</td>\n",
       "      <td>9.818369</td>\n",
       "    </tr>\n",
       "  </tbody>\n",
       "</table>\n",
       "</div>"
      ],
      "text/plain": [
       "           ds     yhat1\n",
       "0  2021-01-04  9.724121\n",
       "1  2021-01-11  9.727891\n",
       "2  2021-01-18  9.731661\n",
       "3  2021-01-25  9.735431\n",
       "4  2021-02-01  9.739201\n",
       "5  2021-02-08  9.742970\n",
       "6  2021-02-15  9.746740\n",
       "7  2021-02-22  9.750510\n",
       "8  2021-03-01  9.754280\n",
       "9  2021-03-08  9.758050\n",
       "10 2021-03-15  9.761820\n",
       "11 2021-03-22  9.765590\n",
       "12 2021-03-29  9.769360\n",
       "13 2021-04-05  9.773129\n",
       "14 2021-04-12  9.776899\n",
       "15 2021-04-19  9.780669\n",
       "16 2021-04-26  9.784439\n",
       "17 2021-05-03  9.788209\n",
       "18 2021-05-10  9.791979\n",
       "19 2021-05-17  9.795749\n",
       "20 2021-05-24  9.799519\n",
       "21 2021-05-31  9.803288\n",
       "22 2021-06-07  9.807058\n",
       "23 2021-06-14  9.810829\n",
       "24 2021-06-21  9.814598\n",
       "25 2021-06-28  9.818369"
      ]
     },
     "execution_count": 138,
     "metadata": {},
     "output_type": "execute_result"
    }
   ],
   "source": [
    "a[['ds','yhat1']]"
   ]
  },
  {
   "cell_type": "markdown",
   "metadata": {
    "id": "HKiDpZ6hByU9"
   },
   "source": [
    "# 연어 test데이터 예측 "
   ]
  },
  {
   "cell_type": "markdown",
   "metadata": {
    "id": "15OnGnmNCkaU"
   },
   "source": [
    "## 연어 데이터 로드 "
   ]
  },
  {
   "cell_type": "code",
   "execution_count": 139,
   "metadata": {
    "colab": {
     "base_uri": "https://localhost:8080/"
    },
    "executionInfo": {
     "elapsed": 3708,
     "status": "ok",
     "timestamp": 1631669220659,
     "user": {
      "displayName": "Bosang KIM",
      "photoUrl": "https://lh3.googleusercontent.com/a/default-user=s64",
      "userId": "09337160292545321113"
     },
     "user_tz": -540
    },
    "id": "qyTsyFM9EEls",
    "outputId": "da7b9fe3-5e4a-4a49-81d4-3a36bdc295a5"
   },
   "outputs": [
    {
     "name": "stdout",
     "output_type": "stream",
     "text": [
      "수산물 어종을 고르세요 (오징어/흰다리새우/연어)연어\n"
     ]
    }
   ],
   "source": [
    "## 중량 수온 데이터를 합친 dataframe, 품목 별로 불러오기\n",
    "os.chdir('/content/drive/MyDrive/BIGCONTEST/data/real_use')\n",
    "\n",
    "name = input('수산물 어종을 고르세요 (오징어/흰다리새우/연어)')\n",
    "\n",
    "if name == \"오징어\":\n",
    "  data = pd.read_csv(\"./squid_temp1.csv\")\n",
    "  val_df = pd.read_csv(\"./squid_temp2.csv\")\n",
    "elif name == \"흰다리새우\":\n",
    "  data = pd.read_csv(\"./shrimp_temp1.csv\")\n",
    "  val_df = pd.read_csv(\"./shrimp_temp2.csv\")\n",
    "elif name == \"연어\":\n",
    "  data = pd.read_csv(\"./salmon_temp1.csv\")\n",
    "  val_df = pd.read_csv(\"./salmon_temp2.csv\")\n",
    "else:\n",
    "  None"
   ]
  },
  {
   "cell_type": "code",
   "execution_count": 140,
   "metadata": {
    "executionInfo": {
     "elapsed": 384,
     "status": "ok",
     "timestamp": 1631669236451,
     "user": {
      "displayName": "Bosang KIM",
      "photoUrl": "https://lh3.googleusercontent.com/a/default-user=s64",
      "userId": "09337160292545321113"
     },
     "user_tz": -540
    },
    "id": "i1P_PydFEFP6"
   },
   "outputs": [],
   "source": [
    "# train data + validation data 병합 \n",
    "data = pd.concat([data, val_df])"
   ]
  },
  {
   "cell_type": "code",
   "execution_count": 141,
   "metadata": {
    "executionInfo": {
     "elapsed": 370,
     "status": "ok",
     "timestamp": 1631669244093,
     "user": {
      "displayName": "Bosang KIM",
      "photoUrl": "https://lh3.googleusercontent.com/a/default-user=s64",
      "userId": "09337160292545321113"
     },
     "user_tz": -540
    },
    "id": "yRi-osh8EFay"
   },
   "outputs": [],
   "source": [
    "# 품목별 dataframe을 생성하고, 일자별 거래의 갯수를 리스트 형태로 저장\n",
    "def datasetting(data, p_name):\n",
    "\n",
    "  just_p = pd.DataFrame(columns=data.columns.tolist())\n",
    "  len_list = []\n",
    "  for i, day_time in enumerate(list(Counter(data['REG_DATE']).keys())):\n",
    "    day_df = data[data['REG_DATE']==day_time]\n",
    "    just_p = pd.concat([just_p, day_df[day_df['P_NAME']==p_name]])\n",
    "    len_list.append(len(day_df[day_df['P_NAME']==p_name]))\n",
    "\n",
    "  return just_p, len_list"
   ]
  },
  {
   "cell_type": "code",
   "execution_count": 142,
   "metadata": {
    "executionInfo": {
     "elapsed": 543,
     "status": "ok",
     "timestamp": 1631669255003,
     "user": {
      "displayName": "Bosang KIM",
      "photoUrl": "https://lh3.googleusercontent.com/a/default-user=s64",
      "userId": "09337160292545321113"
     },
     "user_tz": -540
    },
    "id": "6cTn0o5rEOso"
   },
   "outputs": [],
   "source": [
    "# import type을 multi-hot encoding 하기 위한 방법\n",
    "def data_encoding(df, type_):\n",
    "  tmp = []\n",
    "  for impo in df[type_]:\n",
    "    types = impo.split(',')\n",
    "    for i in types:\n",
    "      tmp.append(i)\n",
    "  return list(set(tmp))"
   ]
  },
  {
   "cell_type": "code",
   "execution_count": 143,
   "metadata": {
    "executionInfo": {
     "elapsed": 1440,
     "status": "ok",
     "timestamp": 1631669273432,
     "user": {
      "displayName": "Bosang KIM",
      "photoUrl": "https://lh3.googleusercontent.com/a/default-user=s64",
      "userId": "09337160292545321113"
     },
     "user_tz": -540
    },
    "id": "li1jju9eEO1Q"
   },
   "outputs": [],
   "source": [
    "train, t_len = datasetting(data, name)\n",
    "#validation, v_len = datasetting(val_df, name)"
   ]
  },
  {
   "cell_type": "code",
   "execution_count": 144,
   "metadata": {
    "executionInfo": {
     "elapsed": 370,
     "status": "ok",
     "timestamp": 1631669294049,
     "user": {
      "displayName": "Bosang KIM",
      "photoUrl": "https://lh3.googleusercontent.com/a/default-user=s64",
      "userId": "09337160292545321113"
     },
     "user_tz": -540
    },
    "id": "Xa2FkcN3EO8T"
   },
   "outputs": [],
   "source": [
    "## 제조국과 수출국에 대하여 multi-hot encoding을 진행하기위해서 모든 나라를 리스트형태로 저장\n",
    "ctry_1 = set(list(set(train['CTRY_1']))+list(set(train['CTRY_2'])))\n",
    "#ctry_2 = set(list(set(validation['CTRY_1']))+list(set(validation['CTRY_2'])))\n",
    "con = list(ctry_1)\n",
    "ctry_list = list(set(con))"
   ]
  },
  {
   "cell_type": "code",
   "execution_count": 145,
   "metadata": {
    "executionInfo": {
     "elapsed": 521,
     "status": "ok",
     "timestamp": 1631669311211,
     "user": {
      "displayName": "Bosang KIM",
      "photoUrl": "https://lh3.googleusercontent.com/a/default-user=s64",
      "userId": "09337160292545321113"
     },
     "user_tz": -540
    },
    "id": "Qo5ooND3EZiL"
   },
   "outputs": [],
   "source": [
    "## 명목형 변수는 dummy 처리해서 multi-hot 형태로 할당하고, 수치형 변수는 스케일링 작업 진행\n",
    "\n",
    "def data_frame(trains, ctry_list):\n",
    "\n",
    "  p_type = \"P_IMPORT_TYPE\"\n",
    "  import_type = data_encoding(train, p_type)\n",
    "\n",
    "  con = ctry_list\n",
    "  con.sort()\n",
    "  col_con = [f\"country_{co}\" for co in con]\n",
    "  col_imp = [f\"import_{im}\" for im in import_type]\n",
    "  cols = col_con + col_imp + ['weight', 'temp', 'price']\n",
    "  # print(cols)\n",
    "  x_train = pd.DataFrame(columns=cols)\n",
    "  tmp = []\n",
    "  for i in range(len(cols)-1):\n",
    "    tmp.append([])\n",
    "  len_a = len(col_con)\n",
    "  len_b = len(col_imp)\n",
    "  for c1, c2, p in zip(trains['CTRY_1'], trains['CTRY_2'], trains['P_IMPORT_TYPE']):\n",
    "    i = con.index(c1)\n",
    "    j = con.index(c2)\n",
    "    country = np.eye(len_a)[i] + np.eye(len_a)[j] ## 제조국 + 수출국 정보 결합\n",
    "\n",
    "    p_import = np.zeros(len_b)\n",
    "    for ty in p.split(','):\n",
    "      j = import_type.index(ty)\n",
    "      p_import += np.eye(len(p_import))[j] ## import type 정보 결합\n",
    "\n",
    "    row = np.concatenate([country, p_import])\n",
    "\n",
    "    for i, r in enumerate(row):\n",
    "      tmp[i].append(r)\n",
    "\n",
    "  for i, c in enumerate(cols[:-3]): ## 중량, 수온, 가격 이외의 것들만 고려\n",
    "    x_train[c] = tmp[i]\n",
    "\n",
    "  ## 중량과 수온 데이터 스케일링\n",
    "  w = trains['WEIGHT(KG)'].tolist()\n",
    "  w = np.array(w).reshape(-1,1)\n",
    "  t = trains['temp'].tolist()\n",
    "  t = np.array(t).reshape(-1,1)\n",
    "\n",
    "  scaler = MinMaxScaler()\n",
    "  scaler.fit(w)\n",
    "  t_data = scaler.transform(w)\n",
    "\n",
    "  wscaler = MinMaxScaler()\n",
    "  wscaler.fit(t)\n",
    "  w_data = wscaler.transform(t)\n",
    "\n",
    "  x_train['weight'] =  t_data\n",
    "  x_train['temp'] = w_data\n",
    "  x_train['price'] = trains['P_PRICE'].tolist()\n",
    "\n",
    "  return x_train"
   ]
  },
  {
   "cell_type": "code",
   "execution_count": 146,
   "metadata": {
    "executionInfo": {
     "elapsed": 473,
     "status": "ok",
     "timestamp": 1631669324157,
     "user": {
      "displayName": "Bosang KIM",
      "photoUrl": "https://lh3.googleusercontent.com/a/default-user=s64",
      "userId": "09337160292545321113"
     },
     "user_tz": -540
    },
    "id": "kFLxKjfOEZq1"
   },
   "outputs": [],
   "source": [
    "x_train = data_frame(train, ctry_list)"
   ]
  },
  {
   "cell_type": "markdown",
   "metadata": {
    "id": "kXS3dpZFCoJK"
   },
   "source": [
    "## 데이터 분리"
   ]
  },
  {
   "cell_type": "code",
   "execution_count": 147,
   "metadata": {
    "executionInfo": {
     "elapsed": 367,
     "status": "ok",
     "timestamp": 1631669343708,
     "user": {
      "displayName": "Bosang KIM",
      "photoUrl": "https://lh3.googleusercontent.com/a/default-user=s64",
      "userId": "09337160292545321113"
     },
     "user_tz": -540
    },
    "id": "J2D-e5CGEgwF"
   },
   "outputs": [],
   "source": [
    "X_train = np.array(x_train.iloc[:,:-1])\n",
    "Y_train = np.array(x_train.iloc[:,-1])\n",
    "Y_train = Y_train.reshape(-1)"
   ]
  },
  {
   "cell_type": "code",
   "execution_count": 148,
   "metadata": {
    "colab": {
     "base_uri": "https://localhost:8080/"
    },
    "executionInfo": {
     "elapsed": 4,
     "status": "ok",
     "timestamp": 1631669344772,
     "user": {
      "displayName": "Bosang KIM",
      "photoUrl": "https://lh3.googleusercontent.com/a/default-user=s64",
      "userId": "09337160292545321113"
     },
     "user_tz": -540
    },
    "id": "Z4sWOtJWEhKQ",
    "outputId": "63b1108c-d2f7-4739-f7c0-e01c8997a66d"
   },
   "outputs": [
    {
     "data": {
      "text/plain": [
       "((664, 14), (664,))"
      ]
     },
     "execution_count": 148,
     "metadata": {},
     "output_type": "execute_result"
    }
   ],
   "source": [
    "X_train.shape, Y_train.shape"
   ]
  },
  {
   "cell_type": "code",
   "execution_count": 149,
   "metadata": {
    "executionInfo": {
     "elapsed": 548,
     "status": "ok",
     "timestamp": 1631669351654,
     "user": {
      "displayName": "Bosang KIM",
      "photoUrl": "https://lh3.googleusercontent.com/a/default-user=s64",
      "userId": "09337160292545321113"
     },
     "user_tz": -540
    },
    "id": "qAjFShoKEhR7"
   },
   "outputs": [],
   "source": [
    "num_heads=8; head_size=32; ff_dim=None; dropout=0\n",
    "multi = MultiHeadAttention(num_heads=num_heads, head_size=head_size, dropout=dropout)"
   ]
  },
  {
   "cell_type": "code",
   "execution_count": 150,
   "metadata": {
    "executionInfo": {
     "elapsed": 375,
     "status": "ok",
     "timestamp": 1631669367681,
     "user": {
      "displayName": "Bosang KIM",
      "photoUrl": "https://lh3.googleusercontent.com/a/default-user=s64",
      "userId": "09337160292545321113"
     },
     "user_tz": -540
    },
    "id": "I5SOrmoDEhZm"
   },
   "outputs": [],
   "source": [
    "## Attention을 계산하는 모듈 생성\n",
    "\n",
    "class AttentionBlock(keras.Model):\n",
    "    def __init__(self, name='AttentionBlock', num_heads=2, head_size=128, ff_dim=None, dropout=0.2, **kwargs):\n",
    "        super().__init__(name=name, **kwargs)\n",
    "\n",
    "        if ff_dim is None:\n",
    "            ff_dim = head_size\n",
    "\n",
    "        self.attention = MultiHeadAttention(num_heads=num_heads, head_size=head_size, dropout=dropout)\n",
    "        self.attention_dropout = keras.layers.Dropout(dropout)\n",
    "        self.attention_norm = keras.layers.LayerNormalization(epsilon=1e-6)\n",
    "\n",
    "        self.ff_conv1 = keras.layers.Conv1D(filters=ff_dim, kernel_size=1, activation='relu')\n",
    "        self.flatten = keras.layers.Flatten()\n",
    "        self.dense1 = keras.layers.Dense(64, activation='relu')\n",
    "        self.dense2 = keras.layers.Dense(1)\n",
    "        self.ff_dropout = keras.layers.Dropout(dropout)\n",
    "        self.ff_norm = keras.layers.LayerNormalization(epsilon=1e-6)\n",
    "\n",
    "    def build(self, input_shape):\n",
    "        self.ff_conv2 = keras.layers.Conv1D(filters=input_shape[-1], kernel_size=1) \n",
    "\n",
    "    def call(self, inputs):\n",
    "        x = self.attention([inputs, inputs])\n",
    "        x = self.attention_dropout(x)\n",
    "        x = self.attention_norm(inputs + x)\n",
    "        \n",
    "        return x"
   ]
  },
  {
   "cell_type": "code",
   "execution_count": 151,
   "metadata": {
    "executionInfo": {
     "elapsed": 521,
     "status": "ok",
     "timestamp": 1631669382514,
     "user": {
      "displayName": "Bosang KIM",
      "photoUrl": "https://lh3.googleusercontent.com/a/default-user=s64",
      "userId": "09337160292545321113"
     },
     "user_tz": -540
    },
    "id": "PTjpG_afEsZb"
   },
   "outputs": [],
   "source": [
    "## Attention을 여러번 계산하고 마치막 출력으로 Fully_connected layer를 통해 차원 축소\n",
    "\n",
    "class ModelTrunk(keras.Model):\n",
    "    def __init__(self, name='ModelTrunk', num_heads=2, head_size=128, ff_dim=None, num_layers=10, dropout=0, **kwargs):\n",
    "      super().__init__(name=name, **kwargs)\n",
    "      if ff_dim is None:\n",
    "          ff_dim = head_size\n",
    "      self.dropout = dropout\n",
    "      self.attention_layers = [AttentionBlock(num_heads=num_heads, head_size=head_size, ff_dim=ff_dim, dropout=dropout) for _ in range(num_layers)]\n",
    "      self.dense2 = keras.layers.Dense(1, kernel_initializer='he_normal')\n",
    "\n",
    "    def call(self, inputs):\n",
    "      x = inputs\n",
    "      for attention_layer in self.attention_layers:\n",
    "          x = attention_layer(x)\n",
    "      x = self.dense2(x)\n",
    "      return x"
   ]
  },
  {
   "cell_type": "code",
   "execution_count": 152,
   "metadata": {
    "executionInfo": {
     "elapsed": 349,
     "status": "ok",
     "timestamp": 1631669392398,
     "user": {
      "displayName": "Bosang KIM",
      "photoUrl": "https://lh3.googleusercontent.com/a/default-user=s64",
      "userId": "09337160292545321113"
     },
     "user_tz": -540
    },
    "id": "m-wtJmXFErsX"
   },
   "outputs": [],
   "source": [
    "# Attention 계산 및 FC layer 차원축소 \n",
    "attention_layers = ModelTrunk()"
   ]
  },
  {
   "cell_type": "code",
   "execution_count": 153,
   "metadata": {
    "executionInfo": {
     "elapsed": 568,
     "status": "ok",
     "timestamp": 1631669408659,
     "user": {
      "displayName": "Bosang KIM",
      "photoUrl": "https://lh3.googleusercontent.com/a/default-user=s64",
      "userId": "09337160292545321113"
     },
     "user_tz": -540
    },
    "id": "VhwvtGuMErfW"
   },
   "outputs": [],
   "source": [
    "# 소프트맥스 함수 \n",
    "def softmax(x):\n",
    "    e_x = np.exp(x - np.max(x))\n",
    "    return e_x / e_x.sum()"
   ]
  },
  {
   "cell_type": "code",
   "execution_count": 154,
   "metadata": {
    "executionInfo": {
     "elapsed": 2,
     "status": "ok",
     "timestamp": 1631669419530,
     "user": {
      "displayName": "Bosang KIM",
      "photoUrl": "https://lh3.googleusercontent.com/a/default-user=s64",
      "userId": "09337160292545321113"
     },
     "user_tz": -540
    },
    "id": "kTgohB3OExY4"
   },
   "outputs": [],
   "source": [
    "# Attention - FC layer 를 통한 가중치 리스트와 가격 리스트 생성\n",
    "def make_weight(x, y,length):\n",
    "    # 날짜별로 attention score 담을 list\n",
    "    weight_score = []\n",
    "    # 날짜별로 p_price 담을 list\n",
    "    p_price = []\n",
    "    final_weight = []\n",
    "\n",
    "    before = 0\n",
    "    for leng in length:\n",
    "      if leng==0:\n",
    "        weight_score.append([[0]])\n",
    "        p_price.append([[0]])\n",
    "      else:\n",
    "        a = np.array(x[before:before+leng])\n",
    "        b = np.array(y[before:before+leng]).tolist()\n",
    "        arr = attention_layers(a)\n",
    "        weight_score.append(np.array(softmax(arr)).tolist()) ## attention score를 softmax 함수를 이용해서 정규화\n",
    "        p_price.append(b)\n",
    "        before += leng\n",
    "\n",
    "    for w in weight_score:\n",
    "        aa = sum(w, [])\n",
    "        final_weight.append(aa)\n",
    "\n",
    "    return final_weight,p_price"
   ]
  },
  {
   "cell_type": "code",
   "execution_count": 155,
   "metadata": {
    "executionInfo": {
     "elapsed": 9577,
     "status": "ok",
     "timestamp": 1631669437634,
     "user": {
      "displayName": "Bosang KIM",
      "photoUrl": "https://lh3.googleusercontent.com/a/default-user=s64",
      "userId": "09337160292545321113"
     },
     "user_tz": -540
    },
    "id": "iij8qt6uExg9"
   },
   "outputs": [],
   "source": [
    "train_weight, train_price = make_weight(X_train, Y_train, t_len)"
   ]
  },
  {
   "cell_type": "code",
   "execution_count": 156,
   "metadata": {
    "executionInfo": {
     "elapsed": 531,
     "status": "ok",
     "timestamp": 1631669447240,
     "user": {
      "displayName": "Bosang KIM",
      "photoUrl": "https://lh3.googleusercontent.com/a/default-user=s64",
      "userId": "09337160292545321113"
     },
     "user_tz": -540
    },
    "id": "FVkr63yUE7GF"
   },
   "outputs": [],
   "source": [
    "# 가중치를 이용한 새로운 가격 변수 생성\n",
    "def make_new_price(weight_list, price_list):\n",
    "    new_price = []\n",
    "    new_price_m = 0\n",
    "    new_price_s = 0\n",
    "\n",
    "    for i in range(len(weight_list)):\n",
    "        if weight_list[i]==[0]:\n",
    "            new_price.append(0)\n",
    "        else:\n",
    "            for j in range(len(weight_list[i])):\n",
    "                new_price_m += (weight_list[i][j] * price_list[i][j])\n",
    "                new_price_s += weight_list[i][j]\n",
    "            new_price_sum = new_price_m / new_price_s\n",
    "            new_price.append(new_price_sum)\n",
    "    return new_price"
   ]
  },
  {
   "cell_type": "code",
   "execution_count": 157,
   "metadata": {
    "executionInfo": {
     "elapsed": 364,
     "status": "ok",
     "timestamp": 1631669456979,
     "user": {
      "displayName": "Bosang KIM",
      "photoUrl": "https://lh3.googleusercontent.com/a/default-user=s64",
      "userId": "09337160292545321113"
     },
     "user_tz": -540
    },
    "id": "HRJbyWJ0E6YJ"
   },
   "outputs": [],
   "source": [
    "# attention score의 가중치를 적용한 가중평균 \n",
    "train_price = make_new_price(train_weight, train_price)"
   ]
  },
  {
   "cell_type": "code",
   "execution_count": 158,
   "metadata": {
    "executionInfo": {
     "elapsed": 476,
     "status": "ok",
     "timestamp": 1631669469060,
     "user": {
      "displayName": "Bosang KIM",
      "photoUrl": "https://lh3.googleusercontent.com/a/default-user=s64",
      "userId": "09337160292545321113"
     },
     "user_tz": -540
    },
    "id": "HZaAaz9RE6Mb"
   },
   "outputs": [],
   "source": [
    "trn_lst = np.array([item for item in train_price if item > 0])"
   ]
  },
  {
   "cell_type": "code",
   "execution_count": 159,
   "metadata": {
    "executionInfo": {
     "elapsed": 369,
     "status": "ok",
     "timestamp": 1631669483666,
     "user": {
      "displayName": "Bosang KIM",
      "photoUrl": "https://lh3.googleusercontent.com/a/default-user=s64",
      "userId": "09337160292545321113"
     },
     "user_tz": -540
    },
    "id": "0pi0GeRiFD-e"
   },
   "outputs": [],
   "source": [
    "train['REG_DATE'] = pd.to_datetime(train['REG_DATE'])"
   ]
  },
  {
   "cell_type": "code",
   "execution_count": 160,
   "metadata": {
    "executionInfo": {
     "elapsed": 523,
     "status": "ok",
     "timestamp": 1631669493725,
     "user": {
      "displayName": "Bosang KIM",
      "photoUrl": "https://lh3.googleusercontent.com/a/default-user=s64",
      "userId": "09337160292545321113"
     },
     "user_tz": -540
    },
    "id": "nz90AEqUFDyk"
   },
   "outputs": [],
   "source": [
    "# 가중평균한 최종 가격 배열로 만들기 \n",
    "ts_train = np.array(train_price)"
   ]
  },
  {
   "cell_type": "markdown",
   "metadata": {
    "id": "deAQoY7kCo6t"
   },
   "source": [
    "## RMSE 함수(평가지표)"
   ]
  },
  {
   "cell_type": "code",
   "execution_count": 161,
   "metadata": {
    "executionInfo": {
     "elapsed": 646,
     "status": "ok",
     "timestamp": 1631669506245,
     "user": {
      "displayName": "Bosang KIM",
      "photoUrl": "https://lh3.googleusercontent.com/a/default-user=s64",
      "userId": "09337160292545321113"
     },
     "user_tz": -540
    },
    "id": "Nl2t9xc3CpD7"
   },
   "outputs": [],
   "source": [
    "def rmse(y: List, yhat:List)->float:\n",
    "  # y값의 갯수\n",
    "  n = len(y)\n",
    "  mse = 0\n",
    "  for i in range(n):\n",
    "    # 실제값에서 예측값 뺀것의 제곱\n",
    "    mse += (y[i] - yhat[i])**2\n",
    "  rmse = (mse/n)**0.5\n",
    "  return rmse"
   ]
  },
  {
   "cell_type": "markdown",
   "metadata": {
    "id": "2BL--43ZCpKr"
   },
   "source": [
    "## Facebook Prophet "
   ]
  },
  {
   "cell_type": "code",
   "execution_count": 162,
   "metadata": {
    "executionInfo": {
     "elapsed": 485,
     "status": "ok",
     "timestamp": 1631669552467,
     "user": {
      "displayName": "Bosang KIM",
      "photoUrl": "https://lh3.googleusercontent.com/a/default-user=s64",
      "userId": "09337160292545321113"
     },
     "user_tz": -540
    },
    "id": "yT_4ercFCpRN"
   },
   "outputs": [],
   "source": [
    "# hyperparameter \n",
    "freq = 'W-MON' # 시작일이 월요일이면서, 일주일 간격 \n"
   ]
  },
  {
   "cell_type": "code",
   "execution_count": 163,
   "metadata": {
    "colab": {
     "base_uri": "https://localhost:8080/"
    },
    "executionInfo": {
     "elapsed": 3,
     "status": "ok",
     "timestamp": 1631669553026,
     "user": {
      "displayName": "Bosang KIM",
      "photoUrl": "https://lh3.googleusercontent.com/a/default-user=s64",
      "userId": "09337160292545321113"
     },
     "user_tz": -540
    },
    "id": "y8fbf1asCpXW",
    "outputId": "b81c0b71-d81d-4ba4-f57b-f0a69ddc5d7a"
   },
   "outputs": [
    {
     "name": "stdout",
     "output_type": "stream",
     "text": [
      "(247, 2)\n"
     ]
    }
   ],
   "source": [
    "## 모델 피팅하기 위해서 dataframe 형태 수정\n",
    "df = pd.DataFrame(columns=['ds', 'y'])\n",
    "df['ds'] = train['REG_DATE'].unique()\n",
    "df['y'] = ts_train\n",
    "print(df.shape)"
   ]
  },
  {
   "cell_type": "code",
   "execution_count": 189,
   "metadata": {
    "executionInfo": {
     "elapsed": 547,
     "status": "ok",
     "timestamp": 1631672513550,
     "user": {
      "displayName": "Bosang KIM",
      "photoUrl": "https://lh3.googleusercontent.com/a/default-user=s64",
      "userId": "09337160292545321113"
     },
     "user_tz": -540
    },
    "id": "tf8Ng86BFYMK"
   },
   "outputs": [],
   "source": [
    "# Facebook Prophet 모델 개체 생성 \n",
    "m = Prophet(changepoint_prior_scale = 0.03)"
   ]
  },
  {
   "cell_type": "code",
   "execution_count": 190,
   "metadata": {
    "colab": {
     "base_uri": "https://localhost:8080/"
    },
    "executionInfo": {
     "elapsed": 5,
     "status": "ok",
     "timestamp": 1631672515355,
     "user": {
      "displayName": "Bosang KIM",
      "photoUrl": "https://lh3.googleusercontent.com/a/default-user=s64",
      "userId": "09337160292545321113"
     },
     "user_tz": -540
    },
    "id": "D-6KAmWDHfiR",
    "outputId": "5f643a8a-f231-49a7-f993-4de1ca9d2a3a"
   },
   "outputs": [
    {
     "name": "stderr",
     "output_type": "stream",
     "text": [
      "INFO:prophet:Disabling weekly seasonality. Run prophet with weekly_seasonality=True to override this.\n",
      "INFO:prophet:Disabling daily seasonality. Run prophet with daily_seasonality=True to override this.\n"
     ]
    },
    {
     "data": {
      "text/plain": [
       "<prophet.forecaster.Prophet at 0x7effab40e5d0>"
      ]
     },
     "execution_count": 190,
     "metadata": {},
     "output_type": "execute_result"
    }
   ],
   "source": [
    "m.fit(df)"
   ]
  },
  {
   "cell_type": "code",
   "execution_count": 191,
   "metadata": {
    "executionInfo": {
     "elapsed": 2616,
     "status": "ok",
     "timestamp": 1631672519698,
     "user": {
      "displayName": "Bosang KIM",
      "photoUrl": "https://lh3.googleusercontent.com/a/default-user=s64",
      "userId": "09337160292545321113"
     },
     "user_tz": -540
    },
    "id": "zmAaMYBeHpJg"
   },
   "outputs": [],
   "source": [
    "future = m.make_future_dataframe(periods=26, freq='W-MON')\n",
    "forecast = m.predict(future)  "
   ]
  },
  {
   "cell_type": "code",
   "execution_count": 192,
   "metadata": {
    "colab": {
     "base_uri": "https://localhost:8080/",
     "height": 609
    },
    "executionInfo": {
     "elapsed": 4,
     "status": "ok",
     "timestamp": 1631672519700,
     "user": {
      "displayName": "Bosang KIM",
      "photoUrl": "https://lh3.googleusercontent.com/a/default-user=s64",
      "userId": "09337160292545321113"
     },
     "user_tz": -540
    },
    "id": "rwj8pkMlIr6d",
    "outputId": "01c0e2a5-725c-4c53-b139-7bb86f1618fd"
   },
   "outputs": [
    {
     "data": {
      "text/html": [
       "<div>\n",
       "<style scoped>\n",
       "    .dataframe tbody tr th:only-of-type {\n",
       "        vertical-align: middle;\n",
       "    }\n",
       "\n",
       "    .dataframe tbody tr th {\n",
       "        vertical-align: top;\n",
       "    }\n",
       "\n",
       "    .dataframe thead th {\n",
       "        text-align: right;\n",
       "    }\n",
       "</style>\n",
       "<table border=\"1\" class=\"dataframe\">\n",
       "  <thead>\n",
       "    <tr style=\"text-align: right;\">\n",
       "      <th></th>\n",
       "      <th>ds</th>\n",
       "      <th>trend</th>\n",
       "      <th>yhat_lower</th>\n",
       "      <th>yhat_upper</th>\n",
       "      <th>trend_lower</th>\n",
       "      <th>trend_upper</th>\n",
       "      <th>additive_terms</th>\n",
       "      <th>additive_terms_lower</th>\n",
       "      <th>additive_terms_upper</th>\n",
       "      <th>yearly</th>\n",
       "      <th>yearly_lower</th>\n",
       "      <th>yearly_upper</th>\n",
       "      <th>multiplicative_terms</th>\n",
       "      <th>multiplicative_terms_lower</th>\n",
       "      <th>multiplicative_terms_upper</th>\n",
       "      <th>yhat</th>\n",
       "    </tr>\n",
       "  </thead>\n",
       "  <tbody>\n",
       "    <tr>\n",
       "      <th>0</th>\n",
       "      <td>2015-12-28</td>\n",
       "      <td>8.884821</td>\n",
       "      <td>8.808741</td>\n",
       "      <td>8.897760</td>\n",
       "      <td>8.884821</td>\n",
       "      <td>8.884821</td>\n",
       "      <td>-0.032163</td>\n",
       "      <td>-0.032163</td>\n",
       "      <td>-0.032163</td>\n",
       "      <td>-0.032163</td>\n",
       "      <td>-0.032163</td>\n",
       "      <td>-0.032163</td>\n",
       "      <td>0.0</td>\n",
       "      <td>0.0</td>\n",
       "      <td>0.0</td>\n",
       "      <td>8.852658</td>\n",
       "    </tr>\n",
       "    <tr>\n",
       "      <th>1</th>\n",
       "      <td>2016-01-04</td>\n",
       "      <td>8.926507</td>\n",
       "      <td>8.878749</td>\n",
       "      <td>8.966664</td>\n",
       "      <td>8.926507</td>\n",
       "      <td>8.926507</td>\n",
       "      <td>-0.005367</td>\n",
       "      <td>-0.005367</td>\n",
       "      <td>-0.005367</td>\n",
       "      <td>-0.005367</td>\n",
       "      <td>-0.005367</td>\n",
       "      <td>-0.005367</td>\n",
       "      <td>0.0</td>\n",
       "      <td>0.0</td>\n",
       "      <td>0.0</td>\n",
       "      <td>8.921140</td>\n",
       "    </tr>\n",
       "    <tr>\n",
       "      <th>2</th>\n",
       "      <td>2016-01-11</td>\n",
       "      <td>8.968192</td>\n",
       "      <td>8.929697</td>\n",
       "      <td>9.018769</td>\n",
       "      <td>8.968192</td>\n",
       "      <td>8.968192</td>\n",
       "      <td>0.008530</td>\n",
       "      <td>0.008530</td>\n",
       "      <td>0.008530</td>\n",
       "      <td>0.008530</td>\n",
       "      <td>0.008530</td>\n",
       "      <td>0.008530</td>\n",
       "      <td>0.0</td>\n",
       "      <td>0.0</td>\n",
       "      <td>0.0</td>\n",
       "      <td>8.976722</td>\n",
       "    </tr>\n",
       "    <tr>\n",
       "      <th>3</th>\n",
       "      <td>2016-01-18</td>\n",
       "      <td>9.009877</td>\n",
       "      <td>8.968021</td>\n",
       "      <td>9.056468</td>\n",
       "      <td>9.009877</td>\n",
       "      <td>9.009877</td>\n",
       "      <td>0.004081</td>\n",
       "      <td>0.004081</td>\n",
       "      <td>0.004081</td>\n",
       "      <td>0.004081</td>\n",
       "      <td>0.004081</td>\n",
       "      <td>0.004081</td>\n",
       "      <td>0.0</td>\n",
       "      <td>0.0</td>\n",
       "      <td>0.0</td>\n",
       "      <td>9.013958</td>\n",
       "    </tr>\n",
       "    <tr>\n",
       "      <th>4</th>\n",
       "      <td>2016-01-25</td>\n",
       "      <td>9.051563</td>\n",
       "      <td>8.996491</td>\n",
       "      <td>9.085314</td>\n",
       "      <td>9.051563</td>\n",
       "      <td>9.051563</td>\n",
       "      <td>-0.011131</td>\n",
       "      <td>-0.011131</td>\n",
       "      <td>-0.011131</td>\n",
       "      <td>-0.011131</td>\n",
       "      <td>-0.011131</td>\n",
       "      <td>-0.011131</td>\n",
       "      <td>0.0</td>\n",
       "      <td>0.0</td>\n",
       "      <td>0.0</td>\n",
       "      <td>9.040431</td>\n",
       "    </tr>\n",
       "    <tr>\n",
       "      <th>...</th>\n",
       "      <td>...</td>\n",
       "      <td>...</td>\n",
       "      <td>...</td>\n",
       "      <td>...</td>\n",
       "      <td>...</td>\n",
       "      <td>...</td>\n",
       "      <td>...</td>\n",
       "      <td>...</td>\n",
       "      <td>...</td>\n",
       "      <td>...</td>\n",
       "      <td>...</td>\n",
       "      <td>...</td>\n",
       "      <td>...</td>\n",
       "      <td>...</td>\n",
       "      <td>...</td>\n",
       "      <td>...</td>\n",
       "    </tr>\n",
       "    <tr>\n",
       "      <th>268</th>\n",
       "      <td>2021-05-31</td>\n",
       "      <td>9.758787</td>\n",
       "      <td>9.662026</td>\n",
       "      <td>9.901588</td>\n",
       "      <td>9.637370</td>\n",
       "      <td>9.852819</td>\n",
       "      <td>0.031928</td>\n",
       "      <td>0.031928</td>\n",
       "      <td>0.031928</td>\n",
       "      <td>0.031928</td>\n",
       "      <td>0.031928</td>\n",
       "      <td>0.031928</td>\n",
       "      <td>0.0</td>\n",
       "      <td>0.0</td>\n",
       "      <td>0.0</td>\n",
       "      <td>9.790715</td>\n",
       "    </tr>\n",
       "    <tr>\n",
       "      <th>269</th>\n",
       "      <td>2021-06-07</td>\n",
       "      <td>9.755382</td>\n",
       "      <td>9.659235</td>\n",
       "      <td>9.906799</td>\n",
       "      <td>9.625121</td>\n",
       "      <td>9.856733</td>\n",
       "      <td>0.035666</td>\n",
       "      <td>0.035666</td>\n",
       "      <td>0.035666</td>\n",
       "      <td>0.035666</td>\n",
       "      <td>0.035666</td>\n",
       "      <td>0.035666</td>\n",
       "      <td>0.0</td>\n",
       "      <td>0.0</td>\n",
       "      <td>0.0</td>\n",
       "      <td>9.791048</td>\n",
       "    </tr>\n",
       "    <tr>\n",
       "      <th>270</th>\n",
       "      <td>2021-06-14</td>\n",
       "      <td>9.751978</td>\n",
       "      <td>9.642607</td>\n",
       "      <td>9.900950</td>\n",
       "      <td>9.613469</td>\n",
       "      <td>9.861987</td>\n",
       "      <td>0.037580</td>\n",
       "      <td>0.037580</td>\n",
       "      <td>0.037580</td>\n",
       "      <td>0.037580</td>\n",
       "      <td>0.037580</td>\n",
       "      <td>0.037580</td>\n",
       "      <td>0.0</td>\n",
       "      <td>0.0</td>\n",
       "      <td>0.0</td>\n",
       "      <td>9.789558</td>\n",
       "    </tr>\n",
       "    <tr>\n",
       "      <th>271</th>\n",
       "      <td>2021-06-21</td>\n",
       "      <td>9.748573</td>\n",
       "      <td>9.631830</td>\n",
       "      <td>9.919775</td>\n",
       "      <td>9.602977</td>\n",
       "      <td>9.865670</td>\n",
       "      <td>0.037150</td>\n",
       "      <td>0.037150</td>\n",
       "      <td>0.037150</td>\n",
       "      <td>0.037150</td>\n",
       "      <td>0.037150</td>\n",
       "      <td>0.037150</td>\n",
       "      <td>0.0</td>\n",
       "      <td>0.0</td>\n",
       "      <td>0.0</td>\n",
       "      <td>9.785723</td>\n",
       "    </tr>\n",
       "    <tr>\n",
       "      <th>272</th>\n",
       "      <td>2021-06-28</td>\n",
       "      <td>9.745168</td>\n",
       "      <td>9.613206</td>\n",
       "      <td>9.912484</td>\n",
       "      <td>9.591627</td>\n",
       "      <td>9.869802</td>\n",
       "      <td>0.035070</td>\n",
       "      <td>0.035070</td>\n",
       "      <td>0.035070</td>\n",
       "      <td>0.035070</td>\n",
       "      <td>0.035070</td>\n",
       "      <td>0.035070</td>\n",
       "      <td>0.0</td>\n",
       "      <td>0.0</td>\n",
       "      <td>0.0</td>\n",
       "      <td>9.780239</td>\n",
       "    </tr>\n",
       "  </tbody>\n",
       "</table>\n",
       "<p>273 rows × 16 columns</p>\n",
       "</div>"
      ],
      "text/plain": [
       "            ds     trend  ...  multiplicative_terms_upper      yhat\n",
       "0   2015-12-28  8.884821  ...                         0.0  8.852658\n",
       "1   2016-01-04  8.926507  ...                         0.0  8.921140\n",
       "2   2016-01-11  8.968192  ...                         0.0  8.976722\n",
       "3   2016-01-18  9.009877  ...                         0.0  9.013958\n",
       "4   2016-01-25  9.051563  ...                         0.0  9.040431\n",
       "..         ...       ...  ...                         ...       ...\n",
       "268 2021-05-31  9.758787  ...                         0.0  9.790715\n",
       "269 2021-06-07  9.755382  ...                         0.0  9.791048\n",
       "270 2021-06-14  9.751978  ...                         0.0  9.789558\n",
       "271 2021-06-21  9.748573  ...                         0.0  9.785723\n",
       "272 2021-06-28  9.745168  ...                         0.0  9.780239\n",
       "\n",
       "[273 rows x 16 columns]"
      ]
     },
     "execution_count": 192,
     "metadata": {},
     "output_type": "execute_result"
    }
   ],
   "source": [
    "forecast"
   ]
  },
  {
   "cell_type": "code",
   "execution_count": 193,
   "metadata": {
    "executionInfo": {
     "elapsed": 394,
     "status": "ok",
     "timestamp": 1631672523530,
     "user": {
      "displayName": "Bosang KIM",
      "photoUrl": "https://lh3.googleusercontent.com/a/default-user=s64",
      "userId": "09337160292545321113"
     },
     "user_tz": -540
    },
    "id": "RCynhdVZH1_3"
   },
   "outputs": [],
   "source": [
    "pred_date = forecast.loc[forecast['ds'] > '2021-01-01', ('ds')].unique()"
   ]
  },
  {
   "cell_type": "code",
   "execution_count": 194,
   "metadata": {
    "executionInfo": {
     "elapsed": 787,
     "status": "ok",
     "timestamp": 1631672525628,
     "user": {
      "displayName": "Bosang KIM",
      "photoUrl": "https://lh3.googleusercontent.com/a/default-user=s64",
      "userId": "09337160292545321113"
     },
     "user_tz": -540
    },
    "id": "bIjXFjftIg6C"
   },
   "outputs": [],
   "source": [
    "a = pd.DataFrame(columns=['ds','yhat'])\n",
    "for i in pred_date:\n",
    "  a = a.append(forecast.iloc[forecast.loc[forecast['ds']==i,('ds','yhat')].index])\n",
    "a.reset_index(drop=True, inplace = True)"
   ]
  },
  {
   "cell_type": "code",
   "execution_count": 195,
   "metadata": {
    "colab": {
     "base_uri": "https://localhost:8080/",
     "height": 855
    },
    "executionInfo": {
     "elapsed": 437,
     "status": "ok",
     "timestamp": 1631672528674,
     "user": {
      "displayName": "Bosang KIM",
      "photoUrl": "https://lh3.googleusercontent.com/a/default-user=s64",
      "userId": "09337160292545321113"
     },
     "user_tz": -540
    },
    "id": "oW4mqaSsIk5m",
    "outputId": "9b3d2bec-528a-42a8-94bb-03b702cbd1eb"
   },
   "outputs": [
    {
     "data": {
      "text/html": [
       "<div>\n",
       "<style scoped>\n",
       "    .dataframe tbody tr th:only-of-type {\n",
       "        vertical-align: middle;\n",
       "    }\n",
       "\n",
       "    .dataframe tbody tr th {\n",
       "        vertical-align: top;\n",
       "    }\n",
       "\n",
       "    .dataframe thead th {\n",
       "        text-align: right;\n",
       "    }\n",
       "</style>\n",
       "<table border=\"1\" class=\"dataframe\">\n",
       "  <thead>\n",
       "    <tr style=\"text-align: right;\">\n",
       "      <th></th>\n",
       "      <th>ds</th>\n",
       "      <th>yhat</th>\n",
       "    </tr>\n",
       "  </thead>\n",
       "  <tbody>\n",
       "    <tr>\n",
       "      <th>0</th>\n",
       "      <td>2021-01-04</td>\n",
       "      <td>9.827232</td>\n",
       "    </tr>\n",
       "    <tr>\n",
       "      <th>1</th>\n",
       "      <td>2021-01-11</td>\n",
       "      <td>9.835774</td>\n",
       "    </tr>\n",
       "    <tr>\n",
       "      <th>2</th>\n",
       "      <td>2021-01-18</td>\n",
       "      <td>9.826217</td>\n",
       "    </tr>\n",
       "    <tr>\n",
       "      <th>3</th>\n",
       "      <td>2021-01-25</td>\n",
       "      <td>9.807223</td>\n",
       "    </tr>\n",
       "    <tr>\n",
       "      <th>4</th>\n",
       "      <td>2021-02-01</td>\n",
       "      <td>9.791335</td>\n",
       "    </tr>\n",
       "    <tr>\n",
       "      <th>5</th>\n",
       "      <td>2021-02-08</td>\n",
       "      <td>9.784604</td>\n",
       "    </tr>\n",
       "    <tr>\n",
       "      <th>6</th>\n",
       "      <td>2021-02-15</td>\n",
       "      <td>9.784362</td>\n",
       "    </tr>\n",
       "    <tr>\n",
       "      <th>7</th>\n",
       "      <td>2021-02-22</td>\n",
       "      <td>9.785067</td>\n",
       "    </tr>\n",
       "    <tr>\n",
       "      <th>8</th>\n",
       "      <td>2021-03-01</td>\n",
       "      <td>9.784374</td>\n",
       "    </tr>\n",
       "    <tr>\n",
       "      <th>9</th>\n",
       "      <td>2021-03-08</td>\n",
       "      <td>9.783618</td>\n",
       "    </tr>\n",
       "    <tr>\n",
       "      <th>10</th>\n",
       "      <td>2021-03-15</td>\n",
       "      <td>9.784397</td>\n",
       "    </tr>\n",
       "    <tr>\n",
       "      <th>11</th>\n",
       "      <td>2021-03-22</td>\n",
       "      <td>9.786500</td>\n",
       "    </tr>\n",
       "    <tr>\n",
       "      <th>12</th>\n",
       "      <td>2021-03-29</td>\n",
       "      <td>9.789048</td>\n",
       "    </tr>\n",
       "    <tr>\n",
       "      <th>13</th>\n",
       "      <td>2021-04-05</td>\n",
       "      <td>9.792099</td>\n",
       "    </tr>\n",
       "    <tr>\n",
       "      <th>14</th>\n",
       "      <td>2021-04-12</td>\n",
       "      <td>9.796040</td>\n",
       "    </tr>\n",
       "    <tr>\n",
       "      <th>15</th>\n",
       "      <td>2021-04-19</td>\n",
       "      <td>9.799903</td>\n",
       "    </tr>\n",
       "    <tr>\n",
       "      <th>16</th>\n",
       "      <td>2021-04-26</td>\n",
       "      <td>9.801456</td>\n",
       "    </tr>\n",
       "    <tr>\n",
       "      <th>17</th>\n",
       "      <td>2021-05-03</td>\n",
       "      <td>9.799426</td>\n",
       "    </tr>\n",
       "    <tr>\n",
       "      <th>18</th>\n",
       "      <td>2021-05-10</td>\n",
       "      <td>9.795148</td>\n",
       "    </tr>\n",
       "    <tr>\n",
       "      <th>19</th>\n",
       "      <td>2021-05-17</td>\n",
       "      <td>9.791481</td>\n",
       "    </tr>\n",
       "    <tr>\n",
       "      <th>20</th>\n",
       "      <td>2021-05-24</td>\n",
       "      <td>9.790203</td>\n",
       "    </tr>\n",
       "    <tr>\n",
       "      <th>21</th>\n",
       "      <td>2021-05-31</td>\n",
       "      <td>9.790715</td>\n",
       "    </tr>\n",
       "    <tr>\n",
       "      <th>22</th>\n",
       "      <td>2021-06-07</td>\n",
       "      <td>9.791048</td>\n",
       "    </tr>\n",
       "    <tr>\n",
       "      <th>23</th>\n",
       "      <td>2021-06-14</td>\n",
       "      <td>9.789558</td>\n",
       "    </tr>\n",
       "    <tr>\n",
       "      <th>24</th>\n",
       "      <td>2021-06-21</td>\n",
       "      <td>9.785723</td>\n",
       "    </tr>\n",
       "    <tr>\n",
       "      <th>25</th>\n",
       "      <td>2021-06-28</td>\n",
       "      <td>9.780239</td>\n",
       "    </tr>\n",
       "  </tbody>\n",
       "</table>\n",
       "</div>"
      ],
      "text/plain": [
       "           ds      yhat\n",
       "0  2021-01-04  9.827232\n",
       "1  2021-01-11  9.835774\n",
       "2  2021-01-18  9.826217\n",
       "3  2021-01-25  9.807223\n",
       "4  2021-02-01  9.791335\n",
       "5  2021-02-08  9.784604\n",
       "6  2021-02-15  9.784362\n",
       "7  2021-02-22  9.785067\n",
       "8  2021-03-01  9.784374\n",
       "9  2021-03-08  9.783618\n",
       "10 2021-03-15  9.784397\n",
       "11 2021-03-22  9.786500\n",
       "12 2021-03-29  9.789048\n",
       "13 2021-04-05  9.792099\n",
       "14 2021-04-12  9.796040\n",
       "15 2021-04-19  9.799903\n",
       "16 2021-04-26  9.801456\n",
       "17 2021-05-03  9.799426\n",
       "18 2021-05-10  9.795148\n",
       "19 2021-05-17  9.791481\n",
       "20 2021-05-24  9.790203\n",
       "21 2021-05-31  9.790715\n",
       "22 2021-06-07  9.791048\n",
       "23 2021-06-14  9.789558\n",
       "24 2021-06-21  9.785723\n",
       "25 2021-06-28  9.780239"
      ]
     },
     "execution_count": 195,
     "metadata": {},
     "output_type": "execute_result"
    }
   ],
   "source": [
    "a[['ds','yhat']]"
   ]
  },
  {
   "cell_type": "code",
   "execution_count": null,
   "metadata": {
    "id": "UcRtu6bWIo0D"
   },
   "outputs": [],
   "source": []
  }
 ],
 "metadata": {
  "colab": {
   "collapsed_sections": [],
   "machine_shape": "hm",
   "name": "attention_neuralprophet_test_predict.ipynb",
   "provenance": [],
   "toc_visible": true
  },
  "kernelspec": {
   "display_name": "Python 3",
   "language": "python",
   "name": "python3"
  },
  "language_info": {
   "codemirror_mode": {
    "name": "ipython",
    "version": 3
   },
   "file_extension": ".py",
   "mimetype": "text/x-python",
   "name": "python",
   "nbconvert_exporter": "python",
   "pygments_lexer": "ipython3",
   "version": "3.8.8"
  }
 },
 "nbformat": 4,
 "nbformat_minor": 1
}
